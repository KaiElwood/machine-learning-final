{
 "cells": [
  {
   "cell_type": "code",
   "execution_count": null,
   "metadata": {},
   "outputs": [],
   "source": [
    "import pandas as pd\n",
    "import numpy as np\n",
    "import matplotlib\n",
    "import matplotlib.pyplot as plt \n",
    "import requests\n",
    "import calendar\n",
    "import geopandas as gpd\n",
    "import os.path as os\n",
    "import scipy.stats\n",
    "import seaborn.palettes\n",
    "import seaborn.utils\n",
    "import sys\n",
    "from census import Census\n",
    "# from us import states\n",
    "import http.client, urllib.request, urllib.parse, urllib.error, base64\n",
    "#import config\n",
    "import quickstart"
   ]
  },
  {
   "cell_type": "code",
   "execution_count": null,
   "metadata": {},
   "outputs": [],
   "source": [
    "df= pd.read_csv('fire_dispatch.csv').drop(\"Unnamed: 0\", axis = 1).rename({\"BoroCT2010\":\"boroct2010\"}, axis = 1)\n",
    "df[\"boroct2010\"]= df[\"boroct2010\"].astype(str)\n",
    "df.head()"
   ]
  },
  {
   "cell_type": "code",
   "execution_count": null,
   "metadata": {},
   "outputs": [],
   "source": [
    "READ CENSUS DATA"
   ]
  },
  {
   "cell_type": "code",
   "execution_count": null,
   "metadata": {},
   "outputs": [],
   "source": [
    "labels_to_drop = [\"Unnamed: 0\", \"Unnamed: 0.3\", \"Unnamed: 0.2\", \"Unnamed: 0.1\", \"Unnamed: 0.1.1\", 'pct18under',\n",
    "       'pct18_34', 'pct35_64', 'pct65plus', 'pcthispanic', 'pctnhwhite',\n",
    "       'pctnhblack', 'pctnhaian', 'pctnhasian', 'pctnhhawainpi', 'pctnhother',\n",
    "       'pctnhtwoplus', 'pctownerocch', 'pctrentocch', 'crowding',\n",
    "       'crowdingrenter']\n",
    "census_tract = census_tract.drop(labels_to_drop, axis = 1)\n",
    "census_tract = census_tract[census_tract['year'] == 2019]\n",
    "census_tract = census_tract.fillna(0)\n",
    "\n",
    "# make region key the same as crosswalk file\n",
    "def get_region(x):\n",
    "    y = int(str(x)[:5])\n",
    "    z = str(x)[5:]\n",
    "    match y:\n",
    "        case (36005):\n",
    "            return int(\"2\" + z)\n",
    "        case (36047):\n",
    "            return int(\"3\" + z)\n",
    "        case (36061):\n",
    "            return int(\"1\" + z)\n",
    "        case (36081):\n",
    "            return int(\"4\" + z)\n",
    "        case (36085):\n",
    "            return int(\"5\" + z)\n",
    "census_tract[\"geofips\"] = census_tract[\"geofips\"].apply(lambda x : get_region(x))\n",
    "\n",
    "census_tract"
   ]
  },
  {
   "cell_type": "code",
   "execution_count": null,
   "metadata": {},
   "outputs": [],
   "source": [
    "crosswalk = pd.read_csv('ct_box_xwalk1.csv')\n",
    "crosswalk = crosswalk.sort_values(by=\"borobox\")"
   ]
  },
  {
   "cell_type": "code",
   "execution_count": null,
   "metadata": {},
   "outputs": [],
   "source": [
    "columnNames = ['borobox', 'count', 'totpop', 'popdens', 'areasqmile', 'males', 'females',\n",
    "       'pop18under', 'pop18_34', 'pop35_64', 'pop65plus', 'pophispanic',\n",
    "       'popnhwhite', 'popnhblack', 'popnhaian', 'popnhasian', 'popnhhawainpi',\n",
    "       'popnhother', 'popnhtwoplus', 'housing', 'housingoccupied',\n",
    "       'renterhousing', 'oc_halfless', 'oc_half_1', 'oc_1_onehalf',\n",
    "       'oc_onehalf_2', 'oc_2plus', 'roc_halfless', 'roc_half_1',\n",
    "       'roc_1_onehalf', 'roc_onehalf_2', 'roc_2plus', 'medianyearbuilt',\n",
    "       'mediangrossrent', 'medianhhincome', 'gini', 'year']\n",
    "weighted_borobox = pd.DataFrame(columns = columnNames)\n",
    "numRuns = 0\n",
    "\n",
    "for index, row in crosswalk.iterrows():\n",
    "    box = row[\"borobox\"]\n",
    "    weight = row[\"wgt\"]\n",
    "    try:\n",
    "        tract = int(row[\"boroct2010\"])\n",
    "    except:\n",
    "        continue\n",
    "\n",
    "    try: \n",
    "        \n",
    "        row_census = census_tract.loc[census_tract['geofips'] == tract].iloc[-1]\n",
    "\n",
    "        # ------------ in order to test with smaller datset, uncomment the below three lines ---------\n",
    "        # numRuns += 1\n",
    "        # if numRuns > 10:\n",
    "        #     break\n",
    "        # ------------ end test section ---------------\n",
    "\n",
    "# ---------add new row with borobox specified if row does not exist, otherwise edit existing row\n",
    "        try:            # find existing row\n",
    "            row_weighted = weighted_borobox.loc[weighted_borobox[\"borobox\"] == box] # make copy of existing data to act on it\n",
    "            row_weighted.at[0,'count'] = row_weighted.at[0,'count'] + 1\n",
    "            for i, column in enumerate(columnNames):\n",
    "                if i<2:\n",
    "                    continue\n",
    "                elif (i<32):\n",
    "                    row_weighted.at[0,column] = (row_weighted.at[0,column] + (row_census[column] * weight))\n",
    "                else:\n",
    "                    row_weighted.at[0,column] = row_weighted.at[0,column] + row_census[column]\n",
    "            weighted_borobox.loc[weighted_borobox[\"borobox\"] == box] = row_weighted # paste in finalized new data\n",
    "\n",
    "        except:         # create new row\n",
    "            # create a column that initiates at one, if column is accessed again, increment. add up some columns that require averages. at end, divide to find target numbers.\n",
    "            row_weighted = pd.DataFrame(columns = columnNames)\n",
    "            row_weighted.at[0,'count'] = 1\n",
    "            row_weighted.at[0,'borobox'] = box\n",
    "            for i, column in enumerate(columnNames):\n",
    "                if i<2:\n",
    "                    continue\n",
    "                elif (i<32):\n",
    "                    row_weighted.at[0,column] = (row_census[column] * weight)\n",
    "                else:\n",
    "                    row_weighted.at[0,column] = row_census[column]\n",
    "            weighted_borobox = pd.concat([weighted_borobox,row_weighted])\n",
    "    except:\n",
    "        print(\"error number: \")\n",
    "        continue"
   ]
  },
  {
   "cell_type": "code",
   "execution_count": null,
   "metadata": {},
   "outputs": [],
   "source": [
    "weighted_borobox.sort_values(by='medianhhincome')\n",
    "weighted_borobox = weighted_borobox.reset_index()\n",
    "weighted_borobox"
   ]
  },
  {
   "cell_type": "code",
   "execution_count": null,
   "metadata": {},
   "outputs": [],
   "source": [
    "for index, row in weighted_borobox.iterrows():\n",
    "    instances = int(row[\"count\"])\n",
    "    # print(row.at['medianyearbuilt'])\n",
    "    row.at['medianyearbuilt'] = (row.at['medianyearbuilt']/instances)\n",
    "    row.at['mediangrossrent'] = (row.at['mediangrossrent']/instances)\n",
    "    row.at['medianhhincome'] = (row.at['medianhhincome']/instances)\n",
    "    row.at['gini'] = (row.at['gini']/instances)\n",
    "    row.at['year'] = (row.at['year']/instances)"
   ]
  },
  {
   "cell_type": "code",
   "execution_count": null,
   "metadata": {},
   "outputs": [],
   "source": [
    "for index_label, row_series in weighted_borobox.iterrows():\n",
    "       # print(index_label)\n",
    "       # if indexNum > 10:\n",
    "       #        break\n",
    "       totalPop = row_series.at['totpop']\n",
    "       weighted_borobox.loc[index_label,'pct18under'] = ((row_series.at['pop18under']/totalPop) * 100)\n",
    "       weighted_borobox.loc[index_label,'pct18_34'] = ((row_series.at['pop18_34']/totalPop) * 100)\n",
    "       weighted_borobox.loc[index_label,'pct35_64'] = ((row_series.at['pop35_64']/totalPop) * 100)\n",
    "       weighted_borobox.loc[index_label,'pct65plus'] = ((row_series.at['pop65plus']/totalPop) * 100)\n",
    "       weighted_borobox.loc[index_label,'pcthispanic'] = ((row_series.at['pophispanic']/totalPop) * 100)\n",
    "       weighted_borobox.loc[index_label,'pctnhwhite'] = ((row_series.at['popnhwhite']/totalPop) * 100)\n",
    "       weighted_borobox.loc[index_label,'pctnhblack'] = ((row_series.at['popnhblack']/totalPop) * 100)\n",
    "       weighted_borobox.loc[index_label,'pctnhaian'] = ((row_series.at['popnhaian']/totalPop) * 100)\n",
    "       weighted_borobox.loc[index_label,'pctnhasian'] = ((row_series.at['popnhasian']/totalPop) * 100)\n",
    "       weighted_borobox.loc[index_label,'pctnhhawainpi'] = ((row_series.at['popnhhawainpi']/totalPop) * 100)\n",
    "       weighted_borobox.loc[index_label,'pctnhother'] = ((row_series.at['popnhwhite']/totalPop) * 100)\n",
    "       weighted_borobox.loc[index_label,'pctnhtwoplus'] = ((row_series.at['popnhtwoplus']/totalPop) * 100)\n",
    "       weighted_borobox.loc[index_label,'pctnhaian'] = ((row_series.at['popnhaian']/totalPop) * 100)\n",
    "       weighted_borobox.loc[index_label,'pctownerocch'] = (row_series['housingoccupied'] / row_series['housing'])*100\n",
    "       weighted_borobox.loc[index_label,'pctrentocch'] = (row_series['renterhousing'] / row_series['housing'])*100"
   ]
  },
  {
   "cell_type": "code",
   "execution_count": null,
   "metadata": {},
   "outputs": [],
   "source": [
    "weighted_borobox.to_csv('weighted_borobox.csv')"
   ]
  }
 ],
 "metadata": {
  "language_info": {
   "name": "python"
  },
  "orig_nbformat": 4
 },
 "nbformat": 4,
 "nbformat_minor": 2
}
