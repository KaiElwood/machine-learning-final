{
 "cells": [
  {
   "cell_type": "code",
   "execution_count": 40,
   "metadata": {},
   "outputs": [],
   "source": [
    "# setup\n",
    "import pandas as pd\n",
    "import numpy as np\n",
    "import matplotlib\n",
    "import matplotlib.pyplot as plt \n",
    "import requests\n",
    "import calendar\n",
    "import geopandas as gpd\n",
    "import os.path as os\n",
    "import scipy.stats\n",
    "import seaborn.palettes\n",
    "import seaborn.utils\n",
    "import sys\n",
    "from census import Census\n",
    "from us import states\n",
    "import http.client, urllib.request, urllib.parse, urllib.error, base64\n",
    "#import config\n",
    "import quickstart\n",
    "\n",
    "root= r\"C:/Users/Jennah/Desktop/Code/machine-learning-final\"\n",
    "inp= os.join(root, \"data\", \"2_intermediate\")\n",
    "out= os.join(root, \"data\", \"3_clean\")"
   ]
  },
  {
   "cell_type": "code",
   "execution_count": 41,
   "metadata": {
    "scrolled": true
   },
   "outputs": [
    {
     "name": "stdout",
     "output_type": "stream",
     "text": [
      "Your browser has been opened to visit:\n",
      "\n",
      "    https://accounts.google.com/o/oauth2/auth?client_id=570719947456-53haph7mjc317oel1ujh0kmjbfd499jf.apps.googleusercontent.com&redirect_uri=http%3A%2F%2Flocalhost%3A8080%2F&scope=https%3A%2F%2Fwww.googleapis.com%2Fauth%2Fdrive&access_type=offline&response_type=code\n",
      "\n",
      "Authentication successful.\n"
     ]
    }
   ],
   "source": [
    "from pydrive.auth import GoogleAuth\n",
    "\n",
    "gauth = GoogleAuth()\n",
    "gauth.LocalWebserverAuth() # Creates local webserver and auto handles authentication."
   ]
  },
  {
   "cell_type": "code",
   "execution_count": 42,
   "metadata": {},
   "outputs": [
    {
     "name": "stdout",
     "output_type": "stream",
     "text": [
      "Title: analysis_bbl.csv, ID: 1yYX-ROr1c7fzcQiG6NZ1sh7Ko5gqr_4G\n",
      "Title: analysis_bbl_noacs.csv, ID: 1h-tDpBSslfzqzsJe1ny_ujDnr68RKry3\n",
      "Title: analysis_box.csv, ID: 1Vzjvta98IG9Hg4SfAGcd8JD8FaF3IXwy\n",
      "Title: borobox_convex_hull.geojson, ID: 1SzBNj3Ba-v9MEwuCkZT9e9iAwVYUqx8r\n"
     ]
    }
   ],
   "source": [
    "# files in clean data google drive\n",
    "from pydrive.drive import GoogleDrive\n",
    "drive = GoogleDrive(gauth)\n",
    "fileList = drive.ListFile({'q': \"'1jxSI_nq32-W9kPHKvQkzuNGJ5aIBD2j2' in parents and trashed=false\"}).GetList()\n",
    "for file in fileList:\n",
    "  print('Title: %s, ID: %s' % (file['title'], file['id']))\n",
    "  # Get the folder ID that you want\n",
    "  if(file['title'] == \"To Share\"):\n",
    "      fileID = file['id']"
   ]
  },
  {
   "cell_type": "code",
   "execution_count": 43,
   "metadata": {},
   "outputs": [
    {
     "name": "stdout",
     "output_type": "stream",
     "text": [
      "Title: weighted_borobox.csv, ID: 1H8yM7UH14YdMqi5ASjHMd_dwA4C7-lKe\n",
      "Title: acs_2019_fuel_mobility.csv, ID: 1w3TaiypzzVSIYD9VvhCqwXaNfzkpj9V1\n",
      "Title: acs_2009_2019.csv, ID: 17PvjIPesTzugausfzMi7rTiXahTiHaH1\n",
      "Title: acs_2019only.csv, ID: 1z3-YL8loRQf9Qi6qSQUSwF8Wnwo-YQ5d\n",
      "Title: pluto_df.csv, ID: 1j2KR6Tpa4CTA0k1omVfE52UYlMBMz17o\n",
      "Title: hpd_agg_final.csv, ID: 1nIQD_4GDpg5ldTGgE5XqfiD11mxjrvEH\n",
      "Title: ct_box_xwalk.csv, ID: 1nW-ODlhdUFKhTYzHZQOu3CCZN87oYXel\n",
      "Title: fire_box_sum.csv, ID: 1zYSWlWtgNWsruaEkSSCqyXHIIdq7BEAP\n",
      "Title: census_acs, ID: 1DjJ3pOLAo4MOpgmeNPSXJbRzF_S10fDM\n",
      "Title: hpd_per_bbl.csv, ID: 1xXilfI1zEmyEYE_TtMdawcnmnZlTv__Z\n",
      "Title: hpd_2012_2022_v3.csv, ID: 1HXst8E2ZuPVKvKe_9jmSQwKYppOJjraD\n",
      "Title: pluto_borobox.csv, ID: 1Yf4xIIOBmKU2WIlImat8qaN3z2L239Nw\n",
      "Title: fire_dispatch_tracts.csv, ID: 1psGrpBmGmNHPwM4lsRyiDX9tX5cf_UsO\n",
      "Title: pluto_borobox.geojson, ID: 1UGelHNCzfSwsvbqBzyBX5GkrY_PmPGdp\n",
      "Title: fire_dispatch.csv, ID: 1ulJlwpaezzq_aYV6jZzRWpmXLVlpO8qu\n",
      "Title: dev_permits.csv, ID: 1mH_X0bLa_a1r-hpzwz43HpC7fFcayufp\n",
      "Title: all_vacate.csv, ID: 1WfnTEjOaDNEb3E2vurXS_XkxJ0J1isdN\n",
      "Title: pluto_ct.csv, ID: 1ZLZZS79fi4Z0RFTNMRO6GfkNwughRuej\n",
      "Title: ll84_avgenergy.csv, ID: 1NOKtbGyL3_TBSMp_eqybVaQc67t33yuo\n",
      "Title: fire_vacate.csv, ID: 11LV7007TbrVlfilkSvslDewQRZ9m0F-A\n",
      "Title: speculation_hpd.csv, ID: 1yf86QR6yv2Z9Q6WNINW87RASUsdHPDl6\n",
      "Title: fire_tract_sum.csv, ID: 16PukYkHO7Fgtbx26vdfG2sdUfDGreUnq\n",
      "Title: fire_vacate_bbl.csv, ID: 1caDnIMowquAoJuZi1tDlyEqAS4HhXiU0\n",
      "Title: dob_2012_2022_v2.csv, ID: 1jZoaDMOWDgZZYdDZBIVPjElNhlvwx3IC\n",
      "Title: dob_2012_2022.csv, ID: 1vBwNTewjAQcDOLDWIh8ZYerUJRLYKqFs\n"
     ]
    }
   ],
   "source": [
    "# files in intermediate data\n",
    "from pydrive.drive import GoogleDrive\n",
    "drive = GoogleDrive(gauth)\n",
    "fileList = drive.ListFile({'q': \"'1kiYbPtSYavHQKzyMWtXaLhP-JM2toXRm' in parents and trashed=false\"}).GetList()\n",
    "for file in fileList:\n",
    "  print('Title: %s, ID: %s' % (file['title'], file['id']))\n",
    "  # Get the folder ID that you want\n",
    "  if(file['title'] == \"To Share\"):\n",
    "      fileID = file['id']"
   ]
  },
  {
   "cell_type": "markdown",
   "metadata": {},
   "source": [
    "# Load Fire Dispatch Data"
   ]
  },
  {
   "cell_type": "code",
   "execution_count": 44,
   "metadata": {},
   "outputs": [
    {
     "data": {
      "text/html": [
       "<div>\n",
       "<style scoped>\n",
       "    .dataframe tbody tr th:only-of-type {\n",
       "        vertical-align: middle;\n",
       "    }\n",
       "\n",
       "    .dataframe tbody tr th {\n",
       "        vertical-align: top;\n",
       "    }\n",
       "\n",
       "    .dataframe thead th {\n",
       "        text-align: right;\n",
       "    }\n",
       "</style>\n",
       "<table border=\"1\" class=\"dataframe\">\n",
       "  <thead>\n",
       "    <tr style=\"text-align: right;\">\n",
       "      <th></th>\n",
       "      <th>borobox</th>\n",
       "      <th>engines_assigned_quantity</th>\n",
       "      <th>ladders_assigned_quantity</th>\n",
       "      <th>dispatch_response_seconds_qy</th>\n",
       "      <th>num_fire_ev</th>\n",
       "      <th>avg_fire_ev_yr</th>\n",
       "    </tr>\n",
       "  </thead>\n",
       "  <tbody>\n",
       "    <tr>\n",
       "      <th>0</th>\n",
       "      <td>B0015</td>\n",
       "      <td>0.0</td>\n",
       "      <td>0.000000</td>\n",
       "      <td>0.000000</td>\n",
       "      <td>1</td>\n",
       "      <td>0.0</td>\n",
       "    </tr>\n",
       "    <tr>\n",
       "      <th>1</th>\n",
       "      <td>B0016</td>\n",
       "      <td>0.0</td>\n",
       "      <td>0.000000</td>\n",
       "      <td>0.000000</td>\n",
       "      <td>1</td>\n",
       "      <td>0.0</td>\n",
       "    </tr>\n",
       "    <tr>\n",
       "      <th>2</th>\n",
       "      <td>B0018</td>\n",
       "      <td>3.0</td>\n",
       "      <td>2.000000</td>\n",
       "      <td>16.000000</td>\n",
       "      <td>1</td>\n",
       "      <td>1.0</td>\n",
       "    </tr>\n",
       "    <tr>\n",
       "      <th>3</th>\n",
       "      <td>B0020</td>\n",
       "      <td>3.5</td>\n",
       "      <td>2.333333</td>\n",
       "      <td>32.666667</td>\n",
       "      <td>6</td>\n",
       "      <td>1.2</td>\n",
       "    </tr>\n",
       "    <tr>\n",
       "      <th>4</th>\n",
       "      <td>B0023</td>\n",
       "      <td>3.0</td>\n",
       "      <td>2.000000</td>\n",
       "      <td>42.333333</td>\n",
       "      <td>3</td>\n",
       "      <td>3.0</td>\n",
       "    </tr>\n",
       "  </tbody>\n",
       "</table>\n",
       "</div>"
      ],
      "text/plain": [
       "  borobox  engines_assigned_quantity  ladders_assigned_quantity  \\\n",
       "0   B0015                        0.0                   0.000000   \n",
       "1   B0016                        0.0                   0.000000   \n",
       "2   B0018                        3.0                   2.000000   \n",
       "3   B0020                        3.5                   2.333333   \n",
       "4   B0023                        3.0                   2.000000   \n",
       "\n",
       "   dispatch_response_seconds_qy  num_fire_ev  avg_fire_ev_yr  \n",
       "0                      0.000000            1             0.0  \n",
       "1                      0.000000            1             0.0  \n",
       "2                     16.000000            1             1.0  \n",
       "3                     32.666667            6             1.2  \n",
       "4                     42.333333            3             3.0  "
      ]
     },
     "execution_count": 44,
     "metadata": {},
     "output_type": "execute_result"
    }
   ],
   "source": [
    "fires = drive.CreateFile({'id': '1zYSWlWtgNWsruaEkSSCqyXHIIdq7BEAP'})\n",
    "fires.GetContentFile('fire_dispatch.csv')  \n",
    "\n",
    "df_fires= pd.read_csv('fire_dispatch.csv').drop(\"Unnamed: 0\", axis = 1)\n",
    "df_fires.head()"
   ]
  },
  {
   "cell_type": "markdown",
   "metadata": {},
   "source": [
    "## Load building level data"
   ]
  },
  {
   "cell_type": "code",
   "execution_count": 45,
   "metadata": {
    "scrolled": true
   },
   "outputs": [
    {
     "data": {
      "text/html": [
       "<div>\n",
       "<style scoped>\n",
       "    .dataframe tbody tr th:only-of-type {\n",
       "        vertical-align: middle;\n",
       "    }\n",
       "\n",
       "    .dataframe tbody tr th {\n",
       "        vertical-align: top;\n",
       "    }\n",
       "\n",
       "    .dataframe thead th {\n",
       "        text-align: right;\n",
       "    }\n",
       "</style>\n",
       "<table border=\"1\" class=\"dataframe\">\n",
       "  <thead>\n",
       "    <tr style=\"text-align: right;\">\n",
       "      <th></th>\n",
       "      <th>lotarea</th>\n",
       "      <th>bldgarea</th>\n",
       "      <th>numbldgs</th>\n",
       "      <th>numfloors</th>\n",
       "      <th>unitsres</th>\n",
       "      <th>unitstotal</th>\n",
       "      <th>assessland</th>\n",
       "      <th>assesstot</th>\n",
       "      <th>exempttot</th>\n",
       "      <th>yearbuilt</th>\n",
       "      <th>...</th>\n",
       "      <th>bldgclass_A0</th>\n",
       "      <th>bldgclass_A6</th>\n",
       "      <th>bldgclass_A8</th>\n",
       "      <th>bldgclass_CM</th>\n",
       "      <th>bbl</th>\n",
       "      <th>boroct2010</th>\n",
       "      <th>vacate_ind</th>\n",
       "      <th>borough</th>\n",
       "      <th>landuse</th>\n",
       "      <th>bldgclass</th>\n",
       "    </tr>\n",
       "  </thead>\n",
       "  <tbody>\n",
       "    <tr>\n",
       "      <th>0</th>\n",
       "      <td>2013.0</td>\n",
       "      <td>5555.0</td>\n",
       "      <td>1.0</td>\n",
       "      <td>4.0</td>\n",
       "      <td>6.0</td>\n",
       "      <td>6.0</td>\n",
       "      <td>345150.0</td>\n",
       "      <td>1317150.0</td>\n",
       "      <td>0.0</td>\n",
       "      <td>1899.0</td>\n",
       "      <td>...</td>\n",
       "      <td>0.0</td>\n",
       "      <td>0.0</td>\n",
       "      <td>0.0</td>\n",
       "      <td>0.0</td>\n",
       "      <td>1012090027</td>\n",
       "      <td>1018100</td>\n",
       "      <td>0.0</td>\n",
       "      <td>MN</td>\n",
       "      <td>2.0</td>\n",
       "      <td>C2</td>\n",
       "    </tr>\n",
       "    <tr>\n",
       "      <th>1</th>\n",
       "      <td>2517.0</td>\n",
       "      <td>6895.0</td>\n",
       "      <td>1.0</td>\n",
       "      <td>4.0</td>\n",
       "      <td>10.0</td>\n",
       "      <td>10.0</td>\n",
       "      <td>427500.0</td>\n",
       "      <td>1244700.0</td>\n",
       "      <td>0.0</td>\n",
       "      <td>1891.0</td>\n",
       "      <td>...</td>\n",
       "      <td>0.0</td>\n",
       "      <td>0.0</td>\n",
       "      <td>0.0</td>\n",
       "      <td>0.0</td>\n",
       "      <td>1012090028</td>\n",
       "      <td>1018100</td>\n",
       "      <td>0.0</td>\n",
       "      <td>MN</td>\n",
       "      <td>2.0</td>\n",
       "      <td>C5</td>\n",
       "    </tr>\n",
       "    <tr>\n",
       "      <th>2</th>\n",
       "      <td>10570.0</td>\n",
       "      <td>127289.0</td>\n",
       "      <td>1.0</td>\n",
       "      <td>17.0</td>\n",
       "      <td>69.0</td>\n",
       "      <td>69.0</td>\n",
       "      <td>2616300.0</td>\n",
       "      <td>12195900.0</td>\n",
       "      <td>136178.0</td>\n",
       "      <td>1930.0</td>\n",
       "      <td>...</td>\n",
       "      <td>0.0</td>\n",
       "      <td>0.0</td>\n",
       "      <td>0.0</td>\n",
       "      <td>0.0</td>\n",
       "      <td>1012090037</td>\n",
       "      <td>1018100</td>\n",
       "      <td>0.0</td>\n",
       "      <td>MN</td>\n",
       "      <td>3.0</td>\n",
       "      <td>D4</td>\n",
       "    </tr>\n",
       "    <tr>\n",
       "      <th>3</th>\n",
       "      <td>3926.0</td>\n",
       "      <td>20358.0</td>\n",
       "      <td>1.0</td>\n",
       "      <td>6.0</td>\n",
       "      <td>25.0</td>\n",
       "      <td>25.0</td>\n",
       "      <td>490500.0</td>\n",
       "      <td>1929600.0</td>\n",
       "      <td>92325.0</td>\n",
       "      <td>1961.0</td>\n",
       "      <td>...</td>\n",
       "      <td>0.0</td>\n",
       "      <td>0.0</td>\n",
       "      <td>0.0</td>\n",
       "      <td>0.0</td>\n",
       "      <td>1012090049</td>\n",
       "      <td>1018100</td>\n",
       "      <td>0.0</td>\n",
       "      <td>MN</td>\n",
       "      <td>3.0</td>\n",
       "      <td>D4</td>\n",
       "    </tr>\n",
       "    <tr>\n",
       "      <th>4</th>\n",
       "      <td>5035.0</td>\n",
       "      <td>21258.0</td>\n",
       "      <td>1.0</td>\n",
       "      <td>6.0</td>\n",
       "      <td>12.0</td>\n",
       "      <td>12.0</td>\n",
       "      <td>585000.0</td>\n",
       "      <td>1414350.0</td>\n",
       "      <td>15640.0</td>\n",
       "      <td>1905.0</td>\n",
       "      <td>...</td>\n",
       "      <td>0.0</td>\n",
       "      <td>0.0</td>\n",
       "      <td>0.0</td>\n",
       "      <td>0.0</td>\n",
       "      <td>1012090051</td>\n",
       "      <td>1018100</td>\n",
       "      <td>0.0</td>\n",
       "      <td>MN</td>\n",
       "      <td>3.0</td>\n",
       "      <td>D4</td>\n",
       "    </tr>\n",
       "  </tbody>\n",
       "</table>\n",
       "<p>5 rows × 160 columns</p>\n",
       "</div>"
      ],
      "text/plain": [
       "   lotarea  bldgarea  numbldgs  numfloors  unitsres  unitstotal  assessland  \\\n",
       "0   2013.0    5555.0       1.0        4.0       6.0         6.0    345150.0   \n",
       "1   2517.0    6895.0       1.0        4.0      10.0        10.0    427500.0   \n",
       "2  10570.0  127289.0       1.0       17.0      69.0        69.0   2616300.0   \n",
       "3   3926.0   20358.0       1.0        6.0      25.0        25.0    490500.0   \n",
       "4   5035.0   21258.0       1.0        6.0      12.0        12.0    585000.0   \n",
       "\n",
       "    assesstot  exempttot  yearbuilt  ...  bldgclass_A0  bldgclass_A6  \\\n",
       "0   1317150.0        0.0     1899.0  ...           0.0           0.0   \n",
       "1   1244700.0        0.0     1891.0  ...           0.0           0.0   \n",
       "2  12195900.0   136178.0     1930.0  ...           0.0           0.0   \n",
       "3   1929600.0    92325.0     1961.0  ...           0.0           0.0   \n",
       "4   1414350.0    15640.0     1905.0  ...           0.0           0.0   \n",
       "\n",
       "   bldgclass_A8  bldgclass_CM         bbl  boroct2010  vacate_ind  borough  \\\n",
       "0           0.0           0.0  1012090027     1018100         0.0       MN   \n",
       "1           0.0           0.0  1012090028     1018100         0.0       MN   \n",
       "2           0.0           0.0  1012090037     1018100         0.0       MN   \n",
       "3           0.0           0.0  1012090049     1018100         0.0       MN   \n",
       "4           0.0           0.0  1012090051     1018100         0.0       MN   \n",
       "\n",
       "   landuse  bldgclass  \n",
       "0      2.0         C2  \n",
       "1      2.0         C5  \n",
       "2      3.0         D4  \n",
       "3      3.0         D4  \n",
       "4      3.0         D4  \n",
       "\n",
       "[5 rows x 160 columns]"
      ]
     },
     "execution_count": 45,
     "metadata": {},
     "output_type": "execute_result"
    }
   ],
   "source": [
    "csv = drive.CreateFile({'id': '1yYX-ROr1c7fzcQiG6NZ1sh7Ko5gqr_4G'})\n",
    "csv.GetContentFile('bld_predictors.csv')  \n",
    "\n",
    "df_bld= pd.read_csv('bld_predictors.csv').drop(\"Unnamed: 0\", axis = 1)\n",
    "df_bld.head()"
   ]
  },
  {
   "cell_type": "code",
   "execution_count": 46,
   "metadata": {},
   "outputs": [],
   "source": [
    "# drop missing bbl values\n",
    "df_bld= df_bld.drop(df_bld[df_bld[\"bbl\"].isna()].index, axis = 0)"
   ]
  },
  {
   "cell_type": "code",
   "execution_count": 47,
   "metadata": {},
   "outputs": [
    {
     "data": {
      "text/html": [
       "<div>\n",
       "<style scoped>\n",
       "    .dataframe tbody tr th:only-of-type {\n",
       "        vertical-align: middle;\n",
       "    }\n",
       "\n",
       "    .dataframe tbody tr th {\n",
       "        vertical-align: top;\n",
       "    }\n",
       "\n",
       "    .dataframe thead th {\n",
       "        text-align: right;\n",
       "    }\n",
       "</style>\n",
       "<table border=\"1\" class=\"dataframe\">\n",
       "  <thead>\n",
       "    <tr style=\"text-align: right;\">\n",
       "      <th></th>\n",
       "      <th>bbl</th>\n",
       "      <th>ct2010</th>\n",
       "      <th>geom_point</th>\n",
       "      <th>location</th>\n",
       "      <th>latitude</th>\n",
       "      <th>zip</th>\n",
       "      <th>borobox</th>\n",
       "      <th>communitydistict</th>\n",
       "      <th>longitude</th>\n",
       "      <th>box_type</th>\n",
       "      <th>citycouncil</th>\n",
       "      <th>borough</th>\n",
       "      <th>dist</th>\n",
       "    </tr>\n",
       "  </thead>\n",
       "  <tbody>\n",
       "    <tr>\n",
       "      <th>0</th>\n",
       "      <td>3042270037</td>\n",
       "      <td>1194.0</td>\n",
       "      <td>POINT (1018574.469941045 184812.8882210586)</td>\n",
       "      <td>BELMONT AVE &amp; MILFORD ST</td>\n",
       "      <td>40.673385</td>\n",
       "      <td>11208.0</td>\n",
       "      <td>B1826</td>\n",
       "      <td>BK05</td>\n",
       "      <td>-73.876800</td>\n",
       "      <td>ERS</td>\n",
       "      <td>37.0</td>\n",
       "      <td>Brooklyn</td>\n",
       "      <td>234.277634</td>\n",
       "    </tr>\n",
       "    <tr>\n",
       "      <th>1</th>\n",
       "      <td>3042670001</td>\n",
       "      <td>1208.0</td>\n",
       "      <td>POINT (1020385.163045117 183998.5145042881)</td>\n",
       "      <td>BLAKE AVE &amp; EUCLID AVE</td>\n",
       "      <td>40.671327</td>\n",
       "      <td>11208.0</td>\n",
       "      <td>B1838</td>\n",
       "      <td>BK05</td>\n",
       "      <td>-73.870925</td>\n",
       "      <td>ERS</td>\n",
       "      <td>42.0</td>\n",
       "      <td>Brooklyn</td>\n",
       "      <td>348.769018</td>\n",
       "    </tr>\n",
       "    <tr>\n",
       "      <th>2</th>\n",
       "      <td>3055400063</td>\n",
       "      <td>248.0</td>\n",
       "      <td>POINT (987459.9707733953 164891.168247966)</td>\n",
       "      <td>20 AVE &amp; 63 ST</td>\n",
       "      <td>40.617684</td>\n",
       "      <td>11204.0</td>\n",
       "      <td>B2859</td>\n",
       "      <td>BK11</td>\n",
       "      <td>-73.984652</td>\n",
       "      <td>ERS</td>\n",
       "      <td>47.0</td>\n",
       "      <td>Brooklyn</td>\n",
       "      <td>1198.302557</td>\n",
       "    </tr>\n",
       "    <tr>\n",
       "      <th>3</th>\n",
       "      <td>3029077506</td>\n",
       "      <td>477.0</td>\n",
       "      <td>POINT (1000672.538031318 199913.5662632599)</td>\n",
       "      <td>MASPETH AVE &amp; CONSELYEA ST</td>\n",
       "      <td>40.715519</td>\n",
       "      <td>11211.0</td>\n",
       "      <td>B0184</td>\n",
       "      <td>BK01</td>\n",
       "      <td>-73.941228</td>\n",
       "      <td>BARS</td>\n",
       "      <td>34.0</td>\n",
       "      <td>Brooklyn</td>\n",
       "      <td>139.662288</td>\n",
       "    </tr>\n",
       "    <tr>\n",
       "      <th>4</th>\n",
       "      <td>3055440004</td>\n",
       "      <td>250.0</td>\n",
       "      <td>POINT (985192.8136614707 166406.6672442852)</td>\n",
       "      <td>15 AVE &amp; 67 ST</td>\n",
       "      <td>40.622155</td>\n",
       "      <td>11219.0</td>\n",
       "      <td>B2805</td>\n",
       "      <td>BK11</td>\n",
       "      <td>-73.998333</td>\n",
       "      <td>ERS</td>\n",
       "      <td>38.0</td>\n",
       "      <td>Brooklyn</td>\n",
       "      <td>666.477552</td>\n",
       "    </tr>\n",
       "  </tbody>\n",
       "</table>\n",
       "</div>"
      ],
      "text/plain": [
       "          bbl  ct2010                                   geom_point  \\\n",
       "0  3042270037  1194.0  POINT (1018574.469941045 184812.8882210586)   \n",
       "1  3042670001  1208.0  POINT (1020385.163045117 183998.5145042881)   \n",
       "2  3055400063   248.0   POINT (987459.9707733953 164891.168247966)   \n",
       "3  3029077506   477.0  POINT (1000672.538031318 199913.5662632599)   \n",
       "4  3055440004   250.0  POINT (985192.8136614707 166406.6672442852)   \n",
       "\n",
       "                     location   latitude      zip borobox communitydistict  \\\n",
       "0    BELMONT AVE & MILFORD ST  40.673385  11208.0   B1826             BK05   \n",
       "1      BLAKE AVE & EUCLID AVE  40.671327  11208.0   B1838             BK05   \n",
       "2              20 AVE & 63 ST  40.617684  11204.0   B2859             BK11   \n",
       "3  MASPETH AVE & CONSELYEA ST  40.715519  11211.0   B0184             BK01   \n",
       "4              15 AVE & 67 ST  40.622155  11219.0   B2805             BK11   \n",
       "\n",
       "   longitude box_type  citycouncil   borough         dist  \n",
       "0 -73.876800      ERS         37.0  Brooklyn   234.277634  \n",
       "1 -73.870925      ERS         42.0  Brooklyn   348.769018  \n",
       "2 -73.984652      ERS         47.0  Brooklyn  1198.302557  \n",
       "3 -73.941228     BARS         34.0  Brooklyn   139.662288  \n",
       "4 -73.998333      ERS         38.0  Brooklyn   666.477552  "
      ]
     },
     "execution_count": 47,
     "metadata": {},
     "output_type": "execute_result"
    }
   ],
   "source": [
    "## load borobox/bbl crosswalk\n",
    "box = drive.CreateFile({'id': '1Yf4xIIOBmKU2WIlImat8qaN3z2L239Nw'})\n",
    "box.GetContentFile('pluto_box.csv')  \n",
    "\n",
    "df_box= pd.read_csv('pluto_box.csv').drop(\"Unnamed: 0\", axis = 1)\n",
    "df_box.head()"
   ]
  },
  {
   "cell_type": "code",
   "execution_count": null,
   "metadata": {},
   "outputs": [],
   "source": [
    "df_bld_box= pd.merge(df_bld, df_box[[\"bbl\", \"borobox\", \"dist\"]], on = \"bbl\", indicator = True, how = \"outer\")"
   ]
  },
  {
   "cell_type": "code",
   "execution_count": null,
   "metadata": {},
   "outputs": [],
   "source": [
    "df_bld_box[\"_merge\"].value_counts()\n",
    "df_bld_box= df_bld_box.loc[df_bld_box[\"_merge\"] == \"both\", :]\n",
    "\n",
    "assert (df_bld_box[\"_merge\"] == \"both\").all()\n",
    "df_bld_box.drop(\"_merge\", axis = 1, inplace = True)"
   ]
  },
  {
   "cell_type": "code",
   "execution_count": null,
   "metadata": {},
   "outputs": [],
   "source": [
    "landusecols = [\"landuse_\" + '0' + str(x) for x in range(1,5)]\n",
    "bldgclasscols = [\"bldgclass_\" + str(x) for x in df_bld[\"bldgclass\"].unique()]"
   ]
  },
  {
   "cell_type": "code",
   "execution_count": null,
   "metadata": {
    "scrolled": false
   },
   "outputs": [],
   "source": [
    "## load weighted census data\n",
    "wgt_census = drive.CreateFile({'id': '1H8yM7UH14YdMqi5ASjHMd_dwA4C7-lKe'})\n",
    "wgt_census.GetContentFile('wgt_census.csv')  \n",
    "\n",
    "df_wgt_census= pd.read_csv('wgt_census.csv').drop([\"Unnamed: 0\", \"index\"], axis = 1)\n",
    "df_wgt_census.head()"
   ]
  },
  {
   "cell_type": "code",
   "execution_count": null,
   "metadata": {},
   "outputs": [],
   "source": [
    "df_bld.columns"
   ]
  },
  {
   "cell_type": "code",
   "execution_count": null,
   "metadata": {},
   "outputs": [],
   "source": [
    "# load predictors and predictors for acs\n",
    "predictors_acs= [x for x in df_wgt_census if x not in [\"borobox\", \"count\"]]\n",
    "predictors = [x for x in df_bld.columns if x not in [\"boroct2010\", \"borough\", \"bbl\",\"landuse\",\n",
    "                                                     \"bldgclass\", \"bldgclass_cat\", \"landuse_cat\"]+predictors_acs]\n",
    "predictors_full= predictors + predictors_acs + landusecols + bldgclasscols\n",
    "df_box_sum= df_bld_box.groupby(\"borobox\", as_index = False)[predictors].apply(lambda x: x.mean())\n",
    "df_box_sum"
   ]
  },
  {
   "cell_type": "code",
   "execution_count": null,
   "metadata": {},
   "outputs": [],
   "source": [
    "df_box_acs= pd.merge(df_box_sum, df_wgt_census, on = \"borobox\", indicator = True)\n",
    "assert all(df_box_acs[\"_merge\"] == \"both\")\n",
    "\n",
    "# drop merge var\n",
    "df_box_acs= df_box_acs.drop(\"_merge\", axis = 1)"
   ]
  },
  {
   "cell_type": "markdown",
   "metadata": {},
   "source": [
    "## Merge to outcomes"
   ]
  },
  {
   "cell_type": "code",
   "execution_count": null,
   "metadata": {},
   "outputs": [],
   "source": [
    "df_box_final= pd.merge(df_box_acs, df_fires, on = \"borobox\", indicator = True, how = \"left\")\n",
    "df_box_final.head()"
   ]
  },
  {
   "cell_type": "code",
   "execution_count": null,
   "metadata": {},
   "outputs": [],
   "source": [
    "print(df_box_final.shape)\n",
    "df_box_final[\"_merge\"].value_counts()\n",
    "\n",
    "assert (df_box_final[\"_merge\"] == \"both\").all()\n",
    "df_box_final.drop(\"_merge\", axis = 1, inplace = True)"
   ]
  },
  {
   "cell_type": "code",
   "execution_count": null,
   "metadata": {
    "scrolled": true
   },
   "outputs": [],
   "source": [
    "## investigate missing values\n",
    "df_box_final.loc[df_box_final[\"medianhhincome\"].isna(), :]"
   ]
  },
  {
   "cell_type": "code",
   "execution_count": null,
   "metadata": {},
   "outputs": [],
   "source": [
    "# investigate/fill missing values\n",
    "print(df_box_final.isna().sum(axis = 0).sort_values(ascending = False))"
   ]
  },
  {
   "cell_type": "markdown",
   "metadata": {},
   "source": [
    "## Export analytic file"
   ]
  },
  {
   "cell_type": "code",
   "execution_count": null,
   "metadata": {},
   "outputs": [],
   "source": [
    "df_box_final.to_csv(os.join(root, \"data\", \"3_clean\", \"analysis_box.csv\"))"
   ]
  },
  {
   "cell_type": "code",
   "execution_count": null,
   "metadata": {},
   "outputs": [],
   "source": []
  }
 ],
 "metadata": {
  "colab": {
   "authorship_tag": "ABX9TyMorEa7Z8ODUCEPTOlT1br+",
   "collapsed_sections": [],
   "include_colab_link": true,
   "name": "nyc fire risk",
   "provenance": []
  },
  "kernelspec": {
   "display_name": "geo_env",
   "language": "python",
   "name": "geo_env"
  },
  "language_info": {
   "codemirror_mode": {
    "name": "ipython",
    "version": 3
   },
   "file_extension": ".py",
   "mimetype": "text/x-python",
   "name": "python",
   "nbconvert_exporter": "python",
   "pygments_lexer": "ipython3",
   "version": "3.9.7"
  }
 },
 "nbformat": 4,
 "nbformat_minor": 1
}
