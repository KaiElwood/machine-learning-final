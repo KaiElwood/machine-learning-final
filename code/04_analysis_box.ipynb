{
 "cells": [
  {
   "cell_type": "code",
   "execution_count": 69,
   "id": "a018be8b",
   "metadata": {},
   "outputs": [],
   "source": [
    "# setup\n",
    "import pandas as pd\n",
    "import numpy as np\n",
    "import matplotlib\n",
    "import matplotlib.pyplot as plt \n",
    "import requests\n",
    "import calendar\n",
    "import geopandas as gpd\n",
    "import os.path as os\n",
    "import scipy.stats\n",
    "import seaborn.palettes\n",
    "import seaborn.utils\n",
    "import sys\n",
    "from census import Census\n",
    "from us import states\n",
    "import http.client, urllib.request, urllib.parse, urllib.error, base64\n",
    "import config\n",
    "\n",
    "from sklearn.model_selection import GridSearchCV\n",
    "\n",
    "root= r\"C:/Users/Jennah/Desktop/Code/machine-learning-final\"\n",
    "inp= os.join(root, \"data\", \"3_clean\")\n",
    "interm= os.join(root, \"data\", \"2_intermediate\")\n",
    "\n",
    "plots= os.join(root, \"code\", \"plots\")"
   ]
  },
  {
   "cell_type": "code",
   "execution_count": 70,
   "id": "f5a1d533",
   "metadata": {},
   "outputs": [
    {
     "name": "stdout",
     "output_type": "stream",
     "text": [
      "Your browser has been opened to visit:\n",
      "\n",
      "    https://accounts.google.com/o/oauth2/auth?client_id=570719947456-53haph7mjc317oel1ujh0kmjbfd499jf.apps.googleusercontent.com&redirect_uri=http%3A%2F%2Flocalhost%3A8080%2F&scope=https%3A%2F%2Fwww.googleapis.com%2Fauth%2Fdrive&access_type=offline&response_type=code\n",
      "\n",
      "Authentication successful.\n"
     ]
    }
   ],
   "source": [
    "from pydrive.auth import GoogleAuth\n",
    "\n",
    "gauth = GoogleAuth()\n",
    "gauth.LocalWebserverAuth() # Creates local webserver and auto handles authentication."
   ]
  },
  {
   "cell_type": "code",
   "execution_count": 71,
   "id": "c20fb011",
   "metadata": {},
   "outputs": [
    {
     "name": "stdout",
     "output_type": "stream",
     "text": [
      "Title: analysis_bbl.csv, ID: 1yYX-ROr1c7fzcQiG6NZ1sh7Ko5gqr_4G\n",
      "Title: borobox_convex_hull.geojson, ID: 1SzBNj3Ba-v9MEwuCkZT9e9iAwVYUqx8r\n",
      "Title: analysis_bbl_noacs.csv, ID: 1h-tDpBSslfzqzsJe1ny_ujDnr68RKry3\n",
      "Title: analysis_box.csv, ID: 1Vzjvta98IG9Hg4SfAGcd8JD8FaF3IXwy\n"
     ]
    }
   ],
   "source": [
    "# files in clean data google drive\n",
    "from pydrive.drive import GoogleDrive\n",
    "drive = GoogleDrive(gauth)\n",
    "fileList = drive.ListFile({'q': \"'1jxSI_nq32-W9kPHKvQkzuNGJ5aIBD2j2' in parents and trashed=false\"}).GetList()\n",
    "for file in fileList:\n",
    "  print('Title: %s, ID: %s' % (file['title'], file['id']))\n",
    "  # Get the folder ID that you want\n",
    "  if(file['title'] == \"To Share\"):\n",
    "      fileID = file['id']"
   ]
  },
  {
   "cell_type": "markdown",
   "id": "d18ea72d",
   "metadata": {},
   "source": [
    "## Load analysis file"
   ]
  },
  {
   "cell_type": "code",
   "execution_count": 73,
   "id": "c6d3b78c",
   "metadata": {},
   "outputs": [
    {
     "data": {
      "text/html": [
       "<div>\n",
       "<style scoped>\n",
       "    .dataframe tbody tr th:only-of-type {\n",
       "        vertical-align: middle;\n",
       "    }\n",
       "\n",
       "    .dataframe tbody tr th {\n",
       "        vertical-align: top;\n",
       "    }\n",
       "\n",
       "    .dataframe thead th {\n",
       "        text-align: right;\n",
       "    }\n",
       "</style>\n",
       "<table border=\"1\" class=\"dataframe\">\n",
       "  <thead>\n",
       "    <tr style=\"text-align: right;\">\n",
       "      <th></th>\n",
       "      <th>borobox</th>\n",
       "      <th>lotarea</th>\n",
       "      <th>bldgarea</th>\n",
       "      <th>numbldgs</th>\n",
       "      <th>numfloors</th>\n",
       "      <th>unitsres</th>\n",
       "      <th>unitstotal</th>\n",
       "      <th>assessland</th>\n",
       "      <th>assesstot</th>\n",
       "      <th>exempttot</th>\n",
       "      <th>...</th>\n",
       "      <th>pctnhtwoplus</th>\n",
       "      <th>pctownerocch</th>\n",
       "      <th>pctrentocch</th>\n",
       "      <th>crowding</th>\n",
       "      <th>crowdingrenter</th>\n",
       "      <th>engines_assigned_quantity</th>\n",
       "      <th>ladders_assigned_quantity</th>\n",
       "      <th>dispatch_response_seconds_qy</th>\n",
       "      <th>num_fire_ev</th>\n",
       "      <th>avg_fire_ev_yr</th>\n",
       "    </tr>\n",
       "  </thead>\n",
       "  <tbody>\n",
       "    <tr>\n",
       "      <th>0</th>\n",
       "      <td>B0020</td>\n",
       "      <td>3457.956522</td>\n",
       "      <td>9239.391304</td>\n",
       "      <td>1.173913</td>\n",
       "      <td>3.521739</td>\n",
       "      <td>9.000000</td>\n",
       "      <td>9.043478</td>\n",
       "      <td>3.718826e+04</td>\n",
       "      <td>8.482943e+05</td>\n",
       "      <td>2.937391e+03</td>\n",
       "      <td>...</td>\n",
       "      <td>3.109101</td>\n",
       "      <td>17.874693</td>\n",
       "      <td>82.125307</td>\n",
       "      <td>6.511057</td>\n",
       "      <td>6.806283</td>\n",
       "      <td>3.500000</td>\n",
       "      <td>2.333333</td>\n",
       "      <td>32.666667</td>\n",
       "      <td>6</td>\n",
       "      <td>1.200000</td>\n",
       "    </tr>\n",
       "    <tr>\n",
       "      <th>1</th>\n",
       "      <td>B0023</td>\n",
       "      <td>26081.875000</td>\n",
       "      <td>209572.375000</td>\n",
       "      <td>1.000000</td>\n",
       "      <td>18.750000</td>\n",
       "      <td>229.750000</td>\n",
       "      <td>231.125000</td>\n",
       "      <td>1.322048e+06</td>\n",
       "      <td>1.219295e+07</td>\n",
       "      <td>2.589945e+06</td>\n",
       "      <td>...</td>\n",
       "      <td>4.795929</td>\n",
       "      <td>10.082423</td>\n",
       "      <td>89.917577</td>\n",
       "      <td>8.626047</td>\n",
       "      <td>7.280303</td>\n",
       "      <td>3.000000</td>\n",
       "      <td>2.000000</td>\n",
       "      <td>42.333333</td>\n",
       "      <td>3</td>\n",
       "      <td>3.000000</td>\n",
       "    </tr>\n",
       "    <tr>\n",
       "      <th>2</th>\n",
       "      <td>B0024</td>\n",
       "      <td>2754.847826</td>\n",
       "      <td>4832.108696</td>\n",
       "      <td>1.086957</td>\n",
       "      <td>3.217391</td>\n",
       "      <td>5.695652</td>\n",
       "      <td>5.847826</td>\n",
       "      <td>4.959654e+04</td>\n",
       "      <td>5.346010e+05</td>\n",
       "      <td>4.643715e+04</td>\n",
       "      <td>...</td>\n",
       "      <td>4.842301</td>\n",
       "      <td>9.965636</td>\n",
       "      <td>90.034364</td>\n",
       "      <td>8.719931</td>\n",
       "      <td>7.156489</td>\n",
       "      <td>3.200000</td>\n",
       "      <td>2.040000</td>\n",
       "      <td>36.880000</td>\n",
       "      <td>25</td>\n",
       "      <td>1.923077</td>\n",
       "    </tr>\n",
       "    <tr>\n",
       "      <th>3</th>\n",
       "      <td>B0025</td>\n",
       "      <td>61653.000000</td>\n",
       "      <td>85292.250000</td>\n",
       "      <td>1.250000</td>\n",
       "      <td>10.750000</td>\n",
       "      <td>101.500000</td>\n",
       "      <td>102.000000</td>\n",
       "      <td>8.558175e+05</td>\n",
       "      <td>3.580575e+06</td>\n",
       "      <td>2.746800e+06</td>\n",
       "      <td>...</td>\n",
       "      <td>4.842301</td>\n",
       "      <td>9.965636</td>\n",
       "      <td>90.034364</td>\n",
       "      <td>8.719931</td>\n",
       "      <td>7.156489</td>\n",
       "      <td>2.400000</td>\n",
       "      <td>1.600000</td>\n",
       "      <td>15.600000</td>\n",
       "      <td>5</td>\n",
       "      <td>1.666667</td>\n",
       "    </tr>\n",
       "    <tr>\n",
       "      <th>4</th>\n",
       "      <td>B0027</td>\n",
       "      <td>3888.574713</td>\n",
       "      <td>8242.965517</td>\n",
       "      <td>1.126437</td>\n",
       "      <td>3.183908</td>\n",
       "      <td>7.080460</td>\n",
       "      <td>7.402299</td>\n",
       "      <td>4.881548e+04</td>\n",
       "      <td>6.619610e+05</td>\n",
       "      <td>1.669940e+05</td>\n",
       "      <td>...</td>\n",
       "      <td>4.842301</td>\n",
       "      <td>9.965636</td>\n",
       "      <td>90.034364</td>\n",
       "      <td>8.719931</td>\n",
       "      <td>7.156489</td>\n",
       "      <td>3.545455</td>\n",
       "      <td>2.340909</td>\n",
       "      <td>32.181818</td>\n",
       "      <td>44</td>\n",
       "      <td>2.933333</td>\n",
       "    </tr>\n",
       "  </tbody>\n",
       "</table>\n",
       "<p>5 rows × 80 columns</p>\n",
       "</div>"
      ],
      "text/plain": [
       "  borobox       lotarea       bldgarea  numbldgs  numfloors    unitsres  \\\n",
       "0   B0020   3457.956522    9239.391304  1.173913   3.521739    9.000000   \n",
       "1   B0023  26081.875000  209572.375000  1.000000  18.750000  229.750000   \n",
       "2   B0024   2754.847826    4832.108696  1.086957   3.217391    5.695652   \n",
       "3   B0025  61653.000000   85292.250000  1.250000  10.750000  101.500000   \n",
       "4   B0027   3888.574713    8242.965517  1.126437   3.183908    7.080460   \n",
       "\n",
       "   unitstotal    assessland     assesstot     exempttot  ...  pctnhtwoplus  \\\n",
       "0    9.043478  3.718826e+04  8.482943e+05  2.937391e+03  ...      3.109101   \n",
       "1  231.125000  1.322048e+06  1.219295e+07  2.589945e+06  ...      4.795929   \n",
       "2    5.847826  4.959654e+04  5.346010e+05  4.643715e+04  ...      4.842301   \n",
       "3  102.000000  8.558175e+05  3.580575e+06  2.746800e+06  ...      4.842301   \n",
       "4    7.402299  4.881548e+04  6.619610e+05  1.669940e+05  ...      4.842301   \n",
       "\n",
       "   pctownerocch  pctrentocch  crowding  crowdingrenter  \\\n",
       "0     17.874693    82.125307  6.511057        6.806283   \n",
       "1     10.082423    89.917577  8.626047        7.280303   \n",
       "2      9.965636    90.034364  8.719931        7.156489   \n",
       "3      9.965636    90.034364  8.719931        7.156489   \n",
       "4      9.965636    90.034364  8.719931        7.156489   \n",
       "\n",
       "   engines_assigned_quantity  ladders_assigned_quantity  \\\n",
       "0                   3.500000                   2.333333   \n",
       "1                   3.000000                   2.000000   \n",
       "2                   3.200000                   2.040000   \n",
       "3                   2.400000                   1.600000   \n",
       "4                   3.545455                   2.340909   \n",
       "\n",
       "   dispatch_response_seconds_qy  num_fire_ev  avg_fire_ev_yr  \n",
       "0                     32.666667            6        1.200000  \n",
       "1                     42.333333            3        3.000000  \n",
       "2                     36.880000           25        1.923077  \n",
       "3                     15.600000            5        1.666667  \n",
       "4                     32.181818           44        2.933333  \n",
       "\n",
       "[5 rows x 80 columns]"
      ]
     },
     "execution_count": 73,
     "metadata": {},
     "output_type": "execute_result"
    }
   ],
   "source": [
    "df_box = drive.CreateFile({'id': '1Vzjvta98IG9Hg4SfAGcd8JD8FaF3IXwy'})\n",
    "df_box.GetContentFile('analysis_box.csv')  \n",
    "\n",
    "df_box= pd.read_csv('analysis_box.csv').drop([\"Unnamed: 0\"], axis = 1)\n",
    "df_box.head()"
   ]
  },
  {
   "cell_type": "code",
   "execution_count": 77,
   "id": "f0440ce1",
   "metadata": {},
   "outputs": [],
   "source": [
    "assert df_box.dropna().shape[0] == df_box.shape[0]"
   ]
  },
  {
   "cell_type": "code",
   "execution_count": 60,
   "id": "6798bf90",
   "metadata": {},
   "outputs": [
    {
     "data": {
      "text/plain": [
       "['lotarea',\n",
       " 'bldgarea',\n",
       " 'numbldgs',\n",
       " 'numfloors',\n",
       " 'unitsres',\n",
       " 'unitstotal',\n",
       " 'assessland',\n",
       " 'assesstot',\n",
       " 'exempttot',\n",
       " 'yearbuilt',\n",
       " 'holc_AB',\n",
       " 'holc_CD',\n",
       " 'holc_D',\n",
       " 'tot_hpd_vio',\n",
       " 'hpd_fire_vio',\n",
       " 'hpd_b_c_vio',\n",
       " 'viol_count_per_unit',\n",
       " 'hpd_fire_vio_per_unit',\n",
       " 'hpd_b_c_vio_per_unit',\n",
       " 'AL',\n",
       " 'NB',\n",
       " 'average_energy_usage',\n",
       " 'average_energy_usage_mi',\n",
       " 'totpop',\n",
       " 'popdens',\n",
       " 'areasqmile',\n",
       " 'males',\n",
       " 'females',\n",
       " 'pop18under',\n",
       " 'pop18_34',\n",
       " 'pop35_64',\n",
       " 'pop65plus',\n",
       " 'pophispanic',\n",
       " 'popnhwhite',\n",
       " 'popnhblack',\n",
       " 'popnhaian',\n",
       " 'popnhasian',\n",
       " 'popnhhawainpi',\n",
       " 'popnhother',\n",
       " 'popnhtwoplus',\n",
       " 'housing',\n",
       " 'housingoccupied',\n",
       " 'renterhousing',\n",
       " 'oc_halfless',\n",
       " 'oc_half_1',\n",
       " 'oc_1_onehalf',\n",
       " 'oc_onehalf_2',\n",
       " 'oc_2plus',\n",
       " 'roc_halfless',\n",
       " 'roc_half_1',\n",
       " 'roc_1_onehalf',\n",
       " 'roc_onehalf_2',\n",
       " 'roc_2plus',\n",
       " 'medianyearbuilt',\n",
       " 'mediangrossrent',\n",
       " 'medianhhincome',\n",
       " 'gini',\n",
       " 'year',\n",
       " 'pct18under',\n",
       " 'pct18_34',\n",
       " 'pct35_64',\n",
       " 'pct65plus',\n",
       " 'pcthispanic',\n",
       " 'pctnhwhite',\n",
       " 'pctnhblack',\n",
       " 'pctnhaian',\n",
       " 'pctnhasian',\n",
       " 'pctnhhawainpi',\n",
       " 'pctnhother',\n",
       " 'pctnhtwoplus',\n",
       " 'pctownerocch',\n",
       " 'pctrentocch',\n",
       " 'crowding',\n",
       " 'crowdingrenter']"
      ]
     },
     "execution_count": 60,
     "metadata": {},
     "output_type": "execute_result"
    }
   ],
   "source": [
    "df_box.columns\n",
    "predictors = [\"lotarea\", \"bldgarea\", \"numbldgs\", \"numfloors\", \"unitsres\", \"unitstotal\", \"assessland\",\n",
    "             \"assesstot\", \"exempttot\", \"yearbuilt\", \"holc_AB\", \"holc_CD\", \"holc_D\",\n",
    "             \"tot_hpd_vio\", \"hpd_fire_vio\", \"hpd_b_c_vio\",\n",
    "             \"viol_count_per_unit\", \"hpd_fire_vio_per_unit\", \"hpd_b_c_vio_per_unit\",\n",
    "             \"AL\", \"NB\", \"average_energy_usage\", \"average_energy_usage_mi\"]\n",
    "predictors_acs= df_box.columns[df_box.columns.get_loc(\"totpop\"):df_box.columns.get_loc(\"crowdingrenter\") + 1].tolist()\n",
    "predictors_full= predictors + predictors_acs\n",
    "predictors_full"
   ]
  },
  {
   "cell_type": "code",
   "execution_count": 61,
   "id": "40fa2271",
   "metadata": {},
   "outputs": [
    {
     "data": {
      "text/html": [
       "<div>\n",
       "<style scoped>\n",
       "    .dataframe tbody tr th:only-of-type {\n",
       "        vertical-align: middle;\n",
       "    }\n",
       "\n",
       "    .dataframe tbody tr th {\n",
       "        vertical-align: top;\n",
       "    }\n",
       "\n",
       "    .dataframe thead th {\n",
       "        text-align: right;\n",
       "    }\n",
       "</style>\n",
       "<table border=\"1\" class=\"dataframe\">\n",
       "  <thead>\n",
       "    <tr style=\"text-align: right;\">\n",
       "      <th></th>\n",
       "      <th>dispatch_response_seconds_qy</th>\n",
       "      <th>num_fire_ev</th>\n",
       "      <th>avg_fire_ev_yr</th>\n",
       "    </tr>\n",
       "  </thead>\n",
       "  <tbody>\n",
       "    <tr>\n",
       "      <th>0</th>\n",
       "      <td>32.666667</td>\n",
       "      <td>6</td>\n",
       "      <td>1.200000</td>\n",
       "    </tr>\n",
       "    <tr>\n",
       "      <th>1</th>\n",
       "      <td>42.333333</td>\n",
       "      <td>3</td>\n",
       "      <td>3.000000</td>\n",
       "    </tr>\n",
       "    <tr>\n",
       "      <th>2</th>\n",
       "      <td>36.880000</td>\n",
       "      <td>25</td>\n",
       "      <td>1.923077</td>\n",
       "    </tr>\n",
       "    <tr>\n",
       "      <th>3</th>\n",
       "      <td>15.600000</td>\n",
       "      <td>5</td>\n",
       "      <td>1.666667</td>\n",
       "    </tr>\n",
       "    <tr>\n",
       "      <th>4</th>\n",
       "      <td>32.181818</td>\n",
       "      <td>44</td>\n",
       "      <td>2.933333</td>\n",
       "    </tr>\n",
       "  </tbody>\n",
       "</table>\n",
       "</div>"
      ],
      "text/plain": [
       "   dispatch_response_seconds_qy  num_fire_ev  avg_fire_ev_yr\n",
       "0                     32.666667            6        1.200000\n",
       "1                     42.333333            3        3.000000\n",
       "2                     36.880000           25        1.923077\n",
       "3                     15.600000            5        1.666667\n",
       "4                     32.181818           44        2.933333"
      ]
     },
     "execution_count": 61,
     "metadata": {},
     "output_type": "execute_result"
    }
   ],
   "source": [
    "outcomes= [\"dispatch_response_seconds_qy\", \"num_fire_ev\", \"avg_fire_ev_yr\"]\n",
    "df_box[outcomes].head()"
   ]
  },
  {
   "cell_type": "markdown",
   "id": "d18dfcca",
   "metadata": {},
   "source": [
    "# (0) Prep data"
   ]
  },
  {
   "cell_type": "code",
   "execution_count": 62,
   "id": "fa38421a",
   "metadata": {
    "scrolled": false
   },
   "outputs": [
    {
     "data": {
      "text/html": [
       "<div>\n",
       "<style scoped>\n",
       "    .dataframe tbody tr th:only-of-type {\n",
       "        vertical-align: middle;\n",
       "    }\n",
       "\n",
       "    .dataframe tbody tr th {\n",
       "        vertical-align: top;\n",
       "    }\n",
       "\n",
       "    .dataframe thead th {\n",
       "        text-align: right;\n",
       "    }\n",
       "</style>\n",
       "<table border=\"1\" class=\"dataframe\">\n",
       "  <thead>\n",
       "    <tr style=\"text-align: right;\">\n",
       "      <th></th>\n",
       "      <th>lotarea</th>\n",
       "      <th>bldgarea</th>\n",
       "      <th>numbldgs</th>\n",
       "      <th>numfloors</th>\n",
       "      <th>unitsres</th>\n",
       "      <th>unitstotal</th>\n",
       "      <th>assessland</th>\n",
       "      <th>assesstot</th>\n",
       "      <th>exempttot</th>\n",
       "      <th>yearbuilt</th>\n",
       "      <th>...</th>\n",
       "      <th>pctnhtwoplus</th>\n",
       "      <th>pctownerocch</th>\n",
       "      <th>pctrentocch</th>\n",
       "      <th>crowding</th>\n",
       "      <th>crowdingrenter</th>\n",
       "      <th>engines_assigned_quantity</th>\n",
       "      <th>ladders_assigned_quantity</th>\n",
       "      <th>dispatch_response_seconds_qy</th>\n",
       "      <th>num_fire_ev</th>\n",
       "      <th>avg_fire_ev_yr</th>\n",
       "    </tr>\n",
       "  </thead>\n",
       "  <tbody>\n",
       "    <tr>\n",
       "      <th>count</th>\n",
       "      <td>1.086400e+04</td>\n",
       "      <td>1.086400e+04</td>\n",
       "      <td>10864.000000</td>\n",
       "      <td>10864.000000</td>\n",
       "      <td>10864.000000</td>\n",
       "      <td>10864.000000</td>\n",
       "      <td>1.086400e+04</td>\n",
       "      <td>1.086400e+04</td>\n",
       "      <td>1.086400e+04</td>\n",
       "      <td>10864.000000</td>\n",
       "      <td>...</td>\n",
       "      <td>10864.000000</td>\n",
       "      <td>10864.000000</td>\n",
       "      <td>10864.000000</td>\n",
       "      <td>10864.000000</td>\n",
       "      <td>10864.000000</td>\n",
       "      <td>10864.000000</td>\n",
       "      <td>10864.000000</td>\n",
       "      <td>10864.000000</td>\n",
       "      <td>10864.000000</td>\n",
       "      <td>10864.000000</td>\n",
       "    </tr>\n",
       "    <tr>\n",
       "      <th>mean</th>\n",
       "      <td>1.357528e+04</td>\n",
       "      <td>2.571084e+04</td>\n",
       "      <td>1.933244</td>\n",
       "      <td>3.265942</td>\n",
       "      <td>24.319713</td>\n",
       "      <td>24.943418</td>\n",
       "      <td>2.715792e+05</td>\n",
       "      <td>1.459393e+06</td>\n",
       "      <td>6.523947e+05</td>\n",
       "      <td>1936.617813</td>\n",
       "      <td>...</td>\n",
       "      <td>1.993614</td>\n",
       "      <td>45.607389</td>\n",
       "      <td>54.392611</td>\n",
       "      <td>8.104744</td>\n",
       "      <td>9.827415</td>\n",
       "      <td>2.696305</td>\n",
       "      <td>1.891626</td>\n",
       "      <td>40.335653</td>\n",
       "      <td>27.951859</td>\n",
       "      <td>2.381331</td>\n",
       "    </tr>\n",
       "    <tr>\n",
       "      <th>std</th>\n",
       "      <td>1.175372e+05</td>\n",
       "      <td>1.833891e+05</td>\n",
       "      <td>13.499644</td>\n",
       "      <td>3.536401</td>\n",
       "      <td>175.050922</td>\n",
       "      <td>176.069510</td>\n",
       "      <td>1.863966e+06</td>\n",
       "      <td>8.148841e+06</td>\n",
       "      <td>6.698656e+06</td>\n",
       "      <td>62.845988</td>\n",
       "      <td>...</td>\n",
       "      <td>1.846193</td>\n",
       "      <td>26.055808</td>\n",
       "      <td>26.055808</td>\n",
       "      <td>6.618311</td>\n",
       "      <td>8.148408</td>\n",
       "      <td>1.179745</td>\n",
       "      <td>0.752555</td>\n",
       "      <td>18.500212</td>\n",
       "      <td>48.572309</td>\n",
       "      <td>2.800509</td>\n",
       "    </tr>\n",
       "    <tr>\n",
       "      <th>min</th>\n",
       "      <td>5.262012e+02</td>\n",
       "      <td>0.000000e+00</td>\n",
       "      <td>0.000000</td>\n",
       "      <td>0.000000</td>\n",
       "      <td>0.000000</td>\n",
       "      <td>0.000000</td>\n",
       "      <td>3.473684e+03</td>\n",
       "      <td>1.869000e+04</td>\n",
       "      <td>0.000000e+00</td>\n",
       "      <td>0.000000</td>\n",
       "      <td>...</td>\n",
       "      <td>0.000000</td>\n",
       "      <td>0.000000</td>\n",
       "      <td>0.000000</td>\n",
       "      <td>0.000000</td>\n",
       "      <td>0.000000</td>\n",
       "      <td>0.000000</td>\n",
       "      <td>0.000000</td>\n",
       "      <td>0.000000</td>\n",
       "      <td>1.000000</td>\n",
       "      <td>0.000000</td>\n",
       "    </tr>\n",
       "    <tr>\n",
       "      <th>25%</th>\n",
       "      <td>2.657231e+03</td>\n",
       "      <td>1.837039e+03</td>\n",
       "      <td>1.066667</td>\n",
       "      <td>2.003120</td>\n",
       "      <td>1.414634</td>\n",
       "      <td>1.448040</td>\n",
       "      <td>1.375180e+04</td>\n",
       "      <td>4.607525e+04</td>\n",
       "      <td>2.226120e+03</td>\n",
       "      <td>1925.107672</td>\n",
       "      <td>...</td>\n",
       "      <td>0.660968</td>\n",
       "      <td>23.841841</td>\n",
       "      <td>30.651477</td>\n",
       "      <td>3.421687</td>\n",
       "      <td>3.740358</td>\n",
       "      <td>2.090909</td>\n",
       "      <td>1.571429</td>\n",
       "      <td>32.290179</td>\n",
       "      <td>5.000000</td>\n",
       "      <td>1.200000</td>\n",
       "    </tr>\n",
       "    <tr>\n",
       "      <th>50%</th>\n",
       "      <td>3.586508e+03</td>\n",
       "      <td>2.774481e+03</td>\n",
       "      <td>1.218750</td>\n",
       "      <td>2.280000</td>\n",
       "      <td>2.367664</td>\n",
       "      <td>2.517241</td>\n",
       "      <td>2.153047e+04</td>\n",
       "      <td>8.708528e+04</td>\n",
       "      <td>4.093244e+03</td>\n",
       "      <td>1938.104409</td>\n",
       "      <td>...</td>\n",
       "      <td>1.555701</td>\n",
       "      <td>44.368239</td>\n",
       "      <td>55.631761</td>\n",
       "      <td>6.309751</td>\n",
       "      <td>8.125000</td>\n",
       "      <td>2.909091</td>\n",
       "      <td>2.000000</td>\n",
       "      <td>40.333333</td>\n",
       "      <td>13.000000</td>\n",
       "      <td>1.666667</td>\n",
       "    </tr>\n",
       "    <tr>\n",
       "      <th>75%</th>\n",
       "      <td>5.214915e+03</td>\n",
       "      <td>8.144752e+03</td>\n",
       "      <td>1.464286</td>\n",
       "      <td>3.000000</td>\n",
       "      <td>7.698662</td>\n",
       "      <td>8.206375</td>\n",
       "      <td>5.787226e+04</td>\n",
       "      <td>3.684127e+05</td>\n",
       "      <td>3.452681e+04</td>\n",
       "      <td>1953.518519</td>\n",
       "      <td>...</td>\n",
       "      <td>2.786200</td>\n",
       "      <td>69.348523</td>\n",
       "      <td>76.158159</td>\n",
       "      <td>10.875723</td>\n",
       "      <td>13.930348</td>\n",
       "      <td>3.312500</td>\n",
       "      <td>2.250000</td>\n",
       "      <td>49.910985</td>\n",
       "      <td>31.000000</td>\n",
       "      <td>2.538462</td>\n",
       "    </tr>\n",
       "    <tr>\n",
       "      <th>max</th>\n",
       "      <td>7.921386e+06</td>\n",
       "      <td>1.354011e+07</td>\n",
       "      <td>1169.000000</td>\n",
       "      <td>72.000000</td>\n",
       "      <td>10914.000000</td>\n",
       "      <td>10948.000000</td>\n",
       "      <td>1.345064e+08</td>\n",
       "      <td>4.435560e+08</td>\n",
       "      <td>4.435560e+08</td>\n",
       "      <td>2021.000000</td>\n",
       "      <td>...</td>\n",
       "      <td>12.851406</td>\n",
       "      <td>100.000000</td>\n",
       "      <td>100.000000</td>\n",
       "      <td>53.578192</td>\n",
       "      <td>55.087359</td>\n",
       "      <td>23.928571</td>\n",
       "      <td>13.500000</td>\n",
       "      <td>450.000000</td>\n",
       "      <td>1288.000000</td>\n",
       "      <td>80.500000</td>\n",
       "    </tr>\n",
       "  </tbody>\n",
       "</table>\n",
       "<p>8 rows × 79 columns</p>\n",
       "</div>"
      ],
      "text/plain": [
       "            lotarea      bldgarea      numbldgs     numfloors      unitsres  \\\n",
       "count  1.086400e+04  1.086400e+04  10864.000000  10864.000000  10864.000000   \n",
       "mean   1.357528e+04  2.571084e+04      1.933244      3.265942     24.319713   \n",
       "std    1.175372e+05  1.833891e+05     13.499644      3.536401    175.050922   \n",
       "min    5.262012e+02  0.000000e+00      0.000000      0.000000      0.000000   \n",
       "25%    2.657231e+03  1.837039e+03      1.066667      2.003120      1.414634   \n",
       "50%    3.586508e+03  2.774481e+03      1.218750      2.280000      2.367664   \n",
       "75%    5.214915e+03  8.144752e+03      1.464286      3.000000      7.698662   \n",
       "max    7.921386e+06  1.354011e+07   1169.000000     72.000000  10914.000000   \n",
       "\n",
       "         unitstotal    assessland     assesstot     exempttot     yearbuilt  \\\n",
       "count  10864.000000  1.086400e+04  1.086400e+04  1.086400e+04  10864.000000   \n",
       "mean      24.943418  2.715792e+05  1.459393e+06  6.523947e+05   1936.617813   \n",
       "std      176.069510  1.863966e+06  8.148841e+06  6.698656e+06     62.845988   \n",
       "min        0.000000  3.473684e+03  1.869000e+04  0.000000e+00      0.000000   \n",
       "25%        1.448040  1.375180e+04  4.607525e+04  2.226120e+03   1925.107672   \n",
       "50%        2.517241  2.153047e+04  8.708528e+04  4.093244e+03   1938.104409   \n",
       "75%        8.206375  5.787226e+04  3.684127e+05  3.452681e+04   1953.518519   \n",
       "max    10948.000000  1.345064e+08  4.435560e+08  4.435560e+08   2021.000000   \n",
       "\n",
       "       ...  pctnhtwoplus  pctownerocch   pctrentocch      crowding  \\\n",
       "count  ...  10864.000000  10864.000000  10864.000000  10864.000000   \n",
       "mean   ...      1.993614     45.607389     54.392611      8.104744   \n",
       "std    ...      1.846193     26.055808     26.055808      6.618311   \n",
       "min    ...      0.000000      0.000000      0.000000      0.000000   \n",
       "25%    ...      0.660968     23.841841     30.651477      3.421687   \n",
       "50%    ...      1.555701     44.368239     55.631761      6.309751   \n",
       "75%    ...      2.786200     69.348523     76.158159     10.875723   \n",
       "max    ...     12.851406    100.000000    100.000000     53.578192   \n",
       "\n",
       "       crowdingrenter  engines_assigned_quantity  ladders_assigned_quantity  \\\n",
       "count    10864.000000               10864.000000               10864.000000   \n",
       "mean         9.827415                   2.696305                   1.891626   \n",
       "std          8.148408                   1.179745                   0.752555   \n",
       "min          0.000000                   0.000000                   0.000000   \n",
       "25%          3.740358                   2.090909                   1.571429   \n",
       "50%          8.125000                   2.909091                   2.000000   \n",
       "75%         13.930348                   3.312500                   2.250000   \n",
       "max         55.087359                  23.928571                  13.500000   \n",
       "\n",
       "       dispatch_response_seconds_qy   num_fire_ev  avg_fire_ev_yr  \n",
       "count                  10864.000000  10864.000000    10864.000000  \n",
       "mean                      40.335653     27.951859        2.381331  \n",
       "std                       18.500212     48.572309        2.800509  \n",
       "min                        0.000000      1.000000        0.000000  \n",
       "25%                       32.290179      5.000000        1.200000  \n",
       "50%                       40.333333     13.000000        1.666667  \n",
       "75%                       49.910985     31.000000        2.538462  \n",
       "max                      450.000000   1288.000000       80.500000  \n",
       "\n",
       "[8 rows x 79 columns]"
      ]
     },
     "execution_count": 62,
     "metadata": {},
     "output_type": "execute_result"
    }
   ],
   "source": [
    "df_box.describe()"
   ]
  },
  {
   "cell_type": "code",
   "execution_count": 63,
   "id": "a2fd7747",
   "metadata": {},
   "outputs": [
    {
     "data": {
      "text/plain": [
       "0.0625920471281296"
      ]
     },
     "execution_count": 63,
     "metadata": {},
     "output_type": "execute_result"
    }
   ],
   "source": [
    "df_box.loc[df_box[\"avg_fire_ev_yr\"]==0].shape[0]/df_box.shape[0]"
   ]
  },
  {
   "cell_type": "code",
   "execution_count": 64,
   "id": "f99d18d6",
   "metadata": {},
   "outputs": [],
   "source": [
    "# assert no missingness\n",
    "assert (df_box.isna().sum(axis = 0).sum() == 0)"
   ]
  },
  {
   "cell_type": "code",
   "execution_count": 65,
   "id": "78cbac4c",
   "metadata": {},
   "outputs": [
    {
     "data": {
      "text/plain": [
       "(10864, 80)"
      ]
     },
     "execution_count": 65,
     "metadata": {},
     "output_type": "execute_result"
    }
   ],
   "source": [
    "df_box_clean= df_box.dropna(how = \"any\")\n",
    "df_box_clean.shape"
   ]
  },
  {
   "cell_type": "code",
   "execution_count": 66,
   "id": "acb0eb12",
   "metadata": {},
   "outputs": [],
   "source": [
    "from sklearn.model_selection import train_test_split\n",
    "from sklearn.tree import DecisionTreeRegressor\n",
    "\n",
    "X = df_box_clean.loc[:, predictors_full]\n",
    "y = df_box_clean.loc[X.index, outcomes]\n",
    "X_train, X_test, y_train, y_test = train_test_split(X, y, test_size=0.3, random_state=999)"
   ]
  },
  {
   "cell_type": "markdown",
   "id": "7e079ea3",
   "metadata": {},
   "source": [
    "# (1) Decision Trees and Random Forest Models\n",
    "* All are negative, suggests the model isn't performing very well"
   ]
  },
  {
   "cell_type": "code",
   "execution_count": 67,
   "id": "60740f10",
   "metadata": {},
   "outputs": [
    {
     "name": "stdout",
     "output_type": "stream",
     "text": [
      "\n",
      "Decision tree for dispatch_response_seconds_qy\n",
      "\n",
      "R2 for model 1: -0.25727234409898103\n",
      "R2 for model 2: -0.505266647412214\n",
      "\n",
      "MSE for model 1: 467.78075755691674\n",
      "MSE for model 2: 560.0495198645772\n",
      "\n",
      "Decision tree for num_fire_ev\n",
      "\n",
      "R2 for model 1: -0.1362104502477639\n",
      "R2 for model 2: -0.24340730710102498\n",
      "\n",
      "MSE for model 1: 2878.62670701879\n",
      "MSE for model 2: 3150.213484784281\n",
      "\n",
      "Decision tree for avg_fire_ev_yr\n",
      "\n",
      "R2 for model 1: -0.2451635685236846\n",
      "R2 for model 2: -0.5784398230797112\n",
      "\n",
      "MSE for model 1: 10.647311383772688\n",
      "MSE for model 2: 13.497134610838947\n"
     ]
    }
   ],
   "source": [
    "from sklearn.metrics import mean_squared_error\n",
    "for c in range(3):\n",
    "    print(\"\\nDecision tree for\", outcomes[c])\n",
    "    print()\n",
    "    \n",
    "    dt1 = DecisionTreeRegressor(max_depth=10, random_state = 99)\n",
    "    dt1.fit(X_train, y_train.iloc[:, c])\n",
    "\n",
    "    dt2 = DecisionTreeRegressor(max_depth=15, random_state = 99)\n",
    "    dt2.fit(X_train, y_train.iloc[:, c])\n",
    "\n",
    "    y_pred1= dt1.predict(X_test)\n",
    "    y_pred2= dt2.predict(X_test)\n",
    "\n",
    "    print(\"R2 for model 1:\", dt1.score(X_test, y_test.iloc[:, c]))\n",
    "    print(\"R2 for model 2:\", dt2.score(X_test, y_test.iloc[:, c]))\n",
    "    \n",
    "    print(\"\\nMSE for model 1:\", mean_squared_error(y_test.iloc[:, c], y_pred1))\n",
    "    print(\"MSE for model 2:\", mean_squared_error(y_test.iloc[:, c], y_pred2))"
   ]
  },
  {
   "cell_type": "markdown",
   "id": "392fe285",
   "metadata": {},
   "source": [
    "## Tuning\n",
    "* There is a higher R2 for num_fire_ev and avg_fire_ev_yr\n",
    "* Seems to do well with a simpler model"
   ]
  },
  {
   "cell_type": "code",
   "execution_count": 78,
   "id": "b27412e4",
   "metadata": {},
   "outputs": [
    {
     "name": "stdout",
     "output_type": "stream",
     "text": [
      "\n",
      "Tuning decision tree for dispatch_response_seconds_qy\n",
      "{'max_depth': 3}\n",
      "0.011577956363645892\n",
      "\n",
      "Tuning decision tree for num_fire_ev\n",
      "{'max_depth': 3}\n",
      "0.22088313950129057\n",
      "\n",
      "Tuning decision tree for avg_fire_ev_yr\n",
      "{'max_depth': 3}\n",
      "0.1809082408682524\n"
     ]
    }
   ],
   "source": [
    "# use max_depth to control the complexity of the tre\n",
    "param_grid = {'max_depth':np.arange(1, 50, 2)}\n",
    "bp= []\n",
    "s= []\n",
    "for c in range(3):\n",
    "    dt=DecisionTreeRegressor()\n",
    "    gr=GridSearchCV(dt,param_grid=param_grid)\n",
    "    rs=gr.fit(X_train,y_train.iloc[:, c])\n",
    "    \n",
    "    bp+= [rs.best_params_]\n",
    "    s+= [rs.score(X_test, y_test.iloc[:, c])]\n",
    "    \n",
    "    print(\"\\nTuning decision tree for\", outcomes[c])\n",
    "    print(rs.best_params_)\n",
    "    print(rs.score(X_test, y_test.iloc[:, c]))"
   ]
  },
  {
   "cell_type": "code",
   "execution_count": 79,
   "id": "c80f3533",
   "metadata": {},
   "outputs": [
    {
     "name": "stdout",
     "output_type": "stream",
     "text": [
      "[{'max_depth': 3}, {'max_depth': 3}, {'max_depth': 3}]\n",
      "[0.011577956363645892, 0.22088313950129057, 0.1809082408682524]\n"
     ]
    }
   ],
   "source": [
    "# the R2 is pretty low...\n",
    "print(bp)\n",
    "print(s)"
   ]
  },
  {
   "cell_type": "code",
   "execution_count": 82,
   "id": "b301dc25",
   "metadata": {},
   "outputs": [
    {
     "data": {
      "image/png": "[encoded data removed]",
      "text/plain": [
       "<IPython.core.display.Image object>"
      ]
     },
     "execution_count": 82,
     "metadata": {},
     "output_type": "execute_result"
    }
   ],
   "source": [
    "## can we visualize the decision tree?\n",
    "## for num_fire_ev\n",
    "from sklearn import tree\n",
    "from IPython.display import Image  \n",
    "import pydotplus\n",
    "\n",
    "dt = DecisionTreeRegressor(max_depth= 3) #bp[1]['max_depth']) # since max depth is optimal for 3, use that\n",
    "dt.fit(X_train,y_train.iloc[:, 1])\n",
    "\n",
    "thestring = tree.export_graphviz(dt, out_file=None,  \n",
    "                         feature_names=X_train.columns.values, \n",
    "                         filled=True, rounded=True,  \n",
    "                         special_characters=True,impurity=False).replace(\" ;\\n}\", \" ;}\")\n",
    "graph = pydotplus.graph_from_dot_data(thestring);\n",
    "graph.write_png(os.join(plots,'num_fire_ev_dt.png'))\n",
    "Image(graph.create_png())"
   ]
  },
  {
   "cell_type": "markdown",
   "id": "dfb2cab2",
   "metadata": {},
   "source": [
    "## Feature Importance"
   ]
  },
  {
   "cell_type": "code",
   "execution_count": 83,
   "id": "84ca2e04",
   "metadata": {},
   "outputs": [
    {
     "data": {
      "text/html": [
       "<div>\n",
       "<style scoped>\n",
       "    .dataframe tbody tr th:only-of-type {\n",
       "        vertical-align: middle;\n",
       "    }\n",
       "\n",
       "    .dataframe tbody tr th {\n",
       "        vertical-align: top;\n",
       "    }\n",
       "\n",
       "    .dataframe thead th {\n",
       "        text-align: right;\n",
       "    }\n",
       "</style>\n",
       "<table border=\"1\" class=\"dataframe\">\n",
       "  <thead>\n",
       "    <tr style=\"text-align: right;\">\n",
       "      <th></th>\n",
       "      <th>variables</th>\n",
       "      <th>importance</th>\n",
       "    </tr>\n",
       "  </thead>\n",
       "  <tbody>\n",
       "    <tr>\n",
       "      <th>13</th>\n",
       "      <td>tot_hpd_vio</td>\n",
       "      <td>0.585499</td>\n",
       "    </tr>\n",
       "    <tr>\n",
       "      <th>24</th>\n",
       "      <td>popdens</td>\n",
       "      <td>0.208921</td>\n",
       "    </tr>\n",
       "    <tr>\n",
       "      <th>34</th>\n",
       "      <td>popnhblack</td>\n",
       "      <td>0.092236</td>\n",
       "    </tr>\n",
       "    <tr>\n",
       "      <th>25</th>\n",
       "      <td>areasqmile</td>\n",
       "      <td>0.088699</td>\n",
       "    </tr>\n",
       "    <tr>\n",
       "      <th>64</th>\n",
       "      <td>pctnhblack</td>\n",
       "      <td>0.024644</td>\n",
       "    </tr>\n",
       "    <tr>\n",
       "      <th>48</th>\n",
       "      <td>roc_halfless</td>\n",
       "      <td>0.0</td>\n",
       "    </tr>\n",
       "    <tr>\n",
       "      <th>52</th>\n",
       "      <td>roc_2plus</td>\n",
       "      <td>0.0</td>\n",
       "    </tr>\n",
       "    <tr>\n",
       "      <th>51</th>\n",
       "      <td>roc_onehalf_2</td>\n",
       "      <td>0.0</td>\n",
       "    </tr>\n",
       "    <tr>\n",
       "      <th>50</th>\n",
       "      <td>roc_1_onehalf</td>\n",
       "      <td>0.0</td>\n",
       "    </tr>\n",
       "    <tr>\n",
       "      <th>49</th>\n",
       "      <td>roc_half_1</td>\n",
       "      <td>0.0</td>\n",
       "    </tr>\n",
       "  </tbody>\n",
       "</table>\n",
       "</div>"
      ],
      "text/plain": [
       "        variables importance\n",
       "13    tot_hpd_vio   0.585499\n",
       "24        popdens   0.208921\n",
       "34     popnhblack   0.092236\n",
       "25     areasqmile   0.088699\n",
       "64     pctnhblack   0.024644\n",
       "48   roc_halfless        0.0\n",
       "52      roc_2plus        0.0\n",
       "51  roc_onehalf_2        0.0\n",
       "50  roc_1_onehalf        0.0\n",
       "49     roc_half_1        0.0"
      ]
     },
     "execution_count": 83,
     "metadata": {},
     "output_type": "execute_result"
    }
   ],
   "source": [
    "dt = DecisionTreeRegressor(max_depth=rs.best_params_['max_depth'], random_state = 99)\n",
    "dt.fit(X_train, y_train)\n",
    "Feature_importance=pd.DataFrame([list(X_train.columns),list(dt.feature_importances_)]).T\n",
    "Feature_importance.columns=[\"variables\",\"importance\"]\n",
    "\n",
    "# list the top 10 most importnat features in order (using max_depth = 10)\n",
    "ft1= Feature_importance.sort_values(by=\"importance\",ascending=False).iloc[:10,:]\n",
    "ft1"
   ]
  },
  {
   "cell_type": "code",
   "execution_count": 84,
   "id": "8f326119",
   "metadata": {},
   "outputs": [
    {
     "data": {
      "text/html": [
       "<div>\n",
       "<style scoped>\n",
       "    .dataframe tbody tr th:only-of-type {\n",
       "        vertical-align: middle;\n",
       "    }\n",
       "\n",
       "    .dataframe tbody tr th {\n",
       "        vertical-align: top;\n",
       "    }\n",
       "\n",
       "    .dataframe thead th {\n",
       "        text-align: right;\n",
       "    }\n",
       "</style>\n",
       "<table border=\"1\" class=\"dataframe\">\n",
       "  <thead>\n",
       "    <tr style=\"text-align: right;\">\n",
       "      <th></th>\n",
       "      <th>variables</th>\n",
       "      <th>importance</th>\n",
       "    </tr>\n",
       "  </thead>\n",
       "  <tbody>\n",
       "    <tr>\n",
       "      <th>13</th>\n",
       "      <td>tot_hpd_vio</td>\n",
       "      <td>0.504256</td>\n",
       "    </tr>\n",
       "    <tr>\n",
       "      <th>24</th>\n",
       "      <td>popdens</td>\n",
       "      <td>0.179931</td>\n",
       "    </tr>\n",
       "    <tr>\n",
       "      <th>34</th>\n",
       "      <td>popnhblack</td>\n",
       "      <td>0.079438</td>\n",
       "    </tr>\n",
       "    <tr>\n",
       "      <th>25</th>\n",
       "      <td>areasqmile</td>\n",
       "      <td>0.076391</td>\n",
       "    </tr>\n",
       "    <tr>\n",
       "      <th>2</th>\n",
       "      <td>numbldgs</td>\n",
       "      <td>0.044458</td>\n",
       "    </tr>\n",
       "    <tr>\n",
       "      <th>65</th>\n",
       "      <td>pctnhaian</td>\n",
       "      <td>0.044351</td>\n",
       "    </tr>\n",
       "    <tr>\n",
       "      <th>64</th>\n",
       "      <td>pctnhblack</td>\n",
       "      <td>0.039669</td>\n",
       "    </tr>\n",
       "    <tr>\n",
       "      <th>58</th>\n",
       "      <td>pct18under</td>\n",
       "      <td>0.019316</td>\n",
       "    </tr>\n",
       "    <tr>\n",
       "      <th>61</th>\n",
       "      <td>pct65plus</td>\n",
       "      <td>0.006512</td>\n",
       "    </tr>\n",
       "    <tr>\n",
       "      <th>48</th>\n",
       "      <td>roc_halfless</td>\n",
       "      <td>0.005677</td>\n",
       "    </tr>\n",
       "  </tbody>\n",
       "</table>\n",
       "</div>"
      ],
      "text/plain": [
       "       variables importance\n",
       "13   tot_hpd_vio   0.504256\n",
       "24       popdens   0.179931\n",
       "34    popnhblack   0.079438\n",
       "25    areasqmile   0.076391\n",
       "2       numbldgs   0.044458\n",
       "65     pctnhaian   0.044351\n",
       "64    pctnhblack   0.039669\n",
       "58    pct18under   0.019316\n",
       "61     pct65plus   0.006512\n",
       "48  roc_halfless   0.005677"
      ]
     },
     "execution_count": 84,
     "metadata": {},
     "output_type": "execute_result"
    }
   ],
   "source": [
    "dt = DecisionTreeRegressor(max_depth=4, random_state = 99)\n",
    "dt.fit(X_train, y_train)\n",
    "Feature_importance=pd.DataFrame([list(X_train.columns),list(dt.feature_importances_)]).T\n",
    "Feature_importance.columns=[\"variables\",\"importance\"]\n",
    "\n",
    "# list the top 10 most important features in order (using max_Depth = 4)\n",
    "ft2= Feature_importance.sort_values(by=\"importance\",ascending=False).iloc[:10,:]\n",
    "ft2"
   ]
  },
  {
   "cell_type": "code",
   "execution_count": 86,
   "id": "66461ee4",
   "metadata": {
    "scrolled": false
   },
   "outputs": [
    {
     "data": {
      "image/png": "[encoded data removed]",
      "text/plain": [
       "<Figure size 1200x400 with 1 Axes>"
      ]
     },
     "metadata": {
      "needs_background": "light"
     },
     "output_type": "display_data"
    }
   ],
   "source": [
    "plt.figure(figsize=(15, 5), dpi=80)\n",
    "plt.bar(ft2.sort_values(by=\"importance\",ascending=False).iloc[:,0],\n",
    "        ft2.sort_values(by=\"importance\",ascending=False).iloc[:,1])\n",
    "plt.title(\"Feature Importance\");"
   ]
  },
  {
   "cell_type": "markdown",
   "id": "0ce37a77",
   "metadata": {},
   "source": [
    "## Random Forests\n",
    "* Only outcome is number of num_fire_ev"
   ]
  },
  {
   "cell_type": "code",
   "execution_count": 87,
   "id": "beb4ff90",
   "metadata": {},
   "outputs": [
    {
     "name": "stdout",
     "output_type": "stream",
     "text": [
      "R2 with random forest: 0.24968946988348784\n"
     ]
    }
   ],
   "source": [
    "from sklearn.ensemble import RandomForestRegressor\n",
    "rf = RandomForestRegressor(n_estimators=30, n_jobs=-1, max_depth = 4, random_state = 99)\n",
    "rf.fit(X_train, y_train.iloc[:, 1])\n",
    "y_pred=rf.predict(X_test)\n",
    "print(\"R2 with random forest:\", rf.score(X_test, y_test.iloc[:, 1]))"
   ]
  },
  {
   "cell_type": "code",
   "execution_count": null,
   "id": "4cf9019c",
   "metadata": {},
   "outputs": [],
   "source": [
    "param_grid = {'max_depth':range(1,30)}\n",
    "rf = RandomForestRegressor(n_jobs=-1, n_estimators=30, random_state = 99)\n",
    "gs = GridSearchCV(rf,param_grid=param_grid)\n",
    "rs = gs.fit(X_train,y_train.iloc[:, 1])\n",
    "y_pred= rs.predict(X_test)\n",
    "\n",
    "print(rs.best_params_)\n",
    "print(\"R2 with best paramters:\", rs.score(X_test, y_test.iloc[:, 1]))"
   ]
  },
  {
   "cell_type": "code",
   "execution_count": null,
   "id": "fb81795b",
   "metadata": {},
   "outputs": [],
   "source": [
    "rf = RandomForestRegressor(n_estimators=30, n_jobs=-1, max_depth = 200, random_state = 99)\n",
    "rf.fit(X_train, y_train.iloc[:, 1])\n",
    "y_pred=rf.predict(X_test)\n",
    "print(\"R2 with random forest:\", rf.score(X_test, y_test.iloc[:, 1]))"
   ]
  },
  {
   "cell_type": "markdown",
   "id": "684ae0d3",
   "metadata": {},
   "source": [
    "### CMM Method and Other Ensemble Methods\n",
    "* [From Domingos, 1998](https://citeseerx.ist.psu.edu/viewdoc/download?doi=10.1.1.40.2710&rep=rep1&type=pdf)\n",
    "* Not much of an increase in accuracy compared to decision tree model"
   ]
  },
  {
   "cell_type": "code",
   "execution_count": null,
   "id": "cbe20440",
   "metadata": {
    "scrolled": true
   },
   "outputs": [],
   "source": [
    "rf = RandomForestRegressor(n_jobs=-1, n_estimators=30, random_state = 99, max_depth = 7) #rs.best_params_['max_depth'])\n",
    "rf.fit(X_train,y_train.iloc[:, 1])\n",
    "\n",
    "# randomly generate a sample of xs\n",
    "X_rand= pd.DataFrame({x:X_train[x].sample(n = round(0.5*X_train.shape[0])).reset_index(drop = True) for x in X_train.columns})\n",
    "y_rand= rf.predict(X_rand)"
   ]
  },
  {
   "cell_type": "code",
   "execution_count": null,
   "id": "0424f8a4",
   "metadata": {},
   "outputs": [],
   "source": [
    "# create the cmm training datasets\n",
    "X_train_cmm= pd.concat([X_rand, X_train], axis = 0, ignore_index = True)\n",
    "y_train_cmm= pd.concat([round(pd.DataFrame(y_rand)), y_train.iloc[:, 1]], axis = 0, ignore_index = True)"
   ]
  },
  {
   "cell_type": "code",
   "execution_count": null,
   "id": "be377d94",
   "metadata": {},
   "outputs": [],
   "source": [
    "param_grid = {'max_depth':range(1,30)}\n",
    "dt=DecisionTreeRegressor()\n",
    "gr=GridSearchCV(dt,param_grid=param_grid)\n",
    "rs=gr.fit(X_train_cmm, y_train_cmm)\n",
    "\n",
    "print(rs.best_params_)\n",
    "print(rs.score(X_test, y_test.iloc[:, 1]))"
   ]
  },
  {
   "cell_type": "code",
   "execution_count": null,
   "id": "58e49838",
   "metadata": {},
   "outputs": [],
   "source": [
    "## prediction\n",
    "pred = rs.predict(X_test)\n",
    "pred"
   ]
  },
  {
   "cell_type": "code",
   "execution_count": null,
   "id": "f7689633",
   "metadata": {},
   "outputs": [],
   "source": [
    "## we can plot this\n",
    "from sklearn import tree\n",
    "from IPython.display import Image  \n",
    "import pydotplus\n",
    "\n",
    "dt = DecisionTreeRegressor(max_depth=rs.best_params_['max_depth']) # since max depth is optimal for 3, use that\n",
    "dt.fit(X_train_cmm, y_train_cmm)\n",
    "\n",
    "thestring = tree.export_graphviz(dt, out_file=None,  \n",
    "                         feature_names=X_train.columns.values, \n",
    "                         class_names=['no weapon found','weapon found'],  \n",
    "                         filled=True, rounded=True,  \n",
    "                         special_characters=True,impurity=False).replace(\" ;\\n}\", \" ;}\")\n",
    "graph = pydotplus.graph_from_dot_data(thestring);\n",
    "graph.write_png(os.join(plots,'num_fire_ev_cmm.png'))\n",
    "Image(graph.create_png())"
   ]
  },
  {
   "cell_type": "markdown",
   "id": "7ff4ac72",
   "metadata": {},
   "source": [
    "# (2) Bayes Nets"
   ]
  },
  {
   "cell_type": "code",
   "execution_count": null,
   "id": "91434696",
   "metadata": {},
   "outputs": [],
   "source": [
    "from pgmpy.estimators import HillClimbSearch\n",
    "from pgmpy.estimators import K2Score, BicScore, BDeuScore\n",
    "from pgmpy.models import BayesianNetwork\n",
    "from pgmpy.estimators import BayesianEstimator\n",
    "import matplotlib.pyplot as plt"
   ]
  },
  {
   "cell_type": "code",
   "execution_count": null,
   "id": "5d5b387a",
   "metadata": {},
   "outputs": [],
   "source": [
    "## need to discretize outcomes\n",
    "df_box_disc= df_box.copy()"
   ]
  },
  {
   "cell_type": "code",
   "execution_count": null,
   "id": "e6cc43c6",
   "metadata": {},
   "outputs": [],
   "source": [
    "# discretize each variable to four equal-frequency bins (quartiles)\n",
    "for i in df_box_disc.columns[1:]:\n",
    "    if len(df_box_disc.loc[:, i].unique()) > 5:\n",
    "        plt.hist(df_box_disc.loc[:, i], bins = 100);\n",
    "        plt.title(\"Histogram for {}\".format(i))\n",
    "        print(plt.show())\n",
    "        df_box_disc.loc[:, i] = pd.qcut(df_box_disc.loc[:, i], q=4, labels=False, duplicates = 'drop')"
   ]
  },
  {
   "cell_type": "code",
   "execution_count": null,
   "id": "077036e8",
   "metadata": {},
   "outputs": [],
   "source": [
    "## important vars\n",
    "impt_vars= outcomes[0:2] + ft2[\"variables\"].tolist()\n",
    "impt_vars"
   ]
  },
  {
   "cell_type": "code",
   "execution_count": null,
   "id": "7eb919a4",
   "metadata": {},
   "outputs": [],
   "source": [
    "# create test train split for testing DAG\n",
    "train, test = train_test_split(df_box_disc.loc[:, impt_vars], test_size=0.3, random_state=999)"
   ]
  },
  {
   "cell_type": "code",
   "execution_count": null,
   "id": "3c2b2d19",
   "metadata": {
    "scrolled": true
   },
   "outputs": [],
   "source": [
    "# use hill climb search with BIC score, as in hw\n",
    "hc = HillClimbSearch(train)\n",
    "best_model = hc.estimate(scoring_method=BicScore(train))\n",
    "print(\"\\nDAG model edges:\")\n",
    "print(best_model.edges())"
   ]
  },
  {
   "cell_type": "code",
   "execution_count": null,
   "id": "32fe552d",
   "metadata": {},
   "outputs": [],
   "source": [
    "print(\"DAG model nodes:\")\n",
    "print(best_model.nodes())"
   ]
  },
  {
   "cell_type": "code",
   "execution_count": null,
   "id": "975c24d4",
   "metadata": {},
   "outputs": [],
   "source": [
    "# look at the CPD for the model\n",
    "model = BayesianNetwork(best_model.edges())\n",
    "model.fit(train.loc[:, impt_vars], estimator=BayesianEstimator, prior_type='BDeu', equivalent_sample_size=10)\n",
    "for cpd in model.get_cpds():\n",
    "    print(\"CPD of {variable}:\".format(variable=cpd.variable))\n",
    "    print(cpd)\n",
    "for n in model.nodes():\n",
    "    print(model.local_independencies(n))"
   ]
  },
  {
   "cell_type": "code",
   "execution_count": null,
   "id": "01b53ab5",
   "metadata": {},
   "outputs": [],
   "source": [
    "import networkx as nx\n",
    "import pylab as plt\n",
    "fig = plt.gcf()\n",
    "\n",
    "values = ['red' if n in ['num_fire_ev', 'dispatch_response_seconds_qy'] else 'lightblue' for n in model.nodes()]\n",
    "# use networkx to draw DAG\n",
    "nx.draw(model, node_color=values, with_labels=True, font_color='black', node_size=200,font_size=10)\n",
    "\n",
    "plt.figure(figsize = (12,10))\n",
    "fig.savefig('dag_.png')"
   ]
  },
  {
   "cell_type": "code",
   "execution_count": null,
   "id": "733f1e53",
   "metadata": {
    "scrolled": true
   },
   "outputs": [],
   "source": [
    "pred = model.predict(test.loc[:, impt_vars[2:]])\n",
    "print(pred)"
   ]
  },
  {
   "cell_type": "code",
   "execution_count": null,
   "id": "0f450cd2",
   "metadata": {},
   "outputs": [],
   "source": [
    "for i in impt_vars[0:2]:\n",
    "    print(\"\\nOS accuracy for: {}\".format(i))\n",
    "    print((pred[i] == test[i].reset_index(drop = True)).mean())"
   ]
  },
  {
   "cell_type": "code",
   "execution_count": null,
   "id": "0350168c",
   "metadata": {},
   "outputs": [],
   "source": [
    "# prediction just for time to the fire\n",
    "pred = model.predict(test.loc[:, impt_vars[1:]])\n",
    "print(pred)"
   ]
  },
  {
   "cell_type": "code",
   "execution_count": null,
   "id": "d6ef2045",
   "metadata": {},
   "outputs": [],
   "source": [
    "print(\"\\nOS accuracy time to the fire, includes num_fire_ev as predictor\")\n",
    "print((pred['dispatch_response_seconds_qy'] == test['dispatch_response_seconds_qy'].reset_index(drop = True)).mean())"
   ]
  },
  {
   "cell_type": "code",
   "execution_count": null,
   "id": "94b19f78",
   "metadata": {},
   "outputs": [],
   "source": []
  }
 ],
 "metadata": {
  "kernelspec": {
   "display_name": "geo_env",
   "language": "python",
   "name": "geo_env"
  },
  "language_info": {
   "codemirror_mode": {
    "name": "ipython",
    "version": 3
   },
   "file_extension": ".py",
   "mimetype": "text/x-python",
   "name": "python",
   "nbconvert_exporter": "python",
   "pygments_lexer": "ipython3",
   "version": "3.9.7"
  }
 },
 "nbformat": 4,
 "nbformat_minor": 5
}
