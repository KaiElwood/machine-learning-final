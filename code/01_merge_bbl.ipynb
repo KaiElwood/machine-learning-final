{
 "cells": [
  {
   "cell_type": "markdown",
   "metadata": {
    "colab_type": "text",
    "id": "view-in-github"
   },
   "source": [
    "<a href=\"https://colab.research.google.com/github/jennahgosciak/nyc_fire_risk/blob/main/00_data_processing.ipynb\" target=\"_parent\"><img src=\"https://colab.research.google.com/assets/colab-badge.svg\" alt=\"Open In Colab\"/></a>"
   ]
  },
  {
   "cell_type": "code",
   "execution_count": 21,
   "metadata": {
    "colab": {
     "base_uri": "https://localhost:8080/"
    },
    "id": "U1iob6hhzqBo",
    "outputId": "de0ac75a-2af0-489b-ad9a-583476fb2520"
   },
   "outputs": [],
   "source": [
    "# setup\n",
    "import pandas as pd\n",
    "import numpy as np\n",
    "import matplotlib\n",
    "import matplotlib.pyplot as plt \n",
    "import requests\n",
    "import calendar\n",
    "import geopandas as gpd\n",
    "import os.path as os\n",
    "import scipy.stats\n",
    "import seaborn.palettes\n",
    "import seaborn.utils\n",
    "import sys\n",
    "from census import Census\n",
    "from us import states\n",
    "import http.client, urllib.request, urllib.parse, urllib.error, base64\n",
    "import config\n",
    "import quickstart\n",
    "\n",
    "root= r\"C:/Users/Jennah/Desktop/Code/machine-learning-final\"\n",
    "inp= os.join(root, \"data\", \"1_raw\")\n",
    "out= os.join(root, \"data\", \"2_intermediate\")"
   ]
  },
  {
   "cell_type": "markdown",
   "metadata": {},
   "source": [
    "## Load data from google drive"
   ]
  },
  {
   "cell_type": "code",
   "execution_count": null,
   "metadata": {},
   "outputs": [],
   "source": []
  },
  {
   "cell_type": "code",
   "execution_count": null,
   "metadata": {},
   "outputs": [],
   "source": []
  },
  {
   "cell_type": "code",
   "execution_count": null,
   "metadata": {},
   "outputs": [],
   "source": []
  },
  {
   "cell_type": "code",
   "execution_count": null,
   "metadata": {},
   "outputs": [],
   "source": [
    "# left join from pluto to capture all properties\n",
    "# use df for space constraints\n",
    "vac_pluto_df= pluto_df.merge(vac, how = \"left\", on = \"bbl\", indicator = True)\n",
    "print(vac_pluto_df[\"_merge\"].value_counts())\n",
    "\n",
    "# create indicator of fire vacancy based on indicator\n",
    "vac_pluto_df[\"vacate_ind\"]= np.where(\n",
    "            vac_pluto_df[\"_merge\"]==\"both\", 1, 0)\n",
    "\n",
    "print(\"\\nTab of outcome var (vacate ind)\")\n",
    "print(vac_pluto_df[[\"vacate_ind\", \"_merge\"]].value_counts())\n",
    "vac_pluto_df.drop(\"_merge\", axis = 1, inplace = True)"
   ]
  },
  {
   "cell_type": "code",
   "execution_count": null,
   "metadata": {},
   "outputs": [],
   "source": [
    "print(vac_ew.shape)\n",
    "# check size of unmerged buildings (small buildings under 10,000 sq. ft. for gov't buildings\n",
    "# and 25,000 shouldn't be merging)\n",
    "print(vac_ew.loc[vac_ew[\"property_id\"].notna(), :].shape)\n",
    "print(vac_ew.loc[vac_ew[\"property_id\"].isna(), :].shape)\n",
    "print(vac_ew.loc[(vac_ew[\"property_id\"].isna()) & \\\n",
    "                       (vac_ew[\"bldgarea\"] < 25000), \"bldgarea\"].shape)\n",
    "\n",
    "print(\"\\nMerge rate:\")\n",
    "print(vac_ew[\"_merge\"].value_counts())\n",
    "# assert there are no values unmerged on rhs\n",
    "assert vac_ew.loc[vac_ew[\"_merge\"]==\"right_only\"].shape[0]==0\n",
    "vac_ew.drop(\"_merge\", axis = 1, inplace = True)"
   ]
  }
 ],
 "metadata": {
  "colab": {
   "authorship_tag": "ABX9TyMorEa7Z8ODUCEPTOlT1br+",
   "collapsed_sections": [],
   "include_colab_link": true,
   "name": "nyc fire risk",
   "provenance": []
  },
  "kernelspec": {
   "display_name": "geo_env",
   "language": "python",
   "name": "geo_env"
  },
  "language_info": {
   "codemirror_mode": {
    "name": "ipython",
    "version": 3
   },
   "file_extension": ".py",
   "mimetype": "text/x-python",
   "name": "python",
   "nbconvert_exporter": "python",
   "pygments_lexer": "ipython3",
   "version": "3.9.7"
  }
 },
 "nbformat": 4,
 "nbformat_minor": 1
}
