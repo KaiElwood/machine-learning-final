{
 "cells": [
  {
   "cell_type": "markdown",
   "metadata": {
    "colab_type": "text",
    "id": "view-in-github"
   },
   "source": [
    "<a href=\"https://colab.research.google.com/github/jennahgosciak/nyc_fire_risk/blob/main/00_data_processing.ipynb\" target=\"_parent\"><img src=\"https://colab.research.google.com/assets/colab-badge.svg\" alt=\"Open In Colab\"/></a>"
   ]
  },
  {
   "cell_type": "code",
   "execution_count": null,
   "metadata": {
    "colab": {
     "base_uri": "https://localhost:8080/"
    },
    "id": "U1iob6hhzqBo",
    "outputId": "de0ac75a-2af0-489b-ad9a-583476fb2520"
   },
   "outputs": [],
   "source": [
    "# setup\n",
    "import pandas as pd\n",
    "import numpy as np\n",
    "import matplotlib\n",
    "import matplotlib.pyplot as plt \n",
    "import requests\n",
    "import calendar\n",
    "import geopandas as gpd\n",
    "import os.path as os\n",
    "import scipy.stats\n",
    "import seaborn.palettes\n",
    "import seaborn.utils\n",
    "import sys\n",
    "from census import Census\n",
    "from us import states\n",
    "import http.client, urllib.request, urllib.parse, urllib.error, base64\n",
    "import config\n",
    "import quickstart\n",
    "\n",
    "root= r\"C:/Users/Jennah/Desktop/Code/machine-learning-final\"\n",
    "inp= os.join(root, \"data\", \"2_intermediate\")\n",
    "out= os.join(root, \"data\", \"3_clean\")"
   ]
  },
  {
   "cell_type": "code",
   "execution_count": null,
   "metadata": {
    "scrolled": true
   },
   "outputs": [],
   "source": [
    "from pydrive.auth import GoogleAuth\n",
    "\n",
    "gauth = GoogleAuth()\n",
    "gauth.LocalWebserverAuth() # Creates local webserver and auto handles authentication."
   ]
  },
  {
   "cell_type": "code",
   "execution_count": null,
   "metadata": {
    "scrolled": true
   },
   "outputs": [],
   "source": [
    "from pydrive.drive import GoogleDrive\n",
    "drive = GoogleDrive(gauth)\n",
    "fileList = drive.ListFile({'q': \"'1kiYbPtSYavHQKzyMWtXaLhP-JM2toXRm' in parents and trashed=false\"}).GetList()\n",
    "for file in fileList:\n",
    "  print('Title: %s, ID: %s' % (file['title'], file['id']))\n",
    "  # Get the folder ID that you want\n",
    "  if(file['title'] == \"To Share\"):\n",
    "      fileID = file['id']"
   ]
  },
  {
   "cell_type": "markdown",
   "metadata": {},
   "source": [
    "## Load outcomes (fire vacate orders)"
   ]
  },
  {
   "cell_type": "code",
   "execution_count": null,
   "metadata": {},
   "outputs": [],
   "source": [
    "csv = drive.CreateFile({'id': '1caDnIMowquAoJuZi1tDlyEqAS4HhXiU0'})\n",
    "csv.GetContentFile('fire_vacate_bbl.csv')  \n",
    "\n",
    "df= pd.read_csv('fire_vacate_bbl.csv')[[\"bbl\", \"num_vac_orders\"]]\n",
    "df[\"bbl\"]= df[\"bbl\"].astype(str).str.replace(\".0\", \"\", regex = False)"
   ]
  },
  {
   "cell_type": "markdown",
   "metadata": {},
   "source": [
    "### Load PLUTO"
   ]
  },
  {
   "cell_type": "code",
   "execution_count": null,
   "metadata": {},
   "outputs": [],
   "source": [
    "csv = drive.CreateFile({'id': '1j2KR6Tpa4CTA0k1omVfE52UYlMBMz17o'})\n",
    "csv.GetContentFile('pluto_df.csv')  \n",
    "\n",
    "pluto= pd.read_csv('pluto_df.csv').drop(\"Unnamed: 0\", axis =1)\n",
    "pluto[\"bbl\"]= pluto[\"bbl\"].astype(str).str.replace(\".0\", \"\", regex = False)"
   ]
  },
  {
   "cell_type": "code",
   "execution_count": null,
   "metadata": {},
   "outputs": [],
   "source": [
    "pluto.head()"
   ]
  },
  {
   "cell_type": "code",
   "execution_count": null,
   "metadata": {
    "scrolled": false
   },
   "outputs": [],
   "source": [
    "# left join from pluto to capture all properties\n",
    "# use df for space constraints\n",
    "df_pl= pluto.merge(df, how = \"left\", on = \"bbl\", indicator = True)\n",
    "print(df_pl[\"_merge\"].value_counts())\n",
    "\n",
    "# create indicator of fire vacancy based on indicator\n",
    "df_pl[\"vacate_ind\"]= np.where(\n",
    "            df_pl[\"_merge\"]==\"both\", 1, 0)\n",
    "df_pl.loc[df_pl[\"_merge\"]==\"left_only\", \"num_vacate_orders\"]= 0\n",
    "\n",
    "print(\"\\nTab of outcome var (vacate ind)\")\n",
    "print(df_pl[[\"vacate_ind\", \"_merge\"]].value_counts())\n",
    "df_pl.drop(\"_merge\", axis = 1, inplace = True)"
   ]
  },
  {
   "cell_type": "markdown",
   "metadata": {},
   "source": [
    "### HPD Speculations"
   ]
  },
  {
   "cell_type": "code",
   "execution_count": null,
   "metadata": {},
   "outputs": [],
   "source": [
    "csv = drive.CreateFile({'id': '1yf86QR6yv2Z9Q6WNINW87RASUsdHPDl6'})\n",
    "csv.GetContentFile('hpd_spec.csv')  \n",
    "\n",
    "hpd_spec= pd.read_csv('hpd_spec.csv').drop(\"Unnamed: 0\", axis = 1)\n",
    "hpd_spec[\"bbl\"]= hpd_spec[\"bbl\"].astype(str).str.replace(\".0\", \"\", regex = False)"
   ]
  },
  {
   "cell_type": "code",
   "execution_count": null,
   "metadata": {},
   "outputs": [],
   "source": [
    "hpd_spec.head()"
   ]
  },
  {
   "cell_type": "code",
   "execution_count": null,
   "metadata": {
    "scrolled": true
   },
   "outputs": [],
   "source": [
    "# left join from pluto to HPD\n",
    "# use df for space constraints\n",
    "df_hpd_spec= df_pl.merge(hpd_spec, how = \"left\", on = \"bbl\", indicator = True)\n",
    "print(df_hpd_spec[\"_merge\"].value_counts())\n",
    "\n",
    "# create indicator of fire vacancy based on indicator\n",
    "df_hpd_spec[\"speculation\"]= np.where(\n",
    "            df_hpd_spec[\"_merge\"]==\"both\", 1, 0)\n",
    "\n",
    "df_hpd_spec.drop(\"_merge\", axis = 1, inplace = True)"
   ]
  },
  {
   "cell_type": "code",
   "execution_count": null,
   "metadata": {
    "scrolled": true
   },
   "outputs": [],
   "source": [
    "hpd_spec.head()"
   ]
  },
  {
   "cell_type": "markdown",
   "metadata": {},
   "source": [
    "### HPD Violations"
   ]
  },
  {
   "cell_type": "code",
   "execution_count": null,
   "metadata": {},
   "outputs": [],
   "source": [
    "csv = drive.CreateFile({'id': '13-4GIdxui77MIVhk6QmfBUdmTTZS1U3v'})\n",
    "csv.GetContentFile('hpd_viol.csv')  \n",
    "\n",
    "hpd_viol= pd.read_csv('hpd_viol.csv', skiprows = 2).rename({\"Unnamed: 1\": \"viol_count\",\n",
    "                                                           \"BBL\":\"bbl\"}, axis = 1)\n",
    "hpd_viol= hpd_viol.drop(hpd_viol[(hpd_viol[\"bbl\"] - 0)<1].index, axis = 0)\n",
    "hpd_viol[\"bbl\"]= hpd_viol[\"bbl\"].astype(str).str.replace(\".0\", \"\", regex = False)"
   ]
  },
  {
   "cell_type": "code",
   "execution_count": null,
   "metadata": {
    "scrolled": true
   },
   "outputs": [],
   "source": [
    "hpd_viol.head()"
   ]
  },
  {
   "cell_type": "code",
   "execution_count": null,
   "metadata": {
    "scrolled": true
   },
   "outputs": [],
   "source": [
    "# left join from pluto to HPD\n",
    "# use df for space constraints\n",
    "df_hpd_viol= df_pl.merge(hpd_viol, how = \"left\", on = \"bbl\", indicator = True)\n",
    "print(df_hpd_viol[\"_merge\"].value_counts())\n",
    "\n",
    "# create indicator of fire vacancy based on indicator\n",
    "df_hpd_viol.loc[df_hpd_viol[\"_merge\"]==\"left_only\", \"viol_count\"]= 0\n",
    "\n",
    "df_hpd_viol.drop(\"_merge\", axis = 1, inplace = True)"
   ]
  },
  {
   "cell_type": "code",
   "execution_count": null,
   "metadata": {},
   "outputs": [],
   "source": [
    "df_hpd_viol[\"viol_count_per_unit\"]= df_hpd_viol[\"viol_count\"].div(df_hpd_viol[\"unitsres\"])"
   ]
  },
  {
   "cell_type": "markdown",
   "metadata": {},
   "source": [
    "### DOB Building Permits"
   ]
  },
  {
   "cell_type": "code",
   "execution_count": null,
   "metadata": {},
   "outputs": [],
   "source": [
    "csv = drive.CreateFile({'id': '1mH_X0bLa_a1r-hpzwz43HpC7fFcayufp'})\n",
    "csv.GetContentFile('dev_perm.csv')  \n",
    "\n",
    "dev= pd.read_csv('dev_perm.csv', header=[0,1], index_col=[0])['avg_permits'].reset_index()\n",
    "dev[\"bbl\"]= dev[\"bbl\"].astype(str).str.replace(\".0\", \"\", regex = False)\n",
    "dev.head()"
   ]
  },
  {
   "cell_type": "code",
   "execution_count": null,
   "metadata": {
    "scrolled": true
   },
   "outputs": [],
   "source": [
    "# left join from pluto to dev dob permits\n",
    "# use df for space constraints\n",
    "df_dev= df_hpd_viol.merge(dev, how = \"left\", on = \"bbl\", indicator = True)\n",
    "print(df_dev[\"_merge\"].value_counts())\n",
    "\n",
    "# create indicator of fire vacancy based on indicator\n",
    "df_dev.loc[df_dev[\"_merge\"]==\"left_only\", \"AL\"]= 0\n",
    "df_dev.loc[df_dev[\"_merge\"]==\"left_only\", \"NB\"]= 0\n",
    "\n",
    "df_dev.drop(\"_merge\", axis = 1, inplace = True)"
   ]
  },
  {
   "cell_type": "markdown",
   "metadata": {},
   "source": [
    "### LL 84"
   ]
  },
  {
   "cell_type": "code",
   "execution_count": null,
   "metadata": {},
   "outputs": [],
   "source": [
    "csv = drive.CreateFile({'id': '1NOKtbGyL3_TBSMp_eqybVaQc67t33yuo'})\n",
    "csv.GetContentFile('ll84_avg.csv')  \n",
    "\n",
    "ll84= pd.read_csv('ll84_avg.csv').drop({\"Unnamed: 0\"}, axis = 1)\n",
    "ll84[\"bbl\"]= ll84[\"bbl\"].astype(str).str.replace(\".0\", \"\", regex = False)\n",
    "ll84= ll84.drop(ll84[ll84[\"bbl\"].apply(len)<10].index, axis = 0)"
   ]
  },
  {
   "cell_type": "code",
   "execution_count": null,
   "metadata": {},
   "outputs": [],
   "source": [
    "# left join from pluto to dev dob permits\n",
    "# use df for space constraints\n",
    "df_ll84= df_dev.merge(ll84, how = \"left\", on = \"bbl\", indicator = True)\n",
    "print(df_ll84[\"_merge\"].value_counts())\n",
    "\n",
    "# create indicator of fire vacancy based on indicator\n",
    "df_ll84.loc[df_ll84[\"_merge\"]==\"left_only\", \"average_energy_usage_mi\"]= 1\n",
    "df_ll84.loc[df_ll84[\"_merge\"]==\"both\", \"average_energy_usage_mi\"]= 0\n",
    "df_ll84.loc[df_ll84[\"_merge\"]==\"left_only\", \"average_energy_usage\"]= 0\n",
    "\n",
    "df_ll84.drop(\"_merge\", axis = 1, inplace = True)"
   ]
  },
  {
   "cell_type": "markdown",
   "metadata": {},
   "source": [
    "### Export analytic file"
   ]
  },
  {
   "cell_type": "code",
   "execution_count": null,
   "metadata": {},
   "outputs": [],
   "source": [
    "df_ll84.to_csv(os.join(root, \"data\", \"3_clean\", \"analysis_bbl.csv\"))"
   ]
  },
  {
   "cell_type": "code",
   "execution_count": null,
   "metadata": {
    "scrolled": true
   },
   "outputs": [],
   "source": [
    "df_ll84.head()"
   ]
  },
  {
   "cell_type": "markdown",
   "metadata": {},
   "source": [
    "## Predictors to add?\n",
    "* Number of times sold\n",
    "* Sale within 2012?\n",
    "* Tax Lien Sale\n",
    "* Unpaid charges"
   ]
  },
  {
   "cell_type": "code",
   "execution_count": null,
   "metadata": {},
   "outputs": [],
   "source": []
  }
 ],
 "metadata": {
  "colab": {
   "authorship_tag": "ABX9TyMorEa7Z8ODUCEPTOlT1br+",
   "collapsed_sections": [],
   "include_colab_link": true,
   "name": "nyc fire risk",
   "provenance": []
  },
  "kernelspec": {
   "display_name": "geo_env",
   "language": "python",
   "name": "geo_env"
  },
  "language_info": {
   "codemirror_mode": {
    "name": "ipython",
    "version": 3
   },
   "file_extension": ".py",
   "mimetype": "text/x-python",
   "name": "python",
   "nbconvert_exporter": "python",
   "pygments_lexer": "ipython3",
   "version": "3.9.7"
  }
 },
 "nbformat": 4,
 "nbformat_minor": 1
}
