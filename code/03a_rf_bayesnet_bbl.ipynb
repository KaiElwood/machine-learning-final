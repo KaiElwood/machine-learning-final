{
 "cells": [
  {
   "cell_type": "code",
   "execution_count": 1,
   "id": "a018be8b",
   "metadata": {},
   "outputs": [],
   "source": [
    "# setup\n",
    "import pandas as pd\n",
    "import numpy as np\n",
    "import matplotlib\n",
    "import matplotlib.pyplot as plt \n",
    "import requests\n",
    "import calendar\n",
    "import geopandas as gpd\n",
    "import os.path as os\n",
    "import scipy.stats\n",
    "import seaborn.palettes\n",
    "import seaborn.utils\n",
    "import sys\n",
    "import config\n",
    "\n",
    "from sklearn.model_selection import train_test_split\n",
    "from sklearn.model_selection import GridSearchCV\n",
    "from sklearn.metrics import precision_recall_fscore_support\n",
    "\n",
    "root= r\"C:/Users/Jennah/Desktop/Code/machine-learning-final\"\n",
    "inp= os.join(root, \"data\", \"3_clean\")\n",
    "interm= os.join(root, \"data\", \"2_intermediate\")\n",
    "\n",
    "plots= os.join(root, \"code\", \"plots\")"
   ]
  },
  {
   "cell_type": "code",
   "execution_count": 2,
   "id": "ddb23994",
   "metadata": {},
   "outputs": [
    {
     "name": "stdout",
     "output_type": "stream",
     "text": [
      "Your browser has been opened to visit:\n",
      "\n",
      "    https://accounts.google.com/o/oauth2/auth?client_id=570719947456-53haph7mjc317oel1ujh0kmjbfd499jf.apps.googleusercontent.com&redirect_uri=http%3A%2F%2Flocalhost%3A8080%2F&scope=https%3A%2F%2Fwww.googleapis.com%2Fauth%2Fdrive&access_type=offline&response_type=code\n",
      "\n",
      "Authentication successful.\n"
     ]
    }
   ],
   "source": [
    "from pydrive.auth import GoogleAuth\n",
    "\n",
    "gauth = GoogleAuth()\n",
    "gauth.LocalWebserverAuth() # Creates local webserver and auto handles authentication.\n",
    "\n",
    "from pydrive.drive import GoogleDrive\n",
    "drive = GoogleDrive(gauth)"
   ]
  },
  {
   "cell_type": "code",
   "execution_count": 3,
   "id": "763f2a7f",
   "metadata": {
    "scrolled": true
   },
   "outputs": [
    {
     "name": "stdout",
     "output_type": "stream",
     "text": [
      "Title: analysis_box.csv, ID: 1Vzjvta98IG9Hg4SfAGcd8JD8FaF3IXwy\n",
      "Title: analysis_bbl.csv, ID: 1yYX-ROr1c7fzcQiG6NZ1sh7Ko5gqr_4G\n",
      "Title: analysis_bbl_noacs.csv, ID: 1h-tDpBSslfzqzsJe1ny_ujDnr68RKry3\n",
      "Title: borobox_convex_hull.geojson, ID: 1SzBNj3Ba-v9MEwuCkZT9e9iAwVYUqx8r\n"
     ]
    }
   ],
   "source": [
    "# files in clean data google drive\n",
    "fileList = drive.ListFile({'q': \"'1jxSI_nq32-W9kPHKvQkzuNGJ5aIBD2j2' in parents and trashed=false\"}).GetList()\n",
    "for file in fileList:\n",
    "  print('Title: %s, ID: %s' % (file['title'], file['id']))\n",
    "  # Get the folder ID that you want\n",
    "  if(file['title'] == \"To Share\"):\n",
    "      fileID = file['id']"
   ]
  },
  {
   "cell_type": "code",
   "execution_count": 4,
   "id": "02cf438c",
   "metadata": {
    "scrolled": true
   },
   "outputs": [
    {
     "name": "stderr",
     "output_type": "stream",
     "text": [
      "C:\\Users\\Jennah\\anaconda3\\envs\\geo_env\\lib\\site-packages\\openpyxl\\worksheet\\_reader.py:312: UserWarning: Unknown extension is not supported and will be removed\n",
      "  warn(msg)\n"
     ]
    },
    {
     "data": {
      "text/html": [
       "<div>\n",
       "<style scoped>\n",
       "    .dataframe tbody tr th:only-of-type {\n",
       "        vertical-align: middle;\n",
       "    }\n",
       "\n",
       "    .dataframe tbody tr th {\n",
       "        vertical-align: top;\n",
       "    }\n",
       "\n",
       "    .dataframe thead th {\n",
       "        text-align: right;\n",
       "    }\n",
       "</style>\n",
       "<table border=\"1\" class=\"dataframe\">\n",
       "  <thead>\n",
       "    <tr style=\"text-align: right;\">\n",
       "      <th></th>\n",
       "      <th>Variable</th>\n",
       "      <th>Description</th>\n",
       "      <th>Source</th>\n",
       "      <th>Notes</th>\n",
       "      <th>Include_BBL</th>\n",
       "      <th>Include_Box</th>\n",
       "    </tr>\n",
       "  </thead>\n",
       "  <tbody>\n",
       "    <tr>\n",
       "      <th>0</th>\n",
       "      <td>geofips</td>\n",
       "      <td>census tract geo identifier</td>\n",
       "      <td>Census ACS</td>\n",
       "      <td>NaN</td>\n",
       "      <td>0</td>\n",
       "      <td>0</td>\n",
       "    </tr>\n",
       "    <tr>\n",
       "      <th>1</th>\n",
       "      <td>geofips_recode</td>\n",
       "      <td>census tract geo identifier, changes county to...</td>\n",
       "      <td>Census ACS</td>\n",
       "      <td>NaN</td>\n",
       "      <td>0</td>\n",
       "      <td>0</td>\n",
       "    </tr>\n",
       "    <tr>\n",
       "      <th>2</th>\n",
       "      <td>totpop</td>\n",
       "      <td>total population</td>\n",
       "      <td>Census ACS</td>\n",
       "      <td>NaN</td>\n",
       "      <td>1</td>\n",
       "      <td>1</td>\n",
       "    </tr>\n",
       "    <tr>\n",
       "      <th>3</th>\n",
       "      <td>popdens</td>\n",
       "      <td>total population per square mile</td>\n",
       "      <td>Census ACS</td>\n",
       "      <td>NaN</td>\n",
       "      <td>1</td>\n",
       "      <td>1</td>\n",
       "    </tr>\n",
       "    <tr>\n",
       "      <th>4</th>\n",
       "      <td>areasqmile</td>\n",
       "      <td>area</td>\n",
       "      <td>Census ACS</td>\n",
       "      <td>NaN</td>\n",
       "      <td>1</td>\n",
       "      <td>1</td>\n",
       "    </tr>\n",
       "  </tbody>\n",
       "</table>\n",
       "</div>"
      ],
      "text/plain": [
       "         Variable                                        Description  \\\n",
       "0         geofips                        census tract geo identifier   \n",
       "1  geofips_recode  census tract geo identifier, changes county to...   \n",
       "2          totpop                                   total population   \n",
       "3         popdens                   total population per square mile   \n",
       "4      areasqmile                                               area   \n",
       "\n",
       "       Source Notes  Include_BBL  Include_Box  \n",
       "0  Census ACS   NaN            0            0  \n",
       "1  Census ACS   NaN            0            0  \n",
       "2  Census ACS   NaN            1            1  \n",
       "3  Census ACS   NaN            1            1  \n",
       "4  Census ACS   NaN            1            1  "
      ]
     },
     "execution_count": 4,
     "metadata": {},
     "output_type": "execute_result"
    }
   ],
   "source": [
    "# load codebook        \n",
    "codebk = drive.CreateFile({'id': '1Lf7kV9_R-caFZV6_l8hMxAVjFSVFhvYl'})\n",
    "codebk.GetContentFile('codebook.xlsx')  \n",
    "\n",
    "codebk= pd.read_excel('codebook.xlsx', sheet_name = \"predictors\")\n",
    "codebk.head()"
   ]
  },
  {
   "cell_type": "code",
   "execution_count": 40,
   "id": "e2cfab00",
   "metadata": {},
   "outputs": [
    {
     "name": "stdout",
     "output_type": "stream",
     "text": [
      "Percent in data: 0.003403805883721599\n"
     ]
    }
   ],
   "source": [
    "print(\"Percent in data:\", df_bbl[\"vacate_ind\"].mean())"
   ]
  },
  {
   "cell_type": "code",
   "execution_count": 5,
   "id": "8bfc13f9",
   "metadata": {
    "scrolled": true
   },
   "outputs": [
    {
     "data": {
      "text/plain": [
       "2             totpop\n",
       "3            popdens\n",
       "4         areasqmile\n",
       "5              males\n",
       "6            females\n",
       "           ...      \n",
       "102        assesstot\n",
       "103        exempttot\n",
       "104        yearbuilt\n",
       "105      landuse_cat\n",
       "106    bldgclass_cat\n",
       "Name: Variable, Length: 90, dtype: object"
      ]
     },
     "execution_count": 5,
     "metadata": {},
     "output_type": "execute_result"
    }
   ],
   "source": [
    "predictors_full = codebk.loc[codebk[\"Include_BBL\"] == 1, \"Variable\"].apply(lambda x: x.strip())\n",
    "predictors_full"
   ]
  },
  {
   "cell_type": "code",
   "execution_count": 6,
   "id": "75f74209",
   "metadata": {},
   "outputs": [
    {
     "data": {
      "text/plain": [
       "2            totpop\n",
       "3           popdens\n",
       "4        areasqmile\n",
       "5             males\n",
       "6           females\n",
       "           ...     \n",
       "164    bldgclass_A2\n",
       "165    bldgclass_A0\n",
       "166    bldgclass_A6\n",
       "167    bldgclass_A8\n",
       "168    bldgclass_CM\n",
       "Name: Variable, Length: 150, dtype: object"
      ]
     },
     "execution_count": 6,
     "metadata": {},
     "output_type": "execute_result"
    }
   ],
   "source": [
    "predictors_lasso = codebk.loc[codebk[\"Include_Box\"] == 1, \"Variable\"].apply(lambda x: x.strip())\n",
    "predictors_lasso"
   ]
  },
  {
   "cell_type": "markdown",
   "id": "14b53bf2",
   "metadata": {},
   "source": [
    "## Load building level analysis file"
   ]
  },
  {
   "cell_type": "code",
   "execution_count": 7,
   "id": "a136b453",
   "metadata": {},
   "outputs": [
    {
     "data": {
      "text/html": [
       "<div>\n",
       "<style scoped>\n",
       "    .dataframe tbody tr th:only-of-type {\n",
       "        vertical-align: middle;\n",
       "    }\n",
       "\n",
       "    .dataframe tbody tr th {\n",
       "        vertical-align: top;\n",
       "    }\n",
       "\n",
       "    .dataframe thead th {\n",
       "        text-align: right;\n",
       "    }\n",
       "</style>\n",
       "<table border=\"1\" class=\"dataframe\">\n",
       "  <thead>\n",
       "    <tr style=\"text-align: right;\">\n",
       "      <th></th>\n",
       "      <th>lotarea</th>\n",
       "      <th>bldgarea</th>\n",
       "      <th>numbldgs</th>\n",
       "      <th>numfloors</th>\n",
       "      <th>unitsres</th>\n",
       "      <th>unitstotal</th>\n",
       "      <th>assessland</th>\n",
       "      <th>assesstot</th>\n",
       "      <th>exempttot</th>\n",
       "      <th>yearbuilt</th>\n",
       "      <th>...</th>\n",
       "      <th>bldgclass_A0</th>\n",
       "      <th>bldgclass_A6</th>\n",
       "      <th>bldgclass_A8</th>\n",
       "      <th>bldgclass_CM</th>\n",
       "      <th>bbl</th>\n",
       "      <th>boroct2010</th>\n",
       "      <th>vacate_ind</th>\n",
       "      <th>borough</th>\n",
       "      <th>landuse</th>\n",
       "      <th>bldgclass</th>\n",
       "    </tr>\n",
       "  </thead>\n",
       "  <tbody>\n",
       "    <tr>\n",
       "      <th>0</th>\n",
       "      <td>2013.0</td>\n",
       "      <td>5555.0</td>\n",
       "      <td>1.0</td>\n",
       "      <td>4.0</td>\n",
       "      <td>6.0</td>\n",
       "      <td>6.0</td>\n",
       "      <td>345150.0</td>\n",
       "      <td>1317150.0</td>\n",
       "      <td>0.0</td>\n",
       "      <td>1899.0</td>\n",
       "      <td>...</td>\n",
       "      <td>0.0</td>\n",
       "      <td>0.0</td>\n",
       "      <td>0.0</td>\n",
       "      <td>0.0</td>\n",
       "      <td>1012090027</td>\n",
       "      <td>1018100</td>\n",
       "      <td>0.0</td>\n",
       "      <td>MN</td>\n",
       "      <td>2.0</td>\n",
       "      <td>C2</td>\n",
       "    </tr>\n",
       "    <tr>\n",
       "      <th>1</th>\n",
       "      <td>2517.0</td>\n",
       "      <td>6895.0</td>\n",
       "      <td>1.0</td>\n",
       "      <td>4.0</td>\n",
       "      <td>10.0</td>\n",
       "      <td>10.0</td>\n",
       "      <td>427500.0</td>\n",
       "      <td>1244700.0</td>\n",
       "      <td>0.0</td>\n",
       "      <td>1891.0</td>\n",
       "      <td>...</td>\n",
       "      <td>0.0</td>\n",
       "      <td>0.0</td>\n",
       "      <td>0.0</td>\n",
       "      <td>0.0</td>\n",
       "      <td>1012090028</td>\n",
       "      <td>1018100</td>\n",
       "      <td>0.0</td>\n",
       "      <td>MN</td>\n",
       "      <td>2.0</td>\n",
       "      <td>C5</td>\n",
       "    </tr>\n",
       "    <tr>\n",
       "      <th>2</th>\n",
       "      <td>10570.0</td>\n",
       "      <td>127289.0</td>\n",
       "      <td>1.0</td>\n",
       "      <td>17.0</td>\n",
       "      <td>69.0</td>\n",
       "      <td>69.0</td>\n",
       "      <td>2616300.0</td>\n",
       "      <td>12195900.0</td>\n",
       "      <td>136178.0</td>\n",
       "      <td>1930.0</td>\n",
       "      <td>...</td>\n",
       "      <td>0.0</td>\n",
       "      <td>0.0</td>\n",
       "      <td>0.0</td>\n",
       "      <td>0.0</td>\n",
       "      <td>1012090037</td>\n",
       "      <td>1018100</td>\n",
       "      <td>0.0</td>\n",
       "      <td>MN</td>\n",
       "      <td>3.0</td>\n",
       "      <td>D4</td>\n",
       "    </tr>\n",
       "    <tr>\n",
       "      <th>3</th>\n",
       "      <td>3926.0</td>\n",
       "      <td>20358.0</td>\n",
       "      <td>1.0</td>\n",
       "      <td>6.0</td>\n",
       "      <td>25.0</td>\n",
       "      <td>25.0</td>\n",
       "      <td>490500.0</td>\n",
       "      <td>1929600.0</td>\n",
       "      <td>92325.0</td>\n",
       "      <td>1961.0</td>\n",
       "      <td>...</td>\n",
       "      <td>0.0</td>\n",
       "      <td>0.0</td>\n",
       "      <td>0.0</td>\n",
       "      <td>0.0</td>\n",
       "      <td>1012090049</td>\n",
       "      <td>1018100</td>\n",
       "      <td>0.0</td>\n",
       "      <td>MN</td>\n",
       "      <td>3.0</td>\n",
       "      <td>D4</td>\n",
       "    </tr>\n",
       "    <tr>\n",
       "      <th>4</th>\n",
       "      <td>5035.0</td>\n",
       "      <td>21258.0</td>\n",
       "      <td>1.0</td>\n",
       "      <td>6.0</td>\n",
       "      <td>12.0</td>\n",
       "      <td>12.0</td>\n",
       "      <td>585000.0</td>\n",
       "      <td>1414350.0</td>\n",
       "      <td>15640.0</td>\n",
       "      <td>1905.0</td>\n",
       "      <td>...</td>\n",
       "      <td>0.0</td>\n",
       "      <td>0.0</td>\n",
       "      <td>0.0</td>\n",
       "      <td>0.0</td>\n",
       "      <td>1012090051</td>\n",
       "      <td>1018100</td>\n",
       "      <td>0.0</td>\n",
       "      <td>MN</td>\n",
       "      <td>3.0</td>\n",
       "      <td>D4</td>\n",
       "    </tr>\n",
       "  </tbody>\n",
       "</table>\n",
       "<p>5 rows × 160 columns</p>\n",
       "</div>"
      ],
      "text/plain": [
       "   lotarea  bldgarea  numbldgs  numfloors  unitsres  unitstotal  assessland  \\\n",
       "0   2013.0    5555.0       1.0        4.0       6.0         6.0    345150.0   \n",
       "1   2517.0    6895.0       1.0        4.0      10.0        10.0    427500.0   \n",
       "2  10570.0  127289.0       1.0       17.0      69.0        69.0   2616300.0   \n",
       "3   3926.0   20358.0       1.0        6.0      25.0        25.0    490500.0   \n",
       "4   5035.0   21258.0       1.0        6.0      12.0        12.0    585000.0   \n",
       "\n",
       "    assesstot  exempttot  yearbuilt  ...  bldgclass_A0  bldgclass_A6  \\\n",
       "0   1317150.0        0.0     1899.0  ...           0.0           0.0   \n",
       "1   1244700.0        0.0     1891.0  ...           0.0           0.0   \n",
       "2  12195900.0   136178.0     1930.0  ...           0.0           0.0   \n",
       "3   1929600.0    92325.0     1961.0  ...           0.0           0.0   \n",
       "4   1414350.0    15640.0     1905.0  ...           0.0           0.0   \n",
       "\n",
       "   bldgclass_A8  bldgclass_CM         bbl  boroct2010  vacate_ind  borough  \\\n",
       "0           0.0           0.0  1012090027     1018100         0.0       MN   \n",
       "1           0.0           0.0  1012090028     1018100         0.0       MN   \n",
       "2           0.0           0.0  1012090037     1018100         0.0       MN   \n",
       "3           0.0           0.0  1012090049     1018100         0.0       MN   \n",
       "4           0.0           0.0  1012090051     1018100         0.0       MN   \n",
       "\n",
       "   landuse  bldgclass  \n",
       "0      2.0         C2  \n",
       "1      2.0         C5  \n",
       "2      3.0         D4  \n",
       "3      3.0         D4  \n",
       "4      3.0         D4  \n",
       "\n",
       "[5 rows x 160 columns]"
      ]
     },
     "execution_count": 7,
     "metadata": {},
     "output_type": "execute_result"
    }
   ],
   "source": [
    "df_bbl = drive.CreateFile({'id': '1yYX-ROr1c7fzcQiG6NZ1sh7Ko5gqr_4G'})\n",
    "df_bbl.GetContentFile('analysis_bbl.csv')  \n",
    "\n",
    "df_bbl= pd.read_csv('analysis_bbl.csv').drop([\"Unnamed: 0\"], axis = 1)\n",
    "df_bbl.head()"
   ]
  },
  {
   "cell_type": "code",
   "execution_count": 8,
   "id": "5a3fa7da",
   "metadata": {},
   "outputs": [],
   "source": [
    "assert df_bbl[\"bbl\"].isna().sum() == 0\n",
    "assert df_bbl[\"holc_D\"].isna().sum() == 0"
   ]
  },
  {
   "cell_type": "code",
   "execution_count": 9,
   "id": "259a1f3e",
   "metadata": {},
   "outputs": [],
   "source": [
    "assert df_bbl.loc[:, \"vacate_ind\"].isna().sum() == 0"
   ]
  },
  {
   "cell_type": "code",
   "execution_count": 10,
   "id": "fa38421a",
   "metadata": {
    "scrolled": true
   },
   "outputs": [
    {
     "name": "stdout",
     "output_type": "stream",
     "text": [
      "Index(['lotarea', 'bldgarea', 'numbldgs', 'numfloors', 'unitsres',\n",
      "       'unitstotal', 'assessland', 'assesstot', 'exempttot', 'yearbuilt',\n",
      "       ...\n",
      "       'bldgclass_A0', 'bldgclass_A6', 'bldgclass_A8', 'bldgclass_CM', 'bbl',\n",
      "       'boroct2010', 'vacate_ind', 'borough', 'landuse', 'bldgclass'],\n",
      "      dtype='object', length=160)\n"
     ]
    },
    {
     "data": {
      "text/html": [
       "<div>\n",
       "<style scoped>\n",
       "    .dataframe tbody tr th:only-of-type {\n",
       "        vertical-align: middle;\n",
       "    }\n",
       "\n",
       "    .dataframe tbody tr th {\n",
       "        vertical-align: top;\n",
       "    }\n",
       "\n",
       "    .dataframe thead th {\n",
       "        text-align: right;\n",
       "    }\n",
       "</style>\n",
       "<table border=\"1\" class=\"dataframe\">\n",
       "  <thead>\n",
       "    <tr style=\"text-align: right;\">\n",
       "      <th></th>\n",
       "      <th>lotarea</th>\n",
       "      <th>bldgarea</th>\n",
       "      <th>numbldgs</th>\n",
       "      <th>numfloors</th>\n",
       "      <th>unitsres</th>\n",
       "      <th>unitstotal</th>\n",
       "      <th>assessland</th>\n",
       "      <th>assesstot</th>\n",
       "      <th>exempttot</th>\n",
       "      <th>yearbuilt</th>\n",
       "      <th>...</th>\n",
       "      <th>bldgclass_Z0</th>\n",
       "      <th>bldgclass_A2</th>\n",
       "      <th>bldgclass_A0</th>\n",
       "      <th>bldgclass_A6</th>\n",
       "      <th>bldgclass_A8</th>\n",
       "      <th>bldgclass_CM</th>\n",
       "      <th>bbl</th>\n",
       "      <th>boroct2010</th>\n",
       "      <th>vacate_ind</th>\n",
       "      <th>landuse</th>\n",
       "    </tr>\n",
       "  </thead>\n",
       "  <tbody>\n",
       "    <tr>\n",
       "      <th>count</th>\n",
       "      <td>7.650260e+05</td>\n",
       "      <td>7.650260e+05</td>\n",
       "      <td>765026.000000</td>\n",
       "      <td>765026.000000</td>\n",
       "      <td>765026.000000</td>\n",
       "      <td>765026.000000</td>\n",
       "      <td>7.650260e+05</td>\n",
       "      <td>7.650260e+05</td>\n",
       "      <td>7.650260e+05</td>\n",
       "      <td>765026.000000</td>\n",
       "      <td>...</td>\n",
       "      <td>765026.000000</td>\n",
       "      <td>765026.000000</td>\n",
       "      <td>765026.000000</td>\n",
       "      <td>765026.000000</td>\n",
       "      <td>765026.000000</td>\n",
       "      <td>765026.000000</td>\n",
       "      <td>7.650260e+05</td>\n",
       "      <td>7.650260e+05</td>\n",
       "      <td>765026.000000</td>\n",
       "      <td>765026.000000</td>\n",
       "    </tr>\n",
       "    <tr>\n",
       "      <th>mean</th>\n",
       "      <td>3.812014e+03</td>\n",
       "      <td>5.051030e+03</td>\n",
       "      <td>1.324975</td>\n",
       "      <td>2.443933</td>\n",
       "      <td>4.689669</td>\n",
       "      <td>4.894059</td>\n",
       "      <td>5.407344e+04</td>\n",
       "      <td>2.821186e+05</td>\n",
       "      <td>5.387875e+04</td>\n",
       "      <td>1938.547234</td>\n",
       "      <td>...</td>\n",
       "      <td>0.000508</td>\n",
       "      <td>0.058912</td>\n",
       "      <td>0.011311</td>\n",
       "      <td>0.001029</td>\n",
       "      <td>0.000038</td>\n",
       "      <td>0.000001</td>\n",
       "      <td>3.548735e+09</td>\n",
       "      <td>3.541768e+06</td>\n",
       "      <td>0.003404</td>\n",
       "      <td>1.421477</td>\n",
       "    </tr>\n",
       "    <tr>\n",
       "      <th>std</th>\n",
       "      <td>2.318736e+04</td>\n",
       "      <td>3.520154e+04</td>\n",
       "      <td>2.726640</td>\n",
       "      <td>1.676083</td>\n",
       "      <td>42.058995</td>\n",
       "      <td>47.000007</td>\n",
       "      <td>5.127009e+05</td>\n",
       "      <td>2.549800e+06</td>\n",
       "      <td>1.355497e+06</td>\n",
       "      <td>68.722810</td>\n",
       "      <td>...</td>\n",
       "      <td>0.022544</td>\n",
       "      <td>0.235460</td>\n",
       "      <td>0.105749</td>\n",
       "      <td>0.032057</td>\n",
       "      <td>0.006157</td>\n",
       "      <td>0.001143</td>\n",
       "      <td>1.003515e+09</td>\n",
       "      <td>9.994487e+05</td>\n",
       "      <td>0.058243</td>\n",
       "      <td>0.842764</td>\n",
       "    </tr>\n",
       "    <tr>\n",
       "      <th>min</th>\n",
       "      <td>2.300000e+01</td>\n",
       "      <td>0.000000e+00</td>\n",
       "      <td>0.000000</td>\n",
       "      <td>0.000000</td>\n",
       "      <td>0.000000</td>\n",
       "      <td>0.000000</td>\n",
       "      <td>0.000000e+00</td>\n",
       "      <td>0.000000e+00</td>\n",
       "      <td>0.000000e+00</td>\n",
       "      <td>0.000000</td>\n",
       "      <td>...</td>\n",
       "      <td>0.000000</td>\n",
       "      <td>0.000000</td>\n",
       "      <td>0.000000</td>\n",
       "      <td>0.000000</td>\n",
       "      <td>0.000000</td>\n",
       "      <td>0.000000</td>\n",
       "      <td>1.000070e+09</td>\n",
       "      <td>1.000201e+06</td>\n",
       "      <td>0.000000</td>\n",
       "      <td>1.000000</td>\n",
       "    </tr>\n",
       "    <tr>\n",
       "      <th>25%</th>\n",
       "      <td>2.000000e+03</td>\n",
       "      <td>1.440000e+03</td>\n",
       "      <td>1.000000</td>\n",
       "      <td>2.000000</td>\n",
       "      <td>1.000000</td>\n",
       "      <td>1.000000</td>\n",
       "      <td>1.020000e+04</td>\n",
       "      <td>3.786000e+04</td>\n",
       "      <td>0.000000e+00</td>\n",
       "      <td>1920.000000</td>\n",
       "      <td>...</td>\n",
       "      <td>0.000000</td>\n",
       "      <td>0.000000</td>\n",
       "      <td>0.000000</td>\n",
       "      <td>0.000000</td>\n",
       "      <td>0.000000</td>\n",
       "      <td>0.000000</td>\n",
       "      <td>3.036730e+09</td>\n",
       "      <td>3.030100e+06</td>\n",
       "      <td>0.000000</td>\n",
       "      <td>1.000000</td>\n",
       "    </tr>\n",
       "    <tr>\n",
       "      <th>50%</th>\n",
       "      <td>2.500000e+03</td>\n",
       "      <td>2.020000e+03</td>\n",
       "      <td>1.000000</td>\n",
       "      <td>2.000000</td>\n",
       "      <td>2.000000</td>\n",
       "      <td>2.000000</td>\n",
       "      <td>1.368000e+04</td>\n",
       "      <td>5.172000e+04</td>\n",
       "      <td>0.000000e+00</td>\n",
       "      <td>1931.000000</td>\n",
       "      <td>...</td>\n",
       "      <td>0.000000</td>\n",
       "      <td>0.000000</td>\n",
       "      <td>0.000000</td>\n",
       "      <td>0.000000</td>\n",
       "      <td>0.000000</td>\n",
       "      <td>0.000000</td>\n",
       "      <td>4.012680e+09</td>\n",
       "      <td>4.010200e+06</td>\n",
       "      <td>0.000000</td>\n",
       "      <td>1.000000</td>\n",
       "    </tr>\n",
       "    <tr>\n",
       "      <th>75%</th>\n",
       "      <td>4.000000e+03</td>\n",
       "      <td>2.923000e+03</td>\n",
       "      <td>2.000000</td>\n",
       "      <td>2.750000</td>\n",
       "      <td>2.000000</td>\n",
       "      <td>2.000000</td>\n",
       "      <td>1.986000e+04</td>\n",
       "      <td>8.304000e+04</td>\n",
       "      <td>1.440000e+03</td>\n",
       "      <td>1960.000000</td>\n",
       "      <td>...</td>\n",
       "      <td>0.000000</td>\n",
       "      <td>0.000000</td>\n",
       "      <td>0.000000</td>\n",
       "      <td>0.000000</td>\n",
       "      <td>0.000000</td>\n",
       "      <td>0.000000</td>\n",
       "      <td>4.107290e+09</td>\n",
       "      <td>4.092200e+06</td>\n",
       "      <td>0.000000</td>\n",
       "      <td>2.000000</td>\n",
       "    </tr>\n",
       "    <tr>\n",
       "      <th>max</th>\n",
       "      <td>1.225343e+07</td>\n",
       "      <td>1.354011e+07</td>\n",
       "      <td>1807.000000</td>\n",
       "      <td>98.000000</td>\n",
       "      <td>19201.000000</td>\n",
       "      <td>19203.000000</td>\n",
       "      <td>1.345064e+08</td>\n",
       "      <td>6.899244e+08</td>\n",
       "      <td>4.435560e+08</td>\n",
       "      <td>2021.000000</td>\n",
       "      <td>...</td>\n",
       "      <td>1.000000</td>\n",
       "      <td>1.000000</td>\n",
       "      <td>1.000000</td>\n",
       "      <td>1.000000</td>\n",
       "      <td>1.000000</td>\n",
       "      <td>1.000000</td>\n",
       "      <td>5.080500e+09</td>\n",
       "      <td>5.032300e+06</td>\n",
       "      <td>1.000000</td>\n",
       "      <td>4.000000</td>\n",
       "    </tr>\n",
       "  </tbody>\n",
       "</table>\n",
       "<p>8 rows × 158 columns</p>\n",
       "</div>"
      ],
      "text/plain": [
       "            lotarea      bldgarea       numbldgs      numfloors  \\\n",
       "count  7.650260e+05  7.650260e+05  765026.000000  765026.000000   \n",
       "mean   3.812014e+03  5.051030e+03       1.324975       2.443933   \n",
       "std    2.318736e+04  3.520154e+04       2.726640       1.676083   \n",
       "min    2.300000e+01  0.000000e+00       0.000000       0.000000   \n",
       "25%    2.000000e+03  1.440000e+03       1.000000       2.000000   \n",
       "50%    2.500000e+03  2.020000e+03       1.000000       2.000000   \n",
       "75%    4.000000e+03  2.923000e+03       2.000000       2.750000   \n",
       "max    1.225343e+07  1.354011e+07    1807.000000      98.000000   \n",
       "\n",
       "            unitsres     unitstotal    assessland     assesstot     exempttot  \\\n",
       "count  765026.000000  765026.000000  7.650260e+05  7.650260e+05  7.650260e+05   \n",
       "mean        4.689669       4.894059  5.407344e+04  2.821186e+05  5.387875e+04   \n",
       "std        42.058995      47.000007  5.127009e+05  2.549800e+06  1.355497e+06   \n",
       "min         0.000000       0.000000  0.000000e+00  0.000000e+00  0.000000e+00   \n",
       "25%         1.000000       1.000000  1.020000e+04  3.786000e+04  0.000000e+00   \n",
       "50%         2.000000       2.000000  1.368000e+04  5.172000e+04  0.000000e+00   \n",
       "75%         2.000000       2.000000  1.986000e+04  8.304000e+04  1.440000e+03   \n",
       "max     19201.000000   19203.000000  1.345064e+08  6.899244e+08  4.435560e+08   \n",
       "\n",
       "           yearbuilt  ...   bldgclass_Z0   bldgclass_A2   bldgclass_A0  \\\n",
       "count  765026.000000  ...  765026.000000  765026.000000  765026.000000   \n",
       "mean     1938.547234  ...       0.000508       0.058912       0.011311   \n",
       "std        68.722810  ...       0.022544       0.235460       0.105749   \n",
       "min         0.000000  ...       0.000000       0.000000       0.000000   \n",
       "25%      1920.000000  ...       0.000000       0.000000       0.000000   \n",
       "50%      1931.000000  ...       0.000000       0.000000       0.000000   \n",
       "75%      1960.000000  ...       0.000000       0.000000       0.000000   \n",
       "max      2021.000000  ...       1.000000       1.000000       1.000000   \n",
       "\n",
       "        bldgclass_A6   bldgclass_A8   bldgclass_CM           bbl  \\\n",
       "count  765026.000000  765026.000000  765026.000000  7.650260e+05   \n",
       "mean        0.001029       0.000038       0.000001  3.548735e+09   \n",
       "std         0.032057       0.006157       0.001143  1.003515e+09   \n",
       "min         0.000000       0.000000       0.000000  1.000070e+09   \n",
       "25%         0.000000       0.000000       0.000000  3.036730e+09   \n",
       "50%         0.000000       0.000000       0.000000  4.012680e+09   \n",
       "75%         0.000000       0.000000       0.000000  4.107290e+09   \n",
       "max         1.000000       1.000000       1.000000  5.080500e+09   \n",
       "\n",
       "         boroct2010     vacate_ind        landuse  \n",
       "count  7.650260e+05  765026.000000  765026.000000  \n",
       "mean   3.541768e+06       0.003404       1.421477  \n",
       "std    9.994487e+05       0.058243       0.842764  \n",
       "min    1.000201e+06       0.000000       1.000000  \n",
       "25%    3.030100e+06       0.000000       1.000000  \n",
       "50%    4.010200e+06       0.000000       1.000000  \n",
       "75%    4.092200e+06       0.000000       2.000000  \n",
       "max    5.032300e+06       1.000000       4.000000  \n",
       "\n",
       "[8 rows x 158 columns]"
      ]
     },
     "execution_count": 10,
     "metadata": {},
     "output_type": "execute_result"
    }
   ],
   "source": [
    "print(df_bbl.columns)\n",
    "df_bbl.describe()"
   ]
  },
  {
   "cell_type": "code",
   "execution_count": 11,
   "id": "97d9c678",
   "metadata": {},
   "outputs": [],
   "source": [
    "df_bbl= pd.get_dummies(df_bbl, columns=[\"borough\"])\n",
    "borocols= [\"borough_\" + x for x in [\"BK\", \"BX\", \"MN\", \"QN\", \"SI\"]]"
   ]
  },
  {
   "cell_type": "code",
   "execution_count": 12,
   "id": "a7319455",
   "metadata": {},
   "outputs": [
    {
     "data": {
      "text/html": [
       "<div>\n",
       "<style scoped>\n",
       "    .dataframe tbody tr th:only-of-type {\n",
       "        vertical-align: middle;\n",
       "    }\n",
       "\n",
       "    .dataframe tbody tr th {\n",
       "        vertical-align: top;\n",
       "    }\n",
       "\n",
       "    .dataframe thead th {\n",
       "        text-align: right;\n",
       "    }\n",
       "</style>\n",
       "<table border=\"1\" class=\"dataframe\">\n",
       "  <thead>\n",
       "    <tr style=\"text-align: right;\">\n",
       "      <th></th>\n",
       "      <th>totpop</th>\n",
       "      <th>popdens</th>\n",
       "      <th>areasqmile</th>\n",
       "      <th>males</th>\n",
       "      <th>females</th>\n",
       "      <th>pop18under</th>\n",
       "      <th>pop18_34</th>\n",
       "      <th>pop35_64</th>\n",
       "      <th>pop65plus</th>\n",
       "      <th>pophispanic</th>\n",
       "      <th>...</th>\n",
       "      <th>numbldgs</th>\n",
       "      <th>numfloors</th>\n",
       "      <th>unitsres</th>\n",
       "      <th>unitstotal</th>\n",
       "      <th>assessland</th>\n",
       "      <th>assesstot</th>\n",
       "      <th>exempttot</th>\n",
       "      <th>yearbuilt</th>\n",
       "      <th>landuse_cat</th>\n",
       "      <th>bldgclass_cat</th>\n",
       "    </tr>\n",
       "  </thead>\n",
       "  <tbody>\n",
       "    <tr>\n",
       "      <th>0</th>\n",
       "      <td>8496.0</td>\n",
       "      <td>158948.7</td>\n",
       "      <td>0.053451</td>\n",
       "      <td>4072.0</td>\n",
       "      <td>4424.0</td>\n",
       "      <td>1037.0</td>\n",
       "      <td>2010.0</td>\n",
       "      <td>3202.0</td>\n",
       "      <td>2247.0</td>\n",
       "      <td>1400.0</td>\n",
       "      <td>...</td>\n",
       "      <td>1.0</td>\n",
       "      <td>4.0</td>\n",
       "      <td>6.0</td>\n",
       "      <td>6.0</td>\n",
       "      <td>345150.0</td>\n",
       "      <td>1317150.0</td>\n",
       "      <td>0.0</td>\n",
       "      <td>1899.0</td>\n",
       "      <td>2.0</td>\n",
       "      <td>0</td>\n",
       "    </tr>\n",
       "    <tr>\n",
       "      <th>1</th>\n",
       "      <td>8496.0</td>\n",
       "      <td>158948.7</td>\n",
       "      <td>0.053451</td>\n",
       "      <td>4072.0</td>\n",
       "      <td>4424.0</td>\n",
       "      <td>1037.0</td>\n",
       "      <td>2010.0</td>\n",
       "      <td>3202.0</td>\n",
       "      <td>2247.0</td>\n",
       "      <td>1400.0</td>\n",
       "      <td>...</td>\n",
       "      <td>1.0</td>\n",
       "      <td>4.0</td>\n",
       "      <td>10.0</td>\n",
       "      <td>10.0</td>\n",
       "      <td>427500.0</td>\n",
       "      <td>1244700.0</td>\n",
       "      <td>0.0</td>\n",
       "      <td>1891.0</td>\n",
       "      <td>2.0</td>\n",
       "      <td>1</td>\n",
       "    </tr>\n",
       "    <tr>\n",
       "      <th>2</th>\n",
       "      <td>8496.0</td>\n",
       "      <td>158948.7</td>\n",
       "      <td>0.053451</td>\n",
       "      <td>4072.0</td>\n",
       "      <td>4424.0</td>\n",
       "      <td>1037.0</td>\n",
       "      <td>2010.0</td>\n",
       "      <td>3202.0</td>\n",
       "      <td>2247.0</td>\n",
       "      <td>1400.0</td>\n",
       "      <td>...</td>\n",
       "      <td>1.0</td>\n",
       "      <td>17.0</td>\n",
       "      <td>69.0</td>\n",
       "      <td>69.0</td>\n",
       "      <td>2616300.0</td>\n",
       "      <td>12195900.0</td>\n",
       "      <td>136178.0</td>\n",
       "      <td>1930.0</td>\n",
       "      <td>3.0</td>\n",
       "      <td>2</td>\n",
       "    </tr>\n",
       "    <tr>\n",
       "      <th>3</th>\n",
       "      <td>8496.0</td>\n",
       "      <td>158948.7</td>\n",
       "      <td>0.053451</td>\n",
       "      <td>4072.0</td>\n",
       "      <td>4424.0</td>\n",
       "      <td>1037.0</td>\n",
       "      <td>2010.0</td>\n",
       "      <td>3202.0</td>\n",
       "      <td>2247.0</td>\n",
       "      <td>1400.0</td>\n",
       "      <td>...</td>\n",
       "      <td>1.0</td>\n",
       "      <td>6.0</td>\n",
       "      <td>25.0</td>\n",
       "      <td>25.0</td>\n",
       "      <td>490500.0</td>\n",
       "      <td>1929600.0</td>\n",
       "      <td>92325.0</td>\n",
       "      <td>1961.0</td>\n",
       "      <td>3.0</td>\n",
       "      <td>2</td>\n",
       "    </tr>\n",
       "    <tr>\n",
       "      <th>4</th>\n",
       "      <td>8496.0</td>\n",
       "      <td>158948.7</td>\n",
       "      <td>0.053451</td>\n",
       "      <td>4072.0</td>\n",
       "      <td>4424.0</td>\n",
       "      <td>1037.0</td>\n",
       "      <td>2010.0</td>\n",
       "      <td>3202.0</td>\n",
       "      <td>2247.0</td>\n",
       "      <td>1400.0</td>\n",
       "      <td>...</td>\n",
       "      <td>1.0</td>\n",
       "      <td>6.0</td>\n",
       "      <td>12.0</td>\n",
       "      <td>12.0</td>\n",
       "      <td>585000.0</td>\n",
       "      <td>1414350.0</td>\n",
       "      <td>15640.0</td>\n",
       "      <td>1905.0</td>\n",
       "      <td>3.0</td>\n",
       "      <td>2</td>\n",
       "    </tr>\n",
       "  </tbody>\n",
       "</table>\n",
       "<p>5 rows × 90 columns</p>\n",
       "</div>"
      ],
      "text/plain": [
       "   totpop   popdens  areasqmile   males  females  pop18under  pop18_34  \\\n",
       "0  8496.0  158948.7    0.053451  4072.0   4424.0      1037.0    2010.0   \n",
       "1  8496.0  158948.7    0.053451  4072.0   4424.0      1037.0    2010.0   \n",
       "2  8496.0  158948.7    0.053451  4072.0   4424.0      1037.0    2010.0   \n",
       "3  8496.0  158948.7    0.053451  4072.0   4424.0      1037.0    2010.0   \n",
       "4  8496.0  158948.7    0.053451  4072.0   4424.0      1037.0    2010.0   \n",
       "\n",
       "   pop35_64  pop65plus  pophispanic  ...  numbldgs  numfloors  unitsres  \\\n",
       "0    3202.0     2247.0       1400.0  ...       1.0        4.0       6.0   \n",
       "1    3202.0     2247.0       1400.0  ...       1.0        4.0      10.0   \n",
       "2    3202.0     2247.0       1400.0  ...       1.0       17.0      69.0   \n",
       "3    3202.0     2247.0       1400.0  ...       1.0        6.0      25.0   \n",
       "4    3202.0     2247.0       1400.0  ...       1.0        6.0      12.0   \n",
       "\n",
       "   unitstotal  assessland   assesstot  exempttot  yearbuilt  landuse_cat  \\\n",
       "0         6.0    345150.0   1317150.0        0.0     1899.0          2.0   \n",
       "1        10.0    427500.0   1244700.0        0.0     1891.0          2.0   \n",
       "2        69.0   2616300.0  12195900.0   136178.0     1930.0          3.0   \n",
       "3        25.0    490500.0   1929600.0    92325.0     1961.0          3.0   \n",
       "4        12.0    585000.0   1414350.0    15640.0     1905.0          3.0   \n",
       "\n",
       "   bldgclass_cat  \n",
       "0              0  \n",
       "1              1  \n",
       "2              2  \n",
       "3              2  \n",
       "4              2  \n",
       "\n",
       "[5 rows x 90 columns]"
      ]
     },
     "execution_count": 12,
     "metadata": {},
     "output_type": "execute_result"
    }
   ],
   "source": [
    "df_bbl.loc[:, predictors_full].head()"
   ]
  },
  {
   "cell_type": "code",
   "execution_count": 13,
   "id": "fd018bfa",
   "metadata": {},
   "outputs": [
    {
     "data": {
      "text/plain": [
       "0.003403805883721599"
      ]
     },
     "execution_count": 13,
     "metadata": {},
     "output_type": "execute_result"
    }
   ],
   "source": [
    "outcomes= [\"vacate_ind\"]\n",
    "df_bbl[outcomes].head()\n",
    "\n",
    "# very small percentage of the data has had a fire\n",
    "df_bbl[outcomes[0]].mean()"
   ]
  },
  {
   "cell_type": "markdown",
   "id": "995f6f91",
   "metadata": {},
   "source": [
    "### Running LASSO to determine important variables"
   ]
  },
  {
   "cell_type": "code",
   "execution_count": 14,
   "id": "8130fe26",
   "metadata": {},
   "outputs": [],
   "source": [
    "from sklearn import preprocessing\n",
    "scaler = preprocessing.StandardScaler().fit(df_bbl.loc[:, predictors_lasso])\n",
    "X_scaled = scaler.transform(df_bbl.loc[:, predictors_lasso])\n",
    "\n",
    "X_train_l, X_test_l, y_train_l, y_test_l = train_test_split(X_scaled, df_bbl.loc[:, outcomes], \n",
    "                                                            test_size=0.3, random_state=999)"
   ]
  },
  {
   "cell_type": "code",
   "execution_count": 15,
   "id": "8649f5c0",
   "metadata": {},
   "outputs": [
    {
     "data": {
      "text/html": [
       "<div>\n",
       "<style scoped>\n",
       "    .dataframe tbody tr th:only-of-type {\n",
       "        vertical-align: middle;\n",
       "    }\n",
       "\n",
       "    .dataframe tbody tr th {\n",
       "        vertical-align: top;\n",
       "    }\n",
       "\n",
       "    .dataframe thead th {\n",
       "        text-align: right;\n",
       "    }\n",
       "</style>\n",
       "<table border=\"1\" class=\"dataframe\">\n",
       "  <thead>\n",
       "    <tr style=\"text-align: right;\">\n",
       "      <th></th>\n",
       "      <th>Features</th>\n",
       "    </tr>\n",
       "  </thead>\n",
       "  <tbody>\n",
       "    <tr>\n",
       "      <th>2</th>\n",
       "      <td>totpop</td>\n",
       "    </tr>\n",
       "    <tr>\n",
       "      <th>3</th>\n",
       "      <td>popdens</td>\n",
       "    </tr>\n",
       "    <tr>\n",
       "      <th>4</th>\n",
       "      <td>areasqmile</td>\n",
       "    </tr>\n",
       "    <tr>\n",
       "      <th>5</th>\n",
       "      <td>males</td>\n",
       "    </tr>\n",
       "    <tr>\n",
       "      <th>6</th>\n",
       "      <td>females</td>\n",
       "    </tr>\n",
       "    <tr>\n",
       "      <th>...</th>\n",
       "      <td>...</td>\n",
       "    </tr>\n",
       "    <tr>\n",
       "      <th>164</th>\n",
       "      <td>bldgclass_A2</td>\n",
       "    </tr>\n",
       "    <tr>\n",
       "      <th>165</th>\n",
       "      <td>bldgclass_A0</td>\n",
       "    </tr>\n",
       "    <tr>\n",
       "      <th>166</th>\n",
       "      <td>bldgclass_A6</td>\n",
       "    </tr>\n",
       "    <tr>\n",
       "      <th>167</th>\n",
       "      <td>bldgclass_A8</td>\n",
       "    </tr>\n",
       "    <tr>\n",
       "      <th>168</th>\n",
       "      <td>bldgclass_CM</td>\n",
       "    </tr>\n",
       "  </tbody>\n",
       "</table>\n",
       "<p>150 rows × 1 columns</p>\n",
       "</div>"
      ],
      "text/plain": [
       "         Features\n",
       "2          totpop\n",
       "3         popdens\n",
       "4      areasqmile\n",
       "5           males\n",
       "6         females\n",
       "..            ...\n",
       "164  bldgclass_A2\n",
       "165  bldgclass_A0\n",
       "166  bldgclass_A6\n",
       "167  bldgclass_A8\n",
       "168  bldgclass_CM\n",
       "\n",
       "[150 rows x 1 columns]"
      ]
     },
     "execution_count": 15,
     "metadata": {},
     "output_type": "execute_result"
    }
   ],
   "source": [
    "coef_comp= pd.DataFrame(predictors_lasso).rename({'Variable': 'Features'}, axis = 1)\n",
    "coef_comp"
   ]
  },
  {
   "cell_type": "code",
   "execution_count": 16,
   "id": "4120bd79",
   "metadata": {},
   "outputs": [
    {
     "name": "stdout",
     "output_type": "stream",
     "text": [
      "{'alpha': 0.0005}\n",
      "0.08433061608876975\n"
     ]
    }
   ],
   "source": [
    "from sklearn import linear_model\n",
    "\n",
    "param_grid= {'alpha':[0.00001, 0.0001, 0.0005, 0.0008, 0.0001]}\n",
    "clf= linear_model.Lasso(fit_intercept = True)\n",
    "gr = GridSearchCV(clf, param_grid=param_grid, n_jobs=-1)\n",
    "rs = gr.fit(X_train_l, y_train_l)\n",
    "\n",
    "print(rs.best_params_)\n",
    "print(rs.best_score_)"
   ]
  },
  {
   "cell_type": "code",
   "execution_count": 17,
   "id": "c33ebd90",
   "metadata": {},
   "outputs": [],
   "source": [
    "clf= linear_model.Lasso(fit_intercept = True, alpha = 0.0005) #rs.best_params_['alpha'])\n",
    "clf.fit(X_train_l, y_train_l)\n",
    "coef_comp['coef_alpha_0.0005']= clf.coef_"
   ]
  },
  {
   "cell_type": "code",
   "execution_count": 18,
   "id": "cab7c612",
   "metadata": {},
   "outputs": [],
   "source": [
    "clf= linear_model.Lasso(fit_intercept = True, alpha = 0.001)\n",
    "clf.fit(X_train_l, y_train_l)\n",
    "coef_comp['coef_alpha_0.001']= clf.coef_"
   ]
  },
  {
   "cell_type": "code",
   "execution_count": 19,
   "id": "0d121f78",
   "metadata": {},
   "outputs": [
    {
     "name": "stdout",
     "output_type": "stream",
     "text": [
      "(17, 3)\n",
      "(12, 3)\n"
     ]
    },
    {
     "data": {
      "text/html": [
       "<div>\n",
       "<style scoped>\n",
       "    .dataframe tbody tr th:only-of-type {\n",
       "        vertical-align: middle;\n",
       "    }\n",
       "\n",
       "    .dataframe tbody tr th {\n",
       "        vertical-align: top;\n",
       "    }\n",
       "\n",
       "    .dataframe thead th {\n",
       "        text-align: right;\n",
       "    }\n",
       "</style>\n",
       "<table border=\"1\" class=\"dataframe\">\n",
       "  <thead>\n",
       "    <tr style=\"text-align: right;\">\n",
       "      <th></th>\n",
       "      <th>Features</th>\n",
       "      <th>coef_alpha_0.0005</th>\n",
       "      <th>coef_alpha_0.001</th>\n",
       "    </tr>\n",
       "  </thead>\n",
       "  <tbody>\n",
       "    <tr>\n",
       "      <th>86</th>\n",
       "      <td>hpd_b_c_vio</td>\n",
       "      <td>0.010973</td>\n",
       "      <td>0.010064</td>\n",
       "    </tr>\n",
       "    <tr>\n",
       "      <th>85</th>\n",
       "      <td>hpd_fire_vio</td>\n",
       "      <td>0.002098</td>\n",
       "      <td>0.001868</td>\n",
       "    </tr>\n",
       "    <tr>\n",
       "      <th>137</th>\n",
       "      <td>bldgclass_D1</td>\n",
       "      <td>0.002096</td>\n",
       "      <td>0.001819</td>\n",
       "    </tr>\n",
       "    <tr>\n",
       "      <th>120</th>\n",
       "      <td>bldgclass_C1</td>\n",
       "      <td>0.001452</td>\n",
       "      <td>0.001075</td>\n",
       "    </tr>\n",
       "    <tr>\n",
       "      <th>126</th>\n",
       "      <td>bldgclass_C7</td>\n",
       "      <td>0.001259</td>\n",
       "      <td>0.000827</td>\n",
       "    </tr>\n",
       "    <tr>\n",
       "      <th>143</th>\n",
       "      <td>bldgclass_D7</td>\n",
       "      <td>0.000811</td>\n",
       "      <td>0.000446</td>\n",
       "    </tr>\n",
       "    <tr>\n",
       "      <th>96</th>\n",
       "      <td>bldgarea</td>\n",
       "      <td>0.000606</td>\n",
       "      <td>0.000332</td>\n",
       "    </tr>\n",
       "    <tr>\n",
       "      <th>99</th>\n",
       "      <td>unitsres</td>\n",
       "      <td>0.000445</td>\n",
       "      <td>0.000301</td>\n",
       "    </tr>\n",
       "    <tr>\n",
       "      <th>55</th>\n",
       "      <td>pcthoilker</td>\n",
       "      <td>0.000271</td>\n",
       "      <td>0.000024</td>\n",
       "    </tr>\n",
       "    <tr>\n",
       "      <th>3</th>\n",
       "      <td>popdens</td>\n",
       "      <td>0.000158</td>\n",
       "      <td>0.000141</td>\n",
       "    </tr>\n",
       "    <tr>\n",
       "      <th>11</th>\n",
       "      <td>pophispanic</td>\n",
       "      <td>0.000011</td>\n",
       "      <td>0.000000</td>\n",
       "    </tr>\n",
       "    <tr>\n",
       "      <th>113</th>\n",
       "      <td>bldgclass_D4</td>\n",
       "      <td>-0.000279</td>\n",
       "      <td>-0.000000</td>\n",
       "    </tr>\n",
       "    <tr>\n",
       "      <th>127</th>\n",
       "      <td>bldgclass_RM</td>\n",
       "      <td>-0.000290</td>\n",
       "      <td>-0.000000</td>\n",
       "    </tr>\n",
       "    <tr>\n",
       "      <th>34</th>\n",
       "      <td>medianhhincome</td>\n",
       "      <td>-0.000359</td>\n",
       "      <td>-0.000000</td>\n",
       "    </tr>\n",
       "    <tr>\n",
       "      <th>107</th>\n",
       "      <td>landuse_01</td>\n",
       "      <td>-0.000682</td>\n",
       "      <td>-0.000449</td>\n",
       "    </tr>\n",
       "    <tr>\n",
       "      <th>89</th>\n",
       "      <td>hpd_b_c_vio_per_unit</td>\n",
       "      <td>-0.000913</td>\n",
       "      <td>-0.000000</td>\n",
       "    </tr>\n",
       "    <tr>\n",
       "      <th>91</th>\n",
       "      <td>average_energy_usage_mi</td>\n",
       "      <td>-0.003895</td>\n",
       "      <td>-0.003840</td>\n",
       "    </tr>\n",
       "  </tbody>\n",
       "</table>\n",
       "</div>"
      ],
      "text/plain": [
       "                    Features  coef_alpha_0.0005  coef_alpha_0.001\n",
       "86               hpd_b_c_vio           0.010973          0.010064\n",
       "85              hpd_fire_vio           0.002098          0.001868\n",
       "137             bldgclass_D1           0.002096          0.001819\n",
       "120             bldgclass_C1           0.001452          0.001075\n",
       "126             bldgclass_C7           0.001259          0.000827\n",
       "143             bldgclass_D7           0.000811          0.000446\n",
       "96                  bldgarea           0.000606          0.000332\n",
       "99                  unitsres           0.000445          0.000301\n",
       "55                pcthoilker           0.000271          0.000024\n",
       "3                    popdens           0.000158          0.000141\n",
       "11               pophispanic           0.000011          0.000000\n",
       "113             bldgclass_D4          -0.000279         -0.000000\n",
       "127             bldgclass_RM          -0.000290         -0.000000\n",
       "34            medianhhincome          -0.000359         -0.000000\n",
       "107               landuse_01          -0.000682         -0.000449\n",
       "89      hpd_b_c_vio_per_unit          -0.000913         -0.000000\n",
       "91   average_energy_usage_mi          -0.003895         -0.003840"
      ]
     },
     "execution_count": 19,
     "metadata": {},
     "output_type": "execute_result"
    }
   ],
   "source": [
    "# feature selection from LASSOs\n",
    "# fewer features chosen\n",
    "lasso_coef= coef_comp.loc[coef_comp['coef_alpha_0.0005'] != 0].sort_values('coef_alpha_0.0005', ascending = False)\n",
    "print(lasso_coef.shape)\n",
    "print(lasso_coef.loc[lasso_coef[\"coef_alpha_0.001\"] != 0].shape)\n",
    "lasso_coef"
   ]
  },
  {
   "cell_type": "code",
   "execution_count": 20,
   "id": "ca37f095",
   "metadata": {},
   "outputs": [],
   "source": [
    "lasso_coef.to_csv(os.join(interm, \"lasso_vars.csv\"))"
   ]
  },
  {
   "cell_type": "markdown",
   "id": "60da0919",
   "metadata": {},
   "source": [
    "# (1) Decision Trees and Random Forest Models"
   ]
  },
  {
   "cell_type": "code",
   "execution_count": 42,
   "id": "60740f10",
   "metadata": {},
   "outputs": [
    {
     "data": {
      "text/plain": [
       "0.9962659253707932"
      ]
     },
     "execution_count": 42,
     "metadata": {},
     "output_type": "execute_result"
    }
   ],
   "source": [
    "from sklearn.tree import DecisionTreeClassifier\n",
    "from sklearn.metrics import roc_auc_score\n",
    "\n",
    "X = df_bbl.loc[:, predictors_full]\n",
    "y = df_bbl.loc[:, \"vacate_ind\"]\n",
    "X_train, X_test, y_train, y_test = train_test_split(X, y, test_size=0.3, random_state=999)\n",
    "\n",
    "dt = DecisionTreeClassifier(max_depth=10, random_state = 99)\n",
    "dt.fit(X_train, y_train)\n",
    "y_predict = dt.predict(X_test)\n",
    "\n",
    "# accuracy is very high, but that is bc most are 0s!\n",
    "accuracy= (y_predict == y_test).value_counts(normalize=True)[True]\n",
    "accuracy"
   ]
  },
  {
   "cell_type": "markdown",
   "id": "ecdffb84",
   "metadata": {},
   "source": [
    "__Area under the curve__"
   ]
  },
  {
   "cell_type": "code",
   "execution_count": 104,
   "id": "2ac4d3b7",
   "metadata": {},
   "outputs": [
    {
     "data": {
      "text/plain": [
       "0.5702453545294232"
      ]
     },
     "execution_count": 104,
     "metadata": {},
     "output_type": "execute_result"
    }
   ],
   "source": [
    "dt=DecisionTreeClassifier(random_state = 99)\n",
    "dt.fit(X_train,y_train)\n",
    "# predict_proba predicts the probability of each class rather than just the most likely class\n",
    "pred=dt.predict_proba(X_test)[:,1] # predicted probability of y = 1\n",
    "roc_auc_score(np.array(y_test),pred)"
   ]
  },
  {
   "cell_type": "code",
   "execution_count": 105,
   "id": "558ac95d",
   "metadata": {
    "scrolled": true
   },
   "outputs": [
    {
     "data": {
      "text/plain": [
       "0.5008362944520247"
      ]
     },
     "execution_count": 105,
     "metadata": {},
     "output_type": "execute_result"
    }
   ],
   "source": [
    "# vs. random chance (only slightly better)\n",
    "pred=np.random.random(len(X_test))\n",
    "roc_auc_score(np.array(y_test.apply(int)),pred)"
   ]
  },
  {
   "cell_type": "markdown",
   "id": "392fe285",
   "metadata": {},
   "source": [
    "## Tuning"
   ]
  },
  {
   "cell_type": "code",
   "execution_count": 106,
   "id": "b9cf06cb",
   "metadata": {},
   "outputs": [
    {
     "name": "stdout",
     "output_type": "stream",
     "text": [
      "{'max_depth': 18}\n"
     ]
    },
    {
     "data": {
      "text/plain": [
       "(array([0.99684825, 0.14452214]),\n",
       " array([0.99839545, 0.07908163]),\n",
       " array([0.99762125, 0.10222589]),\n",
       " array([228724,    784], dtype=int64))"
      ]
     },
     "execution_count": 106,
     "metadata": {},
     "output_type": "execute_result"
    }
   ],
   "source": [
    "# tune using the param grid\n",
    "# optimize over the f1 score which is the tradeoff between precision and recall\n",
    "param_grid = {'max_depth':range(1,20)}\n",
    "dt=DecisionTreeClassifier(random_state = 99)\n",
    "gr=GridSearchCV(dt,param_grid=param_grid, scoring='f1')\n",
    "rs=gr.fit(X_train,y_train)\n",
    "pred= rs.predict(X_test)\n",
    "print(rs.best_params_)\n",
    "\n",
    "## look at precision and recall rates\n",
    "precision_recall_fscore_support(y_test, pred)"
   ]
  },
  {
   "cell_type": "code",
   "execution_count": 107,
   "id": "4a89d029",
   "metadata": {},
   "outputs": [
    {
     "name": "stdout",
     "output_type": "stream",
     "text": [
      "{'max_depth': 5}\n",
      "ROC AUC: 0.9727798268316613\n",
      "Precision: 0.6875\n",
      "Recall: 0.02806122448979592\n"
     ]
    }
   ],
   "source": [
    "# tune using the param grid\n",
    "param_grid = {'max_depth':range(1,20)}\n",
    "dt=DecisionTreeClassifier(random_state = 99)\n",
    "gr=GridSearchCV(dt,param_grid=param_grid, scoring='roc_auc')\n",
    "rs=gr.fit(X_train,y_train)\n",
    "pred= rs.predict(X_test)\n",
    "\n",
    "print(rs.best_params_)\n",
    "# predict_proba predicts the probability of each class rather than just the most likely class\n",
    "pred=rs.predict_proba(X_test)[:,1] # predicted probability of y = 1\n",
    "\n",
    "print(\"ROC AUC:\", roc_auc_score(np.array(y_test),pred))\n",
    "## look at precision and recall rates\n",
    "pr= precision_recall_fscore_support(y_test, pred > 0.5)\n",
    "print(\"Precision:\", pr[0][1])\n",
    "print(\"Recall:\", pr[1][1])"
   ]
  },
  {
   "cell_type": "code",
   "execution_count": 108,
   "id": "7fb305d5",
   "metadata": {},
   "outputs": [
    {
     "name": "stdout",
     "output_type": "stream",
     "text": [
      "0.9727798268316613\n"
     ]
    }
   ],
   "source": [
    "# also depict the ROC AUC\n",
    "pred_prob= rs.predict_proba(X_test)[:,1]\n",
    "\n",
    "print(roc_auc_score(np.array(y_test),pred_prob))"
   ]
  },
  {
   "cell_type": "code",
   "execution_count": 44,
   "id": "9e5c88db",
   "metadata": {},
   "outputs": [],
   "source": [
    "dt=DecisionTreeClassifier(max_depth = 5, random_state= 99) #rs.best_params_['max_depth']\n",
    "dt.fit(X_train,y_train)\n",
    "pred_prob= dt.predict_proba(X_test)[:,1]"
   ]
  },
  {
   "cell_type": "code",
   "execution_count": 45,
   "id": "a82ab84e",
   "metadata": {},
   "outputs": [
    {
     "data": {
      "text/html": [
       "<div>\n",
       "<style scoped>\n",
       "    .dataframe tbody tr th:only-of-type {\n",
       "        vertical-align: middle;\n",
       "    }\n",
       "\n",
       "    .dataframe tbody tr th {\n",
       "        vertical-align: top;\n",
       "    }\n",
       "\n",
       "    .dataframe thead th {\n",
       "        text-align: right;\n",
       "    }\n",
       "</style>\n",
       "<table border=\"1\" class=\"dataframe\">\n",
       "  <thead>\n",
       "    <tr style=\"text-align: right;\">\n",
       "      <th></th>\n",
       "      <th>boroct2010</th>\n",
       "      <th>bbl</th>\n",
       "      <th>prob_fire_dt</th>\n",
       "    </tr>\n",
       "  </thead>\n",
       "  <tbody>\n",
       "    <tr>\n",
       "      <th>0</th>\n",
       "      <td>1018100</td>\n",
       "      <td>1012090027</td>\n",
       "      <td>0.000002</td>\n",
       "    </tr>\n",
       "    <tr>\n",
       "      <th>1</th>\n",
       "      <td>1018100</td>\n",
       "      <td>1012090028</td>\n",
       "      <td>0.015511</td>\n",
       "    </tr>\n",
       "    <tr>\n",
       "      <th>2</th>\n",
       "      <td>1018100</td>\n",
       "      <td>1012090037</td>\n",
       "      <td>0.000002</td>\n",
       "    </tr>\n",
       "    <tr>\n",
       "      <th>3</th>\n",
       "      <td>1018100</td>\n",
       "      <td>1012090049</td>\n",
       "      <td>0.000002</td>\n",
       "    </tr>\n",
       "    <tr>\n",
       "      <th>4</th>\n",
       "      <td>1018100</td>\n",
       "      <td>1012090051</td>\n",
       "      <td>0.000002</td>\n",
       "    </tr>\n",
       "    <tr>\n",
       "      <th>...</th>\n",
       "      <td>...</td>\n",
       "      <td>...</td>\n",
       "      <td>...</td>\n",
       "    </tr>\n",
       "    <tr>\n",
       "      <th>765021</th>\n",
       "      <td>1002500</td>\n",
       "      <td>1001110100</td>\n",
       "      <td>0.001965</td>\n",
       "    </tr>\n",
       "    <tr>\n",
       "      <th>765022</th>\n",
       "      <td>1001002</td>\n",
       "      <td>1003250001</td>\n",
       "      <td>0.000002</td>\n",
       "    </tr>\n",
       "    <tr>\n",
       "      <th>765023</th>\n",
       "      <td>1001002</td>\n",
       "      <td>1003230001</td>\n",
       "      <td>0.001965</td>\n",
       "    </tr>\n",
       "    <tr>\n",
       "      <th>765024</th>\n",
       "      <td>1002000</td>\n",
       "      <td>1003560001</td>\n",
       "      <td>0.001965</td>\n",
       "    </tr>\n",
       "    <tr>\n",
       "      <th>765025</th>\n",
       "      <td>1001001</td>\n",
       "      <td>1003210001</td>\n",
       "      <td>0.009978</td>\n",
       "    </tr>\n",
       "  </tbody>\n",
       "</table>\n",
       "<p>765026 rows × 3 columns</p>\n",
       "</div>"
      ],
      "text/plain": [
       "        boroct2010         bbl  prob_fire_dt\n",
       "0          1018100  1012090027      0.000002\n",
       "1          1018100  1012090028      0.015511\n",
       "2          1018100  1012090037      0.000002\n",
       "3          1018100  1012090049      0.000002\n",
       "4          1018100  1012090051      0.000002\n",
       "...            ...         ...           ...\n",
       "765021     1002500  1001110100      0.001965\n",
       "765022     1001002  1003250001      0.000002\n",
       "765023     1001002  1003230001      0.001965\n",
       "765024     1002000  1003560001      0.001965\n",
       "765025     1001001  1003210001      0.009978\n",
       "\n",
       "[765026 rows x 3 columns]"
      ]
     },
     "execution_count": 45,
     "metadata": {},
     "output_type": "execute_result"
    }
   ],
   "source": [
    "## create a csv of probabilities at the building level and tract level\n",
    "pred_prob_allbld= pd.concat([df_bbl.loc[:, [\"boroct2010\", \"bbl\"]], \n",
    "                            pd.DataFrame(dt.predict_proba(df_bbl.loc[:, predictors_full])[:, 1],\n",
    "                                        columns = [\"prob_fire_dt\"])], axis = 1)\n",
    "pred_prob_allbld"
   ]
  },
  {
   "cell_type": "code",
   "execution_count": 46,
   "id": "79e773ec",
   "metadata": {
    "scrolled": true
   },
   "outputs": [
    {
     "data": {
      "image/png": "[encoded data removed]",
      "text/plain": [
       "<Figure size 432x288 with 1 Axes>"
      ]
     },
     "metadata": {
      "needs_background": "light"
     },
     "output_type": "display_data"
    }
   ],
   "source": [
    "from sklearn.metrics import roc_curve\n",
    "from sklearn.metrics import RocCurveDisplay\n",
    "\n",
    "fpr, tpr, _ = roc_curve(y_test, pred_prob, pos_label=1)\n",
    "roc_display = RocCurveDisplay(fpr=fpr, tpr=tpr).plot()"
   ]
  },
  {
   "cell_type": "code",
   "execution_count": 47,
   "id": "3d91446b",
   "metadata": {
    "scrolled": true
   },
   "outputs": [
    {
     "data": {
      "image/png": "[encoded data removed]",
      "text/plain": [
       "<Figure size 432x288 with 1 Axes>"
      ]
     },
     "metadata": {
      "needs_background": "light"
     },
     "output_type": "display_data"
    }
   ],
   "source": [
    "from sklearn.metrics import precision_recall_curve\n",
    "from sklearn.metrics import PrecisionRecallDisplay\n",
    "\n",
    "prec, recall, _ = precision_recall_curve(y_test, pred_prob, pos_label= 1)\n",
    "pr_display = PrecisionRecallDisplay(precision=prec, recall=recall).plot()"
   ]
  },
  {
   "cell_type": "code",
   "execution_count": 48,
   "id": "f53ca86b",
   "metadata": {
    "scrolled": true
   },
   "outputs": [
    {
     "data": {
      "image/png": "[encoded data removed]",
      "text/plain": [
       "<Figure size 864x576 with 2 Axes>"
      ]
     },
     "metadata": {
      "needs_background": "light"
     },
     "output_type": "display_data"
    }
   ],
   "source": [
    "import matplotlib.pyplot as plt\n",
    "\n",
    "fig, (ax1, ax2) = plt.subplots(1, 2, figsize=(12, 8))\n",
    "\n",
    "roc_display.plot(ax=ax1)\n",
    "pr_display.plot(ax=ax2)\n",
    "#Comparison of Area under the Receiver Operating Characteristic Curve and the Precision-Recall Curve\n",
    "plt.show()\n",
    "fig.savefig(os.join(plots, 'auc_precision_recall.png'), dpi = 300)"
   ]
  },
  {
   "cell_type": "code",
   "execution_count": null,
   "id": "ce371862",
   "metadata": {
    "scrolled": true
   },
   "outputs": [],
   "source": [
    "from sklearn import tree\n",
    "from IPython.display import Image  \n",
    "import pydotplus\n",
    "\n",
    "# visualize the tree\n",
    "dt = DecisionTreeClassifier(max_depth= 5, random_state = 99)\n",
    "dt.fit(X_train, y_train)\n",
    "\n",
    "thestring = tree.export_graphviz(dt, out_file=None,  \n",
    "                         feature_names=X_train.columns.values, \n",
    "                         class_names=['no fire','structural fire damage'],  \n",
    "                         filled=True, rounded=True,  \n",
    "                         special_characters=True,impurity=False).replace(\" ;\\n}\", \" ;}\")\n",
    "graph = pydotplus.graph_from_dot_data(thestring);\n",
    "graph.write_pdf(os.join(plots,'num_fire_ev_dt_bbl_5.pdf'))\n",
    "Image(graph.create_png())"
   ]
  },
  {
   "cell_type": "code",
   "execution_count": 52,
   "id": "f4764fe6",
   "metadata": {},
   "outputs": [
    {
     "data": {
      "text/plain": [
       "DecisionTreeClassifier(max_depth=3, random_state=99)"
      ]
     },
     "execution_count": 52,
     "metadata": {},
     "output_type": "execute_result"
    }
   ],
   "source": [
    "from sklearn import tree\n",
    "from IPython.display import Image  \n",
    "import pydotplus\n",
    "\n",
    "# visualize the tree\n",
    "dt = DecisionTreeClassifier(max_depth= 3, random_state = 99)\n",
    "dt.fit(X_train, y_train)"
   ]
  },
  {
   "cell_type": "code",
   "execution_count": 53,
   "id": "60076739",
   "metadata": {},
   "outputs": [
    {
     "data": {
      "image/png": "[encoded data removed]",
      "text/plain": [
       "<IPython.core.display.Image object>"
      ]
     },
     "execution_count": 53,
     "metadata": {},
     "output_type": "execute_result"
    }
   ],
   "source": [
    "thestring = tree.export_graphviz(dt, out_file=None,  \n",
    "                         feature_names=X_train.columns.values, \n",
    "                         class_names=['no fire','structural fire damage'],  \n",
    "                         filled=True, rounded=True,  \n",
    "                         special_characters=True,impurity=False).replace(\" ;\\n}\", \" ;}\")\n",
    "graph = pydotplus.graph_from_dot_data(thestring);\n",
    "graph.write_png(os.join(plots,'num_fire_ev_dt_bbl.png'))\n",
    "Image(graph.create_png())"
   ]
  },
  {
   "cell_type": "markdown",
   "id": "dfb2cab2",
   "metadata": {},
   "source": [
    "## Feature Importance"
   ]
  },
  {
   "cell_type": "code",
   "execution_count": 24,
   "id": "84ca2e04",
   "metadata": {},
   "outputs": [
    {
     "data": {
      "text/html": [
       "<div>\n",
       "<style scoped>\n",
       "    .dataframe tbody tr th:only-of-type {\n",
       "        vertical-align: middle;\n",
       "    }\n",
       "\n",
       "    .dataframe tbody tr th {\n",
       "        vertical-align: top;\n",
       "    }\n",
       "\n",
       "    .dataframe thead th {\n",
       "        text-align: right;\n",
       "    }\n",
       "</style>\n",
       "<table border=\"1\" class=\"dataframe\">\n",
       "  <thead>\n",
       "    <tr style=\"text-align: right;\">\n",
       "      <th></th>\n",
       "      <th>variables</th>\n",
       "      <th>importance</th>\n",
       "    </tr>\n",
       "  </thead>\n",
       "  <tbody>\n",
       "    <tr>\n",
       "      <th>69</th>\n",
       "      <td>hpd_b_c_vio</td>\n",
       "      <td>0.50554</td>\n",
       "    </tr>\n",
       "    <tr>\n",
       "      <th>79</th>\n",
       "      <td>bldgarea</td>\n",
       "      <td>0.208531</td>\n",
       "    </tr>\n",
       "    <tr>\n",
       "      <th>67</th>\n",
       "      <td>tot_hpd_vio</td>\n",
       "      <td>0.131449</td>\n",
       "    </tr>\n",
       "    <tr>\n",
       "      <th>83</th>\n",
       "      <td>unitstotal</td>\n",
       "      <td>0.027785</td>\n",
       "    </tr>\n",
       "    <tr>\n",
       "      <th>40</th>\n",
       "      <td>pctnhblack</td>\n",
       "      <td>0.021296</td>\n",
       "    </tr>\n",
       "    <tr>\n",
       "      <th>31</th>\n",
       "      <td>mediangrossrent</td>\n",
       "      <td>0.019428</td>\n",
       "    </tr>\n",
       "    <tr>\n",
       "      <th>89</th>\n",
       "      <td>bldgclass_cat</td>\n",
       "      <td>0.015009</td>\n",
       "    </tr>\n",
       "    <tr>\n",
       "      <th>82</th>\n",
       "      <td>unitsres</td>\n",
       "      <td>0.011738</td>\n",
       "    </tr>\n",
       "    <tr>\n",
       "      <th>48</th>\n",
       "      <td>crowding</td>\n",
       "      <td>0.009849</td>\n",
       "    </tr>\n",
       "    <tr>\n",
       "      <th>85</th>\n",
       "      <td>assesstot</td>\n",
       "      <td>0.009432</td>\n",
       "    </tr>\n",
       "  </tbody>\n",
       "</table>\n",
       "</div>"
      ],
      "text/plain": [
       "          variables importance\n",
       "69      hpd_b_c_vio    0.50554\n",
       "79         bldgarea   0.208531\n",
       "67      tot_hpd_vio   0.131449\n",
       "83       unitstotal   0.027785\n",
       "40       pctnhblack   0.021296\n",
       "31  mediangrossrent   0.019428\n",
       "89    bldgclass_cat   0.015009\n",
       "82         unitsres   0.011738\n",
       "48         crowding   0.009849\n",
       "85        assesstot   0.009432"
      ]
     },
     "execution_count": 24,
     "metadata": {},
     "output_type": "execute_result"
    }
   ],
   "source": [
    "dt = DecisionTreeClassifier(max_depth= 5, random_state = 99) #rs.best_params_['max_depth'])\n",
    "dt.fit(X_train, y_train)\n",
    "Feature_importance=pd.DataFrame([list(X_train.columns),list(dt.feature_importances_)]).T\n",
    "Feature_importance.columns=[\"variables\",\"importance\"]\n",
    "\n",
    "# list the top 10 most important features in order\n",
    "ft= Feature_importance.sort_values(by=\"importance\",ascending=False).iloc[:10,:]\n",
    "ft.to_csv(os.join(interm, 'feature_importance_bbl.csv'))\n",
    "ft"
   ]
  },
  {
   "cell_type": "code",
   "execution_count": 115,
   "id": "ce847c14",
   "metadata": {},
   "outputs": [
    {
     "data": {
      "image/png": "[encoded data removed]",
      "text/plain": [
       "<Figure size 1200x400 with 1 Axes>"
      ]
     },
     "metadata": {
      "needs_background": "light"
     },
     "output_type": "display_data"
    }
   ],
   "source": [
    "plt.figure(figsize=(15, 5), dpi=80)\n",
    "plt.bar(Feature_importance.sort_values(by=\"importance\",ascending=False).iloc[:10,0],\n",
    "        Feature_importance.sort_values(by=\"importance\",ascending=False).iloc[:10,1])\n",
    "plt.title(\"Feature Importance\");\n",
    "plt.savefig(os.join(plots, 'feature_importance_bbl.png'))"
   ]
  },
  {
   "cell_type": "markdown",
   "id": "0ce37a77",
   "metadata": {},
   "source": [
    "## Random Forests"
   ]
  },
  {
   "cell_type": "code",
   "execution_count": 35,
   "id": "beb4ff90",
   "metadata": {},
   "outputs": [
    {
     "name": "stdout",
     "output_type": "stream",
     "text": [
      "0.9762772049433788\n",
      "Precision and recall\n"
     ]
    },
    {
     "data": {
      "text/plain": [
       "(array([0.99659701, 0.75      ]),\n",
       " array([0.99999563, 0.00382653]),\n",
       " array([0.99829343, 0.00761421]),\n",
       " array([228724,    784], dtype=int64))"
      ]
     },
     "execution_count": 35,
     "metadata": {},
     "output_type": "execute_result"
    }
   ],
   "source": [
    "from sklearn.ensemble import RandomForestClassifier\n",
    "rf = RandomForestClassifier(n_estimators=30, n_jobs=-1, max_depth = 6, random_state = 99)\n",
    "rf.fit(X_train, y_train)\n",
    "pred=rf.predict_proba(X_test)[:,1]\n",
    "print(roc_auc_score(y_test,pred))\n",
    "\n",
    "print(\"Precision and recall\")\n",
    "precision_recall_fscore_support(y_test, (pred > 0.5))"
   ]
  },
  {
   "cell_type": "code",
   "execution_count": 117,
   "id": "f5220e40",
   "metadata": {
    "scrolled": true
   },
   "outputs": [
    {
     "name": "stdout",
     "output_type": "stream",
     "text": [
      "{'max_depth': 8}\n",
      "ROC AUC: 0.9773775697802072\n",
      "Precision: 0.625\n",
      "Recall: 0.006377551020408163\n"
     ]
    }
   ],
   "source": [
    "param_grid = {'max_depth':range(1,20)}\n",
    "rf = RandomForestClassifier(n_jobs=-1, n_estimators = 30, random_state = 99)\n",
    "gs = GridSearchCV(rf, param_grid=param_grid, scoring='roc_auc')\n",
    "rs = gs.fit(X_train,y_train)\n",
    "\n",
    "print(rs.best_params_)\n",
    "# predict_proba predicts the probability of each class rather than just the most likely class\n",
    "pred=rs.predict_proba(X_test)[:,1] # predicted probability of y = 1\n",
    "\n",
    "print(\"ROC AUC:\", roc_auc_score(np.array(y_test),pred))\n",
    "## look at precision and recall rates\n",
    "pr= precision_recall_fscore_support(y_test, pred > 0.5)\n",
    "print(\"Precision:\", pr[0][1])\n",
    "print(\"Recall:\", pr[1][1])"
   ]
  },
  {
   "cell_type": "code",
   "execution_count": 36,
   "id": "e3a7d6c4",
   "metadata": {},
   "outputs": [
    {
     "name": "stdout",
     "output_type": "stream",
     "text": [
      "0.9773775697802072\n"
     ]
    }
   ],
   "source": [
    "# run with same args\n",
    "rf = RandomForestClassifier(n_estimators=30, n_jobs=-1, max_depth = 8, random_state = 99)\n",
    "rf.fit(X_train, y_train)\n",
    "pred=rf.predict_proba(X_test)[:,1]\n",
    "print(roc_auc_score(y_test,pred))"
   ]
  },
  {
   "cell_type": "code",
   "execution_count": 41,
   "id": "17cdd2be",
   "metadata": {},
   "outputs": [
    {
     "name": "stdout",
     "output_type": "stream",
     "text": [
      "        boroct2010         bbl  prob_fire_dt  prob_fire_rf  vacate_ind\n",
      "0          1018100  1012090027      0.000002      0.000782         0.0\n",
      "1          1018100  1012090028      0.015511      0.013815         0.0\n",
      "2          1018100  1012090037      0.000002      0.004280         0.0\n",
      "3          1018100  1012090049      0.000002      0.003627         0.0\n",
      "4          1018100  1012090051      0.000002      0.005483         0.0\n",
      "...            ...         ...           ...           ...         ...\n",
      "765021     1002500  1001110100      0.001965      0.006131         0.0\n",
      "765022     1001002  1003250001      0.000002      0.007281         0.0\n",
      "765023     1001002  1003230001      0.001965      0.042589         0.0\n",
      "765024     1002000  1003560001      0.001965      0.047768         0.0\n",
      "765025     1001001  1003210001      0.009978      0.036047         0.0\n",
      "\n",
      "[765026 rows x 5 columns]\n",
      "      boroct2010  prob_fire_dt  prob_fire_rf  vacate_ind\n",
      "0        1000201      0.024620      0.030386    0.037037\n",
      "1        1000202      0.010198      0.013792    0.000000\n",
      "2        1000600      0.023537      0.021658    0.015873\n",
      "3        1000700      0.013416      0.012050    0.000000\n",
      "4        1000800      0.027511      0.022870    0.029412\n",
      "...          ...           ...           ...         ...\n",
      "2105     5030301      0.000485      0.000333    0.000000\n",
      "2106     5030302      0.000193      0.000170    0.000000\n",
      "2107     5031901      0.000678      0.000549    0.000000\n",
      "2108     5031902      0.001520      0.001297    0.001232\n",
      "2109     5032300      0.001096      0.001265    0.000000\n",
      "\n",
      "[2110 rows x 4 columns]\n"
     ]
    }
   ],
   "source": [
    "## create a csv of probabilities at the building level and tract level\n",
    "pred_prob_allbld2= pd.concat([pred_prob_allbld, \n",
    "                            pd.DataFrame(rf.predict_proba(df_bbl.loc[:, predictors_full])[:, 1],\n",
    "                                        columns = [\"prob_fire_rf\"]),\n",
    "                             df_bbl.loc[:, \"vacate_ind\"]], axis = 1)\n",
    "print(pred_prob_allbld2)\n",
    "\n",
    "pred_prob_ct= pred_prob_allbld2.groupby('boroct2010', as_index = False)[['prob_fire_dt',\n",
    "                                                                        'prob_fire_rf',\n",
    "                                                                        'vacate_ind']].mean()\n",
    "print(pred_prob_ct)\n",
    "\n",
    "pred_prob_allbld2.to_csv(os.join(plots, \"pred_prob_allbld.csv\"))\n",
    "pred_prob_ct.to_csv(os.join(plots, \"pred_prob_ct.csv\"))"
   ]
  },
  {
   "cell_type": "code",
   "execution_count": 118,
   "id": "7e5b34b8",
   "metadata": {
    "scrolled": true
   },
   "outputs": [
    {
     "data": {
      "image/png": "[encoded data removed]",
      "text/plain": [
       "<Figure size 864x576 with 2 Axes>"
      ]
     },
     "metadata": {
      "needs_background": "light"
     },
     "output_type": "display_data"
    }
   ],
   "source": [
    "fig, (ax1, ax2) = plt.subplots(1, 2, figsize=(12, 8))\n",
    "\n",
    "fpr, tpr, _ = roc_curve(y_test, pred, pos_label=1)\n",
    "roc_display = RocCurveDisplay(fpr=fpr, tpr=tpr).plot(ax=ax1)\n",
    "\n",
    "prec, recall, _ = precision_recall_curve(y_test, pred, pos_label= 1)\n",
    "pr_display = PrecisionRecallDisplay(precision=prec, recall=recall).plot(ax=ax2)\n",
    "\n",
    "plt.show()\n",
    "fig.savefig(os.join(plots, 'auc_precision_recall2.png'))"
   ]
  },
  {
   "cell_type": "markdown",
   "id": "51e72026",
   "metadata": {},
   "source": [
    "### CMM and other ensembles"
   ]
  },
  {
   "cell_type": "code",
   "execution_count": 119,
   "id": "ba897d98",
   "metadata": {},
   "outputs": [],
   "source": [
    "rf = RandomForestClassifier(n_jobs=-1, n_estimators=30, random_state = 99, max_depth = rs.best_params_['max_depth'])\n",
    "rf.fit(X_train,y_train)\n",
    "\n",
    "# randomly generate a sample of xs\n",
    "X_rand= pd.DataFrame({x:X_train[x].sample(n = round(0.25*X_train.shape[0])).reset_index(drop = True) for x in X_train.columns})\n",
    "y_rand= rf.predict(X_rand)"
   ]
  },
  {
   "cell_type": "code",
   "execution_count": 120,
   "id": "34442a70",
   "metadata": {},
   "outputs": [],
   "source": [
    "# create the cmm training datasets\n",
    "X_train_cmm= pd.concat([X_rand, X_train], axis = 0, ignore_index = True)\n",
    "y_train_cmm= pd.concat([pd.DataFrame(y_rand), y_train], axis = 0, ignore_index = True)"
   ]
  },
  {
   "cell_type": "code",
   "execution_count": 121,
   "id": "8c9a98ac",
   "metadata": {},
   "outputs": [
    {
     "name": "stdout",
     "output_type": "stream",
     "text": [
      "{'max_depth': 19}\n"
     ]
    }
   ],
   "source": [
    "param_grid = {'max_depth':range(1,20)}\n",
    "dt=DecisionTreeClassifier(random_state = 99)\n",
    "gr=GridSearchCV(dt,param_grid=param_grid, scoring='f1')\n",
    "rs=gr.fit(X_train_cmm,y_train_cmm)\n",
    "print(rs.best_params_)"
   ]
  },
  {
   "cell_type": "code",
   "execution_count": 122,
   "id": "e4847051",
   "metadata": {},
   "outputs": [
    {
     "name": "stdout",
     "output_type": "stream",
     "text": [
      "ROC AUC: 0.7642060308672532\n",
      "Precision: 0.11808118081180811\n",
      "Recall: 0.08163265306122448\n"
     ]
    }
   ],
   "source": [
    "# predict_proba predicts the probability of each class rather than just the most likely class\n",
    "pred=rs.predict_proba(X_test)[:,1] # predicted probability of y = 1\n",
    "\n",
    "print(\"ROC AUC:\", roc_auc_score(np.array(y_test),pred))\n",
    "## look at precision and recall rates\n",
    "pr= precision_recall_fscore_support(y_test, pred > 0.5)\n",
    "print(\"Precision:\", pr[0][1])\n",
    "print(\"Recall:\", pr[1][1])"
   ]
  },
  {
   "cell_type": "code",
   "execution_count": 123,
   "id": "8e248d81",
   "metadata": {},
   "outputs": [
    {
     "name": "stdout",
     "output_type": "stream",
     "text": [
      "{'max_depth': 4}\n",
      "ROC AUC: 0.9749995505232398\n",
      "Precision: 0.5333333333333333\n",
      "Recall: 0.01020408163265306\n"
     ]
    }
   ],
   "source": [
    "param_grid = {'max_depth':range(1,20)}\n",
    "dt=DecisionTreeClassifier(random_state = 99)\n",
    "gr=GridSearchCV(dt,param_grid=param_grid, scoring='roc_auc')\n",
    "rs=gr.fit(X_train_cmm,y_train_cmm)\n",
    "\n",
    "print(rs.best_params_)\n",
    "# predict_proba predicts the probability of each class rather than just the most likely class\n",
    "pred=rs.predict_proba(X_test)[:,1] # predicted probability of y = 1\n",
    "\n",
    "print(\"ROC AUC:\", roc_auc_score(np.array(y_test),pred))\n",
    "## look at precision and recall rates\n",
    "pr= precision_recall_fscore_support(y_test, pred > 0.5)\n",
    "print(\"Precision:\", pr[0][1])\n",
    "print(\"Recall:\", pr[1][1])"
   ]
  },
  {
   "cell_type": "code",
   "execution_count": 124,
   "id": "2de3c9a9",
   "metadata": {},
   "outputs": [
    {
     "data": {
      "text/html": [
       "<div>\n",
       "<style scoped>\n",
       "    .dataframe tbody tr th:only-of-type {\n",
       "        vertical-align: middle;\n",
       "    }\n",
       "\n",
       "    .dataframe tbody tr th {\n",
       "        vertical-align: top;\n",
       "    }\n",
       "\n",
       "    .dataframe thead th {\n",
       "        text-align: right;\n",
       "    }\n",
       "</style>\n",
       "<table border=\"1\" class=\"dataframe\">\n",
       "  <thead>\n",
       "    <tr style=\"text-align: right;\">\n",
       "      <th></th>\n",
       "      <th>variables</th>\n",
       "      <th>importance</th>\n",
       "    </tr>\n",
       "  </thead>\n",
       "  <tbody>\n",
       "    <tr>\n",
       "      <th>69</th>\n",
       "      <td>hpd_b_c_vio</td>\n",
       "      <td>0.516367</td>\n",
       "    </tr>\n",
       "    <tr>\n",
       "      <th>79</th>\n",
       "      <td>bldgarea</td>\n",
       "      <td>0.312173</td>\n",
       "    </tr>\n",
       "    <tr>\n",
       "      <th>67</th>\n",
       "      <td>tot_hpd_vio</td>\n",
       "      <td>0.067816</td>\n",
       "    </tr>\n",
       "    <tr>\n",
       "      <th>68</th>\n",
       "      <td>hpd_fire_vio</td>\n",
       "      <td>0.03358</td>\n",
       "    </tr>\n",
       "    <tr>\n",
       "      <th>40</th>\n",
       "      <td>pctnhblack</td>\n",
       "      <td>0.027367</td>\n",
       "    </tr>\n",
       "    <tr>\n",
       "      <th>82</th>\n",
       "      <td>unitsres</td>\n",
       "      <td>0.021671</td>\n",
       "    </tr>\n",
       "    <tr>\n",
       "      <th>87</th>\n",
       "      <td>yearbuilt</td>\n",
       "      <td>0.010007</td>\n",
       "    </tr>\n",
       "    <tr>\n",
       "      <th>53</th>\n",
       "      <td>pcthoilker</td>\n",
       "      <td>0.008262</td>\n",
       "    </tr>\n",
       "    <tr>\n",
       "      <th>83</th>\n",
       "      <td>unitstotal</td>\n",
       "      <td>0.002757</td>\n",
       "    </tr>\n",
       "  </tbody>\n",
       "</table>\n",
       "</div>"
      ],
      "text/plain": [
       "       variables importance\n",
       "69   hpd_b_c_vio   0.516367\n",
       "79      bldgarea   0.312173\n",
       "67   tot_hpd_vio   0.067816\n",
       "68  hpd_fire_vio    0.03358\n",
       "40    pctnhblack   0.027367\n",
       "82      unitsres   0.021671\n",
       "87     yearbuilt   0.010007\n",
       "53    pcthoilker   0.008262\n",
       "83    unitstotal   0.002757"
      ]
     },
     "execution_count": 124,
     "metadata": {},
     "output_type": "execute_result"
    }
   ],
   "source": [
    "dt = DecisionTreeClassifier(max_depth= 4, random_state = 99) # choose value for visualizing\n",
    "dt.fit(X_train_cmm, y_train_cmm)\n",
    "\n",
    "Feature_importance=pd.DataFrame([list(X_train_cmm.columns),list(dt.feature_importances_)]).T\n",
    "Feature_importance.columns=[\"variables\",\"importance\"]\n",
    "\n",
    "# list the top 10 most important features in order\n",
    "ft2= Feature_importance.sort_values(by=\"importance\",ascending=False)\n",
    "#ft2.to_csv(os.join(interm, 'feature_importance_bbl2.csv'))\n",
    "ft2.loc[ft2['importance']>0]"
   ]
  },
  {
   "cell_type": "code",
   "execution_count": 125,
   "id": "f29a832a",
   "metadata": {},
   "outputs": [
    {
     "data": {
      "image/png": "[encoded data removed]",
      "text/plain": [
       "<IPython.core.display.Image object>"
      ]
     },
     "execution_count": 125,
     "metadata": {},
     "output_type": "execute_result"
    }
   ],
   "source": [
    "thestring = tree.export_graphviz(dt, out_file=None,  \n",
    "                         feature_names=X_train.columns.values, \n",
    "                         class_names=['no fire','structural fire event'],  \n",
    "                         filled=True, rounded=True,  \n",
    "                         special_characters=True,impurity=False).replace(\" ;\\n}\", \" ;}\")\n",
    "graph = pydotplus.graph_from_dot_data(thestring);\n",
    "graph.write_png(os.join(plots,'num_fire_ev_bbl_cmm.png'))\n",
    "Image(graph.create_png())"
   ]
  },
  {
   "cell_type": "markdown",
   "id": "ee167b62",
   "metadata": {},
   "source": [
    "## (2) Bayes Nets"
   ]
  },
  {
   "cell_type": "code",
   "execution_count": 25,
   "id": "b0cde801",
   "metadata": {},
   "outputs": [],
   "source": [
    "from pgmpy.estimators import HillClimbSearch\n",
    "from pgmpy.estimators import K2Score, BicScore, BDeuScore\n",
    "from pgmpy.models import BayesianNetwork\n",
    "from pgmpy.estimators import BayesianEstimator\n",
    "import matplotlib.pyplot as plt"
   ]
  },
  {
   "cell_type": "code",
   "execution_count": 26,
   "id": "90918073",
   "metadata": {
    "scrolled": true
   },
   "outputs": [
    {
     "data": {
      "text/plain": [
       "['vacate_ind',\n",
       " 'hpd_b_c_vio',\n",
       " 'bldgarea',\n",
       " 'tot_hpd_vio',\n",
       " 'unitstotal',\n",
       " 'pctnhblack',\n",
       " 'mediangrossrent',\n",
       " 'landuse_cat',\n",
       " 'unitsres',\n",
       " 'crowding',\n",
       " 'assesstot']"
      ]
     },
     "execution_count": 26,
     "metadata": {},
     "output_type": "execute_result"
    }
   ],
   "source": [
    "impt_vars= ['vacate_ind'] + ft.loc[ft['importance']>0, \"variables\"].tolist()\n",
    "# use landuse instead since bldgclass has many values\n",
    "impt_vars= [x if x != 'bldgclass_cat' else 'landuse_cat'  for x in impt_vars]\n",
    "impt_vars"
   ]
  },
  {
   "cell_type": "code",
   "execution_count": 27,
   "id": "8bd7ab92",
   "metadata": {},
   "outputs": [
    {
     "name": "stdout",
     "output_type": "stream",
     "text": [
      "vacate_ind\n",
      "hpd_b_c_vio\n"
     ]
    },
    {
     "data": {
      "image/png": "[encoded data removed]",
      "text/plain": [
       "<Figure size 432x288 with 1 Axes>"
      ]
     },
     "metadata": {
      "needs_background": "light"
     },
     "output_type": "display_data"
    },
    {
     "name": "stdout",
     "output_type": "stream",
     "text": [
      "None\n",
      "bldgarea\n"
     ]
    },
    {
     "data": {
      "image/png": "[encoded data removed]",
      "text/plain": [
       "<Figure size 432x288 with 1 Axes>"
      ]
     },
     "metadata": {
      "needs_background": "light"
     },
     "output_type": "display_data"
    },
    {
     "name": "stdout",
     "output_type": "stream",
     "text": [
      "None\n",
      "tot_hpd_vio\n"
     ]
    },
    {
     "data": {
      "image/png": "[encoded data removed]",
      "text/plain": [
       "<Figure size 432x288 with 1 Axes>"
      ]
     },
     "metadata": {
      "needs_background": "light"
     },
     "output_type": "display_data"
    },
    {
     "name": "stdout",
     "output_type": "stream",
     "text": [
      "None\n",
      "unitstotal\n"
     ]
    },
    {
     "data": {
      "image/png": "[encoded data removed]",
      "text/plain": [
       "<Figure size 432x288 with 1 Axes>"
      ]
     },
     "metadata": {
      "needs_background": "light"
     },
     "output_type": "display_data"
    },
    {
     "name": "stdout",
     "output_type": "stream",
     "text": [
      "None\n",
      "pctnhblack\n"
     ]
    },
    {
     "data": {
      "image/png": "[encoded data removed]",
      "text/plain": [
       "<Figure size 432x288 with 1 Axes>"
      ]
     },
     "metadata": {
      "needs_background": "light"
     },
     "output_type": "display_data"
    },
    {
     "name": "stdout",
     "output_type": "stream",
     "text": [
      "None\n",
      "mediangrossrent\n"
     ]
    },
    {
     "data": {
      "image/png": "[encoded data removed]",
      "text/plain": [
       "<Figure size 432x288 with 1 Axes>"
      ]
     },
     "metadata": {
      "needs_background": "light"
     },
     "output_type": "display_data"
    },
    {
     "name": "stdout",
     "output_type": "stream",
     "text": [
      "None\n",
      "landuse_cat\n",
      "unitsres\n"
     ]
    },
    {
     "data": {
      "image/png": "[encoded data removed]",
      "text/plain": [
       "<Figure size 432x288 with 1 Axes>"
      ]
     },
     "metadata": {
      "needs_background": "light"
     },
     "output_type": "display_data"
    },
    {
     "name": "stdout",
     "output_type": "stream",
     "text": [
      "None\n",
      "crowding\n"
     ]
    },
    {
     "data": {
      "image/png": "[encoded data removed]",
      "text/plain": [
       "<Figure size 432x288 with 1 Axes>"
      ]
     },
     "metadata": {
      "needs_background": "light"
     },
     "output_type": "display_data"
    },
    {
     "name": "stdout",
     "output_type": "stream",
     "text": [
      "None\n",
      "assesstot\n"
     ]
    },
    {
     "data": {
      "image/png": "[encoded data removed]",
      "text/plain": [
       "<Figure size 432x288 with 1 Axes>"
      ]
     },
     "metadata": {
      "needs_background": "light"
     },
     "output_type": "display_data"
    },
    {
     "name": "stdout",
     "output_type": "stream",
     "text": [
      "None\n"
     ]
    }
   ],
   "source": [
    "df_bbl_disc= df_bbl.loc[:, impt_vars].copy()\n",
    "# need to discretize the data, also look at distributions\n",
    "for i in impt_vars:\n",
    "    print(i)\n",
    "    if len(df_bbl_disc.loc[:, i].unique()) > 5:\n",
    "        plt.hist(df_bbl_disc.loc[:, i], bins = 100);\n",
    "        plt.title(\"Histogram for {}\".format(i))\n",
    "        print(plt.show())\n",
    "        df_bbl_disc.loc[:, i] = pd.qcut(df_bbl_disc.loc[:, i], q=4, labels=False, duplicates = 'drop')"
   ]
  },
  {
   "cell_type": "code",
   "execution_count": 28,
   "id": "4770fc78",
   "metadata": {},
   "outputs": [],
   "source": [
    "# create test train split for testing DAG\n",
    "train, test = train_test_split(df_bbl_disc.loc[:, impt_vars], test_size=0.3, random_state=999)"
   ]
  },
  {
   "cell_type": "code",
   "execution_count": 29,
   "id": "daf3af77",
   "metadata": {},
   "outputs": [
    {
     "data": {
      "application/vnd.jupyter.widget-view+json": {
       "model_id": "ebe00a3aebdc4790adf65bc7d0b77823",
       "version_major": 2,
       "version_minor": 0
      },
      "text/plain": [
       "  0%|          | 0/1000000 [00:00<?, ?it/s]"
      ]
     },
     "metadata": {},
     "output_type": "display_data"
    },
    {
     "name": "stdout",
     "output_type": "stream",
     "text": [
      "\n",
      "DAG model edges:\n",
      "[('bldgarea', 'assesstot'), ('bldgarea', 'pctnhblack'), ('bldgarea', 'crowding'), ('bldgarea', 'landuse_cat'), ('bldgarea', 'mediangrossrent'), ('unitstotal', 'unitsres'), ('unitstotal', 'landuse_cat'), ('unitstotal', 'bldgarea'), ('unitstotal', 'crowding'), ('unitstotal', 'pctnhblack'), ('pctnhblack', 'assesstot'), ('pctnhblack', 'crowding'), ('mediangrossrent', 'crowding'), ('mediangrossrent', 'assesstot'), ('mediangrossrent', 'pctnhblack'), ('mediangrossrent', 'vacate_ind'), ('landuse_cat', 'vacate_ind'), ('unitsres', 'landuse_cat'), ('unitsres', 'assesstot'), ('unitsres', 'mediangrossrent'), ('unitsres', 'bldgarea'), ('unitsres', 'vacate_ind'), ('assesstot', 'crowding'), ('assesstot', 'landuse_cat')]\n"
     ]
    }
   ],
   "source": [
    "# use hill climb search with BIC score, as in hw\n",
    "hc = HillClimbSearch(train)\n",
    "best_model = hc.estimate(scoring_method=BicScore(train))\n",
    "print(\"\\nDAG model edges:\")\n",
    "print(best_model.edges())"
   ]
  },
  {
   "cell_type": "code",
   "execution_count": 30,
   "id": "12f523e9",
   "metadata": {},
   "outputs": [
    {
     "name": "stdout",
     "output_type": "stream",
     "text": [
      "DAG model nodes:\n",
      "['vacate_ind', 'hpd_b_c_vio', 'bldgarea', 'tot_hpd_vio', 'unitstotal', 'pctnhblack', 'mediangrossrent', 'landuse_cat', 'unitsres', 'crowding', 'assesstot']\n"
     ]
    }
   ],
   "source": [
    "print(\"DAG model nodes:\")\n",
    "print(best_model.nodes())"
   ]
  },
  {
   "cell_type": "code",
   "execution_count": 31,
   "id": "a630e6bc",
   "metadata": {},
   "outputs": [
    {
     "name": "stdout",
     "output_type": "stream",
     "text": [
      "CPD of bldgarea:\n",
      "+-------------+----------------------+-----+---------------+---------------+----------------------+\n",
      "| unitsres    | unitsres(0)          | ... | unitsres(2)   | unitsres(2)   | unitsres(2)          |\n",
      "+-------------+----------------------+-----+---------------+---------------+----------------------+\n",
      "| unitstotal  | unitstotal(0)        | ... | unitstotal(0) | unitstotal(1) | unitstotal(2)        |\n",
      "+-------------+----------------------+-----+---------------+---------------+----------------------+\n",
      "| bldgarea(0) | 0.5197432645587381   | ... | 0.25          | 0.25          | 0.004937779962191407 |\n",
      "+-------------+----------------------+-----+---------------+---------------+----------------------+\n",
      "| bldgarea(1) | 0.30757176725754654  | ... | 0.25          | 0.25          | 0.03575915161022268  |\n",
      "+-------------+----------------------+-----+---------------+---------------+----------------------+\n",
      "| bldgarea(2) | 0.1206841344505492   | ... | 0.25          | 0.25          | 0.20555368512547995  |\n",
      "+-------------+----------------------+-----+---------------+---------------+----------------------+\n",
      "| bldgarea(3) | 0.052000833733166114 | ... | 0.25          | 0.25          | 0.753749383302106    |\n",
      "+-------------+----------------------+-----+---------------+---------------+----------------------+\n",
      "CPD of assesstot:\n",
      "+-----------------+----------------------+-----+----------------------+----------------------+\n",
      "| bldgarea        | bldgarea(0)          | ... | bldgarea(3)          | bldgarea(3)          |\n",
      "+-----------------+----------------------+-----+----------------------+----------------------+\n",
      "| mediangrossrent | mediangrossrent(0)   | ... | mediangrossrent(3)   | mediangrossrent(3)   |\n",
      "+-----------------+----------------------+-----+----------------------+----------------------+\n",
      "| pctnhblack      | pctnhblack(0)        | ... | pctnhblack(3)        | pctnhblack(3)        |\n",
      "+-----------------+----------------------+-----+----------------------+----------------------+\n",
      "| unitsres        | unitsres(0)          | ... | unitsres(1)          | unitsres(2)          |\n",
      "+-----------------+----------------------+-----+----------------------+----------------------+\n",
      "| assesstot(0)    | 0.7624496732200631   | ... | 0.025140341005744492 | 0.007809890873642689 |\n",
      "+-----------------+----------------------+-----+----------------------+----------------------+\n",
      "| assesstot(1)    | 0.15921908187935593  | ... | 0.26633058975935936  | 0.16204903013837113  |\n",
      "+-----------------+----------------------+-----+----------------------+----------------------+\n",
      "| assesstot(2)    | 0.07688755666716167  | ... | 0.4321488857774695   | 0.24956674399082937  |\n",
      "+-----------------+----------------------+-----+----------------------+----------------------+\n",
      "| assesstot(3)    | 0.001443688233419485 | ... | 0.2763801834574266   | 0.5805743349971567   |\n",
      "+-----------------+----------------------+-----+----------------------+----------------------+\n",
      "CPD of pctnhblack:\n",
      "+-----------------+---------------------+-----+---------------------+----------------------+\n",
      "| bldgarea        | bldgarea(0)         | ... | bldgarea(3)         | bldgarea(3)          |\n",
      "+-----------------+---------------------+-----+---------------------+----------------------+\n",
      "| mediangrossrent | mediangrossrent(0)  | ... | mediangrossrent(3)  | mediangrossrent(3)   |\n",
      "+-----------------+---------------------+-----+---------------------+----------------------+\n",
      "| unitstotal      | unitstotal(0)       | ... | unitstotal(1)       | unitstotal(2)        |\n",
      "+-----------------+---------------------+-----+---------------------+----------------------+\n",
      "| pctnhblack(0)   | 0.22534720705604863 | ... | 0.20327701062909317 | 0.20858701175654032  |\n",
      "+-----------------+---------------------+-----+---------------------+----------------------+\n",
      "| pctnhblack(1)   | 0.16664319570564248 | ... | 0.40688288300963027 | 0.5007915042229626   |\n",
      "+-----------------+---------------------+-----+---------------------+----------------------+\n",
      "| pctnhblack(2)   | 0.24573456075163302 | ... | 0.26489902009749783 | 0.24950423397952762  |\n",
      "+-----------------+---------------------+-----+---------------------+----------------------+\n",
      "| pctnhblack(3)   | 0.36227503648667575 | ... | 0.1249410862637788  | 0.041117250040969555 |\n",
      "+-----------------+---------------------+-----+---------------------+----------------------+\n",
      "CPD of crowding:\n",
      "+-----------------+----------------------+-----+----------------------+---------------------+\n",
      "| assesstot       | assesstot(0)         | ... | assesstot(3)         | assesstot(3)        |\n",
      "+-----------------+----------------------+-----+----------------------+---------------------+\n",
      "| bldgarea        | bldgarea(0)          | ... | bldgarea(3)          | bldgarea(3)         |\n",
      "+-----------------+----------------------+-----+----------------------+---------------------+\n",
      "| mediangrossrent | mediangrossrent(0)   | ... | mediangrossrent(3)   | mediangrossrent(3)  |\n",
      "+-----------------+----------------------+-----+----------------------+---------------------+\n",
      "| pctnhblack      | pctnhblack(0)        | ... | pctnhblack(3)        | pctnhblack(3)       |\n",
      "+-----------------+----------------------+-----+----------------------+---------------------+\n",
      "| unitstotal      | unitstotal(0)        | ... | unitstotal(1)        | unitstotal(2)       |\n",
      "+-----------------+----------------------+-----+----------------------+---------------------+\n",
      "| crowding(0)     | 0.9203595863331695   | ... | 0.16019985083871618  | 0.2165969549022265  |\n",
      "+-----------------+----------------------+-----+----------------------+---------------------+\n",
      "| crowding(1)     | 0.05610475408230327  | ... | 0.7621035533251589   | 0.6666590362195957  |\n",
      "+-----------------+----------------------+-----+----------------------+---------------------+\n",
      "| crowding(2)     | 0.020172933923076886 | ... | 0.058264546385367016 | 0.0576687824370305  |\n",
      "+-----------------+----------------------+-----+----------------------+---------------------+\n",
      "| crowding(3)     | 0.003362725661450505 | ... | 0.01943204945075781  | 0.05907522644114728 |\n",
      "+-----------------+----------------------+-----+----------------------+---------------------+\n",
      "CPD of landuse_cat:\n",
      "+------------------+------------------------+-----+---------------+------------------------+\n",
      "| assesstot        | assesstot(0)           | ... | assesstot(3)  | assesstot(3)           |\n",
      "+------------------+------------------------+-----+---------------+------------------------+\n",
      "| bldgarea         | bldgarea(0)            | ... | bldgarea(3)   | bldgarea(3)            |\n",
      "+------------------+------------------------+-----+---------------+------------------------+\n",
      "| unitsres         | unitsres(0)            | ... | unitsres(2)   | unitsres(2)            |\n",
      "+------------------+------------------------+-----+---------------+------------------------+\n",
      "| unitstotal       | unitstotal(0)          | ... | unitstotal(1) | unitstotal(2)          |\n",
      "+------------------+------------------------+-----+---------------+------------------------+\n",
      "| landuse_cat(1.0) | 0.9999992584215137     | ... | 0.25          | 0.00014530929860442625 |\n",
      "+------------------+------------------------+-----+---------------+------------------------+\n",
      "| landuse_cat(2.0) | 2.4719282879760865e-07 | ... | 0.25          | 0.648535641307225      |\n",
      "+------------------+------------------------+-----+---------------+------------------------+\n",
      "| landuse_cat(3.0) | 2.4719282879760865e-07 | ... | 0.25          | 0.1148247083510028     |\n",
      "+------------------+------------------------+-----+---------------+------------------------+\n",
      "| landuse_cat(4.0) | 2.4719282879760865e-07 | ... | 0.25          | 0.2364943410431678     |\n",
      "+------------------+------------------------+-----+---------------+------------------------+\n",
      "CPD of mediangrossrent:\n",
      "+--------------------+---------------------+-----+---------------------+---------------------+\n",
      "| bldgarea           | bldgarea(0)         | ... | bldgarea(3)         | bldgarea(3)         |\n",
      "+--------------------+---------------------+-----+---------------------+---------------------+\n",
      "| unitsres           | unitsres(0)         | ... | unitsres(1)         | unitsres(2)         |\n",
      "+--------------------+---------------------+-----+---------------------+---------------------+\n",
      "| mediangrossrent(0) | 0.24116298608646528 | ... | 0.2638566015124363  | 0.30721550468165665 |\n",
      "+--------------------+---------------------+-----+---------------------+---------------------+\n",
      "| mediangrossrent(1) | 0.23688680133558346 | ... | 0.2596288816515848  | 0.2113032544241423  |\n",
      "+--------------------+---------------------+-----+---------------------+---------------------+\n",
      "| mediangrossrent(2) | 0.2749813496345977  | ... | 0.23276455151215886 | 0.17023459322018172 |\n",
      "+--------------------+---------------------+-----+---------------------+---------------------+\n",
      "| mediangrossrent(3) | 0.2469688629433536  | ... | 0.24374996532382004 | 0.3112466476740194  |\n",
      "+--------------------+---------------------+-----+---------------------+---------------------+\n",
      "CPD of unitstotal:\n",
      "+---------------+----------+\n",
      "| unitstotal(0) | 0.41211  |\n",
      "+---------------+----------+\n",
      "| unitstotal(1) | 0.339234 |\n",
      "+---------------+----------+\n",
      "| unitstotal(2) | 0.248656 |\n",
      "+---------------+----------+\n",
      "CPD of unitsres:\n",
      "+-------------+-----------------------+-----------------------+---------------------+\n",
      "| unitstotal  | unitstotal(0)         | unitstotal(1)         | unitstotal(2)       |\n",
      "+-------------+-----------------------+-----------------------+---------------------+\n",
      "| unitsres(0) | 0.9999899308602518    | 0.030402000215287356  | 0.0110249728610276  |\n",
      "+-------------+-----------------------+-----------------------+---------------------+\n",
      "| unitsres(1) | 5.034569874040096e-06 | 0.9695918836665394    | 0.09429176251876364 |\n",
      "+-------------+-----------------------+-----------------------+---------------------+\n",
      "| unitsres(2) | 5.034569874040096e-06 | 6.116118173188894e-06 | 0.8946832646202086  |\n",
      "+-------------+-----------------------+-----------------------+---------------------+\n",
      "CPD of vacate_ind:\n",
      "+-----------------+------------------------+-----+-----------------------+----------------------+\n",
      "| landuse_cat     | landuse_cat(1.0)       | ... | landuse_cat(4.0)      | landuse_cat(4.0)     |\n",
      "+-----------------+------------------------+-----+-----------------------+----------------------+\n",
      "| mediangrossrent | mediangrossrent(0)     | ... | mediangrossrent(3)    | mediangrossrent(3)   |\n",
      "+-----------------+------------------------+-----+-----------------------+----------------------+\n",
      "| unitsres        | unitsres(0)            | ... | unitsres(1)           | unitsres(2)          |\n",
      "+-----------------+------------------------+-----+-----------------------+----------------------+\n",
      "| vacate_ind(0.0) | 0.9999979558412654     | ... | 0.9989495946422278    | 0.9854389078498293   |\n",
      "+-----------------+------------------------+-----+-----------------------+----------------------+\n",
      "| vacate_ind(1.0) | 2.0441587346493904e-06 | ... | 0.0010504053577722948 | 0.014561092150170648 |\n",
      "+-----------------+------------------------+-----+-----------------------+----------------------+\n",
      "\n",
      "(assesstot ⟂ unitstotal | unitsres, pctnhblack, mediangrossrent, bldgarea)\n",
      "(pctnhblack ⟂ unitsres | unitstotal, mediangrossrent, bldgarea)\n",
      "(crowding ⟂ vacate_ind, landuse_cat, unitsres | assesstot, bldgarea, unitstotal, pctnhblack, mediangrossrent)\n",
      "(landuse_cat ⟂ crowding, mediangrossrent, pctnhblack | assesstot, unitsres, unitstotal, bldgarea)\n",
      "(mediangrossrent ⟂ unitstotal | unitsres, bldgarea)\n",
      "\n",
      "\n",
      "(vacate_ind ⟂ assesstot, crowding, bldgarea, unitstotal, pctnhblack | landuse_cat, unitsres, mediangrossrent)\n"
     ]
    }
   ],
   "source": [
    "# look at the CPD for the model\n",
    "model = BayesianNetwork(best_model.edges())\n",
    "model.fit(train.loc[:, impt_vars], estimator=BayesianEstimator, prior_type='BDeu', equivalent_sample_size=10)\n",
    "for cpd in model.get_cpds():\n",
    "    print(\"CPD of {variable}:\".format(variable=cpd.variable))\n",
    "    print(cpd)\n",
    "for n in model.nodes():\n",
    "    print(model.local_independencies(n))"
   ]
  },
  {
   "cell_type": "code",
   "execution_count": 32,
   "id": "50cea9bf",
   "metadata": {},
   "outputs": [
    {
     "name": "stdout",
     "output_type": "stream",
     "text": [
      "\n",
      "unitsres= 0\n",
      "mediangrossrent= 0\n",
      "landuse_cat= 1\n"
     ]
    },
    {
     "data": {
      "application/vnd.jupyter.widget-view+json": {
       "model_id": "3cd462e8adaf4bd79217aa0e2e288ec2",
       "version_major": 2,
       "version_minor": 0
      },
      "text/plain": [
       "0it [00:00, ?it/s]"
      ]
     },
     "metadata": {},
     "output_type": "display_data"
    },
    {
     "data": {
      "application/vnd.jupyter.widget-view+json": {
       "model_id": "934788e233ba498d8da7dcf137ccd591",
       "version_major": 2,
       "version_minor": 0
      },
      "text/plain": [
       "0it [00:00, ?it/s]"
      ]
     },
     "metadata": {},
     "output_type": "display_data"
    },
    {
     "name": "stdout",
     "output_type": "stream",
     "text": [
      "+-----------------+-------------------+\n",
      "| vacate_ind      |   phi(vacate_ind) |\n",
      "+=================+===================+\n",
      "| vacate_ind(0.0) |            1.0000 |\n",
      "+-----------------+-------------------+\n",
      "| vacate_ind(1.0) |            0.0000 |\n",
      "+-----------------+-------------------+\n",
      "\n",
      "unitsres= 0\n",
      "mediangrossrent= 0\n",
      "landuse_cat= 3\n"
     ]
    },
    {
     "data": {
      "application/vnd.jupyter.widget-view+json": {
       "model_id": "b4368e6c60734bc897d0f04705e4830c",
       "version_major": 2,
       "version_minor": 0
      },
      "text/plain": [
       "0it [00:00, ?it/s]"
      ]
     },
     "metadata": {},
     "output_type": "display_data"
    },
    {
     "data": {
      "application/vnd.jupyter.widget-view+json": {
       "model_id": "115f2eaadf2440dfb37d0a1f8dead7cf",
       "version_major": 2,
       "version_minor": 0
      },
      "text/plain": [
       "0it [00:00, ?it/s]"
      ]
     },
     "metadata": {},
     "output_type": "display_data"
    },
    {
     "name": "stdout",
     "output_type": "stream",
     "text": [
      "+-----------------+-------------------+\n",
      "| vacate_ind      |   phi(vacate_ind) |\n",
      "+=================+===================+\n",
      "| vacate_ind(0.0) |            0.9675 |\n",
      "+-----------------+-------------------+\n",
      "| vacate_ind(1.0) |            0.0325 |\n",
      "+-----------------+-------------------+\n",
      "\n",
      "unitsres= 0\n",
      "mediangrossrent= 0\n",
      "landuse_cat= 4\n"
     ]
    },
    {
     "data": {
      "application/vnd.jupyter.widget-view+json": {
       "model_id": "b87e15e07e4a459792ce465f58898032",
       "version_major": 2,
       "version_minor": 0
      },
      "text/plain": [
       "0it [00:00, ?it/s]"
      ]
     },
     "metadata": {},
     "output_type": "display_data"
    },
    {
     "data": {
      "application/vnd.jupyter.widget-view+json": {
       "model_id": "6b61c454b00a48c1ba01c8094254a5a2",
       "version_major": 2,
       "version_minor": 0
      },
      "text/plain": [
       "0it [00:00, ?it/s]"
      ]
     },
     "metadata": {},
     "output_type": "display_data"
    },
    {
     "name": "stdout",
     "output_type": "stream",
     "text": [
      "+-----------------+-------------------+\n",
      "| vacate_ind      |   phi(vacate_ind) |\n",
      "+=================+===================+\n",
      "| vacate_ind(0.0) |            0.9999 |\n",
      "+-----------------+-------------------+\n",
      "| vacate_ind(1.0) |            0.0001 |\n",
      "+-----------------+-------------------+\n",
      "\n",
      "unitsres= 0\n",
      "mediangrossrent= 1\n",
      "landuse_cat= 1\n"
     ]
    },
    {
     "data": {
      "application/vnd.jupyter.widget-view+json": {
       "model_id": "1e70d35b2fde4762bb604e15e8037d33",
       "version_major": 2,
       "version_minor": 0
      },
      "text/plain": [
       "0it [00:00, ?it/s]"
      ]
     },
     "metadata": {},
     "output_type": "display_data"
    },
    {
     "data": {
      "application/vnd.jupyter.widget-view+json": {
       "model_id": "dd9f7256be79448da9ae853ca8d4a8da",
       "version_major": 2,
       "version_minor": 0
      },
      "text/plain": [
       "0it [00:00, ?it/s]"
      ]
     },
     "metadata": {},
     "output_type": "display_data"
    },
    {
     "name": "stdout",
     "output_type": "stream",
     "text": [
      "+-----------------+-------------------+\n",
      "| vacate_ind      |   phi(vacate_ind) |\n",
      "+=================+===================+\n",
      "| vacate_ind(0.0) |            1.0000 |\n",
      "+-----------------+-------------------+\n",
      "| vacate_ind(1.0) |            0.0000 |\n",
      "+-----------------+-------------------+\n",
      "\n",
      "unitsres= 0\n",
      "mediangrossrent= 1\n",
      "landuse_cat= 3\n"
     ]
    },
    {
     "data": {
      "application/vnd.jupyter.widget-view+json": {
       "model_id": "4649669c2fa7489c82e9cdbb8a113fad",
       "version_major": 2,
       "version_minor": 0
      },
      "text/plain": [
       "0it [00:00, ?it/s]"
      ]
     },
     "metadata": {},
     "output_type": "display_data"
    },
    {
     "data": {
      "application/vnd.jupyter.widget-view+json": {
       "model_id": "269f25e9bbdc4eff8f4fa05d8d03d41f",
       "version_major": 2,
       "version_minor": 0
      },
      "text/plain": [
       "0it [00:00, ?it/s]"
      ]
     },
     "metadata": {},
     "output_type": "display_data"
    },
    {
     "name": "stdout",
     "output_type": "stream",
     "text": [
      "+-----------------+-------------------+\n",
      "| vacate_ind      |   phi(vacate_ind) |\n",
      "+=================+===================+\n",
      "| vacate_ind(0.0) |            0.9138 |\n",
      "+-----------------+-------------------+\n",
      "| vacate_ind(1.0) |            0.0862 |\n",
      "+-----------------+-------------------+\n",
      "\n",
      "unitsres= 0\n",
      "mediangrossrent= 1\n",
      "landuse_cat= 4\n"
     ]
    },
    {
     "data": {
      "application/vnd.jupyter.widget-view+json": {
       "model_id": "2aedbeddf6bf4ce3bed9fcc7f5ab48d5",
       "version_major": 2,
       "version_minor": 0
      },
      "text/plain": [
       "0it [00:00, ?it/s]"
      ]
     },
     "metadata": {},
     "output_type": "display_data"
    },
    {
     "data": {
      "application/vnd.jupyter.widget-view+json": {
       "model_id": "e841119df45b4d03adf4de42849d519f",
       "version_major": 2,
       "version_minor": 0
      },
      "text/plain": [
       "0it [00:00, ?it/s]"
      ]
     },
     "metadata": {},
     "output_type": "display_data"
    },
    {
     "name": "stdout",
     "output_type": "stream",
     "text": [
      "+-----------------+-------------------+\n",
      "| vacate_ind      |   phi(vacate_ind) |\n",
      "+=================+===================+\n",
      "| vacate_ind(0.0) |            0.9994 |\n",
      "+-----------------+-------------------+\n",
      "| vacate_ind(1.0) |            0.0006 |\n",
      "+-----------------+-------------------+\n",
      "\n",
      "unitsres= 0\n",
      "mediangrossrent= 2\n",
      "landuse_cat= 1\n"
     ]
    },
    {
     "data": {
      "application/vnd.jupyter.widget-view+json": {
       "model_id": "9eb1eac32b9e43cf95ede6fea2f0c666",
       "version_major": 2,
       "version_minor": 0
      },
      "text/plain": [
       "0it [00:00, ?it/s]"
      ]
     },
     "metadata": {},
     "output_type": "display_data"
    },
    {
     "data": {
      "application/vnd.jupyter.widget-view+json": {
       "model_id": "72de00120e3841feb947afe31abfa1bd",
       "version_major": 2,
       "version_minor": 0
      },
      "text/plain": [
       "0it [00:00, ?it/s]"
      ]
     },
     "metadata": {},
     "output_type": "display_data"
    },
    {
     "name": "stdout",
     "output_type": "stream",
     "text": [
      "+-----------------+-------------------+\n",
      "| vacate_ind      |   phi(vacate_ind) |\n",
      "+=================+===================+\n",
      "| vacate_ind(0.0) |            1.0000 |\n",
      "+-----------------+-------------------+\n",
      "| vacate_ind(1.0) |            0.0000 |\n",
      "+-----------------+-------------------+\n",
      "\n",
      "unitsres= 0\n",
      "mediangrossrent= 2\n",
      "landuse_cat= 3\n"
     ]
    },
    {
     "data": {
      "application/vnd.jupyter.widget-view+json": {
       "model_id": "43ba1e2858c8406d9978f09a116a611e",
       "version_major": 2,
       "version_minor": 0
      },
      "text/plain": [
       "0it [00:00, ?it/s]"
      ]
     },
     "metadata": {},
     "output_type": "display_data"
    },
    {
     "data": {
      "application/vnd.jupyter.widget-view+json": {
       "model_id": "352b7dda3d4c4ad09488e65a5e7e20b3",
       "version_major": 2,
       "version_minor": 0
      },
      "text/plain": [
       "0it [00:00, ?it/s]"
      ]
     },
     "metadata": {},
     "output_type": "display_data"
    },
    {
     "name": "stdout",
     "output_type": "stream",
     "text": [
      "+-----------------+-------------------+\n",
      "| vacate_ind      |   phi(vacate_ind) |\n",
      "+=================+===================+\n",
      "| vacate_ind(0.0) |            0.9528 |\n",
      "+-----------------+-------------------+\n",
      "| vacate_ind(1.0) |            0.0472 |\n",
      "+-----------------+-------------------+\n",
      "\n",
      "unitsres= 0\n",
      "mediangrossrent= 2\n",
      "landuse_cat= 4\n"
     ]
    },
    {
     "data": {
      "application/vnd.jupyter.widget-view+json": {
       "model_id": "e0d24d55a6f043f7897f5123efc9d21c",
       "version_major": 2,
       "version_minor": 0
      },
      "text/plain": [
       "0it [00:00, ?it/s]"
      ]
     },
     "metadata": {},
     "output_type": "display_data"
    },
    {
     "data": {
      "application/vnd.jupyter.widget-view+json": {
       "model_id": "2ae57a049b0641458686bfa319f84958",
       "version_major": 2,
       "version_minor": 0
      },
      "text/plain": [
       "0it [00:00, ?it/s]"
      ]
     },
     "metadata": {},
     "output_type": "display_data"
    },
    {
     "name": "stdout",
     "output_type": "stream",
     "text": [
      "+-----------------+-------------------+\n",
      "| vacate_ind      |   phi(vacate_ind) |\n",
      "+=================+===================+\n",
      "| vacate_ind(0.0) |            0.9999 |\n",
      "+-----------------+-------------------+\n",
      "| vacate_ind(1.0) |            0.0001 |\n",
      "+-----------------+-------------------+\n",
      "\n",
      "unitsres= 0\n",
      "mediangrossrent= 3\n",
      "landuse_cat= 1\n"
     ]
    },
    {
     "data": {
      "application/vnd.jupyter.widget-view+json": {
       "model_id": "c65944d728814ca394d935d149fd0d6c",
       "version_major": 2,
       "version_minor": 0
      },
      "text/plain": [
       "0it [00:00, ?it/s]"
      ]
     },
     "metadata": {},
     "output_type": "display_data"
    },
    {
     "data": {
      "application/vnd.jupyter.widget-view+json": {
       "model_id": "6b39c28fd9a44b99a4e99b7cbede2989",
       "version_major": 2,
       "version_minor": 0
      },
      "text/plain": [
       "0it [00:00, ?it/s]"
      ]
     },
     "metadata": {},
     "output_type": "display_data"
    },
    {
     "name": "stdout",
     "output_type": "stream",
     "text": [
      "+-----------------+-------------------+\n",
      "| vacate_ind      |   phi(vacate_ind) |\n",
      "+=================+===================+\n",
      "| vacate_ind(0.0) |            1.0000 |\n",
      "+-----------------+-------------------+\n",
      "| vacate_ind(1.0) |            0.0000 |\n",
      "+-----------------+-------------------+\n",
      "\n",
      "unitsres= 0\n",
      "mediangrossrent= 3\n",
      "landuse_cat= 3\n"
     ]
    },
    {
     "data": {
      "application/vnd.jupyter.widget-view+json": {
       "model_id": "ba2900a1d6854211a4f3760c23190c75",
       "version_major": 2,
       "version_minor": 0
      },
      "text/plain": [
       "0it [00:00, ?it/s]"
      ]
     },
     "metadata": {},
     "output_type": "display_data"
    },
    {
     "data": {
      "application/vnd.jupyter.widget-view+json": {
       "model_id": "7e2908a162ed44d5a13c1997004946e5",
       "version_major": 2,
       "version_minor": 0
      },
      "text/plain": [
       "0it [00:00, ?it/s]"
      ]
     },
     "metadata": {},
     "output_type": "display_data"
    },
    {
     "name": "stdout",
     "output_type": "stream",
     "text": [
      "+-----------------+-------------------+\n",
      "| vacate_ind      |   phi(vacate_ind) |\n",
      "+=================+===================+\n",
      "| vacate_ind(0.0) |            0.8655 |\n",
      "+-----------------+-------------------+\n",
      "| vacate_ind(1.0) |            0.1345 |\n",
      "+-----------------+-------------------+\n",
      "\n",
      "unitsres= 0\n",
      "mediangrossrent= 3\n",
      "landuse_cat= 4\n"
     ]
    },
    {
     "data": {
      "application/vnd.jupyter.widget-view+json": {
       "model_id": "24db30a6284b47a596b09c673cadf6e5",
       "version_major": 2,
       "version_minor": 0
      },
      "text/plain": [
       "0it [00:00, ?it/s]"
      ]
     },
     "metadata": {},
     "output_type": "display_data"
    },
    {
     "data": {
      "application/vnd.jupyter.widget-view+json": {
       "model_id": "ee8a189bcbf14b81bf6013b489ff917e",
       "version_major": 2,
       "version_minor": 0
      },
      "text/plain": [
       "0it [00:00, ?it/s]"
      ]
     },
     "metadata": {},
     "output_type": "display_data"
    },
    {
     "name": "stdout",
     "output_type": "stream",
     "text": [
      "+-----------------+-------------------+\n",
      "| vacate_ind      |   phi(vacate_ind) |\n",
      "+=================+===================+\n",
      "| vacate_ind(0.0) |            0.9999 |\n",
      "+-----------------+-------------------+\n",
      "| vacate_ind(1.0) |            0.0001 |\n",
      "+-----------------+-------------------+\n",
      "\n",
      "unitsres= 1\n",
      "mediangrossrent= 0\n",
      "landuse_cat= 1\n"
     ]
    },
    {
     "data": {
      "application/vnd.jupyter.widget-view+json": {
       "model_id": "ba3ec42af2b1454a8e92d2639c726840",
       "version_major": 2,
       "version_minor": 0
      },
      "text/plain": [
       "0it [00:00, ?it/s]"
      ]
     },
     "metadata": {},
     "output_type": "display_data"
    },
    {
     "data": {
      "application/vnd.jupyter.widget-view+json": {
       "model_id": "91c9dde2a15045e78b812214a2a1a087",
       "version_major": 2,
       "version_minor": 0
      },
      "text/plain": [
       "0it [00:00, ?it/s]"
      ]
     },
     "metadata": {},
     "output_type": "display_data"
    },
    {
     "name": "stdout",
     "output_type": "stream",
     "text": [
      "+-----------------+-------------------+\n",
      "| vacate_ind      |   phi(vacate_ind) |\n",
      "+=================+===================+\n",
      "| vacate_ind(0.0) |            0.9997 |\n",
      "+-----------------+-------------------+\n",
      "| vacate_ind(1.0) |            0.0003 |\n",
      "+-----------------+-------------------+\n",
      "\n",
      "unitsres= 1\n",
      "mediangrossrent= 0\n",
      "landuse_cat= 2\n"
     ]
    },
    {
     "data": {
      "application/vnd.jupyter.widget-view+json": {
       "model_id": "7cd43d54f55741b8afda9f235d17cab6",
       "version_major": 2,
       "version_minor": 0
      },
      "text/plain": [
       "0it [00:00, ?it/s]"
      ]
     },
     "metadata": {},
     "output_type": "display_data"
    },
    {
     "data": {
      "application/vnd.jupyter.widget-view+json": {
       "model_id": "136e2d7e978144af8df6083a97d031cb",
       "version_major": 2,
       "version_minor": 0
      },
      "text/plain": [
       "0it [00:00, ?it/s]"
      ]
     },
     "metadata": {},
     "output_type": "display_data"
    },
    {
     "name": "stdout",
     "output_type": "stream",
     "text": [
      "+-----------------+-------------------+\n",
      "| vacate_ind      |   phi(vacate_ind) |\n",
      "+=================+===================+\n",
      "| vacate_ind(0.0) |            0.9980 |\n",
      "+-----------------+-------------------+\n",
      "| vacate_ind(1.0) |            0.0020 |\n",
      "+-----------------+-------------------+\n",
      "\n",
      "unitsres= 1\n",
      "mediangrossrent= 0\n",
      "landuse_cat= 4\n"
     ]
    },
    {
     "data": {
      "application/vnd.jupyter.widget-view+json": {
       "model_id": "b0129efbde0247b388d00a930299aac4",
       "version_major": 2,
       "version_minor": 0
      },
      "text/plain": [
       "0it [00:00, ?it/s]"
      ]
     },
     "metadata": {},
     "output_type": "display_data"
    },
    {
     "data": {
      "application/vnd.jupyter.widget-view+json": {
       "model_id": "47755a05b15a4a919a3c6b30c40d774a",
       "version_major": 2,
       "version_minor": 0
      },
      "text/plain": [
       "0it [00:00, ?it/s]"
      ]
     },
     "metadata": {},
     "output_type": "display_data"
    },
    {
     "name": "stdout",
     "output_type": "stream",
     "text": [
      "+-----------------+-------------------+\n",
      "| vacate_ind      |   phi(vacate_ind) |\n",
      "+=================+===================+\n",
      "| vacate_ind(0.0) |            0.9986 |\n",
      "+-----------------+-------------------+\n",
      "| vacate_ind(1.0) |            0.0014 |\n",
      "+-----------------+-------------------+\n",
      "\n",
      "unitsres= 1\n",
      "mediangrossrent= 1\n",
      "landuse_cat= 1\n"
     ]
    },
    {
     "data": {
      "application/vnd.jupyter.widget-view+json": {
       "model_id": "de338c1a139542339b4940d7e400c3d8",
       "version_major": 2,
       "version_minor": 0
      },
      "text/plain": [
       "0it [00:00, ?it/s]"
      ]
     },
     "metadata": {},
     "output_type": "display_data"
    },
    {
     "data": {
      "application/vnd.jupyter.widget-view+json": {
       "model_id": "5a80745300584979a0bfd72b0aaa4901",
       "version_major": 2,
       "version_minor": 0
      },
      "text/plain": [
       "0it [00:00, ?it/s]"
      ]
     },
     "metadata": {},
     "output_type": "display_data"
    },
    {
     "name": "stdout",
     "output_type": "stream",
     "text": [
      "+-----------------+-------------------+\n",
      "| vacate_ind      |   phi(vacate_ind) |\n",
      "+=================+===================+\n",
      "| vacate_ind(0.0) |            1.0000 |\n",
      "+-----------------+-------------------+\n",
      "| vacate_ind(1.0) |            0.0000 |\n",
      "+-----------------+-------------------+\n",
      "\n",
      "unitsres= 1\n",
      "mediangrossrent= 1\n",
      "landuse_cat= 2\n"
     ]
    },
    {
     "data": {
      "application/vnd.jupyter.widget-view+json": {
       "model_id": "5d0d4430b3934d88a54ca63fc8dc3330",
       "version_major": 2,
       "version_minor": 0
      },
      "text/plain": [
       "0it [00:00, ?it/s]"
      ]
     },
     "metadata": {},
     "output_type": "display_data"
    },
    {
     "data": {
      "application/vnd.jupyter.widget-view+json": {
       "model_id": "91ffd14849074bfbab216fa6b7d5565b",
       "version_major": 2,
       "version_minor": 0
      },
      "text/plain": [
       "0it [00:00, ?it/s]"
      ]
     },
     "metadata": {},
     "output_type": "display_data"
    },
    {
     "name": "stdout",
     "output_type": "stream",
     "text": [
      "+-----------------+-------------------+\n",
      "| vacate_ind      |   phi(vacate_ind) |\n",
      "+=================+===================+\n",
      "| vacate_ind(0.0) |            0.9976 |\n",
      "+-----------------+-------------------+\n",
      "| vacate_ind(1.0) |            0.0024 |\n",
      "+-----------------+-------------------+\n",
      "\n",
      "unitsres= 1\n",
      "mediangrossrent= 1\n",
      "landuse_cat= 4\n"
     ]
    },
    {
     "data": {
      "application/vnd.jupyter.widget-view+json": {
       "model_id": "852d035a9950400b921302fee75d1162",
       "version_major": 2,
       "version_minor": 0
      },
      "text/plain": [
       "0it [00:00, ?it/s]"
      ]
     },
     "metadata": {},
     "output_type": "display_data"
    },
    {
     "data": {
      "application/vnd.jupyter.widget-view+json": {
       "model_id": "d6b45185f93e4bbbb1f46ef1b8b60d3c",
       "version_major": 2,
       "version_minor": 0
      },
      "text/plain": [
       "0it [00:00, ?it/s]"
      ]
     },
     "metadata": {},
     "output_type": "display_data"
    },
    {
     "name": "stdout",
     "output_type": "stream",
     "text": [
      "+-----------------+-------------------+\n",
      "| vacate_ind      |   phi(vacate_ind) |\n",
      "+=================+===================+\n",
      "| vacate_ind(0.0) |            0.9991 |\n",
      "+-----------------+-------------------+\n",
      "| vacate_ind(1.0) |            0.0009 |\n",
      "+-----------------+-------------------+\n",
      "\n",
      "unitsres= 1\n",
      "mediangrossrent= 2\n",
      "landuse_cat= 1\n"
     ]
    },
    {
     "data": {
      "application/vnd.jupyter.widget-view+json": {
       "model_id": "0693258c56d84978a9799474dd4dfa81",
       "version_major": 2,
       "version_minor": 0
      },
      "text/plain": [
       "0it [00:00, ?it/s]"
      ]
     },
     "metadata": {},
     "output_type": "display_data"
    },
    {
     "data": {
      "application/vnd.jupyter.widget-view+json": {
       "model_id": "fea722da1e1a4e24bf8100c615a7810a",
       "version_major": 2,
       "version_minor": 0
      },
      "text/plain": [
       "0it [00:00, ?it/s]"
      ]
     },
     "metadata": {},
     "output_type": "display_data"
    },
    {
     "name": "stdout",
     "output_type": "stream",
     "text": [
      "+-----------------+-------------------+\n",
      "| vacate_ind      |   phi(vacate_ind) |\n",
      "+=================+===================+\n",
      "| vacate_ind(0.0) |            0.9999 |\n",
      "+-----------------+-------------------+\n",
      "| vacate_ind(1.0) |            0.0001 |\n",
      "+-----------------+-------------------+\n",
      "\n",
      "unitsres= 1\n",
      "mediangrossrent= 2\n",
      "landuse_cat= 2\n"
     ]
    },
    {
     "data": {
      "application/vnd.jupyter.widget-view+json": {
       "model_id": "18057143e52a49548c47bdc6f05c58d2",
       "version_major": 2,
       "version_minor": 0
      },
      "text/plain": [
       "0it [00:00, ?it/s]"
      ]
     },
     "metadata": {},
     "output_type": "display_data"
    },
    {
     "data": {
      "application/vnd.jupyter.widget-view+json": {
       "model_id": "b0741db1d36648d3bca60d40f82eeacd",
       "version_major": 2,
       "version_minor": 0
      },
      "text/plain": [
       "0it [00:00, ?it/s]"
      ]
     },
     "metadata": {},
     "output_type": "display_data"
    },
    {
     "name": "stdout",
     "output_type": "stream",
     "text": [
      "+-----------------+-------------------+\n",
      "| vacate_ind      |   phi(vacate_ind) |\n",
      "+=================+===================+\n",
      "| vacate_ind(0.0) |            0.9973 |\n",
      "+-----------------+-------------------+\n",
      "| vacate_ind(1.0) |            0.0027 |\n",
      "+-----------------+-------------------+\n",
      "\n",
      "unitsres= 1\n",
      "mediangrossrent= 2\n",
      "landuse_cat= 4\n"
     ]
    },
    {
     "data": {
      "application/vnd.jupyter.widget-view+json": {
       "model_id": "9f2c69d0691244fd8ce3fd6468b5aa02",
       "version_major": 2,
       "version_minor": 0
      },
      "text/plain": [
       "0it [00:00, ?it/s]"
      ]
     },
     "metadata": {},
     "output_type": "display_data"
    },
    {
     "data": {
      "application/vnd.jupyter.widget-view+json": {
       "model_id": "f289ab8f09db4bcf98800b89cc75e4e5",
       "version_major": 2,
       "version_minor": 0
      },
      "text/plain": [
       "0it [00:00, ?it/s]"
      ]
     },
     "metadata": {},
     "output_type": "display_data"
    },
    {
     "name": "stdout",
     "output_type": "stream",
     "text": [
      "+-----------------+-------------------+\n",
      "| vacate_ind      |   phi(vacate_ind) |\n",
      "+=================+===================+\n",
      "| vacate_ind(0.0) |            0.9987 |\n",
      "+-----------------+-------------------+\n",
      "| vacate_ind(1.0) |            0.0013 |\n",
      "+-----------------+-------------------+\n",
      "\n",
      "unitsres= 1\n",
      "mediangrossrent= 3\n",
      "landuse_cat= 1\n"
     ]
    },
    {
     "data": {
      "application/vnd.jupyter.widget-view+json": {
       "model_id": "5cc4ab74ca4d4f56aaeb87f8d5467caa",
       "version_major": 2,
       "version_minor": 0
      },
      "text/plain": [
       "0it [00:00, ?it/s]"
      ]
     },
     "metadata": {},
     "output_type": "display_data"
    },
    {
     "data": {
      "application/vnd.jupyter.widget-view+json": {
       "model_id": "3a6b7105ff614a22b2d4307859420535",
       "version_major": 2,
       "version_minor": 0
      },
      "text/plain": [
       "0it [00:00, ?it/s]"
      ]
     },
     "metadata": {},
     "output_type": "display_data"
    },
    {
     "name": "stdout",
     "output_type": "stream",
     "text": [
      "+-----------------+-------------------+\n",
      "| vacate_ind      |   phi(vacate_ind) |\n",
      "+=================+===================+\n",
      "| vacate_ind(0.0) |            1.0000 |\n",
      "+-----------------+-------------------+\n",
      "| vacate_ind(1.0) |            0.0000 |\n",
      "+-----------------+-------------------+\n",
      "\n",
      "unitsres= 1\n",
      "mediangrossrent= 3\n",
      "landuse_cat= 2\n"
     ]
    },
    {
     "data": {
      "application/vnd.jupyter.widget-view+json": {
       "model_id": "6e90b4f867a24f0aa63e8714e135d929",
       "version_major": 2,
       "version_minor": 0
      },
      "text/plain": [
       "0it [00:00, ?it/s]"
      ]
     },
     "metadata": {},
     "output_type": "display_data"
    },
    {
     "data": {
      "application/vnd.jupyter.widget-view+json": {
       "model_id": "f0935c45d3a44def834d32320184db8c",
       "version_major": 2,
       "version_minor": 0
      },
      "text/plain": [
       "0it [00:00, ?it/s]"
      ]
     },
     "metadata": {},
     "output_type": "display_data"
    },
    {
     "name": "stdout",
     "output_type": "stream",
     "text": [
      "+-----------------+-------------------+\n",
      "| vacate_ind      |   phi(vacate_ind) |\n",
      "+=================+===================+\n",
      "| vacate_ind(0.0) |            0.9991 |\n",
      "+-----------------+-------------------+\n",
      "| vacate_ind(1.0) |            0.0009 |\n",
      "+-----------------+-------------------+\n",
      "\n",
      "unitsres= 1\n",
      "mediangrossrent= 3\n",
      "landuse_cat= 4\n"
     ]
    },
    {
     "data": {
      "application/vnd.jupyter.widget-view+json": {
       "model_id": "5e9d58a0dc3044e5aaa59d8c033020fa",
       "version_major": 2,
       "version_minor": 0
      },
      "text/plain": [
       "0it [00:00, ?it/s]"
      ]
     },
     "metadata": {},
     "output_type": "display_data"
    },
    {
     "data": {
      "application/vnd.jupyter.widget-view+json": {
       "model_id": "82c3f6c7cc094c2789613142135d79f9",
       "version_major": 2,
       "version_minor": 0
      },
      "text/plain": [
       "0it [00:00, ?it/s]"
      ]
     },
     "metadata": {},
     "output_type": "display_data"
    },
    {
     "name": "stdout",
     "output_type": "stream",
     "text": [
      "+-----------------+-------------------+\n",
      "| vacate_ind      |   phi(vacate_ind) |\n",
      "+=================+===================+\n",
      "| vacate_ind(0.0) |            0.9989 |\n",
      "+-----------------+-------------------+\n",
      "| vacate_ind(1.0) |            0.0011 |\n",
      "+-----------------+-------------------+\n",
      "\n",
      "unitsres= 2\n",
      "mediangrossrent= 0\n",
      "landuse_cat= 1\n"
     ]
    },
    {
     "data": {
      "application/vnd.jupyter.widget-view+json": {
       "model_id": "949a08bbb887487ea2087dd9bf84b3e2",
       "version_major": 2,
       "version_minor": 0
      },
      "text/plain": [
       "0it [00:00, ?it/s]"
      ]
     },
     "metadata": {},
     "output_type": "display_data"
    },
    {
     "data": {
      "application/vnd.jupyter.widget-view+json": {
       "model_id": "ec60ecf7a6dc48158ad5edf2269c884a",
       "version_major": 2,
       "version_minor": 0
      },
      "text/plain": [
       "0it [00:00, ?it/s]"
      ]
     },
     "metadata": {},
     "output_type": "display_data"
    },
    {
     "name": "stdout",
     "output_type": "stream",
     "text": [
      "+-----------------+-------------------+\n",
      "| vacate_ind      |   phi(vacate_ind) |\n",
      "+=================+===================+\n",
      "| vacate_ind(0.0) |            0.9832 |\n",
      "+-----------------+-------------------+\n",
      "| vacate_ind(1.0) |            0.0168 |\n",
      "+-----------------+-------------------+\n",
      "\n",
      "unitsres= 2\n",
      "mediangrossrent= 0\n",
      "landuse_cat= 2\n"
     ]
    },
    {
     "data": {
      "application/vnd.jupyter.widget-view+json": {
       "model_id": "e4cfd07368c74e6584e35c86e4343aa6",
       "version_major": 2,
       "version_minor": 0
      },
      "text/plain": [
       "0it [00:00, ?it/s]"
      ]
     },
     "metadata": {},
     "output_type": "display_data"
    },
    {
     "data": {
      "application/vnd.jupyter.widget-view+json": {
       "model_id": "82ea2ed5041247e0a09eb858b730a34c",
       "version_major": 2,
       "version_minor": 0
      },
      "text/plain": [
       "0it [00:00, ?it/s]"
      ]
     },
     "metadata": {},
     "output_type": "display_data"
    },
    {
     "name": "stdout",
     "output_type": "stream",
     "text": [
      "+-----------------+-------------------+\n",
      "| vacate_ind      |   phi(vacate_ind) |\n",
      "+=================+===================+\n",
      "| vacate_ind(0.0) |            0.9829 |\n",
      "+-----------------+-------------------+\n",
      "| vacate_ind(1.0) |            0.0171 |\n",
      "+-----------------+-------------------+\n",
      "\n",
      "unitsres= 2\n",
      "mediangrossrent= 0\n",
      "landuse_cat= 3\n"
     ]
    },
    {
     "data": {
      "application/vnd.jupyter.widget-view+json": {
       "model_id": "2e0d2c31f89848c099f3c73d832b36f7",
       "version_major": 2,
       "version_minor": 0
      },
      "text/plain": [
       "0it [00:00, ?it/s]"
      ]
     },
     "metadata": {},
     "output_type": "display_data"
    },
    {
     "data": {
      "application/vnd.jupyter.widget-view+json": {
       "model_id": "5130b031791c4af4b1bd0389a3c8974a",
       "version_major": 2,
       "version_minor": 0
      },
      "text/plain": [
       "0it [00:00, ?it/s]"
      ]
     },
     "metadata": {},
     "output_type": "display_data"
    },
    {
     "name": "stdout",
     "output_type": "stream",
     "text": [
      "+-----------------+-------------------+\n",
      "| vacate_ind      |   phi(vacate_ind) |\n",
      "+=================+===================+\n",
      "| vacate_ind(0.0) |            0.9096 |\n",
      "+-----------------+-------------------+\n",
      "| vacate_ind(1.0) |            0.0904 |\n",
      "+-----------------+-------------------+\n",
      "\n",
      "unitsres= 2\n",
      "mediangrossrent= 0\n",
      "landuse_cat= 4\n"
     ]
    },
    {
     "data": {
      "application/vnd.jupyter.widget-view+json": {
       "model_id": "18c95955351b4a068be078463a07a866",
       "version_major": 2,
       "version_minor": 0
      },
      "text/plain": [
       "0it [00:00, ?it/s]"
      ]
     },
     "metadata": {},
     "output_type": "display_data"
    },
    {
     "data": {
      "application/vnd.jupyter.widget-view+json": {
       "model_id": "efd19fa7d60248e288f9d95e60817750",
       "version_major": 2,
       "version_minor": 0
      },
      "text/plain": [
       "0it [00:00, ?it/s]"
      ]
     },
     "metadata": {},
     "output_type": "display_data"
    },
    {
     "name": "stdout",
     "output_type": "stream",
     "text": [
      "+-----------------+-------------------+\n",
      "| vacate_ind      |   phi(vacate_ind) |\n",
      "+=================+===================+\n",
      "| vacate_ind(0.0) |            0.9571 |\n",
      "+-----------------+-------------------+\n",
      "| vacate_ind(1.0) |            0.0429 |\n",
      "+-----------------+-------------------+\n",
      "\n",
      "unitsres= 2\n",
      "mediangrossrent= 1\n",
      "landuse_cat= 1\n"
     ]
    },
    {
     "data": {
      "application/vnd.jupyter.widget-view+json": {
       "model_id": "67865c5ac5f04aafa27ea14ba457fcab",
       "version_major": 2,
       "version_minor": 0
      },
      "text/plain": [
       "0it [00:00, ?it/s]"
      ]
     },
     "metadata": {},
     "output_type": "display_data"
    },
    {
     "data": {
      "application/vnd.jupyter.widget-view+json": {
       "model_id": "a67ee472874c4c0f8f96b7ea8ced0480",
       "version_major": 2,
       "version_minor": 0
      },
      "text/plain": [
       "0it [00:00, ?it/s]"
      ]
     },
     "metadata": {},
     "output_type": "display_data"
    },
    {
     "name": "stdout",
     "output_type": "stream",
     "text": [
      "+-----------------+-------------------+\n",
      "| vacate_ind      |   phi(vacate_ind) |\n",
      "+=================+===================+\n",
      "| vacate_ind(0.0) |            0.9887 |\n",
      "+-----------------+-------------------+\n",
      "| vacate_ind(1.0) |            0.0113 |\n",
      "+-----------------+-------------------+\n",
      "\n",
      "unitsres= 2\n",
      "mediangrossrent= 1\n",
      "landuse_cat= 2\n"
     ]
    },
    {
     "data": {
      "application/vnd.jupyter.widget-view+json": {
       "model_id": "fb35a43b7c5149a1bfd2210caf9ea851",
       "version_major": 2,
       "version_minor": 0
      },
      "text/plain": [
       "0it [00:00, ?it/s]"
      ]
     },
     "metadata": {},
     "output_type": "display_data"
    },
    {
     "data": {
      "application/vnd.jupyter.widget-view+json": {
       "model_id": "98bae138602a4bf4a83317ddafc8a25d",
       "version_major": 2,
       "version_minor": 0
      },
      "text/plain": [
       "0it [00:00, ?it/s]"
      ]
     },
     "metadata": {},
     "output_type": "display_data"
    },
    {
     "name": "stdout",
     "output_type": "stream",
     "text": [
      "+-----------------+-------------------+\n",
      "| vacate_ind      |   phi(vacate_ind) |\n",
      "+=================+===================+\n",
      "| vacate_ind(0.0) |            0.9928 |\n",
      "+-----------------+-------------------+\n",
      "| vacate_ind(1.0) |            0.0072 |\n",
      "+-----------------+-------------------+\n",
      "\n",
      "unitsres= 2\n",
      "mediangrossrent= 1\n",
      "landuse_cat= 3\n"
     ]
    },
    {
     "data": {
      "application/vnd.jupyter.widget-view+json": {
       "model_id": "ef558e53dbac4c5a955255954a609e30",
       "version_major": 2,
       "version_minor": 0
      },
      "text/plain": [
       "0it [00:00, ?it/s]"
      ]
     },
     "metadata": {},
     "output_type": "display_data"
    },
    {
     "data": {
      "application/vnd.jupyter.widget-view+json": {
       "model_id": "a9a22e787ed94e84942b216bd15f5b01",
       "version_major": 2,
       "version_minor": 0
      },
      "text/plain": [
       "0it [00:00, ?it/s]"
      ]
     },
     "metadata": {},
     "output_type": "display_data"
    },
    {
     "name": "stdout",
     "output_type": "stream",
     "text": [
      "+-----------------+-------------------+\n",
      "| vacate_ind      |   phi(vacate_ind) |\n",
      "+=================+===================+\n",
      "| vacate_ind(0.0) |            0.9248 |\n",
      "+-----------------+-------------------+\n",
      "| vacate_ind(1.0) |            0.0752 |\n",
      "+-----------------+-------------------+\n",
      "\n",
      "unitsres= 2\n",
      "mediangrossrent= 1\n",
      "landuse_cat= 4\n"
     ]
    },
    {
     "data": {
      "application/vnd.jupyter.widget-view+json": {
       "model_id": "f3722b7caf224d659847a86b3d43d93f",
       "version_major": 2,
       "version_minor": 0
      },
      "text/plain": [
       "0it [00:00, ?it/s]"
      ]
     },
     "metadata": {},
     "output_type": "display_data"
    },
    {
     "data": {
      "application/vnd.jupyter.widget-view+json": {
       "model_id": "994b2040cead46eb826c0e913bdb4bae",
       "version_major": 2,
       "version_minor": 0
      },
      "text/plain": [
       "0it [00:00, ?it/s]"
      ]
     },
     "metadata": {},
     "output_type": "display_data"
    },
    {
     "name": "stdout",
     "output_type": "stream",
     "text": [
      "+-----------------+-------------------+\n",
      "| vacate_ind      |   phi(vacate_ind) |\n",
      "+=================+===================+\n",
      "| vacate_ind(0.0) |            0.9716 |\n",
      "+-----------------+-------------------+\n",
      "| vacate_ind(1.0) |            0.0284 |\n",
      "+-----------------+-------------------+\n",
      "\n",
      "unitsres= 2\n",
      "mediangrossrent= 2\n",
      "landuse_cat= 2\n"
     ]
    },
    {
     "data": {
      "application/vnd.jupyter.widget-view+json": {
       "model_id": "f44272ecad8247478bd1d02ba738c4e7",
       "version_major": 2,
       "version_minor": 0
      },
      "text/plain": [
       "0it [00:00, ?it/s]"
      ]
     },
     "metadata": {},
     "output_type": "display_data"
    },
    {
     "data": {
      "application/vnd.jupyter.widget-view+json": {
       "model_id": "8e9987af5b03443d87ded1afa09c6717",
       "version_major": 2,
       "version_minor": 0
      },
      "text/plain": [
       "0it [00:00, ?it/s]"
      ]
     },
     "metadata": {},
     "output_type": "display_data"
    },
    {
     "name": "stdout",
     "output_type": "stream",
     "text": [
      "+-----------------+-------------------+\n",
      "| vacate_ind      |   phi(vacate_ind) |\n",
      "+=================+===================+\n",
      "| vacate_ind(0.0) |            0.9939 |\n",
      "+-----------------+-------------------+\n",
      "| vacate_ind(1.0) |            0.0061 |\n",
      "+-----------------+-------------------+\n",
      "\n",
      "unitsres= 2\n",
      "mediangrossrent= 2\n",
      "landuse_cat= 3\n"
     ]
    },
    {
     "data": {
      "application/vnd.jupyter.widget-view+json": {
       "model_id": "40e498bdcb54495f94bbf3ffee8099ac",
       "version_major": 2,
       "version_minor": 0
      },
      "text/plain": [
       "0it [00:00, ?it/s]"
      ]
     },
     "metadata": {},
     "output_type": "display_data"
    },
    {
     "data": {
      "application/vnd.jupyter.widget-view+json": {
       "model_id": "842e237194674013afd2ca4b85629b2c",
       "version_major": 2,
       "version_minor": 0
      },
      "text/plain": [
       "0it [00:00, ?it/s]"
      ]
     },
     "metadata": {},
     "output_type": "display_data"
    },
    {
     "name": "stdout",
     "output_type": "stream",
     "text": [
      "+-----------------+-------------------+\n",
      "| vacate_ind      |   phi(vacate_ind) |\n",
      "+=================+===================+\n",
      "| vacate_ind(0.0) |            0.9424 |\n",
      "+-----------------+-------------------+\n",
      "| vacate_ind(1.0) |            0.0576 |\n",
      "+-----------------+-------------------+\n",
      "\n",
      "unitsres= 2\n",
      "mediangrossrent= 2\n",
      "landuse_cat= 4\n"
     ]
    },
    {
     "data": {
      "application/vnd.jupyter.widget-view+json": {
       "model_id": "e7e1327bd6de47199b91233ded20fd74",
       "version_major": 2,
       "version_minor": 0
      },
      "text/plain": [
       "0it [00:00, ?it/s]"
      ]
     },
     "metadata": {},
     "output_type": "display_data"
    },
    {
     "data": {
      "application/vnd.jupyter.widget-view+json": {
       "model_id": "21f49fde26d149b5bb4276159c2c45f7",
       "version_major": 2,
       "version_minor": 0
      },
      "text/plain": [
       "0it [00:00, ?it/s]"
      ]
     },
     "metadata": {},
     "output_type": "display_data"
    },
    {
     "name": "stdout",
     "output_type": "stream",
     "text": [
      "+-----------------+-------------------+\n",
      "| vacate_ind      |   phi(vacate_ind) |\n",
      "+=================+===================+\n",
      "| vacate_ind(0.0) |            0.9819 |\n",
      "+-----------------+-------------------+\n",
      "| vacate_ind(1.0) |            0.0181 |\n",
      "+-----------------+-------------------+\n",
      "\n",
      "unitsres= 2\n",
      "mediangrossrent= 3\n",
      "landuse_cat= 1\n"
     ]
    },
    {
     "data": {
      "application/vnd.jupyter.widget-view+json": {
       "model_id": "d4ca3b7d29f64b72b89c38136fbc1e05",
       "version_major": 2,
       "version_minor": 0
      },
      "text/plain": [
       "0it [00:00, ?it/s]"
      ]
     },
     "metadata": {},
     "output_type": "display_data"
    },
    {
     "data": {
      "application/vnd.jupyter.widget-view+json": {
       "model_id": "a23760b19cc14b7c973d35408d668a5c",
       "version_major": 2,
       "version_minor": 0
      },
      "text/plain": [
       "0it [00:00, ?it/s]"
      ]
     },
     "metadata": {},
     "output_type": "display_data"
    },
    {
     "name": "stdout",
     "output_type": "stream",
     "text": [
      "+-----------------+-------------------+\n",
      "| vacate_ind      |   phi(vacate_ind) |\n",
      "+=================+===================+\n",
      "| vacate_ind(0.0) |            0.9800 |\n",
      "+-----------------+-------------------+\n",
      "| vacate_ind(1.0) |            0.0200 |\n",
      "+-----------------+-------------------+\n",
      "\n",
      "unitsres= 2\n",
      "mediangrossrent= 3\n",
      "landuse_cat= 2\n"
     ]
    },
    {
     "data": {
      "application/vnd.jupyter.widget-view+json": {
       "model_id": "17874d62144949a0825b6cce30b06a75",
       "version_major": 2,
       "version_minor": 0
      },
      "text/plain": [
       "0it [00:00, ?it/s]"
      ]
     },
     "metadata": {},
     "output_type": "display_data"
    },
    {
     "data": {
      "application/vnd.jupyter.widget-view+json": {
       "model_id": "56cbdc94fbd84206b395c2d4a1276c6e",
       "version_major": 2,
       "version_minor": 0
      },
      "text/plain": [
       "0it [00:00, ?it/s]"
      ]
     },
     "metadata": {},
     "output_type": "display_data"
    },
    {
     "name": "stdout",
     "output_type": "stream",
     "text": [
      "+-----------------+-------------------+\n",
      "| vacate_ind      |   phi(vacate_ind) |\n",
      "+=================+===================+\n",
      "| vacate_ind(0.0) |            0.9957 |\n",
      "+-----------------+-------------------+\n",
      "| vacate_ind(1.0) |            0.0043 |\n",
      "+-----------------+-------------------+\n",
      "\n",
      "unitsres= 2\n",
      "mediangrossrent= 3\n",
      "landuse_cat= 3\n"
     ]
    },
    {
     "data": {
      "application/vnd.jupyter.widget-view+json": {
       "model_id": "816a5e54a673465ba1d06276c55a9756",
       "version_major": 2,
       "version_minor": 0
      },
      "text/plain": [
       "0it [00:00, ?it/s]"
      ]
     },
     "metadata": {},
     "output_type": "display_data"
    },
    {
     "data": {
      "application/vnd.jupyter.widget-view+json": {
       "model_id": "d384aefba0ee48a397a962273ff890f4",
       "version_major": 2,
       "version_minor": 0
      },
      "text/plain": [
       "0it [00:00, ?it/s]"
      ]
     },
     "metadata": {},
     "output_type": "display_data"
    },
    {
     "name": "stdout",
     "output_type": "stream",
     "text": [
      "+-----------------+-------------------+\n",
      "| vacate_ind      |   phi(vacate_ind) |\n",
      "+=================+===================+\n",
      "| vacate_ind(0.0) |            0.9858 |\n",
      "+-----------------+-------------------+\n",
      "| vacate_ind(1.0) |            0.0142 |\n",
      "+-----------------+-------------------+\n",
      "\n",
      "unitsres= 2\n",
      "mediangrossrent= 3\n",
      "landuse_cat= 4\n"
     ]
    },
    {
     "data": {
      "application/vnd.jupyter.widget-view+json": {
       "model_id": "9283a2e7642940f98b6ca8cc6e8236b1",
       "version_major": 2,
       "version_minor": 0
      },
      "text/plain": [
       "0it [00:00, ?it/s]"
      ]
     },
     "metadata": {},
     "output_type": "display_data"
    },
    {
     "data": {
      "application/vnd.jupyter.widget-view+json": {
       "model_id": "bc8ed5a6ea5d4e28b7953e3f797f983e",
       "version_major": 2,
       "version_minor": 0
      },
      "text/plain": [
       "0it [00:00, ?it/s]"
      ]
     },
     "metadata": {},
     "output_type": "display_data"
    },
    {
     "name": "stdout",
     "output_type": "stream",
     "text": [
      "+-----------------+-------------------+\n",
      "| vacate_ind      |   phi(vacate_ind) |\n",
      "+=================+===================+\n",
      "| vacate_ind(0.0) |            0.9854 |\n",
      "+-----------------+-------------------+\n",
      "| vacate_ind(1.0) |            0.0146 |\n",
      "+-----------------+-------------------+\n"
     ]
    }
   ],
   "source": [
    "# get the conditional distributions\n",
    "from pgmpy.inference import VariableElimination\n",
    "infer = VariableElimination(model)\n",
    "\n",
    "d= {}\n",
    "for i in range(4):\n",
    "    for j in range(4):\n",
    "        for k in range(1,5):\n",
    "            # print conditional distributions\n",
    "            if train.loc[(train[\"mediangrossrent\"]==j) & (train[\"landuse_cat\"]==k)&(train[\"unitsres\"]==i)].shape[0] > 0:\n",
    "                print(\"\\nunitsres=\",i)\n",
    "                print(\"mediangrossrent=\", j)\n",
    "                print(\"landuse_cat=\", k)\n",
    "                cpd_comp= infer.query(['vacate_ind'], evidence={'unitsres': i, 'mediangrossrent': j, 'landuse_cat': k})\n",
    "                d[\"unitsres=\"+str(i)+\"; mediangrossrent=\"+str(j)+\"; landuse_cat=\"+str(k)]= cpd_comp.values[1]\n",
    "                print(cpd_comp)\n",
    "                "
   ]
  },
  {
   "cell_type": "code",
   "execution_count": 33,
   "id": "b0f66f7d",
   "metadata": {},
   "outputs": [
    {
     "data": {
      "text/html": [
       "<div>\n",
       "<style scoped>\n",
       "    .dataframe tbody tr th:only-of-type {\n",
       "        vertical-align: middle;\n",
       "    }\n",
       "\n",
       "    .dataframe tbody tr th {\n",
       "        vertical-align: top;\n",
       "    }\n",
       "\n",
       "    .dataframe thead th {\n",
       "        text-align: right;\n",
       "    }\n",
       "</style>\n",
       "<table border=\"1\" class=\"dataframe\">\n",
       "  <thead>\n",
       "    <tr style=\"text-align: right;\">\n",
       "      <th></th>\n",
       "      <th>conditional_prob</th>\n",
       "    </tr>\n",
       "  </thead>\n",
       "  <tbody>\n",
       "    <tr>\n",
       "      <th>unitsres=0; mediangrossrent=3; landuse_cat=3</th>\n",
       "      <td>0.134518</td>\n",
       "    </tr>\n",
       "    <tr>\n",
       "      <th>unitsres=2; mediangrossrent=0; landuse_cat=3</th>\n",
       "      <td>0.090411</td>\n",
       "    </tr>\n",
       "    <tr>\n",
       "      <th>unitsres=0; mediangrossrent=1; landuse_cat=3</th>\n",
       "      <td>0.086207</td>\n",
       "    </tr>\n",
       "    <tr>\n",
       "      <th>unitsres=2; mediangrossrent=1; landuse_cat=3</th>\n",
       "      <td>0.075187</td>\n",
       "    </tr>\n",
       "    <tr>\n",
       "      <th>unitsres=2; mediangrossrent=2; landuse_cat=3</th>\n",
       "      <td>0.057611</td>\n",
       "    </tr>\n",
       "    <tr>\n",
       "      <th>unitsres=0; mediangrossrent=2; landuse_cat=3</th>\n",
       "      <td>0.047170</td>\n",
       "    </tr>\n",
       "    <tr>\n",
       "      <th>unitsres=2; mediangrossrent=0; landuse_cat=4</th>\n",
       "      <td>0.042940</td>\n",
       "    </tr>\n",
       "    <tr>\n",
       "      <th>unitsres=0; mediangrossrent=0; landuse_cat=3</th>\n",
       "      <td>0.032468</td>\n",
       "    </tr>\n",
       "    <tr>\n",
       "      <th>unitsres=2; mediangrossrent=1; landuse_cat=4</th>\n",
       "      <td>0.028432</td>\n",
       "    </tr>\n",
       "    <tr>\n",
       "      <th>unitsres=2; mediangrossrent=3; landuse_cat=1</th>\n",
       "      <td>0.020000</td>\n",
       "    </tr>\n",
       "    <tr>\n",
       "      <th>unitsres=2; mediangrossrent=2; landuse_cat=4</th>\n",
       "      <td>0.018087</td>\n",
       "    </tr>\n",
       "    <tr>\n",
       "      <th>unitsres=2; mediangrossrent=0; landuse_cat=2</th>\n",
       "      <td>0.017053</td>\n",
       "    </tr>\n",
       "    <tr>\n",
       "      <th>unitsres=2; mediangrossrent=0; landuse_cat=1</th>\n",
       "      <td>0.016779</td>\n",
       "    </tr>\n",
       "    <tr>\n",
       "      <th>unitsres=2; mediangrossrent=3; landuse_cat=4</th>\n",
       "      <td>0.014561</td>\n",
       "    </tr>\n",
       "    <tr>\n",
       "      <th>unitsres=2; mediangrossrent=3; landuse_cat=3</th>\n",
       "      <td>0.014176</td>\n",
       "    </tr>\n",
       "    <tr>\n",
       "      <th>unitsres=2; mediangrossrent=1; landuse_cat=1</th>\n",
       "      <td>0.011312</td>\n",
       "    </tr>\n",
       "    <tr>\n",
       "      <th>unitsres=2; mediangrossrent=1; landuse_cat=2</th>\n",
       "      <td>0.007191</td>\n",
       "    </tr>\n",
       "    <tr>\n",
       "      <th>unitsres=2; mediangrossrent=2; landuse_cat=2</th>\n",
       "      <td>0.006089</td>\n",
       "    </tr>\n",
       "    <tr>\n",
       "      <th>unitsres=2; mediangrossrent=3; landuse_cat=2</th>\n",
       "      <td>0.004260</td>\n",
       "    </tr>\n",
       "    <tr>\n",
       "      <th>unitsres=1; mediangrossrent=2; landuse_cat=2</th>\n",
       "      <td>0.002657</td>\n",
       "    </tr>\n",
       "    <tr>\n",
       "      <th>unitsres=1; mediangrossrent=1; landuse_cat=2</th>\n",
       "      <td>0.002356</td>\n",
       "    </tr>\n",
       "    <tr>\n",
       "      <th>unitsres=1; mediangrossrent=0; landuse_cat=2</th>\n",
       "      <td>0.002034</td>\n",
       "    </tr>\n",
       "    <tr>\n",
       "      <th>unitsres=1; mediangrossrent=0; landuse_cat=4</th>\n",
       "      <td>0.001375</td>\n",
       "    </tr>\n",
       "    <tr>\n",
       "      <th>unitsres=1; mediangrossrent=2; landuse_cat=4</th>\n",
       "      <td>0.001300</td>\n",
       "    </tr>\n",
       "    <tr>\n",
       "      <th>unitsres=1; mediangrossrent=3; landuse_cat=4</th>\n",
       "      <td>0.001050</td>\n",
       "    </tr>\n",
       "    <tr>\n",
       "      <th>unitsres=1; mediangrossrent=3; landuse_cat=2</th>\n",
       "      <td>0.000904</td>\n",
       "    </tr>\n",
       "    <tr>\n",
       "      <th>unitsres=1; mediangrossrent=1; landuse_cat=4</th>\n",
       "      <td>0.000899</td>\n",
       "    </tr>\n",
       "    <tr>\n",
       "      <th>unitsres=0; mediangrossrent=1; landuse_cat=4</th>\n",
       "      <td>0.000555</td>\n",
       "    </tr>\n",
       "    <tr>\n",
       "      <th>unitsres=1; mediangrossrent=0; landuse_cat=1</th>\n",
       "      <td>0.000254</td>\n",
       "    </tr>\n",
       "    <tr>\n",
       "      <th>unitsres=1; mediangrossrent=2; landuse_cat=1</th>\n",
       "      <td>0.000064</td>\n",
       "    </tr>\n",
       "    <tr>\n",
       "      <th>unitsres=0; mediangrossrent=2; landuse_cat=4</th>\n",
       "      <td>0.000060</td>\n",
       "    </tr>\n",
       "    <tr>\n",
       "      <th>unitsres=0; mediangrossrent=3; landuse_cat=4</th>\n",
       "      <td>0.000059</td>\n",
       "    </tr>\n",
       "    <tr>\n",
       "      <th>unitsres=0; mediangrossrent=0; landuse_cat=4</th>\n",
       "      <td>0.000052</td>\n",
       "    </tr>\n",
       "    <tr>\n",
       "      <th>unitsres=1; mediangrossrent=1; landuse_cat=1</th>\n",
       "      <td>0.000043</td>\n",
       "    </tr>\n",
       "    <tr>\n",
       "      <th>unitsres=0; mediangrossrent=2; landuse_cat=1</th>\n",
       "      <td>0.000036</td>\n",
       "    </tr>\n",
       "    <tr>\n",
       "      <th>unitsres=1; mediangrossrent=3; landuse_cat=1</th>\n",
       "      <td>0.000032</td>\n",
       "    </tr>\n",
       "    <tr>\n",
       "      <th>unitsres=0; mediangrossrent=0; landuse_cat=1</th>\n",
       "      <td>0.000002</td>\n",
       "    </tr>\n",
       "    <tr>\n",
       "      <th>unitsres=0; mediangrossrent=1; landuse_cat=1</th>\n",
       "      <td>0.000002</td>\n",
       "    </tr>\n",
       "    <tr>\n",
       "      <th>unitsres=0; mediangrossrent=3; landuse_cat=1</th>\n",
       "      <td>0.000002</td>\n",
       "    </tr>\n",
       "  </tbody>\n",
       "</table>\n",
       "</div>"
      ],
      "text/plain": [
       "                                              conditional_prob\n",
       "unitsres=0; mediangrossrent=3; landuse_cat=3          0.134518\n",
       "unitsres=2; mediangrossrent=0; landuse_cat=3          0.090411\n",
       "unitsres=0; mediangrossrent=1; landuse_cat=3          0.086207\n",
       "unitsres=2; mediangrossrent=1; landuse_cat=3          0.075187\n",
       "unitsres=2; mediangrossrent=2; landuse_cat=3          0.057611\n",
       "unitsres=0; mediangrossrent=2; landuse_cat=3          0.047170\n",
       "unitsres=2; mediangrossrent=0; landuse_cat=4          0.042940\n",
       "unitsres=0; mediangrossrent=0; landuse_cat=3          0.032468\n",
       "unitsres=2; mediangrossrent=1; landuse_cat=4          0.028432\n",
       "unitsres=2; mediangrossrent=3; landuse_cat=1          0.020000\n",
       "unitsres=2; mediangrossrent=2; landuse_cat=4          0.018087\n",
       "unitsres=2; mediangrossrent=0; landuse_cat=2          0.017053\n",
       "unitsres=2; mediangrossrent=0; landuse_cat=1          0.016779\n",
       "unitsres=2; mediangrossrent=3; landuse_cat=4          0.014561\n",
       "unitsres=2; mediangrossrent=3; landuse_cat=3          0.014176\n",
       "unitsres=2; mediangrossrent=1; landuse_cat=1          0.011312\n",
       "unitsres=2; mediangrossrent=1; landuse_cat=2          0.007191\n",
       "unitsres=2; mediangrossrent=2; landuse_cat=2          0.006089\n",
       "unitsres=2; mediangrossrent=3; landuse_cat=2          0.004260\n",
       "unitsres=1; mediangrossrent=2; landuse_cat=2          0.002657\n",
       "unitsres=1; mediangrossrent=1; landuse_cat=2          0.002356\n",
       "unitsres=1; mediangrossrent=0; landuse_cat=2          0.002034\n",
       "unitsres=1; mediangrossrent=0; landuse_cat=4          0.001375\n",
       "unitsres=1; mediangrossrent=2; landuse_cat=4          0.001300\n",
       "unitsres=1; mediangrossrent=3; landuse_cat=4          0.001050\n",
       "unitsres=1; mediangrossrent=3; landuse_cat=2          0.000904\n",
       "unitsres=1; mediangrossrent=1; landuse_cat=4          0.000899\n",
       "unitsres=0; mediangrossrent=1; landuse_cat=4          0.000555\n",
       "unitsres=1; mediangrossrent=0; landuse_cat=1          0.000254\n",
       "unitsres=1; mediangrossrent=2; landuse_cat=1          0.000064\n",
       "unitsres=0; mediangrossrent=2; landuse_cat=4          0.000060\n",
       "unitsres=0; mediangrossrent=3; landuse_cat=4          0.000059\n",
       "unitsres=0; mediangrossrent=0; landuse_cat=4          0.000052\n",
       "unitsres=1; mediangrossrent=1; landuse_cat=1          0.000043\n",
       "unitsres=0; mediangrossrent=2; landuse_cat=1          0.000036\n",
       "unitsres=1; mediangrossrent=3; landuse_cat=1          0.000032\n",
       "unitsres=0; mediangrossrent=0; landuse_cat=1          0.000002\n",
       "unitsres=0; mediangrossrent=1; landuse_cat=1          0.000002\n",
       "unitsres=0; mediangrossrent=3; landuse_cat=1          0.000002"
      ]
     },
     "execution_count": 33,
     "metadata": {},
     "output_type": "execute_result"
    }
   ],
   "source": [
    "pd.DataFrame.from_dict(d, orient = \"index\", columns = [\"conditional_prob\"]).sort_values(\"conditional_prob\", ascending = False)"
   ]
  },
  {
   "cell_type": "code",
   "execution_count": 41,
   "id": "060d645b",
   "metadata": {
    "scrolled": true
   },
   "outputs": [
    {
     "data": {
      "image/png": "[encoded data removed]",
      "text/plain": [
       "<Figure size 432x288 with 1 Axes>"
      ]
     },
     "metadata": {},
     "output_type": "display_data"
    },
    {
     "data": {
      "text/plain": [
       "<Figure size 864x720 with 0 Axes>"
      ]
     },
     "metadata": {},
     "output_type": "display_data"
    }
   ],
   "source": [
    "import networkx as nx\n",
    "import pylab as plt\n",
    "fig = plt.gcf()\n",
    "\n",
    "values = ['red' if n in ['vacate_ind'] else 'lightblue' for n in model.nodes()]\n",
    "# use networkx to draw DAG\n",
    "nx.draw(model, node_color=values, with_labels=True, font_color='black', node_size=200,font_size=10)\n",
    "\n",
    "plt.figure(figsize = (12,10))\n",
    "fig.savefig('dag_bbl.png', dpi = 300)"
   ]
  },
  {
   "cell_type": "code",
   "execution_count": 37,
   "id": "5625425e",
   "metadata": {},
   "outputs": [
    {
     "data": {
      "application/vnd.jupyter.widget-view+json": {
       "model_id": "cb82c4e0fc0a4ebfb87547731013616d",
       "version_major": 2,
       "version_minor": 0
      },
      "text/plain": [
       "  0%|          | 0/4157 [00:00<?, ?it/s]"
      ]
     },
     "metadata": {},
     "output_type": "display_data"
    },
    {
     "name": "stdout",
     "output_type": "stream",
     "text": [
      "        vacate_ind\n",
      "596255         0.0\n",
      "695748         0.0\n",
      "701775         0.0\n",
      "222295         0.0\n",
      "79883          0.0\n",
      "...            ...\n",
      "708711         0.0\n",
      "577957         0.0\n",
      "667376         0.0\n",
      "400735         0.0\n",
      "685689         0.0\n",
      "\n",
      "[229508 rows x 1 columns]\n"
     ]
    }
   ],
   "source": [
    "pred = model.predict(test.loc[:, ['pctnhblack', 'bldgarea','mediangrossrent', 'crowding',\n",
    "                                  'unitsres', 'unitstotal', 'assesstot', 'landuse_cat']],\n",
    "                    stochastic = True)\n",
    "print(pred)"
   ]
  },
  {
   "cell_type": "code",
   "execution_count": 38,
   "id": "b946dbe9",
   "metadata": {},
   "outputs": [
    {
     "name": "stdout",
     "output_type": "stream",
     "text": [
      "\n",
      "OS accuracy for vacate orders\n",
      "0.9931723512905868\n",
      "\n",
      "OS precision and recall for vacate orders\n",
      "Precision: 0.034482758620689655\n",
      "Recall: 0.036989795918367346\n"
     ]
    }
   ],
   "source": [
    "# calc out of sample accuracy\n",
    "print(\"\\nOS accuracy for vacate orders\")\n",
    "print((pred['vacate_ind'].reset_index(drop = True) == test['vacate_ind'].reset_index(drop = True)).mean())\n",
    "\n",
    "print(\"\\nOS precision and recall for vacate orders\")\n",
    "pre_rec= precision_recall_fscore_support(np.asarray(test['vacate_ind']), \n",
    "                                      np.asarray(pred['vacate_ind']))\n",
    "\n",
    "print(\"Precision:\", pre_rec[0][1])\n",
    "print(\"Recall:\", pre_rec[1][1])"
   ]
  },
  {
   "cell_type": "code",
   "execution_count": 139,
   "id": "7d79af54",
   "metadata": {},
   "outputs": [],
   "source": [
    "## calculate roc auc"
   ]
  },
  {
   "cell_type": "markdown",
   "id": "93266500",
   "metadata": {},
   "source": [
    "# Anomaly Detection"
   ]
  },
  {
   "cell_type": "markdown",
   "id": "df5f4765",
   "metadata": {},
   "source": [
    "## Isolation forests"
   ]
  },
  {
   "cell_type": "code",
   "execution_count": 140,
   "id": "b29c8f5a",
   "metadata": {},
   "outputs": [],
   "source": [
    "from sklearn.ensemble import IsolationForest\n",
    "\n",
    "# generate outliers\n",
    "X_outliers= X.loc[X.loc[y==1].index, :]\n",
    "X_reg= X.loc[X.loc[y==0].index, :]\n",
    "# generate test and train data\n",
    "X_train, X_test= train_test_split(X_reg, test_size=0.3, random_state=999)\n",
    "\n",
    "# fit the model\n",
    "if_clf = IsolationForest(max_samples=100, random_state=99)\n",
    "if_clf.fit(X_train)\n",
    "y_pred_train = if_clf.predict(X_train)\n",
    "y_pred_test = if_clf.predict(X_test)\n",
    "y_pred_outliers = if_clf.predict(X_outliers)"
   ]
  },
  {
   "cell_type": "code",
   "execution_count": 141,
   "id": "f5fdb9eb",
   "metadata": {},
   "outputs": [
    {
     "name": "stdout",
     "output_type": "stream",
     "text": [
      "Percent training classified as inliers: 0.9160100806640497\n",
      "Percent test data classified as inliers: 0.9156286752329196\n",
      "Percent outliers classified as inliers: 0.23809523809523808\n"
     ]
    }
   ],
   "source": [
    "print(\"Percent training classified as inliers:\", np.mean(y_pred_train==1))\n",
    "print(\"Percent test data classified as inliers:\", np.mean(y_pred_test==1))\n",
    "print(\"Percent outliers classified as inliers:\", np.mean(y_pred_outliers==1))"
   ]
  },
  {
   "cell_type": "code",
   "execution_count": 142,
   "id": "32ad69b9",
   "metadata": {},
   "outputs": [
    {
     "name": "stdout",
     "output_type": "stream",
     "text": [
      "OS accuracy: 0.9138982669854019\n",
      "\n",
      "OS precision and recall for isolation tree\n",
      "Precision: 0.7619047619047619\n",
      "Recall: 0.0932243210224603\n"
     ]
    }
   ],
   "source": [
    "# OS accuracy\n",
    "print(\"OS accuracy:\", np.mean(np.append(y_pred_test, y_pred_outliers)== np.append(np.repeat(1, len(y_pred_test)), np.repeat(-1, len(y_pred_outliers)))))\n",
    "# low precision and recall (esp. compared to random forest)\n",
    "print(\"\\nOS precision and recall for isolation tree\")\n",
    "pre_rec= precision_recall_fscore_support(np.append(y_pred_test, y_pred_outliers)==-1,\n",
    "                                      np.append(np.repeat(1, len(y_pred_test)), np.repeat(-1, len(y_pred_outliers)))==-1)\n",
    "\n",
    "print(\"Precision:\", pre_rec[0][1])\n",
    "print(\"Recall:\", pre_rec[1][1])"
   ]
  },
  {
   "cell_type": "code",
   "execution_count": null,
   "id": "f0e6e6b2",
   "metadata": {},
   "outputs": [],
   "source": []
  }
 ],
 "metadata": {
  "kernelspec": {
   "display_name": "geo_env",
   "language": "python",
   "name": "geo_env"
  },
  "language_info": {
   "codemirror_mode": {
    "name": "ipython",
    "version": 3
   },
   "file_extension": ".py",
   "mimetype": "text/x-python",
   "name": "python",
   "nbconvert_exporter": "python",
   "pygments_lexer": "ipython3",
   "version": "3.9.7"
  }
 },
 "nbformat": 4,
 "nbformat_minor": 5
}
