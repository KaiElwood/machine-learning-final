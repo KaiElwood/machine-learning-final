{
 "cells": [
  {
   "cell_type": "code",
   "execution_count": 1,
   "metadata": {},
   "outputs": [],
   "source": [
    "# setup\n",
    "import pandas as pd\n",
    "import numpy as np\n",
    "import matplotlib.pyplot as pl\n",
    "import http.client, urllib.request, urllib.parse, urllib.error, base64\n",
    "# import config\n",
    "import quickstart"
   ]
  },
  {
   "cell_type": "code",
   "execution_count": 2,
   "metadata": {},
   "outputs": [
    {
     "name": "stdout",
     "output_type": "stream",
     "text": [
      "Your browser has been opened to visit:\n",
      "\n",
      "    https://accounts.google.com/o/oauth2/auth?client_id=570719947456-53haph7mjc317oel1ujh0kmjbfd499jf.apps.googleusercontent.com&redirect_uri=http%3A%2F%2Flocalhost%3A8080%2F&scope=https%3A%2F%2Fwww.googleapis.com%2Fauth%2Fdrive&access_type=offline&response_type=code\n",
      "\n",
      "Authentication successful.\n"
     ]
    }
   ],
   "source": [
    "from pydrive.auth import GoogleAuth\n",
    "\n",
    "gauth = GoogleAuth()\n",
    "gauth.LocalWebserverAuth() # Creates local webserver and auto handles authentication."
   ]
  },
  {
   "cell_type": "code",
   "execution_count": 3,
   "metadata": {},
   "outputs": [
    {
     "name": "stdout",
     "output_type": "stream",
     "text": [
      "Title: analysis_bbl.csv, ID: 1yYX-ROr1c7fzcQiG6NZ1sh7Ko5gqr_4G\n",
      "Title: borobox_convex_hull.geojson, ID: 1SzBNj3Ba-v9MEwuCkZT9e9iAwVYUqx8r\n",
      "Title: analysis_bbl_noacs.csv, ID: 1h-tDpBSslfzqzsJe1ny_ujDnr68RKry3\n",
      "Title: analysis_box.csv, ID: 1Vzjvta98IG9Hg4SfAGcd8JD8FaF3IXwy\n"
     ]
    }
   ],
   "source": [
    "from pydrive.drive import GoogleDrive\n",
    "drive = GoogleDrive(gauth)\n",
    "fileList = drive.ListFile({'q': \"'1jxSI_nq32-W9kPHKvQkzuNGJ5aIBD2j2' in parents and trashed=false\"}).GetList()\n",
    "for file in fileList:\n",
    "  print('Title: %s, ID: %s' % (file['title'], file['id']))\n",
    "  # Get the folder ID that you want\n",
    "  if(file['title'] == \"To Share\"):\n",
    "      fileID = file['id']"
   ]
  },
  {
   "cell_type": "code",
   "execution_count": 4,
   "metadata": {},
   "outputs": [],
   "source": [
    "csv = drive.CreateFile({'id': '1yYX-ROr1c7fzcQiG6NZ1sh7Ko5gqr_4G'})\n",
    "csv.GetContentFile('analysis_bbl.csv')  \n",
    "\n",
    "df = pd.read_csv('analysis_bbl.csv')"
   ]
  },
  {
   "cell_type": "code",
   "execution_count": 5,
   "metadata": {},
   "outputs": [
    {
     "data": {
      "text/plain": [
       "765026"
      ]
     },
     "execution_count": 5,
     "metadata": {},
     "output_type": "execute_result"
    }
   ],
   "source": [
    "csv = df[[\"vacate_ind\",\"hpd_b_c_vio\", \"bldgarea\", \"unitstotal\", \"pop65plus\", \"unitsres\", \"pctnhblack\", \"hpd_fire_vio\"]]\n",
    "csv.shape[0]\n",
    "csv = csv.dropna()\n",
    "csv.shape[0]"
   ]
  },
  {
   "cell_type": "code",
   "execution_count": 37,
   "metadata": {},
   "outputs": [],
   "source": [
    "X = csv[[\"hpd_b_c_vio\", \"bldgarea\", \"unitstotal\", \"pop65plus\", \"unitsres\", \"pctnhblack\", \"hpd_fire_vio\"]].head(50)\n",
    "Y = csv[[\"vacate_ind\"]].head(50)\n",
    "# Y = np.random.rand(50,1)"
   ]
  },
  {
   "cell_type": "code",
   "execution_count": 44,
   "metadata": {},
   "outputs": [
    {
     "name": "stdout",
     "output_type": "stream",
     "text": [
      "          0         1         2    3         4    5         6\n",
      "0 -0.386566 -0.432960 -0.404939  0.0 -0.404559  0.0 -0.142857\n",
      "1 -0.109458 -0.419326 -0.352957  0.0 -0.351327  0.0 -0.142857\n",
      "2 -0.386566  0.805700  0.413775  0.0  0.433836  0.0 -0.142857\n",
      "3 -0.386566 -0.282338 -0.158025  0.0 -0.151710  0.0 -0.142857\n",
      "4 -0.386566 -0.273180 -0.326966  0.0 -0.324712  0.0 -0.142857\n"
     ]
    }
   ],
   "source": [
    "# type(csv[\"vacate_ind\"])\n",
    "# i = 0\n",
    "# for col in csv.loc[:, :\"vacate_ind\":].columns:\n",
    "#     i+=1\n",
    "#     print(col, i)\n",
    "# Xdata = csv.drop([\"vacate_ind\"], axis=1)\n",
    "from sklearn import preprocessing\n",
    "X_scaled = preprocessing.scale(X)\n",
    "X=X_scaled\n",
    "print(pd.DataFrame(X).head())"
   ]
  },
  {
   "cell_type": "code",
   "execution_count": 45,
   "metadata": {},
   "outputs": [],
   "source": [
    "from sklearn.model_selection import train_test_split\n",
    "X_train, X_test, Y_train, Y_test = train_test_split(X, Y, test_size=0.33, random_state=90)"
   ]
  },
  {
   "cell_type": "code",
   "execution_count": 49,
   "metadata": {},
   "outputs": [
    {
     "data": {
      "text/plain": [
       "1.0"
      ]
     },
     "execution_count": 49,
     "metadata": {},
     "output_type": "execute_result"
    }
   ],
   "source": [
    "type(Y_train)\n",
    "# Y_train[\"vacate_ind\"][0] = 1\n",
    "Y_train[\"vacate_ind\"][0]\n",
    "# type(Y[\"vacate_ind\"])\n",
    "# pd.Series(Y)\n"
   ]
  },
  {
   "cell_type": "code",
   "execution_count": 55,
   "metadata": {},
   "outputs": [
    {
     "name": "stdout",
     "output_type": "stream",
     "text": [
      "33 33\n"
     ]
    }
   ],
   "source": [
    "print(len(X_train), len(Y_train))"
   ]
  },
  {
   "cell_type": "code",
   "execution_count": 62,
   "metadata": {},
   "outputs": [
    {
     "name": "stdout",
     "output_type": "stream",
     "text": [
      "Out of sample, linear model successfully predicts 15.0 percent of the data\n"
     ]
    }
   ],
   "source": [
    "from sklearn import svm\n",
    "clf = svm.SVC(kernel='linear',C=1)\n",
    "clf.fit(X_train, Y_train[\"vacate_ind\"])\n",
    "correct=1.0*(clf.predict(X_test)==np.asarray(Y_test)).sum()/len(Y_test)\n",
    "print(\"Out of sample, linear model successfully predicts {} percent of the data\".format((correct)))"
   ]
  },
  {
   "cell_type": "code",
   "execution_count": 65,
   "metadata": {},
   "outputs": [
    {
     "ename": "ValueError",
     "evalue": "Unable to coerce to DataFrame, shape must be (33, 1): given (33, 7)",
     "output_type": "error",
     "traceback": [
      "\u001b[0;31m---------------------------------------------------------------------------\u001b[0m",
      "\u001b[0;31mValueError\u001b[0m                                Traceback (most recent call last)",
      "\u001b[1;32m/Users/kai/Desktop/NYU Shanghai/NYU Shanghai Year 2/Semester 2/Web Design/GitHub/machine-learning-final/code/svm-analysis.ipynb Cell 12'\u001b[0m in \u001b[0;36m<cell line: 1>\u001b[0;34m()\u001b[0m\n\u001b[0;32m----> <a href='vscode-notebook-cell:/Users/kai/Desktop/NYU%20Shanghai/NYU%20Shanghai%20Year%202/Semester%202/Web%20Design/GitHub/machine-learning-final/code/svm-analysis.ipynb#ch0000009?line=0'>1</a>\u001b[0m np\u001b[39m.\u001b[39;49mequal(X_train, Y_train)\n",
      "File \u001b[0;32m/opt/homebrew/anaconda3/envs/geo_env/lib/python3.10/site-packages/pandas/core/generic.py:2113\u001b[0m, in \u001b[0;36mNDFrame.__array_ufunc__\u001b[0;34m(self, ufunc, method, *inputs, **kwargs)\u001b[0m\n\u001b[1;32m   <a href='file:///opt/homebrew/anaconda3/envs/geo_env/lib/python3.10/site-packages/pandas/core/generic.py?line=2108'>2109</a>\u001b[0m \u001b[39m@final\u001b[39m\n\u001b[1;32m   <a href='file:///opt/homebrew/anaconda3/envs/geo_env/lib/python3.10/site-packages/pandas/core/generic.py?line=2109'>2110</a>\u001b[0m \u001b[39mdef\u001b[39;00m \u001b[39m__array_ufunc__\u001b[39m(\n\u001b[1;32m   <a href='file:///opt/homebrew/anaconda3/envs/geo_env/lib/python3.10/site-packages/pandas/core/generic.py?line=2110'>2111</a>\u001b[0m     \u001b[39mself\u001b[39m, ufunc: np\u001b[39m.\u001b[39mufunc, method: \u001b[39mstr\u001b[39m, \u001b[39m*\u001b[39minputs: Any, \u001b[39m*\u001b[39m\u001b[39m*\u001b[39mkwargs: Any\n\u001b[1;32m   <a href='file:///opt/homebrew/anaconda3/envs/geo_env/lib/python3.10/site-packages/pandas/core/generic.py?line=2111'>2112</a>\u001b[0m ):\n\u001b[0;32m-> <a href='file:///opt/homebrew/anaconda3/envs/geo_env/lib/python3.10/site-packages/pandas/core/generic.py?line=2112'>2113</a>\u001b[0m     \u001b[39mreturn\u001b[39;00m arraylike\u001b[39m.\u001b[39;49marray_ufunc(\u001b[39mself\u001b[39;49m, ufunc, method, \u001b[39m*\u001b[39;49minputs, \u001b[39m*\u001b[39;49m\u001b[39m*\u001b[39;49mkwargs)\n",
      "File \u001b[0;32m/opt/homebrew/anaconda3/envs/geo_env/lib/python3.10/site-packages/pandas/core/arraylike.py:263\u001b[0m, in \u001b[0;36marray_ufunc\u001b[0;34m(self, ufunc, method, *inputs, **kwargs)\u001b[0m\n\u001b[1;32m    <a href='file:///opt/homebrew/anaconda3/envs/geo_env/lib/python3.10/site-packages/pandas/core/arraylike.py?line=259'>260</a>\u001b[0m     \u001b[39mreturn\u001b[39;00m result\n\u001b[1;32m    <a href='file:///opt/homebrew/anaconda3/envs/geo_env/lib/python3.10/site-packages/pandas/core/arraylike.py?line=261'>262</a>\u001b[0m \u001b[39m# for binary ops, use our custom dunder methods\u001b[39;00m\n\u001b[0;32m--> <a href='file:///opt/homebrew/anaconda3/envs/geo_env/lib/python3.10/site-packages/pandas/core/arraylike.py?line=262'>263</a>\u001b[0m result \u001b[39m=\u001b[39m maybe_dispatch_ufunc_to_dunder_op(\u001b[39mself\u001b[39;49m, ufunc, method, \u001b[39m*\u001b[39;49minputs, \u001b[39m*\u001b[39;49m\u001b[39m*\u001b[39;49mkwargs)\n\u001b[1;32m    <a href='file:///opt/homebrew/anaconda3/envs/geo_env/lib/python3.10/site-packages/pandas/core/arraylike.py?line=263'>264</a>\u001b[0m \u001b[39mif\u001b[39;00m result \u001b[39mis\u001b[39;00m \u001b[39mnot\u001b[39;00m \u001b[39mNotImplemented\u001b[39m:\n\u001b[1;32m    <a href='file:///opt/homebrew/anaconda3/envs/geo_env/lib/python3.10/site-packages/pandas/core/arraylike.py?line=264'>265</a>\u001b[0m     \u001b[39mreturn\u001b[39;00m result\n",
      "File \u001b[0;32m/opt/homebrew/anaconda3/envs/geo_env/lib/python3.10/site-packages/pandas/_libs/ops_dispatch.pyx:113\u001b[0m, in \u001b[0;36mpandas._libs.ops_dispatch.maybe_dispatch_ufunc_to_dunder_op\u001b[0;34m()\u001b[0m\n",
      "File \u001b[0;32m/opt/homebrew/anaconda3/envs/geo_env/lib/python3.10/site-packages/pandas/core/ops/common.py:70\u001b[0m, in \u001b[0;36m_unpack_zerodim_and_defer.<locals>.new_method\u001b[0;34m(self, other)\u001b[0m\n\u001b[1;32m     <a href='file:///opt/homebrew/anaconda3/envs/geo_env/lib/python3.10/site-packages/pandas/core/ops/common.py?line=65'>66</a>\u001b[0m             \u001b[39mreturn\u001b[39;00m \u001b[39mNotImplemented\u001b[39m\n\u001b[1;32m     <a href='file:///opt/homebrew/anaconda3/envs/geo_env/lib/python3.10/site-packages/pandas/core/ops/common.py?line=67'>68</a>\u001b[0m other \u001b[39m=\u001b[39m item_from_zerodim(other)\n\u001b[0;32m---> <a href='file:///opt/homebrew/anaconda3/envs/geo_env/lib/python3.10/site-packages/pandas/core/ops/common.py?line=69'>70</a>\u001b[0m \u001b[39mreturn\u001b[39;00m method(\u001b[39mself\u001b[39;49m, other)\n",
      "File \u001b[0;32m/opt/homebrew/anaconda3/envs/geo_env/lib/python3.10/site-packages/pandas/core/arraylike.py:40\u001b[0m, in \u001b[0;36mOpsMixin.__eq__\u001b[0;34m(self, other)\u001b[0m\n\u001b[1;32m     <a href='file:///opt/homebrew/anaconda3/envs/geo_env/lib/python3.10/site-packages/pandas/core/arraylike.py?line=37'>38</a>\u001b[0m \u001b[39m@unpack_zerodim_and_defer\u001b[39m(\u001b[39m\"\u001b[39m\u001b[39m__eq__\u001b[39m\u001b[39m\"\u001b[39m)\n\u001b[1;32m     <a href='file:///opt/homebrew/anaconda3/envs/geo_env/lib/python3.10/site-packages/pandas/core/arraylike.py?line=38'>39</a>\u001b[0m \u001b[39mdef\u001b[39;00m \u001b[39m__eq__\u001b[39m(\u001b[39mself\u001b[39m, other):\n\u001b[0;32m---> <a href='file:///opt/homebrew/anaconda3/envs/geo_env/lib/python3.10/site-packages/pandas/core/arraylike.py?line=39'>40</a>\u001b[0m     \u001b[39mreturn\u001b[39;00m \u001b[39mself\u001b[39;49m\u001b[39m.\u001b[39;49m_cmp_method(other, operator\u001b[39m.\u001b[39;49meq)\n",
      "File \u001b[0;32m/opt/homebrew/anaconda3/envs/geo_env/lib/python3.10/site-packages/pandas/core/frame.py:6925\u001b[0m, in \u001b[0;36mDataFrame._cmp_method\u001b[0;34m(self, other, op)\u001b[0m\n\u001b[1;32m   <a href='file:///opt/homebrew/anaconda3/envs/geo_env/lib/python3.10/site-packages/pandas/core/frame.py?line=6921'>6922</a>\u001b[0m \u001b[39mdef\u001b[39;00m \u001b[39m_cmp_method\u001b[39m(\u001b[39mself\u001b[39m, other, op):\n\u001b[1;32m   <a href='file:///opt/homebrew/anaconda3/envs/geo_env/lib/python3.10/site-packages/pandas/core/frame.py?line=6922'>6923</a>\u001b[0m     axis \u001b[39m=\u001b[39m \u001b[39m1\u001b[39m  \u001b[39m# only relevant for Series other case\u001b[39;00m\n\u001b[0;32m-> <a href='file:///opt/homebrew/anaconda3/envs/geo_env/lib/python3.10/site-packages/pandas/core/frame.py?line=6924'>6925</a>\u001b[0m     \u001b[39mself\u001b[39m, other \u001b[39m=\u001b[39m ops\u001b[39m.\u001b[39;49malign_method_FRAME(\u001b[39mself\u001b[39;49m, other, axis, flex\u001b[39m=\u001b[39;49m\u001b[39mFalse\u001b[39;49;00m, level\u001b[39m=\u001b[39;49m\u001b[39mNone\u001b[39;49;00m)\n\u001b[1;32m   <a href='file:///opt/homebrew/anaconda3/envs/geo_env/lib/python3.10/site-packages/pandas/core/frame.py?line=6926'>6927</a>\u001b[0m     \u001b[39m# See GH#4537 for discussion of scalar op behavior\u001b[39;00m\n\u001b[1;32m   <a href='file:///opt/homebrew/anaconda3/envs/geo_env/lib/python3.10/site-packages/pandas/core/frame.py?line=6927'>6928</a>\u001b[0m     new_data \u001b[39m=\u001b[39m \u001b[39mself\u001b[39m\u001b[39m.\u001b[39m_dispatch_frame_op(other, op, axis\u001b[39m=\u001b[39maxis)\n",
      "File \u001b[0;32m/opt/homebrew/anaconda3/envs/geo_env/lib/python3.10/site-packages/pandas/core/ops/__init__.py:264\u001b[0m, in \u001b[0;36malign_method_FRAME\u001b[0;34m(left, right, axis, flex, level)\u001b[0m\n\u001b[1;32m    <a href='file:///opt/homebrew/anaconda3/envs/geo_env/lib/python3.10/site-packages/pandas/core/ops/__init__.py?line=260'>261</a>\u001b[0m         right \u001b[39m=\u001b[39m to_series(right[\u001b[39m0\u001b[39m, :])\n\u001b[1;32m    <a href='file:///opt/homebrew/anaconda3/envs/geo_env/lib/python3.10/site-packages/pandas/core/ops/__init__.py?line=262'>263</a>\u001b[0m     \u001b[39melse\u001b[39;00m:\n\u001b[0;32m--> <a href='file:///opt/homebrew/anaconda3/envs/geo_env/lib/python3.10/site-packages/pandas/core/ops/__init__.py?line=263'>264</a>\u001b[0m         \u001b[39mraise\u001b[39;00m \u001b[39mValueError\u001b[39;00m(\n\u001b[1;32m    <a href='file:///opt/homebrew/anaconda3/envs/geo_env/lib/python3.10/site-packages/pandas/core/ops/__init__.py?line=264'>265</a>\u001b[0m             \u001b[39m\"\u001b[39m\u001b[39mUnable to coerce to DataFrame, shape \u001b[39m\u001b[39m\"\u001b[39m\n\u001b[1;32m    <a href='file:///opt/homebrew/anaconda3/envs/geo_env/lib/python3.10/site-packages/pandas/core/ops/__init__.py?line=265'>266</a>\u001b[0m             \u001b[39mf\u001b[39m\u001b[39m\"\u001b[39m\u001b[39mmust be \u001b[39m\u001b[39m{\u001b[39;00mleft\u001b[39m.\u001b[39mshape\u001b[39m}\u001b[39;00m\u001b[39m: given \u001b[39m\u001b[39m{\u001b[39;00mright\u001b[39m.\u001b[39mshape\u001b[39m}\u001b[39;00m\u001b[39m\"\u001b[39m\n\u001b[1;32m    <a href='file:///opt/homebrew/anaconda3/envs/geo_env/lib/python3.10/site-packages/pandas/core/ops/__init__.py?line=266'>267</a>\u001b[0m         )\n\u001b[1;32m    <a href='file:///opt/homebrew/anaconda3/envs/geo_env/lib/python3.10/site-packages/pandas/core/ops/__init__.py?line=268'>269</a>\u001b[0m \u001b[39melif\u001b[39;00m right\u001b[39m.\u001b[39mndim \u001b[39m>\u001b[39m \u001b[39m2\u001b[39m:\n\u001b[1;32m    <a href='file:///opt/homebrew/anaconda3/envs/geo_env/lib/python3.10/site-packages/pandas/core/ops/__init__.py?line=269'>270</a>\u001b[0m     \u001b[39mraise\u001b[39;00m \u001b[39mValueError\u001b[39;00m(\n\u001b[1;32m    <a href='file:///opt/homebrew/anaconda3/envs/geo_env/lib/python3.10/site-packages/pandas/core/ops/__init__.py?line=270'>271</a>\u001b[0m         \u001b[39m\"\u001b[39m\u001b[39mUnable to coerce to Series/DataFrame, \u001b[39m\u001b[39m\"\u001b[39m\n\u001b[1;32m    <a href='file:///opt/homebrew/anaconda3/envs/geo_env/lib/python3.10/site-packages/pandas/core/ops/__init__.py?line=271'>272</a>\u001b[0m         \u001b[39mf\u001b[39m\u001b[39m\"\u001b[39m\u001b[39mdimension must be <= 2: \u001b[39m\u001b[39m{\u001b[39;00mright\u001b[39m.\u001b[39mshape\u001b[39m}\u001b[39;00m\u001b[39m\"\u001b[39m\n\u001b[1;32m    <a href='file:///opt/homebrew/anaconda3/envs/geo_env/lib/python3.10/site-packages/pandas/core/ops/__init__.py?line=272'>273</a>\u001b[0m     )\n",
      "\u001b[0;31mValueError\u001b[0m: Unable to coerce to DataFrame, shape must be (33, 1): given (33, 7)"
     ]
    }
   ],
   "source": [
    "np.equal(X_train, Y_train)"
   ]
  },
  {
   "cell_type": "code",
   "execution_count": 72,
   "metadata": {},
   "outputs": [
    {
     "data": {
      "text/plain": [
       "2"
      ]
     },
     "execution_count": 72,
     "metadata": {},
     "output_type": "execute_result"
    }
   ],
   "source": [
    "np.ndim(Y_test)"
   ]
  },
  {
   "cell_type": "code",
   "execution_count": 59,
   "metadata": {},
   "outputs": [
    {
     "name": "stderr",
     "output_type": "stream",
     "text": [
      "/var/folders/nx/v953nxd50l77lmpgtc17c1m00000gn/T/ipykernel_83217/1952279356.py:1: DeprecationWarning: elementwise comparison failed; this will raise an error in the future.\n",
      "  clf.predict(X_test)==(Y_test)\n"
     ]
    },
    {
     "ename": "ValueError",
     "evalue": "Unable to coerce to Series, length must be 1: given 17",
     "output_type": "error",
     "traceback": [
      "\u001b[0;31m---------------------------------------------------------------------------\u001b[0m",
      "\u001b[0;31mValueError\u001b[0m                                Traceback (most recent call last)",
      "\u001b[1;32m/Users/kai/Desktop/NYU Shanghai/NYU Shanghai Year 2/Semester 2/Web Design/GitHub/machine-learning-final/code/svm-analysis.ipynb Cell 13'\u001b[0m in \u001b[0;36m<cell line: 1>\u001b[0;34m()\u001b[0m\n\u001b[0;32m----> <a href='vscode-notebook-cell:/Users/kai/Desktop/NYU%20Shanghai/NYU%20Shanghai%20Year%202/Semester%202/Web%20Design/GitHub/machine-learning-final/code/svm-analysis.ipynb#ch0000022?line=0'>1</a>\u001b[0m clf\u001b[39m.\u001b[39;49mpredict(X_test)\u001b[39m==\u001b[39;49m(Y_test)\n",
      "File \u001b[0;32m/opt/homebrew/anaconda3/envs/geo_env/lib/python3.10/site-packages/pandas/core/ops/common.py:70\u001b[0m, in \u001b[0;36m_unpack_zerodim_and_defer.<locals>.new_method\u001b[0;34m(self, other)\u001b[0m\n\u001b[1;32m     <a href='file:///opt/homebrew/anaconda3/envs/geo_env/lib/python3.10/site-packages/pandas/core/ops/common.py?line=65'>66</a>\u001b[0m             \u001b[39mreturn\u001b[39;00m \u001b[39mNotImplemented\u001b[39m\n\u001b[1;32m     <a href='file:///opt/homebrew/anaconda3/envs/geo_env/lib/python3.10/site-packages/pandas/core/ops/common.py?line=67'>68</a>\u001b[0m other \u001b[39m=\u001b[39m item_from_zerodim(other)\n\u001b[0;32m---> <a href='file:///opt/homebrew/anaconda3/envs/geo_env/lib/python3.10/site-packages/pandas/core/ops/common.py?line=69'>70</a>\u001b[0m \u001b[39mreturn\u001b[39;00m method(\u001b[39mself\u001b[39;49m, other)\n",
      "File \u001b[0;32m/opt/homebrew/anaconda3/envs/geo_env/lib/python3.10/site-packages/pandas/core/arraylike.py:40\u001b[0m, in \u001b[0;36mOpsMixin.__eq__\u001b[0;34m(self, other)\u001b[0m\n\u001b[1;32m     <a href='file:///opt/homebrew/anaconda3/envs/geo_env/lib/python3.10/site-packages/pandas/core/arraylike.py?line=37'>38</a>\u001b[0m \u001b[39m@unpack_zerodim_and_defer\u001b[39m(\u001b[39m\"\u001b[39m\u001b[39m__eq__\u001b[39m\u001b[39m\"\u001b[39m)\n\u001b[1;32m     <a href='file:///opt/homebrew/anaconda3/envs/geo_env/lib/python3.10/site-packages/pandas/core/arraylike.py?line=38'>39</a>\u001b[0m \u001b[39mdef\u001b[39;00m \u001b[39m__eq__\u001b[39m(\u001b[39mself\u001b[39m, other):\n\u001b[0;32m---> <a href='file:///opt/homebrew/anaconda3/envs/geo_env/lib/python3.10/site-packages/pandas/core/arraylike.py?line=39'>40</a>\u001b[0m     \u001b[39mreturn\u001b[39;00m \u001b[39mself\u001b[39;49m\u001b[39m.\u001b[39;49m_cmp_method(other, operator\u001b[39m.\u001b[39;49meq)\n",
      "File \u001b[0;32m/opt/homebrew/anaconda3/envs/geo_env/lib/python3.10/site-packages/pandas/core/frame.py:6925\u001b[0m, in \u001b[0;36mDataFrame._cmp_method\u001b[0;34m(self, other, op)\u001b[0m\n\u001b[1;32m   <a href='file:///opt/homebrew/anaconda3/envs/geo_env/lib/python3.10/site-packages/pandas/core/frame.py?line=6921'>6922</a>\u001b[0m \u001b[39mdef\u001b[39;00m \u001b[39m_cmp_method\u001b[39m(\u001b[39mself\u001b[39m, other, op):\n\u001b[1;32m   <a href='file:///opt/homebrew/anaconda3/envs/geo_env/lib/python3.10/site-packages/pandas/core/frame.py?line=6922'>6923</a>\u001b[0m     axis \u001b[39m=\u001b[39m \u001b[39m1\u001b[39m  \u001b[39m# only relevant for Series other case\u001b[39;00m\n\u001b[0;32m-> <a href='file:///opt/homebrew/anaconda3/envs/geo_env/lib/python3.10/site-packages/pandas/core/frame.py?line=6924'>6925</a>\u001b[0m     \u001b[39mself\u001b[39m, other \u001b[39m=\u001b[39m ops\u001b[39m.\u001b[39;49malign_method_FRAME(\u001b[39mself\u001b[39;49m, other, axis, flex\u001b[39m=\u001b[39;49m\u001b[39mFalse\u001b[39;49;00m, level\u001b[39m=\u001b[39;49m\u001b[39mNone\u001b[39;49;00m)\n\u001b[1;32m   <a href='file:///opt/homebrew/anaconda3/envs/geo_env/lib/python3.10/site-packages/pandas/core/frame.py?line=6926'>6927</a>\u001b[0m     \u001b[39m# See GH#4537 for discussion of scalar op behavior\u001b[39;00m\n\u001b[1;32m   <a href='file:///opt/homebrew/anaconda3/envs/geo_env/lib/python3.10/site-packages/pandas/core/frame.py?line=6927'>6928</a>\u001b[0m     new_data \u001b[39m=\u001b[39m \u001b[39mself\u001b[39m\u001b[39m.\u001b[39m_dispatch_frame_op(other, op, axis\u001b[39m=\u001b[39maxis)\n",
      "File \u001b[0;32m/opt/homebrew/anaconda3/envs/geo_env/lib/python3.10/site-packages/pandas/core/ops/__init__.py:248\u001b[0m, in \u001b[0;36malign_method_FRAME\u001b[0;34m(left, right, axis, flex, level)\u001b[0m\n\u001b[1;32m    <a href='file:///opt/homebrew/anaconda3/envs/geo_env/lib/python3.10/site-packages/pandas/core/ops/__init__.py?line=244'>245</a>\u001b[0m \u001b[39mif\u001b[39;00m \u001b[39misinstance\u001b[39m(right, np\u001b[39m.\u001b[39mndarray):\n\u001b[1;32m    <a href='file:///opt/homebrew/anaconda3/envs/geo_env/lib/python3.10/site-packages/pandas/core/ops/__init__.py?line=246'>247</a>\u001b[0m     \u001b[39mif\u001b[39;00m right\u001b[39m.\u001b[39mndim \u001b[39m==\u001b[39m \u001b[39m1\u001b[39m:\n\u001b[0;32m--> <a href='file:///opt/homebrew/anaconda3/envs/geo_env/lib/python3.10/site-packages/pandas/core/ops/__init__.py?line=247'>248</a>\u001b[0m         right \u001b[39m=\u001b[39m to_series(right)\n\u001b[1;32m    <a href='file:///opt/homebrew/anaconda3/envs/geo_env/lib/python3.10/site-packages/pandas/core/ops/__init__.py?line=249'>250</a>\u001b[0m     \u001b[39melif\u001b[39;00m right\u001b[39m.\u001b[39mndim \u001b[39m==\u001b[39m \u001b[39m2\u001b[39m:\n\u001b[1;32m    <a href='file:///opt/homebrew/anaconda3/envs/geo_env/lib/python3.10/site-packages/pandas/core/ops/__init__.py?line=250'>251</a>\u001b[0m         \u001b[39mif\u001b[39;00m right\u001b[39m.\u001b[39mshape \u001b[39m==\u001b[39m left\u001b[39m.\u001b[39mshape:\n",
      "File \u001b[0;32m/opt/homebrew/anaconda3/envs/geo_env/lib/python3.10/site-packages/pandas/core/ops/__init__.py:239\u001b[0m, in \u001b[0;36malign_method_FRAME.<locals>.to_series\u001b[0;34m(right)\u001b[0m\n\u001b[1;32m    <a href='file:///opt/homebrew/anaconda3/envs/geo_env/lib/python3.10/site-packages/pandas/core/ops/__init__.py?line=236'>237</a>\u001b[0m \u001b[39melse\u001b[39;00m:\n\u001b[1;32m    <a href='file:///opt/homebrew/anaconda3/envs/geo_env/lib/python3.10/site-packages/pandas/core/ops/__init__.py?line=237'>238</a>\u001b[0m     \u001b[39mif\u001b[39;00m \u001b[39mlen\u001b[39m(left\u001b[39m.\u001b[39mcolumns) \u001b[39m!=\u001b[39m \u001b[39mlen\u001b[39m(right):\n\u001b[0;32m--> <a href='file:///opt/homebrew/anaconda3/envs/geo_env/lib/python3.10/site-packages/pandas/core/ops/__init__.py?line=238'>239</a>\u001b[0m         \u001b[39mraise\u001b[39;00m \u001b[39mValueError\u001b[39;00m(\n\u001b[1;32m    <a href='file:///opt/homebrew/anaconda3/envs/geo_env/lib/python3.10/site-packages/pandas/core/ops/__init__.py?line=239'>240</a>\u001b[0m             msg\u001b[39m.\u001b[39mformat(req_len\u001b[39m=\u001b[39m\u001b[39mlen\u001b[39m(left\u001b[39m.\u001b[39mcolumns), given_len\u001b[39m=\u001b[39m\u001b[39mlen\u001b[39m(right))\n\u001b[1;32m    <a href='file:///opt/homebrew/anaconda3/envs/geo_env/lib/python3.10/site-packages/pandas/core/ops/__init__.py?line=240'>241</a>\u001b[0m         )\n\u001b[1;32m    <a href='file:///opt/homebrew/anaconda3/envs/geo_env/lib/python3.10/site-packages/pandas/core/ops/__init__.py?line=241'>242</a>\u001b[0m     right \u001b[39m=\u001b[39m left\u001b[39m.\u001b[39m_constructor_sliced(right, index\u001b[39m=\u001b[39mleft\u001b[39m.\u001b[39mcolumns)\n\u001b[1;32m    <a href='file:///opt/homebrew/anaconda3/envs/geo_env/lib/python3.10/site-packages/pandas/core/ops/__init__.py?line=242'>243</a>\u001b[0m \u001b[39mreturn\u001b[39;00m right\n",
      "\u001b[0;31mValueError\u001b[0m: Unable to coerce to Series, length must be 1: given 17"
     ]
    }
   ],
   "source": [
    "clf.predict(X_test)==np.asarray(Y_test)"
   ]
  },
  {
   "cell_type": "code",
   "execution_count": null,
   "metadata": {},
   "outputs": [],
   "source": []
  }
 ],
 "metadata": {
  "interpreter": {
   "hash": "af5686e283958092440dcdf775f47c2182d5388add5813790c587b77c0150b91"
  },
  "kernelspec": {
   "display_name": "Python 3.10.4 ('geo_env')",
   "language": "python",
   "name": "python3"
  },
  "language_info": {
   "codemirror_mode": {
    "name": "ipython",
    "version": 3
   },
   "file_extension": ".py",
   "mimetype": "text/x-python",
   "name": "python",
   "nbconvert_exporter": "python",
   "pygments_lexer": "ipython3",
   "version": "3.10.4"
  },
  "orig_nbformat": 4
 },
 "nbformat": 4,
 "nbformat_minor": 2
}
