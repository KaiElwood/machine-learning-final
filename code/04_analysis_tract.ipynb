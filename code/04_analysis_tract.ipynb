{
 "cells": [
  {
   "cell_type": "code",
   "execution_count": 2,
   "id": "a018be8b",
   "metadata": {},
   "outputs": [],
   "source": [
    "# setup\n",
    "import pandas as pd\n",
    "import numpy as np\n",
    "import matplotlib\n",
    "import matplotlib.pyplot as plt \n",
    "import requests\n",
    "import calendar\n",
    "import geopandas as gpd\n",
    "import os.path as os\n",
    "import scipy.stats\n",
    "import seaborn.palettes\n",
    "import seaborn.utils\n",
    "import sys\n",
    "from census import Census\n",
    "from us import states\n",
    "import http.client, urllib.request, urllib.parse, urllib.error, base64\n",
    "import config\n",
    "\n",
    "root= r\"C:/Users/Jennah/Desktop/Code/machine-learning-final\"\n",
    "inp= os.join(root, \"data\", \"3_clean\")"
   ]
  },
  {
   "cell_type": "markdown",
   "id": "d18dfcca",
   "metadata": {},
   "source": [
    "# Decision Trees and Random Forest Models"
   ]
  },
  {
   "cell_type": "code",
   "execution_count": 1,
   "id": "943d7056",
   "metadata": {},
   "outputs": [
    {
     "ename": "NameError",
     "evalue": "name 'pd' is not defined",
     "output_type": "error",
     "traceback": [
      "\u001b[1;31m---------------------------------------------------------------------------\u001b[0m",
      "\u001b[1;31mNameError\u001b[0m                                 Traceback (most recent call last)",
      "\u001b[1;32m~\\AppData\\Local\\Temp/ipykernel_27052/62983375.py\u001b[0m in \u001b[0;36m<module>\u001b[1;34m\u001b[0m\n\u001b[1;32m----> 1\u001b[1;33m \u001b[0mdf\u001b[0m\u001b[1;33m=\u001b[0m \u001b[0mpd\u001b[0m\u001b[1;33m.\u001b[0m\u001b[0mread_csv\u001b[0m\u001b[1;33m(\u001b[0m\u001b[0mos\u001b[0m\u001b[1;33m.\u001b[0m\u001b[0mjoin\u001b[0m\u001b[1;33m(\u001b[0m\u001b[0minp\u001b[0m\u001b[1;33m,\u001b[0m \u001b[1;34m\"analysis_tract.csv\"\u001b[0m\u001b[1;33m)\u001b[0m\u001b[1;33m)\u001b[0m\u001b[1;33m.\u001b[0m\u001b[0mdrop\u001b[0m\u001b[1;33m(\u001b[0m\u001b[1;34m\"Unnamed: 0\"\u001b[0m\u001b[1;33m,\u001b[0m \u001b[0maxis\u001b[0m \u001b[1;33m=\u001b[0m \u001b[1;36m1\u001b[0m\u001b[1;33m)\u001b[0m\u001b[1;33m\u001b[0m\u001b[1;33m\u001b[0m\u001b[0m\n\u001b[0m\u001b[0;32m      2\u001b[0m \u001b[0mdf\u001b[0m\u001b[1;33m.\u001b[0m\u001b[0mhead\u001b[0m\u001b[1;33m(\u001b[0m\u001b[1;33m)\u001b[0m\u001b[1;33m\u001b[0m\u001b[1;33m\u001b[0m\u001b[0m\n",
      "\u001b[1;31mNameError\u001b[0m: name 'pd' is not defined"
     ]
    }
   ],
   "source": [
    "df= pd.read_csv(os.join(inp, \"analysis_tract.csv\")).drop(\"Unnamed: 0\", axis = 1)\n",
    "df.head()"
   ]
  },
  {
   "cell_type": "code",
   "execution_count": 17,
   "id": "fa38421a",
   "metadata": {
    "scrolled": true
   },
   "outputs": [
    {
     "name": "stdout",
     "output_type": "stream",
     "text": [
      "Index(['borough', 'cd', 'ct2010', 'zipcode', 'address', 'bldgclass', 'landuse',\n",
      "       'ownertype', 'ownername', 'lotarea', 'bldgarea', 'numbldgs',\n",
      "       'numfloors', 'unitsres', 'unitstotal', 'assessland', 'assesstot',\n",
      "       'exempttot', 'yearbuilt', 'yearalter1', 'yearalter2', 'bbl', 'sanborn',\n",
      "       'holc_AB', 'holc_CD', 'holc_D', 'num_vac_orders', 'vacate_ind',\n",
      "       'num_vacate_orders', 'viol_count', 'AL', 'NB', 'average_energy_usage',\n",
      "       'average_energy_usage_mi'],\n",
      "      dtype='object')\n"
     ]
    },
    {
     "data": {
      "text/html": [
       "<div>\n",
       "<style scoped>\n",
       "    .dataframe tbody tr th:only-of-type {\n",
       "        vertical-align: middle;\n",
       "    }\n",
       "\n",
       "    .dataframe tbody tr th {\n",
       "        vertical-align: top;\n",
       "    }\n",
       "\n",
       "    .dataframe thead th {\n",
       "        text-align: right;\n",
       "    }\n",
       "</style>\n",
       "<table border=\"1\" class=\"dataframe\">\n",
       "  <thead>\n",
       "    <tr style=\"text-align: right;\">\n",
       "      <th></th>\n",
       "      <th>cd</th>\n",
       "      <th>ct2010</th>\n",
       "      <th>zipcode</th>\n",
       "      <th>landuse</th>\n",
       "      <th>lotarea</th>\n",
       "      <th>bldgarea</th>\n",
       "      <th>numbldgs</th>\n",
       "      <th>numfloors</th>\n",
       "      <th>unitsres</th>\n",
       "      <th>unitstotal</th>\n",
       "      <th>...</th>\n",
       "      <th>holc_CD</th>\n",
       "      <th>holc_D</th>\n",
       "      <th>num_vac_orders</th>\n",
       "      <th>vacate_ind</th>\n",
       "      <th>num_vacate_orders</th>\n",
       "      <th>viol_count</th>\n",
       "      <th>AL</th>\n",
       "      <th>NB</th>\n",
       "      <th>average_energy_usage</th>\n",
       "      <th>average_energy_usage_mi</th>\n",
       "    </tr>\n",
       "  </thead>\n",
       "  <tbody>\n",
       "    <tr>\n",
       "      <th>count</th>\n",
       "      <td>765323.000000</td>\n",
       "      <td>765264.000000</td>\n",
       "      <td>765316.000000</td>\n",
       "      <td>765714.000000</td>\n",
       "      <td>7.654280e+05</td>\n",
       "      <td>7.657140e+05</td>\n",
       "      <td>765428.000000</td>\n",
       "      <td>765428.000000</td>\n",
       "      <td>765708.000000</td>\n",
       "      <td>765712.000000</td>\n",
       "      <td>...</td>\n",
       "      <td>765117.000000</td>\n",
       "      <td>765117.00000</td>\n",
       "      <td>2603.000000</td>\n",
       "      <td>765714.000000</td>\n",
       "      <td>763111.0</td>\n",
       "      <td>765714.000000</td>\n",
       "      <td>765714.000000</td>\n",
       "      <td>765714.000000</td>\n",
       "      <td>765389.000000</td>\n",
       "      <td>765714.000000</td>\n",
       "    </tr>\n",
       "    <tr>\n",
       "      <th>mean</th>\n",
       "      <td>357.693954</td>\n",
       "      <td>470.832974</td>\n",
       "      <td>11026.161084</td>\n",
       "      <td>1.423121</td>\n",
       "      <td>3.815063e+03</td>\n",
       "      <td>5.078128e+03</td>\n",
       "      <td>1.324699</td>\n",
       "      <td>2.447578</td>\n",
       "      <td>4.717486</td>\n",
       "      <td>4.981860</td>\n",
       "      <td>...</td>\n",
       "      <td>0.704729</td>\n",
       "      <td>0.22371</td>\n",
       "      <td>1.094891</td>\n",
       "      <td>0.003399</td>\n",
       "      <td>0.0</td>\n",
       "      <td>7.081562</td>\n",
       "      <td>0.002844</td>\n",
       "      <td>0.000876</td>\n",
       "      <td>4.421240</td>\n",
       "      <td>0.976662</td>\n",
       "    </tr>\n",
       "    <tr>\n",
       "      <th>std</th>\n",
       "      <td>98.110120</td>\n",
       "      <td>378.922236</td>\n",
       "      <td>463.572291</td>\n",
       "      <td>0.844367</td>\n",
       "      <td>2.317468e+04</td>\n",
       "      <td>3.521141e+04</td>\n",
       "      <td>2.768148</td>\n",
       "      <td>1.693242</td>\n",
       "      <td>42.120376</td>\n",
       "      <td>63.182793</td>\n",
       "      <td>...</td>\n",
       "      <td>0.456165</td>\n",
       "      <td>0.41673</td>\n",
       "      <td>0.438168</td>\n",
       "      <td>0.058206</td>\n",
       "      <td>0.0</td>\n",
       "      <td>50.126042</td>\n",
       "      <td>0.026303</td>\n",
       "      <td>0.010436</td>\n",
       "      <td>850.251643</td>\n",
       "      <td>0.150974</td>\n",
       "    </tr>\n",
       "    <tr>\n",
       "      <th>min</th>\n",
       "      <td>101.000000</td>\n",
       "      <td>1.000000</td>\n",
       "      <td>10001.000000</td>\n",
       "      <td>1.000000</td>\n",
       "      <td>0.000000e+00</td>\n",
       "      <td>0.000000e+00</td>\n",
       "      <td>0.000000</td>\n",
       "      <td>0.000000</td>\n",
       "      <td>0.000000</td>\n",
       "      <td>0.000000</td>\n",
       "      <td>...</td>\n",
       "      <td>0.000000</td>\n",
       "      <td>0.00000</td>\n",
       "      <td>1.000000</td>\n",
       "      <td>0.000000</td>\n",
       "      <td>0.0</td>\n",
       "      <td>0.000000</td>\n",
       "      <td>0.000000</td>\n",
       "      <td>0.000000</td>\n",
       "      <td>0.000000</td>\n",
       "      <td>0.000000</td>\n",
       "    </tr>\n",
       "    <tr>\n",
       "      <th>25%</th>\n",
       "      <td>307.000000</td>\n",
       "      <td>170.090000</td>\n",
       "      <td>10467.000000</td>\n",
       "      <td>1.000000</td>\n",
       "      <td>2.000000e+03</td>\n",
       "      <td>1.442000e+03</td>\n",
       "      <td>1.000000</td>\n",
       "      <td>2.000000</td>\n",
       "      <td>1.000000</td>\n",
       "      <td>1.000000</td>\n",
       "      <td>...</td>\n",
       "      <td>0.000000</td>\n",
       "      <td>0.00000</td>\n",
       "      <td>1.000000</td>\n",
       "      <td>0.000000</td>\n",
       "      <td>0.0</td>\n",
       "      <td>0.000000</td>\n",
       "      <td>0.000000</td>\n",
       "      <td>0.000000</td>\n",
       "      <td>0.000000</td>\n",
       "      <td>1.000000</td>\n",
       "    </tr>\n",
       "    <tr>\n",
       "      <th>50%</th>\n",
       "      <td>403.000000</td>\n",
       "      <td>363.000000</td>\n",
       "      <td>11223.000000</td>\n",
       "      <td>1.000000</td>\n",
       "      <td>2.500000e+03</td>\n",
       "      <td>2.023000e+03</td>\n",
       "      <td>1.000000</td>\n",
       "      <td>2.000000</td>\n",
       "      <td>2.000000</td>\n",
       "      <td>2.000000</td>\n",
       "      <td>...</td>\n",
       "      <td>1.000000</td>\n",
       "      <td>0.00000</td>\n",
       "      <td>1.000000</td>\n",
       "      <td>0.000000</td>\n",
       "      <td>0.0</td>\n",
       "      <td>0.000000</td>\n",
       "      <td>0.000000</td>\n",
       "      <td>0.000000</td>\n",
       "      <td>0.000000</td>\n",
       "      <td>1.000000</td>\n",
       "    </tr>\n",
       "    <tr>\n",
       "      <th>75%</th>\n",
       "      <td>412.000000</td>\n",
       "      <td>671.000000</td>\n",
       "      <td>11372.000000</td>\n",
       "      <td>2.000000</td>\n",
       "      <td>4.000000e+03</td>\n",
       "      <td>2.928000e+03</td>\n",
       "      <td>2.000000</td>\n",
       "      <td>2.750000</td>\n",
       "      <td>2.000000</td>\n",
       "      <td>2.000000</td>\n",
       "      <td>...</td>\n",
       "      <td>1.000000</td>\n",
       "      <td>0.00000</td>\n",
       "      <td>1.000000</td>\n",
       "      <td>0.000000</td>\n",
       "      <td>0.0</td>\n",
       "      <td>0.000000</td>\n",
       "      <td>0.000000</td>\n",
       "      <td>0.000000</td>\n",
       "      <td>0.000000</td>\n",
       "      <td>1.000000</td>\n",
       "    </tr>\n",
       "    <tr>\n",
       "      <th>max</th>\n",
       "      <td>503.000000</td>\n",
       "      <td>1621.000000</td>\n",
       "      <td>12345.000000</td>\n",
       "      <td>4.000000</td>\n",
       "      <td>1.225343e+07</td>\n",
       "      <td>1.354011e+07</td>\n",
       "      <td>1854.000000</td>\n",
       "      <td>98.000000</td>\n",
       "      <td>19201.000000</td>\n",
       "      <td>36481.000000</td>\n",
       "      <td>...</td>\n",
       "      <td>1.000000</td>\n",
       "      <td>1.00000</td>\n",
       "      <td>15.000000</td>\n",
       "      <td>1.000000</td>\n",
       "      <td>0.0</td>\n",
       "      <td>4825.000000</td>\n",
       "      <td>13.444444</td>\n",
       "      <td>1.333333</td>\n",
       "      <td>400064.000000</td>\n",
       "      <td>1.000000</td>\n",
       "    </tr>\n",
       "  </tbody>\n",
       "</table>\n",
       "<p>8 rows × 28 columns</p>\n",
       "</div>"
      ],
      "text/plain": [
       "                  cd         ct2010        zipcode        landuse  \\\n",
       "count  765323.000000  765264.000000  765316.000000  765714.000000   \n",
       "mean      357.693954     470.832974   11026.161084       1.423121   \n",
       "std        98.110120     378.922236     463.572291       0.844367   \n",
       "min       101.000000       1.000000   10001.000000       1.000000   \n",
       "25%       307.000000     170.090000   10467.000000       1.000000   \n",
       "50%       403.000000     363.000000   11223.000000       1.000000   \n",
       "75%       412.000000     671.000000   11372.000000       2.000000   \n",
       "max       503.000000    1621.000000   12345.000000       4.000000   \n",
       "\n",
       "            lotarea      bldgarea       numbldgs      numfloors  \\\n",
       "count  7.654280e+05  7.657140e+05  765428.000000  765428.000000   \n",
       "mean   3.815063e+03  5.078128e+03       1.324699       2.447578   \n",
       "std    2.317468e+04  3.521141e+04       2.768148       1.693242   \n",
       "min    0.000000e+00  0.000000e+00       0.000000       0.000000   \n",
       "25%    2.000000e+03  1.442000e+03       1.000000       2.000000   \n",
       "50%    2.500000e+03  2.023000e+03       1.000000       2.000000   \n",
       "75%    4.000000e+03  2.928000e+03       2.000000       2.750000   \n",
       "max    1.225343e+07  1.354011e+07    1854.000000      98.000000   \n",
       "\n",
       "            unitsres     unitstotal  ...        holc_CD        holc_D  \\\n",
       "count  765708.000000  765712.000000  ...  765117.000000  765117.00000   \n",
       "mean        4.717486       4.981860  ...       0.704729       0.22371   \n",
       "std        42.120376      63.182793  ...       0.456165       0.41673   \n",
       "min         0.000000       0.000000  ...       0.000000       0.00000   \n",
       "25%         1.000000       1.000000  ...       0.000000       0.00000   \n",
       "50%         2.000000       2.000000  ...       1.000000       0.00000   \n",
       "75%         2.000000       2.000000  ...       1.000000       0.00000   \n",
       "max     19201.000000   36481.000000  ...       1.000000       1.00000   \n",
       "\n",
       "       num_vac_orders     vacate_ind  num_vacate_orders     viol_count  \\\n",
       "count     2603.000000  765714.000000           763111.0  765714.000000   \n",
       "mean         1.094891       0.003399                0.0       7.081562   \n",
       "std          0.438168       0.058206                0.0      50.126042   \n",
       "min          1.000000       0.000000                0.0       0.000000   \n",
       "25%          1.000000       0.000000                0.0       0.000000   \n",
       "50%          1.000000       0.000000                0.0       0.000000   \n",
       "75%          1.000000       0.000000                0.0       0.000000   \n",
       "max         15.000000       1.000000                0.0    4825.000000   \n",
       "\n",
       "                  AL             NB  average_energy_usage  \\\n",
       "count  765714.000000  765714.000000         765389.000000   \n",
       "mean        0.002844       0.000876              4.421240   \n",
       "std         0.026303       0.010436            850.251643   \n",
       "min         0.000000       0.000000              0.000000   \n",
       "25%         0.000000       0.000000              0.000000   \n",
       "50%         0.000000       0.000000              0.000000   \n",
       "75%         0.000000       0.000000              0.000000   \n",
       "max        13.444444       1.333333         400064.000000   \n",
       "\n",
       "       average_energy_usage_mi  \n",
       "count            765714.000000  \n",
       "mean                  0.976662  \n",
       "std                   0.150974  \n",
       "min                   0.000000  \n",
       "25%                   1.000000  \n",
       "50%                   1.000000  \n",
       "75%                   1.000000  \n",
       "max                   1.000000  \n",
       "\n",
       "[8 rows x 28 columns]"
      ]
     },
     "execution_count": 17,
     "metadata": {},
     "output_type": "execute_result"
    }
   ],
   "source": [
    "print(df.columns)\n",
    "df.describe()"
   ]
  },
  {
   "cell_type": "code",
   "execution_count": 18,
   "id": "97d9c678",
   "metadata": {},
   "outputs": [],
   "source": [
    "df= pd.get_dummies(df, columns=[\"borough\"])\n",
    "borocols= [\"borough_\" + x for x in [\"BK\", \"BX\", \"MN\", \"QN\", \"SI\"]]"
   ]
  },
  {
   "cell_type": "code",
   "execution_count": 22,
   "id": "60740f10",
   "metadata": {},
   "outputs": [
    {
     "data": {
      "text/plain": [
       "0.9961038678362318"
      ]
     },
     "execution_count": 22,
     "metadata": {},
     "output_type": "execute_result"
    }
   ],
   "source": [
    "from sklearn.model_selection import train_test_split\n",
    "from sklearn.tree import DecisionTreeClassifier\n",
    "\n",
    "X = df.loc[:, [\"landuse\", \"lotarea\", \"bldgarea\", \"numbldgs\", \"numfloors\", \"unitsres\", \"unitstotal\", \"assessland\",\n",
    "              \"assesstot\", \"exempttot\", \"yearbuilt\", \"holc_AB\", \"holc_CD\", \"viol_count\", \"AL\", \"NB\",\n",
    "              \"average_energy_usage\", \"average_energy_usage_mi\"]+borocols].fillna(0)\n",
    "y = df.loc[:, \"vacate_ind\"]\n",
    "X_train, X_test, y_train, y_test = train_test_split(X, y, test_size=0.3, random_state=999)\n",
    "\n",
    "dt = DecisionTreeClassifier(max_depth=10)\n",
    "dt.fit(X_train, y_train)\n",
    "y_predict = dt.predict(X_test)\n",
    "accuracy= (y_predict == y_test).value_counts(normalize=True)[True]\n",
    "accuracy"
   ]
  },
  {
   "cell_type": "markdown",
   "id": "ecdffb84",
   "metadata": {},
   "source": [
    "__Area under the curve__"
   ]
  },
  {
   "cell_type": "code",
   "execution_count": 23,
   "id": "2ac4d3b7",
   "metadata": {},
   "outputs": [
    {
     "data": {
      "text/plain": [
       "0.5568472977716408"
      ]
     },
     "execution_count": 23,
     "metadata": {},
     "output_type": "execute_result"
    }
   ],
   "source": [
    "from sklearn.metrics import roc_auc_score\n",
    "dt=DecisionTreeClassifier()\n",
    "dt.fit(X_train,y_train)\n",
    "# predict_proba predicts the probability of each class rather than just the most likely class\n",
    "pred=dt.predict_proba(X_test)[:,1] # predicted probability of y = 1\n",
    "roc_auc_score(np.array(y_test),pred)"
   ]
  },
  {
   "cell_type": "code",
   "execution_count": 26,
   "id": "558ac95d",
   "metadata": {
    "scrolled": true
   },
   "outputs": [
    {
     "data": {
      "text/plain": [
       "0.4792570536905316"
      ]
     },
     "execution_count": 26,
     "metadata": {},
     "output_type": "execute_result"
    }
   ],
   "source": [
    "# vs. random chance (only slightly better)\n",
    "pred=np.random.random(len(X_test))\n",
    "roc_auc_score(np.array(y_test.apply(int)),pred)"
   ]
  },
  {
   "cell_type": "markdown",
   "id": "392fe285",
   "metadata": {},
   "source": [
    "## Tuning"
   ]
  },
  {
   "cell_type": "code",
   "execution_count": 27,
   "id": "b27412e4",
   "metadata": {},
   "outputs": [
    {
     "name": "stdout",
     "output_type": "stream",
     "text": [
      "{'max_depth': 5}\n",
      "0.9734948545025446\n"
     ]
    }
   ],
   "source": [
    "from sklearn.model_selection import GridSearchCV\n",
    "# This time we'll use max_depth to control the complexity of the tree, still using the same train/test split as above,\n",
    "# and optimize the parameter value using GridSearchCV.\n",
    "param_grid = {'max_depth':range(1,20)}\n",
    "dt=DecisionTreeClassifier()\n",
    "gr=GridSearchCV(dt,param_grid=param_grid,scoring='roc_auc')\n",
    "rs=gr.fit(X_train,y_train)\n",
    "print(rs.best_params_)\n",
    "print(roc_auc_score(np.array(y_test),rs.predict_proba(X_test)[:,1]))"
   ]
  },
  {
   "cell_type": "markdown",
   "id": "dfb2cab2",
   "metadata": {},
   "source": [
    "## Feature Importance"
   ]
  },
  {
   "cell_type": "code",
   "execution_count": 33,
   "id": "84ca2e04",
   "metadata": {},
   "outputs": [
    {
     "data": {
      "text/html": [
       "<div>\n",
       "<style scoped>\n",
       "    .dataframe tbody tr th:only-of-type {\n",
       "        vertical-align: middle;\n",
       "    }\n",
       "\n",
       "    .dataframe tbody tr th {\n",
       "        vertical-align: top;\n",
       "    }\n",
       "\n",
       "    .dataframe thead th {\n",
       "        text-align: right;\n",
       "    }\n",
       "</style>\n",
       "<table border=\"1\" class=\"dataframe\">\n",
       "  <thead>\n",
       "    <tr style=\"text-align: right;\">\n",
       "      <th></th>\n",
       "      <th>variables</th>\n",
       "      <th>importance</th>\n",
       "    </tr>\n",
       "  </thead>\n",
       "  <tbody>\n",
       "    <tr>\n",
       "      <th>13</th>\n",
       "      <td>viol_count</td>\n",
       "      <td>0.704478</td>\n",
       "    </tr>\n",
       "    <tr>\n",
       "      <th>2</th>\n",
       "      <td>bldgarea</td>\n",
       "      <td>0.207128</td>\n",
       "    </tr>\n",
       "    <tr>\n",
       "      <th>5</th>\n",
       "      <td>unitsres</td>\n",
       "      <td>0.046483</td>\n",
       "    </tr>\n",
       "    <tr>\n",
       "      <th>10</th>\n",
       "      <td>yearbuilt</td>\n",
       "      <td>0.013953</td>\n",
       "    </tr>\n",
       "    <tr>\n",
       "      <th>7</th>\n",
       "      <td>assessland</td>\n",
       "      <td>0.012477</td>\n",
       "    </tr>\n",
       "  </tbody>\n",
       "</table>\n",
       "</div>"
      ],
      "text/plain": [
       "     variables importance\n",
       "13  viol_count   0.704478\n",
       "2     bldgarea   0.207128\n",
       "5     unitsres   0.046483\n",
       "10   yearbuilt   0.013953\n",
       "7   assessland   0.012477"
      ]
     },
     "execution_count": 33,
     "metadata": {},
     "output_type": "execute_result"
    }
   ],
   "source": [
    "dt = DecisionTreeClassifier(max_depth=rs.best_params_['max_depth'])\n",
    "dt.fit(X_train, y_train)\n",
    "Feature_importance=pd.DataFrame([list(X_train.columns),list(dt.feature_importances_)]).T\n",
    "Feature_importance.columns=[\"variables\",\"importance\"]\n",
    "\n",
    "# list the top 5 most important features in order\n",
    "Feature_importance.sort_values(by=\"importance\",ascending=False).iloc[:5,:]"
   ]
  },
  {
   "cell_type": "markdown",
   "id": "0ce37a77",
   "metadata": {},
   "source": [
    "## Random Forests"
   ]
  },
  {
   "cell_type": "code",
   "execution_count": 34,
   "id": "beb4ff90",
   "metadata": {},
   "outputs": [
    {
     "name": "stdout",
     "output_type": "stream",
     "text": [
      "0.9681534147606388\n"
     ]
    }
   ],
   "source": [
    "from sklearn.ensemble import RandomForestClassifier\n",
    "rf = RandomForestClassifier(n_estimators=30, n_jobs=-1,max_leaf_nodes=10)\n",
    "rf.fit(X_train, y_train)\n",
    "pred=rf.predict_proba(X_test)[:,1]\n",
    "print(roc_auc_score(y_test,pred))"
   ]
  },
  {
   "cell_type": "code",
   "execution_count": 35,
   "id": "4cf9019c",
   "metadata": {},
   "outputs": [
    {
     "name": "stdout",
     "output_type": "stream",
     "text": [
      "{'n_estimators': 46}\n",
      "0.9681038129153868\n"
     ]
    }
   ],
   "source": [
    "param_grid = {'n_estimators':range(1,51,5)}\n",
    "rf = RandomForestClassifier(n_jobs=-1,max_leaf_nodes=10)\n",
    "gs = GridSearchCV(rf,param_grid=param_grid,scoring='roc_auc')\n",
    "rs = gs.fit(X_train,y_train)\n",
    "pred=rs.predict_proba(X_test)[:,1]\n",
    "print(rs.best_params_)\n",
    "print(roc_auc_score(np.array(y_test),pred))"
   ]
  },
  {
   "cell_type": "markdown",
   "id": "9ae21bfc",
   "metadata": {},
   "source": [
    "# Naive Bayes?"
   ]
  },
  {
   "cell_type": "code",
   "execution_count": null,
   "id": "3c2b2d19",
   "metadata": {},
   "outputs": [],
   "source": []
  }
 ],
 "metadata": {
  "kernelspec": {
   "display_name": "geo_env",
   "language": "python",
   "name": "geo_env"
  },
  "language_info": {
   "codemirror_mode": {
    "name": "ipython",
    "version": 3
   },
   "file_extension": ".py",
   "mimetype": "text/x-python",
   "name": "python",
   "nbconvert_exporter": "python",
   "pygments_lexer": "ipython3",
   "version": "3.9.7"
  }
 },
 "nbformat": 4,
 "nbformat_minor": 5
}
