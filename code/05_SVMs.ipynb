{
 "cells": [
  {
   "cell_type": "code",
   "execution_count": 31,
   "metadata": {},
   "outputs": [],
   "source": [
    "# setup\n",
    "import pandas as pd\n",
    "import numpy as np\n",
    "import matplotlib.pyplot as pl\n",
    "import http.client, urllib.request, urllib.parse, urllib.error, base64\n",
    "# import config\n",
    "import quickstart"
   ]
  },
  {
   "cell_type": "code",
   "execution_count": 32,
   "metadata": {},
   "outputs": [
    {
     "name": "stdout",
     "output_type": "stream",
     "text": [
      "Failed to start a local web server. Please check your firewall\n",
      "settings and locally running programs that may be blocking or\n",
      "using configured ports. Default ports are 8080 and 8090.\n"
     ]
    },
    {
     "ename": "AuthenticationError",
     "evalue": "",
     "output_type": "error",
     "traceback": [
      "\u001b[0;31m---------------------------------------------------------------------------\u001b[0m",
      "\u001b[0;31mAuthenticationError\u001b[0m                       Traceback (most recent call last)",
      "\u001b[1;32m/Users/kai/Desktop/NYU Shanghai/NYU Shanghai Year 2/Semester 2/Web Design/GitHub/machine-learning-final/code/05_SVMs.ipynb Cell 2'\u001b[0m in \u001b[0;36m<cell line: 4>\u001b[0;34m()\u001b[0m\n\u001b[1;32m      <a href='vscode-notebook-cell:/Users/kai/Desktop/NYU%20Shanghai/NYU%20Shanghai%20Year%202/Semester%202/Web%20Design/GitHub/machine-learning-final/code/05_SVMs.ipynb#ch0000001?line=0'>1</a>\u001b[0m \u001b[39mfrom\u001b[39;00m \u001b[39mpydrive\u001b[39;00m\u001b[39m.\u001b[39;00m\u001b[39mauth\u001b[39;00m \u001b[39mimport\u001b[39;00m GoogleAuth\n\u001b[1;32m      <a href='vscode-notebook-cell:/Users/kai/Desktop/NYU%20Shanghai/NYU%20Shanghai%20Year%202/Semester%202/Web%20Design/GitHub/machine-learning-final/code/05_SVMs.ipynb#ch0000001?line=2'>3</a>\u001b[0m gauth \u001b[39m=\u001b[39m GoogleAuth()\n\u001b[0;32m----> <a href='vscode-notebook-cell:/Users/kai/Desktop/NYU%20Shanghai/NYU%20Shanghai%20Year%202/Semester%202/Web%20Design/GitHub/machine-learning-final/code/05_SVMs.ipynb#ch0000001?line=3'>4</a>\u001b[0m gauth\u001b[39m.\u001b[39;49mLocalWebserverAuth()\n",
      "File \u001b[0;32m/opt/homebrew/anaconda3/envs/geo_env/lib/python3.10/site-packages/pydrive/auth.py:115\u001b[0m, in \u001b[0;36mCheckAuth.<locals>._decorated\u001b[0;34m(self, *args, **kwargs)\u001b[0m\n\u001b[1;32m    <a href='file:///opt/homebrew/anaconda3/envs/geo_env/lib/python3.10/site-packages/pydrive/auth.py?line=112'>113</a>\u001b[0m   \u001b[39mself\u001b[39m\u001b[39m.\u001b[39mGetFlow()\n\u001b[1;32m    <a href='file:///opt/homebrew/anaconda3/envs/geo_env/lib/python3.10/site-packages/pydrive/auth.py?line=113'>114</a>\u001b[0m \u001b[39mif\u001b[39;00m \u001b[39mself\u001b[39m\u001b[39m.\u001b[39mcredentials \u001b[39mis\u001b[39;00m \u001b[39mNone\u001b[39;00m:\n\u001b[0;32m--> <a href='file:///opt/homebrew/anaconda3/envs/geo_env/lib/python3.10/site-packages/pydrive/auth.py?line=114'>115</a>\u001b[0m   code \u001b[39m=\u001b[39m decoratee(\u001b[39mself\u001b[39;49m, \u001b[39m*\u001b[39;49margs, \u001b[39m*\u001b[39;49m\u001b[39m*\u001b[39;49mkwargs)\n\u001b[1;32m    <a href='file:///opt/homebrew/anaconda3/envs/geo_env/lib/python3.10/site-packages/pydrive/auth.py?line=115'>116</a>\u001b[0m   dirty \u001b[39m=\u001b[39m \u001b[39mTrue\u001b[39;00m\n\u001b[1;32m    <a href='file:///opt/homebrew/anaconda3/envs/geo_env/lib/python3.10/site-packages/pydrive/auth.py?line=116'>117</a>\u001b[0m \u001b[39melse\u001b[39;00m:\n",
      "File \u001b[0;32m/opt/homebrew/anaconda3/envs/geo_env/lib/python3.10/site-packages/pydrive/auth.py:224\u001b[0m, in \u001b[0;36mGoogleAuth.LocalWebserverAuth\u001b[0;34m(self, host_name, port_numbers)\u001b[0m\n\u001b[1;32m    <a href='file:///opt/homebrew/anaconda3/envs/geo_env/lib/python3.10/site-packages/pydrive/auth.py?line=221'>222</a>\u001b[0m   \u001b[39mprint\u001b[39m(\u001b[39m'\u001b[39m\u001b[39msettings and locally running programs that may be blocking or\u001b[39m\u001b[39m'\u001b[39m)\n\u001b[1;32m    <a href='file:///opt/homebrew/anaconda3/envs/geo_env/lib/python3.10/site-packages/pydrive/auth.py?line=222'>223</a>\u001b[0m   \u001b[39mprint\u001b[39m(\u001b[39m'\u001b[39m\u001b[39musing configured ports. Default ports are 8080 and 8090.\u001b[39m\u001b[39m'\u001b[39m)\n\u001b[0;32m--> <a href='file:///opt/homebrew/anaconda3/envs/geo_env/lib/python3.10/site-packages/pydrive/auth.py?line=223'>224</a>\u001b[0m   \u001b[39mraise\u001b[39;00m AuthenticationError()\n\u001b[1;32m    <a href='file:///opt/homebrew/anaconda3/envs/geo_env/lib/python3.10/site-packages/pydrive/auth.py?line=224'>225</a>\u001b[0m \u001b[39mself\u001b[39m\u001b[39m.\u001b[39mflow\u001b[39m.\u001b[39mredirect_uri \u001b[39m=\u001b[39m oauth_callback\n\u001b[1;32m    <a href='file:///opt/homebrew/anaconda3/envs/geo_env/lib/python3.10/site-packages/pydrive/auth.py?line=225'>226</a>\u001b[0m authorize_url \u001b[39m=\u001b[39m \u001b[39mself\u001b[39m\u001b[39m.\u001b[39mGetAuthUrl()\n",
      "\u001b[0;31mAuthenticationError\u001b[0m: "
     ]
    }
   ],
   "source": [
    "from pydrive.auth import GoogleAuth\n",
    "\n",
    "gauth = GoogleAuth()\n",
    "gauth.LocalWebserverAuth() # Creates local webserver and auto handles authentication."
   ]
  },
  {
   "cell_type": "code",
   "execution_count": 5,
   "metadata": {},
   "outputs": [
    {
     "name": "stdout",
     "output_type": "stream",
     "text": [
      "Title: analysis_box.csv, ID: 1Vzjvta98IG9Hg4SfAGcd8JD8FaF3IXwy\n",
      "Title: analysis_bbl.csv, ID: 1yYX-ROr1c7fzcQiG6NZ1sh7Ko5gqr_4G\n",
      "Title: analysis_bbl_noacs.csv, ID: 1h-tDpBSslfzqzsJe1ny_ujDnr68RKry3\n",
      "Title: borobox_convex_hull.geojson, ID: 1SzBNj3Ba-v9MEwuCkZT9e9iAwVYUqx8r\n"
     ]
    }
   ],
   "source": [
    "from pydrive.drive import GoogleDrive\n",
    "drive = GoogleDrive(gauth)\n",
    "fileList = drive.ListFile({'q': \"'1jxSI_nq32-W9kPHKvQkzuNGJ5aIBD2j2' in parents and trashed=false\"}).GetList()\n",
    "for file in fileList:\n",
    "  print('Title: %s, ID: %s' % (file['title'], file['id']))\n",
    "  # Get the folder ID that you want\n",
    "  if(file['title'] == \"To Share\"):\n",
    "      fileID = file['id']"
   ]
  },
  {
   "cell_type": "code",
   "execution_count": 6,
   "metadata": {},
   "outputs": [],
   "source": [
    "csv = drive.CreateFile({'id': '1yYX-ROr1c7fzcQiG6NZ1sh7Ko5gqr_4G'})\n",
    "csv.GetContentFile('analysis_bbl.csv')  \n",
    "\n",
    "df = pd.read_csv('analysis_bbl.csv')"
   ]
  },
  {
   "cell_type": "code",
   "execution_count": 7,
   "metadata": {},
   "outputs": [
    {
     "data": {
      "text/plain": [
       "765026"
      ]
     },
     "execution_count": 7,
     "metadata": {},
     "output_type": "execute_result"
    }
   ],
   "source": [
    "csv = df[[\"vacate_ind\",\"hpd_b_c_vio\", \"bldgarea\", \"unitstotal\", \"pop65plus\", \"unitsres\", \"pctnhblack\", \"hpd_fire_vio\"]]\n",
    "csv.shape[0]\n",
    "csv = csv.dropna()\n",
    "csv.shape[0]"
   ]
  },
  {
   "cell_type": "code",
   "execution_count": 8,
   "metadata": {},
   "outputs": [],
   "source": [
    "hadFires = csv[csv[\"vacate_ind\"] == 1]\n",
    "noFires = csv[csv[\"vacate_ind\"] == 0]\n",
    "hadFires\n",
    "noFires = noFires.sample(n=2604)"
   ]
  },
  {
   "cell_type": "code",
   "execution_count": 9,
   "metadata": {},
   "outputs": [],
   "source": [
    "midData = pd.concat([hadFires, noFires], axis=0)"
   ]
  },
  {
   "cell_type": "code",
   "execution_count": 10,
   "metadata": {},
   "outputs": [],
   "source": [
    "X = midData[[\"hpd_b_c_vio\", \"bldgarea\", \"unitstotal\", \"pop65plus\", \"unitsres\", \"pctnhblack\", \"hpd_fire_vio\"]]\n",
    "Y = midData[[\"vacate_ind\"]]"
   ]
  },
  {
   "cell_type": "code",
   "execution_count": 11,
   "metadata": {},
   "outputs": [
    {
     "name": "stdout",
     "output_type": "stream",
     "text": [
      "          0         1         2         3         4         5         6\n",
      "0 -0.185772  0.314870  0.250977  3.654770  0.255888 -0.474204 -0.350781\n",
      "1  0.330355  2.514825  1.853149  3.654770  1.825582 -0.474204 -0.350781\n",
      "2 -0.339330  1.540015  0.777063  3.654770  0.771095 -0.474204 -0.350781\n",
      "3 -0.322268  1.815038  1.016193  3.654770  0.997400 -0.474204 -0.350781\n",
      "4 -0.245489 -0.122820 -0.102936 -0.651114 -0.110053 -0.398508 -0.350781\n"
     ]
    }
   ],
   "source": [
    "from sklearn import preprocessing\n",
    "X_scaled = preprocessing.scale(X)\n",
    "X=X_scaled\n",
    "print(pd.DataFrame(X).head())"
   ]
  },
  {
   "cell_type": "code",
   "execution_count": 12,
   "metadata": {},
   "outputs": [],
   "source": [
    "from sklearn.model_selection import train_test_split\n",
    "X_train, X_test, Y_train, Y_test = train_test_split(X, Y, test_size=0.33, random_state=90)"
   ]
  },
  {
   "cell_type": "code",
   "execution_count": 13,
   "metadata": {},
   "outputs": [
    {
     "name": "stdout",
     "output_type": "stream",
     "text": [
      "3489 3489\n"
     ]
    }
   ],
   "source": [
    "print(len(X_train), len(Y_train))"
   ]
  },
  {
   "cell_type": "code",
   "execution_count": 14,
   "metadata": {},
   "outputs": [],
   "source": [
    "from sklearn import svm\n",
    "clf = svm.SVC(kernel='linear',C=1)"
   ]
  },
  {
   "cell_type": "code",
   "execution_count": 15,
   "metadata": {},
   "outputs": [
    {
     "name": "stdout",
     "output_type": "stream",
     "text": [
      "Out of sample, linear model successfully predicts 0.8807446189645143 percent of the data\n"
     ]
    }
   ],
   "source": [
    "clf.fit(X_train, Y_train[\"vacate_ind\"])\n",
    "correct=1.0*(clf.predict(X_test) == np.asarray(Y_test).reshape(1,X_test.shape[0])).sum()/len(Y_test)\n",
    "print(\"Out of sample, linear model successfully predicts {} percent of the data\".format((correct)))"
   ]
  },
  {
   "cell_type": "code",
   "execution_count": 16,
   "metadata": {},
   "outputs": [],
   "source": [
    "# from sklearn.model_selection import GridSearchCV\n",
    "\n",
    "# param_grid ={'kernel':[\"linear\"],\n",
    "#             'C':[np.exp(i) for i in np.linspace(-5,5,100)]}\n",
    "\n",
    "# OS = []\n",
    "# for i in range(10):\n",
    "#     X_train, X_test, Y_train, Y_test = train_test_split(X, Y, test_size=0.33, random_state=i)\n",
    "#     rr=svm.SVC()\n",
    "#     gr=GridSearchCV(rr,param_grid=param_grid)\n",
    "#     rs=gr.fit(X_train,Y_train[\"vacate_ind\"])\n",
    "#     print(rs.best_estimator_)\n",
    "#     correct=1.0*(rs.predict(X_test)==np.asarray(Y_test).reshape(1,X_test.shape[0])).sum()/len(Y_test)\n",
    "#     OS.append(correct)\n",
    "# print(\"Out of sample, we successfully predict\",np.mean(OS)*100,\"percent of the data\")"
   ]
  },
  {
   "cell_type": "code",
   "execution_count": 18,
   "metadata": {},
   "outputs": [],
   "source": [
    "X_train,X_test,Y_train,Y_test = train_test_split(X,Y,test_size=0.33,random_state=70)\n",
    "\n",
    "C = [np.exp(i) for i in np.linspace(-5,5,300)]\n",
    "OS = []\n",
    "for c in C:\n",
    "    clf = svm.SVC(kernel='linear',C=c) \n",
    "    clf.fit(X_train, Y_train[\"vacate_ind\"])\n",
    "    correct=1.0*(clf.predict(X_test)==np.asarray(Y_test).reshape(1,X_test.shape[0])).sum()/len(Y_test)\n",
    "    OS.append(correct)"
   ]
  },
  {
   "cell_type": "code",
   "execution_count": 22,
   "metadata": {},
   "outputs": [
    {
     "data": {
      "image/png": "[encoded data removed]",
      "text/plain": [
       "<Figure size 432x288 with 1 Axes>"
      ]
     },
     "metadata": {
      "needs_background": "light"
     },
     "output_type": "display_data"
    }
   ],
   "source": [
    "pl.gca()\n",
    "pl.plot(np.linspace(-5,5,300),OS)\n",
    "pl.xlabel(\"log C\")\n",
    "pl.ylabel(\"OS accuracy\")\n",
    "pl.title(\"Accuracy vs. penalization constant (log C)\")\n",
    "pl.xlim(-5,5)\n",
    "pl.show()"
   ]
  },
  {
   "cell_type": "code",
   "execution_count": 23,
   "metadata": {},
   "outputs": [
    {
     "data": {
      "text/plain": [
       "array([1., 0., 0., ..., 1., 0., 0.])"
      ]
     },
     "execution_count": 23,
     "metadata": {},
     "output_type": "execute_result"
    }
   ],
   "source": [
    "clf.predict(X_test)"
   ]
  },
  {
   "cell_type": "code",
   "execution_count": 25,
   "metadata": {},
   "outputs": [
    {
     "data": {
      "image/png": "[encoded data removed]",
      "text/plain": [
       "<Figure size 720x720 with 1 Axes>"
      ]
     },
     "metadata": {
      "needs_background": "light"
     },
     "output_type": "display_data"
    }
   ],
   "source": [
    "from sklearn.metrics import confusion_matrix\n",
    "from sklearn.metrics import precision_score, recall_score, f1_score, accuracy_score\n",
    "\n",
    "y_pred = clf.predict(X_test)\n",
    "#\n",
    "# Calculate the confusion matrix\n",
    "#\n",
    "conf_matrix = confusion_matrix(y_true=Y_test, y_pred=y_pred)\n",
    "#\n",
    "# Print the confusion matrix using Matplotlib\n",
    "#\n",
    "fig, ax = pl.subplots(figsize=(10, 10))\n",
    "ax.matshow(conf_matrix, cmap=pl.cm.Oranges, alpha=0.3)\n",
    "for i in range(conf_matrix.shape[0]):\n",
    "    for j in range(conf_matrix.shape[1]):\n",
    "        ax.text(x=j, y=i,s=conf_matrix[i, j], va='center', ha='center', size='xx-large')\n",
    " \n",
    "pl.xlabel('Predictions', fontsize=18)\n",
    "pl.ylabel('Actuals', fontsize=18)\n",
    "pl.title('Confusion Matrix', fontsize=18)\n",
    "pl.show()\n"
   ]
  },
  {
   "cell_type": "code",
   "execution_count": 27,
   "metadata": {},
   "outputs": [
    {
     "name": "stdout",
     "output_type": "stream",
     "text": [
      "accuracy:  0.8853984874927283\n",
      "precision:  0.9432918395573997\n",
      "recall:  0.8138424821002387\n",
      "f1:  0.8737988468930172\n",
      "area under curve (auc):  0.8836522285643077\n"
     ]
    }
   ],
   "source": [
    "from sklearn import metrics\n",
    "preds = clf.predict(X_test)\n",
    "# X_train, X_test, Y_train, Y_test\n",
    "targs = Y_test\n",
    "print(\"accuracy: \", metrics.accuracy_score(targs, preds))\n",
    "print(\"precision: \", metrics.precision_score(targs, preds)) \n",
    "print(\"recall: \", metrics.recall_score(targs, preds))\n",
    "print(\"f1: \", metrics.f1_score(targs, preds))\n",
    "print(\"area under curve (auc): \", metrics.roc_auc_score(targs, preds))\n",
    "test_preds = preds"
   ]
  },
  {
   "cell_type": "markdown",
   "metadata": {},
   "source": [
    "### PART 2: Alarm Box Tracts"
   ]
  },
  {
   "cell_type": "code",
   "execution_count": 29,
   "metadata": {},
   "outputs": [
    {
     "name": "stdout",
     "output_type": "stream",
     "text": [
      "Your browser has been opened to visit:\n",
      "\n",
      "    https://accounts.google.com/o/oauth2/auth?client_id=570719947456-53haph7mjc317oel1ujh0kmjbfd499jf.apps.googleusercontent.com&redirect_uri=http%3A%2F%2Flocalhost%3A8090%2F&scope=https%3A%2F%2Fwww.googleapis.com%2Fauth%2Fdrive&access_type=offline&response_type=code\n",
      "\n"
     ]
    },
    {
     "ename": "KeyboardInterrupt",
     "evalue": "",
     "output_type": "error",
     "traceback": [
      "\u001b[0;31m---------------------------------------------------------------------------\u001b[0m",
      "\u001b[0;31mKeyboardInterrupt\u001b[0m                         Traceback (most recent call last)",
      "\u001b[1;32m/Users/kai/Desktop/NYU Shanghai/NYU Shanghai Year 2/Semester 2/Web Design/GitHub/machine-learning-final/code/05_SVMs.ipynb Cell 21'\u001b[0m in \u001b[0;36m<cell line: 3>\u001b[0;34m()\u001b[0m\n\u001b[1;32m      <a href='vscode-notebook-cell:/Users/kai/Desktop/NYU%20Shanghai/NYU%20Shanghai%20Year%202/Semester%202/Web%20Design/GitHub/machine-learning-final/code/05_SVMs.ipynb#ch0000024?line=0'>1</a>\u001b[0m csv \u001b[39m=\u001b[39m drive\u001b[39m.\u001b[39mCreateFile({\u001b[39m'\u001b[39m\u001b[39mid\u001b[39m\u001b[39m'\u001b[39m: \u001b[39m'\u001b[39m\u001b[39m1Vzjvta98IG9Hg4SfAGcd8JD8FaF3IXwy\u001b[39m\u001b[39m'\u001b[39m})\n\u001b[1;32m      <a href='vscode-notebook-cell:/Users/kai/Desktop/NYU%20Shanghai/NYU%20Shanghai%20Year%202/Semester%202/Web%20Design/GitHub/machine-learning-final/code/05_SVMs.ipynb#ch0000024?line=1'>2</a>\u001b[0m \u001b[39m# Title: analysis_box.csv, ID: 1Vzjvta98IG9Hg4SfAGcd8JD8FaF3IXwy\u001b[39;00m\n\u001b[0;32m----> <a href='vscode-notebook-cell:/Users/kai/Desktop/NYU%20Shanghai/NYU%20Shanghai%20Year%202/Semester%202/Web%20Design/GitHub/machine-learning-final/code/05_SVMs.ipynb#ch0000024?line=2'>3</a>\u001b[0m csv\u001b[39m.\u001b[39;49mGetContentFile(\u001b[39m'\u001b[39;49m\u001b[39manalysis_box.csv\u001b[39;49m\u001b[39m'\u001b[39;49m)  \n\u001b[1;32m      <a href='vscode-notebook-cell:/Users/kai/Desktop/NYU%20Shanghai/NYU%20Shanghai%20Year%202/Semester%202/Web%20Design/GitHub/machine-learning-final/code/05_SVMs.ipynb#ch0000024?line=4'>5</a>\u001b[0m df \u001b[39m=\u001b[39m pd\u001b[39m.\u001b[39mread_csv(\u001b[39m'\u001b[39m\u001b[39manalysis_box.csv\u001b[39m\u001b[39m'\u001b[39m)\n",
      "File \u001b[0;32m/opt/homebrew/anaconda3/envs/geo_env/lib/python3.10/site-packages/pydrive/files.py:210\u001b[0m, in \u001b[0;36mGoogleDriveFile.GetContentFile\u001b[0;34m(self, filename, mimetype, remove_bom)\u001b[0m\n\u001b[1;32m    <a href='file:///opt/homebrew/anaconda3/envs/geo_env/lib/python3.10/site-packages/pydrive/files.py?line=196'>197</a>\u001b[0m \u001b[39m\"\"\"Save content of this file as a local file.\u001b[39;00m\n\u001b[1;32m    <a href='file:///opt/homebrew/anaconda3/envs/geo_env/lib/python3.10/site-packages/pydrive/files.py?line=197'>198</a>\u001b[0m \n\u001b[1;32m    <a href='file:///opt/homebrew/anaconda3/envs/geo_env/lib/python3.10/site-packages/pydrive/files.py?line=198'>199</a>\u001b[0m \u001b[39m:param filename: name of the file to write to.\u001b[39;00m\n\u001b[0;32m   (...)\u001b[0m\n\u001b[1;32m    <a href='file:///opt/homebrew/anaconda3/envs/geo_env/lib/python3.10/site-packages/pydrive/files.py?line=204'>205</a>\u001b[0m \u001b[39m:raises: ApiRequestError, FileNotUploadedError, FileNotDownloadableError\u001b[39;00m\n\u001b[1;32m    <a href='file:///opt/homebrew/anaconda3/envs/geo_env/lib/python3.10/site-packages/pydrive/files.py?line=205'>206</a>\u001b[0m \u001b[39m\"\"\"\u001b[39;00m\n\u001b[1;32m    <a href='file:///opt/homebrew/anaconda3/envs/geo_env/lib/python3.10/site-packages/pydrive/files.py?line=206'>207</a>\u001b[0m \u001b[39mif\u001b[39;00m \u001b[39mself\u001b[39m\u001b[39m.\u001b[39mcontent \u001b[39mis\u001b[39;00m \u001b[39mNone\u001b[39;00m \u001b[39mor\u001b[39;00m \\\n\u001b[1;32m    <a href='file:///opt/homebrew/anaconda3/envs/geo_env/lib/python3.10/site-packages/pydrive/files.py?line=207'>208</a>\u001b[0m                 \u001b[39mtype\u001b[39m(\u001b[39mself\u001b[39m\u001b[39m.\u001b[39mcontent) \u001b[39mis\u001b[39;00m \u001b[39mnot\u001b[39;00m io\u001b[39m.\u001b[39mBytesIO \u001b[39mor\u001b[39;00m \\\n\u001b[1;32m    <a href='file:///opt/homebrew/anaconda3/envs/geo_env/lib/python3.10/site-packages/pydrive/files.py?line=208'>209</a>\u001b[0m                 \u001b[39mself\u001b[39m\u001b[39m.\u001b[39mhas_bom \u001b[39m==\u001b[39m remove_bom:\n\u001b[0;32m--> <a href='file:///opt/homebrew/anaconda3/envs/geo_env/lib/python3.10/site-packages/pydrive/files.py?line=209'>210</a>\u001b[0m   \u001b[39mself\u001b[39;49m\u001b[39m.\u001b[39;49mFetchContent(mimetype, remove_bom)\n\u001b[1;32m    <a href='file:///opt/homebrew/anaconda3/envs/geo_env/lib/python3.10/site-packages/pydrive/files.py?line=210'>211</a>\u001b[0m f \u001b[39m=\u001b[39m \u001b[39mopen\u001b[39m(filename, \u001b[39m'\u001b[39m\u001b[39mwb\u001b[39m\u001b[39m'\u001b[39m)\n\u001b[1;32m    <a href='file:///opt/homebrew/anaconda3/envs/geo_env/lib/python3.10/site-packages/pydrive/files.py?line=211'>212</a>\u001b[0m f\u001b[39m.\u001b[39mwrite(\u001b[39mself\u001b[39m\u001b[39m.\u001b[39mcontent\u001b[39m.\u001b[39mgetvalue())\n",
      "File \u001b[0;32m/opt/homebrew/anaconda3/envs/geo_env/lib/python3.10/site-packages/pydrive/files.py:42\u001b[0m, in \u001b[0;36mLoadMetadata.<locals>._decorated\u001b[0;34m(self, *args, **kwargs)\u001b[0m\n\u001b[1;32m     <a href='file:///opt/homebrew/anaconda3/envs/geo_env/lib/python3.10/site-packages/pydrive/files.py?line=38'>39</a>\u001b[0m \u001b[39m@wraps\u001b[39m(decoratee)\n\u001b[1;32m     <a href='file:///opt/homebrew/anaconda3/envs/geo_env/lib/python3.10/site-packages/pydrive/files.py?line=39'>40</a>\u001b[0m \u001b[39mdef\u001b[39;00m \u001b[39m_decorated\u001b[39m(\u001b[39mself\u001b[39m, \u001b[39m*\u001b[39margs, \u001b[39m*\u001b[39m\u001b[39m*\u001b[39mkwargs):\n\u001b[1;32m     <a href='file:///opt/homebrew/anaconda3/envs/geo_env/lib/python3.10/site-packages/pydrive/files.py?line=40'>41</a>\u001b[0m   \u001b[39mif\u001b[39;00m \u001b[39mnot\u001b[39;00m \u001b[39mself\u001b[39m\u001b[39m.\u001b[39muploaded:\n\u001b[0;32m---> <a href='file:///opt/homebrew/anaconda3/envs/geo_env/lib/python3.10/site-packages/pydrive/files.py?line=41'>42</a>\u001b[0m     \u001b[39mself\u001b[39;49m\u001b[39m.\u001b[39;49mFetchMetadata()\n\u001b[1;32m     <a href='file:///opt/homebrew/anaconda3/envs/geo_env/lib/python3.10/site-packages/pydrive/files.py?line=42'>43</a>\u001b[0m   \u001b[39mreturn\u001b[39;00m decoratee(\u001b[39mself\u001b[39m, \u001b[39m*\u001b[39margs, \u001b[39m*\u001b[39m\u001b[39m*\u001b[39mkwargs)\n",
      "File \u001b[0;32m/opt/homebrew/anaconda3/envs/geo_env/lib/python3.10/site-packages/pydrive/auth.py:57\u001b[0m, in \u001b[0;36mLoadAuth.<locals>._decorated\u001b[0;34m(self, *args, **kwargs)\u001b[0m\n\u001b[1;32m     <a href='file:///opt/homebrew/anaconda3/envs/geo_env/lib/python3.10/site-packages/pydrive/auth.py?line=54'>55</a>\u001b[0m     \u001b[39mself\u001b[39m\u001b[39m.\u001b[39mauth\u001b[39m.\u001b[39mServiceAuth()\n\u001b[1;32m     <a href='file:///opt/homebrew/anaconda3/envs/geo_env/lib/python3.10/site-packages/pydrive/auth.py?line=55'>56</a>\u001b[0m   \u001b[39melse\u001b[39;00m:\n\u001b[0;32m---> <a href='file:///opt/homebrew/anaconda3/envs/geo_env/lib/python3.10/site-packages/pydrive/auth.py?line=56'>57</a>\u001b[0m     \u001b[39mself\u001b[39;49m\u001b[39m.\u001b[39;49mauth\u001b[39m.\u001b[39;49mLocalWebserverAuth()\n\u001b[1;32m     <a href='file:///opt/homebrew/anaconda3/envs/geo_env/lib/python3.10/site-packages/pydrive/auth.py?line=58'>59</a>\u001b[0m \u001b[39m# Initialise service if not built yet.\u001b[39;00m\n\u001b[1;32m     <a href='file:///opt/homebrew/anaconda3/envs/geo_env/lib/python3.10/site-packages/pydrive/auth.py?line=59'>60</a>\u001b[0m \u001b[39mif\u001b[39;00m \u001b[39mself\u001b[39m\u001b[39m.\u001b[39mauth\u001b[39m.\u001b[39mservice \u001b[39mis\u001b[39;00m \u001b[39mNone\u001b[39;00m:\n",
      "File \u001b[0;32m/opt/homebrew/anaconda3/envs/geo_env/lib/python3.10/site-packages/pydrive/auth.py:122\u001b[0m, in \u001b[0;36mCheckAuth.<locals>._decorated\u001b[0;34m(self, *args, **kwargs)\u001b[0m\n\u001b[1;32m    <a href='file:///opt/homebrew/anaconda3/envs/geo_env/lib/python3.10/site-packages/pydrive/auth.py?line=119'>120</a>\u001b[0m       \u001b[39mself\u001b[39m\u001b[39m.\u001b[39mRefresh()\n\u001b[1;32m    <a href='file:///opt/homebrew/anaconda3/envs/geo_env/lib/python3.10/site-packages/pydrive/auth.py?line=120'>121</a>\u001b[0m     \u001b[39melse\u001b[39;00m:\n\u001b[0;32m--> <a href='file:///opt/homebrew/anaconda3/envs/geo_env/lib/python3.10/site-packages/pydrive/auth.py?line=121'>122</a>\u001b[0m       code \u001b[39m=\u001b[39m decoratee(\u001b[39mself\u001b[39;49m, \u001b[39m*\u001b[39;49margs, \u001b[39m*\u001b[39;49m\u001b[39m*\u001b[39;49mkwargs)\n\u001b[1;32m    <a href='file:///opt/homebrew/anaconda3/envs/geo_env/lib/python3.10/site-packages/pydrive/auth.py?line=122'>123</a>\u001b[0m     dirty \u001b[39m=\u001b[39m \u001b[39mTrue\u001b[39;00m\n\u001b[1;32m    <a href='file:///opt/homebrew/anaconda3/envs/geo_env/lib/python3.10/site-packages/pydrive/auth.py?line=123'>124</a>\u001b[0m \u001b[39mif\u001b[39;00m code \u001b[39mis\u001b[39;00m \u001b[39mnot\u001b[39;00m \u001b[39mNone\u001b[39;00m:\n",
      "File \u001b[0;32m/opt/homebrew/anaconda3/envs/geo_env/lib/python3.10/site-packages/pydrive/auth.py:232\u001b[0m, in \u001b[0;36mGoogleAuth.LocalWebserverAuth\u001b[0;34m(self, host_name, port_numbers)\u001b[0m\n\u001b[1;32m    <a href='file:///opt/homebrew/anaconda3/envs/geo_env/lib/python3.10/site-packages/pydrive/auth.py?line=229'>230</a>\u001b[0m \u001b[39mprint\u001b[39m(\u001b[39m'\u001b[39m\u001b[39m    \u001b[39m\u001b[39m'\u001b[39m \u001b[39m+\u001b[39m authorize_url)\n\u001b[1;32m    <a href='file:///opt/homebrew/anaconda3/envs/geo_env/lib/python3.10/site-packages/pydrive/auth.py?line=230'>231</a>\u001b[0m \u001b[39mprint\u001b[39m()\n\u001b[0;32m--> <a href='file:///opt/homebrew/anaconda3/envs/geo_env/lib/python3.10/site-packages/pydrive/auth.py?line=231'>232</a>\u001b[0m httpd\u001b[39m.\u001b[39;49mhandle_request()\n\u001b[1;32m    <a href='file:///opt/homebrew/anaconda3/envs/geo_env/lib/python3.10/site-packages/pydrive/auth.py?line=232'>233</a>\u001b[0m \u001b[39mif\u001b[39;00m \u001b[39m'\u001b[39m\u001b[39merror\u001b[39m\u001b[39m'\u001b[39m \u001b[39min\u001b[39;00m httpd\u001b[39m.\u001b[39mquery_params:\n\u001b[1;32m    <a href='file:///opt/homebrew/anaconda3/envs/geo_env/lib/python3.10/site-packages/pydrive/auth.py?line=233'>234</a>\u001b[0m   \u001b[39mprint\u001b[39m(\u001b[39m'\u001b[39m\u001b[39mAuthentication request was rejected\u001b[39m\u001b[39m'\u001b[39m)\n",
      "File \u001b[0;32m/opt/homebrew/anaconda3/envs/geo_env/lib/python3.10/socketserver.py:294\u001b[0m, in \u001b[0;36mBaseServer.handle_request\u001b[0;34m(self)\u001b[0m\n\u001b[1;32m    <a href='file:///opt/homebrew/anaconda3/envs/geo_env/lib/python3.10/socketserver.py?line=290'>291</a>\u001b[0m selector\u001b[39m.\u001b[39mregister(\u001b[39mself\u001b[39m, selectors\u001b[39m.\u001b[39mEVENT_READ)\n\u001b[1;32m    <a href='file:///opt/homebrew/anaconda3/envs/geo_env/lib/python3.10/socketserver.py?line=292'>293</a>\u001b[0m \u001b[39mwhile\u001b[39;00m \u001b[39mTrue\u001b[39;00m:\n\u001b[0;32m--> <a href='file:///opt/homebrew/anaconda3/envs/geo_env/lib/python3.10/socketserver.py?line=293'>294</a>\u001b[0m     ready \u001b[39m=\u001b[39m selector\u001b[39m.\u001b[39;49mselect(timeout)\n\u001b[1;32m    <a href='file:///opt/homebrew/anaconda3/envs/geo_env/lib/python3.10/socketserver.py?line=294'>295</a>\u001b[0m     \u001b[39mif\u001b[39;00m ready:\n\u001b[1;32m    <a href='file:///opt/homebrew/anaconda3/envs/geo_env/lib/python3.10/socketserver.py?line=295'>296</a>\u001b[0m         \u001b[39mreturn\u001b[39;00m \u001b[39mself\u001b[39m\u001b[39m.\u001b[39m_handle_request_noblock()\n",
      "File \u001b[0;32m/opt/homebrew/anaconda3/envs/geo_env/lib/python3.10/selectors.py:416\u001b[0m, in \u001b[0;36m_PollLikeSelector.select\u001b[0;34m(self, timeout)\u001b[0m\n\u001b[1;32m    <a href='file:///opt/homebrew/anaconda3/envs/geo_env/lib/python3.10/selectors.py?line=413'>414</a>\u001b[0m ready \u001b[39m=\u001b[39m []\n\u001b[1;32m    <a href='file:///opt/homebrew/anaconda3/envs/geo_env/lib/python3.10/selectors.py?line=414'>415</a>\u001b[0m \u001b[39mtry\u001b[39;00m:\n\u001b[0;32m--> <a href='file:///opt/homebrew/anaconda3/envs/geo_env/lib/python3.10/selectors.py?line=415'>416</a>\u001b[0m     fd_event_list \u001b[39m=\u001b[39m \u001b[39mself\u001b[39;49m\u001b[39m.\u001b[39;49m_selector\u001b[39m.\u001b[39;49mpoll(timeout)\n\u001b[1;32m    <a href='file:///opt/homebrew/anaconda3/envs/geo_env/lib/python3.10/selectors.py?line=416'>417</a>\u001b[0m \u001b[39mexcept\u001b[39;00m \u001b[39mInterruptedError\u001b[39;00m:\n\u001b[1;32m    <a href='file:///opt/homebrew/anaconda3/envs/geo_env/lib/python3.10/selectors.py?line=417'>418</a>\u001b[0m     \u001b[39mreturn\u001b[39;00m ready\n",
      "\u001b[0;31mKeyboardInterrupt\u001b[0m: "
     ]
    }
   ],
   "source": [
    "csv = drive.CreateFile({'id': '1Vzjvta98IG9Hg4SfAGcd8JD8FaF3IXwy'})\n",
    "# Title: analysis_box.csv, ID: 1Vzjvta98IG9Hg4SfAGcd8JD8FaF3IXwy\n",
    "csv.GetContentFile('analysis_box.csv')  \n",
    "\n",
    "df = pd.read_csv('analysis_box.csv')"
   ]
  },
  {
   "cell_type": "code",
   "execution_count": null,
   "metadata": {},
   "outputs": [],
   "source": []
  }
 ],
 "metadata": {
  "interpreter": {
   "hash": "af5686e283958092440dcdf775f47c2182d5388add5813790c587b77c0150b91"
  },
  "kernelspec": {
   "display_name": "Python 3.10.4 ('geo_env')",
   "language": "python",
   "name": "python3"
  },
  "language_info": {
   "codemirror_mode": {
    "name": "ipython",
    "version": 3
   },
   "file_extension": ".py",
   "mimetype": "text/x-python",
   "name": "python",
   "nbconvert_exporter": "python",
   "pygments_lexer": "ipython3",
   "version": "3.10.4"
  },
  "orig_nbformat": 4
 },
 "nbformat": 4,
 "nbformat_minor": 2
}
