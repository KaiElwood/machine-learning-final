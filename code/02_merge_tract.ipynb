{
 "cells": [
  {
   "cell_type": "code",
   "execution_count": 4,
   "metadata": {},
   "outputs": [],
   "source": [
    "# setup\n",
    "import pandas as pd\n",
    "import numpy as np\n",
    "import matplotlib\n",
    "import matplotlib.pyplot as plt \n",
    "import requests\n",
    "import calendar\n",
    "import geopandas as gpd\n",
    "import os.path as os\n",
    "import scipy.stats\n",
    "import seaborn.palettes\n",
    "import seaborn.utils\n",
    "import sys\n",
    "from census import Census\n",
    "from us import states\n",
    "import http.client, urllib.request, urllib.parse, urllib.error, base64\n",
    "#import config\n",
    "import quickstart\n",
    "\n",
    "root= r\"C:/Users/Jennah/Desktop/Code/machine-learning-final\"\n",
    "inp= os.join(root, \"data\", \"2_intermediate\")\n",
    "out= os.join(root, \"data\", \"3_clean\")"
   ]
  },
  {
   "cell_type": "code",
   "execution_count": 5,
   "metadata": {
    "scrolled": true
   },
   "outputs": [
    {
     "name": "stdout",
     "output_type": "stream",
     "text": [
      "Your browser has been opened to visit:\n",
      "\n",
      "    https://accounts.google.com/o/oauth2/auth?client_id=570719947456-53haph7mjc317oel1ujh0kmjbfd499jf.apps.googleusercontent.com&redirect_uri=http%3A%2F%2Flocalhost%3A8080%2F&scope=https%3A%2F%2Fwww.googleapis.com%2Fauth%2Fdrive&access_type=offline&response_type=code\n",
      "\n",
      "Authentication successful.\n"
     ]
    }
   ],
   "source": [
    "from pydrive.auth import GoogleAuth\n",
    "\n",
    "gauth = GoogleAuth()\n",
    "gauth.LocalWebserverAuth() # Creates local webserver and auto handles authentication."
   ]
  },
  {
   "cell_type": "code",
   "execution_count": 3,
   "metadata": {},
   "outputs": [
    {
     "name": "stdout",
     "output_type": "stream",
     "text": [
      "Title: dob_2012_2022_v2.csv, ID: 1jZoaDMOWDgZZYdDZBIVPjElNhlvwx3IC\n",
      "Title: hpd_2012_2022_v2.csv, ID: 1t0b0k8yQtYouwoeY4fWPk7JWhFX12auZ\n",
      "Title: acs_2009_2019.csv, ID: 17PvjIPesTzugausfzMi7rTiXahTiHaH1\n",
      "Title: fire_dispatch_tracts.csv, ID: 1psGrpBmGmNHPwM4lsRyiDX9tX5cf_UsO\n",
      "Title: fire_dispatch.csv, ID: 1ulJlwpaezzq_aYV6jZzRWpmXLVlpO8qu\n",
      "Title: dev_permits.csv, ID: 1mH_X0bLa_a1r-hpzwz43HpC7fFcayufp\n",
      "Title: all_vacate.csv, ID: 1WfnTEjOaDNEb3E2vurXS_XkxJ0J1isdN\n",
      "Title: pluto_df.csv, ID: 1j2KR6Tpa4CTA0k1omVfE52UYlMBMz17o\n",
      "Title: fire_vacate.csv, ID: 11LV7007TbrVlfilkSvslDewQRZ9m0F-A\n",
      "Title: ll84_avgenergy.csv, ID: 1NOKtbGyL3_TBSMp_eqybVaQc67t33yuo\n",
      "Title: pluto_ct.csv, ID: 1ZLZZS79fi4Z0RFTNMRO6GfkNwughRuej\n",
      "Title: fire_tract_sum.csv, ID: 16PukYkHO7Fgtbx26vdfG2sdUfDGreUnq\n",
      "Title: fire_vacate_bbl.csv, ID: 1caDnIMowquAoJuZi1tDlyEqAS4HhXiU0\n",
      "Title: speculation_hpd.csv, ID: 1yf86QR6yv2Z9Q6WNINW87RASUsdHPDl6\n",
      "Title: dob_2012_2022.csv, ID: 1vBwNTewjAQcDOLDWIh8ZYerUJRLYKqFs\n",
      "Title: hpd_2012_2022_raw.csv, ID: 18bAcCa68UVpH_FpIlFqNxG6pxb-UFD9g\n",
      "Title: vac_pluto.csv, ID: 1MOBs-Mjgt8T-uEkbZht7X97u_NFGhyE5\n"
     ]
    }
   ],
   "source": [
    "from pydrive.drive import GoogleDrive\n",
    "drive = GoogleDrive(gauth)\n",
    "fileList = drive.ListFile({'q': \"'1kiYbPtSYavHQKzyMWtXaLhP-JM2toXRm' in parents and trashed=false\"}).GetList()\n",
    "for file in fileList:\n",
    "  print('Title: %s, ID: %s' % (file['title'], file['id']))\n",
    "  # Get the folder ID that you want\n",
    "  if(file['title'] == \"To Share\"):\n",
    "      fileID = file['id']"
   ]
  },
  {
   "cell_type": "markdown",
   "metadata": {},
   "source": [
    "# Load Fire Dispatch Data"
   ]
  },
  {
   "cell_type": "code",
   "execution_count": 5,
   "metadata": {},
   "outputs": [
    {
     "data": {
      "text/html": [
       "<div>\n",
       "<style scoped>\n",
       "    .dataframe tbody tr th:only-of-type {\n",
       "        vertical-align: middle;\n",
       "    }\n",
       "\n",
       "    .dataframe tbody tr th {\n",
       "        vertical-align: top;\n",
       "    }\n",
       "\n",
       "    .dataframe thead th {\n",
       "        text-align: right;\n",
       "    }\n",
       "</style>\n",
       "<table border=\"1\" class=\"dataframe\">\n",
       "  <thead>\n",
       "    <tr style=\"text-align: right;\">\n",
       "      <th></th>\n",
       "      <th>boroct2010</th>\n",
       "      <th>engines_assigned_quantity</th>\n",
       "      <th>ladders_assigned_quantity</th>\n",
       "      <th>dispatch_response_seconds_qy</th>\n",
       "      <th>num_fire_ev</th>\n",
       "    </tr>\n",
       "  </thead>\n",
       "  <tbody>\n",
       "    <tr>\n",
       "      <th>0</th>\n",
       "      <td>1000201</td>\n",
       "      <td>3.218978</td>\n",
       "      <td>2.094891</td>\n",
       "      <td>34.591241</td>\n",
       "      <td>139</td>\n",
       "    </tr>\n",
       "    <tr>\n",
       "      <th>1</th>\n",
       "      <td>1000202</td>\n",
       "      <td>3.271817</td>\n",
       "      <td>2.160229</td>\n",
       "      <td>39.273247</td>\n",
       "      <td>699</td>\n",
       "    </tr>\n",
       "    <tr>\n",
       "      <th>2</th>\n",
       "      <td>1000600</td>\n",
       "      <td>3.083815</td>\n",
       "      <td>2.089595</td>\n",
       "      <td>38.008671</td>\n",
       "      <td>346</td>\n",
       "    </tr>\n",
       "    <tr>\n",
       "      <th>3</th>\n",
       "      <td>1000700</td>\n",
       "      <td>2.450000</td>\n",
       "      <td>1.787500</td>\n",
       "      <td>43.131250</td>\n",
       "      <td>163</td>\n",
       "    </tr>\n",
       "    <tr>\n",
       "      <th>4</th>\n",
       "      <td>1000800</td>\n",
       "      <td>3.222222</td>\n",
       "      <td>2.093567</td>\n",
       "      <td>39.330409</td>\n",
       "      <td>344</td>\n",
       "    </tr>\n",
       "  </tbody>\n",
       "</table>\n",
       "</div>"
      ],
      "text/plain": [
       "  boroct2010  engines_assigned_quantity  ladders_assigned_quantity  \\\n",
       "0    1000201                   3.218978                   2.094891   \n",
       "1    1000202                   3.271817                   2.160229   \n",
       "2    1000600                   3.083815                   2.089595   \n",
       "3    1000700                   2.450000                   1.787500   \n",
       "4    1000800                   3.222222                   2.093567   \n",
       "\n",
       "   dispatch_response_seconds_qy  num_fire_ev  \n",
       "0                     34.591241          139  \n",
       "1                     39.273247          699  \n",
       "2                     38.008671          346  \n",
       "3                     43.131250          163  \n",
       "4                     39.330409          344  "
      ]
     },
     "execution_count": 5,
     "metadata": {},
     "output_type": "execute_result"
    }
   ],
   "source": [
    "fires = drive.CreateFile({'id': '16PukYkHO7Fgtbx26vdfG2sdUfDGreUnq'})\n",
    "fires.GetContentFile('fire_dispatch.csv')  \n",
    "\n",
    "df= pd.read_csv('fire_dispatch.csv').drop(\"Unnamed: 0\", axis = 1).rename({\"BoroCT2010\":\"boroct2010\"}, axis = 1)\n",
    "df[\"boroct2010\"]= df[\"boroct2010\"].astype(str)\n",
    "df.head()"
   ]
  },
  {
   "cell_type": "markdown",
   "metadata": {},
   "source": [
    "## Load PLUTO (Tract Average/Sum)"
   ]
  },
  {
   "cell_type": "code",
   "execution_count": 6,
   "metadata": {},
   "outputs": [
    {
     "data": {
      "text/html": [
       "<div>\n",
       "<style scoped>\n",
       "    .dataframe tbody tr th:only-of-type {\n",
       "        vertical-align: middle;\n",
       "    }\n",
       "\n",
       "    .dataframe tbody tr th {\n",
       "        vertical-align: top;\n",
       "    }\n",
       "\n",
       "    .dataframe thead th {\n",
       "        text-align: right;\n",
       "    }\n",
       "</style>\n",
       "<table border=\"1\" class=\"dataframe\">\n",
       "  <thead>\n",
       "    <tr style=\"text-align: right;\">\n",
       "      <th></th>\n",
       "      <th>ct2010</th>\n",
       "      <th>lotarea</th>\n",
       "      <th>bldgarea</th>\n",
       "      <th>numbldgs</th>\n",
       "      <th>numfloors</th>\n",
       "      <th>unitsres</th>\n",
       "      <th>unitstotal</th>\n",
       "      <th>assessland</th>\n",
       "      <th>assesstot</th>\n",
       "      <th>exempttot</th>\n",
       "      <th>yearbuilt</th>\n",
       "      <th>holc_AB</th>\n",
       "      <th>holc_CD</th>\n",
       "      <th>holc_D</th>\n",
       "      <th>bldgclass</th>\n",
       "      <th>landuse</th>\n",
       "    </tr>\n",
       "  </thead>\n",
       "  <tbody>\n",
       "    <tr>\n",
       "      <th>0</th>\n",
       "      <td>1.00</td>\n",
       "      <td>7481.995708</td>\n",
       "      <td>54564.699571</td>\n",
       "      <td>1.171674</td>\n",
       "      <td>6.480687</td>\n",
       "      <td>48.630901</td>\n",
       "      <td>50.030043</td>\n",
       "      <td>4.251514e+05</td>\n",
       "      <td>4.228507e+06</td>\n",
       "      <td>2.936200e+06</td>\n",
       "      <td>1887.223176</td>\n",
       "      <td>0.484979</td>\n",
       "      <td>0.381974</td>\n",
       "      <td>0.381974</td>\n",
       "      <td>A4</td>\n",
       "      <td>1.0</td>\n",
       "    </tr>\n",
       "    <tr>\n",
       "      <th>1</th>\n",
       "      <td>2.00</td>\n",
       "      <td>2537.735795</td>\n",
       "      <td>2148.512784</td>\n",
       "      <td>1.213778</td>\n",
       "      <td>2.086832</td>\n",
       "      <td>1.924716</td>\n",
       "      <td>1.985795</td>\n",
       "      <td>1.230113e+04</td>\n",
       "      <td>5.077698e+04</td>\n",
       "      <td>2.521578e+03</td>\n",
       "      <td>1940.862926</td>\n",
       "      <td>0.000000</td>\n",
       "      <td>0.991477</td>\n",
       "      <td>0.358665</td>\n",
       "      <td>B2</td>\n",
       "      <td>1.0</td>\n",
       "    </tr>\n",
       "    <tr>\n",
       "      <th>2</th>\n",
       "      <td>2.01</td>\n",
       "      <td>9834.592593</td>\n",
       "      <td>34004.333333</td>\n",
       "      <td>1.111111</td>\n",
       "      <td>6.000000</td>\n",
       "      <td>38.629630</td>\n",
       "      <td>39.481481</td>\n",
       "      <td>4.172500e+05</td>\n",
       "      <td>2.380184e+06</td>\n",
       "      <td>1.576786e+06</td>\n",
       "      <td>1908.962963</td>\n",
       "      <td>0.000000</td>\n",
       "      <td>0.962963</td>\n",
       "      <td>0.962963</td>\n",
       "      <td>C4</td>\n",
       "      <td>2.0</td>\n",
       "    </tr>\n",
       "    <tr>\n",
       "      <th>3</th>\n",
       "      <td>2.02</td>\n",
       "      <td>47680.541667</td>\n",
       "      <td>131918.791667</td>\n",
       "      <td>2.000000</td>\n",
       "      <td>8.072917</td>\n",
       "      <td>143.416667</td>\n",
       "      <td>144.833333</td>\n",
       "      <td>1.553912e+06</td>\n",
       "      <td>7.543499e+06</td>\n",
       "      <td>4.247797e+06</td>\n",
       "      <td>1923.791667</td>\n",
       "      <td>0.000000</td>\n",
       "      <td>0.916667</td>\n",
       "      <td>0.916667</td>\n",
       "      <td>D4</td>\n",
       "      <td>[3. 4.]</td>\n",
       "    </tr>\n",
       "    <tr>\n",
       "      <th>4</th>\n",
       "      <td>3.00</td>\n",
       "      <td>11368.606061</td>\n",
       "      <td>21258.590909</td>\n",
       "      <td>1.045455</td>\n",
       "      <td>3.333333</td>\n",
       "      <td>18.757576</td>\n",
       "      <td>19.318182</td>\n",
       "      <td>1.095267e+05</td>\n",
       "      <td>6.323296e+05</td>\n",
       "      <td>1.716179e+05</td>\n",
       "      <td>1906.151515</td>\n",
       "      <td>0.000000</td>\n",
       "      <td>0.712121</td>\n",
       "      <td>0.651515</td>\n",
       "      <td>B2</td>\n",
       "      <td>[2. 4.]</td>\n",
       "    </tr>\n",
       "  </tbody>\n",
       "</table>\n",
       "</div>"
      ],
      "text/plain": [
       "   ct2010       lotarea       bldgarea  numbldgs  numfloors    unitsres  \\\n",
       "0    1.00   7481.995708   54564.699571  1.171674   6.480687   48.630901   \n",
       "1    2.00   2537.735795    2148.512784  1.213778   2.086832    1.924716   \n",
       "2    2.01   9834.592593   34004.333333  1.111111   6.000000   38.629630   \n",
       "3    2.02  47680.541667  131918.791667  2.000000   8.072917  143.416667   \n",
       "4    3.00  11368.606061   21258.590909  1.045455   3.333333   18.757576   \n",
       "\n",
       "   unitstotal    assessland     assesstot     exempttot    yearbuilt  \\\n",
       "0   50.030043  4.251514e+05  4.228507e+06  2.936200e+06  1887.223176   \n",
       "1    1.985795  1.230113e+04  5.077698e+04  2.521578e+03  1940.862926   \n",
       "2   39.481481  4.172500e+05  2.380184e+06  1.576786e+06  1908.962963   \n",
       "3  144.833333  1.553912e+06  7.543499e+06  4.247797e+06  1923.791667   \n",
       "4   19.318182  1.095267e+05  6.323296e+05  1.716179e+05  1906.151515   \n",
       "\n",
       "    holc_AB   holc_CD    holc_D bldgclass  landuse  \n",
       "0  0.484979  0.381974  0.381974        A4      1.0  \n",
       "1  0.000000  0.991477  0.358665        B2      1.0  \n",
       "2  0.000000  0.962963  0.962963        C4      2.0  \n",
       "3  0.000000  0.916667  0.916667        D4  [3. 4.]  \n",
       "4  0.000000  0.712121  0.651515        B2  [2. 4.]  "
      ]
     },
     "execution_count": 6,
     "metadata": {},
     "output_type": "execute_result"
    }
   ],
   "source": [
    "csv = drive.CreateFile({'id': '1ZLZZS79fi4Z0RFTNMRO6GfkNwughRuej'})\n",
    "csv.GetContentFile('pluto.csv')  \n",
    "\n",
    "pluto= pd.read_csv('pluto.csv')\n",
    "pluto.head()"
   ]
  },
  {
   "cell_type": "code",
   "execution_count": 7,
   "metadata": {},
   "outputs": [
    {
     "data": {
      "text/plain": [
       "Index(['ct2010', 'lotarea', 'bldgarea', 'numbldgs', 'numfloors', 'unitsres',\n",
       "       'unitstotal', 'assessland', 'assesstot', 'exempttot', 'yearbuilt',\n",
       "       'holc_AB', 'holc_CD', 'holc_D', 'landuse_2.0', 'landuse_1.0',\n",
       "       'landuse_3.0', 'landuse_4.0', 'bldgclass_R1', 'bldgclass_A9',\n",
       "       'bldgclass_B3', 'bldgclass_A5', 'bldgclass_B2', 'bldgclass_C0',\n",
       "       'bldgclass_C2', 'bldgclass_A1', 'bldgclass_A3', 'bldgclass_B1',\n",
       "       'bldgclass_R4', 'bldgclass_R6', 'bldgclass_B9', 'bldgclass_C1',\n",
       "       'bldgclass_R3', 'bldgclass_A7', 'bldgclass_S2', 'bldgclass_D1',\n",
       "       'bldgclass_A0', 'bldgclass_D7', 'bldgclass_C3', 'bldgclass_D6',\n",
       "       'bldgclass_RM', 'bldgclass_R2', 'bldgclass_S4', 'bldgclass_A2',\n",
       "       'bldgclass_S1', 'bldgclass_S9', 'bldgclass_RR', 'bldgclass_C7',\n",
       "       'bldgclass_C4', 'bldgclass_K4', 'bldgclass_S3', 'bldgclass_C5',\n",
       "       'bldgclass_C6', 'bldgclass_D4', 'bldgclass_RD', 'bldgclass_D3',\n",
       "       'bldgclass_A4', 'bldgclass_D8', 'bldgclass_S5', 'bldgclass_S0',\n",
       "       'bldgclass_Z0', 'bldgclass_O8', 'bldgclass_D5', 'bldgclass_C9',\n",
       "       'bldgclass_R9', 'bldgclass_A6', 'bldgclass_D0', 'bldgclass_D9',\n",
       "       'bldgclass_RX', 'bldgclass_D2', 'bldgclass_A8', 'bldgclass_C8',\n",
       "       'bldgclass_H6', 'bldgclass_RZ', 'bldgclass_R8', 'bldgclass_H7',\n",
       "       'bldgclass_CM', 'bldgclass', 'landuse'],\n",
       "      dtype='object')"
      ]
     },
     "execution_count": 7,
     "metadata": {},
     "output_type": "execute_result"
    }
   ],
   "source": [
    "pluto= pd.read_csv(os.join(inp, \"pluto_ct.csv\"))\n",
    "pluto.head().columns"
   ]
  },
  {
   "cell_type": "code",
   "execution_count": 9,
   "metadata": {},
   "outputs": [
    {
     "ename": "KeyError",
     "evalue": "'borough'",
     "output_type": "error",
     "traceback": [
      "\u001b[1;31m---------------------------------------------------------------------------\u001b[0m",
      "\u001b[1;31mKeyError\u001b[0m                                  Traceback (most recent call last)",
      "\u001b[1;32m~\\anaconda3\\envs\\geo_env\\lib\\site-packages\\pandas\\core\\indexes\\base.py\u001b[0m in \u001b[0;36mget_loc\u001b[1;34m(self, key, method, tolerance)\u001b[0m\n\u001b[0;32m   3360\u001b[0m             \u001b[1;32mtry\u001b[0m\u001b[1;33m:\u001b[0m\u001b[1;33m\u001b[0m\u001b[1;33m\u001b[0m\u001b[0m\n\u001b[1;32m-> 3361\u001b[1;33m                 \u001b[1;32mreturn\u001b[0m \u001b[0mself\u001b[0m\u001b[1;33m.\u001b[0m\u001b[0m_engine\u001b[0m\u001b[1;33m.\u001b[0m\u001b[0mget_loc\u001b[0m\u001b[1;33m(\u001b[0m\u001b[0mcasted_key\u001b[0m\u001b[1;33m)\u001b[0m\u001b[1;33m\u001b[0m\u001b[1;33m\u001b[0m\u001b[0m\n\u001b[0m\u001b[0;32m   3362\u001b[0m             \u001b[1;32mexcept\u001b[0m \u001b[0mKeyError\u001b[0m \u001b[1;32mas\u001b[0m \u001b[0merr\u001b[0m\u001b[1;33m:\u001b[0m\u001b[1;33m\u001b[0m\u001b[1;33m\u001b[0m\u001b[0m\n",
      "\u001b[1;32m~\\anaconda3\\envs\\geo_env\\lib\\site-packages\\pandas\\_libs\\index.pyx\u001b[0m in \u001b[0;36mpandas._libs.index.IndexEngine.get_loc\u001b[1;34m()\u001b[0m\n",
      "\u001b[1;32m~\\anaconda3\\envs\\geo_env\\lib\\site-packages\\pandas\\_libs\\index.pyx\u001b[0m in \u001b[0;36mpandas._libs.index.IndexEngine.get_loc\u001b[1;34m()\u001b[0m\n",
      "\u001b[1;32mpandas\\_libs\\hashtable_class_helper.pxi\u001b[0m in \u001b[0;36mpandas._libs.hashtable.PyObjectHashTable.get_item\u001b[1;34m()\u001b[0m\n",
      "\u001b[1;32mpandas\\_libs\\hashtable_class_helper.pxi\u001b[0m in \u001b[0;36mpandas._libs.hashtable.PyObjectHashTable.get_item\u001b[1;34m()\u001b[0m\n",
      "\u001b[1;31mKeyError\u001b[0m: 'borough'",
      "\nThe above exception was the direct cause of the following exception:\n",
      "\u001b[1;31mKeyError\u001b[0m                                  Traceback (most recent call last)",
      "\u001b[1;32m~\\AppData\\Local\\Temp/ipykernel_33160/2014690328.py\u001b[0m in \u001b[0;36m<module>\u001b[1;34m\u001b[0m\n\u001b[1;32m----> 1\u001b[1;33m \u001b[0mpluto\u001b[0m\u001b[1;33m[\u001b[0m\u001b[1;34m\"boroct2010\"\u001b[0m\u001b[1;33m]\u001b[0m\u001b[1;33m=\u001b[0m \u001b[0mpluto\u001b[0m\u001b[1;33m[\u001b[0m\u001b[1;34m\"borough\"\u001b[0m\u001b[1;33m]\u001b[0m \u001b[1;33m+\u001b[0m \u001b[0mpluto\u001b[0m\u001b[1;33m[\u001b[0m\u001b[1;34m\"ct2010\"\u001b[0m\u001b[1;33m]\u001b[0m\u001b[1;33m.\u001b[0m\u001b[0mastype\u001b[0m\u001b[1;33m(\u001b[0m\u001b[0mstr\u001b[0m\u001b[1;33m)\u001b[0m\u001b[1;33m.\u001b[0m\u001b[0mstr\u001b[0m\u001b[1;33m.\u001b[0m\u001b[0mreplace\u001b[0m\u001b[1;33m(\u001b[0m\u001b[1;34m\".\"\u001b[0m\u001b[1;33m,\u001b[0m \u001b[1;34m\"\"\u001b[0m\u001b[1;33m,\u001b[0m \u001b[0mregex\u001b[0m \u001b[1;33m=\u001b[0m \u001b[1;32mFalse\u001b[0m\u001b[1;33m)\u001b[0m\u001b[1;33m.\u001b[0m\u001b[0mstr\u001b[0m\u001b[1;33m.\u001b[0m\u001b[0mpad\u001b[0m\u001b[1;33m(\u001b[0m\u001b[0mwidth\u001b[0m \u001b[1;33m=\u001b[0m \u001b[1;36m6\u001b[0m\u001b[1;33m,\u001b[0m \u001b[0mfillchar\u001b[0m \u001b[1;33m=\u001b[0m \u001b[1;34m\"0\"\u001b[0m\u001b[1;33m)\u001b[0m\u001b[1;33m\u001b[0m\u001b[1;33m\u001b[0m\u001b[0m\n\u001b[0m",
      "\u001b[1;32m~\\anaconda3\\envs\\geo_env\\lib\\site-packages\\pandas\\core\\frame.py\u001b[0m in \u001b[0;36m__getitem__\u001b[1;34m(self, key)\u001b[0m\n\u001b[0;32m   3456\u001b[0m             \u001b[1;32mif\u001b[0m \u001b[0mself\u001b[0m\u001b[1;33m.\u001b[0m\u001b[0mcolumns\u001b[0m\u001b[1;33m.\u001b[0m\u001b[0mnlevels\u001b[0m \u001b[1;33m>\u001b[0m \u001b[1;36m1\u001b[0m\u001b[1;33m:\u001b[0m\u001b[1;33m\u001b[0m\u001b[1;33m\u001b[0m\u001b[0m\n\u001b[0;32m   3457\u001b[0m                 \u001b[1;32mreturn\u001b[0m \u001b[0mself\u001b[0m\u001b[1;33m.\u001b[0m\u001b[0m_getitem_multilevel\u001b[0m\u001b[1;33m(\u001b[0m\u001b[0mkey\u001b[0m\u001b[1;33m)\u001b[0m\u001b[1;33m\u001b[0m\u001b[1;33m\u001b[0m\u001b[0m\n\u001b[1;32m-> 3458\u001b[1;33m             \u001b[0mindexer\u001b[0m \u001b[1;33m=\u001b[0m \u001b[0mself\u001b[0m\u001b[1;33m.\u001b[0m\u001b[0mcolumns\u001b[0m\u001b[1;33m.\u001b[0m\u001b[0mget_loc\u001b[0m\u001b[1;33m(\u001b[0m\u001b[0mkey\u001b[0m\u001b[1;33m)\u001b[0m\u001b[1;33m\u001b[0m\u001b[1;33m\u001b[0m\u001b[0m\n\u001b[0m\u001b[0;32m   3459\u001b[0m             \u001b[1;32mif\u001b[0m \u001b[0mis_integer\u001b[0m\u001b[1;33m(\u001b[0m\u001b[0mindexer\u001b[0m\u001b[1;33m)\u001b[0m\u001b[1;33m:\u001b[0m\u001b[1;33m\u001b[0m\u001b[1;33m\u001b[0m\u001b[0m\n\u001b[0;32m   3460\u001b[0m                 \u001b[0mindexer\u001b[0m \u001b[1;33m=\u001b[0m \u001b[1;33m[\u001b[0m\u001b[0mindexer\u001b[0m\u001b[1;33m]\u001b[0m\u001b[1;33m\u001b[0m\u001b[1;33m\u001b[0m\u001b[0m\n",
      "\u001b[1;32m~\\anaconda3\\envs\\geo_env\\lib\\site-packages\\pandas\\core\\indexes\\base.py\u001b[0m in \u001b[0;36mget_loc\u001b[1;34m(self, key, method, tolerance)\u001b[0m\n\u001b[0;32m   3361\u001b[0m                 \u001b[1;32mreturn\u001b[0m \u001b[0mself\u001b[0m\u001b[1;33m.\u001b[0m\u001b[0m_engine\u001b[0m\u001b[1;33m.\u001b[0m\u001b[0mget_loc\u001b[0m\u001b[1;33m(\u001b[0m\u001b[0mcasted_key\u001b[0m\u001b[1;33m)\u001b[0m\u001b[1;33m\u001b[0m\u001b[1;33m\u001b[0m\u001b[0m\n\u001b[0;32m   3362\u001b[0m             \u001b[1;32mexcept\u001b[0m \u001b[0mKeyError\u001b[0m \u001b[1;32mas\u001b[0m \u001b[0merr\u001b[0m\u001b[1;33m:\u001b[0m\u001b[1;33m\u001b[0m\u001b[1;33m\u001b[0m\u001b[0m\n\u001b[1;32m-> 3363\u001b[1;33m                 \u001b[1;32mraise\u001b[0m \u001b[0mKeyError\u001b[0m\u001b[1;33m(\u001b[0m\u001b[0mkey\u001b[0m\u001b[1;33m)\u001b[0m \u001b[1;32mfrom\u001b[0m \u001b[0merr\u001b[0m\u001b[1;33m\u001b[0m\u001b[1;33m\u001b[0m\u001b[0m\n\u001b[0m\u001b[0;32m   3364\u001b[0m \u001b[1;33m\u001b[0m\u001b[0m\n\u001b[0;32m   3365\u001b[0m         \u001b[1;32mif\u001b[0m \u001b[0mis_scalar\u001b[0m\u001b[1;33m(\u001b[0m\u001b[0mkey\u001b[0m\u001b[1;33m)\u001b[0m \u001b[1;32mand\u001b[0m \u001b[0misna\u001b[0m\u001b[1;33m(\u001b[0m\u001b[0mkey\u001b[0m\u001b[1;33m)\u001b[0m \u001b[1;32mand\u001b[0m \u001b[1;32mnot\u001b[0m \u001b[0mself\u001b[0m\u001b[1;33m.\u001b[0m\u001b[0mhasnans\u001b[0m\u001b[1;33m:\u001b[0m\u001b[1;33m\u001b[0m\u001b[1;33m\u001b[0m\u001b[0m\n",
      "\u001b[1;31mKeyError\u001b[0m: 'borough'"
     ]
    }
   ],
   "source": [
    "pluto[\"boroct2010\"]= pluto[\"borough\"] + pluto[\"ct2010\"].astype(str).str.replace(\".\", \"\", regex = False).str.pad(width = 6, fillchar = \"0\")"
   ]
  },
  {
   "cell_type": "code",
   "execution_count": null,
   "metadata": {},
   "outputs": [],
   "source": [
    "# left join from pluto to capture all census tracts\n",
    "df_pl= pluto.merge(df, how = \"outer\", on = \"boroct2010\", indicator = True)\n",
    "print(df_pl[\"_merge\"].value_counts())\n",
    "df_pl.drop(\"_merge\", axis = 1, inplace = True)"
   ]
  },
  {
   "cell_type": "code",
   "execution_count": null,
   "metadata": {},
   "outputs": [],
   "source": [
    "# fill missing values\n",
    "df_pl[[\"engines_assigned_quantity\", \"ladders_assigned_quantity\", \"dispatch_response_seconds_qy\", \"num_fire_ev\"]]= \\\n",
    "    df_pl[[\"engines_assigned_quantity\", \"ladders_assigned_quantity\", \"dispatch_response_seconds_qy\", \"num_fire_ev\"]].fillna(0)"
   ]
  },
  {
   "cell_type": "code",
   "execution_count": null,
   "metadata": {},
   "outputs": [],
   "source": [
    "df_pl[\"boroct_alt\"]= df_pl[\"borough\"] + df_pl[\"ct2010\"].astype(str).str.replace(\".00\", \"\", regex = False).str.replace(\".\", \"\", regex = False).str.pad(width = 6, fillchar = \"0\")"
   ]
  },
  {
   "cell_type": "markdown",
   "metadata": {},
   "source": [
    "## Load HPD Violations"
   ]
  },
  {
   "cell_type": "code",
   "execution_count": null,
   "metadata": {},
   "outputs": [],
   "source": [
    "csv = drive.CreateFile({'id': '1wuKDto3UeOAoSZW2-ALnlFndKfSQYtrC'})\n",
    "csv.GetContentFile('hpd.csv')  \n",
    "\n",
    "hpd= pd.read_csv('hpd.csv')\n",
    "hpd.head()"
   ]
  },
  {
   "cell_type": "code",
   "execution_count": null,
   "metadata": {},
   "outputs": [],
   "source": [
    "hpd= hpd.rename({\"HPD_Count\":\"hpd_viol_count\"}, axis = 1)\n",
    "hpd[\"boroct_alt\"]= hpd[\"BoroID\"].astype(str) + hpd[\"CensusTract\"].astype(str).str.pad(width = 6, fillchar = \"0\")\n",
    "hpd[\"boroct_alt\"]"
   ]
  },
  {
   "cell_type": "code",
   "execution_count": null,
   "metadata": {},
   "outputs": [],
   "source": [
    "# left join from pluto to capture all census tracts\n",
    "df_hpd= df_pl.merge(hpd, how = \"left\", on = \"boroct_alt\", indicator = True)\n",
    "print(df_hpd[\"_merge\"].value_counts())\n",
    "df_hpd.drop(\"_merge\", axis = 1, inplace = True)"
   ]
  },
  {
   "cell_type": "markdown",
   "metadata": {},
   "source": [
    "## Load PLUTO data and compute neighborhood averages"
   ]
  },
  {
   "cell_type": "code",
   "execution_count": null,
   "metadata": {},
   "outputs": [],
   "source": [
    "analysis_bbl= pd.read_csv(os.join(out, \"analysis_bbl.csv\")).drop(\"Unnamed: 0\", axis = 1)\n",
    "analysis_bbl[\"boroid\"]= np.select( [analysis_bbl[\"borough\"] == \"QN\",\\\n",
    "                               analysis_bbl[\"borough\"] == \"MN\",\\\n",
    "                               analysis_bbl[\"borough\"] == \"BX\",\\\n",
    "                               analysis_bbl[\"borough\"] == \"BK\",\\\n",
    "                               analysis_bbl[\"borough\"] == \"SI\"], [\"4\", \"1\", \"2\", \"3\", \"5\"])\n",
    "analysis_bbl[\"boroct2010\"]= analysis_bbl[\"boroid\"] + analysis_bbl[\"ct2010\"].astype(str).str.replace(\".00\", \"\", regex = False).str.replace(\".\", \"\", regex = False).str.pad(width = 6, fillchar = \"0\")"
   ]
  },
  {
   "cell_type": "code",
   "execution_count": null,
   "metadata": {},
   "outputs": [],
   "source": [
    "analysis_bbl.head()"
   ]
  },
  {
   "cell_type": "code",
   "execution_count": null,
   "metadata": {},
   "outputs": [],
   "source": [
    "meancols= [\"viol_count_per_unit\", \"AL\", 'NB', \"average_energy_usage\", \"average_energy_usage_mi\"]\n",
    "analysis_collapse= analysis_bbl.groupby(\"boroct2010\")[meancols].mean().fillna(0).reset_index()\n",
    "analysis_collapse.head()"
   ]
  },
  {
   "cell_type": "code",
   "execution_count": null,
   "metadata": {},
   "outputs": [],
   "source": [
    "# left join\n",
    "analysis_tract= df_hpd.merge(analysis_collapse, how = \"left\", on = \"boroct2010\", indicator = True)\n",
    "print(analysis_tract[\"_merge\"].value_counts())\n",
    "analysis_tract.drop(\"_merge\", axis = 1, inplace = True)"
   ]
  },
  {
   "cell_type": "code",
   "execution_count": null,
   "metadata": {},
   "outputs": [],
   "source": [
    "analysis_tract= analysis_tract.drop(analysis_tract[analysis_tract[\"ct2010\"].isna()].index, axis = 0)"
   ]
  },
  {
   "cell_type": "code",
   "execution_count": null,
   "metadata": {},
   "outputs": [],
   "source": [
    "analysis_tract.head()"
   ]
  },
  {
   "cell_type": "markdown",
   "metadata": {},
   "source": [
    "## Export analytic file"
   ]
  },
  {
   "cell_type": "code",
   "execution_count": null,
   "metadata": {},
   "outputs": [],
   "source": [
    "analysis_tract.to_csv(os.join(root, \"data\", \"3_clean\", \"analysis_tract.csv\"))"
   ]
  },
  {
   "cell_type": "code",
   "execution_count": null,
   "metadata": {},
   "outputs": [],
   "source": []
  }
 ],
 "metadata": {
  "colab": {
   "authorship_tag": "ABX9TyMorEa7Z8ODUCEPTOlT1br+",
   "collapsed_sections": [],
   "include_colab_link": true,
   "name": "nyc fire risk",
   "provenance": []
  },
  "kernelspec": {
   "display_name": "geo_env",
   "language": "python",
   "name": "geo_env"
  },
  "language_info": {
   "codemirror_mode": {
    "name": "ipython",
    "version": 3
   },
   "file_extension": ".py",
   "mimetype": "text/x-python",
   "name": "python",
   "nbconvert_exporter": "python",
   "pygments_lexer": "ipython3",
   "version": "3.9.7"
  }
 },
 "nbformat": 4,
 "nbformat_minor": 1
}
