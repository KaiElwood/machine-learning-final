{
 "cells": [
  {
   "cell_type": "code",
   "execution_count": null,
   "id": "a018be8b",
   "metadata": {},
   "outputs": [],
   "source": [
    "# setup\n",
    "import pandas as pd\n",
    "import numpy as np\n",
    "import matplotlib\n",
    "import matplotlib.pyplot as plt \n",
    "import requests\n",
    "import calendar\n",
    "import geopandas as gpd\n",
    "import os.path as os\n",
    "import scipy.stats\n",
    "import seaborn.palettes\n",
    "import seaborn.utils\n",
    "import sys\n",
    "from census import Census\n",
    "from us import states\n",
    "from sklearn.metrics import precision_recall_fscore_support\n",
    "import config\n",
    "\n",
    "root= r\"C:/Users/Jennah/Desktop/Code/machine-learning-final\"\n",
    "inp= os.join(root, \"data\", \"3_clean\")\n",
    "interm= os.join(root, \"data\", \"2_intermediate\")\n",
    "\n",
    "plots= os.join(root, \"code\", \"plots\")"
   ]
  },
  {
   "cell_type": "code",
   "execution_count": null,
   "id": "ddb23994",
   "metadata": {},
   "outputs": [],
   "source": [
    "from pydrive.auth import GoogleAuth\n",
    "\n",
    "gauth = GoogleAuth()\n",
    "gauth.LocalWebserverAuth() # Creates local webserver and auto handles authentication."
   ]
  },
  {
   "cell_type": "code",
   "execution_count": 3,
   "id": "763f2a7f",
   "metadata": {},
   "outputs": [
    {
     "name": "stdout",
     "output_type": "stream",
     "text": [
      "Title: analysis_bbl.csv, ID: 1yYX-ROr1c7fzcQiG6NZ1sh7Ko5gqr_4G\n",
      "Title: analysis_bbl_noacs.csv, ID: 1h-tDpBSslfzqzsJe1ny_ujDnr68RKry3\n",
      "Title: analysis_box.csv, ID: 1Vzjvta98IG9Hg4SfAGcd8JD8FaF3IXwy\n"
     ]
    }
   ],
   "source": [
    "# files in clean data google drive\n",
    "from pydrive.drive import GoogleDrive\n",
    "drive = GoogleDrive(gauth)\n",
    "fileList = drive.ListFile({'q': \"'1jxSI_nq32-W9kPHKvQkzuNGJ5aIBD2j2' in parents and trashed=false\"}).GetList()\n",
    "for file in fileList:\n",
    "  print('Title: %s, ID: %s' % (file['title'], file['id']))\n",
    "  # Get the folder ID that you want\n",
    "  if(file['title'] == \"To Share\"):\n",
    "      fileID = file['id']"
   ]
  },
  {
   "cell_type": "markdown",
   "id": "14b53bf2",
   "metadata": {},
   "source": [
    "## Load building level analysis file"
   ]
  },
  {
   "cell_type": "code",
   "execution_count": 4,
   "id": "a136b453",
   "metadata": {},
   "outputs": [
    {
     "name": "stderr",
     "output_type": "stream",
     "text": [
      "C:\\Users\\Jennah\\anaconda3\\envs\\geo_env\\lib\\site-packages\\IPython\\core\\interactiveshell.py:3444: DtypeWarning: Columns (27) have mixed types.Specify dtype option on import or set low_memory=False.\n",
      "  exec(code_obj, self.user_global_ns, self.user_ns)\n"
     ]
    }
   ],
   "source": [
    "df_bbl = drive.CreateFile({'id': '1yYX-ROr1c7fzcQiG6NZ1sh7Ko5gqr_4G'})\n",
    "df_bbl.GetContentFile('analysis_bbl.csv')  \n",
    "\n",
    "df_bbl= pd.read_csv('analysis_bbl.csv').drop([\"Unnamed: 0\"], axis = 1)\n",
    "df_bbl.head()\n",
    "\n",
    "df_bbl.drop(df_bbl.loc[df_bbl[\"bbl\"].isna()].index, inplace = True)"
   ]
  },
  {
   "cell_type": "markdown",
   "id": "d18dfcca",
   "metadata": {},
   "source": [
    "# Decision Trees and Random Forest Models"
   ]
  },
  {
   "cell_type": "code",
   "execution_count": 120,
   "id": "259a1f3e",
   "metadata": {},
   "outputs": [],
   "source": [
    "assert df_bbl.loc[:, \"vacate_ind\"].isna().sum() == 0\n",
    "df_bbl.loc[:, \"num_vac_orders\"]= df_bbl.loc[:, \"num_vac_orders\"].fillna(0)"
   ]
  },
  {
   "cell_type": "code",
   "execution_count": 7,
   "id": "fa38421a",
   "metadata": {
    "scrolled": true
   },
   "outputs": [
    {
     "name": "stdout",
     "output_type": "stream",
     "text": [
      "Index(['borough', 'bbl', 'cd', 'tract2010', 'zipcode', 'address', 'bldgclass',\n",
      "       'landuse', 'ownertype', 'ownername',\n",
      "       ...\n",
      "       'pctnhasian', 'pctnhhawainpi', 'pctnhother', 'pctnhtwoplus',\n",
      "       'pctownerocch', 'pctrentocch', 'crowding', 'crowdingrenter',\n",
      "       'medianhhincome_imp', 'geofips_recode'],\n",
      "      dtype='object', length=157)\n"
     ]
    },
    {
     "data": {
      "text/html": [
       "<div>\n",
       "<style scoped>\n",
       "    .dataframe tbody tr th:only-of-type {\n",
       "        vertical-align: middle;\n",
       "    }\n",
       "\n",
       "    .dataframe tbody tr th {\n",
       "        vertical-align: top;\n",
       "    }\n",
       "\n",
       "    .dataframe thead th {\n",
       "        text-align: right;\n",
       "    }\n",
       "</style>\n",
       "<table border=\"1\" class=\"dataframe\">\n",
       "  <thead>\n",
       "    <tr style=\"text-align: right;\">\n",
       "      <th></th>\n",
       "      <th>bbl</th>\n",
       "      <th>cd</th>\n",
       "      <th>tract2010</th>\n",
       "      <th>zipcode</th>\n",
       "      <th>landuse</th>\n",
       "      <th>lotarea</th>\n",
       "      <th>bldgarea</th>\n",
       "      <th>numbldgs</th>\n",
       "      <th>numfloors</th>\n",
       "      <th>unitsres</th>\n",
       "      <th>...</th>\n",
       "      <th>pctnhasian</th>\n",
       "      <th>pctnhhawainpi</th>\n",
       "      <th>pctnhother</th>\n",
       "      <th>pctnhtwoplus</th>\n",
       "      <th>pctownerocch</th>\n",
       "      <th>pctrentocch</th>\n",
       "      <th>crowding</th>\n",
       "      <th>crowdingrenter</th>\n",
       "      <th>medianhhincome_imp</th>\n",
       "      <th>geofips_recode</th>\n",
       "    </tr>\n",
       "  </thead>\n",
       "  <tbody>\n",
       "    <tr>\n",
       "      <th>count</th>\n",
       "      <td>7.650280e+05</td>\n",
       "      <td>765028.000000</td>\n",
       "      <td>765023.000000</td>\n",
       "      <td>765028.000000</td>\n",
       "      <td>765028.000000</td>\n",
       "      <td>7.650280e+05</td>\n",
       "      <td>7.650280e+05</td>\n",
       "      <td>765028.000000</td>\n",
       "      <td>765028.000000</td>\n",
       "      <td>765028.000000</td>\n",
       "      <td>...</td>\n",
       "      <td>765001.000000</td>\n",
       "      <td>765001.000000</td>\n",
       "      <td>765001.000000</td>\n",
       "      <td>765001.000000</td>\n",
       "      <td>764997.000000</td>\n",
       "      <td>764997.000000</td>\n",
       "      <td>764997.000000</td>\n",
       "      <td>764988.000000</td>\n",
       "      <td>765023.000000</td>\n",
       "      <td>7.650230e+05</td>\n",
       "    </tr>\n",
       "    <tr>\n",
       "      <th>mean</th>\n",
       "      <td>3.548738e+09</td>\n",
       "      <td>357.695427</td>\n",
       "      <td>9565.767255</td>\n",
       "      <td>11026.317894</td>\n",
       "      <td>1.421476</td>\n",
       "      <td>3.812045e+03</td>\n",
       "      <td>5.051024e+03</td>\n",
       "      <td>1.324974</td>\n",
       "      <td>2.443931</td>\n",
       "      <td>4.689660</td>\n",
       "      <td>...</td>\n",
       "      <td>15.733353</td>\n",
       "      <td>0.033563</td>\n",
       "      <td>1.119491</td>\n",
       "      <td>1.962157</td>\n",
       "      <td>50.197441</td>\n",
       "      <td>49.802559</td>\n",
       "      <td>8.170262</td>\n",
       "      <td>10.205459</td>\n",
       "      <td>0.001169</td>\n",
       "      <td>3.541767e+06</td>\n",
       "    </tr>\n",
       "    <tr>\n",
       "      <th>std</th>\n",
       "      <td>1.003516e+09</td>\n",
       "      <td>98.074679</td>\n",
       "      <td>26807.879379</td>\n",
       "      <td>464.453474</td>\n",
       "      <td>0.842763</td>\n",
       "      <td>2.318735e+04</td>\n",
       "      <td>3.520150e+04</td>\n",
       "      <td>2.726637</td>\n",
       "      <td>1.676084</td>\n",
       "      <td>42.058941</td>\n",
       "      <td>...</td>\n",
       "      <td>17.564605</td>\n",
       "      <td>0.269548</td>\n",
       "      <td>3.038184</td>\n",
       "      <td>2.060771</td>\n",
       "      <td>24.959441</td>\n",
       "      <td>24.959441</td>\n",
       "      <td>6.977929</td>\n",
       "      <td>9.219103</td>\n",
       "      <td>0.034165</td>\n",
       "      <td>9.994476e+05</td>\n",
       "    </tr>\n",
       "    <tr>\n",
       "      <th>min</th>\n",
       "      <td>1.000070e+09</td>\n",
       "      <td>0.000000</td>\n",
       "      <td>1.000000</td>\n",
       "      <td>0.000000</td>\n",
       "      <td>1.000000</td>\n",
       "      <td>2.300000e+01</td>\n",
       "      <td>0.000000e+00</td>\n",
       "      <td>0.000000</td>\n",
       "      <td>0.000000</td>\n",
       "      <td>0.000000</td>\n",
       "      <td>...</td>\n",
       "      <td>0.000000</td>\n",
       "      <td>0.000000</td>\n",
       "      <td>0.000000</td>\n",
       "      <td>0.000000</td>\n",
       "      <td>0.000000</td>\n",
       "      <td>0.000000</td>\n",
       "      <td>0.000000</td>\n",
       "      <td>0.000000</td>\n",
       "      <td>0.000000</td>\n",
       "      <td>1.000201e+06</td>\n",
       "    </tr>\n",
       "    <tr>\n",
       "      <th>25%</th>\n",
       "      <td>3.036730e+09</td>\n",
       "      <td>307.000000</td>\n",
       "      <td>222.000000</td>\n",
       "      <td>10467.000000</td>\n",
       "      <td>1.000000</td>\n",
       "      <td>2.000000e+03</td>\n",
       "      <td>1.440000e+03</td>\n",
       "      <td>1.000000</td>\n",
       "      <td>2.000000</td>\n",
       "      <td>1.000000</td>\n",
       "      <td>...</td>\n",
       "      <td>2.887910</td>\n",
       "      <td>0.000000</td>\n",
       "      <td>0.000000</td>\n",
       "      <td>0.490998</td>\n",
       "      <td>29.103943</td>\n",
       "      <td>27.593699</td>\n",
       "      <td>3.289474</td>\n",
       "      <td>3.183024</td>\n",
       "      <td>0.000000</td>\n",
       "      <td>3.030100e+06</td>\n",
       "    </tr>\n",
       "    <tr>\n",
       "      <th>50%</th>\n",
       "      <td>4.012680e+09</td>\n",
       "      <td>403.000000</td>\n",
       "      <td>504.000000</td>\n",
       "      <td>11223.000000</td>\n",
       "      <td>1.000000</td>\n",
       "      <td>2.500000e+03</td>\n",
       "      <td>2.020000e+03</td>\n",
       "      <td>1.000000</td>\n",
       "      <td>2.000000</td>\n",
       "      <td>2.000000</td>\n",
       "      <td>...</td>\n",
       "      <td>8.355388</td>\n",
       "      <td>0.000000</td>\n",
       "      <td>0.000000</td>\n",
       "      <td>1.404125</td>\n",
       "      <td>50.627615</td>\n",
       "      <td>49.372385</td>\n",
       "      <td>6.207928</td>\n",
       "      <td>8.142494</td>\n",
       "      <td>0.000000</td>\n",
       "      <td>4.010200e+06</td>\n",
       "    </tr>\n",
       "    <tr>\n",
       "      <th>75%</th>\n",
       "      <td>4.107290e+09</td>\n",
       "      <td>412.000000</td>\n",
       "      <td>1139.000000</td>\n",
       "      <td>11372.000000</td>\n",
       "      <td>2.000000</td>\n",
       "      <td>4.000000e+03</td>\n",
       "      <td>2.923000e+03</td>\n",
       "      <td>2.000000</td>\n",
       "      <td>2.750000</td>\n",
       "      <td>2.000000</td>\n",
       "      <td>...</td>\n",
       "      <td>23.870968</td>\n",
       "      <td>0.000000</td>\n",
       "      <td>0.778210</td>\n",
       "      <td>2.694064</td>\n",
       "      <td>72.406301</td>\n",
       "      <td>70.896057</td>\n",
       "      <td>11.000000</td>\n",
       "      <td>14.855072</td>\n",
       "      <td>0.000000</td>\n",
       "      <td>4.092200e+06</td>\n",
       "    </tr>\n",
       "    <tr>\n",
       "      <th>max</th>\n",
       "      <td>5.080500e+09</td>\n",
       "      <td>503.000000</td>\n",
       "      <td>157903.000000</td>\n",
       "      <td>12345.000000</td>\n",
       "      <td>4.000000</td>\n",
       "      <td>1.225343e+07</td>\n",
       "      <td>1.354011e+07</td>\n",
       "      <td>1807.000000</td>\n",
       "      <td>98.000000</td>\n",
       "      <td>19201.000000</td>\n",
       "      <td>...</td>\n",
       "      <td>91.605249</td>\n",
       "      <td>7.191448</td>\n",
       "      <td>31.090573</td>\n",
       "      <td>20.276498</td>\n",
       "      <td>100.000000</td>\n",
       "      <td>100.000000</td>\n",
       "      <td>100.000000</td>\n",
       "      <td>100.000000</td>\n",
       "      <td>1.000000</td>\n",
       "      <td>5.032300e+06</td>\n",
       "    </tr>\n",
       "  </tbody>\n",
       "</table>\n",
       "<p>8 rows × 150 columns</p>\n",
       "</div>"
      ],
      "text/plain": [
       "                bbl             cd      tract2010        zipcode  \\\n",
       "count  7.650280e+05  765028.000000  765023.000000  765028.000000   \n",
       "mean   3.548738e+09     357.695427    9565.767255   11026.317894   \n",
       "std    1.003516e+09      98.074679   26807.879379     464.453474   \n",
       "min    1.000070e+09       0.000000       1.000000       0.000000   \n",
       "25%    3.036730e+09     307.000000     222.000000   10467.000000   \n",
       "50%    4.012680e+09     403.000000     504.000000   11223.000000   \n",
       "75%    4.107290e+09     412.000000    1139.000000   11372.000000   \n",
       "max    5.080500e+09     503.000000  157903.000000   12345.000000   \n",
       "\n",
       "             landuse       lotarea      bldgarea       numbldgs  \\\n",
       "count  765028.000000  7.650280e+05  7.650280e+05  765028.000000   \n",
       "mean        1.421476  3.812045e+03  5.051024e+03       1.324974   \n",
       "std         0.842763  2.318735e+04  3.520150e+04       2.726637   \n",
       "min         1.000000  2.300000e+01  0.000000e+00       0.000000   \n",
       "25%         1.000000  2.000000e+03  1.440000e+03       1.000000   \n",
       "50%         1.000000  2.500000e+03  2.020000e+03       1.000000   \n",
       "75%         2.000000  4.000000e+03  2.923000e+03       2.000000   \n",
       "max         4.000000  1.225343e+07  1.354011e+07    1807.000000   \n",
       "\n",
       "           numfloors       unitsres  ...     pctnhasian  pctnhhawainpi  \\\n",
       "count  765028.000000  765028.000000  ...  765001.000000  765001.000000   \n",
       "mean        2.443931       4.689660  ...      15.733353       0.033563   \n",
       "std         1.676084      42.058941  ...      17.564605       0.269548   \n",
       "min         0.000000       0.000000  ...       0.000000       0.000000   \n",
       "25%         2.000000       1.000000  ...       2.887910       0.000000   \n",
       "50%         2.000000       2.000000  ...       8.355388       0.000000   \n",
       "75%         2.750000       2.000000  ...      23.870968       0.000000   \n",
       "max        98.000000   19201.000000  ...      91.605249       7.191448   \n",
       "\n",
       "          pctnhother   pctnhtwoplus   pctownerocch    pctrentocch  \\\n",
       "count  765001.000000  765001.000000  764997.000000  764997.000000   \n",
       "mean        1.119491       1.962157      50.197441      49.802559   \n",
       "std         3.038184       2.060771      24.959441      24.959441   \n",
       "min         0.000000       0.000000       0.000000       0.000000   \n",
       "25%         0.000000       0.490998      29.103943      27.593699   \n",
       "50%         0.000000       1.404125      50.627615      49.372385   \n",
       "75%         0.778210       2.694064      72.406301      70.896057   \n",
       "max        31.090573      20.276498     100.000000     100.000000   \n",
       "\n",
       "            crowding  crowdingrenter  medianhhincome_imp  geofips_recode  \n",
       "count  764997.000000   764988.000000       765023.000000    7.650230e+05  \n",
       "mean        8.170262       10.205459            0.001169    3.541767e+06  \n",
       "std         6.977929        9.219103            0.034165    9.994476e+05  \n",
       "min         0.000000        0.000000            0.000000    1.000201e+06  \n",
       "25%         3.289474        3.183024            0.000000    3.030100e+06  \n",
       "50%         6.207928        8.142494            0.000000    4.010200e+06  \n",
       "75%        11.000000       14.855072            0.000000    4.092200e+06  \n",
       "max       100.000000      100.000000            1.000000    5.032300e+06  \n",
       "\n",
       "[8 rows x 150 columns]"
      ]
     },
     "execution_count": 7,
     "metadata": {},
     "output_type": "execute_result"
    }
   ],
   "source": [
    "print(df_bbl.columns)\n",
    "df_bbl.describe()"
   ]
  },
  {
   "cell_type": "code",
   "execution_count": 122,
   "id": "97d9c678",
   "metadata": {},
   "outputs": [],
   "source": [
    "df_bbl= pd.get_dummies(df_bbl, columns=[\"borough\"])\n",
    "borocols= [\"borough_\" + x for x in [\"BK\", \"BX\", \"MN\", \"QN\", \"SI\"]]"
   ]
  },
  {
   "cell_type": "code",
   "execution_count": 10,
   "id": "328eeb7e",
   "metadata": {},
   "outputs": [
    {
     "data": {
      "text/plain": [
       "['lotarea',\n",
       " 'bldgarea',\n",
       " 'numbldgs',\n",
       " 'numfloors',\n",
       " 'unitsres',\n",
       " 'unitstotal',\n",
       " 'assessland',\n",
       " 'assesstot',\n",
       " 'exempttot',\n",
       " 'yearbuilt',\n",
       " 'holc_AB',\n",
       " 'holc_CD',\n",
       " 'holc_D',\n",
       " 'tot_hpd_vio',\n",
       " 'hpd_fire_vio',\n",
       " 'hpd_b_c_vio',\n",
       " 'viol_count_per_unit',\n",
       " 'hpd_fire_vio_per_unit',\n",
       " 'hpd_b_c_vio_per_unit',\n",
       " 'AL',\n",
       " 'NB',\n",
       " 'average_energy_usage',\n",
       " 'average_energy_usage_mi',\n",
       " 'totpop',\n",
       " 'popdens',\n",
       " 'areasqmile',\n",
       " 'males',\n",
       " 'females',\n",
       " 'pop18under',\n",
       " 'pop18_34',\n",
       " 'pop35_64',\n",
       " 'pop65plus',\n",
       " 'pophispanic',\n",
       " 'popnhwhite',\n",
       " 'popnhblack',\n",
       " 'popnhaian',\n",
       " 'popnhasian',\n",
       " 'popnhhawainpi',\n",
       " 'popnhother',\n",
       " 'popnhtwoplus',\n",
       " 'housing',\n",
       " 'housingoccupied',\n",
       " 'renterhousing',\n",
       " 'oc_halfless',\n",
       " 'oc_half_1',\n",
       " 'oc_1_onehalf',\n",
       " 'oc_onehalf_2',\n",
       " 'oc_2plus',\n",
       " 'roc_halfless',\n",
       " 'roc_half_1',\n",
       " 'roc_1_onehalf',\n",
       " 'roc_onehalf_2',\n",
       " 'roc_2plus',\n",
       " 'medianyearbuilt',\n",
       " 'mediangrossrent',\n",
       " 'medianhhincome',\n",
       " 'gini',\n",
       " 'year',\n",
       " 'pct18under',\n",
       " 'pct18_34',\n",
       " 'pct35_64',\n",
       " 'pct65plus',\n",
       " 'pcthispanic',\n",
       " 'pctnhwhite',\n",
       " 'pctnhblack',\n",
       " 'pctnhaian',\n",
       " 'pctnhasian',\n",
       " 'pctnhhawainpi',\n",
       " 'pctnhother',\n",
       " 'pctnhtwoplus',\n",
       " 'pctownerocch',\n",
       " 'pctrentocch',\n",
       " 'crowding',\n",
       " 'crowdingrenter']"
      ]
     },
     "execution_count": 10,
     "metadata": {},
     "output_type": "execute_result"
    }
   ],
   "source": [
    "# define predictors\n",
    "df_bbl.columns\n",
    "predictors = [\"lotarea\", \"bldgarea\", \"numbldgs\", \"numfloors\", \"unitsres\", \"unitstotal\", \"assessland\",\n",
    "             \"assesstot\", \"exempttot\", \"yearbuilt\", \"holc_AB\", \"holc_CD\", \"holc_D\",\n",
    "             \"tot_hpd_vio\", \"hpd_fire_vio\", \"hpd_b_c_vio\",\n",
    "             \"viol_count_per_unit\", \"hpd_fire_vio_per_unit\", \"hpd_b_c_vio_per_unit\",\n",
    "             \"AL\", \"NB\", \"average_energy_usage\", \"average_energy_usage_mi\"]\n",
    "predictors_acs= df_bbl.columns[df_bbl.columns.get_loc(\"totpop\"):df_bbl.columns.get_loc(\"crowdingrenter\") + 1].tolist()\n",
    "predictors_full= predictors + predictors_acs\n",
    "predictors_full"
   ]
  },
  {
   "cell_type": "code",
   "execution_count": 8,
   "id": "7a3e09c1",
   "metadata": {},
   "outputs": [
    {
     "data": {
      "text/plain": [
       "0.0034037969852083847"
      ]
     },
     "execution_count": 8,
     "metadata": {},
     "output_type": "execute_result"
    }
   ],
   "source": [
    "outcomes= [\"vacate_ind\", \"num_vac_orders\"]\n",
    "df_bbl[outcomes].head()\n",
    "\n",
    "# very small percentage of the data has had a fire\n",
    "df_bbl[outcomes[0]].mean()"
   ]
  },
  {
   "cell_type": "code",
   "execution_count": 12,
   "id": "60740f10",
   "metadata": {},
   "outputs": [
    {
     "data": {
      "text/plain": [
       "0.9960785851535234"
      ]
     },
     "execution_count": 12,
     "metadata": {},
     "output_type": "execute_result"
    }
   ],
   "source": [
    "from sklearn.model_selection import train_test_split\n",
    "from sklearn.tree import DecisionTreeClassifier\n",
    "\n",
    "X = df_bbl.loc[:, predictors_full].fillna(0)\n",
    "y = df_bbl.loc[:, \"vacate_ind\"]\n",
    "X_train, X_test, y_train, y_test = train_test_split(X, y, test_size=0.3, random_state=999)\n",
    "\n",
    "dt = DecisionTreeClassifier(max_depth=10)\n",
    "dt.fit(X_train, y_train)\n",
    "y_predict = dt.predict(X_test)\n",
    "\n",
    "# accuracy is very high, but that is bc most are 0s!\n",
    "accuracy= (y_predict == y_test).value_counts(normalize=True)[True]\n",
    "accuracy"
   ]
  },
  {
   "cell_type": "markdown",
   "id": "ecdffb84",
   "metadata": {},
   "source": [
    "__Area under the curve__"
   ]
  },
  {
   "cell_type": "code",
   "execution_count": 13,
   "id": "2ac4d3b7",
   "metadata": {},
   "outputs": [
    {
     "data": {
      "text/plain": [
       "0.5723740819825224"
      ]
     },
     "execution_count": 13,
     "metadata": {},
     "output_type": "execute_result"
    }
   ],
   "source": [
    "from sklearn.metrics import roc_auc_score\n",
    "dt=DecisionTreeClassifier(random_state = 99)\n",
    "dt.fit(X_train,y_train)\n",
    "# predict_proba predicts the probability of each class rather than just the most likely class\n",
    "pred=dt.predict_proba(X_test)[:,1] # predicted probability of y = 1\n",
    "roc_auc_score(np.array(y_test),pred)"
   ]
  },
  {
   "cell_type": "code",
   "execution_count": 14,
   "id": "558ac95d",
   "metadata": {
    "scrolled": true
   },
   "outputs": [
    {
     "data": {
      "text/plain": [
       "0.49448662019119116"
      ]
     },
     "execution_count": 14,
     "metadata": {},
     "output_type": "execute_result"
    }
   ],
   "source": [
    "# vs. random chance (only slightly better)\n",
    "pred=np.random.random(len(X_test))\n",
    "roc_auc_score(np.array(y_test.apply(int)),pred)"
   ]
  },
  {
   "cell_type": "markdown",
   "id": "392fe285",
   "metadata": {},
   "source": [
    "## Tuning"
   ]
  },
  {
   "cell_type": "code",
   "execution_count": 18,
   "id": "b27412e4",
   "metadata": {},
   "outputs": [
    {
     "name": "stdout",
     "output_type": "stream",
     "text": [
      "{'max_depth': 4}\n",
      "0.9741206408332064\n"
     ]
    }
   ],
   "source": [
    "from sklearn.model_selection import GridSearchCV\n",
    "# This time we'll use max_depth to control the complexity of the tree, still using the same train/test split as above,\n",
    "# and optimize the parameter value using GridSearchCV.\n",
    "param_grid = {'max_depth':range(1,20)}\n",
    "dt=DecisionTreeClassifier()\n",
    "gr=GridSearchCV(dt,param_grid=param_grid, scoring='roc_auc')\n",
    "rs=gr.fit(X_train,y_train)\n",
    "print(rs.best_params_)\n",
    "print(roc_auc_score(np.array(y_test),rs.predict_proba(X_test)[:,1]))"
   ]
  },
  {
   "cell_type": "code",
   "execution_count": 19,
   "id": "9e5c88db",
   "metadata": {},
   "outputs": [
    {
     "data": {
      "text/plain": [
       "(array([0.99661874, 0.66666667]),\n",
       " array([0.99998688, 0.00767263]),\n",
       " array([0.99829997, 0.01517067]),\n",
       " array([228727,    782], dtype=int64))"
      ]
     },
     "execution_count": 19,
     "metadata": {},
     "output_type": "execute_result"
    }
   ],
   "source": [
    "dt=DecisionTreeClassifier(max_depth = rs.best_params_['max_depth'], random_state= 99)\n",
    "dt.fit(X_train,y_train)\n",
    "# predict_proba predicts the probability of each class rather than just the most likely class\n",
    "pred=dt.predict_proba(X_test)[:,1] # predicted probability of y = 1\n",
    "roc_auc_score(np.array(y_test),pred)\n",
    "## look at precision and recall rates\n",
    "precision_recall_fscore_support(y_test, pred > 0.5)"
   ]
  },
  {
   "cell_type": "code",
   "execution_count": 20,
   "id": "79e773ec",
   "metadata": {
    "scrolled": true
   },
   "outputs": [
    {
     "data": {
      "image/png": "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\n",
      "text/plain": [
       "<Figure size 432x288 with 1 Axes>"
      ]
     },
     "metadata": {
      "needs_background": "light"
     },
     "output_type": "display_data"
    }
   ],
   "source": [
    "from sklearn.metrics import roc_curve\n",
    "from sklearn.metrics import RocCurveDisplay\n",
    "\n",
    "fpr, tpr, _ = roc_curve(y_test, pred, pos_label=1)\n",
    "roc_display = RocCurveDisplay(fpr=fpr, tpr=tpr).plot()"
   ]
  },
  {
   "cell_type": "code",
   "execution_count": 21,
   "id": "3d91446b",
   "metadata": {
    "scrolled": true
   },
   "outputs": [
    {
     "data": {
      "image/png": "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\n",
      "text/plain": [
       "<Figure size 432x288 with 1 Axes>"
      ]
     },
     "metadata": {
      "needs_background": "light"
     },
     "output_type": "display_data"
    }
   ],
   "source": [
    "from sklearn.metrics import precision_recall_curve\n",
    "from sklearn.metrics import PrecisionRecallDisplay\n",
    "\n",
    "prec, recall, _ = precision_recall_curve(y_test, pred, pos_label= 1)\n",
    "pr_display = PrecisionRecallDisplay(precision=prec, recall=recall).plot()"
   ]
  },
  {
   "cell_type": "code",
   "execution_count": 23,
   "id": "f53ca86b",
   "metadata": {
    "scrolled": true
   },
   "outputs": [
    {
     "data": {
      "image/png": "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\n",
      "text/plain": [
       "<Figure size 864x576 with 2 Axes>"
      ]
     },
     "metadata": {
      "needs_background": "light"
     },
     "output_type": "display_data"
    }
   ],
   "source": [
    "import matplotlib.pyplot as plt\n",
    "\n",
    "fig, (ax1, ax2) = plt.subplots(1, 2, figsize=(12, 8))\n",
    "\n",
    "roc_display.plot(ax=ax1)\n",
    "pr_display.plot(ax=ax2)\n",
    "plt.title(\"Comparison of Area under the Receiver Operating Characteristic Curve and the Precision-Recall Curve\")\n",
    "plt.show()\n",
    "fig.savefig(os.join(plots, 'auc_precision_recall.png'))"
   ]
  },
  {
   "cell_type": "markdown",
   "id": "dfb2cab2",
   "metadata": {},
   "source": [
    "## Feature Importance"
   ]
  },
  {
   "cell_type": "code",
   "execution_count": 24,
   "id": "84ca2e04",
   "metadata": {},
   "outputs": [
    {
     "data": {
      "text/html": [
       "<div>\n",
       "<style scoped>\n",
       "    .dataframe tbody tr th:only-of-type {\n",
       "        vertical-align: middle;\n",
       "    }\n",
       "\n",
       "    .dataframe tbody tr th {\n",
       "        vertical-align: top;\n",
       "    }\n",
       "\n",
       "    .dataframe thead th {\n",
       "        text-align: right;\n",
       "    }\n",
       "</style>\n",
       "<table border=\"1\" class=\"dataframe\">\n",
       "  <thead>\n",
       "    <tr style=\"text-align: right;\">\n",
       "      <th></th>\n",
       "      <th>variables</th>\n",
       "      <th>importance</th>\n",
       "    </tr>\n",
       "  </thead>\n",
       "  <tbody>\n",
       "    <tr>\n",
       "      <th>15</th>\n",
       "      <td>hpd_b_c_vio</td>\n",
       "      <td>0.584162</td>\n",
       "    </tr>\n",
       "    <tr>\n",
       "      <th>1</th>\n",
       "      <td>bldgarea</td>\n",
       "      <td>0.227477</td>\n",
       "    </tr>\n",
       "    <tr>\n",
       "      <th>13</th>\n",
       "      <td>tot_hpd_vio</td>\n",
       "      <td>0.099796</td>\n",
       "    </tr>\n",
       "    <tr>\n",
       "      <th>5</th>\n",
       "      <td>unitstotal</td>\n",
       "      <td>0.033173</td>\n",
       "    </tr>\n",
       "    <tr>\n",
       "      <th>31</th>\n",
       "      <td>pop65plus</td>\n",
       "      <td>0.02072</td>\n",
       "    </tr>\n",
       "    <tr>\n",
       "      <th>4</th>\n",
       "      <td>unitsres</td>\n",
       "      <td>0.01374</td>\n",
       "    </tr>\n",
       "    <tr>\n",
       "      <th>64</th>\n",
       "      <td>pctnhblack</td>\n",
       "      <td>0.011314</td>\n",
       "    </tr>\n",
       "    <tr>\n",
       "      <th>14</th>\n",
       "      <td>hpd_fire_vio</td>\n",
       "      <td>0.009089</td>\n",
       "    </tr>\n",
       "    <tr>\n",
       "      <th>18</th>\n",
       "      <td>hpd_b_c_vio_per_unit</td>\n",
       "      <td>0.000529</td>\n",
       "    </tr>\n",
       "    <tr>\n",
       "      <th>54</th>\n",
       "      <td>mediangrossrent</td>\n",
       "      <td>0.0</td>\n",
       "    </tr>\n",
       "  </tbody>\n",
       "</table>\n",
       "</div>"
      ],
      "text/plain": [
       "               variables importance\n",
       "15           hpd_b_c_vio   0.584162\n",
       "1               bldgarea   0.227477\n",
       "13           tot_hpd_vio   0.099796\n",
       "5             unitstotal   0.033173\n",
       "31             pop65plus    0.02072\n",
       "4               unitsres    0.01374\n",
       "64            pctnhblack   0.011314\n",
       "14          hpd_fire_vio   0.009089\n",
       "18  hpd_b_c_vio_per_unit   0.000529\n",
       "54       mediangrossrent        0.0"
      ]
     },
     "execution_count": 24,
     "metadata": {},
     "output_type": "execute_result"
    }
   ],
   "source": [
    "dt = DecisionTreeClassifier(max_depth=rs.best_params_['max_depth'])\n",
    "dt.fit(X_train, y_train)\n",
    "Feature_importance=pd.DataFrame([list(X_train.columns),list(dt.feature_importances_)]).T\n",
    "Feature_importance.columns=[\"variables\",\"importance\"]\n",
    "\n",
    "# list the top 10 most important features in order\n",
    "ft= Feature_importance.sort_values(by=\"importance\",ascending=False).iloc[:10,:]\n",
    "ft.to_csv(os.join(interm, 'feature_importance_bbl.csv'))\n",
    "ft"
   ]
  },
  {
   "cell_type": "code",
   "execution_count": 26,
   "id": "ce847c14",
   "metadata": {},
   "outputs": [
    {
     "data": {
      "image/png": "iVBORw0KGgoAAAANSUhEUgAAA8sAAAFiCAYAAADBfUqgAAAAOXRFWHRTb2Z0d2FyZQBNYXRwbG90bGliIHZlcnNpb24zLjQuMywgaHR0cHM6Ly9tYXRwbG90bGliLm9yZy/MnkTPAAAACXBIWXMAAAxOAAAMTgF/d4wjAAApZ0lEQVR4nO3de7htdV0v/vcHt6K5Fc1Ayw1uVLRIjQwvmBaVx+NRf2ZeOoqY+JOkfPJo/LSwvJBWerDHyltK4hUvR0VPpmZlSYqohLC5WVDqFjamaF5RUbHP748xlnsyWGvvuTbrsjf79Xqe+axx+c4xv3PMcXuP7xhjVXcHAAAA2G6f9a4AAAAA7G6EZQAAAJgQlgEAAGBCWAYAAIAJYRkAAAAmhGUAAACYEJYBAABgQlgGAACACWEZgD1aVZ1eVT15fWyFpn1qVb1uJaa1i5/fVXX/9fr8HamqM6rqxPWuBwCslg3rXQEAWAF/luR/z/R/d53qsaiqulF371Z12lVVtW93f2e96wEAq03LMgDXB9/s7s/PvL6cJFW1f1W9qaq+WlVfGrtvtfCmqnpiVW2pqm9W1Wer6vlVtWEcd2KSxyZ5/EKL9cLwqjpj9sOr6nVVdepM/9aq+t2qOq2qvpXkf43DH11Vn6yqb1fVhVX1yHm/YFVtHuvx8Ko6e5zGB6rqVlX1qKr6VFV9par+tKpq5n1dVb9eVR+uqqvG9951Mu1nVNVlVfWdqvpYVd1zZtwxVbWtqo6qqk8l+eLY2v6zSZ47Tn/rWPY+VfXBcX5/sareUlU/ssi0HllVnxnLvaaq9p0pc9OqellVfX78judU1b1mxu/yPASA5dCyDMD12TuSbEtyvySdofX51CT/Yxy/T5KnJ/lUkh9P8pok/5HkFUn+JMldknw/yVN34bN/J8kJSZ6R5LtV9YtJXprkyUk+keTeSd5QVdu6ezmXjT9nrM/Xkrx9fH0jyS8nuV2Sdyb5xyR/PfOe52UI7Bcl+YMk76qqO3f396vqqCQnJnlSknOS/HaS91XV7bv76+P7fyTJE5I8Msn3klyW5CeSfDjDfPr+WG5jkr8Yp3OLDC3+r0jyqzN1uVWSxyd56DjddyQ5d5w3SXJykp9J8msZfpfDMp7cX8F5CAA7JSwDcH3wO1X1tJn+4zIEujsn+aXuvjpJqurXk1xeVZu6e1t3/+XMez5TVX+eIRC+oruvrKqrklzd3Z/fhTq9e3b6VfWGJH/Q3W8fB326qo5McmyS5QS9P+7ufxqneUqSP05ym+6+IsmFVfXBJEfmmmH59QufW1XHJvlchhMG78kQol/e3W8axz95HPe4JC8f379vkl/v7q0z3+d7Sa6cnTfd/XezFa2qpyf5cFXdoLu/PzOtY7v7C2OZdyT5+SQvrarbJzkqyT26++yx/KdmJvmsrMw8BICdEpYBuD74yyR/OtP/hQwtk/sn+erMVckLbp9kW1XdJ0Or6k8m2S/DfvGyFarTuZP+uyY5oqpeODPsRknOyPJcMNP9hSRfHIPy7LD9J+85a6Gju79WVRdnOJHwnvHvSTPjr66qs8fhC74yG5SXUlWbkrwgwyXa+2doEd6Q5DZJLh+LfXEhKI8+n6GVOhl+h2/OBOWplZqHALBTwjIA1wdf6e5/nx1QVRuT/HuSBy9S/vKqulmS9yZ5W4ZLm7+coVXzmJ181n8lmabvG2a4zHvWtyb9GzNc8v23k+Hf3snnTX1vprsn/QvDbrDIsOti+l2W8roM4fVJGS5/PzjJ+zLMnwWL1XfhGSqVHdd1peYhAOyUsAzA9dV5SQ5K8vVJy2uSpKoOz3Bf7e9291fHYQdOin0v195XfjFDS+msuyY5f4763H4a6tfIPZO8K0mq6uZJ7pTk4nHcxRnu/X3nOH5DksOT/P1Opvm9XDuU3zvJ0d39gXFa91hmPS9MsrGqDl+idXk95yEAexlhGYDrq7/LcMnyO6vqmRkuA75Dkkd195OSXJoh8D25qt6a5AFJHpbhYVkLPpvkkVW1OcP9uV/K8FCrV1TVbyb5QIYHX23OzsPyHyd5W1Vty9CifZMMDx77Ynf/n+v8bXfs8VX1iQwP+Doxw6Xa7x/H/XmSv6yqLRkezHX8WLdTrz2Za/hskntX1W2TfKu7v5Lh/uLHVdVFGeb17y2nkt396ap6c5JTq+op4/TuluTz4wO81nMeArCX8a+jALhe6u7/SvLADC2n78wQFF+a5Kvj+CsyXC785Ayh+gFJXjiZzF9muDz7kxlalNPdF2Z4YvSzk/xzhn3pu+aoz7uTPCbDg7MuyBC0H5IhdK62EzOE4C1JDkny8IWHnnX3WzI8IfukDC23d0vyoJknYS/lTzI82frT2X5/9rFJ7pjh+z0/wwO5lutJST6Y5C0ZWpqfneHS9/WehwDsZar7ut7GBADsrsb/D/3fFi6NBgDmo2UZAAAAJoRlAAAAmHAZNgAAAExoWQYAAIAJYRkAAAAmdpv/s7zvvvv2/vvvv97VAAAAYC9x+eWXf7e7911s3G4Tlvfff/9s27ZtvasBAADAXqKqvrjUOJdhAwAAwMTcYbmqDqmqM6vqkqo6q6oOXaLcXavq9Kr6l6q6uKoevnLVBQAAgNW3nMuwX5Xk5O5+XVU9MskpSY6YLVBVP5Tk/yZ5fHefUVUbktxypSoLAAAAa2GuluWqOiDJ3ZOcOg46LcnBVbV5UvSoJB/t7jOSpLuv7u4lrwEHAACA3dG8l2EfmORz3X11knR3J7k0yUGTcocmuaqq3lNVW6rqDVXlEdcAAADsUZbzgK+e9NciZW6Y5L8nOS7JTye5LMnLF5tYVR1fVdsWXldeeeUyqgIAAACrZ96wfFmSTeM9yKmqytDafOmk3GeTfLC7Lx9bn9+U5J6LTbC7X9zdmxZeGzdu3LVvAAAAACtsrrDc3VckOTfJ0eOgRyTZ2t1bJ0XfluQeVXXzsf+BSc5bgXoCAADAmlnO07CPS/K6qvq9JF9P8vgkqapXJ3l3d7+7uy+tqhck+WhVXZ3k8iRPWulKAwAAwGqq4Wrp9bdp06betm3belcDAACAvURVXd7dmxYbt5wHfAEAAMBeQVgGAACACWEZAAAAJpbzgC+SbD7hvetdhd3O1hc+eL2rAAAAsKK0LAMAAMCEsAwAAAATwjIAAABMCMsAAAAwISwDAADAhLAMAAAAE8IyAAAATAjLAAAAMCEsAwAAwISwDAAAABPCMgAAAEwIywAAADAhLAMAAMCEsAwAAAATwjIAAABMCMsAAAAwISwDAADAhLAMAAAAE8IyAAAATAjLAAAAMCEsAwAAwISwDAAAABPCMgAAAEwIywAAADAhLAMAAMCEsAwAAAATwjIAAABMCMsAAAAwISwDAADAhLAMAAAAE8IyAAAATAjLAAAAMCEsAwAAwISwDAAAABPCMgAAAEwIywAAADAxd1iuqkOq6syquqSqzqqqQxcpc2RVfauqtsy8brKyVQYAAIDVtWEZZV+V5OTufl1VPTLJKUmOWKTcJ7v78BWpHQAAAKyDuVqWq+qAJHdPcuo46LQkB1fV5lWqFwAAAKybeS/DPjDJ57r76iTp7k5yaZKDFil756o6p6r+uaqevEL1BAAAgDWznMuwe9Jfi5Q5J8mm7v5aVW1K8r6q+lJ3v21asKqOT3L8Qv9+++23jKoAAADA6pm3ZfmyJJuqakOSVFVlaG2+dLZQd3+9u782dm9L8pYk91tsgt394u7etPDauHHjrn4HAAAAWFFzheXuviLJuUmOHgc9IsnW7t46W66qfrSq9hm7b5bkIeP7AAAAYI+xnP+zfFyS46rqkiQnJHliklTVq6vqoWOZRyS5oKrOS/KxJH+f5LUrWF8AAABYdXPfs9zdF2eRfxXV3cfOdL8syctWpmoAAACwPpbTsgwAAAB7BWEZAAAAJoRlAAAAmBCWAQAAYEJYBgAAgAlhGQAAACaEZQAAAJgQlgEAAGBCWAYAAIAJYRkAAAAmhGUAAACYEJYBAABgQlgGAACACWEZAAAAJoRlAAAAmBCWAQAAYEJYBgAAgAlhGQAAACaEZQAAAJgQlgEAAGBCWAYAAIAJYRkAAAAmhGUAAACYEJYBAABgQlgGAACACWEZAAAAJoRlAAAAmBCWAQAAYEJYBgAAgAlhGQAAACaEZQAAAJgQlgEAAGBCWAYAAIAJYRkAAAAmhGUAAACYEJYBAABgQlgGAACACWEZAAAAJoRlAAAAmBCWAQAAYEJYBgAAgIm5w3JVHVJVZ1bVJVV1VlUduoOyN66qT1bV2StTTQAAAFg7y2lZflWSk7v7TklOSnLKDsr+UZKPXpeKAQAAwHqZKyxX1QFJ7p7k1HHQaUkOrqrNi5S9X5JDkrxxheoIAAAAa2reluUDk3yuu69Oku7uJJcmOWi2UFXdNMmfJfnNnU2wqo6vqm0LryuvvHJZFQcAAIDVspzLsHvSX4uUeVGSl3f35TudWPeLu3vTwmvjxo3LqAoAAACsng1zlrssyaaq2tDdV1dVZWhtvnRS7r5JHlRVz0ly4yS3rKqLuvsnV67KAAAAsLrmalnu7iuSnJvk6HHQI5Js7e6tk3J36+7N3b05yaOTXCAoAwAAsKdZzmXYxyU5rqouSXJCkicmSVW9uqoeuhqVAwAAgPUw72XY6e6LkxyxyPBjlyh/epLDd7lmAAAAsE6W07IMAAAAewVhGQAAACaEZQAAAJgQlgEAAGBCWAYAAIAJYRkAAAAmhGUAAACYEJYBAABgQlgGAACACWEZAAAAJoRlAAAAmBCWAQAAYEJYBgAAgAlhGQAAACaEZQAAAJgQlgEAAGBCWAYAAIAJYRkAAAAmhGUAAACYEJYBAABgQlgGAACACWEZAAAAJoRlAAAAmBCWAQAAYEJYBgAAgAlhGQAAACaEZQAAAJgQlgEAAGBCWAYAAIAJYRkAAAAmhGUAAACYEJYBAABgQlgGAACACWEZAAAAJoRlAAAAmBCWAQAAYEJYBgAAgAlhGQAAACaEZQAAAJgQlgEAAGBi7rBcVYdU1ZlVdUlVnVVVhy5S5oiq2jK+LqqqV1XVvitbZQAAAFhdy2lZflWSk7v7TklOSnLKImXOS3KP7j4syV2T7J/kuOtaSQAAAFhLc4Xlqjogyd2TnDoOOi3JwVW1ebZcd3+ru7839t4oyU2S/NfKVBUAAADWxrwtywcm+Vx3X50k3d1JLk1y0LRgVW2uqi1JvpTk60lOXpmqAgAAwNpYzmXYPemvRQt1bx0vw75Nkn2TPHyxclV1fFVtW3hdeeWVy6gKAAAArJ55w/JlSTZV1YYkqarK0Np86VJv6O4rk7w1yWOXGP/i7t608Nq4cePyag4AAACrZK6w3N1XJDk3ydHjoEck2drdW2fLVdUdquqGY/eNMrQqn79itQUAAIA1sJzLsI9LclxVXZLkhCRPTJKqenVVPXQsc2SSc6vqvAzh+gtJnr9y1QUAAIDVt2Hegt19cZIjFhl+7Ez3KVn8X0oBAADAHmM5LcsAAACwVxCWAQAAYEJYBgAAgAlhGQAAACaEZQAAAJgQlgEAAGBCWAYAAIAJYRkAAAAmhGUAAACYEJYBAABgQlgGAACACWEZAAAAJoRlAAAAmBCWAQAAYEJYBgAAgAlhGQAAACaEZQAAAJgQlgEAAGBCWAYAAIAJYRkAAAAmhGUAAACYEJYBAABgQlgGAACACWEZAAAAJoRlAAAAmBCWAQAAYEJYBgAAgAlhGQAAACaEZQAAAJgQlgEAAGBiw3pXAJJk8wnvXe8q7Ha2vvDB610FAADYa2lZBgAAgAlhGQAAACaEZQAAAJgQlgEAAGBCWAYAAIAJYRkAAAAmhGUAAACYEJYBAABgQlgGAACAibnDclUdUlVnVtUlVXVWVR26SJlfrKqPV9Unq+rCqvqjqqqVrTIAAACsruW0LL8qycndfackJyU5ZZEyX0nymO4+NMnhSX4+yWOucy0BAABgDc0VlqvqgCR3T3LqOOi0JAdX1ebZct19bnd/euy+KsmWJLdfqcoCAADAWpi3ZfnAJJ/r7quTpLs7yaVJDlrqDVV1mySPTPK+61pJAAAAWEvLuQy7J/1L3otcVTdP8tdJTuruc5Yoc3xVbVt4XXnllcuoCgAAAKyeecPyZUk2VdWGJBkf2nVghtbla6iqmyV5f5J3d/eLl5pgd7+4uzctvDZu3Lj82gMAAMAqmCssd/cVSc5NcvQ46BFJtnb31tlyVbUxQ1D+2+5+/grWEwAAANbMci7DPi7JcVV1SZITkjwxSarq1VX10LHMU5PcM8mvVNWW8fX7K1pjAAAAWGUb5i3Y3RcnOWKR4cfOdP9Rkj9amaoBAADA+lhOyzIAAADsFYRlAAAAmBCWAQAAYEJYBgAAgAlhGQAAACaEZQAAAJgQlgEAAGBCWAYAAIAJYRkAAAAmhGUAAACYEJYBAABgQlgGAACACWEZAAAAJoRlAAAAmBCWAQAAYEJYBgAAgAlhGQAAACaEZQAAAJgQlgEAAGBCWAYAAIAJYRkAAAAmhGUAAACYEJYBAABgQlgGAACACWEZAAAAJoRlAAAAmBCWAQAAYEJYBgAAgAlhGQAAACaEZQAAAJgQlgEAAGBCWAYAAIAJYRkAAAAmhGUAAACYEJYBAABgQlgGAACACWEZAAAAJoRlAAAAmBCWAQAAYEJYBgAAgIm5w3JVHVJVZ1bVJVV1VlUdukiZzVV1elV9rarOXtmqAgAAwNpYTsvyq5Kc3N13SnJSklMWKfP1JM9KctQK1A0AAADWxVxhuaoOSHL3JKeOg05LcnBVbZ4t191f7u4zknxzJSsJAAAAa2neluUDk3yuu69Oku7uJJcmOWi1KgYAAADrZcMyyvakv67LB1fV8UmOX+jfb7/9rsvkgEVsPuG9612F3c7WFz54vasAAMAeYN6W5cuSbKqqDUlSVZWhtfnSXf3g7n5xd29aeG3cuHFXJwUAAAAraq6w3N1XJDk3ydHjoEck2drdW1epXgAAALBulvM07OOSHFdVlyQ5IckTk6SqXl1VDx27962qbUnenuRuVbWtql6w0pUGAACA1TT3PcvdfXGSIxYZfuxM93eSbFqZqgEAAMD6WE7LMgAAAOwVhGUAAACYEJYBAABgQlgGAACACWEZAAAAJoRlAAAAmBCWAQAAYEJYBgAAgAlhGQAAACaEZQAAAJgQlgEAAGBCWAYAAIAJYRkAAAAmhGUAAACYEJYBAABgQlgGAACACWEZAAAAJoRlAAAAmBCWAQAAYEJYBgAAgAlhGQAAACaEZQAAAJgQlgEAAGBCWAYAAIAJYRkAAAAmhGUAAACYEJYBAABgQlgGAACAiQ3rXQGAPdHmE9673lXY7Wx94YPXuwoAACtGyzIAAABMCMsAAAAwISwDAADAhLAMAAAAE8IyAAAATHgaNgC7DU8ZvzZPGQeA9aFlGQAAACaEZQAAAJgQlgEAAGDCPcsAcD3nXvBrcy84ADsjLAMA7AInIa7NSQjg+kRYBgBgt+JExLU5EQFrb+57lqvqkKo6s6ouqaqzqurQJco9sar+rao+VVUnV5VADgAAwB5lOQ/4elWSk7v7TklOSnLKtEBVHZzk+Unum+SOSW6T5IkrUE8AAABYM3OF5ao6IMndk5w6DjotycFVtXlS9JFJ3tXdX+juTvLKJI9ZoboCAADAmqgh0+6kUNXPJHljdx86M+ysJE/v7g/NDHtpksu6+6Sx/9Ak7+nu2y8yzeOTHD8z6DZJPr+rX2QvtDHJletdiesp83Z1mK+rw3xdHebr6jFvV4f5ujrM19Vhvq4e83b59u/ufRcbsZz7iaepuuYot1SZdPeLk7x4GZ/PjKra1t2b1rse10fm7eowX1eH+bo6zNfVY96uDvN1dZivq8N8XT3m7cqa957ly5JsWnhYV1VVkgOTXDopd2mSzTP9t1ukDAAAAOzW5grL3X1FknOTHD0OekSSrd29dVL0tCS/UlW3HgP1byR56wrVFQAAANbEcp6GfVyS46rqkiQnZHzKdVW9uqoemiTd/ekkz03ykSSfSnJFFnlqNivCJeyrx7xdHebr6jBfV4f5unrM29Vhvq4O83V1mK+rx7xdQXM94AsAAAD2JstpWQYAAIC9grAMAAAAE8Iye5yq6qrauAvjtlbVXVa3dnDdjc+CuN/Y/bCquucc7zmyqh4w5/QPq6pfnbPskVV19jxl9zRVdVBV/XVVXVxV/1pVT5kZ11V1flVtGV/3m3OaS26D9ha7svzu7arqaVV1wJxlj6mqdywxbsn19bquy9fnbQGsldn1t6oeWlUvWu86raflHI+sF2F5F63UAdHOAtyOdoqrraqeV1X/cz0+e0+w8K/U9iRVdWJV3WiOcnMduK3VerCT9/7gwPz6oruP7e4Pj70PSzJP2DgyyVxhOclhSXbrndNqG/9jw7uSvKG775zkJ5K8fVLsPt192Pj68LUmwqJ2cfn9garap6r2tuOTpyWZKyzvbdZyP1NVp1TVRVX1rrUMMlX1vqq6w9jt+HIPNZ5YvcnYvdPjqO5+d3c/Y21ql1TVDVZputflePiw7ObHI3vbzohl6O7ndPf/We96LOHpVfWRqrqkqh6zWIGqul9VXVBVZ1XVy5LUIuPOr6qXVtVnF3YqVfWiqvrncaP3T1V1yDh8c1V9qaqeU1UfTvKUqrpNVb1t/Izzq+p5M5+x6HTW2XOT7DQsZw86cJscmO9Wpgc94/KzeezeWlXPraozq+ozVfWsmXKnV9VDqupBSR6a5IRxOTq2qg4Zl/3zxmX4D6vqsAz/qu/XxnLPGafzuJnl/L1Vddtx5/28JPcfy75yLHtqVZ09ln3PPCdL1tI4L09cbL2vqgdW1Tlj3f+pqg4dhx85zqfXVtUnxu/3U+PbfinJt7v77UnSg89f17pMyl3jYHX8/CPH7mdV1b/U9pbr2+3KfFlNa7X8ju85sareWFXvTLIlyY9W1X+vqjPG3+7jVfVzY9lFp7G72MmyekRVfXis+/lV9cvj+vpjSd4xzqfDxve/uYYrHz5ZVf9YVT888zE3q6q3jN//7Kq6/cy4Gy6xzM/WcUNV/e04/qKqelNV/dDM+N8dp31eVX1sdtw4fr+q+vuqevbKzbn1VVW3TvKoJHft7l/ZUZCpFT5Z3t0P6u5PreQ0d2e7w/FlzREcx3X5mTUc4326qu5fVS+oqnPH9eYnZ8o+Lsl3knykqv4pyTOSHFBVN6qqV43bgg8mudfMe2ZbmW9TVR8c19uLquolVVXjuCW3B+P0Tx6n/5GqesXMNI+pqvdX1RtquCrknrX0/nKpbfP/U9uvsrqwqn55HH56Vf1RVf1Dkr8dhz19nFfn1HAC6MAd1b+WOB7Z7XS31y68knSS303y8SSfSfKEmXFbk7wgyYeS/HuS42fG3S/JBUnOSvKyJJ9NcpcdfM4xSf4+w/+w3pLkn5IctJO6/USGBff88fUbOyj7gSSPmOn/hSTnjN2vS/JbY/fGJK9JcuH4eu46z/vnjt23T/KlJAfOjNuYZN8klyc5chz+q+O4u4zjtiW53zjuVxbGjf0/MvNZj07ynrF781juqJnxf5vk58buDUnen+RXdjSddZxvrxzrf/64LN06Q8vaBeNv+qSx3HOSfDfJv47lDtsN1oNLkvzMTP8Tkrxz7D49yUPG7kW/0zovqxtn+r+UZPPM/PnTsXv/JF9LcttFvtMP1sOx/8+T/N5M/w+Pf09M8iczw++S5PMz0/z9JO8du49J8o5JXWeX1xOSvGzsPjLJ2es5H2fm5XPH7h+s9xlO6nwpwwFukjw2yYUzde9ccztw0dj9v8Zl5a1Jzh27bz/5vLOTnJfh33DcdGd1mf7m4298l5n3nT3W6ZZJvprkJuPwH0py4/Wex7vB8rstyQEz8/XMJDcf+++YYZt+w6Wmsbu8drCs/nCGdfI+47h9Zr7/dFk5McO/4FwY/9Ykzxy7jxmXn9uN/S9M8qo5lvkjM67LGU4e32qm+y+SPH3sf3ySj87M+1smucHC+5MclOQTSY5ew/m5qvuZJLdI8skkV2fY752Qme3k+N23JHnJOG8eleSQJO9N8s8ZthNP3sF3+KEk/5nkNjPD/iDJi6e///h9/y3JtzKEr5es9PedWY72uOPL8bc4L8lrx+Xw7CQ/NTP+ceOycs74ne4y833fn+QN43uO2MH0F9aTTvKH43x/1PibfC1DwNuW5BtJHpTkZ8dlYeEY9NVJ/ivDcdS2cZm54bgcnD2zXB0z033jbN933CDJe5I8co7twVPG77VhnMbHJtO/MskhY/+O9pdLbZvPyzW3WbcYu08fv/MNx/6jkpyc5AYzv8Nfzbk9e8div8Xu8tKyfN1c1d33yrCivGRypvHW3f1zSe6d5KlVda+q2jfDAvKU7r5nho3dQXN8zn0zLMCHZVgwlzzzMtbhr5Kc0t136+67JdnRZTavyRA8FjwhwwZo6tkZWiTvluGs2MOq6lFz1H21vDr5wf/2PiPDTmLWnZN8q7tPH8u9LcMGbmHct3tsjezud2U48FjwgKr6aFVdmCE4HjYz7qokb0mSqrppkl/M8NtvybABvGOSH59jOmuuu39j7LzPuCy9JMm/dvddM3yPZ1fVPbv7eUk+l2EjfVh3b9nJpNdiPXhd5ltOF/1OO5n2enpTknT3F5N8OsnBc7znQ0mOHc/oPiDXXHZn/UKGEzSXj/2vSPKLC2eqF/HYsZXpgiTHZp2X1yUstt7fK8mW7r5gHPemJJuq6kfH9/z7ZDtw26r6sQwHLvdP8vzu/ukkf5NhuVxwu+4+PMl9MoTB6eWYO9sG7cjXMxwMn1pVx2U4gLhqGe/fXaz08vue7r5i7H5ghu3ph8bt68J+7MCdTGN3sdjycUSST3b3meO4/+ruL+9gGn8zM/6jSe4wM+6M7v7sEuOWWuZnVZLfrqpzM4SeB2f7Ov+QJH/R3V8fp/GV7v7+OO5HMwSQ/6+7T93xLFhRq7qf6e6vjtP+6rjfe+Eixe6W5G3dfUSSdyZ5c4b5cI8Mv+1vVNXdl5j+tzKE0qOTH9wG8mtZfD+WJJ/o7h9K8ssZrmLbvJLfd8aeenx5tySv7+6fSXJSht8iVfWzGRonfq67757kWRm3U6P7ZtjmH97dH93JZyx4//j3nAwB+OYZQvrjMwThP83wO/3UWO7MJIePZR+d8eRFd39vXA6WWm/2SfK/q+q8DCdwD88198NLbQ9+Ickbu/vqcT/ylsl0z+jufxu7d7S/XGq7+g9J/qyqfifJ3cZ1ZcEbu/t7Y/fDMuxTPzFus38nye3mqP9uT1i+bhYOFP4lw9nI28yMO2Uc96UMLRa/lB0HuB05o7svHrtPTvILOzjgvXOSDeO0M1OHpbwzyb3Hyz9ulmEn+eZFyt0/ySvHnfs3M5yZu/8cdV8rPelfav4sjJuWH0ZUHZQhcD22u++SYUN345ki3+zuhffuM07nHr39vsY7dvcL5pjO7uD+SV6eJOMB6jszLKfLtRbrweuT/Op4udEdMpzR/5tV/E4r5fsZzhAvmC4DV03K7vTSvu4+LcNZ7IuT/FaGs8+LmS7niy7zSVJV9x2n9T/GEw3HL1LX3VFn6fV5ye87jvtsknO7+6Jx2KlJfqbGS/O6+9Lx7zcznGjYWRhe7POuziK//xg87p3kzzKc6f9Y7Z733a/18nvlTHclef/MtvWw7r5td396GevA7mRHy+NSdjR/lzvvp59/VJKfzxAq7prkTzLfOv+VDC2wD5mj7Epaq+OtHbmku88Yu++c5CeTvHUMBmcmuVmSQ3fw/tdmaEVLhpO5/7kQWhaMx2HJcOVLuvv9Sb6X4WTGAseXS58QWgitHx9/l5cm2b+2P6tlNjjO6zvj3+9nuOrum939V2P/VRlCX2U4OZBsb5DYlmFZ3dHx6Kzjk9wqyb3GExFvzjXXyaXW+SWPaUfT7eqi+8ultqvdfXyGEx3fSvL6MTQvNe0/nNle33WcDzur/25PWL5ulvPDLxzU7VbGs1DvyHC281eTfKC7/3ORooutYLuy818p/28y3Eec4UzhGZPx/5rkJrX9HrdHJtlvZtxNxzOQGe+/uMU4br8MG8PPjzuM31qqAt39jSQfznC5VsZp/VhVbVrOdNbZSvymq74ejK2j52S4//GYjGdRd/AZO+pfS5/KeH9SVT08yU13YRpfz/ZlNzXc+35Fd78hw5nbey9WLsPZ4AdV1cJB5W8k+YfxZM+07C3HYV8eDyqO24V6roXF1vuPJjmsqn5iHPfoJNt6+/3Hd5xsBy7v7v/IcLLltlV127HcAzNcjvb9qrpljfdo1vCgqf+Z4Uz/zuoyNfv73zPDwebCAfGtu/vD3f388b0/vaszZRWt5fI79XdJHljXvOf7nsucxnpabPk4M8lPVNV9xnH71Pb7kKfr5HWx1DI/65YZwto3xuXxmJlx707ym1V183Eat6jt93delaEF6XZV9cpauwex7Q7HW9Ng8KXJyZyDd9TaPrZk3qCqDs8wv1+zSLGFen979q3Z8fG648vt76kkr5n8Lj/W3d8dy1y5g/cvWPQk54zZZbHHsn+d4UqBJD/YbywE9H9I8rganhNwkwwnqhZzyySf7+6ravv98/P4YJKjx+nfOMP+ailL7i+X2q5W1Y9390Xd/bIMt2sstb19d5In1/Z7qW9YVfPs11Zy27cqhOXV84QkGReah2VYWXYU4HbkZ6vqTmP3sUn+caZ1c+riJN+dvYSlqn5kJ9N/TYYN91KXyCTDfS2/XoObZtj4fWCOuq+W71TVRzIcUD2luy+bHdnd30nymCQvr6qzMjyN9dKZcUcleeU47j5JvpDka+NZ3rcnuSjD/RiX7qQej81w8HNBDZevnpbhPrDlTmetfCPbl7kPJHlSklTV/hnu3f7HcdxKbbxWcj14TYYD0F/LcFn2Ynb0ndbD0zIsgx9JcvcM96wt1xuTHFXjA5Iy7EDPHy+ffGuGEJwMLQyHj+WeM7aYPjPJ31XV+RlaRhdC8D9kOGF0Xg0P1PibDPe//WuG+9G27EI918K11vseLgF+XJI3jZev/Wau+WTNLUkeXcPDTZ6Z8UBlbMF4cpL3ju97arYfxPx4htbe8zLcA3irDL/lDuuySH1/P8Nlkh/PsC4stGLvl+Sd43bj/AyXhL9+V2bIKnta1m75vYax9efoJK8el9N/yfAbZd5prLPFltWvZNgmvWj83c/NEKST4Uqk147z6bDr+NlbssgyP/GGJBur6pMZWgB/8JDE7n5jkv+b5KNj69z7MjzrY2H89zJcLbVvkjfU+v9niJXcz8zr4iTfqqrZgHTHuuZD2Bbz2gytxg/OtS+XTY+Xvmc4tkgNV1LdMMNtXgscXy59QuivMzzocuHBUvuMJyeW4zNJDq6qW439iz7AcVZ3fyjJ7429H81w7/WGDL/ByRmOAT+Z4VL3pR5I+pIk9xnXuddk/mPsVyb5jwz7l/dmaFhY9KqCnewvl9quvqCGB46dO773xCWm/cYMV2idPk57S4ZLxHdmejyy++nd4MbpPfGVnT/45NkZVogdPYDhpMz3AIa/yXA5xpYM9wrdbid1u3OGjc8FGe5FOm6O73Nhhoen3GBm2OtyzQcwvDa7wQO+Vuj3u9lM9y9k2JDts971WoPv/dwMO7wt2f4wrPPH3/S4mXLHZnio1pbs/AFfq74ejO/ZN8PB+scmw0/PtR/wda3v5LVnv6bL2pzvOTKr8HCyXamL197zsnys7vxcxeOtzRlaixf6j8k1H/B19qT8IRkuVT0/20+M33Yn3+VHM1xW/dbJ8K255gO+Ts/wYKUtGU5er8b3PSZ74PHl+Fucm+H2mLMz3D/8UzPjj8oQGM/LEFBfNP0956jzszKE5g9meBDb1iWWkY0ZLmG+1rKaOY+jVmgdudn4d98MJ7yPXc3P29teNc5cVlBVbc1w8H7heteFxVXVMUl+O8PVFd9J8tTu/si6Vup6xnrASqqqznBAMM9ldAvvOTLDE8KX27Kw4nVh72H5WDt7235mb/u+i1mt7fqebLx6ad8Ml4x/IMnTeulb1Vim9b50BtZFd78uS1/KC+xmuntX7nU/PcMTRde9Luw9LB/AWurhSfGsEi3Lu4nx3qLpyYuLuvuxS5Q/Nos/NOopPf5LpEn5d+fa/0bgK909z/0E7MWq6jlJHr7IqEd096dW+LOWtR4AwHKs5n6mqg7IcJ/61N939zOu6/R3xZ56fLnax62Oi5mXsAwAAAATnoYNAAAAE8IyAAAATAjLAAAAMCEsAwAAwISwDAAAABPCMgAAAEz8/wXKd91K8WNAAAAAAElFTkSuQmCC\n",
      "text/plain": [
       "<Figure size 1200x400 with 1 Axes>"
      ]
     },
     "metadata": {
      "needs_background": "light"
     },
     "output_type": "display_data"
    }
   ],
   "source": [
    "plt.figure(figsize=(15, 5), dpi=80)\n",
    "plt.bar(Feature_importance.sort_values(by=\"importance\",ascending=False).iloc[:10,0],\n",
    "        Feature_importance.sort_values(by=\"importance\",ascending=False).iloc[:10,1])\n",
    "plt.title(\"Feature Importance\");\n",
    "plt.savefig(os.join(plots, 'feature_importance_bbl.png'))"
   ]
  },
  {
   "cell_type": "markdown",
   "id": "0ce37a77",
   "metadata": {},
   "source": [
    "## Random Forests"
   ]
  },
  {
   "cell_type": "code",
   "execution_count": 27,
   "id": "beb4ff90",
   "metadata": {},
   "outputs": [
    {
     "name": "stdout",
     "output_type": "stream",
     "text": [
      "0.971385738369546\n"
     ]
    }
   ],
   "source": [
    "from sklearn.ensemble import RandomForestClassifier\n",
    "rf = RandomForestClassifier(n_estimators=30, n_jobs=-1,max_leaf_nodes=10)\n",
    "rf.fit(X_train, y_train)\n",
    "pred=rf.predict_proba(X_test)[:,1]\n",
    "print(roc_auc_score(y_test,pred))"
   ]
  },
  {
   "cell_type": "code",
   "execution_count": 59,
   "id": "4cf9019c",
   "metadata": {},
   "outputs": [
    {
     "name": "stdout",
     "output_type": "stream",
     "text": [
      "{'max_depth': 9}\n",
      "0.9772815668735724\n"
     ]
    }
   ],
   "source": [
    "param_grid = {'max_depth':range(1,50)}\n",
    "rf = RandomForestClassifier(n_jobs=-1, n_estimators = 30)\n",
    "gs = GridSearchCV(rf, param_grid=param_grid, scoring='roc_auc')\n",
    "rs = gs.fit(X_train,y_train)\n",
    "pred=rs.predict_proba(X_test)[:,1]\n",
    "print(rs.best_params_)\n",
    "print(roc_auc_score(np.array(y_test),pred))"
   ]
  },
  {
   "cell_type": "code",
   "execution_count": 28,
   "id": "7ae9d101",
   "metadata": {},
   "outputs": [
    {
     "name": "stdout",
     "output_type": "stream",
     "text": [
      "0.976998771818987\n"
     ]
    }
   ],
   "source": [
    "rf = RandomForestClassifier(n_estimators=30, n_jobs=-1, max_depth = 9) #rs.best_params['max_depth'])\n",
    "rf.fit(X_train, y_train)\n",
    "pred=rf.predict_proba(X_test)[:,1]\n",
    "print(roc_auc_score(y_test,pred))"
   ]
  },
  {
   "cell_type": "code",
   "execution_count": 29,
   "id": "ab604275",
   "metadata": {},
   "outputs": [
    {
     "data": {
      "text/plain": [
       "(array([0.99661008, 0.8       ]),\n",
       " array([0.99999563, 0.00511509]),\n",
       " array([0.99829998, 0.01016518]),\n",
       " array([228727,    782], dtype=int64))"
      ]
     },
     "execution_count": 29,
     "metadata": {},
     "output_type": "execute_result"
    }
   ],
   "source": [
    "## look at precision and recall rates\n",
    "precision_recall_fscore_support(y_test, (pred > 0.5))"
   ]
  },
  {
   "cell_type": "code",
   "execution_count": 31,
   "id": "7e5b34b8",
   "metadata": {
    "scrolled": true
   },
   "outputs": [
    {
     "data": {
      "image/png": "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\n",
      "text/plain": [
       "<Figure size 864x576 with 2 Axes>"
      ]
     },
     "metadata": {
      "needs_background": "light"
     },
     "output_type": "display_data"
    }
   ],
   "source": [
    "fig, (ax1, ax2) = plt.subplots(1, 2, figsize=(12, 8))\n",
    "\n",
    "fpr, tpr, _ = roc_curve(y_test, pred, pos_label=1)\n",
    "roc_display = RocCurveDisplay(fpr=fpr, tpr=tpr).plot(ax=ax1)\n",
    "\n",
    "prec, recall, _ = precision_recall_curve(y_test, pred, pos_label= 1)\n",
    "pr_display = PrecisionRecallDisplay(precision=prec, recall=recall).plot(ax=ax2)\n",
    "\n",
    "plt.show()\n",
    "fig.savefig(os.join(plots, 'auc_precision_recall2.png'))"
   ]
  },
  {
   "cell_type": "markdown",
   "id": "51e72026",
   "metadata": {},
   "source": [
    "### CMM and other ensembles"
   ]
  },
  {
   "cell_type": "code",
   "execution_count": 119,
   "id": "ba897d98",
   "metadata": {},
   "outputs": [],
<<<<<<< HEAD
   "source": [
    "rf = RandomForestClassifier(n_jobs=-1, n_estimators=30, random_state = 99, max_depth = rs.best_params_['max_depth'])\n",
    "rf.fit(X_train,y_train)\n",
    "\n",
    "# randomly generate a sample of xs\n",
    "X_rand= pd.DataFrame({x:X_train[x].sample(n = round(0.25*X_train.shape[0])).reset_index(drop = True) for x in X_train.columns})\n",
    "y_rand= rf.predict(X_rand)"
   ]
  },
  {
   "cell_type": "code",
   "execution_count": 120,
   "id": "34442a70",
   "metadata": {},
   "outputs": [],
   "source": [
    "# create the cmm training datasets\n",
    "X_train_cmm= pd.concat([X_rand, X_train], axis = 0, ignore_index = True)\n",
    "y_train_cmm= pd.concat([pd.DataFrame(y_rand), y_train], axis = 0, ignore_index = True)"
   ]
  },
  {
   "cell_type": "code",
   "execution_count": 121,
   "id": "8c9a98ac",
   "metadata": {},
   "outputs": [
    {
     "name": "stdout",
     "output_type": "stream",
     "text": [
      "{'max_depth': 5}\n",
      "0.9764522603963802\n"
     ]
    }
   ],
   "source": [
    "param_grid = {'max_depth':range(1,30)}\n",
    "dt=DecisionTreeClassifier()\n",
    "gr=GridSearchCV(dt,param_grid=param_grid, scoring='roc_auc')\n",
    "rs=gr.fit(X_train_cmm,y_train_cmm)\n",
    "print(rs.best_params_)\n",
    "print(roc_auc_score(np.array(y_test),rs.predict_proba(X_test)[:,1]))"
   ]
  },
  {
   "cell_type": "code",
   "execution_count": 122,
   "id": "e4847051",
   "metadata": {},
   "outputs": [
    {
     "name": "stdout",
     "output_type": "stream",
     "text": [
      "ROC AUC: 0.9764522603963802\n",
      "Precision: 0.5833333333333334\n",
      "Recall: 0.008951406649616368\n"
     ]
    }
   ],
   "source": [
    "# predict_proba predicts the probability of each class rather than just the most likely class\n",
    "pred=gr.predict_proba(X_test)[:,1] # predicted probability of y = 1\n",
    "\n",
    "print(\"ROC AUC:\", roc_auc_score(np.array(y_test),pred))\n",
    "## look at precision and recall rates\n",
    "pr= precision_recall_fscore_support(y_test, pred > 0.5)\n",
    "print(\"Precision:\", pr[0][1])\n",
    "print(\"Recall:\", pr[1][1])"
   ]
  },
  {
   "cell_type": "code",
   "execution_count": 123,
   "id": "f29a832a",
   "metadata": {},
   "outputs": [
    {
     "ename": "NameError",
     "evalue": "name 'tree' is not defined",
     "output_type": "error",
     "traceback": [
      "\u001b[1;31m---------------------------------------------------------------------------\u001b[0m",
      "\u001b[1;31mNameError\u001b[0m                                 Traceback (most recent call last)",
      "\u001b[1;32m~\\AppData\\Local\\Temp/ipykernel_23508/4090982733.py\u001b[0m in \u001b[0;36m<module>\u001b[1;34m\u001b[0m\n\u001b[0;32m      2\u001b[0m \u001b[0mdt\u001b[0m\u001b[1;33m.\u001b[0m\u001b[0mfit\u001b[0m\u001b[1;33m(\u001b[0m\u001b[0mX_train_cmm\u001b[0m\u001b[1;33m,\u001b[0m \u001b[0my_train_cmm\u001b[0m\u001b[1;33m)\u001b[0m\u001b[1;33m\u001b[0m\u001b[1;33m\u001b[0m\u001b[0m\n\u001b[0;32m      3\u001b[0m \u001b[1;33m\u001b[0m\u001b[0m\n\u001b[1;32m----> 4\u001b[1;33m thestring = tree.export_graphviz(dt, out_file=None,  \n\u001b[0m\u001b[0;32m      5\u001b[0m                          \u001b[0mfeature_names\u001b[0m\u001b[1;33m=\u001b[0m\u001b[0mX_train\u001b[0m\u001b[1;33m.\u001b[0m\u001b[0mcolumns\u001b[0m\u001b[1;33m.\u001b[0m\u001b[0mvalues\u001b[0m\u001b[1;33m,\u001b[0m\u001b[1;33m\u001b[0m\u001b[1;33m\u001b[0m\u001b[0m\n\u001b[0;32m      6\u001b[0m                          \u001b[0mclass_names\u001b[0m\u001b[1;33m=\u001b[0m\u001b[1;33m[\u001b[0m\u001b[1;34m'no weapon found'\u001b[0m\u001b[1;33m,\u001b[0m\u001b[1;34m'weapon found'\u001b[0m\u001b[1;33m]\u001b[0m\u001b[1;33m,\u001b[0m\u001b[1;33m\u001b[0m\u001b[1;33m\u001b[0m\u001b[0m\n",
      "\u001b[1;31mNameError\u001b[0m: name 'tree' is not defined"
     ]
    }
   ],
   "source": [
    "dt = DecisionTreeClassifier(max_depth= 4) #rs.best_params_['max_depth']) # since max depth is optimal for 3, use that\n",
    "dt.fit(X_train_cmm, y_train_cmm)\n",
    "\n",
    "thestring = tree.export_graphviz(dt, out_file=None,  \n",
    "                         feature_names=X_train.columns.values, \n",
    "                         class_names=['no weapon found','weapon found'],  \n",
    "                         filled=True, rounded=True,  \n",
    "                         special_characters=True,impurity=False).replace(\" ;\\n}\", \" ;}\")\n",
    "graph = pydotplus.graph_from_dot_data(thestring);\n",
    "graph.write_png(os.join(plots,'num_fire_ev_cmm.png'))\n",
    "Image(graph.create_png())"
   ]
  },
  {
   "cell_type": "markdown",
   "id": "ee167b62",
   "metadata": {},
   "source": [
    "## (2) Bayes Nets"
   ]
  },
  {
   "cell_type": "code",
   "execution_count": 44,
   "id": "b0cde801",
   "metadata": {},
   "outputs": [],
   "source": [
    "from pgmpy.estimators import HillClimbSearch\n",
    "from pgmpy.estimators import K2Score, BicScore, BDeuScore\n",
    "from pgmpy.models import BayesianNetwork\n",
    "from pgmpy.estimators import BayesianEstimator\n",
    "import matplotlib.pyplot as plt"
   ]
  },
  {
   "cell_type": "code",
   "execution_count": 40,
   "id": "90918073",
   "metadata": {
    "scrolled": true
   },
   "outputs": [
    {
     "data": {
      "text/plain": [
       "['vacate_ind',\n",
       " 'hpd_b_c_vio',\n",
       " 'bldgarea',\n",
       " 'tot_hpd_vio',\n",
       " 'unitstotal',\n",
       " 'pop65plus',\n",
       " 'unitsres',\n",
       " 'pctnhblack',\n",
       " 'hpd_fire_vio',\n",
       " 'hpd_b_c_vio_per_unit',\n",
       " 'mediangrossrent']"
      ]
     },
     "execution_count": 40,
     "metadata": {},
     "output_type": "execute_result"
    }
   ],
   "source": [
    "impt_vars= [\"vacate_ind\"] + ft[\"variables\"].tolist()\n",
    "impt_vars"
   ]
  },
  {
   "cell_type": "code",
   "execution_count": 41,
   "id": "8bd7ab92",
   "metadata": {},
   "outputs": [
    {
     "name": "stdout",
     "output_type": "stream",
     "text": [
      "vacate_ind\n",
      "hpd_b_c_vio\n"
     ]
    },
    {
     "data": {
      "image/png": "iVBORw0KGgoAAAANSUhEUgAAAYoAAAEICAYAAABBBrPDAAAAOXRFWHRTb2Z0d2FyZQBNYXRwbG90bGliIHZlcnNpb24zLjQuMywgaHR0cHM6Ly9tYXRwbG90bGliLm9yZy/MnkTPAAAACXBIWXMAAAsTAAALEwEAmpwYAAAdN0lEQVR4nO3df5RfdX3n8efLBGIEgwkMbExSEyVVA1tRckJcXY5rMIlaDT0HdseuMtTsZg9SV7t222Bro9DsgR4rLm1hT1ayBLSENOohxy7FOaGUYzcbMmgkBMhmkB+JicnIBAhasMH3/nHfY+6M3/l8vzPMr8jrcc4933vf9/P5fD/fy2Rec3/MoIjAzMxsMK8a7wmYmdnE5qAwM7MiB4WZmRU5KMzMrMhBYWZmRQ4KMzMrclDYqJC0W9J7xnseo03Sn0r6saQfjdB4IensERrr85K+2qTN3HzPySPxnsP1Svl6OVE5KGzIJD0h6aIBtcslfadvOyLOiYh7m4wzIb5JDZekOcBngAUR8S/Gez4nsla+Xmz8OCjsV9YYBNAbgKcj4vBQO56o4WivTA4KGxX1sw5JiyR1SXpO0iFJX8pm9+XrM5Kel/ROSa+S9MeSnpR0WNKtkk6rjXtZ7nta0ucGvM/nJW2W9FVJzwGX53tvk/SMpIOS/lLSybXxQtInJO2VdFTSNZLelH2ek7Sp3r7W7yKgE3h9zv2WrH84L6M8I+leSW8dcEz+UNKDwE8KYXFRzueIpL+SpOx/uaR/lPQXkp6V9KikJbXx50n6h/wcncAZQ/hP9nFJB/IYfaZZY0mTJH1W0mP5fg/kGdZg7f+HpC8OqN0p6b/kev2/4xRJX875HMj1KUP4LDbSIsKLlyEtwBPARQNqlwPfadQG2AZ8LNdPBRbn+lwggMm1fh8HuoE3ZttvALflvgXA88C7gZOBLwL/XHufz+f2xVQ/BE0FzgcWA5Pz/R4BPl17vwC2ANOAc4AXga35/qcBDwMdgxyH9wD7a9u/DvwEeB9wEvAH+VlOrh2TncAcYOogYwbwLeB1wK8BPcDy2jE+Bvxejv/vgGeBGbXj/CVgCnAhcBT4apP/ln3/DW4HTgH+Zb7nRU36/VdgF/BmQMDbgNML7S8E9gHK7enAPwGvb/D1cjXwf4EzgTbg/wDXjPfX/St5GfcJeDnxlvxH/TzwTG35KYMHxX3AF4AzBozT902qHhRbgU/Utt9M9c1/MvAnwO21fa8Bfkb/oLivydw/DXyzth3Au2rbDwB/WNv+c+DLg4z1HvoHxeeATbXtVwE/BN5TOyYfbzK/AN5d294ErM71y4EDfd9ss3Y/8DGqUDkGnFLb99dDCIq31Gp/BtzcpN8eYMUQvmYEPAVcmNv/EbhnkK+Xx4AP1PYtA54Y76/7V/LiS082XBdHxOv6FuAThbYrqX7aflTSDkm/WWj7euDJ2vaTVCFxVu7b17cjIn4KPD2g/776hqRfl/QtST/Ky1H/jV++JHOotv5PDbZPLcx30LlHxM9zPrMGm98g6k9Q/XTA+/8w8rtnejLf9/XAkYj4yYB9rarPq2/MkjlU39BbknPeCHwkS78NfG2Q5o2+BprNx0aRg8JGXUTsjYiPUF1KuA7YLOkUqp9kBzpAdZO4T99PyoeAg8Dsvh2SpgKnD3y7Ads3AY8C8yNiGvBZqp9uR0O/uee9hTlUZxWDzW+oZvXds0i/lu97EJiex7W+r1X1+wt9Y5bsA940hPGhurx1iaQ3ABcAXx+kXaOvgWbzsVHkoLBRJ+mjktryJ+xnsvwS1bXwn1PdD+hzO/B7eWP2VKozgDsi4hiwGfiQpH+VN5i/QPNv+q8FngOel/QW4IqR+lwNbAI+KGmJpJOoHp19keoa+0g5E/jPkk6SdCnwVuB/R8STQBfwBUknS3o38KEhjPs5Sa+RdA7wO8AdTdp/BbhG0nxVfkPSwNDuJyK+R/Xf/CvA3RHxzCBNbwf+WFKbpDOoLjkWfx/ERpcf0bOxsBz4kqTXUF1GaI+IFwAkrQX+Mb+xLgfWU11muA94NXA38EmAiNgt6ZNUlzBOAb4MHKb6ZjyY3wfWUd1Y/h7VN8D3jvDnI+e3R9JHgb+guty0E/hQRPxsBN9mOzAf+DHVWdYlEdF3+e23gQ1AL9WN7Vupboq34h+obry/CvhiRHy7Sfu+m+bfprqU9yjwWy28z+1UN6v/baHNn1I9XPBgbv9N1mycqP/lTrMTR55xPEN1WenxcZ7OqJN0OfAfIuLd4z0Xe2XxpSc7oUj6UF4iOYXq8dhdVE/MmNkocVDYiWYF1Y3NA1SXYNrDp8VFkv59/lLgwGV3k353DdLvs4O0/9eDtH9+dD6ZjRVfejIzsyKfUZiZWdGv3FNPZ5xxRsydO3e8p2FmdkJ54IEHfhwRbY32/coFxdy5c+nq6hrvaZiZnVAkDfqb/L70ZGZmRQ4KMzMrclCYmVmRg8LMzIocFGZmVuSgMDOzIgeFmZkVOSjMzKzIQWFmZkW/cr+Z/XLNXf23v1h/4toPjuNMzMwmBp9RmJlZkYPCzMyKHBRmZlbkoDAzsyIHhZmZFTkozMysyEFhZmZFDgozMytqGhSS3ixpZ215TtKnJc2Q1Clpb75Or/W5SlK3pD2SltXq50valftukKSsT5F0R9a3S5pb69OR77FXUscIf34zM2uiaVBExJ6IOC8izgPOB34KfBNYDWyNiPnA1txG0gKgHTgHWA7cKGlSDncTsAqYn8vyrK8EjkTE2cD1wHU51gxgDXABsAhYUw8kMzMbfUO99LQEeCwingRWABuyvgG4ONdXABsj4sWIeBzoBhZJmglMi4htERHArQP69I21GViSZxvLgM6I6I2II0Anx8PFzMzGwFCDoh24PdfPioiDAPl6ZtZnAftqffZnbVauD6z36xMRx4BngdMLY/UjaZWkLkldPT09Q/xIZmZW0nJQSDoZ+DDwN82aNqhFoT7cPscLEesiYmFELGxra2syPTMzG4qhnFG8H/huRBzK7UN5OYl8PZz1/cCcWr/ZwIGsz25Q79dH0mTgNKC3MJaZmY2RoQTFRzh+2QlgC9D3FFIHcGet3p5PMs2juml9f16eOippcd5/uGxAn76xLgHuyfsYdwNLJU3Pm9hLs2ZmZmOkpf8fhaTXAO8D/lOtfC2wSdJK4CngUoCI2C1pE/AwcAy4MiJeyj5XALcAU4G7cgG4GbhNUjfVmUR7jtUr6RpgR7a7OiJ6h/E5zcxsmFoKioj4KdXN5XrtaaqnoBq1XwusbVDvAs5tUH+BDJoG+9YD61uZp5mZjTz/ZraZmRU5KMzMrMhBYWZmRQ4KMzMrclCYmVmRg8LMzIocFGZmVuSgMDOzIgeFmZkVOSjMzKzIQWFmZkUOCjMzK3JQmJlZkYPCzMyKHBRmZlbkoDAzsyIHhZmZFTkozMysyEFhZmZFLQWFpNdJ2izpUUmPSHqnpBmSOiXtzdfptfZXSeqWtEfSslr9fEm7ct8NkpT1KZLuyPp2SXNrfTryPfZK6hjBz25mZi1o9YzivwN/FxFvAd4GPAKsBrZGxHxga24jaQHQDpwDLAdulDQpx7kJWAXMz2V51lcCRyLibOB64LocawawBrgAWASsqQeSmZmNvqZBIWkacCFwM0BE/CwingFWABuy2Qbg4lxfAWyMiBcj4nGgG1gkaSYwLSK2RUQAtw7o0zfWZmBJnm0sAzojojcijgCdHA8XMzMbA62cUbwR6AH+l6TvSfqKpFOAsyLiIEC+npntZwH7av33Z21Wrg+s9+sTEceAZ4HTC2P1I2mVpC5JXT09PS18JDMza1UrQTEZeAdwU0S8HfgJeZlpEGpQi0J9uH2OFyLWRcTCiFjY1tZWmJqZmQ1VK0GxH9gfEdtzezNVcBzKy0nk6+Fa+zm1/rOBA1mf3aDer4+kycBpQG9hLDMzGyNNgyIifgTsk/TmLC0BHga2AH1PIXUAd+b6FqA9n2SaR3XT+v68PHVU0uK8/3DZgD59Y10C3JP3Me4Glkqanjexl2bNzMzGyOQW230S+Jqkk4EfAL9DFTKbJK0EngIuBYiI3ZI2UYXJMeDKiHgpx7kCuAWYCtyVC1Q3ym+T1E11JtGeY/VKugbYke2ujojeYX5WMzMbhpaCIiJ2Agsb7FoySPu1wNoG9S7g3Ab1F8igabBvPbC+lXmamdnI829mm5lZkYPCzMyKHBRmZlbkoDAzsyIHhZmZFTkozMysyEFhZmZFDgozMytyUJiZWZGDwszMihwUZmZW5KAwM7MiB4WZmRU5KMzMrMhBYWZmRQ4KMzMrclCYmVmRg8LMzIocFGZmVtRSUEh6QtIuSTsldWVthqROSXvzdXqt/VWSuiXtkbSsVj8/x+mWdIMkZX2KpDuyvl3S3FqfjnyPvZI6RuyTm5lZS4ZyRvFvIuK8iFiY26uBrRExH9ia20haALQD5wDLgRslTco+NwGrgPm5LM/6SuBIRJwNXA9cl2PNANYAFwCLgDX1QDIzs9H3ci49rQA25PoG4OJafWNEvBgRjwPdwCJJM4FpEbEtIgK4dUCfvrE2A0vybGMZ0BkRvRFxBOjkeLiYmdkYaDUoAvi2pAckrcraWRFxECBfz8z6LGBfre/+rM3K9YH1fn0i4hjwLHB6Yax+JK2S1CWpq6enp8WPZGZmrZjcYrt3RcQBSWcCnZIeLbRVg1oU6sPtc7wQsQ5YB7Bw4cJf2m9mZsPX0hlFRBzI18PAN6nuFxzKy0nk6+Fsvh+YU+s+GziQ9dkN6v36SJoMnAb0FsYyM7Mx0jQoJJ0i6bV968BS4CFgC9D3FFIHcGeubwHa80mmeVQ3re/Py1NHJS3O+w+XDejTN9YlwD15H+NuYKmk6XkTe2nWzMxsjLRy6eks4Jv5JOtk4K8j4u8k7QA2SVoJPAVcChARuyVtAh4GjgFXRsRLOdYVwC3AVOCuXABuBm6T1E11JtGeY/VKugbYke2ujojel/F5zcxsiJoGRUT8AHhbg/rTwJJB+qwF1jaodwHnNqi/QAZNg33rgfXN5mlmZqPDv5ltZmZFDgozMytyUJiZWZGDwszMihwUZmZW5KAwM7MiB4WZmRU5KMzMrMhBYWZmRQ4KMzMrclCYmVmRg8LMzIocFGZmVuSgMDOzIgeFmZkVOSjMzKzIQWFmZkUOCjMzK3JQmJlZUctBIWmSpO9J+lZuz5DUKWlvvk6vtb1KUrekPZKW1ernS9qV+26QpKxPkXRH1rdLmlvr05HvsVdSx4h8ajMza9lQzig+BTxS214NbI2I+cDW3EbSAqAdOAdYDtwoaVL2uQlYBczPZXnWVwJHIuJs4HrguhxrBrAGuABYBKypB5KZmY2+loJC0mzgg8BXauUVwIZc3wBcXKtvjIgXI+JxoBtYJGkmMC0itkVEALcO6NM31mZgSZ5tLAM6I6I3Io4AnRwPFzMzGwOtnlF8GfgD4Oe12lkRcRAgX8/M+ixgX63d/qzNyvWB9X59IuIY8CxwemGsfiStktQlqaunp6fFj2RmZq1oGhSSfhM4HBEPtDimGtSiUB9un+OFiHURsTAiFra1tbU4TTMza0UrZxTvAj4s6QlgI/BeSV8FDuXlJPL1cLbfD8yp9Z8NHMj67Ab1fn0kTQZOA3oLY5mZ2RhpGhQRcVVEzI6IuVQ3qe+JiI8CW4C+p5A6gDtzfQvQnk8yzaO6aX1/Xp46Kmlx3n+4bECfvrEuyfcI4G5gqaTpeRN7adbMzGyMTH4Zfa8FNklaCTwFXAoQEbslbQIeBo4BV0bES9nnCuAWYCpwVy4ANwO3SeqmOpNoz7F6JV0D7Mh2V0dE78uYs5mZDdGQgiIi7gXuzfWngSWDtFsLrG1Q7wLObVB/gQyaBvvWA+uHMk8zMxs5/s1sMzMrclCYmVmRg8LMzIocFGZmVuSgMDOzIgeFmZkVOSjMzKzIQWFmZkUOCjMzK3JQmJlZkYPCzMyKHBRmZlbkoDAzsyIHhZmZFTkozMysyEFhZmZFDgozMytyUJiZWVHToJD0akn3S/q+pN2SvpD1GZI6Je3N1+m1PldJ6pa0R9KyWv18Sbty3w2SlPUpku7I+nZJc2t9OvI99krqGNFPb2ZmTbVyRvEi8N6IeBtwHrBc0mJgNbA1IuYDW3MbSQuAduAcYDlwo6RJOdZNwCpgfi7Ls74SOBIRZwPXA9flWDOANcAFwCJgTT2QzMxs9DUNiqg8n5sn5RLACmBD1jcAF+f6CmBjRLwYEY8D3cAiSTOBaRGxLSICuHVAn76xNgNL8mxjGdAZEb0RcQTo5Hi4mJnZGGjpHoWkSZJ2AoepvnFvB86KiIMA+XpmNp8F7Kt135+1Wbk+sN6vT0QcA54FTi+MZWZmY6SloIiIlyLiPGA21dnBuYXmajREoT7cPsffUFolqUtSV09PT2FqZmY2VEN66ikingHupbr8cygvJ5Gvh7PZfmBOrdts4EDWZzeo9+sjaTJwGtBbGGvgvNZFxMKIWNjW1jaUj2RmZk208tRTm6TX5fpU4CLgUWAL0PcUUgdwZ65vAdrzSaZ5VDet78/LU0clLc77D5cN6NM31iXAPXkf425gqaTpeRN7adbMzGyMTG6hzUxgQz659CpgU0R8S9I2YJOklcBTwKUAEbFb0ibgYeAYcGVEvJRjXQHcAkwF7soF4GbgNkndVGcS7TlWr6RrgB3Z7uqI6H05H9jMzIamaVBExIPA2xvUnwaWDNJnLbC2Qb0L+KX7GxHxAhk0DfatB9Y3m6eZmY0O/2a2mZkVOSjMzKzIQWFmZkUOCjMzK3JQmJlZkYPCzMyKHBRmZlbkoDAzsyIHhZmZFTkozMysyEFhZmZFDgozMytyUJiZWZGDwszMihwUZmZW5KAwM7MiB4WZmRU5KMzMrMhBYWZmRU2DQtIcSX8v6RFJuyV9KuszJHVK2puv02t9rpLULWmPpGW1+vmSduW+GyQp61Mk3ZH17ZLm1vp05HvsldQxop/ezMyaauWM4hjwmYh4K7AYuFLSAmA1sDUi5gNbc5vc1w6cAywHbpQ0Kce6CVgFzM9ledZXAkci4mzgeuC6HGsGsAa4AFgErKkHkpmZjb6mQRERByPiu7l+FHgEmAWsADZksw3Axbm+AtgYES9GxONAN7BI0kxgWkRsi4gAbh3Qp2+szcCSPNtYBnRGRG9EHAE6OR4uZmY2BoZ0jyIvCb0d2A6cFREHoQoT4MxsNgvYV+u2P2uzcn1gvV+fiDgGPAucXhhr4LxWSeqS1NXT0zOUj2RmZk20HBSSTgW+Dnw6Ip4rNW1Qi0J9uH2OFyLWRcTCiFjY1tZWmJqZmQ1VS0Eh6SSqkPhaRHwjy4fychL5ejjr+4E5te6zgQNZn92g3q+PpMnAaUBvYSwzMxsjrTz1JOBm4JGI+FJt1xag7ymkDuDOWr09n2SaR3XT+v68PHVU0uIc87IBffrGugS4J+9j3A0slTQ9b2IvzZqZmY2RyS20eRfwMWCXpJ1Z+yxwLbBJ0krgKeBSgIjYLWkT8DDVE1NXRsRL2e8K4BZgKnBXLlAF0W2SuqnOJNpzrF5J1wA7st3VEdE7vI9qZmbD0TQoIuI7NL5XALBkkD5rgbUN6l3AuQ3qL5BB02DfemB9s3mamdno8G9mm5lZkYPCzMyKHBRmZlbkoDAzsyIHhZmZFTkozMysyEFhZmZFDgozMytyUJiZWZGDwszMihwUZmZW5KAwM7MiB4WZmRU5KMzMrMhBYWZmRQ4KMzMrclCYmVmRg8LMzIocFGZmVtQ0KCStl3RY0kO12gxJnZL25uv02r6rJHVL2iNpWa1+vqRdue8GScr6FEl3ZH27pLm1Ph35HnsldYzYpzYzs5a1ckZxC7B8QG01sDUi5gNbcxtJC4B24Jzsc6OkSdnnJmAVMD+XvjFXAkci4mzgeuC6HGsGsAa4AFgErKkHkpmZjY2mQRER9wG9A8orgA25vgG4uFbfGBEvRsTjQDewSNJMYFpEbIuIAG4d0KdvrM3AkjzbWAZ0RkRvRBwBOvnlwDIzs1E23HsUZ0XEQYB8PTPrs4B9tXb7szYr1wfW+/WJiGPAs8DphbF+iaRVkrokdfX09AzzI5mZWSMjfTNbDWpRqA+3T/9ixLqIWBgRC9va2lqaqJmZtWa4QXEoLyeRr4ezvh+YU2s3GziQ9dkN6v36SJoMnEZ1qWuwsczMbAwNNyi2AH1PIXUAd9bq7fkk0zyqm9b35+Wpo5IW5/2Hywb06RvrEuCevI9xN7BU0vS8ib00a2ZmNoYmN2sg6XbgPcAZkvZTPYl0LbBJ0krgKeBSgIjYLWkT8DBwDLgyIl7Koa6geoJqKnBXLgA3A7dJ6qY6k2jPsXolXQPsyHZXR8TAm+pmZjbKmgZFRHxkkF1LBmm/FljboN4FnNug/gIZNA32rQfWN5ujmZmNHv9mtpmZFTkozMysyEFhZmZFDgozMytyUJiZWZGDwszMihwUZmZW5KAwM7MiB4WZmRU5KMzMrMhBYWZmRQ4KMzMrclCYmVmRg8LMzIocFGZmVuSgMDOzIgeFmZkVOSjMzKzIQWFmZkUnRFBIWi5pj6RuSavHez5mZq8kk8d7As1ImgT8FfA+YD+wQ9KWiHh4tN977uq//cX6E9d+cLTfzsxsQprwQQEsAroj4gcAkjYCK4BRD4q6emgMxmFiZr+KToSgmAXsq23vBy6oN5C0CliVm89L2vMy3u8M4MfD6ajrXsa7Ds2w5ziGPMeR4TmODM+xuTcMtuNECAo1qEW/jYh1wLoReTOpKyIWjsRYo8VzHBme48jwHEfGRJ7jiXAzez8wp7Y9GzgwTnMxM3vFORGCYgcwX9I8SScD7cCWcZ6TmdkrxoS/9BQRxyT9LnA3MAlYHxG7R/EtR+QS1ijzHEeG5zgyPMeRMWHnqIho3srMzF6xToRLT2ZmNo4cFGZmVuSgSBPpz4RIekLSLkk7JXVlbYakTkl783V6rf1VOe89kpaN0pzWSzos6aFabchzknR+frZuSTdIavT480jO8fOSfpjHcqekD4zzHOdI+ntJj0jaLelTWZ8wx7IwxwlzLCW9WtL9kr6fc/xC1ifScRxsjhPmOLYsIl7xC9VN8seANwInA98HFozjfJ4AzhhQ+zNgda6vBq7L9QU53ynAvPwck0ZhThcC7wAeejlzAu4H3kn1+zF3Ae8f5Tl+Hvj9Bm3Ha44zgXfk+muB/5dzmTDHsjDHCXMsc7xTc/0kYDuweIIdx8HmOGGOY6uLzygqv/gzIRHxM6Dvz4RMJCuADbm+Abi4Vt8YES9GxONAN9XnGVERcR/Q+3LmJGkmMC0itkX11X9rrc9ozXEw4zXHgxHx3Vw/CjxC9dcHJsyxLMxxMOMxx4iI53PzpFyCiXUcB5vjYMbla7IVDopKoz8TUvqHMdoC+LakB1T9eRKAsyLiIFT/kIEzsz6ecx/qnGbl+sD6aPtdSQ/mpam+SxHjPkdJc4G3U/2kOSGP5YA5wgQ6lpImSdoJHAY6I2LCHcdB5ggT6Di2wkFRafpnQsbYuyLiHcD7gSslXVhoO9HmDoPPaTzmehPwJuA84CDw51kf1zlKOhX4OvDpiHiu1HSQ+Yz6PBvMcUIdy4h4KSLOo/prDYsknVtoPpHmOKGOYyscFJUJ9WdCIuJAvh4Gvkl1KelQnoKSr4ez+XjOfahz2p/rA+ujJiIO5T/WnwP/k+OX5cZtjpJOovoG/LWI+EaWJ9SxbDTHiXgsc17PAPcCy5lgx7HRHCfqcSxxUFQmzJ8JkXSKpNf2rQNLgYdyPh3ZrAO4M9e3AO2SpkiaB8ynuvE1FoY0p7wUcFTS4nxq47Jan1HR900j/RbVsRy3OeaYNwOPRMSXarsmzLEcbI4T6VhKapP0ulyfClwEPMrEOo4N5ziRjmPLxvLO+URegA9QPd3xGPBH4ziPN1I9+fB9YHffXIDTga3A3nydUevzRznvPYzS0xDA7VSnyf9M9RPOyuHMCVhI9Q/jMeAvyb8OMIpzvA3YBTxI9Q9x5jjP8d1Ulw0eBHbm8oGJdCwLc5wwxxL4DeB7OZeHgD8Z7r+TcZjjhDmOrS7+Ex5mZlbkS09mZlbkoDAzsyIHhZmZFTkozMysyEFhZmZFDgozMytyUJiZWdH/B/iy3XI0HDa5AAAAAElFTkSuQmCC\n",
      "text/plain": [
       "<Figure size 432x288 with 1 Axes>"
      ]
     },
     "metadata": {
      "needs_background": "light"
     },
     "output_type": "display_data"
    },
    {
     "name": "stdout",
     "output_type": "stream",
     "text": [
      "None\n",
      "bldgarea\n"
     ]
    },
    {
     "data": {
      "image/png": "iVBORw0KGgoAAAANSUhEUgAAAY0AAAEVCAYAAAAckrn/AAAAOXRFWHRTb2Z0d2FyZQBNYXRwbG90bGliIHZlcnNpb24zLjQuMywgaHR0cHM6Ly9tYXRwbG90bGliLm9yZy/MnkTPAAAACXBIWXMAAAsTAAALEwEAmpwYAAAgL0lEQVR4nO3df5TV9X3n8ecrTCREI4KOrAEiJJIY8DQmzCJNerI2GEBtgt2DZ8c2dZLQQ2Js1uR0t2LOtiS69OjZtBo3q1kaqWi74oTEyiY1Zop1bRoEx4SIqISJqIwQGB1QjNVkyHv/+H5GvnO9M/czAzN3kNfjnHvu9/v+fj6f+7mXufOa7497UURgZmaW4031noCZmR09HBpmZpbNoWFmZtkcGmZmls2hYWZm2RwaZmaWzaFhdSVpq6Rz6z2P4Sbpv0t6TtIvjtB4IemMfrZ9UtIPB+h7v6Q/PhLzsGOPQ8OGjaSnJJ1XUevzCy0iZkXE/TXGmZZ+STYM01SHlaSpwJ8CMyPi39V7PmaHw6Fhx7wRCKPTgecjYu9gOx5NQXk0zdWGzqFhdVXeG5E0R1K7pBcl7ZH016nZA+l+v6SXJP22pDdJ+m+Snpa0V9JtksaXxr00bXte0p9XPM6XJa2V9HeSXgQ+mR57g6T9knZL+rqk40rjhaTPSdou6YCkayS9K/V5UVJruX2p33lAG/D2NPdbU/3j6dDc/nS46L0Vr8mVkh4BfjnAL+MLJD2ZDnv9D0lV38+SPirpCUkvSPo6oNK2MZL+Ko2xQ9KflPfqJH1K0uPpOT8p6TOlvudK6kxz/QXwt+nfZZmkn6fXvlXSxFKfb0n6RZrLA5Jm9fPcbLSKCN98G5Yb8BRwXkXtk8APq7UBNgB/lJZPAOam5WlAAA2lfp8GOoB3prbfAW5P22YCLwG/AxwHfBX4delxvpzWL6L4w2kcMBuYCzSkx3sc+ELp8QJYB5wIzAJeBdanxx8PPAa09PM6nAt0ltbfDfwS+CjwZuDP0nM5rvSabAamAuP6GTOAfwYmAu8Afgb8ceVrDJwCvAgsTo/1RaCn1Pazae5TgAnAP5Vfa+BC4F0UQfMfgJeBD5SeVw9wHTA2vY5fAB5M440F/jdwR8W/29vSthuAzfX+OfVtkO/rek/AtzfuLf3yewnYX7q9TP+h8QDwFeCUinGm8frQWA98rrT+nhQEDcBfVPyieivwK/qGxgM15v4F4K7SegAfKq0/DFxZWv8r4IZ+xjqXvqHx50Braf1NwLPAuaXX5NM15hfAwtL654D1abkcGpcCD5baCegshcZ9wGdK28+rfK0rHvcfgCtKz+tXwFtK2x8H5pXWT+v9d6ky1knpscbX+2fVt/ybD0/ZcLsoIk7qvVH8cuvPEoq/wp+Q9JCk3xug7duBp0vrT1MExqS0bWfvhoh4GXi+ov/O8oqkd0v6bjp08iLwlxR/pZftKS3/W5X1EwaYb79zj4jfpPlM7m9+/Si3eTqNW+2xyq9FVPR7e8V65etyvqQHJXVL2g9cQN/XpSsiXimtnw7clQ677acIkYPApHQo7Np06OpFinCE17/ONoo5NGzUiIjtEXEJcCrFIY+1ko6n+Gu00i6KX1C93kFxqGQPsJvi8AgAksYBJ1c+XMX6zcATwIyIOBH4EqVj/0dYn7lLEsWhqGcHmF81U0vL70jjVtpdbld6rPL2KaX1ctuxwLcpDu9NSqH/j/R9XSrnuRM4v/yHQkS8JSKeBf4AWESxNzOeYg8Shu91tmHg0LBRQ9InJDWmv7z3p/JBoAv4DcX5g153AF+UNF3SCRR7BndGRA+wFviYpA+mk9NfofYvprdRHPt/SdKZwGVH6nlV0QpcKGmepDdTXI77KvCjQY7zXyVNUHFJ7xXAnVXafA+YJek/ppPb/xkoX/bbClwhabKkk4ArS9uOozj30AX0SDofmF9jTt8AVkg6HUBSo6RFadvbKJ7n8xSHDP8y/6naaOHQsNFkIbBV0kvA14DmiHglHV5aAfxrOuwxF1gF3E5xHmQH8ArweYCI2JqW11D8JX0A2EvxC6s//4XiL+EDwN9Q/RfwERER24BPAP8TeA74GPCxiPjVIIe6m+LcymaKcLilymM9B1wMXEvxy3oG8K+lJn8D/AB4BPgJxZ5ED3AwIg5QhEwrsI/i9VlXY05fS21+IOkAxUnxc9K22ygOoz1LcfL9wcE8WRsdVBziNHvjSnsi+ykOPe2o83RGtbQ38Y2IOL1mYzsmeU/D3pAkfUzSW9M5ka8CWzh04tUSSeMkXSCpQdJkYDlwV73nZaNXVmhI+mL6INKjku6Q9BZJEyW1pQ87tUmaUGp/laQOSdskLSjVZ0vakrbdmE7KIWmspDtTfaOkaaU+LekxtktqOYLP3d7YFlGcGN5FcUimObxbXY0ozvnsozg89TjFJctmVdU8PJX++vghxffm/JukVorjnjOB7oi4VtIyYEJEXClpJsVJyjkUl/P9E/DuiDgoaRPFCbsH0xg3RsQ9kj4H/FZEfFZSM/D7EfGf0idJ24Emiqs0HgZmR8S+I/5KmJlZTbmHpxqAcenqi7dS/PW2CFidtq+m+HQtqb4mIl5Nx487gDmSTgNOjIgN6S++2yr69I61FpiX9kIWAG0R0Z2Coo3iZKmZmdVBzS8Yi4hnJX0VeIbiA0w/iIgfSJoUEbtTm92STk1dJtP3qojOVPt1Wq6s9/bZmcbqkfQCxXX1r9Wr9HmNpKXAUoDjjz9+9plnnlnraZmZWcnDDz/8XEQ01mpXMzTSuYpFwHSKK1C+JekTA3WpUosB6kPtc6gQsRJYCdDU1BTt7e0DTM/MzCpJerp2q7zDU+cBOyKiKyJ+TfHFcB8E9qRDTqT73q997qTvJ06nUBzO6qTvJ0976336pENg44HuAcYyM7M6yAmNZ4C56fJFAfMorrBYB/RezdRC8UEjUr05XRE1neLKlU3pUNYBSXPTOJdW9OkdazFwXzrvcS8wP33qdQLFp1HvPYzna2ZmhyHnnMZGSWuBH1N8UvQnFIeCTgBaJS2hCJaLU/ut6Qqrx1L7yyPiYBruMuBWiq9QvifdoPgk6+2SOij2MJrTWN2SrgEeSu2ujojuw3rGZmY2ZG+4T4T7nIaZ2eBJejgimmq18yfCzcwsm0PDzMyyOTTMzCybQ8PMzLI5NMzMLFvNS26PNdOWfe+15aeuvbCOMzEzG328p2FmZtkcGmZmls2hYWZm2RwaZmaWzaFhZmbZHBpmZpbNoWFmZtkcGmZmls2hYWZm2RwaZmaWzaFhZmbZHBpmZpatZmhIeo+kzaXbi5K+IGmipDZJ29P9hFKfqyR1SNomaUGpPlvSlrTtRklK9bGS7kz1jZKmlfq0pMfYLqnlCD9/MzMbhJqhERHbIuLsiDgbmA28DNwFLAPWR8QMYH1aR9JMoBmYBSwEbpI0Jg13M7AUmJFuC1N9CbAvIs4ArgeuS2NNBJYD5wBzgOXlcDIzs5E12MNT84CfR8TTwCJgdaqvBi5Ky4uANRHxakTsADqAOZJOA06MiA0REcBtFX16x1oLzEt7IQuAtojojoh9QBuHgsbMzEbYYEOjGbgjLU+KiN0A6f7UVJ8M7Cz16Uy1yWm5st6nT0T0AC8AJw8wlpmZ1UF2aEg6Dvg48K1aTavUYoD6UPuU57ZUUruk9q6urhrTMzOzoRrMnsb5wI8jYk9a35MOOZHu96Z6JzC11G8KsCvVp1Sp9+kjqQEYD3QPMFYfEbEyIpoioqmxsXEQT8nMzAZjMKFxCYcOTQGsA3qvZmoB7i7Vm9MVUdMpTnhvSoewDkiam85XXFrRp3esxcB96bzHvcB8SRPSCfD5qWZmZnWQ9X+ES3or8FHgM6XytUCrpCXAM8DFABGxVVIr8BjQA1weEQdTn8uAW4FxwD3pBnALcLukDoo9jOY0Vreka4CHUrurI6J7CM/TzMyOgKzQiIiXKU5Ml2vPU1xNVa39CmBFlXo7cFaV+iuk0KmybRWwKmeeZmY2vPyJcDMzy+bQMDOzbA4NMzPL5tAwM7NsDg0zM8vm0DAzs2wODTMzy+bQMDOzbA4NMzPL5tAwM7NsDg0zM8vm0DAzs2wODTMzy+bQMDOzbA4NMzPL5tAwM7NsDg0zM8vm0DAzs2wODTMzy5YVGpJOkrRW0hOSHpf025ImSmqTtD3dTyi1v0pSh6RtkhaU6rMlbUnbbpSkVB8r6c5U3yhpWqlPS3qM7ZJajuBzNzOzQcrd0/ga8P2IOBN4H/A4sAxYHxEzgPVpHUkzgWZgFrAQuEnSmDTOzcBSYEa6LUz1JcC+iDgDuB64Lo01EVgOnAPMAZaXw8nMzEZWzdCQdCLwYeAWgIj4VUTsBxYBq1Oz1cBFaXkRsCYiXo2IHUAHMEfSacCJEbEhIgK4raJP71hrgXlpL2QB0BYR3RGxD2jjUNCYmdkIy9nTeCfQBfytpJ9I+qak44FJEbEbIN2fmtpPBnaW+nem2uS0XFnv0ycieoAXgJMHGKsPSUsltUtq7+rqynhKZmY2FDmh0QB8ALg5It4P/JJ0KKofqlKLAepD7XOoELEyIpoioqmxsXGAqZmZ2eHICY1OoDMiNqb1tRQhsicdciLd7y21n1rqPwXYlepTqtT79JHUAIwHugcYy8zM6qBmaETEL4Cdkt6TSvOAx4B1QO/VTC3A3Wl5HdCcroiaTnHCe1M6hHVA0tx0vuLSij69Yy0G7kvnPe4F5kuakE6Az081MzOrg4bMdp8H/l7SccCTwKcoAqdV0hLgGeBigIjYKqmVIlh6gMsj4mAa5zLgVmAccE+6QXGS/XZJHRR7GM1prG5J1wAPpXZXR0T3EJ+rmZkdpqzQiIjNQFOVTfP6ab8CWFGl3g6cVaX+Cil0qmxbBazKmaeZmQ0vfyLczMyyOTTMzCybQ8PMzLI5NMzMLJtDw8zMsjk0zMwsm0PDzMyyOTTMzCybQ8PMzLI5NMzMLJtDw8zMsjk0zMwsm0PDzMyyOTTMzCybQ8PMzLI5NMzMLJtDw8zMsjk0zMwsW1ZoSHpK0hZJmyW1p9pESW2Stqf7CaX2V0nqkLRN0oJSfXYap0PSjZKU6mMl3ZnqGyVNK/VpSY+xXVLLEXvmZmY2aIPZ0/jdiDg7Inr/r/BlwPqImAGsT+tImgk0A7OAhcBNksakPjcDS4EZ6bYw1ZcA+yLiDOB64Lo01kRgOXAOMAdYXg4nMzMbWYdzeGoRsDotrwYuKtXXRMSrEbED6ADmSDoNODEiNkREALdV9Okday0wL+2FLADaIqI7IvYBbRwKGjMzG2G5oRHADyQ9LGlpqk2KiN0A6f7UVJ8M7Cz17Uy1yWm5st6nT0T0AC8AJw8wVh+Slkpql9Te1dWV+ZTMzGywGjLbfSgidkk6FWiT9MQAbVWlFgPUh9rnUCFiJbASoKmp6XXbzczsyMja04iIXel+L3AXxfmFPemQE+l+b2reCUwtdZ8C7Er1KVXqffpIagDGA90DjGVmZnVQMzQkHS/pbb3LwHzgUWAd0Hs1Uwtwd1peBzSnK6KmU5zw3pQOYR2QNDedr7i0ok/vWIuB+9J5j3uB+ZImpBPg81PNzMzqIOfw1CTgrnR1bAPwfyLi+5IeAlolLQGeAS4GiIitklqBx4Ae4PKIOJjGugy4FRgH3JNuALcAt0vqoNjDaE5jdUu6Bngotbs6IroP4/mamdlhqBkaEfEk8L4q9eeBef30WQGsqFJvB86qUn+FFDpVtq0CVtWap5mZDT9/ItzMzLI5NMzMLJtDw8zMsjk0zMwsm0PDzMyyOTTMzCybQ8PMzLI5NMzMLJtDw8zMsjk0zMwsm0PDzMyyOTTMzCybQ8PMzLI5NMzMLJtDw8zMsjk0zMwsm0PDzMyyOTTMzCxbdmhIGiPpJ5K+m9YnSmqTtD3dTyi1vUpSh6RtkhaU6rMlbUnbblT6j8cljZV0Z6pvlDSt1KclPcZ2SS1H5FmbmdmQDGZP4wrg8dL6MmB9RMwA1qd1JM0EmoFZwELgJkljUp+bgaXAjHRbmOpLgH0RcQZwPXBdGmsisBw4B5gDLC+Hk5mZjays0JA0BbgQ+GapvAhYnZZXAxeV6msi4tWI2AF0AHMknQacGBEbIiKA2yr69I61FpiX9kIWAG0R0R0R+4A2DgWNmZmNsNw9jRuAPwN+U6pNiojdAOn+1FSfDOwstetMtclpubLep09E9AAvACcPMFYfkpZKapfU3tXVlfmUzMxssGqGhqTfA/ZGxMOZY6pKLQaoD7XPoULEyohoioimxsbGzGmamdlg5expfAj4uKSngDXARyT9HbAnHXIi3e9N7TuBqaX+U4BdqT6lSr1PH0kNwHige4CxzMysDmqGRkRcFRFTImIaxQnu+yLiE8A6oPdqphbg7rS8DmhOV0RNpzjhvSkdwjogaW46X3FpRZ/esRanxwjgXmC+pAnpBPj8VDMzszpoOIy+1wKtkpYAzwAXA0TEVkmtwGNAD3B5RBxMfS4DbgXGAfekG8AtwO2SOij2MJrTWN2SrgEeSu2ujojuw5izmZkdhkGFRkTcD9yflp8H5vXTbgWwokq9HTirSv0VUuhU2bYKWDWYeZqZ2fDwJ8LNzCybQ8PMzLI5NMzMLJtDw8zMsjk0zMwsm0PDzMyyOTTMzCybQ8PMzLI5NMzMLJtDw8zMsjk0zMwsm0PDzMyyOTTMzCybQ8PMzLI5NMzMLJtDw8zMsjk0zMwsm0PDzMyy1QwNSW+RtEnSTyVtlfSVVJ8oqU3S9nQ/odTnKkkdkrZJWlCqz5a0JW27UZJSfaykO1N9o6RppT4t6TG2S2o5os/ezMwGJWdP41XgIxHxPuBsYKGkucAyYH1EzADWp3UkzQSagVnAQuAmSWPSWDcDS4EZ6bYw1ZcA+yLiDOB64Lo01kRgOXAOMAdYXg4nMzMbWTVDIwovpdU3p1sAi4DVqb4auCgtLwLWRMSrEbED6ADmSDoNODEiNkREALdV9Okday0wL+2FLADaIqI7IvYBbRwKGjMzG2FZ5zQkjZG0GdhL8Ut8IzApInYDpPtTU/PJwM5S985Um5yWK+t9+kRED/ACcPIAY1XOb6mkdkntXV1dOU/JzMyGICs0IuJgRJwNTKHYazhrgOaqNsQA9aH2Kc9vZUQ0RURTY2PjAFMzM7PDMairpyJiP3A/xSGiPemQE+l+b2rWCUwtdZsC7Er1KVXqffpIagDGA90DjGVmZnWQc/VUo6ST0vI44DzgCWAd0Hs1Uwtwd1peBzSnK6KmU5zw3pQOYR2QNDedr7i0ok/vWIuB+9J5j3uB+ZImpBPg81PNzMzqoCGjzWnA6nQF1JuA1oj4rqQNQKukJcAzwMUAEbFVUivwGNADXB4RB9NYlwG3AuOAe9IN4BbgdkkdFHsYzWmsbknXAA+ldldHRPfhPGEzMxu6mqEREY8A769Sfx6Y10+fFcCKKvV24HXnQyLiFVLoVNm2ClhVa55mZjb8/IlwMzPL5tAwM7NsDg0zM8vm0DAzs2wODTMzy+bQMDOzbA4NMzPL5tAwM7NsDg0zM8vm0DAzs2wODTMzy+bQMDOzbA4NMzPL5tAwM7NsDg0zM8vm0DAzs2wODTMzy+bQMDOzbDVDQ9JUSf8s6XFJWyVdkeoTJbVJ2p7uJ5T6XCWpQ9I2SQtK9dmStqRtN0pSqo+VdGeqb5Q0rdSnJT3GdkktR/TZm5nZoOTsafQAfxoR7wXmApdLmgksA9ZHxAxgfVonbWsGZgELgZskjUlj3QwsBWak28JUXwLsi4gzgOuB69JYE4HlwDnAHGB5OZzMzGxk1QyNiNgdET9OyweAx4HJwCJgdWq2GrgoLS8C1kTEqxGxA+gA5kg6DTgxIjZERAC3VfTpHWstMC/thSwA2iKiOyL2AW0cChozMxthgzqnkQ4bvR/YCEyKiN1QBAtwamo2GdhZ6taZapPTcmW9T5+I6AFeAE4eYKzKeS2V1C6pvaurazBPyczMBiE7NCSdAHwb+EJEvDhQ0yq1GKA+1D6HChErI6IpIpoaGxsHmJqZmR2OrNCQ9GaKwPj7iPhOKu9Jh5xI93tTvROYWuo+BdiV6lOq1Pv0kdQAjAe6BxjLzMzqIOfqKQG3AI9HxF+XNq0Deq9magHuLtWb0xVR0ylOeG9Kh7AOSJqbxry0ok/vWIuB+9J5j3uB+ZImpBPg81PNzMzqoCGjzYeAPwK2SNqcal8CrgVaJS0BngEuBoiIrZJagccorry6PCIOpn6XAbcC44B70g2KULpdUgfFHkZzGqtb0jXAQ6nd1RHRPbSnamZmh6tmaETED6l+bgFgXj99VgArqtTbgbOq1F8hhU6VbauAVbXmaWZmw8+fCDczs2wODTMzy+bQMDOzbA4NMzPL5tAwM7NsDg0zM8vm0DAzs2wODTMzy+bQMDOzbA4NMzPL5tAwM7NsDg0zM8vm0DAzs2wODTMzy+bQMDOzbA4NMzPL5tAwM7NsDg0zM8tWMzQkrZK0V9KjpdpESW2Stqf7CaVtV0nqkLRN0oJSfbakLWnbjZKU6mMl3ZnqGyVNK/VpSY+xXVLLEXvWZmY2JDl7GrcCCytqy4D1ETEDWJ/WkTQTaAZmpT43SRqT+twMLAVmpFvvmEuAfRFxBnA9cF0aayKwHDgHmAMsL4eTmZmNvJqhEREPAN0V5UXA6rS8GrioVF8TEa9GxA6gA5gj6TTgxIjYEBEB3FbRp3estcC8tBeyAGiLiO6I2Ae08frwMjOzETTUcxqTImI3QLo/NdUnAztL7TpTbXJarqz36RMRPcALwMkDjGVmZnVypE+Eq0otBqgPtU/fB5WWSmqX1N7V1ZU1UTMzG7yhhsaedMiJdL831TuBqaV2U4BdqT6lSr1PH0kNwHiKw2H9jfU6EbEyIpoioqmxsXGIT8nMzGoZamisA3qvZmoB7i7Vm9MVUdMpTnhvSoewDkiam85XXFrRp3esxcB96bzHvcB8SRPSCfD5qWZmZnXSUKuBpDuAc4FTJHVSXNF0LdAqaQnwDHAxQERsldQKPAb0AJdHxME01GUUV2KNA+5JN4BbgNsldVDsYTSnsbolXQM8lNpdHRGVJ+TNzGwE1QyNiLikn03z+mm/AlhRpd4OnFWl/gopdKpsWwWsqjVHMzMbGf5EuJmZZXNomJlZNoeGmZllc2iYmVk2h4aZmWVzaJiZWTaHhpmZZXNomJlZNoeGmZllc2iYmVk2h4aZmWVzaJiZWTaHhpmZZXNomJlZNoeGmZllc2iYmVk2h4aZmWVzaJiZWTaHhpmZZTsqQkPSQknbJHVIWlbv+ZiZHatGfWhIGgP8L+B8YCZwiaSZ9Z2VmdmxqaHeE8gwB+iIiCcBJK0BFgGPDfcDT1v2vdeWn7r2wuF+ODOzUe9oCI3JwM7SeidwTrmBpKXA0rT6kqRth/F4pwDPVRZ13WGMOPyqznmU85yH39E2X/CcR0q1OZ+e0/FoCA1VqUWflYiVwMoj8mBSe0Q0HYmxRornPDKOtjkfbfMFz3mkHM6cR/05DYo9i6ml9SnArjrNxczsmHY0hMZDwAxJ0yUdBzQD6+o8JzOzY9KoPzwVET2S/gS4FxgDrIqIrcP4kEfkMNcI85xHxtE256NtvuA5j5Qhz1kRUbuVmZkZR8fhKTMzGyUcGmZmlu2YDI1aX0uiwo1p+yOSPlCPeVbMqdac/zDN9RFJP5L0vnrMs2JOWV//IunfSzooafFIzq+fudScs6RzJW2WtFXS/xvpOVaZT62fjfGS/q+kn6Y5f6oe86yY0ypJeyU92s/20fgerDXnUfUerDXfUrvBvf8i4pi6UZxM/znwTuA44KfAzIo2FwD3UHxGZC6w8SiY8weBCWn5/KNhzqV29wH/CCwe7XMGTqL4NoJ3pPVTj4I5fwm4Li03At3AcXWe94eBDwCP9rN9VL0HM+c82t6DA8639PMzqPffsbin8drXkkTEr4DeryUpWwTcFoUHgZMknTbSEy2pOeeI+FFE7EurD1J8nqWecl5ngM8D3wb2juTk+pEz5z8AvhMRzwBERL3nnTPnAN4mScAJFKHRM7LTrJhQxANpHv0Zbe/BmnMebe/BjNcYhvD+OxZDo9rXkkweQpuRNNj5LKH4K62eas5Z0mTg94FvjOC8BpLzOr8bmCDpfkkPS7p0xGZXXc6cvw68l+JDsVuAKyLiNyMzvSEbbe/BwRoN78EBDfX9N+o/pzEMan4tSWabkZQ9H0m/S/ED+zvDOqPacuZ8A3BlRBws/giuu5w5NwCzgXnAOGCDpAcj4mfDPbl+5Mx5AbAZ+AjwLqBN0r9ExIvDPLfDMdreg9lG0XuwlhsYwvvvWAyNnK8lGW1fXZI1H0m/BXwTOD8inh+hufUnZ85NwJr0A3sKcIGknoj4hxGZ4evl/mw8FxG/BH4p6QHgfUC9QiNnzp8Cro3iIHaHpB3AmcCmkZnikIy292CWUfYerGVo7796n1yqw8mhBuBJYDqHThzOqmhzIX1Pwm06Cub8DqAD+GC9X+PcOVe0v5X6nwjPeZ3fC6xPbd8KPAqcNcrnfDPw5bQ8CXgWOGUU/IxMo/+TyqPqPZg551H1Hqw134p22e+/Y25PI/r5WhJJn03bv0FxJcEFFD8AL1P8pVY3mXP+C+Bk4Kb0l0NP1PGbNzPnPKrkzDkiHpf0feAR4DfANyNiwEsa6z1n4BrgVklbKH4JXxkRdf0qb0l3AOcCp0jqBJYDb4bR+R6ErDmPqvdgxnyHNm5KGTMzs5qOxaunzMxsiBwaZmaWzaFhZmbZHBpmZpbNoWFmdpTL/XLC1Pb69IWbmyX9TNL+QT2Wr54yMzu6Sfow8BLF93WdNYh+nwfeHxGfzu3jPQ0zs6NcVPlyQknvkvT99B1p/yLpzCpdLwHuGMxjHXMf7jMzO0asBD4bEdslnQPcRPH9YwBIOp3imwTuG8ygDg0zszcYSSdQ/P8e3yp9GeHYimbNwNqIODiYsR0aZmZvPG8C9kfE2QO0aQYuH8rAZmb2BhLF197vkHQxvPbf5772389Keg8wAdgw2LEdGmZmR7n05YQbgPdI6pS0BPhDYImknwJb6fs/Ol4CrIkhXD7rS27NzCyb9zTMzCybQ8PMzLI5NMzMLJtDw8zMsjk0zMwsm0PDzMyyOTTMzCzb/wepOIFAMmZ4bQAAAABJRU5ErkJggg==\n",
      "text/plain": [
       "<Figure size 432x288 with 1 Axes>"
      ]
     },
     "metadata": {
      "needs_background": "light"
     },
     "output_type": "display_data"
    },
    {
     "name": "stdout",
     "output_type": "stream",
     "text": [
      "None\n",
      "tot_hpd_vio\n"
     ]
    },
    {
     "data": {
      "image/png": "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\n",
      "text/plain": [
       "<Figure size 432x288 with 1 Axes>"
      ]
     },
     "metadata": {
      "needs_background": "light"
     },
     "output_type": "display_data"
    },
    {
     "name": "stdout",
     "output_type": "stream",
     "text": [
      "None\n",
      "unitstotal\n"
     ]
    },
    {
     "data": {
      "image/png": "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\n",
      "text/plain": [
       "<Figure size 432x288 with 1 Axes>"
      ]
     },
     "metadata": {
      "needs_background": "light"
     },
     "output_type": "display_data"
    },
    {
     "name": "stdout",
     "output_type": "stream",
     "text": [
      "None\n",
      "pop65plus\n"
     ]
    },
    {
     "data": {
      "image/png": "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\n",
      "text/plain": [
       "<Figure size 432x288 with 1 Axes>"
      ]
     },
     "metadata": {
      "needs_background": "light"
     },
     "output_type": "display_data"
    },
    {
     "name": "stdout",
     "output_type": "stream",
     "text": [
      "None\n",
      "unitsres\n"
     ]
    },
    {
     "data": {
      "image/png": "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\n",
      "text/plain": [
       "<Figure size 432x288 with 1 Axes>"
      ]
     },
     "metadata": {
      "needs_background": "light"
     },
     "output_type": "display_data"
    },
    {
     "name": "stdout",
     "output_type": "stream",
     "text": [
      "None\n",
      "pctnhblack\n"
     ]
    },
    {
     "data": {
      "image/png": "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\n",
      "text/plain": [
       "<Figure size 432x288 with 1 Axes>"
      ]
     },
     "metadata": {
      "needs_background": "light"
     },
     "output_type": "display_data"
    },
    {
     "name": "stdout",
     "output_type": "stream",
     "text": [
      "None\n",
      "hpd_fire_vio\n"
     ]
    },
    {
     "data": {
      "image/png": "iVBORw0KGgoAAAANSUhEUgAAAYoAAAEICAYAAABBBrPDAAAAOXRFWHRTb2Z0d2FyZQBNYXRwbG90bGliIHZlcnNpb24zLjQuMywgaHR0cHM6Ly9tYXRwbG90bGliLm9yZy/MnkTPAAAACXBIWXMAAAsTAAALEwEAmpwYAAAdaklEQVR4nO3df5Bd5X3f8fcnkiGyHWEJBMWSbJGgOAamhqAKOXZTx3IkOY4RnYHpkjjIrTrKEJLamXRcSJsohqoDM6mJSQMJNQoCJwZFiY1CivGOiJs6JYLFxgEBqjbmhxTJksxK/LANtvCnf5xno7Prq2fvitXulfm8Zu7cc77nPM957l1xP3uec+4i20RERBzJD031ACIiorclKCIioipBERERVQmKiIioSlBERERVgiIiIqoSFHFMSNom6T1TPY5jTdJ/lfQNSV+foP4s6cwJ6ut3JH26i/3+taSdkl6UdN5k/+wk/UtJ2yfreDF+CYoYN0lPSXrfqNqHJX1peN322ba/OEY/C8oH4/RjNNRjStJ84DeAs2z/s6kez6vwu8Cv2n6j7a9087ObSLb/j+23TdbxYvwSFPEDaxIC6K3As7b3jbdhj4XjW4Ft3ezYY+OOSZKgiGOifdYhabGkAUnPS9or6RNlt78pzwfLtMc7Jf2QpP8i6WlJ+yTdJumkVr+XlW3PSvqtUcf5HUmbJH1a0vPAh8ux75d0UNIeSf9D0gmt/izpVyTtkPSCpGsk/Vhp87ykje39W+3eB/QDby5jv7XULyxTNwclfVHS20e9J/9J0t8D36x86L6vjOeApD+QpNL+w5L+VtLvS3pO0hOSlrb6P0PS/y6vox84ZYyf0YmSXgSmAV+V9A8dfnad3tOTJN1S3s9/LNNv08Y4zkFJ57RqcyR9W9Kpkt4jaVdr29vLe3ewvJcX1l5HTALbeeQxrgfwFPC+UbUPA1/qtA9wP/BLZfmNwJKyvAAwML3V7t8Bg8CPln3/Ari9bDsLeBF4N3ACzZTJd1vH+Z2yfhHNL0EzgPOBJcD0crzHgY+2jmdgMzATOBt4GdhSjn8S8Biw6gjvw3uAXa31Hwe+Cfws8DrgY+W1nNB6Tx4G5gMzjtCngbuBNwFvAfYDK1rv8SHg10v//wZ4Dpjdep8/AZwI/DTwAvDpLn6eBs48ws+u03v6OeCPgDcApwIPAL88xjHWA+ta61cAnx/9PpbXNQj8ZvkZv7e8jrdN9b/71/IjZxRxtD5XfuM7KOkgcGNl3+8CZ0o6xfaLtv+usu8vAp+w/TXbLwJXAX3lt++Lgb+0/SXb3wF+m+ZDru1+25+z/T3b37b9kO2/s33I9lM0H3D/alSb62w/b3sb8CjwhXL854B7gPO6ekeaD+6/st1v+7s0QTYD+KnWPjfY3mn725V+rrV90PYzwF8D57a27QN+z/Z3bd8JbAc+IOktwL8Afsv2y7b/BvjLLsc9ln96T2kC9f00YftNN9Nu1wN9Y/Txp8ClrfVfKLXRltD8gnCt7e/Yvo8mOC/tsG9MkgRFHK2LbL9p+AH8SmXf1TS/bT8h6UFJP1/Z983A0631p2nOBk4r23YOb7D9LeDZUe13tlck/bikuyV9vUyd/De+f0pmb2v52x3W31gZ7xHHXj5YdwJzjzS+I2jfQfWtUcf/R9vtcHy6HPfNwAHb3xy1bSK0x/xWmt/697R+SfgjmjOLmvuAGZIukPRWmvD7bIf93gzsLO/dsKcZ+R7GJEtQxDFne4ftS2k+TK4DNkl6A99/NgCwm+bDaNhbaKZb9gJ7gHnDGyTNAE4efbhR6zcBTwALbc+kmdLQ0b+aqhFjL9cW5gP/WBnfeM0dvmZRvKUcdw8wq7yv7W0ToT3mnTTTc6e0flGYafvsagfNB/9GmjODXwDutv1Ch113A/MltT+b3sLI9zAmWYIijjlJH5I0p3xYHCzlV2jm379Hcz1g2GeAXy8XZt9IcwZwp+1DwCbgg5J+qlxg/jhjf+j/CPA88KKknwAun6jX1cFGmmmgpZJeR3Pr7MvA/53AY5wK/AdJr5N0CfB24H/ZfhoYAD4u6QRJ7wY+OIHHBcD2HuALwH+XNFPNzQc/Jmn0dF4nf0ozPfeLdJ52AthKc53nY+U1vofmddzxqgcfRy1BEZNhBbCt3GHzSaDP9ktl6mgd8LdlGmMJzUXP22nuiHoSeAn4NYByDeHXaD409tBc5NxH82F8JP+R5jfYF4D/Cdw58S+vYXs78CHg94Fv0HzAfbBcT5koW4GFpf91wMW2h6fffgG4ABgC1gK3TeBx2y6judD8GHCAJsBPH6uR7eEQeDPNtZ9O+3wHuJDmOsg3aK59XWb7iQkZeRwVjZzujDh+lDOOgzTTSk9O8XCOOUkfBv697XdP9VjitSVnFHFckfRBSa8vc/G/CzxCcztnRBwjCYo43qykueC5m2YKps85La6S9IvlS4GjH119G3scx/nDIxznDyfyODH5MvUUERFVOaOIiIiqH7g/8HXKKad4wYIFUz2MiIjjykMPPfQN23M6bfuBC4oFCxYwMDAw1cOIiDiuSDriN/kz9RQREVUJioiIqEpQREREVYIiIiKqEhQREVGVoIiIiKoERUREVCUoIiKiKkERERFVP3DfzH61Flz5V/+0/NS1H5jCkURE9IacUURERFWCIiIiqhIUERFRlaCIiIiqBEVERFQlKCIioipBERERVQmKiIioSlBERETVmEEh6W2SHm49npf0UUmzJfVL2lGeZ7XaXCVpUNJ2Sctb9fMlPVK23SBJpX6ipDtLfaukBa02q8oxdkhaNcGvPyIixjBmUNjebvtc2+cC5wPfAj4LXAlssb0Q2FLWkXQW0AecDawAbpQ0rXR3E7AGWFgeK0p9NXDA9pnA9cB1pa/ZwFrgAmAxsLYdSBERceyNd+ppKfAPtp8GVgIbSn0DcFFZXgncYftl208Cg8BiSacDM23fb9vAbaPaDPe1CVhazjaWA/22h2wfAPo5HC4RETEJxhsUfcBnyvJptvcAlOdTS30usLPVZlepzS3Lo+sj2tg+BDwHnFzpawRJayQNSBrYv3//OF9SRETUdB0Ukk4ALgT+bKxdO9RcqR9tm8MF+2bbi2wvmjNnzhjDi4iI8RjPGcX7gS/b3lvW95bpJMrzvlLfBcxvtZsH7C71eR3qI9pImg6cBAxV+oqIiEkynqC4lMPTTgCbgeG7kFYBd7XqfeVOpjNoLlo/UKanXpC0pFx/uGxUm+G+LgbuK9cx7gWWSZpVLmIvK7WIiJgkXf2PiyS9HvhZ4Jdb5WuBjZJWA88AlwDY3iZpI/AYcAi4wvYrpc3lwK3ADOCe8gC4Bbhd0iDNmURf6WtI0jXAg2W/q20PHcXrjIiIo9RVUNj+Fs3F5XbtWZq7oDrtvw5Y16E+AJzTof4SJWg6bFsPrO9mnBERMfHyzeyIiKhKUERERFWCIiIiqhIUERFRlaCIiIiqBEVERFQlKCIioipBERERVQmKiIioSlBERERVgiIiIqoSFBERUZWgiIiIqgRFRERUJSgiIqIqQREREVUJioiIqEpQREREVVdBIelNkjZJekLS45LeKWm2pH5JO8rzrNb+V0kalLRd0vJW/XxJj5RtN0hSqZ8o6c5S3yppQavNqnKMHZJWTeBrj4iILnR7RvFJ4PO2fwJ4B/A4cCWwxfZCYEtZR9JZQB9wNrACuFHStNLPTcAaYGF5rCj11cAB22cC1wPXlb5mA2uBC4DFwNp2IEVExLE3ZlBImgn8NHALgO3v2D4IrAQ2lN02ABeV5ZXAHbZftv0kMAgslnQ6MNP2/bYN3DaqzXBfm4Cl5WxjOdBve8j2AaCfw+ESERGToJszih8F9gN/LOkrkj4l6Q3Aabb3AJTnU8v+c4Gdrfa7Sm1uWR5dH9HG9iHgOeDkSl8jSFojaUDSwP79+7t4SRER0a1ugmI68JPATbbPA75JmWY6AnWouVI/2jaHC/bNthfZXjRnzpzK0CIiYry6CYpdwC7bW8v6Jprg2FumkyjP+1r7z2+1nwfsLvV5Heoj2kiaDpwEDFX6ioiISTJmUNj+OrBT0ttKaSnwGLAZGL4LaRVwV1neDPSVO5nOoLlo/UCZnnpB0pJy/eGyUW2G+7oYuK9cx7gXWCZpVrmIvazUIiJikkzvcr9fA/5E0gnA14B/SxMyGyWtBp4BLgGwvU3SRpowOQRcYfuV0s/lwK3ADOCe8oDmQvntkgZpziT6Sl9Dkq4BHiz7XW176Chfa0REHIWugsL2w8CiDpuWHmH/dcC6DvUB4JwO9ZcoQdNh23pgfTfjjIiIiZdvZkdERFWCIiIiqhIUERFRlaCIiIiqBEVERFQlKCIioipBERERVQmKiIioSlBERERVgiIiIqoSFBERUZWgiIiIqgRFRERUJSgiIqIqQREREVUJioiIqEpQREREVYIiIiKqEhQREVHVVVBIekrSI5IeljRQarMl9UvaUZ5ntfa/StKgpO2Slrfq55d+BiXdIEmlfqKkO0t9q6QFrTaryjF2SFo1Ya88IiK6Mp4zip+xfa7tRWX9SmCL7YXAlrKOpLOAPuBsYAVwo6Rppc1NwBpgYXmsKPXVwAHbZwLXA9eVvmYDa4ELgMXA2nYgRUTEsfdqpp5WAhvK8gbgolb9Dtsv234SGAQWSzodmGn7ftsGbhvVZrivTcDScraxHOi3PWT7ANDP4XCJiIhJ0G1QGPiCpIckrSm102zvASjPp5b6XGBnq+2uUptblkfXR7SxfQh4Dji50tcIktZIGpA0sH///i5fUkREdGN6l/u9y/ZuSacC/ZKeqOyrDjVX6kfb5nDBvhm4GWDRokXftz0iIo5eV2cUtneX533AZ2muF+wt00mU531l913A/FbzecDuUp/XoT6ijaTpwEnAUKWviIiYJGMGhaQ3SPqR4WVgGfAosBkYvgtpFXBXWd4M9JU7mc6guWj9QJmeekHSknL94bJRbYb7uhi4r1zHuBdYJmlWuYi9rNQiImKSdDP1dBrw2XIn63TgT21/XtKDwEZJq4FngEsAbG+TtBF4DDgEXGH7ldLX5cCtwAzgnvIAuAW4XdIgzZlEX+lrSNI1wINlv6ttD72K1xsREeM0ZlDY/hrwjg71Z4GlR2izDljXoT4AnNOh/hIlaDpsWw+sH2ucERFxbOSb2RERUZWgiIiIqgRFRERUJSgiIqIqQREREVUJioiIqEpQREREVYIiIiKqEhQREVGVoIiIiKoERUREVCUoIiKiKkERERFVCYqIiKhKUERERFWCIiIiqhIUERFRlaCIiIiqBEVERFR1HRSSpkn6iqS7y/psSf2SdpTnWa19r5I0KGm7pOWt+vmSHinbbpCkUj9R0p2lvlXSglabVeUYOyStmpBXHRERXRvPGcVHgMdb61cCW2wvBLaUdSSdBfQBZwMrgBslTSttbgLWAAvLY0WprwYO2D4TuB64rvQ1G1gLXAAsBta2AykiIo69roJC0jzgA8CnWuWVwIayvAG4qFW/w/bLtp8EBoHFkk4HZtq+37aB20a1Ge5rE7C0nG0sB/ptD9k+APRzOFwiImISdHtG8XvAx4DvtWqn2d4DUJ5PLfW5wM7WfrtKbW5ZHl0f0cb2IeA54ORKXyNIWiNpQNLA/v37u3xJERHRjTGDQtLPA/tsP9Rln+pQc6V+tG0OF+ybbS+yvWjOnDldDjMiIrrRzRnFu4ALJT0F3AG8V9Kngb1lOonyvK/svwuY32o/D9hd6vM61Ee0kTQdOAkYqvQVERGTZMygsH2V7Xm2F9BcpL7P9oeAzcDwXUirgLvK8magr9zJdAbNResHyvTUC5KWlOsPl41qM9zXxeUYBu4FlkmaVS5iLyu1iIiYJNNfRdtrgY2SVgPPAJcA2N4maSPwGHAIuML2K6XN5cCtwAzgnvIAuAW4XdIgzZlEX+lrSNI1wINlv6ttD72KMUdExDiNKyhsfxH4Yll+Flh6hP3WAes61AeAczrUX6IETYdt64H14xlnRERMnHwzOyIiqhIUERFRlaCIiIiqBEVERFQlKCIioipBERERVQmKiIioSlBERERVgiIiIqoSFBERUZWgiIiIqgRFRERUJSgiIqIqQREREVUJioiIqEpQREREVYIiIiKqEhQREVE1ZlBI+mFJD0j6qqRtkj5e6rMl9UvaUZ5ntdpcJWlQ0nZJy1v18yU9UrbdIEmlfqKkO0t9q6QFrTaryjF2SFo1oa8+IiLG1M0ZxcvAe22/AzgXWCFpCXAlsMX2QmBLWUfSWUAfcDawArhR0rTS103AGmBheawo9dXAAdtnAtcD15W+ZgNrgQuAxcDadiBFRMSxN2ZQuPFiWX1deRhYCWwo9Q3ARWV5JXCH7ZdtPwkMAoslnQ7MtH2/bQO3jWoz3NcmYGk521gO9Nsesn0A6OdwuERExCTo6hqFpGmSHgb20XxwbwVOs70HoDyfWnafC+xsNd9VanPL8uj6iDa2DwHPASdX+oqIiEnSVVDYfsX2ucA8mrODcyq7q1MXlfrRtjl8QGmNpAFJA/v3768MLSIixmtcdz3ZPgh8kWb6Z2+ZTqI87yu77QLmt5rNA3aX+rwO9RFtJE0HTgKGKn2NHtfNthfZXjRnzpzxvKSIiBhDN3c9zZH0prI8A3gf8ASwGRi+C2kVcFdZ3gz0lTuZzqC5aP1AmZ56QdKScv3hslFthvu6GLivXMe4F1gmaVa5iL2s1CIiYpJM72Kf04EN5c6lHwI22r5b0v3ARkmrgWeASwBsb5O0EXgMOARcYfuV0tflwK3ADOCe8gC4Bbhd0iDNmURf6WtI0jXAg2W/q20PvZoXHBER4zNmUNj+e+C8DvVngaVHaLMOWNehPgB83/UN2y9RgqbDtvXA+rHGGRERx0a+mR0REVUJioiIqEpQREREVYIiIiKqEhQREVGVoIiIiKoERUREVCUoIiKiKkERERFVCYqIiKhKUERERFWCIiIiqhIUERFRlaCIiIiqBEVERFQlKCIioipBERERVQmKiIioSlBERETVmEEhab6kv5b0uKRtkj5S6rMl9UvaUZ5ntdpcJWlQ0nZJy1v18yU9UrbdIEmlfqKkO0t9q6QFrTaryjF2SFo1oa8+IiLG1M0ZxSHgN2y/HVgCXCHpLOBKYIvthcCWsk7Z1gecDawAbpQ0rfR1E7AGWFgeK0p9NXDA9pnA9cB1pa/ZwFrgAmAxsLYdSBERceyNGRS299j+cll+AXgcmAusBDaU3TYAF5XllcAdtl+2/SQwCCyWdDow0/b9tg3cNqrNcF+bgKXlbGM50G97yPYBoJ/D4RIREZNgXNcoypTQecBW4DTbe6AJE+DUsttcYGer2a5Sm1uWR9dHtLF9CHgOOLnS1+hxrZE0IGlg//7943lJERExhq6DQtIbgT8HPmr7+dquHWqu1I+2zeGCfbPtRbYXzZkzpzK0iIgYr66CQtLraELiT2z/RSnvLdNJlOd9pb4LmN9qPg/YXerzOtRHtJE0HTgJGKr0FRERk6Sbu54E3AI8bvsTrU2bgeG7kFYBd7XqfeVOpjNoLlo/UKanXpC0pPR52ag2w31dDNxXrmPcCyyTNKtcxF5WahERMUmmd7HPu4BfAh6R9HCp/SZwLbBR0mrgGeASANvbJG0EHqO5Y+oK26+UdpcDtwIzgHvKA5ogul3SIM2ZRF/pa0jSNcCDZb+rbQ8d3UuNiIijMWZQ2P4Sna8VACw9Qpt1wLoO9QHgnA71lyhB02HbemD9WOOMiIhjI9/MjoiIqgRFRERUJSgiIqIqQREREVUJioiIqEpQREREVYIiIiKqEhQREVGVoIiIiKoERUREVCUoIiKiKkERERFVCYqIiKhKUERERFWCIiIiqhIUERFRlaCIiIiqBEVERFQlKCIiomrMoJC0XtI+SY+2arMl9UvaUZ5ntbZdJWlQ0nZJy1v18yU9UrbdIEmlfqKkO0t9q6QFrTaryjF2SFo1Ya86IiK61s0Zxa3AilG1K4EtthcCW8o6ks4C+oCzS5sbJU0rbW4C1gALy2O4z9XAAdtnAtcD15W+ZgNrgQuAxcDadiBFRMTkGDMobP8NMDSqvBLYUJY3ABe16nfYftn2k8AgsFjS6cBM2/fbNnDbqDbDfW0ClpazjeVAv+0h2weAfr4/sCIi4hg72msUp9neA1CeTy31ucDO1n67Sm1uWR5dH9HG9iHgOeDkSl/fR9IaSQOSBvbv33+ULykiIjqZ6IvZ6lBzpX60bUYW7ZttL7K9aM6cOV0NNCIiunO0QbG3TCdRnveV+i5gfmu/ecDuUp/XoT6ijaTpwEk0U11H6isiIibR0QbFZmD4LqRVwF2tel+5k+kMmovWD5TpqRckLSnXHy4b1Wa4r4uB+8p1jHuBZZJmlYvYy0otIiIm0fSxdpD0GeA9wCmSdtHciXQtsFHSauAZ4BIA29skbQQeAw4BV9h+pXR1Oc0dVDOAe8oD4BbgdkmDNGcSfaWvIUnXAA+W/a62PfqiekREHGNjBoXtS4+waekR9l8HrOtQHwDO6VB/iRI0HbatB9aPNcaIiDh28s3siIioSlBERERVgiIiIqoSFBERUZWgiIiIqgRFRERUJSgiIqIqQREREVUJioiIqEpQREREVYIiIiKqEhQREVGVoIiIiKoERUREVCUoIiKiKkERERFVCYqIiKhKUERERFWCIiIiqsb8f2b3AkkrgE8C04BP2b52Mo674Mq/+qflp679wGQcMiKi5/T8GYWkacAfAO8HzgIulXTW1I4qIuK143g4o1gMDNr+GoCkO4CVwGOTOYgjnV206205A4mIHxTHQ1DMBXa21ncBF7R3kLQGWFNWX5S0/VUc7xTgG7UddN3YnXSzz6sw5hh7QMY4MTLGiXE8jBGmdpxvPdKG4yEo1KHmESv2zcDNE3IwacD2oono61jJGCdGxjgxMsaJ06vj7PlrFDRnEPNb6/OA3VM0loiI15zjISgeBBZKOkPSCUAfsHmKxxQR8ZrR81NPtg9J+lXgXprbY9fb3nYMDzkhU1jHWMY4MTLGiZExTpyeHKdsj71XRES8Zh0PU08RETGFEhQREVGVoCgkrZC0XdKgpCunejzDJK2XtE/So63abEn9knaU51lTOL75kv5a0uOStkn6SA+O8YclPSDpq2WMH++1MbbGOk3SVyTd3cNjfErSI5IeljTQi+OU9CZJmyQ9Uf5tvrOXxijpbeX9G348L+mjvTTGtgQFPf9nQm4FVoyqXQlssb0Q2FLWp8oh4Ddsvx1YAlxR3rteGuPLwHttvwM4F1ghaQm9NcZhHwEeb6334hgBfsb2ua17/nttnJ8EPm/7J4B30LynPTNG29vL+3cucD7wLeCzvTTGEWy/5h/AO4F7W+tXAVdN9bha41kAPNpa3w6cXpZPB7ZP9RhbY7sL+NleHSPweuDLNN/u76kx0nxHaAvwXuDuXv1ZA08Bp4yq9cw4gZnAk5SbdXpxjKPGtQz4214eY84oGp3+TMjcKRpLN06zvQegPJ86xeMBQNIC4DxgKz02xjKl8zCwD+i33XNjBH4P+BjwvVat18YIzV9G+IKkh8qfz4HeGuePAvuBPy7TeJ+S9IYeG2NbH/CZstyTY0xQNMb8MyFRJ+mNwJ8DH7X9/FSPZzTbr7g5zZ8HLJZ0zhQPaQRJPw/ss/3QVI+lC++y/ZM0U7VXSPrpqR7QKNOBnwRusn0e8E16ZQpnlPIl4guBP5vqsdQkKBrH258J2SvpdIDyvG8qByPpdTQh8Se2/6KUe2qMw2wfBL5Ic92nl8b4LuBCSU8BdwDvlfRpemuMANjeXZ730cyrL6a3xrkL2FXOGgE20QRHL41x2PuBL9veW9Z7cYwJiuJ4+zMhm4FVZXkVzXWBKSFJwC3A47Y/0drUS2OcI+lNZXkG8D7gCXpojLavsj3P9gKaf3/32f4QPTRGAElvkPQjw8s08+uP0kPjtP11YKekt5XSUpr/LUHPjLHlUg5PO0FvjjEXs4cfwM8B/w/4B+A/T/V4WuP6DLAH+C7Nb0qrgZNpLnruKM+zp3B876aZpvt74OHy+LkeG+M/B75Sxvgo8Nul3jNjHDXe93D4YnZPjZFm/v+r5bFt+L+VHhznucBA+Zl/DpjVg2N8PfAscFKr1lNjHH7kT3hERERVpp4iIqIqQREREVUJioiIqEpQREREVYIiIiKqEhQREVGVoIiIiKr/DzV0I02uQEsfAAAAAElFTkSuQmCC\n",
      "text/plain": [
       "<Figure size 432x288 with 1 Axes>"
      ]
     },
     "metadata": {
      "needs_background": "light"
     },
     "output_type": "display_data"
    },
    {
     "name": "stdout",
     "output_type": "stream",
     "text": [
      "None\n",
      "hpd_b_c_vio_per_unit\n"
     ]
    },
    {
     "data": {
      "image/png": "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\n",
      "text/plain": [
       "<Figure size 432x288 with 1 Axes>"
      ]
     },
     "metadata": {
      "needs_background": "light"
     },
     "output_type": "display_data"
    },
    {
     "name": "stdout",
     "output_type": "stream",
     "text": [
      "None\n",
      "mediangrossrent\n"
     ]
    },
    {
     "data": {
      "image/png": "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\n",
      "text/plain": [
       "<Figure size 432x288 with 1 Axes>"
      ]
     },
     "metadata": {
      "needs_background": "light"
     },
     "output_type": "display_data"
    },
    {
     "name": "stdout",
     "output_type": "stream",
     "text": [
      "None\n"
     ]
    }
   ],
   "source": [
    "df_bbl_disc= df_bbl.copy()\n",
    "# need to discretize the data, also look at distributions\n",
    "for i in impt_vars:\n",
    "    print(i)\n",
    "    if len(df_bbl_disc.loc[:, i].unique()) > 5:\n",
    "        plt.hist(df_bbl_disc.loc[:, i], bins = 100);\n",
    "        plt.title(\"Histogram for {}\".format(i))\n",
    "        print(plt.show())\n",
    "        df_bbl_disc.loc[:, i] = pd.qcut(df_bbl_disc.loc[:, i], q=4, labels=False, duplicates = 'drop')"
   ]
  },
  {
   "cell_type": "code",
   "execution_count": 66,
   "id": "4770fc78",
   "metadata": {},
   "outputs": [],
   "source": [
    "# create test train split for testing DAG\n",
    "train, test = train_test_split(df_bbl_disc.loc[:, impt_vars], test_size=0.3, random_state=999)"
   ]
  },
  {
   "cell_type": "code",
   "execution_count": 67,
   "id": "daf3af77",
   "metadata": {},
   "outputs": [
    {
     "data": {
      "application/vnd.jupyter.widget-view+json": {
       "model_id": "8b51eff9f89f4f2cb226c90a700ea14c",
       "version_major": 2,
       "version_minor": 0
      },
      "text/plain": [
       "  0%|          | 0/1000000 [00:00<?, ?it/s]"
      ]
     },
     "metadata": {},
     "output_type": "display_data"
    },
    {
     "name": "stdout",
     "output_type": "stream",
     "text": [
      "\n",
      "DAG model edges:\n",
      "[('bldgarea', 'mediangrossrent'), ('bldgarea', 'pop65plus'), ('bldgarea', 'pctnhblack'), ('bldgarea', 'vacate_ind'), ('unitstotal', 'bldgarea'), ('unitstotal', 'mediangrossrent'), ('unitstotal', 'pop65plus'), ('unitstotal', 'pctnhblack'), ('pop65plus', 'mediangrossrent'), ('unitsres', 'unitstotal'), ('unitsres', 'vacate_ind'), ('unitsres', 'bldgarea'), ('pctnhblack', 'mediangrossrent'), ('pctnhblack', 'pop65plus'), ('mediangrossrent', 'vacate_ind')]\n"
     ]
    }
   ],
   "source": [
    "# use hill climb search with BIC score, as in hw\n",
    "hc = HillClimbSearch(train)\n",
    "best_model = hc.estimate(scoring_method=BicScore(train))\n",
    "print(\"\\nDAG model edges:\")\n",
    "print(best_model.edges())"
   ]
  },
  {
   "cell_type": "code",
   "execution_count": 68,
   "id": "12f523e9",
   "metadata": {},
   "outputs": [
    {
     "name": "stdout",
     "output_type": "stream",
     "text": [
      "DAG model nodes:\n",
      "['vacate_ind', 'hpd_b_c_vio', 'bldgarea', 'tot_hpd_vio', 'unitstotal', 'pop65plus', 'unitsres', 'pctnhblack', 'hpd_fire_vio', 'hpd_b_c_vio_per_unit', 'mediangrossrent']\n"
     ]
    }
   ],
   "source": [
    "print(\"DAG model nodes:\")\n",
    "print(best_model.nodes())"
   ]
  },
  {
   "cell_type": "code",
   "execution_count": 80,
   "id": "a630e6bc",
   "metadata": {},
   "outputs": [
    {
     "name": "stdout",
     "output_type": "stream",
     "text": [
      "CPD of bldgarea:\n",
      "+-------------+---------------------+-----+---------------+---------------+----------------------+\n",
      "| unitsres    | unitsres(0)         | ... | unitsres(2)   | unitsres(2)   | unitsres(2)          |\n",
      "+-------------+---------------------+-----+---------------+---------------+----------------------+\n",
      "| unitstotal  | unitstotal(0)       | ... | unitstotal(0) | unitstotal(1) | unitstotal(2)        |\n",
      "+-------------+---------------------+-----+---------------+---------------+----------------------+\n",
      "| bldgarea(0) | 0.5190231670483756  | ... | 0.25          | 0.25          | 0.005033827958534735 |\n",
      "+-------------+---------------------+-----+---------------+---------------+----------------------+\n",
      "| bldgarea(1) | 0.3086234566428266  | ... | 0.25          | 0.25          | 0.035474790727714096 |\n",
      "+-------------+---------------------+-----+---------------+---------------+----------------------+\n",
      "| bldgarea(2) | 0.12050383545105198 | ... | 0.25          | 0.25          | 0.20534443478983172  |\n",
      "+-------------+---------------------+-----+---------------+---------------+----------------------+\n",
      "| bldgarea(3) | 0.05184954085774586 | ... | 0.25          | 0.25          | 0.7541469465239194   |\n",
      "+-------------+---------------------+-----+---------------+---------------+----------------------+\n",
      "CPD of mediangrossrent:\n",
      "+----------------------+---------------------+-----+---------------------+---------------------+\n",
      "| bldgarea             | bldgarea(0)         | ... | bldgarea(3)         | bldgarea(3)         |\n",
      "+----------------------+---------------------+-----+---------------------+---------------------+\n",
      "| pctnhblack           | pctnhblack(0.0)     | ... | pctnhblack(3.0)     | pctnhblack(3.0)     |\n",
      "+----------------------+---------------------+-----+---------------------+---------------------+\n",
      "| pop65plus            | pop65plus(0.0)      | ... | pop65plus(3.0)      | pop65plus(3.0)      |\n",
      "+----------------------+---------------------+-----+---------------------+---------------------+\n",
      "| unitstotal           | unitstotal(0)       | ... | unitstotal(1)       | unitstotal(2)       |\n",
      "+----------------------+---------------------+-----+---------------------+---------------------+\n",
      "| mediangrossrent(0.0) | 0.1743942672873871  | ... | 0.4927905931134396  | 0.7348954811743177  |\n",
      "+----------------------+---------------------+-----+---------------------+---------------------+\n",
      "| mediangrossrent(1.0) | 0.20190695512263593 | ... | 0.33212916359639805 | 0.1602381639108623  |\n",
      "+----------------------+---------------------+-----+---------------------+---------------------+\n",
      "| mediangrossrent(2.0) | 0.3639501874121329  | ... | 0.02998975883300653 | 0.06128453423990392 |\n",
      "+----------------------+---------------------+-----+---------------------+---------------------+\n",
      "| mediangrossrent(3.0) | 0.2597485901778441  | ... | 0.1450904844571557  | 0.04358182067491595 |\n",
      "+----------------------+---------------------+-----+---------------------+---------------------+\n",
      "CPD of pop65plus:\n",
      "+----------------+---------------------+-----+---------------------+---------------------+\n",
      "| bldgarea       | bldgarea(0)         | ... | bldgarea(3)         | bldgarea(3)         |\n",
      "+----------------+---------------------+-----+---------------------+---------------------+\n",
      "| pctnhblack     | pctnhblack(0.0)     | ... | pctnhblack(3.0)     | pctnhblack(3.0)     |\n",
      "+----------------+---------------------+-----+---------------------+---------------------+\n",
      "| unitstotal     | unitstotal(0)       | ... | unitstotal(1)       | unitstotal(2)       |\n",
      "+----------------+---------------------+-----+---------------------+---------------------+\n",
      "| pop65plus(0.0) | 0.1492167770003165  | ... | 0.24666450477161123 | 0.21201116437181183 |\n",
      "+----------------+---------------------+-----+---------------------+---------------------+\n",
      "| pop65plus(1.0) | 0.19114311497821385 | ... | 0.320558552908224   | 0.3664746455183782  |\n",
      "+----------------+---------------------+-----+---------------------+---------------------+\n",
      "| pop65plus(2.0) | 0.28582487591673456 | ... | 0.29011146825934186 | 0.3172583402510899  |\n",
      "+----------------+---------------------+-----+---------------------+---------------------+\n",
      "| pop65plus(3.0) | 0.373815232104735   | ... | 0.14266547406082292 | 0.10425584985872004 |\n",
      "+----------------+---------------------+-----+---------------------+---------------------+\n",
      "CPD of pctnhblack:\n",
      "+-----------------+---------------------+-----+---------------------+---------------------+\n",
      "| bldgarea        | bldgarea(0)         | ... | bldgarea(3)         | bldgarea(3)         |\n",
      "+-----------------+---------------------+-----+---------------------+---------------------+\n",
      "| unitstotal      | unitstotal(0)       | ... | unitstotal(1)       | unitstotal(2)       |\n",
      "+-----------------+---------------------+-----+---------------------+---------------------+\n",
      "| pctnhblack(0.0) | 0.27234374564401137 | ... | 0.22688978093326573 | 0.18703035793217154 |\n",
      "+-----------------+---------------------+-----+---------------------+---------------------+\n",
      "| pctnhblack(1.0) | 0.2130157307129662  | ... | 0.25693199431440755 | 0.298872186769434   |\n",
      "+-----------------+---------------------+-----+---------------------+---------------------+\n",
      "| pctnhblack(2.0) | 0.22942579449564438 | ... | 0.26563180788983093 | 0.30100999830252384 |\n",
      "+-----------------+---------------------+-----+---------------------+---------------------+\n",
      "| pctnhblack(3.0) | 0.28521472914737805 | ... | 0.2505464168624958  | 0.2130874569958706  |\n",
      "+-----------------+---------------------+-----+---------------------+---------------------+\n",
      "CPD of vacate_ind:\n",
      "+-----------------+------------------------+-----+------------------------+----------------------+\n",
      "| bldgarea        | bldgarea(0)            | ... | bldgarea(3)            | bldgarea(3)          |\n",
      "+-----------------+------------------------+-----+------------------------+----------------------+\n",
      "| mediangrossrent | mediangrossrent(0.0)   | ... | mediangrossrent(3.0)   | mediangrossrent(3.0) |\n",
      "+-----------------+------------------------+-----+------------------------+----------------------+\n",
      "| unitsres        | unitsres(0)            | ... | unitsres(1)            | unitsres(2)          |\n",
      "+-----------------+------------------------+-----+------------------------+----------------------+\n",
      "| vacate_ind(0.0) | 0.9999962318809997     | ... | 0.9997138826408916     | 0.9907645814355339   |\n",
      "+-----------------+------------------------+-----+------------------------+----------------------+\n",
      "| vacate_ind(1.0) | 3.7681190002125217e-06 | ... | 0.00028611735910844693 | 0.009235418564466039 |\n",
      "+-----------------+------------------------+-----+------------------------+----------------------+\n",
      "CPD of unitstotal:\n",
      "+---------------+----------------------+-----------------------+-----------------------+\n",
      "| unitsres      | unitsres(0)          | unitsres(1)           | unitsres(2)           |\n",
      "+---------------+----------------------+-----------------------+-----------------------+\n",
      "| unitstotal(0) | 0.9688720527789418   | 5.899235164160965e-06 | 9.332963747968914e-06 |\n",
      "+---------------+----------------------+-----------------------+-----------------------+\n",
      "| unitstotal(1) | 0.024615186341697605 | 0.9331811330660978    | 9.332963747968914e-06 |\n",
      "+---------------+----------------------+-----------------------+-----------------------+\n",
      "| unitstotal(2) | 0.006512760879360449 | 0.06681296769873785   | 0.9999813340725041    |\n",
      "+---------------+----------------------+-----------------------+-----------------------+\n",
      "CPD of unitsres:\n",
      "+-------------+----------+\n",
      "| unitsres(0) | 0.423568 |\n",
      "+-------------+----------+\n",
      "| unitsres(1) | 0.353187 |\n",
      "+-------------+----------+\n",
      "| unitsres(2) | 0.223245 |\n",
      "+-------------+----------+\n",
      "\n",
      "(mediangrossrent ⟂ unitsres | unitstotal, pop65plus, bldgarea, pctnhblack)\n",
      "(pop65plus ⟂ unitsres | unitstotal, bldgarea, pctnhblack)\n",
      "(pctnhblack ⟂ unitsres | unitstotal, bldgarea)\n",
      "(vacate_ind ⟂ unitstotal, pop65plus, pctnhblack | mediangrossrent, bldgarea, unitsres)\n",
      "\n",
      "\n"
     ]
    }
   ],
   "source": [
    "# look at the CPD for the model\n",
    "model = BayesianNetwork(best_model.edges())\n",
    "model.fit(train.loc[:, impt_vars], estimator=BayesianEstimator, prior_type='BDeu', equivalent_sample_size=10)\n",
    "for cpd in model.get_cpds():\n",
    "    print(\"CPD of {variable}:\".format(variable=cpd.variable))\n",
    "    print(cpd)\n",
    "for n in model.nodes():\n",
    "    print(model.local_independencies(n))"
   ]
  },
  {
   "cell_type": "code",
   "execution_count": 81,
   "id": "060d645b",
   "metadata": {
    "scrolled": false
   },
   "outputs": [
    {
     "data": {
      "image/png": "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\n",
      "text/plain": [
       "<Figure size 432x288 with 1 Axes>"
      ]
     },
     "metadata": {},
     "output_type": "display_data"
    },
    {
     "data": {
      "text/plain": [
       "<Figure size 864x720 with 0 Axes>"
      ]
     },
     "metadata": {},
     "output_type": "display_data"
    }
   ],
   "source": [
    "import networkx as nx\n",
    "import pylab as plt\n",
    "fig = plt.gcf()\n",
    "\n",
    "values = ['red' if n in ['vacate_ind'] else 'lightblue' for n in model.nodes()]\n",
    "# use networkx to draw DAG\n",
    "nx.draw(model, node_color=values, with_labels=True, font_color='black', node_size=200,font_size=10)\n",
    "\n",
    "plt.figure(figsize = (12,10))\n",
    "fig.savefig('dag_bbl.png')"
   ]
  },
  {
   "cell_type": "code",
   "execution_count": 112,
   "id": "21547bd4",
   "metadata": {},
   "outputs": [
    {
     "ename": "ValueError",
     "evalue": "Cannot mask with non-boolean array containing NA / NaN values",
     "output_type": "error",
     "traceback": [
      "\u001b[1;31m---------------------------------------------------------------------------\u001b[0m",
      "\u001b[1;31mValueError\u001b[0m                                Traceback (most recent call last)",
      "\u001b[1;32m~\\AppData\\Local\\Temp/ipykernel_23508/3359659942.py\u001b[0m in \u001b[0;36m<module>\u001b[1;34m\u001b[0m\n\u001b[0;32m      1\u001b[0m \u001b[0mdf_bbl\u001b[0m\u001b[1;33m.\u001b[0m\u001b[0mloc\u001b[0m\u001b[1;33m[\u001b[0m\u001b[0mdf_bbl\u001b[0m\u001b[1;33m.\u001b[0m\u001b[0mloc\u001b[0m\u001b[1;33m[\u001b[0m\u001b[1;33m:\u001b[0m\u001b[1;33m,\u001b[0m \u001b[1;34m\"mediangrossrent\"\u001b[0m\u001b[1;33m]\u001b[0m\u001b[1;33m.\u001b[0m\u001b[0misna\u001b[0m\u001b[1;33m(\u001b[0m\u001b[1;33m)\u001b[0m\u001b[1;33m,\u001b[0m \u001b[1;33m[\u001b[0m\u001b[1;34m\"boroct2010\"\u001b[0m\u001b[1;33m,\u001b[0m \u001b[1;34m\"mediangrossrent\"\u001b[0m\u001b[1;33m,\u001b[0m \u001b[1;34m\"totpop\"\u001b[0m\u001b[1;33m]\u001b[0m\u001b[1;33m]\u001b[0m\u001b[1;33m\u001b[0m\u001b[1;33m\u001b[0m\u001b[0m\n\u001b[0;32m      2\u001b[0m \u001b[1;33m\u001b[0m\u001b[0m\n\u001b[1;32m----> 3\u001b[1;33m \u001b[0mdf_bbl\u001b[0m\u001b[1;33m.\u001b[0m\u001b[0mloc\u001b[0m\u001b[1;33m[\u001b[0m\u001b[0mdf_bbl\u001b[0m\u001b[1;33m[\u001b[0m\u001b[1;34m\"boroct2010\"\u001b[0m\u001b[1;33m]\u001b[0m\u001b[1;33m.\u001b[0m\u001b[0mstr\u001b[0m\u001b[1;33m.\u001b[0m\u001b[0mcontains\u001b[0m\u001b[1;33m(\u001b[0m\u001b[1;34m\"None\"\u001b[0m\u001b[1;33m)\u001b[0m\u001b[1;33m]\u001b[0m\u001b[1;33m\u001b[0m\u001b[1;33m\u001b[0m\u001b[0m\n\u001b[0m",
      "\u001b[1;32m~\\anaconda3\\envs\\geo_env\\lib\\site-packages\\pandas\\core\\indexing.py\u001b[0m in \u001b[0;36m__getitem__\u001b[1;34m(self, key)\u001b[0m\n\u001b[0;32m    929\u001b[0m \u001b[1;33m\u001b[0m\u001b[0m\n\u001b[0;32m    930\u001b[0m             \u001b[0mmaybe_callable\u001b[0m \u001b[1;33m=\u001b[0m \u001b[0mcom\u001b[0m\u001b[1;33m.\u001b[0m\u001b[0mapply_if_callable\u001b[0m\u001b[1;33m(\u001b[0m\u001b[0mkey\u001b[0m\u001b[1;33m,\u001b[0m \u001b[0mself\u001b[0m\u001b[1;33m.\u001b[0m\u001b[0mobj\u001b[0m\u001b[1;33m)\u001b[0m\u001b[1;33m\u001b[0m\u001b[1;33m\u001b[0m\u001b[0m\n\u001b[1;32m--> 931\u001b[1;33m             \u001b[1;32mreturn\u001b[0m \u001b[0mself\u001b[0m\u001b[1;33m.\u001b[0m\u001b[0m_getitem_axis\u001b[0m\u001b[1;33m(\u001b[0m\u001b[0mmaybe_callable\u001b[0m\u001b[1;33m,\u001b[0m \u001b[0maxis\u001b[0m\u001b[1;33m=\u001b[0m\u001b[0maxis\u001b[0m\u001b[1;33m)\u001b[0m\u001b[1;33m\u001b[0m\u001b[1;33m\u001b[0m\u001b[0m\n\u001b[0m\u001b[0;32m    932\u001b[0m \u001b[1;33m\u001b[0m\u001b[0m\n\u001b[0;32m    933\u001b[0m     \u001b[1;32mdef\u001b[0m \u001b[0m_is_scalar_access\u001b[0m\u001b[1;33m(\u001b[0m\u001b[0mself\u001b[0m\u001b[1;33m,\u001b[0m \u001b[0mkey\u001b[0m\u001b[1;33m:\u001b[0m \u001b[0mtuple\u001b[0m\u001b[1;33m)\u001b[0m\u001b[1;33m:\u001b[0m\u001b[1;33m\u001b[0m\u001b[1;33m\u001b[0m\u001b[0m\n",
      "\u001b[1;32m~\\anaconda3\\envs\\geo_env\\lib\\site-packages\\pandas\\core\\indexing.py\u001b[0m in \u001b[0;36m_getitem_axis\u001b[1;34m(self, key, axis)\u001b[0m\n\u001b[0;32m   1141\u001b[0m             \u001b[0mself\u001b[0m\u001b[1;33m.\u001b[0m\u001b[0m_validate_key\u001b[0m\u001b[1;33m(\u001b[0m\u001b[0mkey\u001b[0m\u001b[1;33m,\u001b[0m \u001b[0maxis\u001b[0m\u001b[1;33m)\u001b[0m\u001b[1;33m\u001b[0m\u001b[1;33m\u001b[0m\u001b[0m\n\u001b[0;32m   1142\u001b[0m             \u001b[1;32mreturn\u001b[0m \u001b[0mself\u001b[0m\u001b[1;33m.\u001b[0m\u001b[0m_get_slice_axis\u001b[0m\u001b[1;33m(\u001b[0m\u001b[0mkey\u001b[0m\u001b[1;33m,\u001b[0m \u001b[0maxis\u001b[0m\u001b[1;33m=\u001b[0m\u001b[0maxis\u001b[0m\u001b[1;33m)\u001b[0m\u001b[1;33m\u001b[0m\u001b[1;33m\u001b[0m\u001b[0m\n\u001b[1;32m-> 1143\u001b[1;33m         \u001b[1;32melif\u001b[0m \u001b[0mcom\u001b[0m\u001b[1;33m.\u001b[0m\u001b[0mis_bool_indexer\u001b[0m\u001b[1;33m(\u001b[0m\u001b[0mkey\u001b[0m\u001b[1;33m)\u001b[0m\u001b[1;33m:\u001b[0m\u001b[1;33m\u001b[0m\u001b[1;33m\u001b[0m\u001b[0m\n\u001b[0m\u001b[0;32m   1144\u001b[0m             \u001b[1;32mreturn\u001b[0m \u001b[0mself\u001b[0m\u001b[1;33m.\u001b[0m\u001b[0m_getbool_axis\u001b[0m\u001b[1;33m(\u001b[0m\u001b[0mkey\u001b[0m\u001b[1;33m,\u001b[0m \u001b[0maxis\u001b[0m\u001b[1;33m=\u001b[0m\u001b[0maxis\u001b[0m\u001b[1;33m)\u001b[0m\u001b[1;33m\u001b[0m\u001b[1;33m\u001b[0m\u001b[0m\n\u001b[0;32m   1145\u001b[0m         \u001b[1;32melif\u001b[0m \u001b[0mis_list_like_indexer\u001b[0m\u001b[1;33m(\u001b[0m\u001b[0mkey\u001b[0m\u001b[1;33m)\u001b[0m\u001b[1;33m:\u001b[0m\u001b[1;33m\u001b[0m\u001b[1;33m\u001b[0m\u001b[0m\n",
      "\u001b[1;32m~\\anaconda3\\envs\\geo_env\\lib\\site-packages\\pandas\\core\\common.py\u001b[0m in \u001b[0;36mis_bool_indexer\u001b[1;34m(key)\u001b[0m\n\u001b[0;32m    137\u001b[0m                     \u001b[1;31m# Don't raise on e.g. [\"A\", \"B\", np.nan], see\u001b[0m\u001b[1;33m\u001b[0m\u001b[1;33m\u001b[0m\u001b[0m\n\u001b[0;32m    138\u001b[0m                     \u001b[1;31m#  test_loc_getitem_list_of_labels_categoricalindex_with_na\u001b[0m\u001b[1;33m\u001b[0m\u001b[1;33m\u001b[0m\u001b[0m\n\u001b[1;32m--> 139\u001b[1;33m                     \u001b[1;32mraise\u001b[0m \u001b[0mValueError\u001b[0m\u001b[1;33m(\u001b[0m\u001b[0mna_msg\u001b[0m\u001b[1;33m)\u001b[0m\u001b[1;33m\u001b[0m\u001b[1;33m\u001b[0m\u001b[0m\n\u001b[0m\u001b[0;32m    140\u001b[0m                 \u001b[1;32mreturn\u001b[0m \u001b[1;32mFalse\u001b[0m\u001b[1;33m\u001b[0m\u001b[1;33m\u001b[0m\u001b[0m\n\u001b[0;32m    141\u001b[0m             \u001b[1;32mreturn\u001b[0m \u001b[1;32mTrue\u001b[0m\u001b[1;33m\u001b[0m\u001b[1;33m\u001b[0m\u001b[0m\n",
      "\u001b[1;31mValueError\u001b[0m: Cannot mask with non-boolean array containing NA / NaN values"
     ]
    }
   ],
   "source": [
    "df_bbl.loc[df_bbl.loc[:, \"mediangrossrent\"].isna(), [\"boroct2010\", \"mediangrossrent\", \"totpop\"]]\n",
    "\n",
    "df_bbl.loc[df_bbl[\"boroct2010\"].str.contains(\"None\")]"
   ]
  },
  {
   "cell_type": "code",
   "execution_count": 105,
   "id": "5625425e",
   "metadata": {},
   "outputs": [
    {
     "data": {
      "application/vnd.jupyter.widget-view+json": {
       "model_id": "44d9f66425a547899b761c3b07a87dcb",
       "version_major": 2,
       "version_minor": 0
      },
      "text/plain": [
       "  0%|          | 0/59 [00:00<?, ?it/s]"
      ]
     },
     "metadata": {},
     "output_type": "display_data"
    },
    {
     "ename": "KeyboardInterrupt",
     "evalue": "",
     "output_type": "error",
     "traceback": [
      "\u001b[1;31m---------------------------------------------------------------------------\u001b[0m",
      "\u001b[1;31mKeyboardInterrupt\u001b[0m                         Traceback (most recent call last)",
      "\u001b[1;32m~\\AppData\\Local\\Temp/ipykernel_23508/2625539790.py\u001b[0m in \u001b[0;36m<module>\u001b[1;34m\u001b[0m\n\u001b[1;32m----> 1\u001b[1;33m \u001b[0mpred\u001b[0m \u001b[1;33m=\u001b[0m \u001b[0mmodel\u001b[0m\u001b[1;33m.\u001b[0m\u001b[0mpredict\u001b[0m\u001b[1;33m(\u001b[0m\u001b[0mdf_bbl_disc\u001b[0m\u001b[1;33m.\u001b[0m\u001b[0mloc\u001b[0m\u001b[1;33m[\u001b[0m\u001b[1;33m:\u001b[0m\u001b[1;33m,\u001b[0m \u001b[1;33m[\u001b[0m\u001b[1;34m\"bldgarea\"\u001b[0m\u001b[1;33m,\u001b[0m \u001b[1;34m\"unitstotal\"\u001b[0m\u001b[1;33m,\u001b[0m \u001b[1;34m\"mediangrossrent\"\u001b[0m\u001b[1;33m]\u001b[0m\u001b[1;33m]\u001b[0m\u001b[1;33m)\u001b[0m\u001b[1;33m\u001b[0m\u001b[1;33m\u001b[0m\u001b[0m\n\u001b[0m\u001b[0;32m      2\u001b[0m \u001b[0mprint\u001b[0m\u001b[1;33m(\u001b[0m\u001b[0mpred\u001b[0m\u001b[1;33m)\u001b[0m\u001b[1;33m\u001b[0m\u001b[1;33m\u001b[0m\u001b[0m\n",
      "\u001b[1;32m~\\anaconda3\\envs\\geo_env\\lib\\site-packages\\pgmpy\\models\\BayesianNetwork.py\u001b[0m in \u001b[0;36mpredict\u001b[1;34m(self, data, stochastic, n_jobs)\u001b[0m\n\u001b[0;32m    729\u001b[0m \u001b[1;33m\u001b[0m\u001b[0m\n\u001b[0;32m    730\u001b[0m             \u001b[1;31m# Send state_names dict from one of the estimated CPDs to the inference class.\u001b[0m\u001b[1;33m\u001b[0m\u001b[1;33m\u001b[0m\u001b[0m\n\u001b[1;32m--> 731\u001b[1;33m             pred_values = Parallel(n_jobs=n_jobs)(\n\u001b[0m\u001b[0;32m    732\u001b[0m                 delayed(model_inference.map_query)(\n\u001b[0;32m    733\u001b[0m                     \u001b[0mvariables\u001b[0m\u001b[1;33m=\u001b[0m\u001b[0mmissing_variables\u001b[0m\u001b[1;33m,\u001b[0m\u001b[1;33m\u001b[0m\u001b[1;33m\u001b[0m\u001b[0m\n",
      "\u001b[1;32m~\\anaconda3\\envs\\geo_env\\lib\\site-packages\\joblib\\parallel.py\u001b[0m in \u001b[0;36m__call__\u001b[1;34m(self, iterable)\u001b[0m\n\u001b[0;32m   1054\u001b[0m \u001b[1;33m\u001b[0m\u001b[0m\n\u001b[0;32m   1055\u001b[0m             \u001b[1;32mwith\u001b[0m \u001b[0mself\u001b[0m\u001b[1;33m.\u001b[0m\u001b[0m_backend\u001b[0m\u001b[1;33m.\u001b[0m\u001b[0mretrieval_context\u001b[0m\u001b[1;33m(\u001b[0m\u001b[1;33m)\u001b[0m\u001b[1;33m:\u001b[0m\u001b[1;33m\u001b[0m\u001b[1;33m\u001b[0m\u001b[0m\n\u001b[1;32m-> 1056\u001b[1;33m                 \u001b[0mself\u001b[0m\u001b[1;33m.\u001b[0m\u001b[0mretrieve\u001b[0m\u001b[1;33m(\u001b[0m\u001b[1;33m)\u001b[0m\u001b[1;33m\u001b[0m\u001b[1;33m\u001b[0m\u001b[0m\n\u001b[0m\u001b[0;32m   1057\u001b[0m             \u001b[1;31m# Make sure that we get a last message telling us we are done\u001b[0m\u001b[1;33m\u001b[0m\u001b[1;33m\u001b[0m\u001b[0m\n\u001b[0;32m   1058\u001b[0m             \u001b[0melapsed_time\u001b[0m \u001b[1;33m=\u001b[0m \u001b[0mtime\u001b[0m\u001b[1;33m.\u001b[0m\u001b[0mtime\u001b[0m\u001b[1;33m(\u001b[0m\u001b[1;33m)\u001b[0m \u001b[1;33m-\u001b[0m \u001b[0mself\u001b[0m\u001b[1;33m.\u001b[0m\u001b[0m_start_time\u001b[0m\u001b[1;33m\u001b[0m\u001b[1;33m\u001b[0m\u001b[0m\n",
      "\u001b[1;32m~\\anaconda3\\envs\\geo_env\\lib\\site-packages\\joblib\\parallel.py\u001b[0m in \u001b[0;36mretrieve\u001b[1;34m(self)\u001b[0m\n\u001b[0;32m    933\u001b[0m             \u001b[1;32mtry\u001b[0m\u001b[1;33m:\u001b[0m\u001b[1;33m\u001b[0m\u001b[1;33m\u001b[0m\u001b[0m\n\u001b[0;32m    934\u001b[0m                 \u001b[1;32mif\u001b[0m \u001b[0mgetattr\u001b[0m\u001b[1;33m(\u001b[0m\u001b[0mself\u001b[0m\u001b[1;33m.\u001b[0m\u001b[0m_backend\u001b[0m\u001b[1;33m,\u001b[0m \u001b[1;34m'supports_timeout'\u001b[0m\u001b[1;33m,\u001b[0m \u001b[1;32mFalse\u001b[0m\u001b[1;33m)\u001b[0m\u001b[1;33m:\u001b[0m\u001b[1;33m\u001b[0m\u001b[1;33m\u001b[0m\u001b[0m\n\u001b[1;32m--> 935\u001b[1;33m                     \u001b[0mself\u001b[0m\u001b[1;33m.\u001b[0m\u001b[0m_output\u001b[0m\u001b[1;33m.\u001b[0m\u001b[0mextend\u001b[0m\u001b[1;33m(\u001b[0m\u001b[0mjob\u001b[0m\u001b[1;33m.\u001b[0m\u001b[0mget\u001b[0m\u001b[1;33m(\u001b[0m\u001b[0mtimeout\u001b[0m\u001b[1;33m=\u001b[0m\u001b[0mself\u001b[0m\u001b[1;33m.\u001b[0m\u001b[0mtimeout\u001b[0m\u001b[1;33m)\u001b[0m\u001b[1;33m)\u001b[0m\u001b[1;33m\u001b[0m\u001b[1;33m\u001b[0m\u001b[0m\n\u001b[0m\u001b[0;32m    936\u001b[0m                 \u001b[1;32melse\u001b[0m\u001b[1;33m:\u001b[0m\u001b[1;33m\u001b[0m\u001b[1;33m\u001b[0m\u001b[0m\n\u001b[0;32m    937\u001b[0m                     \u001b[0mself\u001b[0m\u001b[1;33m.\u001b[0m\u001b[0m_output\u001b[0m\u001b[1;33m.\u001b[0m\u001b[0mextend\u001b[0m\u001b[1;33m(\u001b[0m\u001b[0mjob\u001b[0m\u001b[1;33m.\u001b[0m\u001b[0mget\u001b[0m\u001b[1;33m(\u001b[0m\u001b[1;33m)\u001b[0m\u001b[1;33m)\u001b[0m\u001b[1;33m\u001b[0m\u001b[1;33m\u001b[0m\u001b[0m\n",
      "\u001b[1;32m~\\anaconda3\\envs\\geo_env\\lib\\site-packages\\joblib\\_parallel_backends.py\u001b[0m in \u001b[0;36mwrap_future_result\u001b[1;34m(future, timeout)\u001b[0m\n\u001b[0;32m    540\u001b[0m         AsyncResults.get from multiprocessing.\"\"\"\n\u001b[0;32m    541\u001b[0m         \u001b[1;32mtry\u001b[0m\u001b[1;33m:\u001b[0m\u001b[1;33m\u001b[0m\u001b[1;33m\u001b[0m\u001b[0m\n\u001b[1;32m--> 542\u001b[1;33m             \u001b[1;32mreturn\u001b[0m \u001b[0mfuture\u001b[0m\u001b[1;33m.\u001b[0m\u001b[0mresult\u001b[0m\u001b[1;33m(\u001b[0m\u001b[0mtimeout\u001b[0m\u001b[1;33m=\u001b[0m\u001b[0mtimeout\u001b[0m\u001b[1;33m)\u001b[0m\u001b[1;33m\u001b[0m\u001b[1;33m\u001b[0m\u001b[0m\n\u001b[0m\u001b[0;32m    543\u001b[0m         \u001b[1;32mexcept\u001b[0m \u001b[0mCfTimeoutError\u001b[0m \u001b[1;32mas\u001b[0m \u001b[0me\u001b[0m\u001b[1;33m:\u001b[0m\u001b[1;33m\u001b[0m\u001b[1;33m\u001b[0m\u001b[0m\n\u001b[0;32m    544\u001b[0m             \u001b[1;32mraise\u001b[0m \u001b[0mTimeoutError\u001b[0m \u001b[1;32mfrom\u001b[0m \u001b[0me\u001b[0m\u001b[1;33m\u001b[0m\u001b[1;33m\u001b[0m\u001b[0m\n",
      "\u001b[1;32m~\\anaconda3\\envs\\geo_env\\lib\\concurrent\\futures\\_base.py\u001b[0m in \u001b[0;36mresult\u001b[1;34m(self, timeout)\u001b[0m\n\u001b[0;32m    438\u001b[0m                     \u001b[1;32mreturn\u001b[0m \u001b[0mself\u001b[0m\u001b[1;33m.\u001b[0m\u001b[0m__get_result\u001b[0m\u001b[1;33m(\u001b[0m\u001b[1;33m)\u001b[0m\u001b[1;33m\u001b[0m\u001b[1;33m\u001b[0m\u001b[0m\n\u001b[0;32m    439\u001b[0m \u001b[1;33m\u001b[0m\u001b[0m\n\u001b[1;32m--> 440\u001b[1;33m                 \u001b[0mself\u001b[0m\u001b[1;33m.\u001b[0m\u001b[0m_condition\u001b[0m\u001b[1;33m.\u001b[0m\u001b[0mwait\u001b[0m\u001b[1;33m(\u001b[0m\u001b[0mtimeout\u001b[0m\u001b[1;33m)\u001b[0m\u001b[1;33m\u001b[0m\u001b[1;33m\u001b[0m\u001b[0m\n\u001b[0m\u001b[0;32m    441\u001b[0m \u001b[1;33m\u001b[0m\u001b[0m\n\u001b[0;32m    442\u001b[0m                 \u001b[1;32mif\u001b[0m \u001b[0mself\u001b[0m\u001b[1;33m.\u001b[0m\u001b[0m_state\u001b[0m \u001b[1;32min\u001b[0m \u001b[1;33m[\u001b[0m\u001b[0mCANCELLED\u001b[0m\u001b[1;33m,\u001b[0m \u001b[0mCANCELLED_AND_NOTIFIED\u001b[0m\u001b[1;33m]\u001b[0m\u001b[1;33m:\u001b[0m\u001b[1;33m\u001b[0m\u001b[1;33m\u001b[0m\u001b[0m\n",
      "\u001b[1;32m~\\anaconda3\\envs\\geo_env\\lib\\threading.py\u001b[0m in \u001b[0;36mwait\u001b[1;34m(self, timeout)\u001b[0m\n\u001b[0;32m    310\u001b[0m         \u001b[1;32mtry\u001b[0m\u001b[1;33m:\u001b[0m    \u001b[1;31m# restore state no matter what (e.g., KeyboardInterrupt)\u001b[0m\u001b[1;33m\u001b[0m\u001b[1;33m\u001b[0m\u001b[0m\n\u001b[0;32m    311\u001b[0m             \u001b[1;32mif\u001b[0m \u001b[0mtimeout\u001b[0m \u001b[1;32mis\u001b[0m \u001b[1;32mNone\u001b[0m\u001b[1;33m:\u001b[0m\u001b[1;33m\u001b[0m\u001b[1;33m\u001b[0m\u001b[0m\n\u001b[1;32m--> 312\u001b[1;33m                 \u001b[0mwaiter\u001b[0m\u001b[1;33m.\u001b[0m\u001b[0macquire\u001b[0m\u001b[1;33m(\u001b[0m\u001b[1;33m)\u001b[0m\u001b[1;33m\u001b[0m\u001b[1;33m\u001b[0m\u001b[0m\n\u001b[0m\u001b[0;32m    313\u001b[0m                 \u001b[0mgotit\u001b[0m \u001b[1;33m=\u001b[0m \u001b[1;32mTrue\u001b[0m\u001b[1;33m\u001b[0m\u001b[1;33m\u001b[0m\u001b[0m\n\u001b[0;32m    314\u001b[0m             \u001b[1;32melse\u001b[0m\u001b[1;33m:\u001b[0m\u001b[1;33m\u001b[0m\u001b[1;33m\u001b[0m\u001b[0m\n",
      "\u001b[1;31mKeyboardInterrupt\u001b[0m: "
     ]
    }
   ],
   "source": [
    "pred = model.predict(df_bbl_disc.loc[:, [\"bldgarea\", \"unitstotal\", \"mediangrossrent\"]])\n",
    "print(pred)"
   ]
  },
  {
   "cell_type": "code",
   "execution_count": null,
   "id": "b946dbe9",
   "metadata": {},
   "outputs": [],
   "source": [
    "# calc out of sample accuracy\n",
    "print(\"\\nOS accuracy for vacate orders\")\n",
    "print((pred == test['vacate_ind'].reset_index(drop = True)).mean())"
   ]
  },
  {
   "cell_type": "markdown",
   "id": "93266500",
   "metadata": {},
   "source": [
    "# Anomaly Detection"
   ]
  },
  {
   "cell_type": "markdown",
   "id": "df5f4765",
   "metadata": {},
   "source": [
    "## Isolation forests"
   ]
  },
  {
   "cell_type": "code",
   "execution_count": 113,
   "id": "b29c8f5a",
   "metadata": {},
   "outputs": [],
   "source": [
    "from sklearn.ensemble import IsolationForest\n",
    "\n",
    "# generate outliers\n",
    "X_outliers= X.loc[X.loc[y==1].index, :]\n",
    "X_reg= X.loc[X.loc[y==0].index, :]\n",
    "# generate test and train data\n",
    "X_train, X_test= train_test_split(X_reg, test_size=0.3, random_state=999)\n",
    "\n",
    "# fit the model\n",
    "if_clf = IsolationForest(max_samples=100, random_state=99)\n",
    "if_clf.fit(X_train)\n",
    "y_pred_train = if_clf.predict(X_train)\n",
    "y_pred_test = if_clf.predict(X_test)\n",
    "y_pred_outliers = if_clf.predict(X_outliers)"
   ]
  },
  {
   "cell_type": "code",
   "execution_count": 114,
   "id": "f5fdb9eb",
   "metadata": {},
   "outputs": [
    {
     "name": "stdout",
     "output_type": "stream",
     "text": [
      "Percent training classified as inliers: 0.913049751169205\n",
      "Percent test data classified as inliers: 0.9122101360568011\n",
      "Percent outliers classified as inliers: 0.2434715821812596\n"
     ]
    }
   ],
   "source": [
    "print(\"Percent training classified as inliers:\", np.mean(y_pred_train==1))\n",
    "print(\"Percent test data classified as inliers:\", np.mean(y_pred_test==1))\n",
    "print(\"Percent outliers classified as inliers:\", np.mean(y_pred_outliers==1))"
   ]
  },
  {
   "cell_type": "code",
   "execution_count": 95,
   "id": "3c2b2d19",
   "metadata": {},
   "outputs": [
    {
     "data": {
      "image/png": "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\n",
      "text/plain": [
       "<Figure size 720x720 with 1 Axes>"
      ]
     },
     "metadata": {
      "needs_background": "light"
     },
     "output_type": "display_data"
    }
   ],
   "source": [
    "rng = np.random.RandomState(42)\n",
    "\n",
    "# Generate train data\n",
    "X = 0.3 * rng.randn(100, 2)\n",
    "X_train = np.r_[X + 2, X - 2]\n",
    "# Generate some regular novel observations\n",
    "X = 0.3 * rng.randn(20, 2)\n",
    "X_test = np.r_[X + 2, X - 2]\n",
    "# Generate some abnormal novel observations\n",
    "X_outliers = rng.uniform(low=-4, high=4, size=(20, 2))\n",
    "\n",
    "# fit the model\n",
    "clf = IsolationForest(max_samples=100, random_state=rng)\n",
    "clf.fit(X_train)\n",
    "y_pred_train = clf.predict(X_train)\n",
    "y_pred_test = clf.predict(X_test)\n",
    "y_pred_outliers = clf.predict(X_outliers)\n",
    "\n",
    "# plot the line, the samples, and the nearest vectors to the plane\n",
    "xx, yy = np.meshgrid(np.linspace(-5, 5, 50), np.linspace(-5, 5, 50))\n",
    "Z = clf.decision_function(np.c_[xx.ravel(), yy.ravel()])\n",
    "Z = Z.reshape(xx.shape)\n",
    "\n",
    "plt.figure(figsize=(10,10))\n",
    "\n",
    "plt.title(\"IsolationForest\")\n",
    "plt.contourf(xx, yy, Z, cmap=plt.cm.Blues_r)\n",
    "\n",
    "b1 = plt.scatter(X_train[:, 0], X_train[:, 1], c='white')\n",
    "b2 = plt.scatter(X_test[:, 0], X_test[:, 1], c='green')\n",
    "c = plt.scatter(X_outliers[:, 0], X_outliers[:, 1], c='red')\n",
    "plt.axis('tight')\n",
    "plt.xlim((-5, 5))\n",
    "plt.ylim((-5, 5))\n",
    "plt.legend([b1, b2, c],\n",
    "           [\"training observations\",\n",
    "            \"new regular observations\", \"new abnormal observations\"],\n",
    "           loc=\"upper left\")\n",
    "plt.show()"
   ]
  },
  {
   "cell_type": "code",
   "execution_count": 113,
   "id": "3c977929",
   "metadata": {},
   "outputs": [
    {
     "data": {
      "text/html": [
       "<div>\n",
       "<style scoped>\n",
       "    .dataframe tbody tr th:only-of-type {\n",
       "        vertical-align: middle;\n",
       "    }\n",
       "\n",
       "    .dataframe tbody tr th {\n",
       "        vertical-align: top;\n",
       "    }\n",
       "\n",
       "    .dataframe thead th {\n",
       "        text-align: right;\n",
       "    }\n",
       "</style>\n",
       "<table border=\"1\" class=\"dataframe\">\n",
       "  <thead>\n",
       "    <tr style=\"text-align: right;\">\n",
       "      <th></th>\n",
       "      <th>borough</th>\n",
       "      <th>bbl</th>\n",
       "      <th>cd</th>\n",
       "      <th>tract2010</th>\n",
       "      <th>zipcode</th>\n",
       "      <th>address</th>\n",
       "      <th>bldgclass</th>\n",
       "      <th>landuse</th>\n",
       "      <th>ownertype</th>\n",
       "      <th>ownername</th>\n",
       "      <th>...</th>\n",
       "      <th>pctnhasian</th>\n",
       "      <th>pctnhhawainpi</th>\n",
       "      <th>pctnhother</th>\n",
       "      <th>pctnhtwoplus</th>\n",
       "      <th>pctownerocch</th>\n",
       "      <th>pctrentocch</th>\n",
       "      <th>crowding</th>\n",
       "      <th>crowdingrenter</th>\n",
       "      <th>medianhhincome_imp</th>\n",
       "      <th>geofips_recode</th>\n",
       "    </tr>\n",
       "  </thead>\n",
       "  <tbody>\n",
       "    <tr>\n",
       "      <th>0</th>\n",
       "      <td>MN</td>\n",
       "      <td>1.012090e+09</td>\n",
       "      <td>107.0</td>\n",
       "      <td>181.0</td>\n",
       "      <td>10025.0</td>\n",
       "      <td>7 WEST 95 STREET</td>\n",
       "      <td>C2</td>\n",
       "      <td>2.0</td>\n",
       "      <td>NaN</td>\n",
       "      <td>ROBERT &amp; ANNE RABBINO</td>\n",
       "      <td>...</td>\n",
       "      <td>6.191149</td>\n",
       "      <td>0.0</td>\n",
       "      <td>1.483051</td>\n",
       "      <td>2.106874</td>\n",
       "      <td>32.879925</td>\n",
       "      <td>67.120075</td>\n",
       "      <td>2.532833</td>\n",
       "      <td>3.773585</td>\n",
       "      <td>0.0</td>\n",
       "      <td>1018100.0</td>\n",
       "    </tr>\n",
       "    <tr>\n",
       "      <th>1</th>\n",
       "      <td>MN</td>\n",
       "      <td>1.012090e+09</td>\n",
       "      <td>107.0</td>\n",
       "      <td>181.0</td>\n",
       "      <td>10025.0</td>\n",
       "      <td>5 WEST 95 STREET</td>\n",
       "      <td>C5</td>\n",
       "      <td>2.0</td>\n",
       "      <td>NaN</td>\n",
       "      <td>5 WEST 95TH STREET,</td>\n",
       "      <td>...</td>\n",
       "      <td>6.191149</td>\n",
       "      <td>0.0</td>\n",
       "      <td>1.483051</td>\n",
       "      <td>2.106874</td>\n",
       "      <td>32.879925</td>\n",
       "      <td>67.120075</td>\n",
       "      <td>2.532833</td>\n",
       "      <td>3.773585</td>\n",
       "      <td>0.0</td>\n",
       "      <td>1018100.0</td>\n",
       "    </tr>\n",
       "    <tr>\n",
       "      <th>2</th>\n",
       "      <td>MN</td>\n",
       "      <td>1.012090e+09</td>\n",
       "      <td>107.0</td>\n",
       "      <td>181.0</td>\n",
       "      <td>10025.0</td>\n",
       "      <td>12 WEST 96 STREET</td>\n",
       "      <td>D4</td>\n",
       "      <td>3.0</td>\n",
       "      <td>NaN</td>\n",
       "      <td>12 W 96TH STREET CORP</td>\n",
       "      <td>...</td>\n",
       "      <td>6.191149</td>\n",
       "      <td>0.0</td>\n",
       "      <td>1.483051</td>\n",
       "      <td>2.106874</td>\n",
       "      <td>32.879925</td>\n",
       "      <td>67.120075</td>\n",
       "      <td>2.532833</td>\n",
       "      <td>3.773585</td>\n",
       "      <td>0.0</td>\n",
       "      <td>1018100.0</td>\n",
       "    </tr>\n",
       "    <tr>\n",
       "      <th>3</th>\n",
       "      <td>MN</td>\n",
       "      <td>1.012090e+09</td>\n",
       "      <td>107.0</td>\n",
       "      <td>181.0</td>\n",
       "      <td>10025.0</td>\n",
       "      <td>44 WEST 96 STREET</td>\n",
       "      <td>D4</td>\n",
       "      <td>3.0</td>\n",
       "      <td>NaN</td>\n",
       "      <td>44 OWNERS CORP</td>\n",
       "      <td>...</td>\n",
       "      <td>6.191149</td>\n",
       "      <td>0.0</td>\n",
       "      <td>1.483051</td>\n",
       "      <td>2.106874</td>\n",
       "      <td>32.879925</td>\n",
       "      <td>67.120075</td>\n",
       "      <td>2.532833</td>\n",
       "      <td>3.773585</td>\n",
       "      <td>0.0</td>\n",
       "      <td>1018100.0</td>\n",
       "    </tr>\n",
       "    <tr>\n",
       "      <th>4</th>\n",
       "      <td>MN</td>\n",
       "      <td>1.012090e+09</td>\n",
       "      <td>107.0</td>\n",
       "      <td>181.0</td>\n",
       "      <td>10025.0</td>\n",
       "      <td>46 WEST 96 STREET</td>\n",
       "      <td>D4</td>\n",
       "      <td>3.0</td>\n",
       "      <td>NaN</td>\n",
       "      <td>46 W 96TH ST OWNERS CORP</td>\n",
       "      <td>...</td>\n",
       "      <td>6.191149</td>\n",
       "      <td>0.0</td>\n",
       "      <td>1.483051</td>\n",
       "      <td>2.106874</td>\n",
       "      <td>32.879925</td>\n",
       "      <td>67.120075</td>\n",
       "      <td>2.532833</td>\n",
       "      <td>3.773585</td>\n",
       "      <td>0.0</td>\n",
       "      <td>1018100.0</td>\n",
       "    </tr>\n",
       "    <tr>\n",
       "      <th>...</th>\n",
       "      <td>...</td>\n",
       "      <td>...</td>\n",
       "      <td>...</td>\n",
       "      <td>...</td>\n",
       "      <td>...</td>\n",
       "      <td>...</td>\n",
       "      <td>...</td>\n",
       "      <td>...</td>\n",
       "      <td>...</td>\n",
       "      <td>...</td>\n",
       "      <td>...</td>\n",
       "      <td>...</td>\n",
       "      <td>...</td>\n",
       "      <td>...</td>\n",
       "      <td>...</td>\n",
       "      <td>...</td>\n",
       "      <td>...</td>\n",
       "      <td>...</td>\n",
       "      <td>...</td>\n",
       "      <td>...</td>\n",
       "      <td>...</td>\n",
       "    </tr>\n",
       "    <tr>\n",
       "      <th>765023</th>\n",
       "      <td>MN</td>\n",
       "      <td>1.001110e+09</td>\n",
       "      <td>103.0</td>\n",
       "      <td>25.0</td>\n",
       "      <td>10038.0</td>\n",
       "      <td>20 MADISON STREET</td>\n",
       "      <td>D6</td>\n",
       "      <td>4.0</td>\n",
       "      <td>O</td>\n",
       "      <td>NYC HOUSING AUTHORITY</td>\n",
       "      <td>...</td>\n",
       "      <td>39.595112</td>\n",
       "      <td>0.0</td>\n",
       "      <td>0.000000</td>\n",
       "      <td>5.362028</td>\n",
       "      <td>0.000000</td>\n",
       "      <td>100.000000</td>\n",
       "      <td>10.834897</td>\n",
       "      <td>10.834897</td>\n",
       "      <td>0.0</td>\n",
       "      <td>1002500.0</td>\n",
       "    </tr>\n",
       "    <tr>\n",
       "      <th>765024</th>\n",
       "      <td>MN</td>\n",
       "      <td>1.003250e+09</td>\n",
       "      <td>103.0</td>\n",
       "      <td>1002.0</td>\n",
       "      <td>10002.0</td>\n",
       "      <td>140 BARUCH PLACE</td>\n",
       "      <td>C4</td>\n",
       "      <td>2.0</td>\n",
       "      <td>O</td>\n",
       "      <td>NYC HOUSING AUTHORITY</td>\n",
       "      <td>...</td>\n",
       "      <td>18.828776</td>\n",
       "      <td>0.0</td>\n",
       "      <td>0.000000</td>\n",
       "      <td>1.144076</td>\n",
       "      <td>0.000000</td>\n",
       "      <td>100.000000</td>\n",
       "      <td>1.210165</td>\n",
       "      <td>1.210165</td>\n",
       "      <td>0.0</td>\n",
       "      <td>1001002.0</td>\n",
       "    </tr>\n",
       "    <tr>\n",
       "      <th>765025</th>\n",
       "      <td>MN</td>\n",
       "      <td>1.003230e+09</td>\n",
       "      <td>103.0</td>\n",
       "      <td>1002.0</td>\n",
       "      <td>10002.0</td>\n",
       "      <td>288 DELANCEY STREET</td>\n",
       "      <td>D3</td>\n",
       "      <td>3.0</td>\n",
       "      <td>O</td>\n",
       "      <td>NYC HOUSING AUTHORITY</td>\n",
       "      <td>...</td>\n",
       "      <td>18.828776</td>\n",
       "      <td>0.0</td>\n",
       "      <td>0.000000</td>\n",
       "      <td>1.144076</td>\n",
       "      <td>0.000000</td>\n",
       "      <td>100.000000</td>\n",
       "      <td>1.210165</td>\n",
       "      <td>1.210165</td>\n",
       "      <td>0.0</td>\n",
       "      <td>1001002.0</td>\n",
       "    </tr>\n",
       "    <tr>\n",
       "      <th>765026</th>\n",
       "      <td>MN</td>\n",
       "      <td>1.003560e+09</td>\n",
       "      <td>103.0</td>\n",
       "      <td>20.0</td>\n",
       "      <td>10009.0</td>\n",
       "      <td>10 AVENUE D</td>\n",
       "      <td>D3</td>\n",
       "      <td>3.0</td>\n",
       "      <td>O</td>\n",
       "      <td>NYC HOUSING AUTHORITY</td>\n",
       "      <td>...</td>\n",
       "      <td>21.718273</td>\n",
       "      <td>0.0</td>\n",
       "      <td>0.000000</td>\n",
       "      <td>1.548190</td>\n",
       "      <td>0.356415</td>\n",
       "      <td>99.643585</td>\n",
       "      <td>6.517312</td>\n",
       "      <td>6.540623</td>\n",
       "      <td>0.0</td>\n",
       "      <td>1002000.0</td>\n",
       "    </tr>\n",
       "    <tr>\n",
       "      <th>765027</th>\n",
       "      <td>MN</td>\n",
       "      <td>1.003210e+09</td>\n",
       "      <td>103.0</td>\n",
       "      <td>1001.0</td>\n",
       "      <td>10002.0</td>\n",
       "      <td>570 GRAND STREET</td>\n",
       "      <td>D4</td>\n",
       "      <td>3.0</td>\n",
       "      <td>NaN</td>\n",
       "      <td>EAST RIVER HOUSING CORP.</td>\n",
       "      <td>...</td>\n",
       "      <td>11.384217</td>\n",
       "      <td>0.0</td>\n",
       "      <td>0.323415</td>\n",
       "      <td>0.776197</td>\n",
       "      <td>60.095012</td>\n",
       "      <td>39.904988</td>\n",
       "      <td>2.494062</td>\n",
       "      <td>0.000000</td>\n",
       "      <td>0.0</td>\n",
       "      <td>1001001.0</td>\n",
       "    </tr>\n",
       "  </tbody>\n",
       "</table>\n",
       "<p>765028 rows × 157 columns</p>\n",
       "</div>"
      ],
      "text/plain": [
       "       borough           bbl     cd  tract2010  zipcode              address  \\\n",
       "0           MN  1.012090e+09  107.0      181.0  10025.0     7 WEST 95 STREET   \n",
       "1           MN  1.012090e+09  107.0      181.0  10025.0     5 WEST 95 STREET   \n",
       "2           MN  1.012090e+09  107.0      181.0  10025.0    12 WEST 96 STREET   \n",
       "3           MN  1.012090e+09  107.0      181.0  10025.0    44 WEST 96 STREET   \n",
       "4           MN  1.012090e+09  107.0      181.0  10025.0    46 WEST 96 STREET   \n",
       "...        ...           ...    ...        ...      ...                  ...   \n",
       "765023      MN  1.001110e+09  103.0       25.0  10038.0    20 MADISON STREET   \n",
       "765024      MN  1.003250e+09  103.0     1002.0  10002.0     140 BARUCH PLACE   \n",
       "765025      MN  1.003230e+09  103.0     1002.0  10002.0  288 DELANCEY STREET   \n",
       "765026      MN  1.003560e+09  103.0       20.0  10009.0          10 AVENUE D   \n",
       "765027      MN  1.003210e+09  103.0     1001.0  10002.0     570 GRAND STREET   \n",
       "\n",
       "       bldgclass  landuse ownertype                 ownername  ...  \\\n",
       "0             C2      2.0       NaN     ROBERT & ANNE RABBINO  ...   \n",
       "1             C5      2.0       NaN       5 WEST 95TH STREET,  ...   \n",
       "2             D4      3.0       NaN     12 W 96TH STREET CORP  ...   \n",
       "3             D4      3.0       NaN            44 OWNERS CORP  ...   \n",
       "4             D4      3.0       NaN  46 W 96TH ST OWNERS CORP  ...   \n",
       "...          ...      ...       ...                       ...  ...   \n",
       "765023        D6      4.0         O     NYC HOUSING AUTHORITY  ...   \n",
       "765024        C4      2.0         O     NYC HOUSING AUTHORITY  ...   \n",
       "765025        D3      3.0         O     NYC HOUSING AUTHORITY  ...   \n",
       "765026        D3      3.0         O     NYC HOUSING AUTHORITY  ...   \n",
       "765027        D4      3.0       NaN  EAST RIVER HOUSING CORP.  ...   \n",
       "\n",
       "        pctnhasian  pctnhhawainpi  pctnhother  pctnhtwoplus  pctownerocch  \\\n",
       "0         6.191149            0.0    1.483051      2.106874     32.879925   \n",
       "1         6.191149            0.0    1.483051      2.106874     32.879925   \n",
       "2         6.191149            0.0    1.483051      2.106874     32.879925   \n",
       "3         6.191149            0.0    1.483051      2.106874     32.879925   \n",
       "4         6.191149            0.0    1.483051      2.106874     32.879925   \n",
       "...            ...            ...         ...           ...           ...   \n",
       "765023   39.595112            0.0    0.000000      5.362028      0.000000   \n",
       "765024   18.828776            0.0    0.000000      1.144076      0.000000   \n",
       "765025   18.828776            0.0    0.000000      1.144076      0.000000   \n",
       "765026   21.718273            0.0    0.000000      1.548190      0.356415   \n",
       "765027   11.384217            0.0    0.323415      0.776197     60.095012   \n",
       "\n",
       "        pctrentocch   crowding  crowdingrenter  medianhhincome_imp  \\\n",
       "0         67.120075   2.532833        3.773585                 0.0   \n",
       "1         67.120075   2.532833        3.773585                 0.0   \n",
       "2         67.120075   2.532833        3.773585                 0.0   \n",
       "3         67.120075   2.532833        3.773585                 0.0   \n",
       "4         67.120075   2.532833        3.773585                 0.0   \n",
       "...             ...        ...             ...                 ...   \n",
       "765023   100.000000  10.834897       10.834897                 0.0   \n",
       "765024   100.000000   1.210165        1.210165                 0.0   \n",
       "765025   100.000000   1.210165        1.210165                 0.0   \n",
       "765026    99.643585   6.517312        6.540623                 0.0   \n",
       "765027    39.904988   2.494062        0.000000                 0.0   \n",
       "\n",
       "        geofips_recode  \n",
       "0            1018100.0  \n",
       "1            1018100.0  \n",
       "2            1018100.0  \n",
       "3            1018100.0  \n",
       "4            1018100.0  \n",
       "...                ...  \n",
       "765023       1002500.0  \n",
       "765024       1001002.0  \n",
       "765025       1001002.0  \n",
       "765026       1002000.0  \n",
       "765027       1001001.0  \n",
       "\n",
       "[765028 rows x 157 columns]"
      ]
     },
     "execution_count": 113,
     "metadata": {},
     "output_type": "execute_result"
    }
   ],
   "source": [
    "df_bbl"
   ]
  },
  {
   "cell_type": "code",
   "execution_count": null,
   "id": "32ad69b9",
   "metadata": {},
   "outputs": [],
=======
>>>>>>> 591b3e870c61f832cbdf976950ca77197882dc23
   "source": []
  }
 ],
 "metadata": {
  "interpreter": {
   "hash": "38cca0c38332a56087b24af0bc80247f4fced29cb4f7f437d91dc159adec9c4e"
  },
  "kernelspec": {
   "display_name": "geo_env",
   "language": "python",
   "name": "python3"
  },
  "language_info": {
   "codemirror_mode": {
    "name": "ipython",
    "version": 3
   },
   "file_extension": ".py",
   "mimetype": "text/x-python",
   "name": "python",
   "nbconvert_exporter": "python",
   "pygments_lexer": "ipython3",
   "version": "3.10.4"
  }
 },
 "nbformat": 4,
 "nbformat_minor": 5
}
