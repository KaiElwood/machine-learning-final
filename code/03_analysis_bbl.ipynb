{
 "cells": [
  {
   "cell_type": "code",
   "execution_count": 48,
   "id": "a018be8b",
   "metadata": {},
   "outputs": [],
   "source": [
    "# setup\n",
    "import pandas as pd\n",
    "import numpy as np\n",
    "import matplotlib\n",
    "import matplotlib.pyplot as plt \n",
    "import requests\n",
    "import calendar\n",
    "import geopandas as gpd\n",
    "import os.path as os\n",
    "import scipy.stats\n",
    "import seaborn.palettes\n",
    "import seaborn.utils\n",
    "import sys\n",
    "from census import Census\n",
    "from us import states\n",
    "from sklearn.metrics import precision_recall_fscore_support\n",
    "import http.client, urllib.request, urllib.parse, urllib.error, base64\n",
    "import config\n",
    "\n",
    "root= r\"C:/Users/Jennah/Desktop/Code/machine-learning-final\"\n",
    "inp= os.join(root, \"data\", \"3_clean\")"
   ]
  },
  {
   "cell_type": "code",
   "execution_count": 49,
   "id": "ddb23994",
   "metadata": {},
   "outputs": [
    {
     "name": "stdout",
     "output_type": "stream",
     "text": [
      "Your browser has been opened to visit:\n",
      "\n",
      "    https://accounts.google.com/o/oauth2/auth?client_id=570719947456-53haph7mjc317oel1ujh0kmjbfd499jf.apps.googleusercontent.com&redirect_uri=http%3A%2F%2Flocalhost%3A8080%2F&scope=https%3A%2F%2Fwww.googleapis.com%2Fauth%2Fdrive&access_type=offline&response_type=code\n",
      "\n",
      "Authentication successful.\n"
     ]
    }
   ],
   "source": [
    "from pydrive.auth import GoogleAuth\n",
    "\n",
    "gauth = GoogleAuth()\n",
    "gauth.LocalWebserverAuth() # Creates local webserver and auto handles authentication."
   ]
  },
  {
   "cell_type": "code",
   "execution_count": 50,
   "id": "763f2a7f",
   "metadata": {},
   "outputs": [
    {
     "name": "stdout",
     "output_type": "stream",
     "text": [
      "Title: analysis_bbl.csv, ID: 1yYX-ROr1c7fzcQiG6NZ1sh7Ko5gqr_4G\n",
      "Title: analysis_bbl_noacs.csv, ID: 1h-tDpBSslfzqzsJe1ny_ujDnr68RKry3\n",
      "Title: analysis_box.csv, ID: 1Vzjvta98IG9Hg4SfAGcd8JD8FaF3IXwy\n"
     ]
    }
   ],
   "source": [
    "# files in clean data google drive\n",
    "from pydrive.drive import GoogleDrive\n",
    "drive = GoogleDrive(gauth)\n",
    "fileList = drive.ListFile({'q': \"'1jxSI_nq32-W9kPHKvQkzuNGJ5aIBD2j2' in parents and trashed=false\"}).GetList()\n",
    "for file in fileList:\n",
    "  print('Title: %s, ID: %s' % (file['title'], file['id']))\n",
    "  # Get the folder ID that you want\n",
    "  if(file['title'] == \"To Share\"):\n",
    "      fileID = file['id']"
   ]
  },
  {
   "cell_type": "markdown",
   "id": "14b53bf2",
   "metadata": {},
   "source": [
    "## Load building level analysis file"
   ]
  },
  {
   "cell_type": "code",
   "execution_count": 51,
   "id": "a136b453",
   "metadata": {},
   "outputs": [
    {
     "name": "stderr",
     "output_type": "stream",
     "text": [
      "C:\\Users\\Jennah\\anaconda3\\envs\\geo_env\\lib\\site-packages\\IPython\\core\\interactiveshell.py:3444: DtypeWarning: Columns (27) have mixed types.Specify dtype option on import or set low_memory=False.\n",
      "  exec(code_obj, self.user_global_ns, self.user_ns)\n"
     ]
    }
   ],
   "source": [
    "df_bbl = drive.CreateFile({'id': '1yYX-ROr1c7fzcQiG6NZ1sh7Ko5gqr_4G'})\n",
    "df_bbl.GetContentFile('analysis_bbl.csv')  \n",
    "\n",
    "df_bbl= pd.read_csv('analysis_bbl.csv').drop([\"Unnamed: 0\"], axis = 1)\n",
    "df_bbl.head()\n",
    "\n",
    "df_bbl.drop(df_bbl.loc[df_bbl[\"bbl\"].isna()].index, inplace = True)"
   ]
  },
  {
   "cell_type": "markdown",
   "id": "d18dfcca",
   "metadata": {},
   "source": [
    "# Decision Trees and Random Forest Models"
   ]
  },
  {
   "cell_type": "code",
   "execution_count": 52,
   "id": "259a1f3e",
   "metadata": {},
   "outputs": [],
   "source": [
    "assert df_bbl.loc[:, \"vacate_ind\"].isna().sum() == 0\n",
    "df_bbl.loc[:, \"num_vac_orders\"]= df_bbl.loc[:, \"num_vac_orders\"].fillna(0)"
   ]
  },
  {
   "cell_type": "code",
   "execution_count": 53,
   "id": "fa38421a",
   "metadata": {
    "scrolled": true
   },
   "outputs": [
    {
     "name": "stdout",
     "output_type": "stream",
     "text": [
      "Index(['borough', 'bbl', 'cd', 'tract2010', 'zipcode', 'address', 'bldgclass',\n",
      "       'landuse', 'ownertype', 'ownername',\n",
      "       ...\n",
      "       'pctnhasian', 'pctnhhawainpi', 'pctnhother', 'pctnhtwoplus',\n",
      "       'pctownerocch', 'pctrentocch', 'crowding', 'crowdingrenter',\n",
      "       'medianhhincome_imp', 'geofips_recode'],\n",
      "      dtype='object', length=157)\n"
     ]
    },
    {
     "data": {
      "text/html": [
       "<div>\n",
       "<style scoped>\n",
       "    .dataframe tbody tr th:only-of-type {\n",
       "        vertical-align: middle;\n",
       "    }\n",
       "\n",
       "    .dataframe tbody tr th {\n",
       "        vertical-align: top;\n",
       "    }\n",
       "\n",
       "    .dataframe thead th {\n",
       "        text-align: right;\n",
       "    }\n",
       "</style>\n",
       "<table border=\"1\" class=\"dataframe\">\n",
       "  <thead>\n",
       "    <tr style=\"text-align: right;\">\n",
       "      <th></th>\n",
       "      <th>bbl</th>\n",
       "      <th>cd</th>\n",
       "      <th>tract2010</th>\n",
       "      <th>zipcode</th>\n",
       "      <th>landuse</th>\n",
       "      <th>lotarea</th>\n",
       "      <th>bldgarea</th>\n",
       "      <th>numbldgs</th>\n",
       "      <th>numfloors</th>\n",
       "      <th>unitsres</th>\n",
       "      <th>...</th>\n",
       "      <th>pctnhasian</th>\n",
       "      <th>pctnhhawainpi</th>\n",
       "      <th>pctnhother</th>\n",
       "      <th>pctnhtwoplus</th>\n",
       "      <th>pctownerocch</th>\n",
       "      <th>pctrentocch</th>\n",
       "      <th>crowding</th>\n",
       "      <th>crowdingrenter</th>\n",
       "      <th>medianhhincome_imp</th>\n",
       "      <th>geofips_recode</th>\n",
       "    </tr>\n",
       "  </thead>\n",
       "  <tbody>\n",
       "    <tr>\n",
       "      <th>count</th>\n",
       "      <td>7.650280e+05</td>\n",
       "      <td>765028.000000</td>\n",
       "      <td>765023.000000</td>\n",
       "      <td>765028.000000</td>\n",
       "      <td>765028.000000</td>\n",
       "      <td>7.650280e+05</td>\n",
       "      <td>7.650280e+05</td>\n",
       "      <td>765028.000000</td>\n",
       "      <td>765028.000000</td>\n",
       "      <td>765028.000000</td>\n",
       "      <td>...</td>\n",
       "      <td>765001.000000</td>\n",
       "      <td>765001.000000</td>\n",
       "      <td>765001.000000</td>\n",
       "      <td>765001.000000</td>\n",
       "      <td>764997.000000</td>\n",
       "      <td>764997.000000</td>\n",
       "      <td>764997.000000</td>\n",
       "      <td>764988.000000</td>\n",
       "      <td>765023.000000</td>\n",
       "      <td>7.650230e+05</td>\n",
       "    </tr>\n",
       "    <tr>\n",
       "      <th>mean</th>\n",
       "      <td>3.548738e+09</td>\n",
       "      <td>357.695427</td>\n",
       "      <td>9565.767255</td>\n",
       "      <td>11026.317894</td>\n",
       "      <td>1.421476</td>\n",
       "      <td>3.812045e+03</td>\n",
       "      <td>5.051024e+03</td>\n",
       "      <td>1.324974</td>\n",
       "      <td>2.443931</td>\n",
       "      <td>4.689660</td>\n",
       "      <td>...</td>\n",
       "      <td>15.733353</td>\n",
       "      <td>0.033563</td>\n",
       "      <td>1.119491</td>\n",
       "      <td>1.962157</td>\n",
       "      <td>50.197441</td>\n",
       "      <td>49.802559</td>\n",
       "      <td>8.170262</td>\n",
       "      <td>10.205459</td>\n",
       "      <td>0.001169</td>\n",
       "      <td>3.541767e+06</td>\n",
       "    </tr>\n",
       "    <tr>\n",
       "      <th>std</th>\n",
       "      <td>1.003516e+09</td>\n",
       "      <td>98.074679</td>\n",
       "      <td>26807.879379</td>\n",
       "      <td>464.453474</td>\n",
       "      <td>0.842763</td>\n",
       "      <td>2.318735e+04</td>\n",
       "      <td>3.520150e+04</td>\n",
       "      <td>2.726637</td>\n",
       "      <td>1.676084</td>\n",
       "      <td>42.058941</td>\n",
       "      <td>...</td>\n",
       "      <td>17.564605</td>\n",
       "      <td>0.269548</td>\n",
       "      <td>3.038184</td>\n",
       "      <td>2.060771</td>\n",
       "      <td>24.959441</td>\n",
       "      <td>24.959441</td>\n",
       "      <td>6.977929</td>\n",
       "      <td>9.219103</td>\n",
       "      <td>0.034165</td>\n",
       "      <td>9.994476e+05</td>\n",
       "    </tr>\n",
       "    <tr>\n",
       "      <th>min</th>\n",
       "      <td>1.000070e+09</td>\n",
       "      <td>0.000000</td>\n",
       "      <td>1.000000</td>\n",
       "      <td>0.000000</td>\n",
       "      <td>1.000000</td>\n",
       "      <td>2.300000e+01</td>\n",
       "      <td>0.000000e+00</td>\n",
       "      <td>0.000000</td>\n",
       "      <td>0.000000</td>\n",
       "      <td>0.000000</td>\n",
       "      <td>...</td>\n",
       "      <td>0.000000</td>\n",
       "      <td>0.000000</td>\n",
       "      <td>0.000000</td>\n",
       "      <td>0.000000</td>\n",
       "      <td>0.000000</td>\n",
       "      <td>0.000000</td>\n",
       "      <td>0.000000</td>\n",
       "      <td>0.000000</td>\n",
       "      <td>0.000000</td>\n",
       "      <td>1.000201e+06</td>\n",
       "    </tr>\n",
       "    <tr>\n",
       "      <th>25%</th>\n",
       "      <td>3.036730e+09</td>\n",
       "      <td>307.000000</td>\n",
       "      <td>222.000000</td>\n",
       "      <td>10467.000000</td>\n",
       "      <td>1.000000</td>\n",
       "      <td>2.000000e+03</td>\n",
       "      <td>1.440000e+03</td>\n",
       "      <td>1.000000</td>\n",
       "      <td>2.000000</td>\n",
       "      <td>1.000000</td>\n",
       "      <td>...</td>\n",
       "      <td>2.887910</td>\n",
       "      <td>0.000000</td>\n",
       "      <td>0.000000</td>\n",
       "      <td>0.490998</td>\n",
       "      <td>29.103943</td>\n",
       "      <td>27.593699</td>\n",
       "      <td>3.289474</td>\n",
       "      <td>3.183024</td>\n",
       "      <td>0.000000</td>\n",
       "      <td>3.030100e+06</td>\n",
       "    </tr>\n",
       "    <tr>\n",
       "      <th>50%</th>\n",
       "      <td>4.012680e+09</td>\n",
       "      <td>403.000000</td>\n",
       "      <td>504.000000</td>\n",
       "      <td>11223.000000</td>\n",
       "      <td>1.000000</td>\n",
       "      <td>2.500000e+03</td>\n",
       "      <td>2.020000e+03</td>\n",
       "      <td>1.000000</td>\n",
       "      <td>2.000000</td>\n",
       "      <td>2.000000</td>\n",
       "      <td>...</td>\n",
       "      <td>8.355388</td>\n",
       "      <td>0.000000</td>\n",
       "      <td>0.000000</td>\n",
       "      <td>1.404125</td>\n",
       "      <td>50.627615</td>\n",
       "      <td>49.372385</td>\n",
       "      <td>6.207928</td>\n",
       "      <td>8.142494</td>\n",
       "      <td>0.000000</td>\n",
       "      <td>4.010200e+06</td>\n",
       "    </tr>\n",
       "    <tr>\n",
       "      <th>75%</th>\n",
       "      <td>4.107290e+09</td>\n",
       "      <td>412.000000</td>\n",
       "      <td>1139.000000</td>\n",
       "      <td>11372.000000</td>\n",
       "      <td>2.000000</td>\n",
       "      <td>4.000000e+03</td>\n",
       "      <td>2.923000e+03</td>\n",
       "      <td>2.000000</td>\n",
       "      <td>2.750000</td>\n",
       "      <td>2.000000</td>\n",
       "      <td>...</td>\n",
       "      <td>23.870968</td>\n",
       "      <td>0.000000</td>\n",
       "      <td>0.778210</td>\n",
       "      <td>2.694064</td>\n",
       "      <td>72.406301</td>\n",
       "      <td>70.896057</td>\n",
       "      <td>11.000000</td>\n",
       "      <td>14.855072</td>\n",
       "      <td>0.000000</td>\n",
       "      <td>4.092200e+06</td>\n",
       "    </tr>\n",
       "    <tr>\n",
       "      <th>max</th>\n",
       "      <td>5.080500e+09</td>\n",
       "      <td>503.000000</td>\n",
       "      <td>157903.000000</td>\n",
       "      <td>12345.000000</td>\n",
       "      <td>4.000000</td>\n",
       "      <td>1.225343e+07</td>\n",
       "      <td>1.354011e+07</td>\n",
       "      <td>1807.000000</td>\n",
       "      <td>98.000000</td>\n",
       "      <td>19201.000000</td>\n",
       "      <td>...</td>\n",
       "      <td>91.605249</td>\n",
       "      <td>7.191448</td>\n",
       "      <td>31.090573</td>\n",
       "      <td>20.276498</td>\n",
       "      <td>100.000000</td>\n",
       "      <td>100.000000</td>\n",
       "      <td>100.000000</td>\n",
       "      <td>100.000000</td>\n",
       "      <td>1.000000</td>\n",
       "      <td>5.032300e+06</td>\n",
       "    </tr>\n",
       "  </tbody>\n",
       "</table>\n",
       "<p>8 rows × 150 columns</p>\n",
       "</div>"
      ],
      "text/plain": [
       "                bbl             cd      tract2010        zipcode  \\\n",
       "count  7.650280e+05  765028.000000  765023.000000  765028.000000   \n",
       "mean   3.548738e+09     357.695427    9565.767255   11026.317894   \n",
       "std    1.003516e+09      98.074679   26807.879379     464.453474   \n",
       "min    1.000070e+09       0.000000       1.000000       0.000000   \n",
       "25%    3.036730e+09     307.000000     222.000000   10467.000000   \n",
       "50%    4.012680e+09     403.000000     504.000000   11223.000000   \n",
       "75%    4.107290e+09     412.000000    1139.000000   11372.000000   \n",
       "max    5.080500e+09     503.000000  157903.000000   12345.000000   \n",
       "\n",
       "             landuse       lotarea      bldgarea       numbldgs  \\\n",
       "count  765028.000000  7.650280e+05  7.650280e+05  765028.000000   \n",
       "mean        1.421476  3.812045e+03  5.051024e+03       1.324974   \n",
       "std         0.842763  2.318735e+04  3.520150e+04       2.726637   \n",
       "min         1.000000  2.300000e+01  0.000000e+00       0.000000   \n",
       "25%         1.000000  2.000000e+03  1.440000e+03       1.000000   \n",
       "50%         1.000000  2.500000e+03  2.020000e+03       1.000000   \n",
       "75%         2.000000  4.000000e+03  2.923000e+03       2.000000   \n",
       "max         4.000000  1.225343e+07  1.354011e+07    1807.000000   \n",
       "\n",
       "           numfloors       unitsres  ...     pctnhasian  pctnhhawainpi  \\\n",
       "count  765028.000000  765028.000000  ...  765001.000000  765001.000000   \n",
       "mean        2.443931       4.689660  ...      15.733353       0.033563   \n",
       "std         1.676084      42.058941  ...      17.564605       0.269548   \n",
       "min         0.000000       0.000000  ...       0.000000       0.000000   \n",
       "25%         2.000000       1.000000  ...       2.887910       0.000000   \n",
       "50%         2.000000       2.000000  ...       8.355388       0.000000   \n",
       "75%         2.750000       2.000000  ...      23.870968       0.000000   \n",
       "max        98.000000   19201.000000  ...      91.605249       7.191448   \n",
       "\n",
       "          pctnhother   pctnhtwoplus   pctownerocch    pctrentocch  \\\n",
       "count  765001.000000  765001.000000  764997.000000  764997.000000   \n",
       "mean        1.119491       1.962157      50.197441      49.802559   \n",
       "std         3.038184       2.060771      24.959441      24.959441   \n",
       "min         0.000000       0.000000       0.000000       0.000000   \n",
       "25%         0.000000       0.490998      29.103943      27.593699   \n",
       "50%         0.000000       1.404125      50.627615      49.372385   \n",
       "75%         0.778210       2.694064      72.406301      70.896057   \n",
       "max        31.090573      20.276498     100.000000     100.000000   \n",
       "\n",
       "            crowding  crowdingrenter  medianhhincome_imp  geofips_recode  \n",
       "count  764997.000000   764988.000000       765023.000000    7.650230e+05  \n",
       "mean        8.170262       10.205459            0.001169    3.541767e+06  \n",
       "std         6.977929        9.219103            0.034165    9.994476e+05  \n",
       "min         0.000000        0.000000            0.000000    1.000201e+06  \n",
       "25%         3.289474        3.183024            0.000000    3.030100e+06  \n",
       "50%         6.207928        8.142494            0.000000    4.010200e+06  \n",
       "75%        11.000000       14.855072            0.000000    4.092200e+06  \n",
       "max       100.000000      100.000000            1.000000    5.032300e+06  \n",
       "\n",
       "[8 rows x 150 columns]"
      ]
     },
     "execution_count": 53,
     "metadata": {},
     "output_type": "execute_result"
    }
   ],
   "source": [
    "print(df_bbl.columns)\n",
    "df_bbl.describe()"
   ]
  },
  {
   "cell_type": "code",
   "execution_count": 54,
   "id": "97d9c678",
   "metadata": {},
   "outputs": [],
   "source": [
    "df_bbl= pd.get_dummies(df_bbl, columns=[\"borough\"])\n",
    "borocols= [\"borough_\" + x for x in [\"BK\", \"BX\", \"MN\", \"QN\", \"SI\"]]"
   ]
  },
  {
   "cell_type": "code",
   "execution_count": 55,
   "id": "328eeb7e",
   "metadata": {},
   "outputs": [
    {
     "data": {
      "text/plain": [
       "['lotarea',\n",
       " 'bldgarea',\n",
       " 'numbldgs',\n",
       " 'numfloors',\n",
       " 'unitsres',\n",
       " 'unitstotal',\n",
       " 'assessland',\n",
       " 'assesstot',\n",
       " 'exempttot',\n",
       " 'yearbuilt',\n",
       " 'holc_AB',\n",
       " 'holc_CD',\n",
       " 'holc_D',\n",
       " 'tot_hpd_vio',\n",
       " 'hpd_fire_vio',\n",
       " 'hpd_b_c_vio',\n",
       " 'viol_count_per_unit',\n",
       " 'hpd_fire_vio_per_unit',\n",
       " 'hpd_b_c_vio_per_unit',\n",
       " 'AL',\n",
       " 'NB',\n",
       " 'average_energy_usage',\n",
       " 'average_energy_usage_mi',\n",
       " 'totpop',\n",
       " 'popdens',\n",
       " 'areasqmile',\n",
       " 'males',\n",
       " 'females',\n",
       " 'pop18under',\n",
       " 'pop18_34',\n",
       " 'pop35_64',\n",
       " 'pop65plus',\n",
       " 'pophispanic',\n",
       " 'popnhwhite',\n",
       " 'popnhblack',\n",
       " 'popnhaian',\n",
       " 'popnhasian',\n",
       " 'popnhhawainpi',\n",
       " 'popnhother',\n",
       " 'popnhtwoplus',\n",
       " 'housing',\n",
       " 'housingoccupied',\n",
       " 'renterhousing',\n",
       " 'oc_halfless',\n",
       " 'oc_half_1',\n",
       " 'oc_1_onehalf',\n",
       " 'oc_onehalf_2',\n",
       " 'oc_2plus',\n",
       " 'roc_halfless',\n",
       " 'roc_half_1',\n",
       " 'roc_1_onehalf',\n",
       " 'roc_onehalf_2',\n",
       " 'roc_2plus',\n",
       " 'medianyearbuilt',\n",
       " 'mediangrossrent',\n",
       " 'medianhhincome',\n",
       " 'gini',\n",
       " 'year',\n",
       " 'pct18under',\n",
       " 'pct18_34',\n",
       " 'pct35_64',\n",
       " 'pct65plus',\n",
       " 'pcthispanic',\n",
       " 'pctnhwhite',\n",
       " 'pctnhblack',\n",
       " 'pctnhaian',\n",
       " 'pctnhasian',\n",
       " 'pctnhhawainpi',\n",
       " 'pctnhother',\n",
       " 'pctnhtwoplus',\n",
       " 'pctownerocch',\n",
       " 'pctrentocch',\n",
       " 'crowding',\n",
       " 'crowdingrenter']"
      ]
     },
     "execution_count": 55,
     "metadata": {},
     "output_type": "execute_result"
    }
   ],
   "source": [
    "# define predictors\n",
    "df_bbl.columns\n",
    "predictors = [\"lotarea\", \"bldgarea\", \"numbldgs\", \"numfloors\", \"unitsres\", \"unitstotal\", \"assessland\",\n",
    "             \"assesstot\", \"exempttot\", \"yearbuilt\", \"holc_AB\", \"holc_CD\", \"holc_D\",\n",
    "             \"tot_hpd_vio\", \"hpd_fire_vio\", \"hpd_b_c_vio\",\n",
    "             \"viol_count_per_unit\", \"hpd_fire_vio_per_unit\", \"hpd_b_c_vio_per_unit\",\n",
    "             \"AL\", \"NB\", \"average_energy_usage\", \"average_energy_usage_mi\"]\n",
    "predictors_acs= df_bbl.columns[df_bbl.columns.get_loc(\"totpop\"):df_bbl.columns.get_loc(\"crowdingrenter\") + 1].tolist()\n",
    "predictors_full= predictors + predictors_acs\n",
    "predictors_full"
   ]
  },
  {
   "cell_type": "code",
   "execution_count": 56,
   "id": "7a3e09c1",
   "metadata": {},
   "outputs": [
    {
     "data": {
      "text/plain": [
       "0.0034037969852083847"
      ]
     },
     "execution_count": 56,
     "metadata": {},
     "output_type": "execute_result"
    }
   ],
   "source": [
    "outcomes= [\"vacate_ind\", \"num_vac_orders\"]\n",
    "df_bbl[outcomes].head()\n",
    "\n",
    "# very small percentage of the data has had a fire\n",
    "df_bbl[outcomes[0]].mean()"
   ]
  },
  {
   "cell_type": "code",
   "execution_count": 110,
   "id": "60740f10",
   "metadata": {},
   "outputs": [
    {
     "data": {
      "text/plain": [
       "0.9961047279191666"
      ]
     },
     "execution_count": 110,
     "metadata": {},
     "output_type": "execute_result"
    }
   ],
   "source": [
    "from sklearn.model_selection import train_test_split\n",
    "from sklearn.tree import DecisionTreeClassifier\n",
    "\n",
    "X = df_bbl.loc[:, predictors_full].fillna(0)\n",
    "y = df_bbl.loc[:, \"vacate_ind\"]\n",
    "X_train, X_test, y_train, y_test = train_test_split(X, y, test_size=0.3, random_state=999)\n",
    "\n",
    "dt = DecisionTreeClassifier(max_depth=10)\n",
    "dt.fit(X_train, y_train)\n",
    "y_predict = dt.predict(X_test)\n",
    "\n",
    "# accuracy is very high, but that is bc most are 0s!\n",
    "accuracy= (y_predict == y_test).value_counts(normalize=True)[True]\n",
    "accuracy"
   ]
  },
  {
   "cell_type": "markdown",
   "id": "ecdffb84",
   "metadata": {},
   "source": [
    "__Area under the curve__"
   ]
  },
  {
   "cell_type": "code",
   "execution_count": 19,
   "id": "2ac4d3b7",
   "metadata": {},
   "outputs": [
    {
     "data": {
      "text/plain": [
       "0.5723740819825224"
      ]
     },
     "execution_count": 19,
     "metadata": {},
     "output_type": "execute_result"
    }
   ],
   "source": [
    "from sklearn.metrics import roc_auc_score\n",
    "dt=DecisionTreeClassifier(random_state = 99)\n",
    "dt.fit(X_train,y_train)\n",
    "# predict_proba predicts the probability of each class rather than just the most likely class\n",
    "pred=dt.predict_proba(X_test)[:,1] # predicted probability of y = 1\n",
    "roc_auc_score(np.array(y_test),pred)"
   ]
  },
  {
   "cell_type": "code",
   "execution_count": 21,
   "id": "558ac95d",
   "metadata": {
    "scrolled": true
   },
   "outputs": [
    {
     "data": {
      "text/plain": [
       "0.5053754989097502"
      ]
     },
     "execution_count": 21,
     "metadata": {},
     "output_type": "execute_result"
    }
   ],
   "source": [
    "# vs. random chance (only slightly better)\n",
    "pred=np.random.random(len(X_test))\n",
    "roc_auc_score(np.array(y_test.apply(int)),pred)"
   ]
  },
  {
   "cell_type": "markdown",
   "id": "392fe285",
   "metadata": {},
   "source": [
    "## Tuning"
   ]
  },
  {
   "cell_type": "code",
   "execution_count": 22,
   "id": "b27412e4",
   "metadata": {},
   "outputs": [
    {
     "name": "stdout",
     "output_type": "stream",
     "text": [
      "{'max_depth': 5}\n",
      "0.9758050498490718\n"
     ]
    }
   ],
   "source": [
    "from sklearn.model_selection import GridSearchCV\n",
    "# This time we'll use max_depth to control the complexity of the tree, still using the same train/test split as above,\n",
    "# and optimize the parameter value using GridSearchCV.\n",
    "param_grid = {'max_depth':range(1,20)}\n",
    "dt=DecisionTreeClassifier()\n",
    "gr=GridSearchCV(dt,param_grid=param_grid, scoring='roc_auc')\n",
    "rs=gr.fit(X_train,y_train)\n",
    "print(rs.best_params_)\n",
    "print(roc_auc_score(np.array(y_test),rs.predict_proba(X_test)[:,1]))"
   ]
  },
  {
   "cell_type": "code",
   "execution_count": 37,
   "id": "06a9d4b1",
   "metadata": {},
   "outputs": [
    {
     "data": {
      "text/plain": [
       "0.9758050498490718"
      ]
     },
     "execution_count": 37,
     "metadata": {},
     "output_type": "execute_result"
    }
   ],
   "source": [
    "dt=DecisionTreeClassifier(max_depth = rs.best_params_['max_depth'], random_state= 99)\n",
    "dt.fit(X_train,y_train)\n",
    "# predict_proba predicts the probability of each class rather than just the most likely class\n",
    "pred=dt.predict_proba(X_test)[:,1] # predicted probability of y = 1\n",
    "roc_auc_score(np.array(y_test),pred)\n",
    "## look at precision and recall rates\n",
    "precision_recall_fscore_support(y_test, pred > 0.5)"
   ]
  },
  {
   "cell_type": "code",
   "execution_count": 38,
   "id": "9e362154",
   "metadata": {},
   "outputs": [
    {
     "data": {
      "text/plain": [
       "(array([0.99662305, 0.58333333]),\n",
       " array([0.99997814, 0.00895141]),\n",
       " array([0.99829778, 0.01763224]),\n",
       " array([228727,    782], dtype=int64))"
      ]
     },
     "execution_count": 38,
     "metadata": {},
     "output_type": "execute_result"
    }
   ],
   "source": []
  },
  {
   "cell_type": "code",
   "execution_count": 39,
   "id": "b4239d18",
   "metadata": {
    "scrolled": true
   },
   "outputs": [
    {
     "data": {
      "image/png": "[encoded data removed]",
      "text/plain": [
       "<Figure size 432x288 with 1 Axes>"
      ]
     },
     "metadata": {
      "needs_background": "light"
     },
     "output_type": "display_data"
    }
   ],
   "source": [
    "from sklearn.metrics import roc_curve\n",
    "from sklearn.metrics import RocCurveDisplay\n",
    "\n",
    "fpr, tpr, _ = roc_curve(y_test, pred, pos_label=1)\n",
    "roc_display = RocCurveDisplay(fpr=fpr, tpr=tpr).plot()"
   ]
  },
  {
   "cell_type": "code",
   "execution_count": 40,
   "id": "1a72ab21",
   "metadata": {
    "scrolled": true
   },
   "outputs": [
    {
     "data": {
      "image/png": "[encoded data removed]",
      "text/plain": [
       "<Figure size 432x288 with 1 Axes>"
      ]
     },
     "metadata": {
      "needs_background": "light"
     },
     "output_type": "display_data"
    }
   ],
   "source": [
    "from sklearn.metrics import precision_recall_curve\n",
    "from sklearn.metrics import PrecisionRecallDisplay\n",
    "\n",
    "prec, recall, _ = precision_recall_curve(y_test, pred, pos_label= 1)\n",
    "pr_display = PrecisionRecallDisplay(precision=prec, recall=recall).plot()"
   ]
  },
  {
   "cell_type": "code",
   "execution_count": 44,
   "id": "5fc9524c",
   "metadata": {
    "scrolled": true
   },
   "outputs": [
    {
     "data": {
      "image/png": "[encoded data removed]",
      "text/plain": [
       "<Figure size 864x576 with 2 Axes>"
      ]
     },
     "metadata": {
      "needs_background": "light"
     },
     "output_type": "display_data"
    },
    {
     "data": {
      "text/plain": [
       "<Figure size 432x288 with 0 Axes>"
      ]
     },
     "metadata": {},
     "output_type": "display_data"
    }
   ],
   "source": [
    "import matplotlib.pyplot as plt\n",
    "\n",
    "fig, (ax1, ax2) = plt.subplots(1, 2, figsize=(12, 8))\n",
    "\n",
    "roc_display.plot(ax=ax1)\n",
    "pr_display.plot(ax=ax2)\n",
    "plt.show()\n",
    "plt.savefig('auc_precision_recall.png')"
   ]
  },
  {
   "cell_type": "markdown",
   "id": "dfb2cab2",
   "metadata": {},
   "source": [
    "## Feature Importance"
   ]
  },
  {
   "cell_type": "code",
   "execution_count": null,
   "id": "84ca2e04",
   "metadata": {},
   "outputs": [],
   "source": [
    "dt = DecisionTreeClassifier(max_depth=rs.best_params_['max_depth'])\n",
    "dt.fit(X_train, y_train)\n",
    "Feature_importance=pd.DataFrame([list(X_train.columns),list(dt.feature_importances_)]).T\n",
    "Feature_importance.columns=[\"variables\",\"importance\"]\n",
    "\n",
    "# list the top 10 most important features in order\n",
    "ft= Feature_importance.sort_values(by=\"importance\",ascending=False).iloc[:10,:]\n",
    "ft"
   ]
  },
  {
   "cell_type": "code",
   "execution_count": null,
   "id": "cf785853",
   "metadata": {},
   "outputs": [],
   "source": [
    "plt.figure(figsize=(15, 5), dpi=80)\n",
    "plt.bar(Feature_importance.sort_values(by=\"importance\",ascending=False).iloc[:10,0],\n",
    "        Feature_importance.sort_values(by=\"importance\",ascending=False).iloc[:10,1])\n",
    "plt.title(\"Feature Importance\");"
   ]
  },
  {
   "cell_type": "markdown",
   "id": "0ce37a77",
   "metadata": {},
   "source": [
    "## Random Forests"
   ]
  },
  {
   "cell_type": "code",
   "execution_count": 58,
   "id": "beb4ff90",
   "metadata": {},
   "outputs": [
    {
     "name": "stdout",
     "output_type": "stream",
     "text": [
      "0.9713235488398778\n"
     ]
    }
   ],
   "source": [
    "from sklearn.ensemble import RandomForestClassifier\n",
    "rf = RandomForestClassifier(n_estimators=30, n_jobs=-1,max_leaf_nodes=10)\n",
    "rf.fit(X_train, y_train)\n",
    "pred=rf.predict_proba(X_test)[:,1]\n",
    "print(roc_auc_score(y_test,pred))"
   ]
  },
  {
   "cell_type": "code",
   "execution_count": 59,
   "id": "4cf9019c",
   "metadata": {},
   "outputs": [
    {
     "name": "stdout",
     "output_type": "stream",
     "text": [
      "{'max_depth': 9}\n",
      "0.9772815668735724\n"
     ]
    }
   ],
   "source": [
    "param_grid = {'max_depth':range(1,50)}\n",
    "rf = RandomForestClassifier(n_jobs=-1, n_estimators = 30)\n",
    "gs = GridSearchCV(rf, param_grid=param_grid, scoring='roc_auc')\n",
    "rs = gs.fit(X_train,y_train)\n",
    "pred=rs.predict_proba(X_test)[:,1]\n",
    "print(rs.best_params_)\n",
    "print(roc_auc_score(np.array(y_test),pred))"
   ]
  },
  {
   "cell_type": "code",
   "execution_count": 60,
   "id": "e83ae845",
   "metadata": {},
   "outputs": [
    {
     "data": {
      "text/plain": [
       "(array([0.99663178, 0.81818182]),\n",
       " array([0.99999126, 0.01150895]),\n",
       " array([0.99830869, 0.02269861]),\n",
       " array([228727,    782], dtype=int64))"
      ]
     },
     "execution_count": 60,
     "metadata": {},
     "output_type": "execute_result"
    }
   ],
   "source": [
    "## look at precision and recall rates\n",
    "precision_recall_fscore_support(y_test, (pred > 0.5))"
   ]
  },
  {
   "cell_type": "code",
   "execution_count": 64,
   "id": "5ef1b8be",
   "metadata": {},
   "outputs": [
    {
     "data": {
      "image/png": "[encoded data removed]",
      "text/plain": [
       "<Figure size 864x576 with 2 Axes>"
      ]
     },
     "metadata": {
      "needs_background": "light"
     },
     "output_type": "display_data"
    },
    {
     "data": {
      "text/plain": [
       "<Figure size 432x288 with 0 Axes>"
      ]
     },
     "metadata": {},
     "output_type": "display_data"
    }
   ],
   "source": [
    "fig, (ax1, ax2) = plt.subplots(1, 2, figsize=(12, 8))\n",
    "\n",
    "fpr, tpr, _ = roc_curve(y_test, pred, pos_label=1)\n",
    "roc_display = RocCurveDisplay(fpr=fpr, tpr=tpr).plot(ax=ax1)\n",
    "\n",
    "prec, recall, _ = precision_recall_curve(y_test, pred, pos_label= 1)\n",
    "pr_display = PrecisionRecallDisplay(precision=prec, recall=recall).plot(ax=ax2)\n",
    "\n",
    "plt.show()\n",
    "plt.savefig('auc_precision_recall2.png')"
   ]
  },
  {
   "cell_type": "markdown",
   "id": "afc7faf1",
   "metadata": {},
   "source": [
    "### CMM and other ensembles"
   ]
  },
  {
   "cell_type": "code",
   "execution_count": 65,
   "id": "e3c3cd72",
   "metadata": {},
   "outputs": [],
   "source": [
    "rf = RandomForestClassifier(n_jobs=-1, n_estimators=30, random_state = 99, max_depth = rs.best_params_['max_depth'])\n",
    "rf.fit(X_train,y_train)\n",
    "\n",
    "# randomly generate a sample of xs\n",
    "X_rand= pd.DataFrame({x:X_train[x].sample(n = round(0.25*X_train.shape[0])).reset_index(drop = True) for x in X_train.columns})\n",
    "y_rand= rf.predict(X_rand)"
   ]
  },
  {
   "cell_type": "code",
   "execution_count": 66,
   "id": "6afa1b7a",
   "metadata": {},
   "outputs": [],
   "source": [
    "# create the cmm training datasets\n",
    "X_train_cmm= pd.concat([X_rand, X_train], axis = 0, ignore_index = True)\n",
    "y_train_cmm= pd.concat([pd.DataFrame(y_rand), y_train], axis = 0, ignore_index = True)"
   ]
  },
  {
   "cell_type": "code",
   "execution_count": 69,
   "id": "86b2f857",
   "metadata": {},
   "outputs": [
    {
     "name": "stdout",
     "output_type": "stream",
     "text": [
      "{'max_depth': 4}\n",
      "0.9741206408332064\n"
     ]
    }
   ],
   "source": [
    "param_grid = {'max_depth':range(1,30)}\n",
    "dt=DecisionTreeClassifier()\n",
    "gr=GridSearchCV(dt,param_grid=param_grid, scoring='roc_auc')\n",
    "rs=gr.fit(X_train,y_train)\n",
    "print(rs.best_params_)\n",
    "print(roc_auc_score(np.array(y_test),rs.predict_proba(X_test)[:,1]))"
   ]
  },
  {
   "cell_type": "code",
   "execution_count": 80,
   "id": "0cb78568",
   "metadata": {},
   "outputs": [
    {
     "name": "stdout",
     "output_type": "stream",
     "text": [
      "ROC AUC: 0.9741206408332064\n",
      "Precision: 0.6666666666666666\n",
      "Recall: 0.0076726342710997444\n"
     ]
    }
   ],
   "source": [
    "# predict_proba predicts the probability of each class rather than just the most likely class\n",
    "pred=gr.predict_proba(X_test)[:,1] # predicted probability of y = 1\n",
    "\n",
    "print(\"ROC AUC:\", roc_auc_score(np.array(y_test),pred))\n",
    "## look at precision and recall rates\n",
    "pr= precision_recall_fscore_support(y_test, pred > 0.5)\n",
    "print(\"Precision:\", pr[0][1])\n",
    "print(\"Recall:\", pr[1][1])"
   ]
  },
  {
   "cell_type": "markdown",
   "id": "93266500",
   "metadata": {},
   "source": [
    "# Anomaly Detection"
   ]
  },
  {
   "cell_type": "markdown",
   "id": "30857d1a",
   "metadata": {},
   "source": [
    "## Isolation forests"
   ]
  },
  {
   "cell_type": "code",
   "execution_count": 113,
   "id": "b29c8f5a",
   "metadata": {},
   "outputs": [],
   "source": [
    "from sklearn.ensemble import IsolationForest\n",
    "\n",
    "# generate outliers\n",
    "X_outliers= X.loc[X.loc[y==1].index, :]\n",
    "X_reg= X.loc[X.loc[y==0].index, :]\n",
    "# generate test and train data\n",
    "X_train, X_test= train_test_split(X_reg, test_size=0.3, random_state=999)\n",
    "\n",
    "# fit the model\n",
    "if_clf = IsolationForest(max_samples=100, random_state=99)\n",
    "if_clf.fit(X_train)\n",
    "y_pred_train = if_clf.predict(X_train)\n",
    "y_pred_test = if_clf.predict(X_test)\n",
    "y_pred_outliers = if_clf.predict(X_outliers)"
   ]
  },
  {
   "cell_type": "code",
   "execution_count": 114,
   "id": "e86ceaae",
   "metadata": {},
   "outputs": [
    {
     "name": "stdout",
     "output_type": "stream",
     "text": [
      "Percent training classified as inliers: 0.913049751169205\n",
      "Percent test data classified as inliers: 0.9122101360568011\n",
      "Percent outliers classified as inliers: 0.2434715821812596\n"
     ]
    }
   ],
   "source": [
    "print(\"Percent training classified as inliers:\", np.mean(y_pred_train==1))\n",
    "print(\"Percent test data classified as inliers:\", np.mean(y_pred_test==1))\n",
    "print(\"Percent outliers classified as inliers:\", np.mean(y_pred_outliers==1))"
   ]
  },
  {
   "cell_type": "code",
   "execution_count": 95,
   "id": "3c2b2d19",
   "metadata": {},
   "outputs": [
    {
     "data": {
      "image/png": "[encoded data removed]",
      "text/plain": [
       "<Figure size 720x720 with 1 Axes>"
      ]
     },
     "metadata": {
      "needs_background": "light"
     },
     "output_type": "display_data"
    }
   ],
   "source": [
    "rng = np.random.RandomState(42)\n",
    "\n",
    "# Generate train data\n",
    "X = 0.3 * rng.randn(100, 2)\n",
    "X_train = np.r_[X + 2, X - 2]\n",
    "# Generate some regular novel observations\n",
    "X = 0.3 * rng.randn(20, 2)\n",
    "X_test = np.r_[X + 2, X - 2]\n",
    "# Generate some abnormal novel observations\n",
    "X_outliers = rng.uniform(low=-4, high=4, size=(20, 2))\n",
    "\n",
    "# fit the model\n",
    "clf = IsolationForest(max_samples=100, random_state=rng)\n",
    "clf.fit(X_train)\n",
    "y_pred_train = clf.predict(X_train)\n",
    "y_pred_test = clf.predict(X_test)\n",
    "y_pred_outliers = clf.predict(X_outliers)\n",
    "\n",
    "# plot the line, the samples, and the nearest vectors to the plane\n",
    "xx, yy = np.meshgrid(np.linspace(-5, 5, 50), np.linspace(-5, 5, 50))\n",
    "Z = clf.decision_function(np.c_[xx.ravel(), yy.ravel()])\n",
    "Z = Z.reshape(xx.shape)\n",
    "\n",
    "plt.figure(figsize=(10,10))\n",
    "\n",
    "plt.title(\"IsolationForest\")\n",
    "plt.contourf(xx, yy, Z, cmap=plt.cm.Blues_r)\n",
    "\n",
    "b1 = plt.scatter(X_train[:, 0], X_train[:, 1], c='white')\n",
    "b2 = plt.scatter(X_test[:, 0], X_test[:, 1], c='green')\n",
    "c = plt.scatter(X_outliers[:, 0], X_outliers[:, 1], c='red')\n",
    "plt.axis('tight')\n",
    "plt.xlim((-5, 5))\n",
    "plt.ylim((-5, 5))\n",
    "plt.legend([b1, b2, c],\n",
    "           [\"training observations\",\n",
    "            \"new regular observations\", \"new abnormal observations\"],\n",
    "           loc=\"upper left\")\n",
    "plt.show()"
   ]
  },
  {
   "cell_type": "code",
   "execution_count": null,
   "id": "ca1891d6",
   "metadata": {},
   "outputs": [],
   "source": []
  }
 ],
 "metadata": {
  "kernelspec": {
   "display_name": "geo_env",
   "language": "python",
   "name": "geo_env"
  },
  "language_info": {
   "codemirror_mode": {
    "name": "ipython",
    "version": 3
   },
   "file_extension": ".py",
   "mimetype": "text/x-python",
   "name": "python",
   "nbconvert_exporter": "python",
   "pygments_lexer": "ipython3",
   "version": "3.9.7"
  }
 },
 "nbformat": 4,
 "nbformat_minor": 5
}
