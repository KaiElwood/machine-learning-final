{
 "cells": [
  {
   "cell_type": "code",
   "execution_count": 1,
   "id": "a018be8b",
   "metadata": {},
   "outputs": [],
   "source": [
    "# setup\n",
    "import pandas as pd\n",
    "import numpy as np\n",
    "import matplotlib\n",
    "import matplotlib.pyplot as plt \n",
    "import requests\n",
    "import calendar\n",
    "import geopandas as gpd\n",
    "import os.path as os\n",
    "import scipy.stats\n",
    "import sys\n",
    "import http.client, urllib.request, urllib.parse, urllib.error, base64\n",
    "import config\n",
    "\n",
    "from sklearn.model_selection import GridSearchCV\n",
    "\n",
    "root= r\"C:/Users/Jennah/Desktop/Code/machine-learning-final\"\n",
    "inp= os.join(root, \"data\", \"3_clean\")\n",
    "interm= os.join(root, \"data\", \"2_intermediate\")\n",
    "drive= os.join(root, \"code\", \"drive\")\n",
    "\n",
    "plots= os.join(root, \"code\", \"plots\")"
   ]
  },
  {
   "cell_type": "code",
   "execution_count": 2,
   "id": "f5a1d533",
   "metadata": {},
   "outputs": [
    {
     "name": "stdout",
     "output_type": "stream",
     "text": [
      "Your browser has been opened to visit:\n",
      "\n",
      "    https://accounts.google.com/o/oauth2/auth?client_id=570719947456-53haph7mjc317oel1ujh0kmjbfd499jf.apps.googleusercontent.com&redirect_uri=http%3A%2F%2Flocalhost%3A8080%2F&scope=https%3A%2F%2Fwww.googleapis.com%2Fauth%2Fdrive&access_type=offline&response_type=code\n",
      "\n",
      "Authentication successful.\n"
     ]
    }
   ],
   "source": [
    "from pydrive.auth import GoogleAuth\n",
    "\n",
    "gauth = GoogleAuth()\n",
    "gauth.LocalWebserverAuth() # Creates local webserver and auto handles authentication."
   ]
  },
  {
   "cell_type": "code",
   "execution_count": 3,
   "id": "c20fb011",
   "metadata": {},
   "outputs": [
    {
     "name": "stdout",
     "output_type": "stream",
     "text": [
      "Title: analysis_box.csv, ID: 1Vzjvta98IG9Hg4SfAGcd8JD8FaF3IXwy\n",
      "Title: analysis_bbl.csv, ID: 1yYX-ROr1c7fzcQiG6NZ1sh7Ko5gqr_4G\n",
      "Title: analysis_bbl_noacs.csv, ID: 1h-tDpBSslfzqzsJe1ny_ujDnr68RKry3\n",
      "Title: borobox_convex_hull.geojson, ID: 1SzBNj3Ba-v9MEwuCkZT9e9iAwVYUqx8r\n"
     ]
    }
   ],
   "source": [
    "# files in clean data google drive\n",
    "from pydrive.drive import GoogleDrive\n",
    "drive = GoogleDrive(gauth)\n",
    "fileList = drive.ListFile({'q': \"'1jxSI_nq32-W9kPHKvQkzuNGJ5aIBD2j2' in parents and trashed=false\"}).GetList()\n",
    "for file in fileList:\n",
    "  print('Title: %s, ID: %s' % (file['title'], file['id']))\n",
    "  # Get the folder ID that you want\n",
    "  if(file['title'] == \"To Share\"):\n",
    "      fileID = file['id']"
   ]
  },
  {
   "cell_type": "code",
   "execution_count": 4,
   "id": "dc69dec6",
   "metadata": {},
   "outputs": [
    {
     "name": "stderr",
     "output_type": "stream",
     "text": [
      "C:\\Users\\Jennah\\anaconda3\\envs\\geo_env\\lib\\site-packages\\openpyxl\\worksheet\\_reader.py:312: UserWarning: Unknown extension is not supported and will be removed\n",
      "  warn(msg)\n"
     ]
    },
    {
     "data": {
      "text/html": [
       "<div>\n",
       "<style scoped>\n",
       "    .dataframe tbody tr th:only-of-type {\n",
       "        vertical-align: middle;\n",
       "    }\n",
       "\n",
       "    .dataframe tbody tr th {\n",
       "        vertical-align: top;\n",
       "    }\n",
       "\n",
       "    .dataframe thead th {\n",
       "        text-align: right;\n",
       "    }\n",
       "</style>\n",
       "<table border=\"1\" class=\"dataframe\">\n",
       "  <thead>\n",
       "    <tr style=\"text-align: right;\">\n",
       "      <th></th>\n",
       "      <th>Variable</th>\n",
       "      <th>Description</th>\n",
       "      <th>Source</th>\n",
       "      <th>Notes</th>\n",
       "      <th>Include_BBL</th>\n",
       "      <th>Include_Box</th>\n",
       "    </tr>\n",
       "  </thead>\n",
       "  <tbody>\n",
       "    <tr>\n",
       "      <th>0</th>\n",
       "      <td>geofips</td>\n",
       "      <td>census tract geo identifier</td>\n",
       "      <td>Census ACS</td>\n",
       "      <td>NaN</td>\n",
       "      <td>0.0</td>\n",
       "      <td>0.0</td>\n",
       "    </tr>\n",
       "    <tr>\n",
       "      <th>1</th>\n",
       "      <td>geofips_recode</td>\n",
       "      <td>census tract geo identifier, changes county to...</td>\n",
       "      <td>Census ACS</td>\n",
       "      <td>NaN</td>\n",
       "      <td>0.0</td>\n",
       "      <td>0.0</td>\n",
       "    </tr>\n",
       "    <tr>\n",
       "      <th>2</th>\n",
       "      <td>totpop</td>\n",
       "      <td>total population</td>\n",
       "      <td>Census ACS</td>\n",
       "      <td>NaN</td>\n",
       "      <td>1.0</td>\n",
       "      <td>1.0</td>\n",
       "    </tr>\n",
       "    <tr>\n",
       "      <th>3</th>\n",
       "      <td>popdens</td>\n",
       "      <td>total population per square mile</td>\n",
       "      <td>Census ACS</td>\n",
       "      <td>NaN</td>\n",
       "      <td>1.0</td>\n",
       "      <td>1.0</td>\n",
       "    </tr>\n",
       "    <tr>\n",
       "      <th>4</th>\n",
       "      <td>areasqmile</td>\n",
       "      <td>area</td>\n",
       "      <td>Census ACS</td>\n",
       "      <td>NaN</td>\n",
       "      <td>1.0</td>\n",
       "      <td>1.0</td>\n",
       "    </tr>\n",
       "  </tbody>\n",
       "</table>\n",
       "</div>"
      ],
      "text/plain": [
       "         Variable                                        Description  \\\n",
       "0         geofips                        census tract geo identifier   \n",
       "1  geofips_recode  census tract geo identifier, changes county to...   \n",
       "2          totpop                                   total population   \n",
       "3         popdens                   total population per square mile   \n",
       "4      areasqmile                                               area   \n",
       "\n",
       "       Source Notes  Include_BBL  Include_Box  \n",
       "0  Census ACS   NaN          0.0          0.0  \n",
       "1  Census ACS   NaN          0.0          0.0  \n",
       "2  Census ACS   NaN          1.0          1.0  \n",
       "3  Census ACS   NaN          1.0          1.0  \n",
       "4  Census ACS   NaN          1.0          1.0  "
      ]
     },
     "execution_count": 4,
     "metadata": {},
     "output_type": "execute_result"
    }
   ],
   "source": [
    "# load codebook        \n",
    "codebk = drive.CreateFile({'id': '1Lf7kV9_R-caFZV6_l8hMxAVjFSVFhvYl'})\n",
    "codebk.GetContentFile('codebook.xlsx')\n",
    "\n",
    "codebk= pd.read_excel('codebook.xlsx', sheet_name = \"predictors\")\n",
    "codebk.head()"
   ]
  },
  {
   "cell_type": "code",
   "execution_count": 5,
   "id": "5dd2b260",
   "metadata": {},
   "outputs": [
    {
     "data": {
      "text/plain": [
       "2            totpop\n",
       "3           popdens\n",
       "4        areasqmile\n",
       "5             males\n",
       "6           females\n",
       "           ...     \n",
       "164    bldgclass_A2\n",
       "165    bldgclass_A0\n",
       "166    bldgclass_A6\n",
       "167    bldgclass_A8\n",
       "168    bldgclass_CM\n",
       "Name: Variable, Length: 150, dtype: object"
      ]
     },
     "execution_count": 5,
     "metadata": {},
     "output_type": "execute_result"
    }
   ],
   "source": [
    "predictors_full = codebk.loc[codebk[\"Include_Box\"] == 1, \"Variable\"].apply(lambda x: x.strip())\n",
    "predictors_full"
   ]
  },
  {
   "cell_type": "markdown",
   "id": "d18ea72d",
   "metadata": {},
   "source": [
    "## Load analysis file"
   ]
  },
  {
   "cell_type": "code",
   "execution_count": 6,
   "id": "c6d3b78c",
   "metadata": {
    "scrolled": true
   },
   "outputs": [
    {
     "data": {
      "text/html": [
       "<div>\n",
       "<style scoped>\n",
       "    .dataframe tbody tr th:only-of-type {\n",
       "        vertical-align: middle;\n",
       "    }\n",
       "\n",
       "    .dataframe tbody tr th {\n",
       "        vertical-align: top;\n",
       "    }\n",
       "\n",
       "    .dataframe thead th {\n",
       "        text-align: right;\n",
       "    }\n",
       "</style>\n",
       "<table border=\"1\" class=\"dataframe\">\n",
       "  <thead>\n",
       "    <tr style=\"text-align: right;\">\n",
       "      <th></th>\n",
       "      <th>borobox</th>\n",
       "      <th>lotarea</th>\n",
       "      <th>bldgarea</th>\n",
       "      <th>numbldgs</th>\n",
       "      <th>numfloors</th>\n",
       "      <th>unitsres</th>\n",
       "      <th>unitstotal</th>\n",
       "      <th>assessland</th>\n",
       "      <th>assesstot</th>\n",
       "      <th>exempttot</th>\n",
       "      <th>...</th>\n",
       "      <th>pctmvdsamecounty</th>\n",
       "      <th>pctmvdsdiffcounty</th>\n",
       "      <th>pctmvdsdiffstate</th>\n",
       "      <th>pctmvdabroad</th>\n",
       "      <th>pctpoprenterhh</th>\n",
       "      <th>engines_assigned_quantity</th>\n",
       "      <th>ladders_assigned_quantity</th>\n",
       "      <th>dispatch_response_seconds_qy</th>\n",
       "      <th>num_fire_ev</th>\n",
       "      <th>avg_fire_ev_yr</th>\n",
       "    </tr>\n",
       "  </thead>\n",
       "  <tbody>\n",
       "    <tr>\n",
       "      <th>0</th>\n",
       "      <td>B0020</td>\n",
       "      <td>3457.956522</td>\n",
       "      <td>9239.391304</td>\n",
       "      <td>1.173913</td>\n",
       "      <td>3.521739</td>\n",
       "      <td>9.000000</td>\n",
       "      <td>9.043478</td>\n",
       "      <td>3.718826e+04</td>\n",
       "      <td>8.482943e+05</td>\n",
       "      <td>2.937391e+03</td>\n",
       "      <td>...</td>\n",
       "      <td>3.130277</td>\n",
       "      <td>0.0</td>\n",
       "      <td>0.0</td>\n",
       "      <td>0.948175</td>\n",
       "      <td>1.0</td>\n",
       "      <td>3.500000</td>\n",
       "      <td>2.333333</td>\n",
       "      <td>32.666667</td>\n",
       "      <td>6</td>\n",
       "      <td>1.200000</td>\n",
       "    </tr>\n",
       "    <tr>\n",
       "      <th>1</th>\n",
       "      <td>B0023</td>\n",
       "      <td>26081.875000</td>\n",
       "      <td>209572.375000</td>\n",
       "      <td>1.000000</td>\n",
       "      <td>18.750000</td>\n",
       "      <td>229.750000</td>\n",
       "      <td>231.125000</td>\n",
       "      <td>1.322048e+06</td>\n",
       "      <td>1.219295e+07</td>\n",
       "      <td>2.589945e+06</td>\n",
       "      <td>...</td>\n",
       "      <td>3.130277</td>\n",
       "      <td>0.0</td>\n",
       "      <td>0.0</td>\n",
       "      <td>0.948175</td>\n",
       "      <td>1.0</td>\n",
       "      <td>3.000000</td>\n",
       "      <td>2.000000</td>\n",
       "      <td>42.333333</td>\n",
       "      <td>3</td>\n",
       "      <td>3.000000</td>\n",
       "    </tr>\n",
       "    <tr>\n",
       "      <th>2</th>\n",
       "      <td>B0024</td>\n",
       "      <td>2754.847826</td>\n",
       "      <td>4832.108696</td>\n",
       "      <td>1.086957</td>\n",
       "      <td>3.217391</td>\n",
       "      <td>5.695652</td>\n",
       "      <td>5.847826</td>\n",
       "      <td>4.959654e+04</td>\n",
       "      <td>5.346010e+05</td>\n",
       "      <td>4.643715e+04</td>\n",
       "      <td>...</td>\n",
       "      <td>3.130277</td>\n",
       "      <td>0.0</td>\n",
       "      <td>0.0</td>\n",
       "      <td>0.948175</td>\n",
       "      <td>1.0</td>\n",
       "      <td>3.200000</td>\n",
       "      <td>2.040000</td>\n",
       "      <td>36.880000</td>\n",
       "      <td>25</td>\n",
       "      <td>1.923077</td>\n",
       "    </tr>\n",
       "    <tr>\n",
       "      <th>3</th>\n",
       "      <td>B0025</td>\n",
       "      <td>61653.000000</td>\n",
       "      <td>85292.250000</td>\n",
       "      <td>1.250000</td>\n",
       "      <td>10.750000</td>\n",
       "      <td>101.500000</td>\n",
       "      <td>102.000000</td>\n",
       "      <td>8.558175e+05</td>\n",
       "      <td>3.580575e+06</td>\n",
       "      <td>2.746800e+06</td>\n",
       "      <td>...</td>\n",
       "      <td>3.130277</td>\n",
       "      <td>0.0</td>\n",
       "      <td>0.0</td>\n",
       "      <td>0.948175</td>\n",
       "      <td>1.0</td>\n",
       "      <td>2.400000</td>\n",
       "      <td>1.600000</td>\n",
       "      <td>15.600000</td>\n",
       "      <td>5</td>\n",
       "      <td>1.666667</td>\n",
       "    </tr>\n",
       "    <tr>\n",
       "      <th>4</th>\n",
       "      <td>B0027</td>\n",
       "      <td>3888.574713</td>\n",
       "      <td>8242.965517</td>\n",
       "      <td>1.126437</td>\n",
       "      <td>3.183908</td>\n",
       "      <td>7.080460</td>\n",
       "      <td>7.402299</td>\n",
       "      <td>4.881548e+04</td>\n",
       "      <td>6.619610e+05</td>\n",
       "      <td>1.669940e+05</td>\n",
       "      <td>...</td>\n",
       "      <td>3.130277</td>\n",
       "      <td>0.0</td>\n",
       "      <td>0.0</td>\n",
       "      <td>0.948175</td>\n",
       "      <td>1.0</td>\n",
       "      <td>3.545455</td>\n",
       "      <td>2.340909</td>\n",
       "      <td>32.181818</td>\n",
       "      <td>44</td>\n",
       "      <td>2.933333</td>\n",
       "    </tr>\n",
       "  </tbody>\n",
       "</table>\n",
       "<p>5 rows × 174 columns</p>\n",
       "</div>"
      ],
      "text/plain": [
       "  borobox       lotarea       bldgarea  numbldgs  numfloors    unitsres  \\\n",
       "0   B0020   3457.956522    9239.391304  1.173913   3.521739    9.000000   \n",
       "1   B0023  26081.875000  209572.375000  1.000000  18.750000  229.750000   \n",
       "2   B0024   2754.847826    4832.108696  1.086957   3.217391    5.695652   \n",
       "3   B0025  61653.000000   85292.250000  1.250000  10.750000  101.500000   \n",
       "4   B0027   3888.574713    8242.965517  1.126437   3.183908    7.080460   \n",
       "\n",
       "   unitstotal    assessland     assesstot     exempttot  ...  \\\n",
       "0    9.043478  3.718826e+04  8.482943e+05  2.937391e+03  ...   \n",
       "1  231.125000  1.322048e+06  1.219295e+07  2.589945e+06  ...   \n",
       "2    5.847826  4.959654e+04  5.346010e+05  4.643715e+04  ...   \n",
       "3  102.000000  8.558175e+05  3.580575e+06  2.746800e+06  ...   \n",
       "4    7.402299  4.881548e+04  6.619610e+05  1.669940e+05  ...   \n",
       "\n",
       "   pctmvdsamecounty  pctmvdsdiffcounty  pctmvdsdiffstate  pctmvdabroad  \\\n",
       "0          3.130277                0.0               0.0      0.948175   \n",
       "1          3.130277                0.0               0.0      0.948175   \n",
       "2          3.130277                0.0               0.0      0.948175   \n",
       "3          3.130277                0.0               0.0      0.948175   \n",
       "4          3.130277                0.0               0.0      0.948175   \n",
       "\n",
       "   pctpoprenterhh  engines_assigned_quantity  ladders_assigned_quantity  \\\n",
       "0             1.0                   3.500000                   2.333333   \n",
       "1             1.0                   3.000000                   2.000000   \n",
       "2             1.0                   3.200000                   2.040000   \n",
       "3             1.0                   2.400000                   1.600000   \n",
       "4             1.0                   3.545455                   2.340909   \n",
       "\n",
       "   dispatch_response_seconds_qy  num_fire_ev  avg_fire_ev_yr  \n",
       "0                     32.666667            6        1.200000  \n",
       "1                     42.333333            3        3.000000  \n",
       "2                     36.880000           25        1.923077  \n",
       "3                     15.600000            5        1.666667  \n",
       "4                     32.181818           44        2.933333  \n",
       "\n",
       "[5 rows x 174 columns]"
      ]
     },
     "execution_count": 6,
     "metadata": {},
     "output_type": "execute_result"
    }
   ],
   "source": [
    "df_box = drive.CreateFile({'id': '1Vzjvta98IG9Hg4SfAGcd8JD8FaF3IXwy'})\n",
    "df_box.GetContentFile('analysis_box.csv')\n",
    "\n",
    "df_box= pd.read_csv('analysis_box.csv').drop([\"Unnamed: 0\"], axis = 1)\n",
    "df_box.head()"
   ]
  },
  {
   "cell_type": "code",
   "execution_count": 7,
   "id": "6298f8f7",
   "metadata": {},
   "outputs": [],
   "source": [
    "assert df_box.dropna().shape[0] == df_box.shape[0]"
   ]
  },
  {
   "cell_type": "code",
   "execution_count": 8,
   "id": "6798bf90",
   "metadata": {},
   "outputs": [],
   "source": [
    "df_box.columns\n",
    "predictors = [\"lotarea\", \"bldgarea\", \"numbldgs\", \"numfloors\", \"unitsres\", \"unitstotal\", \"assessland\",\n",
    "             \"assesstot\", \"exempttot\", \"yearbuilt\", \"holc_AB\", \"holc_CD\", \"holc_D\",\n",
    "             \"tot_hpd_vio\", \"hpd_fire_vio\", \"hpd_b_c_vio\",\n",
    "             \"viol_count_per_unit\", \"hpd_fire_vio_per_unit\", \"hpd_b_c_vio_per_unit\",\n",
    "             \"AL\", \"NB\", \"average_energy_usage\", \"average_energy_usage_mi\"]\n",
    "\n",
    "predictors_acs= df_box.columns[df_box.columns.get_loc(\"totpop\"):df_box.columns.get_loc(\"pctrentocch\") + 1].tolist()\n",
    "landusecols= [x for x in df_box.columns if x in 'landuse_']\n",
    "bldgclasscols= [x for x in df_box.columns if x in 'bldgclass_']\n",
    "\n",
    "predictors_full= predictors + predictors_acs  + landusecols + bldgclasscols\n",
    "predictors_full;"
   ]
  },
  {
   "cell_type": "code",
   "execution_count": 9,
   "id": "40fa2271",
   "metadata": {},
   "outputs": [
    {
     "data": {
      "text/html": [
       "<div>\n",
       "<style scoped>\n",
       "    .dataframe tbody tr th:only-of-type {\n",
       "        vertical-align: middle;\n",
       "    }\n",
       "\n",
       "    .dataframe tbody tr th {\n",
       "        vertical-align: top;\n",
       "    }\n",
       "\n",
       "    .dataframe thead th {\n",
       "        text-align: right;\n",
       "    }\n",
       "</style>\n",
       "<table border=\"1\" class=\"dataframe\">\n",
       "  <thead>\n",
       "    <tr style=\"text-align: right;\">\n",
       "      <th></th>\n",
       "      <th>dispatch_response_seconds_qy</th>\n",
       "      <th>num_fire_ev</th>\n",
       "      <th>avg_fire_ev_yr</th>\n",
       "    </tr>\n",
       "  </thead>\n",
       "  <tbody>\n",
       "    <tr>\n",
       "      <th>0</th>\n",
       "      <td>32.666667</td>\n",
       "      <td>6</td>\n",
       "      <td>1.200000</td>\n",
       "    </tr>\n",
       "    <tr>\n",
       "      <th>1</th>\n",
       "      <td>42.333333</td>\n",
       "      <td>3</td>\n",
       "      <td>3.000000</td>\n",
       "    </tr>\n",
       "    <tr>\n",
       "      <th>2</th>\n",
       "      <td>36.880000</td>\n",
       "      <td>25</td>\n",
       "      <td>1.923077</td>\n",
       "    </tr>\n",
       "    <tr>\n",
       "      <th>3</th>\n",
       "      <td>15.600000</td>\n",
       "      <td>5</td>\n",
       "      <td>1.666667</td>\n",
       "    </tr>\n",
       "    <tr>\n",
       "      <th>4</th>\n",
       "      <td>32.181818</td>\n",
       "      <td>44</td>\n",
       "      <td>2.933333</td>\n",
       "    </tr>\n",
       "  </tbody>\n",
       "</table>\n",
       "</div>"
      ],
      "text/plain": [
       "   dispatch_response_seconds_qy  num_fire_ev  avg_fire_ev_yr\n",
       "0                     32.666667            6        1.200000\n",
       "1                     42.333333            3        3.000000\n",
       "2                     36.880000           25        1.923077\n",
       "3                     15.600000            5        1.666667\n",
       "4                     32.181818           44        2.933333"
      ]
     },
     "execution_count": 9,
     "metadata": {},
     "output_type": "execute_result"
    }
   ],
   "source": [
    "outcomes= [\"dispatch_response_seconds_qy\", \"num_fire_ev\", \"avg_fire_ev_yr\"]\n",
    "df_box[outcomes].head()"
   ]
  },
  {
   "cell_type": "markdown",
   "id": "d18dfcca",
   "metadata": {},
   "source": [
    "# (0) Prep data"
   ]
  },
  {
   "cell_type": "code",
   "execution_count": 10,
   "id": "fa38421a",
   "metadata": {
    "scrolled": false
   },
   "outputs": [
    {
     "data": {
      "text/html": [
       "<div>\n",
       "<style scoped>\n",
       "    .dataframe tbody tr th:only-of-type {\n",
       "        vertical-align: middle;\n",
       "    }\n",
       "\n",
       "    .dataframe tbody tr th {\n",
       "        vertical-align: top;\n",
       "    }\n",
       "\n",
       "    .dataframe thead th {\n",
       "        text-align: right;\n",
       "    }\n",
       "</style>\n",
       "<table border=\"1\" class=\"dataframe\">\n",
       "  <thead>\n",
       "    <tr style=\"text-align: right;\">\n",
       "      <th></th>\n",
       "      <th>lotarea</th>\n",
       "      <th>bldgarea</th>\n",
       "      <th>numbldgs</th>\n",
       "      <th>numfloors</th>\n",
       "      <th>unitsres</th>\n",
       "      <th>unitstotal</th>\n",
       "      <th>assessland</th>\n",
       "      <th>assesstot</th>\n",
       "      <th>exempttot</th>\n",
       "      <th>yearbuilt</th>\n",
       "      <th>...</th>\n",
       "      <th>pctmvdsamecounty</th>\n",
       "      <th>pctmvdsdiffcounty</th>\n",
       "      <th>pctmvdsdiffstate</th>\n",
       "      <th>pctmvdabroad</th>\n",
       "      <th>pctpoprenterhh</th>\n",
       "      <th>engines_assigned_quantity</th>\n",
       "      <th>ladders_assigned_quantity</th>\n",
       "      <th>dispatch_response_seconds_qy</th>\n",
       "      <th>num_fire_ev</th>\n",
       "      <th>avg_fire_ev_yr</th>\n",
       "    </tr>\n",
       "  </thead>\n",
       "  <tbody>\n",
       "    <tr>\n",
       "      <th>count</th>\n",
       "      <td>1.086400e+04</td>\n",
       "      <td>1.086400e+04</td>\n",
       "      <td>10864.000000</td>\n",
       "      <td>10864.000000</td>\n",
       "      <td>10864.000000</td>\n",
       "      <td>10864.000000</td>\n",
       "      <td>1.086400e+04</td>\n",
       "      <td>1.086400e+04</td>\n",
       "      <td>1.086400e+04</td>\n",
       "      <td>10864.000000</td>\n",
       "      <td>...</td>\n",
       "      <td>1.086400e+04</td>\n",
       "      <td>10864.0</td>\n",
       "      <td>10864.0</td>\n",
       "      <td>1.086400e+04</td>\n",
       "      <td>10864.0</td>\n",
       "      <td>10864.000000</td>\n",
       "      <td>10864.000000</td>\n",
       "      <td>10864.000000</td>\n",
       "      <td>10864.000000</td>\n",
       "      <td>10864.000000</td>\n",
       "    </tr>\n",
       "    <tr>\n",
       "      <th>mean</th>\n",
       "      <td>1.357522e+04</td>\n",
       "      <td>2.571084e+04</td>\n",
       "      <td>1.933247</td>\n",
       "      <td>3.265942</td>\n",
       "      <td>24.319713</td>\n",
       "      <td>24.943418</td>\n",
       "      <td>2.715792e+05</td>\n",
       "      <td>1.459393e+06</td>\n",
       "      <td>6.523947e+05</td>\n",
       "      <td>1936.620042</td>\n",
       "      <td>...</td>\n",
       "      <td>3.130277e+00</td>\n",
       "      <td>0.0</td>\n",
       "      <td>0.0</td>\n",
       "      <td>9.481751e-01</td>\n",
       "      <td>1.0</td>\n",
       "      <td>2.696305</td>\n",
       "      <td>1.891626</td>\n",
       "      <td>40.335653</td>\n",
       "      <td>27.951859</td>\n",
       "      <td>2.381331</td>\n",
       "    </tr>\n",
       "    <tr>\n",
       "      <th>std</th>\n",
       "      <td>1.175372e+05</td>\n",
       "      <td>1.833891e+05</td>\n",
       "      <td>13.499644</td>\n",
       "      <td>3.536401</td>\n",
       "      <td>175.050922</td>\n",
       "      <td>176.069510</td>\n",
       "      <td>1.863966e+06</td>\n",
       "      <td>8.148841e+06</td>\n",
       "      <td>6.698656e+06</td>\n",
       "      <td>62.844576</td>\n",
       "      <td>...</td>\n",
       "      <td>5.191642e-13</td>\n",
       "      <td>0.0</td>\n",
       "      <td>0.0</td>\n",
       "      <td>3.630596e-14</td>\n",
       "      <td>0.0</td>\n",
       "      <td>1.179745</td>\n",
       "      <td>0.752555</td>\n",
       "      <td>18.500212</td>\n",
       "      <td>48.572309</td>\n",
       "      <td>2.800509</td>\n",
       "    </tr>\n",
       "    <tr>\n",
       "      <th>min</th>\n",
       "      <td>5.262012e+02</td>\n",
       "      <td>0.000000e+00</td>\n",
       "      <td>0.000000</td>\n",
       "      <td>0.000000</td>\n",
       "      <td>0.000000</td>\n",
       "      <td>0.000000</td>\n",
       "      <td>3.473684e+03</td>\n",
       "      <td>1.869000e+04</td>\n",
       "      <td>0.000000e+00</td>\n",
       "      <td>0.000000</td>\n",
       "      <td>...</td>\n",
       "      <td>3.130277e+00</td>\n",
       "      <td>0.0</td>\n",
       "      <td>0.0</td>\n",
       "      <td>9.481751e-01</td>\n",
       "      <td>1.0</td>\n",
       "      <td>0.000000</td>\n",
       "      <td>0.000000</td>\n",
       "      <td>0.000000</td>\n",
       "      <td>1.000000</td>\n",
       "      <td>0.000000</td>\n",
       "    </tr>\n",
       "    <tr>\n",
       "      <th>25%</th>\n",
       "      <td>2.657231e+03</td>\n",
       "      <td>1.837039e+03</td>\n",
       "      <td>1.066667</td>\n",
       "      <td>2.003120</td>\n",
       "      <td>1.414634</td>\n",
       "      <td>1.448040</td>\n",
       "      <td>1.375180e+04</td>\n",
       "      <td>4.607525e+04</td>\n",
       "      <td>2.226809e+03</td>\n",
       "      <td>1925.107672</td>\n",
       "      <td>...</td>\n",
       "      <td>3.130277e+00</td>\n",
       "      <td>0.0</td>\n",
       "      <td>0.0</td>\n",
       "      <td>9.481751e-01</td>\n",
       "      <td>1.0</td>\n",
       "      <td>2.090909</td>\n",
       "      <td>1.571429</td>\n",
       "      <td>32.290179</td>\n",
       "      <td>5.000000</td>\n",
       "      <td>1.200000</td>\n",
       "    </tr>\n",
       "    <tr>\n",
       "      <th>50%</th>\n",
       "      <td>3.586508e+03</td>\n",
       "      <td>2.774481e+03</td>\n",
       "      <td>1.218750</td>\n",
       "      <td>2.280000</td>\n",
       "      <td>2.367664</td>\n",
       "      <td>2.517241</td>\n",
       "      <td>2.153047e+04</td>\n",
       "      <td>8.708528e+04</td>\n",
       "      <td>4.093244e+03</td>\n",
       "      <td>1938.104409</td>\n",
       "      <td>...</td>\n",
       "      <td>3.130277e+00</td>\n",
       "      <td>0.0</td>\n",
       "      <td>0.0</td>\n",
       "      <td>9.481751e-01</td>\n",
       "      <td>1.0</td>\n",
       "      <td>2.909091</td>\n",
       "      <td>2.000000</td>\n",
       "      <td>40.333333</td>\n",
       "      <td>13.000000</td>\n",
       "      <td>1.666667</td>\n",
       "    </tr>\n",
       "    <tr>\n",
       "      <th>75%</th>\n",
       "      <td>5.214915e+03</td>\n",
       "      <td>8.144752e+03</td>\n",
       "      <td>1.464286</td>\n",
       "      <td>3.000000</td>\n",
       "      <td>7.698662</td>\n",
       "      <td>8.206375</td>\n",
       "      <td>5.787226e+04</td>\n",
       "      <td>3.684127e+05</td>\n",
       "      <td>3.452681e+04</td>\n",
       "      <td>1953.518519</td>\n",
       "      <td>...</td>\n",
       "      <td>3.130277e+00</td>\n",
       "      <td>0.0</td>\n",
       "      <td>0.0</td>\n",
       "      <td>9.481751e-01</td>\n",
       "      <td>1.0</td>\n",
       "      <td>3.312500</td>\n",
       "      <td>2.250000</td>\n",
       "      <td>49.910985</td>\n",
       "      <td>31.000000</td>\n",
       "      <td>2.538462</td>\n",
       "    </tr>\n",
       "    <tr>\n",
       "      <th>max</th>\n",
       "      <td>7.921386e+06</td>\n",
       "      <td>1.354011e+07</td>\n",
       "      <td>1169.000000</td>\n",
       "      <td>72.000000</td>\n",
       "      <td>10914.000000</td>\n",
       "      <td>10948.000000</td>\n",
       "      <td>1.345064e+08</td>\n",
       "      <td>4.435560e+08</td>\n",
       "      <td>4.435560e+08</td>\n",
       "      <td>2021.000000</td>\n",
       "      <td>...</td>\n",
       "      <td>3.130277e+00</td>\n",
       "      <td>0.0</td>\n",
       "      <td>0.0</td>\n",
       "      <td>9.481751e-01</td>\n",
       "      <td>1.0</td>\n",
       "      <td>23.928571</td>\n",
       "      <td>13.500000</td>\n",
       "      <td>450.000000</td>\n",
       "      <td>1288.000000</td>\n",
       "      <td>80.500000</td>\n",
       "    </tr>\n",
       "  </tbody>\n",
       "</table>\n",
       "<p>8 rows × 173 columns</p>\n",
       "</div>"
      ],
      "text/plain": [
       "            lotarea      bldgarea      numbldgs     numfloors      unitsres  \\\n",
       "count  1.086400e+04  1.086400e+04  10864.000000  10864.000000  10864.000000   \n",
       "mean   1.357522e+04  2.571084e+04      1.933247      3.265942     24.319713   \n",
       "std    1.175372e+05  1.833891e+05     13.499644      3.536401    175.050922   \n",
       "min    5.262012e+02  0.000000e+00      0.000000      0.000000      0.000000   \n",
       "25%    2.657231e+03  1.837039e+03      1.066667      2.003120      1.414634   \n",
       "50%    3.586508e+03  2.774481e+03      1.218750      2.280000      2.367664   \n",
       "75%    5.214915e+03  8.144752e+03      1.464286      3.000000      7.698662   \n",
       "max    7.921386e+06  1.354011e+07   1169.000000     72.000000  10914.000000   \n",
       "\n",
       "         unitstotal    assessland     assesstot     exempttot     yearbuilt  \\\n",
       "count  10864.000000  1.086400e+04  1.086400e+04  1.086400e+04  10864.000000   \n",
       "mean      24.943418  2.715792e+05  1.459393e+06  6.523947e+05   1936.620042   \n",
       "std      176.069510  1.863966e+06  8.148841e+06  6.698656e+06     62.844576   \n",
       "min        0.000000  3.473684e+03  1.869000e+04  0.000000e+00      0.000000   \n",
       "25%        1.448040  1.375180e+04  4.607525e+04  2.226809e+03   1925.107672   \n",
       "50%        2.517241  2.153047e+04  8.708528e+04  4.093244e+03   1938.104409   \n",
       "75%        8.206375  5.787226e+04  3.684127e+05  3.452681e+04   1953.518519   \n",
       "max    10948.000000  1.345064e+08  4.435560e+08  4.435560e+08   2021.000000   \n",
       "\n",
       "       ...  pctmvdsamecounty  pctmvdsdiffcounty  pctmvdsdiffstate  \\\n",
       "count  ...      1.086400e+04            10864.0           10864.0   \n",
       "mean   ...      3.130277e+00                0.0               0.0   \n",
       "std    ...      5.191642e-13                0.0               0.0   \n",
       "min    ...      3.130277e+00                0.0               0.0   \n",
       "25%    ...      3.130277e+00                0.0               0.0   \n",
       "50%    ...      3.130277e+00                0.0               0.0   \n",
       "75%    ...      3.130277e+00                0.0               0.0   \n",
       "max    ...      3.130277e+00                0.0               0.0   \n",
       "\n",
       "       pctmvdabroad  pctpoprenterhh  engines_assigned_quantity  \\\n",
       "count  1.086400e+04         10864.0               10864.000000   \n",
       "mean   9.481751e-01             1.0                   2.696305   \n",
       "std    3.630596e-14             0.0                   1.179745   \n",
       "min    9.481751e-01             1.0                   0.000000   \n",
       "25%    9.481751e-01             1.0                   2.090909   \n",
       "50%    9.481751e-01             1.0                   2.909091   \n",
       "75%    9.481751e-01             1.0                   3.312500   \n",
       "max    9.481751e-01             1.0                  23.928571   \n",
       "\n",
       "       ladders_assigned_quantity  dispatch_response_seconds_qy   num_fire_ev  \\\n",
       "count               10864.000000                  10864.000000  10864.000000   \n",
       "mean                    1.891626                     40.335653     27.951859   \n",
       "std                     0.752555                     18.500212     48.572309   \n",
       "min                     0.000000                      0.000000      1.000000   \n",
       "25%                     1.571429                     32.290179      5.000000   \n",
       "50%                     2.000000                     40.333333     13.000000   \n",
       "75%                     2.250000                     49.910985     31.000000   \n",
       "max                    13.500000                    450.000000   1288.000000   \n",
       "\n",
       "       avg_fire_ev_yr  \n",
       "count    10864.000000  \n",
       "mean         2.381331  \n",
       "std          2.800509  \n",
       "min          0.000000  \n",
       "25%          1.200000  \n",
       "50%          1.666667  \n",
       "75%          2.538462  \n",
       "max         80.500000  \n",
       "\n",
       "[8 rows x 173 columns]"
      ]
     },
     "execution_count": 10,
     "metadata": {},
     "output_type": "execute_result"
    }
   ],
   "source": [
    "df_box.describe()"
   ]
  },
  {
   "cell_type": "code",
   "execution_count": 11,
   "id": "a2fd7747",
   "metadata": {},
   "outputs": [
    {
     "data": {
      "text/plain": [
       "0.0625920471281296"
      ]
     },
     "execution_count": 11,
     "metadata": {},
     "output_type": "execute_result"
    }
   ],
   "source": [
    "df_box.loc[df_box[\"avg_fire_ev_yr\"]==0].shape[0]/df_box.shape[0]"
   ]
  },
  {
   "cell_type": "code",
   "execution_count": 12,
   "id": "f99d18d6",
   "metadata": {},
   "outputs": [],
   "source": [
    "# assert no missingness\n",
    "assert (df_box.isna().sum(axis = 0).sum() == 0)"
   ]
  },
  {
   "cell_type": "code",
   "execution_count": 13,
   "id": "78cbac4c",
   "metadata": {},
   "outputs": [
    {
     "data": {
      "text/plain": [
       "(10864, 174)"
      ]
     },
     "execution_count": 13,
     "metadata": {},
     "output_type": "execute_result"
    }
   ],
   "source": [
    "df_box_clean= df_box.dropna(how = \"any\")\n",
    "df_box_clean.shape"
   ]
  },
  {
   "cell_type": "code",
   "execution_count": 14,
   "id": "acb0eb12",
   "metadata": {},
   "outputs": [],
   "source": [
    "from sklearn.model_selection import train_test_split\n",
    "from sklearn.tree import DecisionTreeRegressor\n",
    "\n",
    "X = df_box_clean.loc[:, predictors_full]\n",
    "y = df_box_clean.loc[X.index, outcomes]\n",
    "X_train, X_test, y_train, y_test = train_test_split(X, y, test_size=0.3, random_state=999)"
   ]
  },
  {
   "cell_type": "markdown",
   "id": "51c9c9de",
   "metadata": {},
   "source": [
    "### Running LASSO to determine important variables"
   ]
  },
  {
   "cell_type": "code",
   "execution_count": 24,
   "id": "fd53006d",
   "metadata": {},
   "outputs": [],
   "source": [
    "from sklearn import preprocessing\n",
    "scaler = preprocessing.StandardScaler().fit(X)\n",
    "X_scaled = scaler.transform(X)\n",
    "\n",
    "X_train_l, X_test_l, y_train_l, y_test_l = train_test_split(X_scaled, y, test_size=0.3, random_state=999)"
   ]
  },
  {
   "cell_type": "code",
   "execution_count": 84,
   "id": "a6608303",
   "metadata": {},
   "outputs": [
    {
     "name": "stdout",
     "output_type": "stream",
     "text": [
      "{'alpha': 0.1}\n",
      "0.2469150941482355\n"
     ]
    }
   ],
   "source": [
    "from sklearn import linear_model\n",
    "\n",
    "coef_comp= pd.DataFrame(X.columns, columns = ['Features'])\n",
    "coef_comp\n",
    "\n",
    "param_grid= {'alpha':[0.001, 0.005, 0.01, 0.05, 0.1, 0.5, 1]}\n",
    "clf= linear_model.Lasso(fit_intercept = True)\n",
    "gr = GridSearchCV(clf, param_grid=param_grid, n_jobs=-1)\n",
    "rs = gr.fit(X_train_l, y_train_l.iloc[:, 1])\n",
    "\n",
    "print(rs.best_params_)\n",
    "print(rs.best_score_)\n",
    "\n",
    "clf= linear_model.Lasso(fit_intercept = True, alpha = rs.best_params_['alpha'])\n",
    "clf.fit(X_train_l, y_train_l.iloc[:, 1])\n",
    "coef_comp['coef_alpha_0.1']= clf.coef_"
   ]
  },
  {
   "cell_type": "code",
   "execution_count": 86,
   "id": "720f3bb5",
   "metadata": {},
   "outputs": [
    {
     "data": {
      "text/html": [
       "<div>\n",
       "<style scoped>\n",
       "    .dataframe tbody tr th:only-of-type {\n",
       "        vertical-align: middle;\n",
       "    }\n",
       "\n",
       "    .dataframe tbody tr th {\n",
       "        vertical-align: top;\n",
       "    }\n",
       "\n",
       "    .dataframe thead th {\n",
       "        text-align: right;\n",
       "    }\n",
       "</style>\n",
       "<table border=\"1\" class=\"dataframe\">\n",
       "  <thead>\n",
       "    <tr style=\"text-align: right;\">\n",
       "      <th></th>\n",
       "      <th>Features</th>\n",
       "      <th>coef_alpha_0.1</th>\n",
       "      <th>coef_alpha_3</th>\n",
       "    </tr>\n",
       "  </thead>\n",
       "  <tbody>\n",
       "    <tr>\n",
       "      <th>16</th>\n",
       "      <td>viol_count_per_unit</td>\n",
       "      <td>9.263723</td>\n",
       "      <td>7.057609</td>\n",
       "    </tr>\n",
       "    <tr>\n",
       "      <th>24</th>\n",
       "      <td>popdens</td>\n",
       "      <td>8.281352</td>\n",
       "      <td>6.669201</td>\n",
       "    </tr>\n",
       "    <tr>\n",
       "      <th>34</th>\n",
       "      <td>popnhblack</td>\n",
       "      <td>7.606042</td>\n",
       "      <td>5.441547</td>\n",
       "    </tr>\n",
       "    <tr>\n",
       "      <th>3</th>\n",
       "      <td>numfloors</td>\n",
       "      <td>6.776439</td>\n",
       "      <td>1.480824</td>\n",
       "    </tr>\n",
       "    <tr>\n",
       "      <th>70</th>\n",
       "      <td>popsamehouse</td>\n",
       "      <td>6.214268</td>\n",
       "      <td>0.308154</td>\n",
       "    </tr>\n",
       "    <tr>\n",
       "      <th>14</th>\n",
       "      <td>hpd_fire_vio</td>\n",
       "      <td>5.335933</td>\n",
       "      <td>3.263850</td>\n",
       "    </tr>\n",
       "    <tr>\n",
       "      <th>49</th>\n",
       "      <td>roc_half_1</td>\n",
       "      <td>3.928316</td>\n",
       "      <td>1.040611</td>\n",
       "    </tr>\n",
       "    <tr>\n",
       "      <th>28</th>\n",
       "      <td>pop18under</td>\n",
       "      <td>3.440628</td>\n",
       "      <td>0.000000</td>\n",
       "    </tr>\n",
       "    <tr>\n",
       "      <th>6</th>\n",
       "      <td>assessland</td>\n",
       "      <td>3.349122</td>\n",
       "      <td>0.000000</td>\n",
       "    </tr>\n",
       "    <tr>\n",
       "      <th>10</th>\n",
       "      <td>holc_AB</td>\n",
       "      <td>2.976364</td>\n",
       "      <td>0.000000</td>\n",
       "    </tr>\n",
       "    <tr>\n",
       "      <th>12</th>\n",
       "      <td>holc_D</td>\n",
       "      <td>2.956772</td>\n",
       "      <td>1.555186</td>\n",
       "    </tr>\n",
       "    <tr>\n",
       "      <th>8</th>\n",
       "      <td>exempttot</td>\n",
       "      <td>2.295771</td>\n",
       "      <td>0.000000</td>\n",
       "    </tr>\n",
       "    <tr>\n",
       "      <th>1</th>\n",
       "      <td>bldgarea</td>\n",
       "      <td>2.294142</td>\n",
       "      <td>0.000000</td>\n",
       "    </tr>\n",
       "    <tr>\n",
       "      <th>73</th>\n",
       "      <td>popmvdstate</td>\n",
       "      <td>1.992724</td>\n",
       "      <td>0.000000</td>\n",
       "    </tr>\n",
       "    <tr>\n",
       "      <th>4</th>\n",
       "      <td>unitsres</td>\n",
       "      <td>1.806278</td>\n",
       "      <td>0.000000</td>\n",
       "    </tr>\n",
       "    <tr>\n",
       "      <th>11</th>\n",
       "      <td>holc_CD</td>\n",
       "      <td>1.797705</td>\n",
       "      <td>0.000000</td>\n",
       "    </tr>\n",
       "    <tr>\n",
       "      <th>0</th>\n",
       "      <td>lotarea</td>\n",
       "      <td>1.518365</td>\n",
       "      <td>0.000000</td>\n",
       "    </tr>\n",
       "    <tr>\n",
       "      <th>63</th>\n",
       "      <td>hhfoilkerosene</td>\n",
       "      <td>1.273458</td>\n",
       "      <td>0.301817</td>\n",
       "    </tr>\n",
       "    <tr>\n",
       "      <th>33</th>\n",
       "      <td>popnhwhite</td>\n",
       "      <td>1.229320</td>\n",
       "      <td>0.000000</td>\n",
       "    </tr>\n",
       "    <tr>\n",
       "      <th>35</th>\n",
       "      <td>popnhaian</td>\n",
       "      <td>1.224795</td>\n",
       "      <td>0.000000</td>\n",
       "    </tr>\n",
       "    <tr>\n",
       "      <th>17</th>\n",
       "      <td>hpd_fire_vio_per_unit</td>\n",
       "      <td>0.945728</td>\n",
       "      <td>0.571662</td>\n",
       "    </tr>\n",
       "    <tr>\n",
       "      <th>39</th>\n",
       "      <td>popnhtwoplus</td>\n",
       "      <td>0.818738</td>\n",
       "      <td>0.000000</td>\n",
       "    </tr>\n",
       "    <tr>\n",
       "      <th>74</th>\n",
       "      <td>popmvdabroad</td>\n",
       "      <td>0.630857</td>\n",
       "      <td>0.000000</td>\n",
       "    </tr>\n",
       "    <tr>\n",
       "      <th>31</th>\n",
       "      <td>pop65plus</td>\n",
       "      <td>0.491163</td>\n",
       "      <td>0.000000</td>\n",
       "    </tr>\n",
       "    <tr>\n",
       "      <th>21</th>\n",
       "      <td>average_energy_usage</td>\n",
       "      <td>0.318498</td>\n",
       "      <td>0.000000</td>\n",
       "    </tr>\n",
       "    <tr>\n",
       "      <th>64</th>\n",
       "      <td>hhfcoalwood</td>\n",
       "      <td>0.284735</td>\n",
       "      <td>0.000000</td>\n",
       "    </tr>\n",
       "    <tr>\n",
       "      <th>9</th>\n",
       "      <td>yearbuilt</td>\n",
       "      <td>0.129220</td>\n",
       "      <td>-0.000000</td>\n",
       "    </tr>\n",
       "    <tr>\n",
       "      <th>19</th>\n",
       "      <td>AL</td>\n",
       "      <td>-0.076136</td>\n",
       "      <td>0.000000</td>\n",
       "    </tr>\n",
       "    <tr>\n",
       "      <th>37</th>\n",
       "      <td>popnhhawainpi</td>\n",
       "      <td>-0.170134</td>\n",
       "      <td>0.000000</td>\n",
       "    </tr>\n",
       "    <tr>\n",
       "      <th>47</th>\n",
       "      <td>oc_2plus</td>\n",
       "      <td>-0.220904</td>\n",
       "      <td>0.000000</td>\n",
       "    </tr>\n",
       "    <tr>\n",
       "      <th>41</th>\n",
       "      <td>housingoccupied</td>\n",
       "      <td>-0.503002</td>\n",
       "      <td>-0.000000</td>\n",
       "    </tr>\n",
       "    <tr>\n",
       "      <th>38</th>\n",
       "      <td>popnhother</td>\n",
       "      <td>-0.562895</td>\n",
       "      <td>-0.000000</td>\n",
       "    </tr>\n",
       "    <tr>\n",
       "      <th>20</th>\n",
       "      <td>NB</td>\n",
       "      <td>-0.564847</td>\n",
       "      <td>-0.000000</td>\n",
       "    </tr>\n",
       "    <tr>\n",
       "      <th>46</th>\n",
       "      <td>oc_onehalf_2</td>\n",
       "      <td>-0.567811</td>\n",
       "      <td>0.000000</td>\n",
       "    </tr>\n",
       "    <tr>\n",
       "      <th>51</th>\n",
       "      <td>roc_onehalf_2</td>\n",
       "      <td>-0.801979</td>\n",
       "      <td>0.000000</td>\n",
       "    </tr>\n",
       "    <tr>\n",
       "      <th>2</th>\n",
       "      <td>numbldgs</td>\n",
       "      <td>-0.832407</td>\n",
       "      <td>0.000000</td>\n",
       "    </tr>\n",
       "    <tr>\n",
       "      <th>72</th>\n",
       "      <td>popmvddiffcounty</td>\n",
       "      <td>-0.859404</td>\n",
       "      <td>0.000000</td>\n",
       "    </tr>\n",
       "    <tr>\n",
       "      <th>66</th>\n",
       "      <td>hhfotherfuel</td>\n",
       "      <td>-0.929523</td>\n",
       "      <td>0.000000</td>\n",
       "    </tr>\n",
       "    <tr>\n",
       "      <th>25</th>\n",
       "      <td>areasqmile</td>\n",
       "      <td>-1.204145</td>\n",
       "      <td>-0.000000</td>\n",
       "    </tr>\n",
       "    <tr>\n",
       "      <th>65</th>\n",
       "      <td>hhfsolarenergy</td>\n",
       "      <td>-1.331240</td>\n",
       "      <td>-0.000000</td>\n",
       "    </tr>\n",
       "    <tr>\n",
       "      <th>36</th>\n",
       "      <td>popnhasian</td>\n",
       "      <td>-1.925834</td>\n",
       "      <td>-0.000000</td>\n",
       "    </tr>\n",
       "    <tr>\n",
       "      <th>32</th>\n",
       "      <td>pophispanic</td>\n",
       "      <td>-2.289515</td>\n",
       "      <td>0.000000</td>\n",
       "    </tr>\n",
       "    <tr>\n",
       "      <th>57</th>\n",
       "      <td>year</td>\n",
       "      <td>-2.447721</td>\n",
       "      <td>0.000000</td>\n",
       "    </tr>\n",
       "    <tr>\n",
       "      <th>18</th>\n",
       "      <td>hpd_b_c_vio_per_unit</td>\n",
       "      <td>-2.538723</td>\n",
       "      <td>0.000000</td>\n",
       "    </tr>\n",
       "    <tr>\n",
       "      <th>22</th>\n",
       "      <td>average_energy_usage_mi</td>\n",
       "      <td>-2.541032</td>\n",
       "      <td>-1.657457</td>\n",
       "    </tr>\n",
       "    <tr>\n",
       "      <th>15</th>\n",
       "      <td>hpd_b_c_vio</td>\n",
       "      <td>-2.584893</td>\n",
       "      <td>0.000000</td>\n",
       "    </tr>\n",
       "    <tr>\n",
       "      <th>62</th>\n",
       "      <td>hhfelectricity</td>\n",
       "      <td>-2.620988</td>\n",
       "      <td>0.000000</td>\n",
       "    </tr>\n",
       "    <tr>\n",
       "      <th>45</th>\n",
       "      <td>oc_1_onehalf</td>\n",
       "      <td>-2.943379</td>\n",
       "      <td>0.000000</td>\n",
       "    </tr>\n",
       "    <tr>\n",
       "      <th>30</th>\n",
       "      <td>pop35_64</td>\n",
       "      <td>-6.013371</td>\n",
       "      <td>0.000000</td>\n",
       "    </tr>\n",
       "    <tr>\n",
       "      <th>7</th>\n",
       "      <td>assesstot</td>\n",
       "      <td>-11.444457</td>\n",
       "      <td>0.000000</td>\n",
       "    </tr>\n",
       "  </tbody>\n",
       "</table>\n",
       "</div>"
      ],
      "text/plain": [
       "                   Features  coef_alpha_0.1  coef_alpha_3\n",
       "16      viol_count_per_unit        9.263723      7.057609\n",
       "24                  popdens        8.281352      6.669201\n",
       "34               popnhblack        7.606042      5.441547\n",
       "3                 numfloors        6.776439      1.480824\n",
       "70             popsamehouse        6.214268      0.308154\n",
       "14             hpd_fire_vio        5.335933      3.263850\n",
       "49               roc_half_1        3.928316      1.040611\n",
       "28               pop18under        3.440628      0.000000\n",
       "6                assessland        3.349122      0.000000\n",
       "10                  holc_AB        2.976364      0.000000\n",
       "12                   holc_D        2.956772      1.555186\n",
       "8                 exempttot        2.295771      0.000000\n",
       "1                  bldgarea        2.294142      0.000000\n",
       "73              popmvdstate        1.992724      0.000000\n",
       "4                  unitsres        1.806278      0.000000\n",
       "11                  holc_CD        1.797705      0.000000\n",
       "0                   lotarea        1.518365      0.000000\n",
       "63           hhfoilkerosene        1.273458      0.301817\n",
       "33               popnhwhite        1.229320      0.000000\n",
       "35                popnhaian        1.224795      0.000000\n",
       "17    hpd_fire_vio_per_unit        0.945728      0.571662\n",
       "39             popnhtwoplus        0.818738      0.000000\n",
       "74             popmvdabroad        0.630857      0.000000\n",
       "31                pop65plus        0.491163      0.000000\n",
       "21     average_energy_usage        0.318498      0.000000\n",
       "64              hhfcoalwood        0.284735      0.000000\n",
       "9                 yearbuilt        0.129220     -0.000000\n",
       "19                       AL       -0.076136      0.000000\n",
       "37            popnhhawainpi       -0.170134      0.000000\n",
       "47                 oc_2plus       -0.220904      0.000000\n",
       "41          housingoccupied       -0.503002     -0.000000\n",
       "38               popnhother       -0.562895     -0.000000\n",
       "20                       NB       -0.564847     -0.000000\n",
       "46             oc_onehalf_2       -0.567811      0.000000\n",
       "51            roc_onehalf_2       -0.801979      0.000000\n",
       "2                  numbldgs       -0.832407      0.000000\n",
       "72         popmvddiffcounty       -0.859404      0.000000\n",
       "66             hhfotherfuel       -0.929523      0.000000\n",
       "25               areasqmile       -1.204145     -0.000000\n",
       "65           hhfsolarenergy       -1.331240     -0.000000\n",
       "36               popnhasian       -1.925834     -0.000000\n",
       "32              pophispanic       -2.289515      0.000000\n",
       "57                     year       -2.447721      0.000000\n",
       "18     hpd_b_c_vio_per_unit       -2.538723      0.000000\n",
       "22  average_energy_usage_mi       -2.541032     -1.657457\n",
       "15              hpd_b_c_vio       -2.584893      0.000000\n",
       "62           hhfelectricity       -2.620988      0.000000\n",
       "45             oc_1_onehalf       -2.943379      0.000000\n",
       "30                 pop35_64       -6.013371      0.000000\n",
       "7                 assesstot      -11.444457      0.000000"
      ]
     },
     "execution_count": 86,
     "metadata": {},
     "output_type": "execute_result"
    }
   ],
   "source": [
    "clf= linear_model.Lasso(fit_intercept = True, alpha = 3)\n",
    "clf.fit(X_train_l, y_train_l.iloc[:, 1])\n",
    "\n",
    "# feature selection from LASSOs\n",
    "# fewer features chosen\n",
    "coef_comp['coef_alpha_3']= clf.coef_\n",
    "lasso_coef= coef_comp.loc[coef_comp['coef_alpha_0.1'] != 0].sort_values('coef_alpha_0.1', ascending = False)\n",
    "lasso_coef"
   ]
  },
  {
   "cell_type": "code",
   "execution_count": 87,
   "id": "cda365ee",
   "metadata": {},
   "outputs": [
    {
     "data": {
      "text/html": [
       "<div>\n",
       "<style scoped>\n",
       "    .dataframe tbody tr th:only-of-type {\n",
       "        vertical-align: middle;\n",
       "    }\n",
       "\n",
       "    .dataframe tbody tr th {\n",
       "        vertical-align: top;\n",
       "    }\n",
       "\n",
       "    .dataframe thead th {\n",
       "        text-align: right;\n",
       "    }\n",
       "</style>\n",
       "<table border=\"1\" class=\"dataframe\">\n",
       "  <thead>\n",
       "    <tr style=\"text-align: right;\">\n",
       "      <th></th>\n",
       "      <th>Features</th>\n",
       "      <th>coef_alpha_0.1</th>\n",
       "      <th>coef_alpha_3</th>\n",
       "    </tr>\n",
       "  </thead>\n",
       "  <tbody>\n",
       "    <tr>\n",
       "      <th>16</th>\n",
       "      <td>viol_count_per_unit</td>\n",
       "      <td>9.263723</td>\n",
       "      <td>7.057609</td>\n",
       "    </tr>\n",
       "    <tr>\n",
       "      <th>24</th>\n",
       "      <td>popdens</td>\n",
       "      <td>8.281352</td>\n",
       "      <td>6.669201</td>\n",
       "    </tr>\n",
       "    <tr>\n",
       "      <th>34</th>\n",
       "      <td>popnhblack</td>\n",
       "      <td>7.606042</td>\n",
       "      <td>5.441547</td>\n",
       "    </tr>\n",
       "    <tr>\n",
       "      <th>3</th>\n",
       "      <td>numfloors</td>\n",
       "      <td>6.776439</td>\n",
       "      <td>1.480824</td>\n",
       "    </tr>\n",
       "    <tr>\n",
       "      <th>70</th>\n",
       "      <td>popsamehouse</td>\n",
       "      <td>6.214268</td>\n",
       "      <td>0.308154</td>\n",
       "    </tr>\n",
       "    <tr>\n",
       "      <th>14</th>\n",
       "      <td>hpd_fire_vio</td>\n",
       "      <td>5.335933</td>\n",
       "      <td>3.263850</td>\n",
       "    </tr>\n",
       "    <tr>\n",
       "      <th>49</th>\n",
       "      <td>roc_half_1</td>\n",
       "      <td>3.928316</td>\n",
       "      <td>1.040611</td>\n",
       "    </tr>\n",
       "    <tr>\n",
       "      <th>12</th>\n",
       "      <td>holc_D</td>\n",
       "      <td>2.956772</td>\n",
       "      <td>1.555186</td>\n",
       "    </tr>\n",
       "    <tr>\n",
       "      <th>63</th>\n",
       "      <td>hhfoilkerosene</td>\n",
       "      <td>1.273458</td>\n",
       "      <td>0.301817</td>\n",
       "    </tr>\n",
       "    <tr>\n",
       "      <th>17</th>\n",
       "      <td>hpd_fire_vio_per_unit</td>\n",
       "      <td>0.945728</td>\n",
       "      <td>0.571662</td>\n",
       "    </tr>\n",
       "    <tr>\n",
       "      <th>22</th>\n",
       "      <td>average_energy_usage_mi</td>\n",
       "      <td>-2.541032</td>\n",
       "      <td>-1.657457</td>\n",
       "    </tr>\n",
       "  </tbody>\n",
       "</table>\n",
       "</div>"
      ],
      "text/plain": [
       "                   Features  coef_alpha_0.1  coef_alpha_3\n",
       "16      viol_count_per_unit        9.263723      7.057609\n",
       "24                  popdens        8.281352      6.669201\n",
       "34               popnhblack        7.606042      5.441547\n",
       "3                 numfloors        6.776439      1.480824\n",
       "70             popsamehouse        6.214268      0.308154\n",
       "14             hpd_fire_vio        5.335933      3.263850\n",
       "49               roc_half_1        3.928316      1.040611\n",
       "12                   holc_D        2.956772      1.555186\n",
       "63           hhfoilkerosene        1.273458      0.301817\n",
       "17    hpd_fire_vio_per_unit        0.945728      0.571662\n",
       "22  average_energy_usage_mi       -2.541032     -1.657457"
      ]
     },
     "execution_count": 87,
     "metadata": {},
     "output_type": "execute_result"
    }
   ],
   "source": [
    "lasso_coef.loc[lasso_coef[\"coef_alpha_3\"] != 0, :]"
   ]
  },
  {
   "cell_type": "markdown",
   "id": "7e079ea3",
   "metadata": {},
   "source": [
    "# (1) Decision Trees and Random Forest Models\n",
    "* All are negative, suggests the model isn't performing very well"
   ]
  },
  {
   "cell_type": "code",
   "execution_count": 16,
   "id": "60740f10",
   "metadata": {},
   "outputs": [
    {
     "name": "stdout",
     "output_type": "stream",
     "text": [
      "\n",
      "Decision tree for dispatch_response_seconds_qy\n",
      "\n",
      "R2 for model 1: -0.2539904312169927\n",
      "R2 for model 2: -0.5204322883545001\n",
      "\n",
      "MSE for model 1: 466.55968902599915\n",
      "MSE for model 2: 565.6920483446758\n",
      "\n",
      "Decision tree for num_fire_ev\n",
      "\n",
      "R2 for model 1: -0.3442636811435651\n",
      "R2 for model 2: -0.39957846084260473\n",
      "\n",
      "MSE for model 1: 3405.7364399099115\n",
      "MSE for model 2: 3545.8782614358397\n",
      "\n",
      "Decision tree for avg_fire_ev_yr\n",
      "\n",
      "R2 for model 1: -0.3103923618085451\n",
      "R2 for model 2: -0.6413683718477088\n",
      "\n",
      "MSE for model 1: 11.205078484295143\n",
      "MSE for model 2: 14.035232472516828\n"
     ]
    }
   ],
   "source": [
    "from sklearn.metrics import mean_squared_error\n",
    "for c in range(3):\n",
    "    print(\"\\nDecision tree for\", outcomes[c])\n",
    "    print()\n",
    "    \n",
    "    dt1 = DecisionTreeRegressor(max_depth=10, random_state = 99)\n",
    "    dt1.fit(X_train, y_train.iloc[:, c])\n",
    "\n",
    "    dt2 = DecisionTreeRegressor(max_depth=15, random_state = 99)\n",
    "    dt2.fit(X_train, y_train.iloc[:, c])\n",
    "\n",
    "    y_pred1= dt1.predict(X_test)\n",
    "    y_pred2= dt2.predict(X_test)\n",
    "\n",
    "    print(\"R2 for model 1:\", dt1.score(X_test, y_test.iloc[:, c]))\n",
    "    print(\"R2 for model 2:\", dt2.score(X_test, y_test.iloc[:, c]))\n",
    "    \n",
    "    print(\"\\nMSE for model 1:\", mean_squared_error(y_test.iloc[:, c], y_pred1))\n",
    "    print(\"MSE for model 2:\", mean_squared_error(y_test.iloc[:, c], y_pred2))"
   ]
  },
  {
   "cell_type": "markdown",
   "id": "392fe285",
   "metadata": {},
   "source": [
    "## Tuning\n",
    "* There is a higher R2 for num_fire_ev and avg_fire_ev_yr\n",
    "* Seems to do well with a simpler model"
   ]
  },
  {
   "cell_type": "code",
   "execution_count": 28,
   "id": "b27412e4",
   "metadata": {},
   "outputs": [
    {
     "name": "stdout",
     "output_type": "stream",
     "text": [
      "\n",
      "Tuning decision tree for dispatch_response_seconds_qy\n",
      "{'max_depth': 2}\n",
      "0.02586193676640014\n",
      "\n",
      "Tuning decision tree for num_fire_ev\n",
      "{'max_depth': 3}\n",
      "0.21166829206465387\n",
      "\n",
      "Tuning decision tree for avg_fire_ev_yr\n",
      "{'max_depth': 3}\n",
      "0.14817060889500733\n"
     ]
    }
   ],
   "source": [
    "# use max_depth to control the complexity of the tre\n",
    "param_grid = {'max_depth':np.arange(1, 20)}\n",
    "bp= []\n",
    "s= []\n",
    "for c in range(3):\n",
    "    dt=DecisionTreeRegressor()\n",
    "    gr=GridSearchCV(dt,param_grid=param_grid)\n",
    "    rs=gr.fit(X_train,y_train.iloc[:, c])\n",
    "    \n",
    "    bp+= [rs.best_params_]\n",
    "    s+= [rs.score(X_test, y_test.iloc[:, c])]\n",
    "    \n",
    "    print(\"\\nTuning decision tree for\", outcomes[c])\n",
    "    print(rs.best_params_)\n",
    "    print(rs.score(X_test, y_test.iloc[:, c]))"
   ]
  },
  {
   "cell_type": "code",
   "execution_count": 29,
   "id": "c80f3533",
   "metadata": {},
   "outputs": [
    {
     "name": "stdout",
     "output_type": "stream",
     "text": [
      "[{'max_depth': 2}, {'max_depth': 3}, {'max_depth': 3}]\n",
      "[0.02586193676640014, 0.21166829206465387, 0.14817060889500733]\n"
     ]
    }
   ],
   "source": [
    "# the R2 is pretty low...\n",
    "print(bp)\n",
    "print(s)"
   ]
  },
  {
   "cell_type": "code",
   "execution_count": 17,
   "id": "b301dc25",
   "metadata": {},
   "outputs": [
    {
     "data": {
      "image/png": "[encoded data removed]",
      "text/plain": [
       "<IPython.core.display.Image object>"
      ]
     },
     "execution_count": 17,
     "metadata": {},
     "output_type": "execute_result"
    }
   ],
   "source": [
    "## can we visualize the decision tree?\n",
    "## for num_fire_ev\n",
    "from sklearn import tree\n",
    "from IPython.display import Image  \n",
    "import pydotplus\n",
    "\n",
    "dt = DecisionTreeRegressor(max_depth= 3, random_state = 99) #bp[1]['max_depth']) # since max depth is optimal for 3, use that\n",
    "dt.fit(X_train,y_train.iloc[:, 1])\n",
    "\n",
    "thestring = tree.export_graphviz(dt, out_file=None,  \n",
    "                         feature_names=X_train.columns.values, \n",
    "                         filled=True, rounded=True,  \n",
    "                         special_characters=True,impurity=False).replace(\" ;\\n}\", \" ;}\")\n",
    "graph = pydotplus.graph_from_dot_data(thestring);\n",
    "graph.write_png(os.join(plots,'num_fire_ev_dt.png'))\n",
    "Image(graph.create_png())"
   ]
  },
  {
   "cell_type": "markdown",
   "id": "dfb2cab2",
   "metadata": {},
   "source": [
    "## Feature Importance"
   ]
  },
  {
   "cell_type": "code",
   "execution_count": 22,
   "id": "84ca2e04",
   "metadata": {},
   "outputs": [
    {
     "data": {
      "text/html": [
       "<div>\n",
       "<style scoped>\n",
       "    .dataframe tbody tr th:only-of-type {\n",
       "        vertical-align: middle;\n",
       "    }\n",
       "\n",
       "    .dataframe tbody tr th {\n",
       "        vertical-align: top;\n",
       "    }\n",
       "\n",
       "    .dataframe thead th {\n",
       "        text-align: right;\n",
       "    }\n",
       "</style>\n",
       "<table border=\"1\" class=\"dataframe\">\n",
       "  <thead>\n",
       "    <tr style=\"text-align: right;\">\n",
       "      <th></th>\n",
       "      <th>variables</th>\n",
       "      <th>importance</th>\n",
       "    </tr>\n",
       "  </thead>\n",
       "  <tbody>\n",
       "    <tr>\n",
       "      <th>15</th>\n",
       "      <td>hpd_b_c_vio</td>\n",
       "      <td>0.591295</td>\n",
       "    </tr>\n",
       "    <tr>\n",
       "      <th>34</th>\n",
       "      <td>popnhblack</td>\n",
       "      <td>0.180239</td>\n",
       "    </tr>\n",
       "    <tr>\n",
       "      <th>24</th>\n",
       "      <td>popdens</td>\n",
       "      <td>0.097858</td>\n",
       "    </tr>\n",
       "    <tr>\n",
       "      <th>4</th>\n",
       "      <td>unitsres</td>\n",
       "      <td>0.069941</td>\n",
       "    </tr>\n",
       "    <tr>\n",
       "      <th>8</th>\n",
       "      <td>exempttot</td>\n",
       "      <td>0.031166</td>\n",
       "    </tr>\n",
       "    <tr>\n",
       "      <th>5</th>\n",
       "      <td>unitstotal</td>\n",
       "      <td>0.029501</td>\n",
       "    </tr>\n",
       "    <tr>\n",
       "      <th>67</th>\n",
       "      <td>hhfnofuel</td>\n",
       "      <td>0.0</td>\n",
       "    </tr>\n",
       "    <tr>\n",
       "      <th>66</th>\n",
       "      <td>hhfotherfuel</td>\n",
       "      <td>0.0</td>\n",
       "    </tr>\n",
       "    <tr>\n",
       "      <th>65</th>\n",
       "      <td>hhfsolarenergy</td>\n",
       "      <td>0.0</td>\n",
       "    </tr>\n",
       "    <tr>\n",
       "      <th>64</th>\n",
       "      <td>hhfcoalwood</td>\n",
       "      <td>0.0</td>\n",
       "    </tr>\n",
       "  </tbody>\n",
       "</table>\n",
       "</div>"
      ],
      "text/plain": [
       "         variables importance\n",
       "15     hpd_b_c_vio   0.591295\n",
       "34      popnhblack   0.180239\n",
       "24         popdens   0.097858\n",
       "4         unitsres   0.069941\n",
       "8        exempttot   0.031166\n",
       "5       unitstotal   0.029501\n",
       "67       hhfnofuel        0.0\n",
       "66    hhfotherfuel        0.0\n",
       "65  hhfsolarenergy        0.0\n",
       "64     hhfcoalwood        0.0"
      ]
     },
     "execution_count": 22,
     "metadata": {},
     "output_type": "execute_result"
    }
   ],
   "source": [
    "dt = DecisionTreeRegressor(random_state = 99, max_depth= 3) #rs.best_params_['max_depth'])\n",
    "dt.fit(X_train, y_train.iloc[:, 1])\n",
    "Feature_importance=pd.DataFrame([list(X_train.columns),list(dt.feature_importances_)]).T\n",
    "Feature_importance.columns=[\"variables\",\"importance\"]\n",
    "\n",
    "# list the top 10 most importnat features in order (using max_depth = 10)\n",
    "ft1= Feature_importance.sort_values(by=\"importance\",ascending=False).iloc[:10,:]\n",
    "ft1"
   ]
  },
  {
   "cell_type": "code",
   "execution_count": 23,
   "id": "8f326119",
   "metadata": {},
   "outputs": [
    {
     "data": {
      "text/html": [
       "<div>\n",
       "<style scoped>\n",
       "    .dataframe tbody tr th:only-of-type {\n",
       "        vertical-align: middle;\n",
       "    }\n",
       "\n",
       "    .dataframe tbody tr th {\n",
       "        vertical-align: top;\n",
       "    }\n",
       "\n",
       "    .dataframe thead th {\n",
       "        text-align: right;\n",
       "    }\n",
       "</style>\n",
       "<table border=\"1\" class=\"dataframe\">\n",
       "  <thead>\n",
       "    <tr style=\"text-align: right;\">\n",
       "      <th></th>\n",
       "      <th>variables</th>\n",
       "      <th>importance</th>\n",
       "    </tr>\n",
       "  </thead>\n",
       "  <tbody>\n",
       "    <tr>\n",
       "      <th>15</th>\n",
       "      <td>hpd_b_c_vio</td>\n",
       "      <td>0.504629</td>\n",
       "    </tr>\n",
       "    <tr>\n",
       "      <th>34</th>\n",
       "      <td>popnhblack</td>\n",
       "      <td>0.170224</td>\n",
       "    </tr>\n",
       "    <tr>\n",
       "      <th>24</th>\n",
       "      <td>popdens</td>\n",
       "      <td>0.083515</td>\n",
       "    </tr>\n",
       "    <tr>\n",
       "      <th>4</th>\n",
       "      <td>unitsres</td>\n",
       "      <td>0.059689</td>\n",
       "    </tr>\n",
       "    <tr>\n",
       "      <th>5</th>\n",
       "      <td>unitstotal</td>\n",
       "      <td>0.049187</td>\n",
       "    </tr>\n",
       "    <tr>\n",
       "      <th>14</th>\n",
       "      <td>hpd_fire_vio</td>\n",
       "      <td>0.04514</td>\n",
       "    </tr>\n",
       "    <tr>\n",
       "      <th>8</th>\n",
       "      <td>exempttot</td>\n",
       "      <td>0.026598</td>\n",
       "    </tr>\n",
       "    <tr>\n",
       "      <th>6</th>\n",
       "      <td>assessland</td>\n",
       "      <td>0.023892</td>\n",
       "    </tr>\n",
       "    <tr>\n",
       "      <th>36</th>\n",
       "      <td>popnhasian</td>\n",
       "      <td>0.015759</td>\n",
       "    </tr>\n",
       "    <tr>\n",
       "      <th>13</th>\n",
       "      <td>tot_hpd_vio</td>\n",
       "      <td>0.012273</td>\n",
       "    </tr>\n",
       "  </tbody>\n",
       "</table>\n",
       "</div>"
      ],
      "text/plain": [
       "       variables importance\n",
       "15   hpd_b_c_vio   0.504629\n",
       "34    popnhblack   0.170224\n",
       "24       popdens   0.083515\n",
       "4       unitsres   0.059689\n",
       "5     unitstotal   0.049187\n",
       "14  hpd_fire_vio    0.04514\n",
       "8      exempttot   0.026598\n",
       "6     assessland   0.023892\n",
       "36    popnhasian   0.015759\n",
       "13   tot_hpd_vio   0.012273"
      ]
     },
     "execution_count": 23,
     "metadata": {},
     "output_type": "execute_result"
    }
   ],
   "source": [
    "dt = DecisionTreeRegressor(max_depth=4, random_state = 99)\n",
    "dt.fit(X_train, y_train.iloc[:, 1])\n",
    "Feature_importance=pd.DataFrame([list(X_train.columns),list(dt.feature_importances_)]).T\n",
    "Feature_importance.columns=[\"variables\",\"importance\"]\n",
    "\n",
    "# list the top 10 most important features in order (using max_Depth = 4)\n",
    "ft2= Feature_importance.sort_values(by=\"importance\",ascending=False).iloc[:10,:]\n",
    "ft2"
   ]
  },
  {
   "cell_type": "code",
   "execution_count": 26,
   "id": "66461ee4",
   "metadata": {
    "scrolled": false
   },
   "outputs": [
    {
     "data": {
      "image/png": "[encoded data removed]",
      "text/plain": [
       "<Figure size 1200x400 with 1 Axes>"
      ]
     },
     "metadata": {
      "needs_background": "light"
     },
     "output_type": "display_data"
    }
   ],
   "source": [
    "plt.figure(figsize=(15, 5), dpi=80)\n",
    "plt.bar(ft2.sort_values(by=\"importance\",ascending=False).iloc[:,0],\n",
    "        ft2.sort_values(by=\"importance\",ascending=False).iloc[:,1])\n",
    "plt.title(\"Feature Importance\")\n",
    "\n",
    "plt.savefig(os.join(plots, \"feature_impt_dt.png\"))"
   ]
  },
  {
   "cell_type": "markdown",
   "id": "0ce37a77",
   "metadata": {},
   "source": [
    "## Random Forests\n",
    "* Only outcome is number of num_fire_ev"
   ]
  },
  {
   "cell_type": "code",
   "execution_count": 30,
   "id": "beb4ff90",
   "metadata": {},
   "outputs": [
    {
     "name": "stdout",
     "output_type": "stream",
     "text": [
      "R2 with random forest: 0.23544877440355838\n"
     ]
    }
   ],
   "source": [
    "from sklearn.ensemble import RandomForestRegressor\n",
    "rf = RandomForestRegressor(n_estimators=30, n_jobs=-1, max_depth = 4, random_state = 99)\n",
    "rf.fit(X_train, y_train.iloc[:, 1])\n",
    "y_pred=rf.predict(X_test)\n",
    "print(\"R2 with random forest:\", rf.score(X_test, y_test.iloc[:, 1]))"
   ]
  },
  {
   "cell_type": "code",
   "execution_count": 35,
   "id": "4cf9019c",
   "metadata": {},
   "outputs": [
    {
     "name": "stdout",
     "output_type": "stream",
     "text": [
      "{'max_depth': 6}\n",
      "R2 with best paramters: 0.2178149592334151\n"
     ]
    }
   ],
   "source": [
    "param_grid = {'max_depth':range(1,30)}\n",
    "rf = RandomForestRegressor(n_jobs=-1, n_estimators=30, random_state = 99)\n",
    "gs = GridSearchCV(rf,param_grid=param_grid)\n",
    "rs = gs.fit(X_train,y_train.iloc[:, 1])\n",
    "y_pred= rs.predict(X_test)\n",
    "\n",
    "print(rs.best_params_)\n",
    "print(\"R2 with best paramters:\", rs.score(X_test, y_test.iloc[:, 1]))"
   ]
  },
  {
   "cell_type": "markdown",
   "id": "684ae0d3",
   "metadata": {},
   "source": [
    "### CMM Method and Other Ensemble Methods\n",
    "* [From Domingos, 1998](https://citeseerx.ist.psu.edu/viewdoc/download?doi=10.1.1.40.2710&rep=rep1&type=pdf)\n",
    "* Not an improvement in accuracy compared to decision tree model"
   ]
  },
  {
   "cell_type": "code",
   "execution_count": 31,
   "id": "cbe20440",
   "metadata": {
    "scrolled": true
   },
   "outputs": [],
   "source": [
    "rf = RandomForestRegressor(n_jobs=-1, n_estimators=30, random_state = 99, max_depth = 6) #rs.best_params_['max_depth'])\n",
    "rf.fit(X_train,y_train.iloc[:, 1])\n",
    "\n",
    "# randomly generate a sample of xs\n",
    "X_rand= pd.DataFrame({x:X_train[x].sample(n = round(0.5*X_train.shape[0])).reset_index(drop = True) for x in X_train.columns})\n",
    "y_rand= rf.predict(X_rand)"
   ]
  },
  {
   "cell_type": "code",
   "execution_count": 32,
   "id": "0424f8a4",
   "metadata": {},
   "outputs": [],
   "source": [
    "# create the cmm training datasets\n",
    "X_train_cmm= pd.concat([X_rand, X_train], axis = 0, ignore_index = True)\n",
    "y_train_cmm= pd.concat([round(pd.DataFrame(y_rand)), y_train.iloc[:, 1]], axis = 0, ignore_index = True)"
   ]
  },
  {
   "cell_type": "code",
   "execution_count": 93,
   "id": "be377d94",
   "metadata": {},
   "outputs": [
    {
     "name": "stdout",
     "output_type": "stream",
     "text": [
      "{'max_depth': 3}\n",
      "0.14689373544692308\n"
     ]
    }
   ],
   "source": [
    "param_grid = {'max_depth':range(1,30)}\n",
    "dt=DecisionTreeRegressor()\n",
    "gr=GridSearchCV(dt,param_grid=param_grid)\n",
    "rs=gr.fit(X_train_cmm, y_train_cmm)\n",
    "\n",
    "print(rs.best_params_)\n",
    "print(rs.score(X_test, y_test.iloc[:, 1]))"
   ]
  },
  {
   "cell_type": "code",
   "execution_count": 39,
   "id": "3a3d11e8",
   "metadata": {},
   "outputs": [
    {
     "data": {
      "text/plain": [
       "array([86.11449275, 41.29473684, 16.88993654, ..., 16.88993654,\n",
       "       41.29473684, 50.91637871])"
      ]
     },
     "execution_count": 39,
     "metadata": {},
     "output_type": "execute_result"
    }
   ],
   "source": [
    "## prediction\n",
    "pred = rs.predict(X_test)\n",
    "pred"
   ]
  },
  {
   "cell_type": "code",
   "execution_count": 33,
   "id": "839e9934",
   "metadata": {},
   "outputs": [
    {
     "data": {
      "text/plain": [
       "DecisionTreeRegressor(max_depth=3, random_state=99)"
      ]
     },
     "execution_count": 33,
     "metadata": {},
     "output_type": "execute_result"
    }
   ],
   "source": [
    "dt = DecisionTreeRegressor(max_depth= 3, random_state = 99) #rs.best_params_['max_depth']) # since max depth is optimal for 3, use that\n",
    "dt.fit(X_train_cmm, y_train_cmm)"
   ]
  },
  {
   "cell_type": "code",
   "execution_count": 34,
   "id": "664e683b",
   "metadata": {},
   "outputs": [
    {
     "data": {
      "text/html": [
       "<div>\n",
       "<style scoped>\n",
       "    .dataframe tbody tr th:only-of-type {\n",
       "        vertical-align: middle;\n",
       "    }\n",
       "\n",
       "    .dataframe tbody tr th {\n",
       "        vertical-align: top;\n",
       "    }\n",
       "\n",
       "    .dataframe thead th {\n",
       "        text-align: right;\n",
       "    }\n",
       "</style>\n",
       "<table border=\"1\" class=\"dataframe\">\n",
       "  <thead>\n",
       "    <tr style=\"text-align: right;\">\n",
       "      <th></th>\n",
       "      <th>variables</th>\n",
       "      <th>importance</th>\n",
       "    </tr>\n",
       "  </thead>\n",
       "  <tbody>\n",
       "    <tr>\n",
       "      <th>15</th>\n",
       "      <td>hpd_b_c_vio</td>\n",
       "      <td>0.523769</td>\n",
       "    </tr>\n",
       "    <tr>\n",
       "      <th>24</th>\n",
       "      <td>popdens</td>\n",
       "      <td>0.157776</td>\n",
       "    </tr>\n",
       "    <tr>\n",
       "      <th>34</th>\n",
       "      <td>popnhblack</td>\n",
       "      <td>0.135106</td>\n",
       "    </tr>\n",
       "    <tr>\n",
       "      <th>14</th>\n",
       "      <td>hpd_fire_vio</td>\n",
       "      <td>0.065373</td>\n",
       "    </tr>\n",
       "    <tr>\n",
       "      <th>13</th>\n",
       "      <td>tot_hpd_vio</td>\n",
       "      <td>0.046398</td>\n",
       "    </tr>\n",
       "    <tr>\n",
       "      <th>8</th>\n",
       "      <td>exempttot</td>\n",
       "      <td>0.039167</td>\n",
       "    </tr>\n",
       "    <tr>\n",
       "      <th>16</th>\n",
       "      <td>viol_count_per_unit</td>\n",
       "      <td>0.03241</td>\n",
       "    </tr>\n",
       "  </tbody>\n",
       "</table>\n",
       "</div>"
      ],
      "text/plain": [
       "              variables importance\n",
       "15          hpd_b_c_vio   0.523769\n",
       "24              popdens   0.157776\n",
       "34           popnhblack   0.135106\n",
       "14         hpd_fire_vio   0.065373\n",
       "13          tot_hpd_vio   0.046398\n",
       "8             exempttot   0.039167\n",
       "16  viol_count_per_unit    0.03241"
      ]
     },
     "execution_count": 34,
     "metadata": {},
     "output_type": "execute_result"
    }
   ],
   "source": [
    "Feature_importance=pd.DataFrame([list(X_train_cmm.columns),list(dt.feature_importances_)]).T\n",
    "Feature_importance.columns=[\"variables\",\"importance\"]\n",
    "\n",
    "# list the top 10 most importnat features in order (using max_depth = 10)\n",
    "ft3= Feature_importance.sort_values(by=\"importance\",ascending=False)\n",
    "ft3.loc[ft3['importance']>0]"
   ]
  },
  {
   "cell_type": "code",
   "execution_count": 35,
   "id": "f7689633",
   "metadata": {},
   "outputs": [
    {
     "data": {
      "image/png": "[encoded data removed]",
      "text/plain": [
       "<IPython.core.display.Image object>"
      ]
     },
     "execution_count": 35,
     "metadata": {},
     "output_type": "execute_result"
    }
   ],
   "source": [
    "## we can plot this\n",
    "from sklearn import tree\n",
    "from IPython.display import Image  \n",
    "import pydotplus\n",
    "\n",
    "thestring = tree.export_graphviz(dt, out_file=None,  \n",
    "                         feature_names=X_train.columns.values, \n",
    "                         filled=True, rounded=True,  \n",
    "                         special_characters=True,impurity=False).replace(\" ;\\n}\", \" ;}\")\n",
    "graph = pydotplus.graph_from_dot_data(thestring);\n",
    "graph.write_png(os.join(plots,'num_fire_ev_cmm.png'))\n",
    "Image(graph.create_png())"
   ]
  },
  {
   "cell_type": "markdown",
   "id": "7ff4ac72",
   "metadata": {},
   "source": [
    "# (2) Bayes Nets"
   ]
  },
  {
   "cell_type": "code",
   "execution_count": 38,
   "id": "91434696",
   "metadata": {},
   "outputs": [],
   "source": [
    "from pgmpy.estimators import HillClimbSearch\n",
    "from pgmpy.estimators import K2Score, BicScore, BDeuScore\n",
    "from pgmpy.models import BayesianNetwork\n",
    "from pgmpy.estimators import BayesianEstimator\n",
    "import matplotlib.pyplot as plt"
   ]
  },
  {
   "cell_type": "code",
   "execution_count": 39,
   "id": "5d5b387a",
   "metadata": {},
   "outputs": [],
   "source": [
    "## need to discretize outcomes\n",
    "df_box_disc= df_box.copy()"
   ]
  },
  {
   "cell_type": "code",
   "execution_count": null,
   "id": "e6cc43c6",
   "metadata": {},
   "outputs": [
    {
     "data": {
      "image/png": "[encoded data removed]",
      "text/plain": [
       "<Figure size 432x288 with 1 Axes>"
      ]
     },
     "metadata": {
      "needs_background": "light"
     },
     "output_type": "display_data"
    },
    {
     "name": "stdout",
     "output_type": "stream",
     "text": [
      "None\n"
     ]
    },
    {
     "data": {
      "image/png": "[encoded data removed]",
      "text/plain": [
       "<Figure size 432x288 with 1 Axes>"
      ]
     },
     "metadata": {
      "needs_background": "light"
     },
     "output_type": "display_data"
    },
    {
     "name": "stdout",
     "output_type": "stream",
     "text": [
      "None\n"
     ]
    },
    {
     "data": {
      "image/png": "[encoded data removed]",
      "text/plain": [
       "<Figure size 432x288 with 1 Axes>"
      ]
     },
     "metadata": {
      "needs_background": "light"
     },
     "output_type": "display_data"
    },
    {
     "name": "stdout",
     "output_type": "stream",
     "text": [
      "None\n"
     ]
    },
    {
     "data": {
      "image/png": "[encoded data removed]",
      "text/plain": [
       "<Figure size 432x288 with 1 Axes>"
      ]
     },
     "metadata": {
      "needs_background": "light"
     },
     "output_type": "display_data"
    },
    {
     "name": "stdout",
     "output_type": "stream",
     "text": [
      "None\n"
     ]
    },
    {
     "data": {
      "image/png": "[encoded data removed]",
      "text/plain": [
       "<Figure size 432x288 with 1 Axes>"
      ]
     },
     "metadata": {
      "needs_background": "light"
     },
     "output_type": "display_data"
    },
    {
     "name": "stdout",
     "output_type": "stream",
     "text": [
      "None\n"
     ]
    }
   ],
   "source": [
    "# discretize each variable to four equal-frequency bins (quartiles)\n",
    "for i in df_box_disc.columns[1:]:\n",
    "    if len(df_box_disc.loc[:, i].unique()) > 5:\n",
    "        plt.hist(df_box_disc.loc[:, i], bins = 100);\n",
    "        plt.title(\"Histogram for {}\".format(i))\n",
    "        print(plt.show())\n",
    "        df_box_disc.loc[:, i] = pd.qcut(df_box_disc.loc[:, i], q=4, labels=False, duplicates = 'drop')"
   ]
  },
  {
   "cell_type": "code",
   "execution_count": null,
   "id": "077036e8",
   "metadata": {},
   "outputs": [],
   "source": [
    "## important vars\n",
    "impt_vars= outcomes[0:2] + ft1.loc[ft1['importance']>0, \"variables\"].tolist()\n",
    "impt_vars"
   ]
  },
  {
   "cell_type": "code",
   "execution_count": null,
   "id": "7eb919a4",
   "metadata": {},
   "outputs": [],
   "source": [
    "# create test train split for testing DAG\n",
    "train, test = train_test_split(df_box_disc.loc[:, impt_vars], test_size=0.3, random_state=999)"
   ]
  },
  {
   "cell_type": "code",
   "execution_count": null,
   "id": "3c2b2d19",
   "metadata": {
    "scrolled": true
   },
   "outputs": [],
   "source": [
    "# use hill climb search with BIC score, as in hw\n",
    "hc = HillClimbSearch(train)\n",
    "best_model = hc.estimate(scoring_method=BicScore(train))\n",
    "print(\"\\nDAG model edges:\")\n",
    "print(best_model.edges())"
   ]
  },
  {
   "cell_type": "code",
   "execution_count": null,
   "id": "32fe552d",
   "metadata": {},
   "outputs": [],
   "source": [
    "print(\"DAG model nodes:\")\n",
    "print(best_model.nodes())"
   ]
  },
  {
   "cell_type": "code",
   "execution_count": null,
   "id": "975c24d4",
   "metadata": {},
   "outputs": [],
   "source": [
    "# look at the CPD for the model\n",
    "model = BayesianNetwork(best_model.edges())\n",
    "model.fit(train.loc[:, impt_vars], estimator=BayesianEstimator, prior_type='BDeu', equivalent_sample_size=10)\n",
    "for cpd in model.get_cpds():\n",
    "    print(\"CPD of {variable}:\".format(variable=cpd.variable))\n",
    "    print(cpd)\n",
    "for n in model.nodes():\n",
    "    print(model.local_independencies(n))"
   ]
  },
  {
   "cell_type": "code",
   "execution_count": null,
   "id": "01b53ab5",
   "metadata": {},
   "outputs": [],
   "source": [
    "import networkx as nx\n",
    "import pylab as plt\n",
    "fig = plt.gcf()\n",
    "\n",
    "values = ['red' if n in ['num_fire_ev', 'dispatch_response_seconds_qy'] else 'lightblue' for n in model.nodes()]\n",
    "# use networkx to draw DAG\n",
    "nx.draw(model, node_color=values, with_labels=True, font_color='black', node_size=200,font_size=10)\n",
    "\n",
    "plt.figure(figsize = (12,10))\n",
    "fig.savefig('dag_.png')"
   ]
  },
  {
   "cell_type": "code",
   "execution_count": null,
   "id": "733f1e53",
   "metadata": {
    "scrolled": true
   },
   "outputs": [],
   "source": [
    "pred = model.predict(test.loc[:, [n for n in model.nodes() if n not in ['num_fire_ev', 'dispatch_response_seconds_qy']]])\n",
    "print(pred)"
   ]
  },
  {
   "cell_type": "code",
   "execution_count": null,
   "id": "0f450cd2",
   "metadata": {},
   "outputs": [],
   "source": [
    "for i in impt_vars[0:2]:\n",
    "    print(\"\\nOS accuracy for: {}\".format(i))\n",
    "    print((pred[i].reset_index(drop = True) == test[i].reset_index(drop = True)).mean())"
   ]
  },
  {
   "cell_type": "code",
   "execution_count": null,
   "id": "0350168c",
   "metadata": {},
   "outputs": [],
   "source": [
    "# prediction just for time to the fire\n",
    "pred = model.predict(test.loc[:, [n for n in model.nodes() if n not in ['dispatch_response_seconds_qy']]], stochastic = True)\n",
    "print(pred)"
   ]
  },
  {
   "cell_type": "code",
   "execution_count": null,
   "id": "d6ef2045",
   "metadata": {},
   "outputs": [],
   "source": [
    "print(\"\\nOS accuracy time to the fire, includes num_fire_ev as predictor\")\n",
    "print((pred['dispatch_response_seconds_qy'].reset_index(drop = True) == test['dispatch_response_seconds_qy'].reset_index(drop = True)).mean())"
   ]
  },
  {
   "cell_type": "markdown",
   "id": "0379fb65",
   "metadata": {},
   "source": [
    "### Re-run Bayes Net with Feature Selection from LASSO"
   ]
  },
  {
   "cell_type": "code",
   "execution_count": 56,
   "id": "f6e22b1c",
   "metadata": {},
   "outputs": [],
   "source": [
    "impt_vars= outcomes[0:2] + lasso_coef.loc[lasso_coef[\"coef_alpha_3\"] != 0, \"Features\"].tolist()"
   ]
  },
  {
   "cell_type": "code",
   "execution_count": 57,
   "id": "dc23959f",
   "metadata": {},
   "outputs": [],
   "source": [
    "# create test train split for testing DAG\n",
    "train, test = train_test_split(df_box_disc.loc[:, impt_vars], test_size=0.3, random_state=999)"
   ]
  },
  {
   "cell_type": "code",
   "execution_count": 58,
   "id": "ef222691",
   "metadata": {
    "scrolled": true
   },
   "outputs": [
    {
     "data": {
      "application/vnd.jupyter.widget-view+json": {
       "model_id": "a8d2d9da084e4b5ea6c6dbf71cd26e04",
       "version_major": 2,
       "version_minor": 0
      },
      "text/plain": [
       "  0%|          | 0/1000000 [00:00<?, ?it/s]"
      ]
     },
     "metadata": {},
     "output_type": "display_data"
    },
    {
     "name": "stdout",
     "output_type": "stream",
     "text": [
      "\n",
      "DAG model edges:\n",
      "[('num_fire_ev', 'dispatch_response_seconds_qy'), ('roc_half_1', 'popsamehouse'), ('viol_count_per_unit', 'holc_D'), ('viol_count_per_unit', 'popnhblack'), ('popdens', 'num_fire_ev'), ('numfloors', 'hpd_fire_vio'), ('numfloors', 'hhfoilkerosene'), ('numfloors', 'hpd_fire_vio_per_unit'), ('hpd_fire_vio', 'num_fire_ev'), ('hpd_fire_vio', 'hhfoilkerosene'), ('hpd_fire_vio', 'dispatch_response_seconds_qy'), ('popsamehouse', 'popdens'), ('popsamehouse', 'popnhblack'), ('popsamehouse', 'viol_count_per_unit'), ('hhfoilkerosene', 'roc_half_1'), ('hhfoilkerosene', 'popdens'), ('hpd_fire_vio_per_unit', 'viol_count_per_unit'), ('hpd_fire_vio_per_unit', 'roc_half_1'), ('hpd_fire_vio_per_unit', 'hpd_fire_vio'), ('hpd_fire_vio_per_unit', 'holc_D'), ('average_energy_usage_mi', 'numfloors'), ('average_energy_usage_mi', 'hpd_fire_vio'), ('average_energy_usage_mi', 'num_fire_ev'), ('average_energy_usage_mi', 'holc_D')]\n"
     ]
    }
   ],
   "source": [
    "# use hill climb search with BIC score, as in hw\n",
    "hc = HillClimbSearch(train)\n",
    "best_model = hc.estimate(scoring_method=BicScore(train))\n",
    "print(\"\\nDAG model edges:\")\n",
    "print(best_model.edges())"
   ]
  },
  {
   "cell_type": "code",
   "execution_count": 59,
   "id": "e01e17a1",
   "metadata": {},
   "outputs": [
    {
     "name": "stdout",
     "output_type": "stream",
     "text": [
      "DAG model nodes:\n",
      "['dispatch_response_seconds_qy', 'num_fire_ev', 'roc_half_1', 'viol_count_per_unit', 'popdens', 'numfloors', 'popnhblack', 'hpd_fire_vio', 'holc_D', 'popsamehouse', 'hhfoilkerosene', 'hpd_fire_vio_per_unit', 'average_energy_usage_mi']\n"
     ]
    }
   ],
   "source": [
    "print(\"DAG model nodes:\")\n",
    "print(best_model.nodes())"
   ]
  },
  {
   "cell_type": "code",
   "execution_count": 60,
   "id": "3a72d427",
   "metadata": {},
   "outputs": [
    {
     "name": "stdout",
     "output_type": "stream",
     "text": [
      "CPD of num_fire_ev:\n",
      "+-------------------------+----------------------------+-----+----------------------------+\n",
      "| average_energy_usage_mi | average_energy_usage_mi(0) | ... | average_energy_usage_mi(1) |\n",
      "+-------------------------+----------------------------+-----+----------------------------+\n",
      "| hpd_fire_vio            | hpd_fire_vio(0)            | ... | hpd_fire_vio(1)            |\n",
      "+-------------------------+----------------------------+-----+----------------------------+\n",
      "| popdens                 | popdens(0)                 | ... | popdens(3)                 |\n",
      "+-------------------------+----------------------------+-----+----------------------------+\n",
      "| num_fire_ev(0)          | 0.4798692360633173         | ... | 0.015881973556917124       |\n",
      "+-------------------------+----------------------------+-----+----------------------------+\n",
      "| num_fire_ev(1)          | 0.23761183757742602        | ... | 0.059738793937439534       |\n",
      "+-------------------------+----------------------------+-----+----------------------------+\n",
      "| num_fire_ev(2)          | 0.17154163799036476        | ... | 0.25322476620445017        |\n",
      "+-------------------------+----------------------------+-----+----------------------------+\n",
      "| num_fire_ev(3)          | 0.11097728836889195        | ... | 0.6711544663011931         |\n",
      "+-------------------------+----------------------------+-----+----------------------------+\n",
      "CPD of dispatch_response_seconds_qy:\n",
      "+---------------------------------+---------------------+-----+---------------------+---------------------+\n",
      "| hpd_fire_vio                    | hpd_fire_vio(0)     | ... | hpd_fire_vio(1)     | hpd_fire_vio(1)     |\n",
      "+---------------------------------+---------------------+-----+---------------------+---------------------+\n",
      "| num_fire_ev                     | num_fire_ev(0)      | ... | num_fire_ev(2)      | num_fire_ev(3)      |\n",
      "+---------------------------------+---------------------+-----+---------------------+---------------------+\n",
      "| dispatch_response_seconds_qy(0) | 0.45593231412517965 | ... | 0.22103918228279387 | 0.15745114880824565 |\n",
      "+---------------------------------+---------------------+-----+---------------------+---------------------+\n",
      "| dispatch_response_seconds_qy(1) | 0.11828694629557036 | ... | 0.3754968767745599  | 0.4941485935151385  |\n",
      "+---------------------------------+---------------------+-----+---------------------+---------------------+\n",
      "| dispatch_response_seconds_qy(2) | 0.14546583039330982 | ... | 0.30735377626348664 | 0.24935580846038222 |\n",
      "+---------------------------------+---------------------+-----+---------------------+---------------------+\n",
      "| dispatch_response_seconds_qy(3) | 0.28031490918594015 | ... | 0.09611016467915957 | 0.09904444921623362 |\n",
      "+---------------------------------+---------------------+-----+---------------------+---------------------+\n",
      "CPD of roc_half_1:\n",
      "+-----------------------+--------------------------+-----+--------------------------+--------------------------+\n",
      "| hhfoilkerosene        | hhfoilkerosene(0)        | ... | hhfoilkerosene(3)        | hhfoilkerosene(3)        |\n",
      "+-----------------------+--------------------------+-----+--------------------------+--------------------------+\n",
      "| hpd_fire_vio_per_unit | hpd_fire_vio_per_unit(0) | ... | hpd_fire_vio_per_unit(0) | hpd_fire_vio_per_unit(1) |\n",
      "+-----------------------+--------------------------+-----+--------------------------+--------------------------+\n",
      "| roc_half_1(0)         | 0.6723084662929424       | ... | 0.005980861244019139     | 0.000305399462496946     |\n",
      "+-----------------------+--------------------------+-----+--------------------------+--------------------------+\n",
      "| roc_half_1(1)         | 0.2543122035360069       | ... | 0.06227132001125809      | 0.0012826777424871732    |\n",
      "+-----------------------+--------------------------+-----+--------------------------+--------------------------+\n",
      "| roc_half_1(2)         | 0.06630012936610608      | ... | 0.3257106670419364       | 0.14885169802101147      |\n",
      "+-----------------------+--------------------------+-----+--------------------------+--------------------------+\n",
      "| roc_half_1(3)         | 0.00707920080494466      | ... | 0.6060371517027864       | 0.8495602247740044       |\n",
      "+-----------------------+--------------------------+-----+--------------------------+--------------------------+\n",
      "CPD of popsamehouse:\n",
      "+-----------------+------------------------+-----------------------+------------------------+------------------------+\n",
      "| roc_half_1      | roc_half_1(0)          | roc_half_1(1)         | roc_half_1(2)          | roc_half_1(3)          |\n",
      "+-----------------+------------------------+-----------------------+------------------------+------------------------+\n",
      "| popsamehouse(0) | 0.9107759766144033     | 0.08546617915904936   | 0.00032375032375032373 | 0.00033112582781456954 |\n",
      "+-----------------+------------------------+-----------------------+------------------------+------------------------+\n",
      "| popsamehouse(1) | 0.08855965984586765    | 0.8323974928179682    | 0.08734783734783735    | 0.00033112582781456954 |\n",
      "+-----------------+------------------------+-----------------------+------------------------+------------------------+\n",
      "| popsamehouse(2) | 0.00033218176986446983 | 0.08180987202925045   | 0.8078865578865578     | 0.09887417218543046    |\n",
      "+-----------------+------------------------+-----------------------+------------------------+------------------------+\n",
      "| popsamehouse(3) | 0.00033218176986446983 | 0.0003264559937320449 | 0.10444185444185444    | 0.9004635761589403     |\n",
      "+-----------------+------------------------+-----------------------+------------------------+------------------------+\n",
      "CPD of viol_count_per_unit:\n",
      "+------------------------+--------------------------+-----+--------------------------+--------------------------+\n",
      "| hpd_fire_vio_per_unit  | hpd_fire_vio_per_unit(0) | ... | hpd_fire_vio_per_unit(1) | hpd_fire_vio_per_unit(1) |\n",
      "+------------------------+--------------------------+-----+--------------------------+--------------------------+\n",
      "| popsamehouse           | popsamehouse(0)          | ... | popsamehouse(2)          | popsamehouse(3)          |\n",
      "+------------------------+--------------------------+-----+--------------------------+--------------------------+\n",
      "| viol_count_per_unit(0) | 0.6193953105717812       | ... | 0.0005470459518599562    | 0.00028325402220711536   |\n",
      "+------------------------+--------------------------+-----+--------------------------+--------------------------+\n",
      "| viol_count_per_unit(1) | 0.24588646647470178      | ... | 0.030306345733041574     | 0.009347382732834806     |\n",
      "+------------------------+--------------------------+-----+--------------------------+--------------------------+\n",
      "| viol_count_per_unit(2) | 0.09725078842725901      | ... | 0.2788840262582057       | 0.1915363698164514       |\n",
      "+------------------------+--------------------------+-----+--------------------------+--------------------------+\n",
      "| viol_count_per_unit(3) | 0.03746743452625806      | ... | 0.6902625820568927       | 0.7988329934285067       |\n",
      "+------------------------+--------------------------+-----+--------------------------+--------------------------+\n",
      "CPD of holc_D:\n",
      "+-------------------------+----------------------------+-----+----------------------------+\n",
      "| average_energy_usage_mi | average_energy_usage_mi(0) | ... | average_energy_usage_mi(1) |\n",
      "+-------------------------+----------------------------+-----+----------------------------+\n",
      "| hpd_fire_vio_per_unit   | hpd_fire_vio_per_unit(0)   | ... | hpd_fire_vio_per_unit(1)   |\n",
      "+-------------------------+----------------------------+-----+----------------------------+\n",
      "| viol_count_per_unit     | viol_count_per_unit(0)     | ... | viol_count_per_unit(3)     |\n",
      "+-------------------------+----------------------------+-----+----------------------------+\n",
      "| holc_D(0)               | 0.8553362122146823         | ... | 0.4266562878394741         |\n",
      "+-------------------------+----------------------------+-----+----------------------------+\n",
      "| holc_D(1)               | 0.14466378778531772        | ... | 0.5733437121605258         |\n",
      "+-------------------------+----------------------------+-----+----------------------------+\n",
      "CPD of popnhblack:\n",
      "+---------------------+------------------------+-----+------------------------+------------------------+\n",
      "| popsamehouse        | popsamehouse(0)        | ... | popsamehouse(3)        | popsamehouse(3)        |\n",
      "+---------------------+------------------------+-----+------------------------+------------------------+\n",
      "| viol_count_per_unit | viol_count_per_unit(0) | ... | viol_count_per_unit(2) | viol_count_per_unit(3) |\n",
      "+---------------------+------------------------+-----+------------------------+------------------------+\n",
      "| popnhblack(0)       | 0.7315920398009951     | ... | 0.06696156192800488    | 0.011307487647282403   |\n",
      "+---------------------+------------------------+-----+------------------------+------------------------+\n",
      "| popnhblack(1)       | 0.21417910447761193    | ... | 0.25406752084604434    | 0.08833776764221463    |\n",
      "+---------------------+------------------------+-----+------------------------+------------------------+\n",
      "| popnhblack(2)       | 0.0408236594803759     | ... | 0.3988712629652227     | 0.20591030026605853    |\n",
      "+---------------------+------------------------+-----+------------------------+------------------------+\n",
      "| popnhblack(3)       | 0.013405196241017136   | ... | 0.2800996542607281     | 0.6944444444444444     |\n",
      "+---------------------+------------------------+-----+------------------------+------------------------+\n",
      "CPD of popdens:\n",
      "+----------------+------------------------+-----+----------------------+------------------------+\n",
      "| hhfoilkerosene | hhfoilkerosene(0)      | ... | hhfoilkerosene(3)    | hhfoilkerosene(3)      |\n",
      "+----------------+------------------------+-----+----------------------+------------------------+\n",
      "| popsamehouse   | popsamehouse(0)        | ... | popsamehouse(2)      | popsamehouse(3)        |\n",
      "+----------------+------------------------+-----+----------------------+------------------------+\n",
      "| popdens(0)     | 0.9196583375828659     | ... | 0.011050093758371283 | 0.00011366736382649814 |\n",
      "+----------------+------------------------+-----+----------------------+------------------------+\n",
      "| popdens(1)     | 0.07845486996430392    | ... | 0.11177337262255559  | 0.005933436391743202   |\n",
      "+----------------+------------------------+-----+----------------------+------------------------+\n",
      "| popdens(2)     | 0.0017593064762876083  | ... | 0.6153897669434771   | 0.12669364372101483    |\n",
      "+----------------+------------------------+-----+----------------------+------------------------+\n",
      "| popdens(3)     | 0.00012748597654258032 | ... | 0.261786766675596    | 0.8672592525234155     |\n",
      "+----------------+------------------------+-----+----------------------+------------------------+\n",
      "CPD of numfloors:\n",
      "+-------------------------+----------------------------+----------------------------+\n",
      "| average_energy_usage_mi | average_energy_usage_mi(0) | average_energy_usage_mi(1) |\n",
      "+-------------------------+----------------------------+----------------------------+\n",
      "| numfloors(0)            | 0.03006827731092437        | 0.3229859894921191         |\n",
      "+-------------------------+----------------------------+----------------------------+\n",
      "| numfloors(1)            | 0.026391806722689076       | 0.32876532399299474        |\n",
      "+-------------------------+----------------------------+----------------------------+\n",
      "| numfloors(2)            | 0.16504726890756302        | 0.272723292469352          |\n",
      "+-------------------------+----------------------------+----------------------------+\n",
      "| numfloors(3)            | 0.7784926470588235         | 0.07552539404553416        |\n",
      "+-------------------------+----------------------------+----------------------------+\n",
      "CPD of hpd_fire_vio:\n",
      "+-------------------------+----------------------------+-----+----------------------------+\n",
      "| average_energy_usage_mi | average_energy_usage_mi(0) | ... | average_energy_usage_mi(1) |\n",
      "+-------------------------+----------------------------+-----+----------------------------+\n",
      "| hpd_fire_vio_per_unit   | hpd_fire_vio_per_unit(0)   | ... | hpd_fire_vio_per_unit(1)   |\n",
      "+-------------------------+----------------------------+-----+----------------------------+\n",
      "| numfloors               | numfloors(0)               | ... | numfloors(3)               |\n",
      "+-------------------------+----------------------------+-----+----------------------------+\n",
      "| hpd_fire_vio(0)         | 0.9584269662921349         | ... | 0.10642961519727229        |\n",
      "+-------------------------+----------------------------+-----+----------------------------+\n",
      "| hpd_fire_vio(1)         | 0.04157303370786517        | ... | 0.8935703848027278         |\n",
      "+-------------------------+----------------------------+-----+----------------------------+\n",
      "CPD of hhfoilkerosene:\n",
      "+-------------------+----------------------+-----+---------------------+----------------------+\n",
      "| hpd_fire_vio      | hpd_fire_vio(0)      | ... | hpd_fire_vio(1)     | hpd_fire_vio(1)      |\n",
      "+-------------------+----------------------+-----+---------------------+----------------------+\n",
      "| numfloors         | numfloors(0)         | ... | numfloors(2)        | numfloors(3)         |\n",
      "+-------------------+----------------------+-----+---------------------+----------------------+\n",
      "| hhfoilkerosene(0) | 0.48258590951306884  | ... | 0.09012539184952978 | 0.038886505041836515 |\n",
      "+-------------------+----------------------+-----+---------------------+----------------------+\n",
      "| hhfoilkerosene(1) | 0.2660541329441422   | ... | 0.15819525302283924 | 0.07664664235142674  |\n",
      "+-------------------+----------------------+-----+---------------------+----------------------+\n",
      "| hhfoilkerosene(2) | 0.20236831630622262  | ... | 0.31941334527541426 | 0.1830615747693628   |\n",
      "+-------------------+----------------------+-----+---------------------+----------------------+\n",
      "| hhfoilkerosene(3) | 0.048991641236566276 | ... | 0.43226600985221675 | 0.7014052778373739   |\n",
      "+-------------------+----------------------+-----+---------------------+----------------------+\n",
      "CPD of hpd_fire_vio_per_unit:\n",
      "+--------------------------+----------------------+---------------------+--------------------+--------------------+\n",
      "| numfloors                | numfloors(0)         | numfloors(1)        | numfloors(2)       | numfloors(3)       |\n",
      "+--------------------------+----------------------+---------------------+--------------------+--------------------+\n",
      "| hpd_fire_vio_per_unit(0) | 0.9814620036813042   | 0.8852140077821011  | 0.6814052898744323 | 0.4490462503266266 |\n",
      "+--------------------------+----------------------+---------------------+--------------------+--------------------+\n",
      "| hpd_fire_vio_per_unit(1) | 0.018537996318695765 | 0.11478599221789883 | 0.3185947101255677 | 0.5509537496733734 |\n",
      "+--------------------------+----------------------+---------------------+--------------------+--------------------+\n",
      "CPD of average_energy_usage_mi:\n",
      "+----------------------------+----------+\n",
      "| average_energy_usage_mi(0) | 0.250066 |\n",
      "+----------------------------+----------+\n",
      "| average_energy_usage_mi(1) | 0.749934 |\n",
      "+----------------------------+----------+\n",
      "(num_fire_ev ⟂ roc_half_1, hpd_fire_vio_per_unit, popnhblack, holc_D, numfloors, popsamehouse, hhfoilkerosene, viol_count_per_unit | hpd_fire_vio, average_energy_usage_mi, popdens)\n",
      "(dispatch_response_seconds_qy ⟂ roc_half_1, hpd_fire_vio_per_unit, average_energy_usage_mi, popnhblack, holc_D, popdens, numfloors, popsamehouse, hhfoilkerosene, viol_count_per_unit | num_fire_ev, hpd_fire_vio)\n",
      "(roc_half_1 ⟂ hpd_fire_vio, average_energy_usage_mi, numfloors | hpd_fire_vio_per_unit, hhfoilkerosene)\n",
      "(popsamehouse ⟂ hpd_fire_vio, hpd_fire_vio_per_unit, average_energy_usage_mi, numfloors, hhfoilkerosene | roc_half_1)\n",
      "(viol_count_per_unit ⟂ num_fire_ev, hpd_fire_vio, roc_half_1, average_energy_usage_mi, dispatch_response_seconds_qy, popdens, numfloors, hhfoilkerosene | popsamehouse, hpd_fire_vio_per_unit)\n",
      "(holc_D ⟂ num_fire_ev, hpd_fire_vio, roc_half_1, popnhblack, dispatch_response_seconds_qy, popdens, numfloors, popsamehouse, hhfoilkerosene | hpd_fire_vio_per_unit, average_energy_usage_mi, viol_count_per_unit)\n",
      "(popnhblack ⟂ num_fire_ev, roc_half_1, hpd_fire_vio, hpd_fire_vio_per_unit, average_energy_usage_mi, holc_D, dispatch_response_seconds_qy, popdens, numfloors, hhfoilkerosene | popsamehouse, viol_count_per_unit)\n",
      "(popdens ⟂ roc_half_1, hpd_fire_vio, hpd_fire_vio_per_unit, holc_D, numfloors, popnhblack, average_energy_usage_mi, viol_count_per_unit | popsamehouse, hhfoilkerosene)\n",
      "\n",
      "\n",
      "(hhfoilkerosene ⟂ hpd_fire_vio_per_unit, average_energy_usage_mi | hpd_fire_vio, numfloors)\n",
      "(hpd_fire_vio_per_unit ⟂ average_energy_usage_mi | numfloors)\n",
      "\n"
     ]
    }
   ],
   "source": [
    "# look at the CPD for the model\n",
    "model = BayesianNetwork(best_model.edges())\n",
    "model.fit(train.loc[:, impt_vars], estimator=BayesianEstimator, prior_type='BDeu', equivalent_sample_size=10)\n",
    "for cpd in model.get_cpds():\n",
    "    print(\"CPD of {variable}:\".format(variable=cpd.variable))\n",
    "    print(cpd)\n",
    "for n in model.nodes():\n",
    "    print(model.local_independencies(n))"
   ]
  },
  {
   "cell_type": "code",
   "execution_count": 61,
   "id": "671682db",
   "metadata": {},
   "outputs": [
    {
     "data": {
      "image/png": "[encoded data removed]",
      "text/plain": [
       "<Figure size 432x288 with 1 Axes>"
      ]
     },
     "metadata": {},
     "output_type": "display_data"
    },
    {
     "data": {
      "text/plain": [
       "<Figure size 864x720 with 0 Axes>"
      ]
     },
     "metadata": {},
     "output_type": "display_data"
    }
   ],
   "source": [
    "import networkx as nx\n",
    "import pylab as plt\n",
    "fig = plt.gcf()\n",
    "\n",
    "values = ['red' if n in ['num_fire_ev', 'dispatch_response_seconds_qy'] else 'lightblue' for n in model.nodes()]\n",
    "# use networkx to draw DAG\n",
    "nx.draw(model, node_color=values, with_labels=True, font_color='black', node_size=200,font_size=10)\n",
    "\n",
    "plt.figure(figsize = (12,10))\n",
    "fig.savefig('dag_.png')"
   ]
  },
  {
   "cell_type": "code",
   "execution_count": 62,
   "id": "c00eed26",
   "metadata": {
    "scrolled": true
   },
   "outputs": [
    {
     "data": {
      "application/vnd.jupyter.widget-view+json": {
       "model_id": "8013f00e317d4e5ba3ceb527b4eff4bf",
       "version_major": 2,
       "version_minor": 0
      },
      "text/plain": [
       "  0%|          | 0/1751 [00:00<?, ?it/s]"
      ]
     },
     "metadata": {},
     "output_type": "display_data"
    },
    {
     "name": "stdout",
     "output_type": "stream",
     "text": [
      "      num_fire_ev  dispatch_response_seconds_qy\n",
      "0               3                             1\n",
      "1               2                             2\n",
      "2               2                             2\n",
      "3               0                             0\n",
      "4               0                             0\n",
      "...           ...                           ...\n",
      "3255            3                             1\n",
      "3256            0                             0\n",
      "3257            0                             0\n",
      "3258            2                             2\n",
      "3259            0                             0\n",
      "\n",
      "[3260 rows x 2 columns]\n"
     ]
    }
   ],
   "source": [
    "pred = model.predict(test.loc[:, [n for n in model.nodes() if n not in ['num_fire_ev', 'dispatch_response_seconds_qy']]])\n",
    "print(pred)"
   ]
  },
  {
   "cell_type": "code",
   "execution_count": 63,
   "id": "4a022bc2",
   "metadata": {},
   "outputs": [
    {
     "name": "stdout",
     "output_type": "stream",
     "text": [
      "\n",
      "OS accuracy for: dispatch_response_seconds_qy\n",
      "0.3398773006134969\n",
      "\n",
      "OS accuracy for: num_fire_ev\n",
      "0.4803680981595092\n"
     ]
    }
   ],
   "source": [
    "for i in impt_vars[0:2]:\n",
    "    print(\"\\nOS accuracy for: {}\".format(i))\n",
    "    print((pred[i].reset_index(drop = True) == test[i].reset_index(drop = True)).mean())"
   ]
  },
  {
   "cell_type": "code",
   "execution_count": 64,
   "id": "3eb01da6",
   "metadata": {},
   "outputs": [
    {
     "data": {
      "application/vnd.jupyter.widget-view+json": {
       "model_id": "4a29b46cf8c5487fb576132c9a3b654f",
       "version_major": 2,
       "version_minor": 0
      },
      "text/plain": [
       "  0%|          | 0/2194 [00:00<?, ?it/s]"
      ]
     },
     "metadata": {},
     "output_type": "display_data"
    },
    {
     "name": "stdout",
     "output_type": "stream",
     "text": [
      "       dispatch_response_seconds_qy\n",
      "2261                              3\n",
      "1859                              3\n",
      "5182                              3\n",
      "5343                              0\n",
      "6263                              3\n",
      "...                             ...\n",
      "3325                              1\n",
      "4919                              0\n",
      "6346                              0\n",
      "2351                              3\n",
      "10018                             0\n",
      "\n",
      "[3260 rows x 1 columns]\n"
     ]
    }
   ],
   "source": [
    "# prediction just for time to the fire\n",
    "pred = model.predict(test.loc[:, [n for n in model.nodes() if n not in ['dispatch_response_seconds_qy']]], stochastic = True)\n",
    "print(pred)"
   ]
  },
  {
   "cell_type": "code",
   "execution_count": 65,
   "id": "9b4b202b",
   "metadata": {},
   "outputs": [
    {
     "name": "stdout",
     "output_type": "stream",
     "text": [
      "\n",
      "OS accuracy time to the fire, includes num_fire_ev as predictor\n",
      "0.2950920245398773\n"
     ]
    }
   ],
   "source": [
    "print(\"\\nOS accuracy time to the fire, includes num_fire_ev as predictor\")\n",
    "print((pred['dispatch_response_seconds_qy'].reset_index(drop = True) == test['dispatch_response_seconds_qy'].reset_index(drop = True)).mean())"
   ]
  },
  {
   "cell_type": "markdown",
   "id": "d5900213",
   "metadata": {},
   "source": [
    "### PC Method for Causal Model calculations"
   ]
  },
  {
   "cell_type": "code",
   "execution_count": 73,
   "id": "94b19f78",
   "metadata": {},
   "outputs": [],
   "source": [
    "from pgmpy.estimators import PC\n",
    "from pgmpy.estimators.CITests import chi_square"
   ]
  },
  {
   "cell_type": "code",
   "execution_count": 74,
   "id": "f4fc9d05",
   "metadata": {},
   "outputs": [
    {
     "data": {
      "text/plain": [
       "['num_fire_ev',\n",
       " 'hpd_b_c_vio',\n",
       " 'popdens',\n",
       " 'popnhblack',\n",
       " 'hpd_fire_vio',\n",
       " 'roc_halfless',\n",
       " 'exempttot',\n",
       " 'viol_count_per_unit']"
      ]
     },
     "execution_count": 74,
     "metadata": {},
     "output_type": "execute_result"
    }
   ],
   "source": [
    "## important vars\n",
    "impt_vars= outcomes[1:2] + ft3.loc[ft3['importance']>0, \"variables\"].tolist()\n",
    "impt_vars"
   ]
  },
  {
   "cell_type": "code",
   "execution_count": 75,
   "id": "26ccafff",
   "metadata": {},
   "outputs": [
    {
     "data": {
      "text/html": [
       "<div>\n",
       "<style scoped>\n",
       "    .dataframe tbody tr th:only-of-type {\n",
       "        vertical-align: middle;\n",
       "    }\n",
       "\n",
       "    .dataframe tbody tr th {\n",
       "        vertical-align: top;\n",
       "    }\n",
       "\n",
       "    .dataframe thead th {\n",
       "        text-align: right;\n",
       "    }\n",
       "</style>\n",
       "<table border=\"1\" class=\"dataframe\">\n",
       "  <thead>\n",
       "    <tr style=\"text-align: right;\">\n",
       "      <th></th>\n",
       "      <th>num_fire_ev</th>\n",
       "      <th>hpd_b_c_vio</th>\n",
       "      <th>popdens</th>\n",
       "      <th>popnhblack</th>\n",
       "      <th>hpd_fire_vio</th>\n",
       "      <th>roc_halfless</th>\n",
       "      <th>exempttot</th>\n",
       "      <th>viol_count_per_unit</th>\n",
       "    </tr>\n",
       "  </thead>\n",
       "  <tbody>\n",
       "    <tr>\n",
       "      <th>2058</th>\n",
       "      <td>0</td>\n",
       "      <td>1</td>\n",
       "      <td>1</td>\n",
       "      <td>0</td>\n",
       "      <td>0</td>\n",
       "      <td>1</td>\n",
       "      <td>2</td>\n",
       "      <td>2</td>\n",
       "    </tr>\n",
       "    <tr>\n",
       "      <th>5077</th>\n",
       "      <td>2</td>\n",
       "      <td>2</td>\n",
       "      <td>0</td>\n",
       "      <td>2</td>\n",
       "      <td>0</td>\n",
       "      <td>0</td>\n",
       "      <td>0</td>\n",
       "      <td>2</td>\n",
       "    </tr>\n",
       "    <tr>\n",
       "      <th>5775</th>\n",
       "      <td>2</td>\n",
       "      <td>2</td>\n",
       "      <td>2</td>\n",
       "      <td>2</td>\n",
       "      <td>0</td>\n",
       "      <td>1</td>\n",
       "      <td>0</td>\n",
       "      <td>2</td>\n",
       "    </tr>\n",
       "    <tr>\n",
       "      <th>5959</th>\n",
       "      <td>1</td>\n",
       "      <td>0</td>\n",
       "      <td>1</td>\n",
       "      <td>1</td>\n",
       "      <td>0</td>\n",
       "      <td>2</td>\n",
       "      <td>2</td>\n",
       "      <td>0</td>\n",
       "    </tr>\n",
       "    <tr>\n",
       "      <th>6683</th>\n",
       "      <td>1</td>\n",
       "      <td>2</td>\n",
       "      <td>3</td>\n",
       "      <td>1</td>\n",
       "      <td>1</td>\n",
       "      <td>3</td>\n",
       "      <td>2</td>\n",
       "      <td>2</td>\n",
       "    </tr>\n",
       "  </tbody>\n",
       "</table>\n",
       "</div>"
      ],
      "text/plain": [
       "      num_fire_ev  hpd_b_c_vio  popdens  popnhblack  hpd_fire_vio  \\\n",
       "2058            0            1        1           0             0   \n",
       "5077            2            2        0           2             0   \n",
       "5775            2            2        2           2             0   \n",
       "5959            1            0        1           1             0   \n",
       "6683            1            2        3           1             1   \n",
       "\n",
       "      roc_halfless  exempttot  viol_count_per_unit  \n",
       "2058             1          2                    2  \n",
       "5077             0          0                    2  \n",
       "5775             1          0                    2  \n",
       "5959             2          2                    0  \n",
       "6683             3          2                    2  "
      ]
     },
     "execution_count": 75,
     "metadata": {},
     "output_type": "execute_result"
    }
   ],
   "source": [
    "# create test train split for testing DAG\n",
    "train, test = train_test_split(df_box_disc.loc[:, impt_vars], test_size=0.3, random_state=999)\n",
    "train.head()"
   ]
  },
  {
   "cell_type": "code",
   "execution_count": 76,
   "id": "b45a6c63",
   "metadata": {},
   "outputs": [
    {
     "data": {
      "application/vnd.jupyter.widget-view+json": {
       "model_id": "a26d9ba9cf89462ab81b7b4eefdf3146",
       "version_major": 2,
       "version_minor": 0
      },
      "text/plain": [
       "  0%|          | 0/5 [00:00<?, ?it/s]"
      ]
     },
     "metadata": {},
     "output_type": "display_data"
    },
    {
     "name": "stdout",
     "output_type": "stream",
     "text": [
      "Undirected edges:  [('num_fire_ev', 'hpd_b_c_vio'), ('num_fire_ev', 'popdens'), ('num_fire_ev', 'popnhblack'), ('num_fire_ev', 'roc_halfless'), ('num_fire_ev', 'exempttot'), ('num_fire_ev', 'viol_count_per_unit'), ('hpd_b_c_vio', 'popnhblack'), ('hpd_b_c_vio', 'hpd_fire_vio'), ('hpd_b_c_vio', 'roc_halfless'), ('hpd_b_c_vio', 'exempttot'), ('hpd_b_c_vio', 'viol_count_per_unit'), ('popdens', 'popnhblack'), ('popdens', 'roc_halfless'), ('popdens', 'exempttot'), ('popdens', 'viol_count_per_unit'), ('popnhblack', 'roc_halfless'), ('popnhblack', 'exempttot'), ('popnhblack', 'viol_count_per_unit'), ('hpd_fire_vio', 'viol_count_per_unit'), ('roc_halfless', 'exempttot'), ('exempttot', 'viol_count_per_unit')]\n"
     ]
    }
   ],
   "source": [
    "pc_est = PC(train)\n",
    "\n",
    "# Step 1: construct undirected skeleton\n",
    "skel, separating_sets = pc_est.build_skeleton(significance_level=0.01)\n",
    "print(\"Undirected edges: \", skel.edges())"
   ]
  },
  {
   "cell_type": "code",
   "execution_count": 77,
   "id": "5837f81e",
   "metadata": {},
   "outputs": [
    {
     "name": "stdout",
     "output_type": "stream",
     "text": [
      "PDAG edges:        [('popdens', 'popnhblack'), ('popdens', 'roc_halfless'), ('popdens', 'exempttot'), ('popdens', 'viol_count_per_unit'), ('popnhblack', 'exempttot'), ('hpd_b_c_vio', 'roc_halfless'), ('hpd_b_c_vio', 'exempttot'), ('hpd_b_c_vio', 'popnhblack'), ('hpd_b_c_vio', 'hpd_fire_vio'), ('roc_halfless', 'popnhblack'), ('roc_halfless', 'num_fire_ev'), ('roc_halfless', 'exempttot'), ('num_fire_ev', 'popdens'), ('num_fire_ev', 'popnhblack'), ('num_fire_ev', 'hpd_b_c_vio'), ('num_fire_ev', 'exempttot'), ('exempttot', 'popnhblack'), ('hpd_fire_vio', 'viol_count_per_unit'), ('viol_count_per_unit', 'hpd_b_c_vio'), ('viol_count_per_unit', 'num_fire_ev')]\n"
     ]
    }
   ],
   "source": [
    "# Step 2: partially directed acyclic graph \n",
    "pdag = pc_est.skeleton_to_pdag(skel, separating_sets)\n",
    "print(\"PDAG edges:       \", pdag.edges())"
   ]
  },
  {
   "cell_type": "code",
   "execution_count": 78,
   "id": "c8d2bf63",
   "metadata": {},
   "outputs": [
    {
     "data": {
      "image/png": "[encoded data removed]",
      "text/plain": [
       "<Figure size 432x288 with 1 Axes>"
      ]
     },
     "metadata": {},
     "output_type": "display_data"
    },
    {
     "data": {
      "text/plain": [
       "<Figure size 864x720 with 0 Axes>"
      ]
     },
     "metadata": {},
     "output_type": "display_data"
    }
   ],
   "source": [
    "fig = plt.gcf()\n",
    "\n",
    "values = ['red' if n in ['num_fire_ev'] else 'lightblue' for n in pdag.nodes()]\n",
    "# use networkx to draw DAG\n",
    "nx.draw(pdag, node_color=values, with_labels=True, font_color='black', node_size=200,font_size=10)\n",
    "\n",
    "plt.figure(figsize = (12,10))\n",
    "fig.savefig('pdag_box.png')"
   ]
  },
  {
   "cell_type": "code",
   "execution_count": 79,
   "id": "6d0d086f",
   "metadata": {},
   "outputs": [
    {
     "data": {
      "application/vnd.jupyter.widget-view+json": {
       "model_id": "a940df7c34c547c789a3db96ce7f91bd",
       "version_major": 2,
       "version_minor": 0
      },
      "text/plain": [
       "  0%|          | 0/5 [00:00<?, ?it/s]"
      ]
     },
     "metadata": {},
     "output_type": "display_data"
    },
    {
     "name": "stdout",
     "output_type": "stream",
     "text": [
      "DAG edges:         [('popdens', 'viol_count_per_unit'), ('popdens', 'exempttot'), ('popdens', 'popnhblack'), ('popdens', 'roc_halfless'), ('popnhblack', 'exempttot'), ('hpd_b_c_vio', 'popnhblack'), ('hpd_b_c_vio', 'roc_halfless'), ('hpd_b_c_vio', 'hpd_fire_vio'), ('hpd_b_c_vio', 'exempttot'), ('roc_halfless', 'popnhblack'), ('roc_halfless', 'exempttot'), ('roc_halfless', 'num_fire_ev'), ('num_fire_ev', 'exempttot'), ('num_fire_ev', 'popnhblack'), ('num_fire_ev', 'popdens'), ('num_fire_ev', 'hpd_b_c_vio'), ('hpd_fire_vio', 'viol_count_per_unit'), ('viol_count_per_unit', 'hpd_b_c_vio'), ('viol_count_per_unit', 'num_fire_ev')]\n"
     ]
    },
    {
     "name": "stderr",
     "output_type": "stream",
     "text": [
      "C:\\Users\\Jennah\\anaconda3\\envs\\geo_env\\lib\\site-packages\\pgmpy\\base\\DAG.py:1187: UserWarning: PDAG has no faithful extension (= no oriented DAG with the same v-structures as PDAG). Remaining undirected PDAG edges oriented arbitrarily.\n",
      "  warn(\n"
     ]
    }
   ],
   "source": [
    "model = pc_est.estimate()\n",
    "print(\"DAG edges:        \", model.edges())"
   ]
  },
  {
   "cell_type": "code",
   "execution_count": 80,
   "id": "ae3f1de4",
   "metadata": {},
   "outputs": [
    {
     "data": {
      "image/png": "[encoded data removed]",
      "text/plain": [
       "<Figure size 432x288 with 1 Axes>"
      ]
     },
     "metadata": {},
     "output_type": "display_data"
    },
    {
     "data": {
      "text/plain": [
       "<Figure size 864x720 with 0 Axes>"
      ]
     },
     "metadata": {},
     "output_type": "display_data"
    }
   ],
   "source": [
    "fig = plt.gcf()\n",
    "\n",
    "values = ['red' if n in ['num_fire_ev'] else 'lightblue' for n in model.nodes()]\n",
    "# use networkx to draw DAG\n",
    "nx.draw(model, node_color=values, with_labels=True, font_color='black', node_size=200,font_size=10)\n",
    "\n",
    "plt.figure(figsize = (12,10))\n",
    "fig.savefig('model_pdag_est_box.png')"
   ]
  },
  {
   "cell_type": "code",
   "execution_count": null,
   "id": "1251bcdd",
   "metadata": {},
   "outputs": [],
   "source": []
  }
 ],
 "metadata": {
  "kernelspec": {
   "display_name": "geo_env",
   "language": "python",
   "name": "geo_env"
  },
  "language_info": {
   "codemirror_mode": {
    "name": "ipython",
    "version": 3
   },
   "file_extension": ".py",
   "mimetype": "text/x-python",
   "name": "python",
   "nbconvert_exporter": "python",
   "pygments_lexer": "ipython3",
   "version": "3.9.7"
  }
 },
 "nbformat": 4,
 "nbformat_minor": 5
}
